{
 "cells": [
  {
   "cell_type": "markdown",
   "metadata": {},
   "source": [
    "#  Movie Recommendation System"
   ]
  },
  {
   "cell_type": "markdown",
   "metadata": {},
   "source": [
    "## 1. Overview"
   ]
  },
  {
   "cell_type": "markdown",
   "metadata": {},
   "source": [
    "This project aims to develop a recommendation system that provides personalized movie recommendations based on user ratings. Utilizing the [MovieLens dataset](https://web.archive.org/web/20240828133414/https://grouplens.org/datasets/movielens/latest/) from the GroupLens research lab at the University of Minnesota, the model will be trained on a subset of the dataset containing 100,000 user ratings. \n",
    "\n",
    "This system can be valuable for streaming platforms and movie enthusiasts, offering tailored movie suggestions to enhance user experience and engagement.The project will involve several steps, including data cleaning, exploratory data analysis, feature engineering, model selection, and evaluation. \n",
    "\n",
    "Throughout this project, we will also explore the relationships between different variables and their impact on movie recommendations. This will help us gain insights into user preferences and identify potential areas for improvement. Overall, this project has the potential to provide valuable insights and practical applications for the entertainment industry. By developing a recommendation system that can accurately suggest movies, streaming platforms can better engage their users, improve customer satisfaction, and increase viewership."
   ]
  },
  {
   "cell_type": "markdown",
   "metadata": {},
   "source": [
    "## 2. Business Understanding"
   ]
  },
  {
   "cell_type": "markdown",
   "metadata": {},
   "source": [
    "The entertainment industry, particularly streaming platforms, is highly competitive, with companies constantly striving to enhance user engagement and satisfaction. One of the major challenges faced by these platforms is providing personalized content recommendations that keep users engaged and reduce churn rates.\n",
    "\n",
    "According to recent studies, personalized recommendations can significantly increase user engagement and satisfaction, leading to higher retention rates and increased viewership. This highlights the need for a robust recommendation system that can accurately suggest movies based on user preferences. By building a recommendation system that can provide top 5 movie recommendations to users based on their ratings of other movies, streaming platforms can offer a more tailored viewing experience.\n",
    "\n",
    "The business value of this project lies in its ability to help streaming platforms improve their content recommendation strategies, increase user satisfaction, and reduce churn rates. By developing a recommendation system that can accurately suggest movies, platforms can better engage their users, leading to increased viewership and subscription renewals. This can provide a competitive edge in the highly competitive entertainment industry, ultimately driving revenue growth and customer loyalty.\n",
    "\n",
    "#### Objective/ Business Problem:\n",
    "> ***Build a model that provides top 5 movie recommendations to a user, based on their ratings of other movies.***"
   ]
  },
  {
   "cell_type": "markdown",
   "metadata": {},
   "source": [
    "## 3. Data Understanding"
   ]
  },
  {
   "cell_type": "markdown",
   "metadata": {},
   "source": [
    "The data used in this repository can be found [here](https://files.grouplens.org/datasets/movielens/ml-latest-small.zip) . It is the MovieLens dataset from the GroupLens research lab at the University of Minnesota and it contains 100,000 user ratings. \n",
    "\n",
    "The data is contained in the following files:\n",
    "1. `movies.csv` - contains information about movies. Each record represents a movie. It has the following columns:\n",
    "   \n",
    "> - `movieId` - movie unique identifier.\n",
    "> - `title` - name of the movie and includes the year of release in parentheses\n",
    "> - `genres` - category under which a movie falls.\n",
    "\n",
    "2. `ratings.csv` - contains rating information. Each record represents one rating by one user for one movie. It has the following features:\n",
    "    \n",
    "> - `userId` - unique identifier for a user.\n",
    "> - `movieId` - movie unique identifier.\n",
    "> - `rating` - rating given by a user for a particular movie on a scale of 1 to 5\n",
    "> - `timestamp` - represent seconds since midnight Coordinated Universal Time (UTC) of January 1, 1970.\n",
    "\n",
    "3. `tags.csv` - Each row represents one tag applied to one movie by one user, and has the following features:\n",
    "\n",
    "> - `userId` - unique identifier for a user.\n",
    "> - `movieId` - movie unique identifier.\n",
    "> - `tag` - one word user-generated metadata about movies e.g. funny, sad etc\n",
    "> - `timestamp` - represent seconds since midnight Coordinated Universal Time (UTC) of January 1, 1970.\n",
    "\n",
    "`movieId` are consistent between `ratings.csv`, `tags.csv`, `movies.csv`, and `links.csv`. \n",
    "\n",
    "`userId` are consistent between `ratings.csv` and `tags.csv`."
   ]
  },
  {
   "cell_type": "markdown",
   "metadata": {},
   "source": [
    "## 4. Data Preparation and Cleaning\n"
   ]
  },
  {
   "cell_type": "markdown",
   "metadata": {},
   "source": [
    "\n",
    "In this section, we are going to the following:\n",
    "1. import the necessary libraries\n",
    "2. Preview data and ensure they are of correct datatypes\n",
    "3. load our datasets and merge them to have a final unified dataset\n",
    "4. Check for missing values & handle them\n",
    "5. Check for duplicates & handle them\n",
    "   "
   ]
  },
  {
   "cell_type": "code",
   "execution_count": 1,
   "metadata": {},
   "outputs": [],
   "source": [
    "# import necessary libraries\n",
    "import pandas as pd\n",
    "import numpy as np\n",
    "import matplotlib.pyplot as plt\n",
    "import seaborn as sns\n",
    "import sklearn\n",
    "\n",
    "from surprise import Dataset, Reader, SVD\n",
    "from surprise.model_selection import train_test_split, cross_validate, GridSearchCV\n",
    "from surprise.accuracy import rmse\n",
    "from surprise import accuracy\n",
    "from surprise.prediction_algorithms import KNNWithMeans, KNNBasic, KNNBaseline\n",
    "from surprise.similarities import cosine, msd, pearson\n"
   ]
  },
  {
   "cell_type": "code",
   "execution_count": 2,
   "metadata": {},
   "outputs": [
    {
     "data": {
      "text/html": [
       "<div>\n",
       "<style scoped>\n",
       "    .dataframe tbody tr th:only-of-type {\n",
       "        vertical-align: middle;\n",
       "    }\n",
       "\n",
       "    .dataframe tbody tr th {\n",
       "        vertical-align: top;\n",
       "    }\n",
       "\n",
       "    .dataframe thead th {\n",
       "        text-align: right;\n",
       "    }\n",
       "</style>\n",
       "<table border=\"1\" class=\"dataframe\">\n",
       "  <thead>\n",
       "    <tr style=\"text-align: right;\">\n",
       "      <th></th>\n",
       "      <th>movieId</th>\n",
       "      <th>title</th>\n",
       "      <th>genres</th>\n",
       "    </tr>\n",
       "  </thead>\n",
       "  <tbody>\n",
       "    <tr>\n",
       "      <th>0</th>\n",
       "      <td>1</td>\n",
       "      <td>Toy Story (1995)</td>\n",
       "      <td>Adventure|Animation|Children|Comedy|Fantasy</td>\n",
       "    </tr>\n",
       "    <tr>\n",
       "      <th>1</th>\n",
       "      <td>2</td>\n",
       "      <td>Jumanji (1995)</td>\n",
       "      <td>Adventure|Children|Fantasy</td>\n",
       "    </tr>\n",
       "    <tr>\n",
       "      <th>2</th>\n",
       "      <td>3</td>\n",
       "      <td>Grumpier Old Men (1995)</td>\n",
       "      <td>Comedy|Romance</td>\n",
       "    </tr>\n",
       "    <tr>\n",
       "      <th>3</th>\n",
       "      <td>4</td>\n",
       "      <td>Waiting to Exhale (1995)</td>\n",
       "      <td>Comedy|Drama|Romance</td>\n",
       "    </tr>\n",
       "    <tr>\n",
       "      <th>4</th>\n",
       "      <td>5</td>\n",
       "      <td>Father of the Bride Part II (1995)</td>\n",
       "      <td>Comedy</td>\n",
       "    </tr>\n",
       "  </tbody>\n",
       "</table>\n",
       "</div>"
      ],
      "text/plain": [
       "   movieId                               title  \\\n",
       "0        1                    Toy Story (1995)   \n",
       "1        2                      Jumanji (1995)   \n",
       "2        3             Grumpier Old Men (1995)   \n",
       "3        4            Waiting to Exhale (1995)   \n",
       "4        5  Father of the Bride Part II (1995)   \n",
       "\n",
       "                                        genres  \n",
       "0  Adventure|Animation|Children|Comedy|Fantasy  \n",
       "1                   Adventure|Children|Fantasy  \n",
       "2                               Comedy|Romance  \n",
       "3                         Comedy|Drama|Romance  \n",
       "4                                       Comedy  "
      ]
     },
     "execution_count": 2,
     "metadata": {},
     "output_type": "execute_result"
    }
   ],
   "source": [
    "# load movie data \n",
    "movie_data = pd.read_csv('data/movies.csv')\n",
    "movie_data.head()"
   ]
  },
  {
   "cell_type": "code",
   "execution_count": 3,
   "metadata": {},
   "outputs": [
    {
     "data": {
      "text/html": [
       "<div>\n",
       "<style scoped>\n",
       "    .dataframe tbody tr th:only-of-type {\n",
       "        vertical-align: middle;\n",
       "    }\n",
       "\n",
       "    .dataframe tbody tr th {\n",
       "        vertical-align: top;\n",
       "    }\n",
       "\n",
       "    .dataframe thead th {\n",
       "        text-align: right;\n",
       "    }\n",
       "</style>\n",
       "<table border=\"1\" class=\"dataframe\">\n",
       "  <thead>\n",
       "    <tr style=\"text-align: right;\">\n",
       "      <th></th>\n",
       "      <th>userId</th>\n",
       "      <th>movieId</th>\n",
       "      <th>rating</th>\n",
       "      <th>timestamp</th>\n",
       "    </tr>\n",
       "  </thead>\n",
       "  <tbody>\n",
       "    <tr>\n",
       "      <th>0</th>\n",
       "      <td>1</td>\n",
       "      <td>1</td>\n",
       "      <td>4.0</td>\n",
       "      <td>964982703</td>\n",
       "    </tr>\n",
       "    <tr>\n",
       "      <th>1</th>\n",
       "      <td>1</td>\n",
       "      <td>3</td>\n",
       "      <td>4.0</td>\n",
       "      <td>964981247</td>\n",
       "    </tr>\n",
       "    <tr>\n",
       "      <th>2</th>\n",
       "      <td>1</td>\n",
       "      <td>6</td>\n",
       "      <td>4.0</td>\n",
       "      <td>964982224</td>\n",
       "    </tr>\n",
       "    <tr>\n",
       "      <th>3</th>\n",
       "      <td>1</td>\n",
       "      <td>47</td>\n",
       "      <td>5.0</td>\n",
       "      <td>964983815</td>\n",
       "    </tr>\n",
       "    <tr>\n",
       "      <th>4</th>\n",
       "      <td>1</td>\n",
       "      <td>50</td>\n",
       "      <td>5.0</td>\n",
       "      <td>964982931</td>\n",
       "    </tr>\n",
       "  </tbody>\n",
       "</table>\n",
       "</div>"
      ],
      "text/plain": [
       "   userId  movieId  rating  timestamp\n",
       "0       1        1     4.0  964982703\n",
       "1       1        3     4.0  964981247\n",
       "2       1        6     4.0  964982224\n",
       "3       1       47     5.0  964983815\n",
       "4       1       50     5.0  964982931"
      ]
     },
     "execution_count": 3,
     "metadata": {},
     "output_type": "execute_result"
    }
   ],
   "source": [
    "# load ratings data\n",
    "ratings = pd.read_csv('data/ratings.csv')\n",
    "ratings.head()"
   ]
  },
  {
   "cell_type": "code",
   "execution_count": 4,
   "metadata": {},
   "outputs": [],
   "source": [
    "# \n",
    "tags = pd.read_csv('data/tags.csv')\n",
    "links = pd.read_csv('data/links.csv')"
   ]
  },
  {
   "cell_type": "code",
   "execution_count": 5,
   "metadata": {},
   "outputs": [
    {
     "data": {
      "text/html": [
       "<div>\n",
       "<style scoped>\n",
       "    .dataframe tbody tr th:only-of-type {\n",
       "        vertical-align: middle;\n",
       "    }\n",
       "\n",
       "    .dataframe tbody tr th {\n",
       "        vertical-align: top;\n",
       "    }\n",
       "\n",
       "    .dataframe thead th {\n",
       "        text-align: right;\n",
       "    }\n",
       "</style>\n",
       "<table border=\"1\" class=\"dataframe\">\n",
       "  <thead>\n",
       "    <tr style=\"text-align: right;\">\n",
       "      <th></th>\n",
       "      <th>movieId</th>\n",
       "      <th>title</th>\n",
       "      <th>genres</th>\n",
       "      <th>userId</th>\n",
       "      <th>rating</th>\n",
       "      <th>timestamp</th>\n",
       "    </tr>\n",
       "  </thead>\n",
       "  <tbody>\n",
       "    <tr>\n",
       "      <th>0</th>\n",
       "      <td>1</td>\n",
       "      <td>Toy Story (1995)</td>\n",
       "      <td>Adventure|Animation|Children|Comedy|Fantasy</td>\n",
       "      <td>1.0</td>\n",
       "      <td>4.0</td>\n",
       "      <td>9.649827e+08</td>\n",
       "    </tr>\n",
       "    <tr>\n",
       "      <th>1</th>\n",
       "      <td>1</td>\n",
       "      <td>Toy Story (1995)</td>\n",
       "      <td>Adventure|Animation|Children|Comedy|Fantasy</td>\n",
       "      <td>5.0</td>\n",
       "      <td>4.0</td>\n",
       "      <td>8.474350e+08</td>\n",
       "    </tr>\n",
       "    <tr>\n",
       "      <th>2</th>\n",
       "      <td>1</td>\n",
       "      <td>Toy Story (1995)</td>\n",
       "      <td>Adventure|Animation|Children|Comedy|Fantasy</td>\n",
       "      <td>7.0</td>\n",
       "      <td>4.5</td>\n",
       "      <td>1.106636e+09</td>\n",
       "    </tr>\n",
       "    <tr>\n",
       "      <th>3</th>\n",
       "      <td>1</td>\n",
       "      <td>Toy Story (1995)</td>\n",
       "      <td>Adventure|Animation|Children|Comedy|Fantasy</td>\n",
       "      <td>15.0</td>\n",
       "      <td>2.5</td>\n",
       "      <td>1.510578e+09</td>\n",
       "    </tr>\n",
       "    <tr>\n",
       "      <th>4</th>\n",
       "      <td>1</td>\n",
       "      <td>Toy Story (1995)</td>\n",
       "      <td>Adventure|Animation|Children|Comedy|Fantasy</td>\n",
       "      <td>17.0</td>\n",
       "      <td>4.5</td>\n",
       "      <td>1.305696e+09</td>\n",
       "    </tr>\n",
       "    <tr>\n",
       "      <th>...</th>\n",
       "      <td>...</td>\n",
       "      <td>...</td>\n",
       "      <td>...</td>\n",
       "      <td>...</td>\n",
       "      <td>...</td>\n",
       "      <td>...</td>\n",
       "    </tr>\n",
       "    <tr>\n",
       "      <th>100849</th>\n",
       "      <td>193581</td>\n",
       "      <td>Black Butler: Book of the Atlantic (2017)</td>\n",
       "      <td>Action|Animation|Comedy|Fantasy</td>\n",
       "      <td>184.0</td>\n",
       "      <td>4.0</td>\n",
       "      <td>1.537109e+09</td>\n",
       "    </tr>\n",
       "    <tr>\n",
       "      <th>100850</th>\n",
       "      <td>193583</td>\n",
       "      <td>No Game No Life: Zero (2017)</td>\n",
       "      <td>Animation|Comedy|Fantasy</td>\n",
       "      <td>184.0</td>\n",
       "      <td>3.5</td>\n",
       "      <td>1.537110e+09</td>\n",
       "    </tr>\n",
       "    <tr>\n",
       "      <th>100851</th>\n",
       "      <td>193585</td>\n",
       "      <td>Flint (2017)</td>\n",
       "      <td>Drama</td>\n",
       "      <td>184.0</td>\n",
       "      <td>3.5</td>\n",
       "      <td>1.537110e+09</td>\n",
       "    </tr>\n",
       "    <tr>\n",
       "      <th>100852</th>\n",
       "      <td>193587</td>\n",
       "      <td>Bungo Stray Dogs: Dead Apple (2018)</td>\n",
       "      <td>Action|Animation</td>\n",
       "      <td>184.0</td>\n",
       "      <td>3.5</td>\n",
       "      <td>1.537110e+09</td>\n",
       "    </tr>\n",
       "    <tr>\n",
       "      <th>100853</th>\n",
       "      <td>193609</td>\n",
       "      <td>Andrew Dice Clay: Dice Rules (1991)</td>\n",
       "      <td>Comedy</td>\n",
       "      <td>331.0</td>\n",
       "      <td>4.0</td>\n",
       "      <td>1.537158e+09</td>\n",
       "    </tr>\n",
       "  </tbody>\n",
       "</table>\n",
       "<p>100854 rows × 6 columns</p>\n",
       "</div>"
      ],
      "text/plain": [
       "        movieId                                      title  \\\n",
       "0             1                           Toy Story (1995)   \n",
       "1             1                           Toy Story (1995)   \n",
       "2             1                           Toy Story (1995)   \n",
       "3             1                           Toy Story (1995)   \n",
       "4             1                           Toy Story (1995)   \n",
       "...         ...                                        ...   \n",
       "100849   193581  Black Butler: Book of the Atlantic (2017)   \n",
       "100850   193583               No Game No Life: Zero (2017)   \n",
       "100851   193585                               Flint (2017)   \n",
       "100852   193587        Bungo Stray Dogs: Dead Apple (2018)   \n",
       "100853   193609        Andrew Dice Clay: Dice Rules (1991)   \n",
       "\n",
       "                                             genres  userId  rating  \\\n",
       "0       Adventure|Animation|Children|Comedy|Fantasy     1.0     4.0   \n",
       "1       Adventure|Animation|Children|Comedy|Fantasy     5.0     4.0   \n",
       "2       Adventure|Animation|Children|Comedy|Fantasy     7.0     4.5   \n",
       "3       Adventure|Animation|Children|Comedy|Fantasy    15.0     2.5   \n",
       "4       Adventure|Animation|Children|Comedy|Fantasy    17.0     4.5   \n",
       "...                                             ...     ...     ...   \n",
       "100849              Action|Animation|Comedy|Fantasy   184.0     4.0   \n",
       "100850                     Animation|Comedy|Fantasy   184.0     3.5   \n",
       "100851                                        Drama   184.0     3.5   \n",
       "100852                             Action|Animation   184.0     3.5   \n",
       "100853                                       Comedy   331.0     4.0   \n",
       "\n",
       "           timestamp  \n",
       "0       9.649827e+08  \n",
       "1       8.474350e+08  \n",
       "2       1.106636e+09  \n",
       "3       1.510578e+09  \n",
       "4       1.305696e+09  \n",
       "...              ...  \n",
       "100849  1.537109e+09  \n",
       "100850  1.537110e+09  \n",
       "100851  1.537110e+09  \n",
       "100852  1.537110e+09  \n",
       "100853  1.537158e+09  \n",
       "\n",
       "[100854 rows x 6 columns]"
      ]
     },
     "execution_count": 5,
     "metadata": {},
     "output_type": "execute_result"
    }
   ],
   "source": [
    "# merge datasets \n",
    "movies_and_ratings = pd.merge(movie_data, ratings, on = 'movieId', how = 'left')\n",
    "movies_and_ratings"
   ]
  },
  {
   "cell_type": "code",
   "execution_count": 6,
   "metadata": {},
   "outputs": [
    {
     "name": "stdout",
     "output_type": "stream",
     "text": [
      "<class 'pandas.core.frame.DataFrame'>\n",
      "RangeIndex: 100854 entries, 0 to 100853\n",
      "Data columns (total 6 columns):\n",
      " #   Column     Non-Null Count   Dtype  \n",
      "---  ------     --------------   -----  \n",
      " 0   movieId    100854 non-null  int64  \n",
      " 1   title      100854 non-null  object \n",
      " 2   genres     100854 non-null  object \n",
      " 3   userId     100836 non-null  float64\n",
      " 4   rating     100836 non-null  float64\n",
      " 5   timestamp  100836 non-null  float64\n",
      "dtypes: float64(3), int64(1), object(2)\n",
      "memory usage: 4.6+ MB\n"
     ]
    }
   ],
   "source": [
    "# get preview of data\n",
    "movies_and_ratings.info()"
   ]
  },
  {
   "cell_type": "markdown",
   "metadata": {},
   "source": [
    "Our dataset columns have the correct types, hence no need for type casting."
   ]
  },
  {
   "cell_type": "code",
   "execution_count": 7,
   "metadata": {},
   "outputs": [
    {
     "data": {
      "text/plain": [
       "movieId       0\n",
       "title         0\n",
       "genres        0\n",
       "userId       18\n",
       "rating       18\n",
       "timestamp    18\n",
       "dtype: int64"
      ]
     },
     "execution_count": 7,
     "metadata": {},
     "output_type": "execute_result"
    }
   ],
   "source": [
    "# check for missing values\n",
    "movies_and_ratings.isna().sum()"
   ]
  },
  {
   "cell_type": "code",
   "execution_count": 8,
   "metadata": {},
   "outputs": [
    {
     "data": {
      "text/plain": [
       "0"
      ]
     },
     "execution_count": 8,
     "metadata": {},
     "output_type": "execute_result"
    }
   ],
   "source": [
    "# check for duplicates\n",
    "movies_and_ratings.duplicated().sum()"
   ]
  },
  {
   "cell_type": "code",
   "execution_count": 9,
   "metadata": {},
   "outputs": [
    {
     "data": {
      "text/plain": [
       "movieId       0\n",
       "title         0\n",
       "genres        0\n",
       "userId       18\n",
       "rating       18\n",
       "timestamp    18\n",
       "dtype: int64"
      ]
     },
     "execution_count": 9,
     "metadata": {},
     "output_type": "execute_result"
    }
   ],
   "source": [
    "movies_and_ratings.isna().sum()"
   ]
  },
  {
   "cell_type": "markdown",
   "metadata": {},
   "source": [
    "We notice that there are a few missing values in the `userId`, `rating` and `timestamp` columns. Since the percentage is quite small, we decide to drop them."
   ]
  },
  {
   "cell_type": "code",
   "execution_count": 10,
   "metadata": {},
   "outputs": [],
   "source": [
    "# dropmissing values\n",
    "movies_and_ratings = movies_and_ratings.dropna(subset = ['userId'])"
   ]
  },
  {
   "cell_type": "code",
   "execution_count": 11,
   "metadata": {},
   "outputs": [],
   "source": [
    "# drop unneccesary columns\n",
    "# drop unnecessary columns\n",
    "movies_and_ratings = movies_and_ratings.drop(['timestamp'], axis=1)"
   ]
  },
  {
   "cell_type": "code",
   "execution_count": 12,
   "metadata": {},
   "outputs": [
    {
     "data": {
      "text/html": [
       "<div>\n",
       "<style scoped>\n",
       "    .dataframe tbody tr th:only-of-type {\n",
       "        vertical-align: middle;\n",
       "    }\n",
       "\n",
       "    .dataframe tbody tr th {\n",
       "        vertical-align: top;\n",
       "    }\n",
       "\n",
       "    .dataframe thead th {\n",
       "        text-align: right;\n",
       "    }\n",
       "</style>\n",
       "<table border=\"1\" class=\"dataframe\">\n",
       "  <thead>\n",
       "    <tr style=\"text-align: right;\">\n",
       "      <th></th>\n",
       "      <th>movieId</th>\n",
       "      <th>userId</th>\n",
       "      <th>rating</th>\n",
       "    </tr>\n",
       "  </thead>\n",
       "  <tbody>\n",
       "    <tr>\n",
       "      <th>count</th>\n",
       "      <td>100836.000000</td>\n",
       "      <td>100836.000000</td>\n",
       "      <td>100836.000000</td>\n",
       "    </tr>\n",
       "    <tr>\n",
       "      <th>mean</th>\n",
       "      <td>19435.295718</td>\n",
       "      <td>326.127564</td>\n",
       "      <td>3.501557</td>\n",
       "    </tr>\n",
       "    <tr>\n",
       "      <th>std</th>\n",
       "      <td>35530.987199</td>\n",
       "      <td>182.618491</td>\n",
       "      <td>1.042529</td>\n",
       "    </tr>\n",
       "    <tr>\n",
       "      <th>min</th>\n",
       "      <td>1.000000</td>\n",
       "      <td>1.000000</td>\n",
       "      <td>0.500000</td>\n",
       "    </tr>\n",
       "    <tr>\n",
       "      <th>25%</th>\n",
       "      <td>1199.000000</td>\n",
       "      <td>177.000000</td>\n",
       "      <td>3.000000</td>\n",
       "    </tr>\n",
       "    <tr>\n",
       "      <th>50%</th>\n",
       "      <td>2991.000000</td>\n",
       "      <td>325.000000</td>\n",
       "      <td>3.500000</td>\n",
       "    </tr>\n",
       "    <tr>\n",
       "      <th>75%</th>\n",
       "      <td>8122.000000</td>\n",
       "      <td>477.000000</td>\n",
       "      <td>4.000000</td>\n",
       "    </tr>\n",
       "    <tr>\n",
       "      <th>max</th>\n",
       "      <td>193609.000000</td>\n",
       "      <td>610.000000</td>\n",
       "      <td>5.000000</td>\n",
       "    </tr>\n",
       "  </tbody>\n",
       "</table>\n",
       "</div>"
      ],
      "text/plain": [
       "             movieId         userId         rating\n",
       "count  100836.000000  100836.000000  100836.000000\n",
       "mean    19435.295718     326.127564       3.501557\n",
       "std     35530.987199     182.618491       1.042529\n",
       "min         1.000000       1.000000       0.500000\n",
       "25%      1199.000000     177.000000       3.000000\n",
       "50%      2991.000000     325.000000       3.500000\n",
       "75%      8122.000000     477.000000       4.000000\n",
       "max    193609.000000     610.000000       5.000000"
      ]
     },
     "execution_count": 12,
     "metadata": {},
     "output_type": "execute_result"
    }
   ],
   "source": [
    "movies_and_ratings.describe()"
   ]
  },
  {
   "cell_type": "markdown",
   "metadata": {},
   "source": [
    "The minimum rating given is 0.5 with the maximum at 5.0. About 50% of our movies have a rating of 3.5, about 75% of our movies are rated 4.0."
   ]
  },
  {
   "cell_type": "markdown",
   "metadata": {},
   "source": [
    "## 5. Exploratory Data Analysis"
   ]
  },
  {
   "cell_type": "markdown",
   "metadata": {},
   "source": [
    "### 5.1 Univariate Analysis"
   ]
  },
  {
   "cell_type": "code",
   "execution_count": 13,
   "metadata": {},
   "outputs": [
    {
     "data": {
      "text/plain": [
       "movieId  title                                    \n",
       "1        Toy Story (1995)                             3.920930\n",
       "2        Jumanji (1995)                               3.431818\n",
       "3        Grumpier Old Men (1995)                      3.259615\n",
       "4        Waiting to Exhale (1995)                     2.357143\n",
       "5        Father of the Bride Part II (1995)           3.071429\n",
       "                                                        ...   \n",
       "193581   Black Butler: Book of the Atlantic (2017)    4.000000\n",
       "193583   No Game No Life: Zero (2017)                 3.500000\n",
       "193585   Flint (2017)                                 3.500000\n",
       "193587   Bungo Stray Dogs: Dead Apple (2018)          3.500000\n",
       "193609   Andrew Dice Clay: Dice Rules (1991)          4.000000\n",
       "Name: rating, Length: 9724, dtype: float64"
      ]
     },
     "execution_count": 13,
     "metadata": {},
     "output_type": "execute_result"
    }
   ],
   "source": [
    "avg_ratings = movies_and_ratings.groupby(['movieId', 'title'])['rating'].mean()\n",
    "avg_ratings"
   ]
  },
  {
   "cell_type": "code",
   "execution_count": 14,
   "metadata": {},
   "outputs": [
    {
     "data": {
      "text/plain": [
       "movieId  title                                    \n",
       "1        Toy Story (1995)                             215\n",
       "2        Jumanji (1995)                               110\n",
       "3        Grumpier Old Men (1995)                       52\n",
       "4        Waiting to Exhale (1995)                       7\n",
       "5        Father of the Bride Part II (1995)            49\n",
       "                                                     ... \n",
       "193581   Black Butler: Book of the Atlantic (2017)      1\n",
       "193583   No Game No Life: Zero (2017)                   1\n",
       "193585   Flint (2017)                                   1\n",
       "193587   Bungo Stray Dogs: Dead Apple (2018)            1\n",
       "193609   Andrew Dice Clay: Dice Rules (1991)            1\n",
       "Name: rating, Length: 9724, dtype: int64"
      ]
     },
     "execution_count": 14,
     "metadata": {},
     "output_type": "execute_result"
    }
   ],
   "source": [
    "# Count of the movie ratings\n",
    "movies_and_ratings.groupby(['movieId', 'title'])['rating'].count()"
   ]
  },
  {
   "cell_type": "code",
   "execution_count": 15,
   "metadata": {},
   "outputs": [
    {
     "data": {
      "text/html": [
       "<div>\n",
       "<style scoped>\n",
       "    .dataframe tbody tr th:only-of-type {\n",
       "        vertical-align: middle;\n",
       "    }\n",
       "\n",
       "    .dataframe tbody tr th {\n",
       "        vertical-align: top;\n",
       "    }\n",
       "\n",
       "    .dataframe thead th {\n",
       "        text-align: right;\n",
       "    }\n",
       "</style>\n",
       "<table border=\"1\" class=\"dataframe\">\n",
       "  <thead>\n",
       "    <tr style=\"text-align: right;\">\n",
       "      <th></th>\n",
       "      <th></th>\n",
       "      <th>rating</th>\n",
       "    </tr>\n",
       "    <tr>\n",
       "      <th>movieId</th>\n",
       "      <th>title</th>\n",
       "      <th></th>\n",
       "    </tr>\n",
       "  </thead>\n",
       "  <tbody>\n",
       "    <tr>\n",
       "      <th>1</th>\n",
       "      <th>Toy Story (1995)</th>\n",
       "      <td>3.920930</td>\n",
       "    </tr>\n",
       "    <tr>\n",
       "      <th>2</th>\n",
       "      <th>Jumanji (1995)</th>\n",
       "      <td>3.431818</td>\n",
       "    </tr>\n",
       "    <tr>\n",
       "      <th>3</th>\n",
       "      <th>Grumpier Old Men (1995)</th>\n",
       "      <td>3.259615</td>\n",
       "    </tr>\n",
       "    <tr>\n",
       "      <th>4</th>\n",
       "      <th>Waiting to Exhale (1995)</th>\n",
       "      <td>2.357143</td>\n",
       "    </tr>\n",
       "    <tr>\n",
       "      <th>5</th>\n",
       "      <th>Father of the Bride Part II (1995)</th>\n",
       "      <td>3.071429</td>\n",
       "    </tr>\n",
       "    <tr>\n",
       "      <th>...</th>\n",
       "      <th>...</th>\n",
       "      <td>...</td>\n",
       "    </tr>\n",
       "    <tr>\n",
       "      <th>193581</th>\n",
       "      <th>Black Butler: Book of the Atlantic (2017)</th>\n",
       "      <td>4.000000</td>\n",
       "    </tr>\n",
       "    <tr>\n",
       "      <th>193583</th>\n",
       "      <th>No Game No Life: Zero (2017)</th>\n",
       "      <td>3.500000</td>\n",
       "    </tr>\n",
       "    <tr>\n",
       "      <th>193585</th>\n",
       "      <th>Flint (2017)</th>\n",
       "      <td>3.500000</td>\n",
       "    </tr>\n",
       "    <tr>\n",
       "      <th>193587</th>\n",
       "      <th>Bungo Stray Dogs: Dead Apple (2018)</th>\n",
       "      <td>3.500000</td>\n",
       "    </tr>\n",
       "    <tr>\n",
       "      <th>193609</th>\n",
       "      <th>Andrew Dice Clay: Dice Rules (1991)</th>\n",
       "      <td>4.000000</td>\n",
       "    </tr>\n",
       "  </tbody>\n",
       "</table>\n",
       "<p>9724 rows × 1 columns</p>\n",
       "</div>"
      ],
      "text/plain": [
       "                                                     rating\n",
       "movieId title                                              \n",
       "1       Toy Story (1995)                           3.920930\n",
       "2       Jumanji (1995)                             3.431818\n",
       "3       Grumpier Old Men (1995)                    3.259615\n",
       "4       Waiting to Exhale (1995)                   2.357143\n",
       "5       Father of the Bride Part II (1995)         3.071429\n",
       "...                                                     ...\n",
       "193581  Black Butler: Book of the Atlantic (2017)  4.000000\n",
       "193583  No Game No Life: Zero (2017)               3.500000\n",
       "193585  Flint (2017)                               3.500000\n",
       "193587  Bungo Stray Dogs: Dead Apple (2018)        3.500000\n",
       "193609  Andrew Dice Clay: Dice Rules (1991)        4.000000\n",
       "\n",
       "[9724 rows x 1 columns]"
      ]
     },
     "execution_count": 15,
     "metadata": {},
     "output_type": "execute_result"
    }
   ],
   "source": [
    "# convert to dataframe\n",
    "ratings_new = pd.DataFrame(avg_ratings)\n",
    "ratings_new"
   ]
  },
  {
   "cell_type": "code",
   "execution_count": 16,
   "metadata": {},
   "outputs": [
    {
     "data": {
      "text/html": [
       "<div>\n",
       "<style scoped>\n",
       "    .dataframe tbody tr th:only-of-type {\n",
       "        vertical-align: middle;\n",
       "    }\n",
       "\n",
       "    .dataframe tbody tr th {\n",
       "        vertical-align: top;\n",
       "    }\n",
       "\n",
       "    .dataframe thead th {\n",
       "        text-align: right;\n",
       "    }\n",
       "</style>\n",
       "<table border=\"1\" class=\"dataframe\">\n",
       "  <thead>\n",
       "    <tr style=\"text-align: right;\">\n",
       "      <th></th>\n",
       "      <th></th>\n",
       "      <th>rating</th>\n",
       "      <th>num_of_ratings</th>\n",
       "    </tr>\n",
       "    <tr>\n",
       "      <th>movieId</th>\n",
       "      <th>title</th>\n",
       "      <th></th>\n",
       "      <th></th>\n",
       "    </tr>\n",
       "  </thead>\n",
       "  <tbody>\n",
       "    <tr>\n",
       "      <th>1</th>\n",
       "      <th>Toy Story (1995)</th>\n",
       "      <td>3.920930</td>\n",
       "      <td>215</td>\n",
       "    </tr>\n",
       "    <tr>\n",
       "      <th>2</th>\n",
       "      <th>Jumanji (1995)</th>\n",
       "      <td>3.431818</td>\n",
       "      <td>110</td>\n",
       "    </tr>\n",
       "    <tr>\n",
       "      <th>3</th>\n",
       "      <th>Grumpier Old Men (1995)</th>\n",
       "      <td>3.259615</td>\n",
       "      <td>52</td>\n",
       "    </tr>\n",
       "    <tr>\n",
       "      <th>4</th>\n",
       "      <th>Waiting to Exhale (1995)</th>\n",
       "      <td>2.357143</td>\n",
       "      <td>7</td>\n",
       "    </tr>\n",
       "    <tr>\n",
       "      <th>5</th>\n",
       "      <th>Father of the Bride Part II (1995)</th>\n",
       "      <td>3.071429</td>\n",
       "      <td>49</td>\n",
       "    </tr>\n",
       "  </tbody>\n",
       "</table>\n",
       "</div>"
      ],
      "text/plain": [
       "                                              rating  num_of_ratings\n",
       "movieId title                                                       \n",
       "1       Toy Story (1995)                    3.920930             215\n",
       "2       Jumanji (1995)                      3.431818             110\n",
       "3       Grumpier Old Men (1995)             3.259615              52\n",
       "4       Waiting to Exhale (1995)            2.357143               7\n",
       "5       Father of the Bride Part II (1995)  3.071429              49"
      ]
     },
     "execution_count": 16,
     "metadata": {},
     "output_type": "execute_result"
    }
   ],
   "source": [
    "ratings_new['num_of_ratings'] = pd.DataFrame(movies_and_ratings.groupby(['movieId', 'title'])['rating'].count())\n",
    "ratings_new.head()"
   ]
  },
  {
   "cell_type": "markdown",
   "metadata": {},
   "source": [
    "#### 5.1.1 - Distribution of Number of Ratings per Movie"
   ]
  },
  {
   "cell_type": "code",
   "execution_count": 17,
   "metadata": {},
   "outputs": [
    {
     "data": {
      "image/png": "[encoded data removed]",
      "text/plain": [
       "<Figure size 1000x600 with 1 Axes>"
      ]
     },
     "metadata": {},
     "output_type": "display_data"
    }
   ],
   "source": [
    "plt.figure(figsize=(10,6))\n",
    "sns.histplot(x = ratings_new['num_of_ratings'], bins=50, kde=False, color='blue')\n",
    "plt.title('Distribution of Number of Ratings per Movie')\n",
    "plt.xlabel('Number of Ratings')\n",
    "plt.ylabel('Frequency')\n",
    "plt.grid(True)\n",
    "plt.show()"
   ]
  },
  {
   "cell_type": "markdown",
   "metadata": {},
   "source": [
    "The distribution of the number of ratings per movie is rightly skewed. This implies that majority of the movies have less than 50 ratings with a few having above 100 ratings for a single movie. 50% of the movies have fewer than 50 ratings."
   ]
  },
  {
   "cell_type": "code",
   "execution_count": 18,
   "metadata": {},
   "outputs": [],
   "source": [
    "# ratings_new['num_of_ratings'].value_counts(normalize = True)"
   ]
  },
  {
   "cell_type": "markdown",
   "metadata": {},
   "source": [
    "#### 5.1.2 - Distribution of Ratings"
   ]
  },
  {
   "cell_type": "code",
   "execution_count": 19,
   "metadata": {},
   "outputs": [
    {
     "data": {
      "image/png": "[encoded data removed]",
      "text/plain": [
       "<Figure size 1000x600 with 1 Axes>"
      ]
     },
     "metadata": {},
     "output_type": "display_data"
    }
   ],
   "source": [
    "plt.figure(figsize=(10,6))\n",
    "sns.histplot(x = ratings_new['rating'],  kde=False, color='blue')\n",
    "plt.title('Distribution of Ratings')\n",
    "plt.xlabel('Ratings (on a scale of 1 to 5)')\n",
    "plt.ylabel('Frequency')\n",
    "plt.grid(True)\n",
    "plt.show()"
   ]
  },
  {
   "cell_type": "code",
   "execution_count": 20,
   "metadata": {},
   "outputs": [],
   "source": [
    "# binning \n",
    "bins = [0, 1, 2, 3, 4, 5]\n",
    "ratings_new['rating_binned'] = pd.cut(ratings_new['rating'], bins=bins,  right=True)\n"
   ]
  },
  {
   "cell_type": "code",
   "execution_count": 21,
   "metadata": {},
   "outputs": [
    {
     "data": {
      "text/plain": [
       "rating_binned\n",
       "(0, 1]    0.026532\n",
       "(1, 2]    0.084430\n",
       "(4, 5]    0.129576\n",
       "(2, 3]    0.266968\n",
       "(3, 4]    0.492493\n",
       "Name: proportion, dtype: float64"
      ]
     },
     "execution_count": 21,
     "metadata": {},
     "output_type": "execute_result"
    }
   ],
   "source": [
    "ratings_new['rating_binned'].value_counts(normalize = True).sort_values()"
   ]
  },
  {
   "cell_type": "markdown",
   "metadata": {},
   "source": [
    "Around 49% of movies receive ratings between 3 and 4. This implies that most movies receive above average ratings and fewer movies receive extremely low or high ratings."
   ]
  },
  {
   "cell_type": "markdown",
   "metadata": {},
   "source": [
    "### 5.2 Bivariate Analysis"
   ]
  },
  {
   "cell_type": "markdown",
   "metadata": {},
   "source": [
    "#### 5.1.2 -  Number of Ratings per User"
   ]
  },
  {
   "cell_type": "code",
   "execution_count": 22,
   "metadata": {},
   "outputs": [
    {
     "data": {
      "image/png": "[encoded data removed]",
      "text/plain": [
       "<Figure size 1000x600 with 1 Axes>"
      ]
     },
     "metadata": {},
     "output_type": "display_data"
    }
   ],
   "source": [
    "# calculate number of ratings per user\n",
    "# Number of ratings per user\n",
    "user_ratings_count = movies_and_ratings.groupby('userId').size()\n",
    "\n",
    "plt.figure(figsize=(10, 6))\n",
    "sns.histplot(user_ratings_count, bins=50, kde=False, color = 'blue')\n",
    "plt.title('Number of Ratings per User')\n",
    "plt.xlabel('Number of Ratings')\n",
    "plt.ylabel('Count of Users')\n",
    "plt.show()"
   ]
  },
  {
   "cell_type": "markdown",
   "metadata": {},
   "source": [
    "#### 5.1.2 - Most Popular Movies"
   ]
  },
  {
   "cell_type": "code",
   "execution_count": 23,
   "metadata": {},
   "outputs": [
    {
     "data": {
      "image/png": "[encoded data removed]",
      "text/plain": [
       "<Figure size 1200x600 with 1 Axes>"
      ]
     },
     "metadata": {},
     "output_type": "display_data"
    },
    {
     "name": "stdout",
     "output_type": "stream",
     "text": [
      "\n",
      "Top 15 Most Rated Movies:\n",
      "                                                title  number_of_ratings\n",
      "                               American Beauty (1999)                204\n",
      "                           Usual Suspects, The (1995)                204\n",
      "Star Wars: Episode V - The Empire Strikes Back (1980)                211\n",
      "                                     Toy Story (1995)                215\n",
      "                                    Fight Club (1999)                218\n",
      "                              Schindler's List (1993)                220\n",
      "                    Terminator 2: Judgment Day (1991)                224\n",
      "                                    Braveheart (1995)                237\n",
      "                                 Jurassic Park (1993)                238\n",
      "            Star Wars: Episode IV - A New Hope (1977)                251\n",
      "                                   Matrix, The (1999)                278\n",
      "                     Silence of the Lambs, The (1991)                279\n",
      "                                  Pulp Fiction (1994)                307\n",
      "                     Shawshank Redemption, The (1994)                317\n",
      "                                  Forrest Gump (1994)                329\n"
     ]
    }
   ],
   "source": [
    "# Group by movie title and count the number of ratings\n",
    "movie_ratings_count = movies_and_ratings.groupby('title')['rating'].count().reset_index()\n",
    "movie_ratings_count.columns = ['title', 'number_of_ratings']\n",
    "\n",
    "# Sort by number of ratings and get top 15\n",
    "top_rated_movies = movie_ratings_count.sort_values('number_of_ratings').tail(15)\n",
    "\n",
    "# Create the plot\n",
    "plt.figure(figsize=(12, 6))\n",
    "bars = plt.barh(y=range(len(top_rated_movies)), width=top_rated_movies['number_of_ratings'],\n",
    "                color=sns.color_palette(\"viridis\", len(top_rated_movies)))\n",
    "\n",
    "# Customize the plot\n",
    "plt.yticks(range(len(top_rated_movies)), top_rated_movies['title'], fontsize=10)\n",
    "plt.xlabel('Number of Ratings', fontsize=12)\n",
    "plt.title('Top 15 Most Popular Movies', fontsize=14, pad=10)\n",
    "\n",
    "# Add number of ratings to the end of each bar\n",
    "for i, bar in enumerate(bars):\n",
    "    width = bar.get_width()\n",
    "    plt.text(width, bar.get_y() + bar.get_height()/2, \n",
    "             f'{width:,.0f}',  # Format number with commas\n",
    "             va='center', ha='left', fontsize=10, fontweight='bold')\n",
    "\n",
    "plt.tight_layout()\n",
    "plt.show()\n",
    "\n",
    "# Print the data\n",
    "print(\"\\nTop 15 Most Rated Movies:\")\n",
    "print(top_rated_movies.to_string(index=False))"
   ]
  },
  {
   "cell_type": "markdown",
   "metadata": {},
   "source": [
    "#### 5.1.2 - Top 15 Movies by Average Ratings"
   ]
  },
  {
   "cell_type": "code",
   "execution_count": 24,
   "metadata": {},
   "outputs": [
    {
     "data": {
      "image/png": "[encoded data removed]",
      "text/plain": [
       "<Figure size 1200x600 with 1 Axes>"
      ]
     },
     "metadata": {},
     "output_type": "display_data"
    },
    {
     "name": "stdout",
     "output_type": "stream",
     "text": [
      "\n",
      "Top 15 Movies Data:\n",
      "                                                title  avg_rating  num_ratings\n",
      "Star Wars: Episode V - The Empire Strikes Back (1980)    4.215640          211\n",
      "                            American History X (1998)    4.217054          129\n",
      "                                Apocalypse Now (1979)    4.219626          107\n",
      "                              Schindler's List (1993)    4.225000          220\n",
      "            Star Wars: Episode IV - A New Hope (1977)    4.231076          251\n",
      "                           Princess Bride, The (1987)    4.232394          142\n",
      "                           Usual Suspects, The (1995)    4.237745          204\n",
      "                              Dark Knight, The (2008)    4.238255          149\n",
      "                                    Casablanca (1942)    4.240000          100\n",
      "                                    Goodfellas (1990)    4.250000          126\n",
      "                                 Departed, The (2006)    4.252336          107\n",
      "                       Godfather: Part II, The (1974)    4.259690          129\n",
      "                                    Fight Club (1999)    4.272936          218\n",
      "                                Godfather, The (1972)    4.289062          192\n",
      "                     Shawshank Redemption, The (1994)    4.429022          317\n"
     ]
    }
   ],
   "source": [
    "# Calculate average rating for each movie and number of ratings\n",
    "movie_stats = movies_and_ratings.groupby('title').agg({\n",
    "    'rating': ['mean', 'count']\n",
    "}).reset_index()\n",
    "\n",
    "# Flatten the column names\n",
    "movie_stats.columns = ['title', 'avg_rating', 'num_ratings']\n",
    "\n",
    "# Filter for movies with a minimum number of ratings\n",
    "min_ratings = 100 \n",
    "popular_movies = movie_stats[movie_stats['num_ratings'] >= min_ratings]\n",
    "\n",
    "# Sort by average rating and get top 10\n",
    "top_movies = popular_movies.sort_values('avg_rating').tail(15)\n",
    "\n",
    "# Create the plot\n",
    "plt.figure(figsize=(12, 6))\n",
    "bars = plt.barh(y=range(len(top_movies)), width=top_movies['avg_rating'], \n",
    "                color=sns.color_palette(\"viridis\", len(top_movies)))\n",
    "\n",
    "# Customize the plot\n",
    "plt.yticks(range(len(top_movies)), top_movies['title'])\n",
    "plt.xlabel('Average Rating')\n",
    "plt.title(f'Top 15 Movies (Minimum {min_ratings} ratings)')\n",
    "\n",
    "# Add rating annotations to the end of each bar\n",
    "for i, bar in enumerate(bars):\n",
    "    width = bar.get_width()\n",
    "    plt.text(width, bar.get_y() + bar.get_height()/2, \n",
    "             f'{top_movies[\"avg_rating\"].iloc[i]:.2f} ({top_movies[\"num_ratings\"].iloc[i]} ratings)',\n",
    "             va='center', ha='left')\n",
    "\n",
    "plt.tight_layout()\n",
    "plt.show()\n",
    "\n",
    "# Print the data\n",
    "print(\"\\nTop 15 Movies Data:\")\n",
    "print(top_movies[['title', 'avg_rating', 'num_ratings']].to_string(index=False))"
   ]
  },
  {
   "cell_type": "markdown",
   "metadata": {},
   "source": [
    "### 5.3 Multivariate Analysis"
   ]
  },
  {
   "cell_type": "code",
   "execution_count": null,
   "metadata": {},
   "outputs": [],
   "source": []
  },
  {
   "cell_type": "markdown",
   "metadata": {},
   "source": [
    "## 6. Data Preparation for Modelling\n",
    "\n"
   ]
  },
  {
   "cell_type": "code",
   "execution_count": 25,
   "metadata": {},
   "outputs": [],
   "source": [
    "# prepare data for \n",
    "reader = Reader(rating_scale = (0.5, 5.0))\n",
    "data = Dataset.load_from_df(movies_and_ratings[['userId', 'movieId', 'rating']], reader)\n",
    "\n",
    "# split data into train and test sets\n",
    "\n",
    "train_set, test_set = train_test_split(data, test_size = 0.2)"
   ]
  },
  {
   "cell_type": "markdown",
   "metadata": {},
   "source": [
    "## 7. Data Modelling\n",
    "\n",
    "We are going to explore different modelling approaches: \n",
    "1. `KNNBasic` model and experiment with the different similarity metrics (cosine, pearson).\n",
    "2. `KMWithMeans` which takes into account the mean rating of each user.\n",
    "3. `KNNBaseline` which adds adds in a bias term that is calculated by way of minimizing a cost function.\n",
    "4. model based CF with SVD\n",
    "5. Hyperparameter tuning on the SVD model\n"
   ]
  },
  {
   "cell_type": "markdown",
   "metadata": {},
   "source": [
    "### 7.1 Baseline Model"
   ]
  },
  {
   "cell_type": "markdown",
   "metadata": {},
   "source": [
    "Before we begin, it is important to decide which type of collaborative filtering to consider. Here, we use user-user filtering as it is the lesser of the two. This is in order to reduce computation time"
   ]
  },
  {
   "cell_type": "code",
   "execution_count": 26,
   "metadata": {},
   "outputs": [
    {
     "name": "stdout",
     "output_type": "stream",
     "text": [
      "Number of users:  610 \n",
      "\n",
      "Number of items:  8953 \n",
      "\n"
     ]
    }
   ],
   "source": [
    "# deciding whether to use item-item Vs user-user similarity. Use whichever is fewer. In this case, users\n",
    "print(\"Number of users: \", train_set.n_users, \"\\n\")\n",
    "print(\"Number of items: \", train_set.n_items, \"\\n\")"
   ]
  },
  {
   "cell_type": "code",
   "execution_count": 27,
   "metadata": {},
   "outputs": [
    {
     "name": "stdout",
     "output_type": "stream",
     "text": [
      "Computing the cosine similarity matrix...\n",
      "Done computing similarity matrix.\n"
     ]
    },
    {
     "data": {
      "text/plain": [
       "<surprise.prediction_algorithms.knns.KNNBasic at 0x270140e2310>"
      ]
     },
     "execution_count": 27,
     "metadata": {},
     "output_type": "execute_result"
    }
   ],
   "source": [
    "# define similarity metric to use \n",
    "similarity_cos = {\"name\": \"cosine\", \"user_based\": True}\n",
    "\n",
    "# baseline model\n",
    "baseline_model =KNNBasic(sim_options = similarity_cos)\n",
    "\n",
    "# fit the model\n",
    "baseline_model.fit(train_set)"
   ]
  },
  {
   "cell_type": "code",
   "execution_count": 28,
   "metadata": {},
   "outputs": [
    {
     "name": "stdout",
     "output_type": "stream",
     "text": [
      "The average rmse score is 0.9742858669095578\n"
     ]
    }
   ],
   "source": [
    "# cross validation on baseline model\n",
    "cv_baseline_model = cross_validate(baseline_model, data, n_jobs=-1)\n",
    "\n",
    "# Get the average RMSE score across all folds\n",
    "average_rmse = cv_baseline_model['test_rmse'].mean()\n",
    "print(f\"The average rmse score is {average_rmse}\")\n",
    "\n",
    "# make predictions\n",
    "# baseline_predictions = baseline_model.test(test_set)"
   ]
  },
  {
   "cell_type": "markdown",
   "metadata": {},
   "source": [
    "This implies that the model is off by about 0.9723 points for each guess it made for ratings. While it is not bad, there is room for improvement as we are working with a small scale (1 to 5)"
   ]
  },
  {
   "cell_type": "markdown",
   "metadata": {},
   "source": [
    "### 7.2 Model 2 - Pearson Similarity Metric"
   ]
  },
  {
   "cell_type": "code",
   "execution_count": 29,
   "metadata": {},
   "outputs": [
    {
     "name": "stdout",
     "output_type": "stream",
     "text": [
      "Computing the pearson similarity matrix...\n",
      "Done computing similarity matrix.\n"
     ]
    },
    {
     "data": {
      "text/plain": [
       "<surprise.prediction_algorithms.knns.KNNBasic at 0x27017694450>"
      ]
     },
     "execution_count": 29,
     "metadata": {},
     "output_type": "execute_result"
    }
   ],
   "source": [
    "similarity_pearson = {\"name\": \"pearson\", \"user_based\" : True}\n",
    "\n",
    "# fit model\n",
    "model_pearson = KNNBasic(sim_options = similarity_pearson)\n",
    "\n",
    "model_pearson.fit(train_set)"
   ]
  },
  {
   "cell_type": "code",
   "execution_count": 30,
   "metadata": {},
   "outputs": [
    {
     "name": "stdout",
     "output_type": "stream",
     "text": [
      "Average rmse score is : 0.9744300409373352\n"
     ]
    }
   ],
   "source": [
    "cv_model_pearson = cross_validate(model_pearson, data, n_jobs=-1)\n",
    "\n",
    "# get average rmse\n",
    "\n",
    "avg_rmse_pearson = cv_model_pearson['test_rmse'].mean()\n",
    "\n",
    "# print rmse\n",
    "print(f\"Average rmse score is : {avg_rmse_pearson}\")\n",
    "# model_pearson_predictions = model_pearson.test(test_set)"
   ]
  },
  {
   "cell_type": "markdown",
   "metadata": {},
   "source": [
    "The rmse score is 0.9739. This implies that the model's predictions are off by about 0.9939 points. This is a very slight decline from the baseline model. They have about the same performance."
   ]
  },
  {
   "cell_type": "markdown",
   "metadata": {},
   "source": [
    "### 7.3 Model 3 - KNNMeans"
   ]
  },
  {
   "cell_type": "code",
   "execution_count": 31,
   "metadata": {},
   "outputs": [
    {
     "name": "stdout",
     "output_type": "stream",
     "text": [
      "Computing the cosine similarity matrix...\n",
      "Done computing similarity matrix.\n"
     ]
    },
    {
     "data": {
      "text/plain": [
       "<surprise.prediction_algorithms.knns.KNNWithMeans at 0x27015b92a50>"
      ]
     },
     "execution_count": 31,
     "metadata": {},
     "output_type": "execute_result"
    }
   ],
   "source": [
    "model_knn_means  = KNNWithMeans(sim_options = similarity_cos)\n",
    "\n",
    "# fit model\n",
    "model_knn_means.fit(train_set)"
   ]
  },
  {
   "cell_type": "code",
   "execution_count": 32,
   "metadata": {},
   "outputs": [
    {
     "name": "stdout",
     "output_type": "stream",
     "text": [
      "The average rmse is : 0.8997396309763065\n"
     ]
    }
   ],
   "source": [
    "# cross validate the model\n",
    "cv_model_knn_means = cross_validate(model_knn_means, data, n_jobs=-1)\n",
    "\n",
    "avg_rmse_model_knn_means = cv_model_knn_means['test_rmse'].mean()\n",
    "\n",
    "print(f\"The average rmse is : {avg_rmse_model_knn_means}\")"
   ]
  },
  {
   "cell_type": "markdown",
   "metadata": {},
   "source": [
    "This model has an rmse score of 0.90 This is better then the two models before. However, there's room for improvement and so we proceed to using KNNBaseline as it introduces a bias term making it an improvement of the methods explored above."
   ]
  },
  {
   "cell_type": "markdown",
   "metadata": {},
   "source": [
    "### 7.4 Model 4 - KNNBaseline"
   ]
  },
  {
   "cell_type": "code",
   "execution_count": 33,
   "metadata": {},
   "outputs": [
    {
     "name": "stdout",
     "output_type": "stream",
     "text": [
      "Estimating biases using als...\n",
      "Computing the cosine similarity matrix...\n",
      "Done computing similarity matrix.\n"
     ]
    },
    {
     "data": {
      "text/plain": [
       "<surprise.prediction_algorithms.knns.KNNBaseline at 0x27015e38fd0>"
      ]
     },
     "execution_count": 33,
     "metadata": {},
     "output_type": "execute_result"
    }
   ],
   "source": [
    "model_knn_baseline = KNNBaseline(sim_options=similarity_cos)\n",
    "\n",
    "# fit model\n",
    "model_knn_baseline.fit(train_set)"
   ]
  },
  {
   "cell_type": "code",
   "execution_count": 34,
   "metadata": {},
   "outputs": [
    {
     "name": "stdout",
     "output_type": "stream",
     "text": [
      "The average rmse is : 0.8789893602498878\n"
     ]
    }
   ],
   "source": [
    "# rmse\n",
    "cv_model_knn_baseline = cross_validate(model_knn_baseline, data, n_jobs = -1)\n",
    "\n",
    "avg_rmse_knn_baseline = cv_model_knn_baseline['test_rmse'].mean()\n",
    "\n",
    "print(f\"The average rmse is : {avg_rmse_knn_baseline}\")"
   ]
  },
  {
   "cell_type": "markdown",
   "metadata": {},
   "source": [
    "The rmse score for the `KNNBaseline` model is 0.879. This is an improvement from the previous models above. We are looking to further reduce this error, therefore, we try matrix factorization models below. In this case, we use Singular Value Decomposition(SVD) and tune the hyperparameters to get the optimal parameters."
   ]
  },
  {
   "cell_type": "markdown",
   "metadata": {},
   "source": [
    "### 7.5 Model 5 - Model based"
   ]
  },
  {
   "cell_type": "code",
   "execution_count": 35,
   "metadata": {},
   "outputs": [
    {
     "data": {
      "text/plain": [
       "<surprise.prediction_algorithms.matrix_factorization.SVD at 0x27011f58710>"
      ]
     },
     "execution_count": 35,
     "metadata": {},
     "output_type": "execute_result"
    }
   ],
   "source": [
    "# use SVD for collaborative filtering\n",
    "model = SVD()\n",
    "model.fit(train_set)"
   ]
  },
  {
   "cell_type": "code",
   "execution_count": 36,
   "metadata": {},
   "outputs": [
    {
     "name": "stdout",
     "output_type": "stream",
     "text": [
      "The average rmse is : 0.872704323882072\n"
     ]
    }
   ],
   "source": [
    "# Evaluate the model\n",
    "cv_model = cross_validate(model, data, n_jobs = -1)\n",
    "\n",
    "avg_rmse_model = cv_model['test_rmse'].mean()\n",
    "\n",
    "print(f\"The average rmse is : {avg_rmse_model}\")"
   ]
  },
  {
   "cell_type": "markdown",
   "metadata": {},
   "source": [
    "This model's rmse score is 0.873. This is a slight improvement from the `KNNBaseline` model. They however seem to be performing similarly."
   ]
  },
  {
   "cell_type": "markdown",
   "metadata": {},
   "source": [
    "### 7.6 Model 6 - Hyperparameter Tuning"
   ]
  },
  {
   "cell_type": "code",
   "execution_count": 37,
   "metadata": {},
   "outputs": [
    {
     "name": "stderr",
     "output_type": "stream",
     "text": [
      "[Parallel(n_jobs=-1)]: Using backend LokyBackend with 4 concurrent workers.\n",
      "[Parallel(n_jobs=-1)]: Done  10 tasks      | elapsed:    7.4s\n",
      "[Parallel(n_jobs=-1)]: Done  45 out of  45 | elapsed:   42.2s finished\n"
     ]
    }
   ],
   "source": [
    "param_grid= {'n_factors': [50, 100, 150],\n",
    "         'reg_all': [0.02, 0.05, 0.1]}\n",
    "\n",
    "gs_model = GridSearchCV(SVD,param_grid=param_grid,n_jobs = -1, cv = 5, joblib_verbose=5)\n",
    "gs_model.fit(data)"
   ]
  },
  {
   "cell_type": "code",
   "execution_count": 38,
   "metadata": {},
   "outputs": [
    {
     "data": {
      "text/plain": [
       "0.8693005749407966"
      ]
     },
     "execution_count": 38,
     "metadata": {},
     "output_type": "execute_result"
    }
   ],
   "source": [
    "gs_model.best_score['rmse']"
   ]
  },
  {
   "cell_type": "code",
   "execution_count": 39,
   "metadata": {},
   "outputs": [],
   "source": [
    "# Extract the best model from GridSearchCV\n",
    "best_model = gs_model.best_estimator['rmse']"
   ]
  },
  {
   "cell_type": "code",
   "execution_count": 40,
   "metadata": {},
   "outputs": [
    {
     "data": {
      "text/plain": [
       "<surprise.prediction_algorithms.matrix_factorization.SVD at 0x27017e69410>"
      ]
     },
     "execution_count": 40,
     "metadata": {},
     "output_type": "execute_result"
    }
   ],
   "source": [
    "# fit on model\n",
    "best_model.fit(train_set)"
   ]
  },
  {
   "cell_type": "markdown",
   "metadata": {},
   "source": [
    "The model's rmse score is 0.869. This implies that the model's predictions are off by about 0.869 points. This is a slight improvement from the previous models and overally the best."
   ]
  },
  {
   "cell_type": "markdown",
   "metadata": {},
   "source": [
    "## 8. Model Evaluation"
   ]
  },
  {
   "cell_type": "code",
   "execution_count": 41,
   "metadata": {},
   "outputs": [
    {
     "name": "stdout",
     "output_type": "stream",
     "text": [
      "RMSE: 0.8627\n"
     ]
    }
   ],
   "source": [
    "final_model = best_model\n",
    "\n",
    "# test final model ofn test set\n",
    "final_model_predictions = final_model.test(test_set)\n",
    "\n",
    "# rmse score for final model. get rmse from test set\n",
    "rmse_final = accuracy.rmse(final_model_predictions)\n",
    "\n",
    "\n"
   ]
  },
  {
   "cell_type": "markdown",
   "metadata": {},
   "source": [
    "## 9. Conclusions"
   ]
  },
  {
   "cell_type": "markdown",
   "metadata": {},
   "source": [
    "## 10. Recommendations"
   ]
  },
  {
   "cell_type": "code",
   "execution_count": null,
   "metadata": {},
   "outputs": [],
   "source": []
  }
 ],
 "metadata": {
  "kernelspec": {
   "display_name": "Python (learn-env)",
   "language": "python",
   "name": "learn-env"
  },
  "language_info": {
   "codemirror_mode": {
    "name": "ipython",
    "version": 3
   },
   "file_extension": ".py",
   "mimetype": "text/x-python",
   "name": "python",
   "nbconvert_exporter": "python",
   "pygments_lexer": "ipython3",
   "version": "3.11.9"
  }
 },
 "nbformat": 4,
 "nbformat_minor": 4
}
