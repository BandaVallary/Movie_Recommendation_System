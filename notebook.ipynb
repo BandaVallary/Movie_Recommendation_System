{
  "cells": [
    {
      "cell_type": "markdown",
      "metadata": {
        "id": "view-in-github",
        "colab_type": "text"
      },
      "source": [
        "<a href=\"https://colab.research.google.com/github/BandaVallary/Movie_Recommendation_System/blob/kelvin/notebook.ipynb\" target=\"_parent\"><img src=\"https://colab.research.google.com/assets/colab-badge.svg\" alt=\"Open In Colab\"/></a>"
      ]
    },
    {
      "cell_type": "markdown",
      "metadata": {
        "id": "wFoeZuR6p4N1"
      },
      "source": [
        "# Movie Recommendation System"
      ]
    },
    {
      "cell_type": "markdown",
      "metadata": {
        "id": "4LStIpYEp4N3"
      },
      "source": [
        "![\"Image of Donald Draper in a Movie Theater\"](https://github.com/BandaVallary/Movie_Recommendation_System/blob/kelvin/images/dondraperinmovietheater.jpg?raw=1)"
      ]
    },
    {
      "cell_type": "markdown",
      "metadata": {
        "id": "lj7PA39cp4N4"
      },
      "source": [
        "## Overview"
      ]
    },
    {
      "cell_type": "markdown",
      "metadata": {
        "id": "AjW0pm7_p4N5"
      },
      "source": [
        "This project aims to develop a recommendation system that provides personalized movie recommendations based on user ratings. Utilizing the [MovieLens dataset](https://web.archive.org/web/20240828133414/https://grouplens.org/datasets/movielens/latest/) from the GroupLens research lab at the University of Minnesota, the model will be trained on a subset of the dataset containing 100,000 user ratings. The primary objective is to build a machine learning model that can accurately recommend the top 5 movies to a user, based on their ratings of other movies. This system can be valuable for streaming platforms and movie enthusiasts, offering tailored movie suggestions to enhance user experience and engagement.\n",
        "\n",
        "The project will involve several steps, including data cleaning, exploratory data analysis, feature engineering, model selection, and evaluation.\n",
        "\n",
        "Throughout this project, we will also explore the relationships between different variables and their impact on movie recommendations. This will help us gain insights into user preferences and identify potential areas for improvement. Overall, this project has the potential to provide valuable insights and practical applications for the entertainment industry. By developing a recommendation system that can accurately suggest movies, streaming platforms can better engage their users, improve customer satisfaction, and increase viewership."
      ]
    },
    {
      "cell_type": "markdown",
      "metadata": {
        "id": "JDeHSVfGp4N6"
      },
      "source": [
        "## Business Understanding"
      ]
    },
    {
      "cell_type": "markdown",
      "metadata": {
        "id": "NWxuwoaBp4N7"
      },
      "source": [
        "The entertainment industry, particularly streaming platforms, is highly competitive, with companies constantly striving to enhance user engagement and satisfaction. One of the major challenges faced by these platforms is providing personalized content recommendations that keep users engaged and reduce churn rates.\n",
        "\n",
        "According to recent studies, personalized recommendations can significantly increase user engagement and satisfaction, leading to higher retention rates and increased viewership. This highlights the need for a robust recommendation system that can accurately suggest movies based on user preferences. By building a recommendation system that can provide top 5 movie recommendations to users based on their ratings of other movies, streaming platforms can offer a more tailored viewing experience.\n",
        "\n",
        "The business value of this project lies in its ability to help streaming platforms improve their content recommendation strategies, increase user satisfaction, and reduce churn rates. By developing a recommendation system that can accurately suggest movies, platforms can better engage their users, leading to increased viewership and subscription renewals. This can provide a competitive edge in the highly competitive entertainment industry, ultimately driving revenue growth and customer loyalty."
      ]
    },
    {
      "cell_type": "code",
      "source": [
        "!pip install scikit-surprise"
      ],
      "metadata": {
        "colab": {
          "base_uri": "https://localhost:8080/"
        },
        "id": "9QKSmyNiqABo",
        "outputId": "b3ab9d2d-bb5b-461f-e8fa-456617ae388b"
      },
      "execution_count": 4,
      "outputs": [
        {
          "output_type": "stream",
          "name": "stdout",
          "text": [
            "Requirement already satisfied: scikit-surprise in /usr/local/lib/python3.10/dist-packages (1.1.4)\n",
            "Requirement already satisfied: joblib>=1.2.0 in /usr/local/lib/python3.10/dist-packages (from scikit-surprise) (1.4.2)\n",
            "Requirement already satisfied: numpy>=1.19.5 in /usr/local/lib/python3.10/dist-packages (from scikit-surprise) (1.26.4)\n",
            "Requirement already satisfied: scipy>=1.6.0 in /usr/local/lib/python3.10/dist-packages (from scikit-surprise) (1.13.1)\n"
          ]
        }
      ]
    },
    {
      "cell_type": "code",
      "execution_count": 5,
      "metadata": {
        "id": "gntIigRVp4N8"
      },
      "outputs": [],
      "source": [
        "# Importing libraries\n",
        "import pandas as pd\n",
        "import numpy as np\n",
        "import matplotlib.pyplot as plt\n",
        "import seaborn as sns\n",
        "import warnings\n",
        "warnings.filterwarnings('ignore')\n",
        "%matplotlib inline\n",
        "sns.set_style('whitegrid')\n",
        "\n",
        "from surprise.model_selection import cross_validate\n",
        "from surprise.prediction_algorithms import SVD\n",
        "from surprise.prediction_algorithms import KNNWithMeans, KNNBasic, KNNBaseline\n",
        "from surprise.model_selection import GridSearchCV\n",
        "from surprise import Reader, Dataset\n",
        "from sklearn.model_selection import train_test_split\n",
        "from tensorflow.keras.models import Model\n",
        "from tensorflow.keras.layers import Input, Embedding, Flatten, Dot, Dense, Concatenate\n",
        "from tensorflow.keras.optimizers import Adam"
      ]
    },
    {
      "cell_type": "markdown",
      "metadata": {
        "id": "yFoMCqqbp4N9"
      },
      "source": [
        "## Reading the Data"
      ]
    },
    {
      "cell_type": "code",
      "execution_count": 6,
      "metadata": {
        "id": "1hUpnwrUp4N-"
      },
      "outputs": [],
      "source": [
        "# Loading the data\n",
        "movies = pd.read_csv('/content/movies.csv')\n",
        "ratings = pd.read_csv('/content/ratings.csv')\n",
        "tags = pd.read_csv('/content/tags.csv')"
      ]
    },
    {
      "cell_type": "markdown",
      "metadata": {
        "id": "D25vNyX0p4N-"
      },
      "source": [
        "## Tidying the data (ratings df)\n",
        "\n",
        "1. Check data types and figure out which figures are numerical and which are categorical.\n",
        "2. Check for null values.\n",
        "3. Check for duplicate values"
      ]
    },
    {
      "cell_type": "markdown",
      "metadata": {
        "id": "Ou09pjcnp4N_"
      },
      "source": [
        "I check for null values in the dataset. There are none."
      ]
    },
    {
      "cell_type": "code",
      "execution_count": 7,
      "metadata": {
        "colab": {
          "base_uri": "https://localhost:8080/",
          "height": 209
        },
        "id": "0XWl_SXrp4N_",
        "outputId": "8c14ae6f-4ae3-4d82-9967-ee70e3409f6a"
      },
      "outputs": [
        {
          "output_type": "execute_result",
          "data": {
            "text/plain": [
              "userId       0\n",
              "movieId      0\n",
              "rating       0\n",
              "timestamp    0\n",
              "dtype: int64"
            ],
            "text/html": [
              "<div>\n",
              "<style scoped>\n",
              "    .dataframe tbody tr th:only-of-type {\n",
              "        vertical-align: middle;\n",
              "    }\n",
              "\n",
              "    .dataframe tbody tr th {\n",
              "        vertical-align: top;\n",
              "    }\n",
              "\n",
              "    .dataframe thead th {\n",
              "        text-align: right;\n",
              "    }\n",
              "</style>\n",
              "<table border=\"1\" class=\"dataframe\">\n",
              "  <thead>\n",
              "    <tr style=\"text-align: right;\">\n",
              "      <th></th>\n",
              "      <th>0</th>\n",
              "    </tr>\n",
              "  </thead>\n",
              "  <tbody>\n",
              "    <tr>\n",
              "      <th>userId</th>\n",
              "      <td>0</td>\n",
              "    </tr>\n",
              "    <tr>\n",
              "      <th>movieId</th>\n",
              "      <td>0</td>\n",
              "    </tr>\n",
              "    <tr>\n",
              "      <th>rating</th>\n",
              "      <td>0</td>\n",
              "    </tr>\n",
              "    <tr>\n",
              "      <th>timestamp</th>\n",
              "      <td>0</td>\n",
              "    </tr>\n",
              "  </tbody>\n",
              "</table>\n",
              "</div><br><label><b>dtype:</b> int64</label>"
            ]
          },
          "metadata": {},
          "execution_count": 7
        }
      ],
      "source": [
        "# checking for null values\n",
        "ratings.isnull().sum()"
      ]
    },
    {
      "cell_type": "markdown",
      "source": [
        "I then check for duplicates. There are none."
      ],
      "metadata": {
        "id": "6NLFvHGKeNOn"
      }
    },
    {
      "cell_type": "code",
      "source": [
        "# check for duplicates\n",
        "ratings.duplicated().sum()"
      ],
      "metadata": {
        "id": "Q-37kVF9eP8U",
        "outputId": "64395ee5-5e5e-42d3-8c95-2398c227eb06",
        "colab": {
          "base_uri": "https://localhost:8080/"
        }
      },
      "execution_count": 8,
      "outputs": [
        {
          "output_type": "execute_result",
          "data": {
            "text/plain": [
              "0"
            ]
          },
          "metadata": {},
          "execution_count": 8
        }
      ]
    },
    {
      "cell_type": "code",
      "source": [
        "# check data types\n",
        "ratings.dtypes"
      ],
      "metadata": {
        "id": "S3n4BBYQef_J",
        "outputId": "607537b0-fde0-4e18-e497-0124f541fe7c",
        "colab": {
          "base_uri": "https://localhost:8080/",
          "height": 209
        }
      },
      "execution_count": 9,
      "outputs": [
        {
          "output_type": "execute_result",
          "data": {
            "text/plain": [
              "userId         int64\n",
              "movieId        int64\n",
              "rating       float64\n",
              "timestamp      int64\n",
              "dtype: object"
            ],
            "text/html": [
              "<div>\n",
              "<style scoped>\n",
              "    .dataframe tbody tr th:only-of-type {\n",
              "        vertical-align: middle;\n",
              "    }\n",
              "\n",
              "    .dataframe tbody tr th {\n",
              "        vertical-align: top;\n",
              "    }\n",
              "\n",
              "    .dataframe thead th {\n",
              "        text-align: right;\n",
              "    }\n",
              "</style>\n",
              "<table border=\"1\" class=\"dataframe\">\n",
              "  <thead>\n",
              "    <tr style=\"text-align: right;\">\n",
              "      <th></th>\n",
              "      <th>0</th>\n",
              "    </tr>\n",
              "  </thead>\n",
              "  <tbody>\n",
              "    <tr>\n",
              "      <th>userId</th>\n",
              "      <td>int64</td>\n",
              "    </tr>\n",
              "    <tr>\n",
              "      <th>movieId</th>\n",
              "      <td>int64</td>\n",
              "    </tr>\n",
              "    <tr>\n",
              "      <th>rating</th>\n",
              "      <td>float64</td>\n",
              "    </tr>\n",
              "    <tr>\n",
              "      <th>timestamp</th>\n",
              "      <td>int64</td>\n",
              "    </tr>\n",
              "  </tbody>\n",
              "</table>\n",
              "</div><br><label><b>dtype:</b> object</label>"
            ]
          },
          "metadata": {},
          "execution_count": 9
        }
      ]
    },
    {
      "cell_type": "code",
      "source": [
        "# Drop the timestamp column\n",
        "ratings.drop('timestamp', axis=1, inplace=True)"
      ],
      "metadata": {
        "id": "ZCtFGTpAejIP"
      },
      "execution_count": 10,
      "outputs": []
    },
    {
      "cell_type": "markdown",
      "source": [
        "Now, I'll add the `title` column from the `movies` dataframe to the `ratings` dataframe based on the common `movieId` column."
      ],
      "metadata": {
        "id": "6hGI1fuee_Sq"
      }
    },
    {
      "cell_type": "code",
      "source": [
        "# extracting the title from the `movies` df based on the `movieId`\n",
        "ratings_with_titles = ratings.merge(movies[['movieId', 'title']], on='movieId', how='left')"
      ],
      "metadata": {
        "id": "UEU02ZnPfCGB"
      },
      "execution_count": 11,
      "outputs": []
    },
    {
      "cell_type": "markdown",
      "source": [
        "I'll merge `movies`, `ratings` and `tags` dataframes to one dataframe. First, I'll merge `movies` and `ratings`."
      ],
      "metadata": {
        "id": "qD_94UzCgBCL"
      }
    },
    {
      "cell_type": "code",
      "source": [
        "movies_ratings = pd.merge(movies, ratings, on='movieId', how='left')"
      ],
      "metadata": {
        "id": "KET9GLSkgGSQ"
      },
      "execution_count": 12,
      "outputs": []
    },
    {
      "cell_type": "markdown",
      "source": [
        "Then, we'll merge the results with `tags` dataframe."
      ],
      "metadata": {
        "id": "EBEuXJKngJXF"
      }
    },
    {
      "cell_type": "code",
      "source": [
        "movies_ratings_tags = pd.merge(movies_ratings, tags, on='movieId', how='left')"
      ],
      "metadata": {
        "id": "7Ux_lE4bgaH0"
      },
      "execution_count": 13,
      "outputs": []
    },
    {
      "cell_type": "markdown",
      "source": [
        "Since two userId columns(userId_x, userId_y) have been created after the merge,\n",
        "we'll drop one userId column."
      ],
      "metadata": {
        "id": "wxJrGHZ0ghUF"
      }
    },
    {
      "cell_type": "code",
      "source": [
        "movies_ratings_tags = movies_ratings_tags.drop('userId_y', axis=1)\n",
        "movies_ratings_tags = movies_ratings_tags.rename(columns={'userId_x': 'userId'})"
      ],
      "metadata": {
        "id": "TTNWWuC-gj8k"
      },
      "execution_count": 14,
      "outputs": []
    },
    {
      "cell_type": "markdown",
      "source": [
        "We'll drop the `timestamp` column."
      ],
      "metadata": {
        "id": "vBLncHwKtNan"
      }
    },
    {
      "cell_type": "code",
      "source": [
        "movies_ratings_tags = movies_ratings_tags.drop('timestamp', axis=1)"
      ],
      "metadata": {
        "id": "palGah2QtRj2"
      },
      "execution_count": 15,
      "outputs": []
    },
    {
      "cell_type": "markdown",
      "source": [
        "Now, we'll plot a histogram of the distribution of user ratings."
      ],
      "metadata": {
        "id": "nbSqDuVE80ZK"
      }
    },
    {
      "cell_type": "code",
      "source": [
        "plt.figure(figsize=(10, 6))\n",
        "\n",
        "# Define the bins\n",
        "bins = [0.5, 1.0, 2.0, 3.0, 4.0, 5.0]\n",
        "\n",
        "# Create the histogram\n",
        "plt.hist(ratings['rating'], bins=bins, edgecolor='black')\n",
        "\n",
        "# Customize the plot\n",
        "plt.title('Distribution of User Ratings')\n",
        "plt.xlabel('Rating')\n",
        "plt.ylabel('Count')\n",
        "\n",
        "# Calculate the center of each bin\n",
        "bin_centers = [(bins[i] + bins[i+1])/2 for i in range(len(bins)-1)]\n",
        "\n",
        "# Set x-axis labels to show the bin ranges, centered on each bin\n",
        "plt.xticks(bin_centers, ['0.5-1.0', '1.0-2.0', '2.0-3.0', '3.0-4.0', '4.0-5.0'])\n",
        "\n",
        "plt.show()"
      ],
      "metadata": {
        "colab": {
          "base_uri": "https://localhost:8080/",
          "height": 564
        },
        "id": "GWMSR2Jvuiqd",
        "outputId": "81245906-5c58-49b8-f4ec-246f3d5a1ee2"
      },
      "execution_count": 16,
      "outputs": [
        {
          "output_type": "display_data",
          "data": {
            "text/plain": [
              "<Figure size 1000x600 with 1 Axes>"
            ],
            "image/png": "[encoded data removed]"
          },
          "metadata": {}
        }
      ]
    },
    {
      "cell_type": "markdown",
      "source": [
        "Next we'll create a horizontal bar chart that displays the top 15 movies based on their average ratings, filtered for those with a minimum number of 100 ratings."
      ],
      "metadata": {
        "id": "z5Dvmtgr7Ah4"
      }
    },
    {
      "cell_type": "code",
      "source": [
        "# Calculate average rating for each movie and number of ratings\n",
        "movie_stats = ratings_with_titles.groupby('title').agg({\n",
        "    'rating': ['mean', 'count']\n",
        "}).reset_index()\n",
        "\n",
        "# Flatten the column names\n",
        "movie_stats.columns = ['title', 'avg_rating', 'num_ratings']\n",
        "\n",
        "# Filter for movies with a minimum number of ratings\n",
        "min_ratings = 100\n",
        "popular_movies = movie_stats[movie_stats['num_ratings'] >= min_ratings]\n",
        "\n",
        "# Sort by average rating and get top 10\n",
        "top_movies = popular_movies.sort_values('avg_rating', ascending=False).head(15)\n",
        "\n",
        "# Create the plot\n",
        "plt.figure(figsize=(12, 6))\n",
        "bars = plt.barh(y=range(len(top_movies)), width=top_movies['avg_rating'],\n",
        "                color=sns.color_palette(\"viridis\", len(top_movies)))\n",
        "\n",
        "# Customize the plot\n",
        "plt.yticks(range(len(top_movies)), top_movies['title'])\n",
        "plt.xlabel('Average Rating')\n",
        "plt.title(f'Top 10 Movies (Minimum {min_ratings} ratings)')\n",
        "\n",
        "# Add rating annotations to the end of each bar\n",
        "for i, bar in enumerate(bars):\n",
        "    width = bar.get_width()\n",
        "    plt.text(width, bar.get_y() + bar.get_height()/2,\n",
        "             f'{top_movies[\"avg_rating\"].iloc[i]:.2f} ({top_movies[\"num_ratings\"].iloc[i]} ratings)',\n",
        "             va='center', ha='left', fontweight='bold')\n",
        "\n",
        "plt.tight_layout()\n",
        "plt.show()\n",
        "\n",
        "# Print the data\n",
        "print(\"\\nTop 15 Movies Data:\")\n",
        "print(top_movies[['title', 'avg_rating', 'num_ratings']].to_string(index=False))"
      ],
      "metadata": {
        "colab": {
          "base_uri": "https://localhost:8080/",
          "height": 934
        },
        "id": "IvHIwAVr6OgJ",
        "outputId": "6c1a54ea-27b0-4b49-9b7f-c37792d8e9b3"
      },
      "execution_count": 17,
      "outputs": [
        {
          "output_type": "display_data",
          "data": {
            "text/plain": [
              "<Figure size 1200x600 with 1 Axes>"
            ],
            "image/png": "[encoded data removed]"
          },
          "metadata": {}
        },
        {
          "output_type": "stream",
          "name": "stdout",
          "text": [
            "\n",
            "Top 15 Movies Data:\n",
            "                                                title  avg_rating  num_ratings\n",
            "                     Shawshank Redemption, The (1994)    4.429022          317\n",
            "                                Godfather, The (1972)    4.289062          192\n",
            "                                    Fight Club (1999)    4.272936          218\n",
            "                       Godfather: Part II, The (1974)    4.259690          129\n",
            "                                 Departed, The (2006)    4.252336          107\n",
            "                                    Goodfellas (1990)    4.250000          126\n",
            "                                    Casablanca (1942)    4.240000          100\n",
            "                              Dark Knight, The (2008)    4.238255          149\n",
            "                           Usual Suspects, The (1995)    4.237745          204\n",
            "                           Princess Bride, The (1987)    4.232394          142\n",
            "            Star Wars: Episode IV - A New Hope (1977)    4.231076          251\n",
            "                              Schindler's List (1993)    4.225000          220\n",
            "                                Apocalypse Now (1979)    4.219626          107\n",
            "                            American History X (1998)    4.217054          129\n",
            "Star Wars: Episode V - The Empire Strikes Back (1980)    4.215640          211\n"
          ]
        }
      ]
    },
    {
      "cell_type": "markdown",
      "source": [
        "Next, we'll plot a graph of the 15 most popular movies by number of ratings."
      ],
      "metadata": {
        "id": "SMUHx2OoHUQG"
      }
    },
    {
      "cell_type": "code",
      "source": [
        "# Group by movie title and count the number of ratings\n",
        "movie_ratings_count = ratings_with_titles.groupby('title')['rating'].count().reset_index()\n",
        "movie_ratings_count.columns = ['title', 'number_of_ratings']\n",
        "\n",
        "# Sort by number of ratings and get top 15\n",
        "top_rated_movies = movie_ratings_count.sort_values('number_of_ratings', ascending=True).tail(15)\n",
        "\n",
        "# Create the plot\n",
        "plt.figure(figsize=(12, 6))\n",
        "bars = plt.barh(y=range(len(top_rated_movies)), width=top_rated_movies['number_of_ratings'],\n",
        "                color=sns.color_palette(\"viridis\", len(top_rated_movies)))\n",
        "\n",
        "# Customize the plot\n",
        "plt.yticks(range(len(top_rated_movies)), top_rated_movies['title'], fontsize=10)\n",
        "plt.xlabel('Number of Ratings', fontsize=12)\n",
        "plt.title('Top 10 Most Frequently Rated Movies', fontsize=14, pad=10)\n",
        "\n",
        "# Add number of ratings to the end of each bar\n",
        "for i, bar in enumerate(bars):\n",
        "    width = bar.get_width()\n",
        "    plt.text(width, bar.get_y() + bar.get_height()/2,\n",
        "             f'{width:,.0f}',  # Format number with commas\n",
        "             va='center', ha='left', fontsize=10, fontweight='bold')\n",
        "\n",
        "plt.tight_layout()\n",
        "plt.show()\n",
        "\n",
        "# Print the data\n",
        "print(\"\\nTop 15 Most Rated Movies:\")\n",
        "print(top_rated_movies.to_string(index=False))"
      ],
      "metadata": {
        "colab": {
          "base_uri": "https://localhost:8080/",
          "height": 933
        },
        "id": "MD0acszTGQLu",
        "outputId": "60ff83d0-1242-4377-970a-4a53eddc7aa5"
      },
      "execution_count": 18,
      "outputs": [
        {
          "output_type": "display_data",
          "data": {
            "text/plain": [
              "<Figure size 1200x600 with 1 Axes>"
            ],
            "image/png": "[encoded data removed]"
          },
          "metadata": {}
        },
        {
          "output_type": "stream",
          "name": "stdout",
          "text": [
            "\n",
            "Top 15 Most Rated Movies:\n",
            "                                                title  number_of_ratings\n",
            "                               American Beauty (1999)                204\n",
            "                           Usual Suspects, The (1995)                204\n",
            "Star Wars: Episode V - The Empire Strikes Back (1980)                211\n",
            "                                     Toy Story (1995)                215\n",
            "                                    Fight Club (1999)                218\n",
            "                              Schindler's List (1993)                220\n",
            "                    Terminator 2: Judgment Day (1991)                224\n",
            "                                    Braveheart (1995)                237\n",
            "                                 Jurassic Park (1993)                238\n",
            "            Star Wars: Episode IV - A New Hope (1977)                251\n",
            "                                   Matrix, The (1999)                278\n",
            "                     Silence of the Lambs, The (1991)                279\n",
            "                                  Pulp Fiction (1994)                307\n",
            "                     Shawshank Redemption, The (1994)                317\n",
            "                                  Forrest Gump (1994)                329\n"
          ]
        }
      ]
    },
    {
      "cell_type": "code",
      "source": [
        "counts, _ = np.histogram(ratings['rating'], bins=bins)\n",
        "for i, count in enumerate(counts):\n",
        "    print(f\"Bin {bins[i]}-{bins[i+1]}: {count}\")"
      ],
      "metadata": {
        "colab": {
          "base_uri": "https://localhost:8080/"
        },
        "id": "sNf-WGG6t_cM",
        "outputId": "a4af62b7-7a74-4834-e956-479f945ed801"
      },
      "execution_count": 19,
      "outputs": [
        {
          "output_type": "stream",
          "name": "stdout",
          "text": [
            "Bin 0.5-1.0: 1370\n",
            "Bin 1.0-2.0: 4602\n",
            "Bin 2.0-3.0: 13101\n",
            "Bin 3.0-4.0: 33183\n",
            "Bin 4.0-5.0: 48580\n"
          ]
        }
      ]
    },
    {
      "cell_type": "markdown",
      "metadata": {
        "id": "1q3_t04Vp4OE"
      },
      "source": [
        "I'm starting with the `ratings_with_titles` df for my basic recommendation model because it contains key user-item interactions, which are essential for collaborative filtering. This dataframe shows which users rated which movies and their ratings, allowing me to identify patterns in preferences.\n",
        "\n",
        "I'll use collaborative filtering, focusing on either:\n",
        "\n",
        "- User-Based: Recommending movies based on the preferences of similar users.\n",
        "- Item-Based: Suggesting movies based on similarities between items that users have liked.\n",
        "\n",
        "Using `ratings_with_titles` gives me a solid foundation for identifying these relationships, and I can later integrate `movies` and `tags` dataframes for more nuanced recommendations."
      ]
    },
    {
      "cell_type": "markdown",
      "metadata": {
        "id": "0IaCwcO_p4OE"
      },
      "source": [
        "Now, I'll create a scikit surprise dataset from the `ratings` dataframe."
      ]
    },
    {
      "cell_type": "code",
      "execution_count": 20,
      "metadata": {
        "id": "Z11ZRQSOp4OF"
      },
      "outputs": [],
      "source": [
        "# reading the values as scikit surprise dataset\n",
        "reader = Reader(rating_scale=(0.5, 5.0))\n",
        "data = Dataset.load_from_df(ratings[['userId', 'movieId', 'rating']], reader)\n",
        "trainset = data.build_full_trainset()"
      ]
    },
    {
      "cell_type": "code",
      "execution_count": 21,
      "metadata": {
        "id": "lTLE2rctp4OF"
      },
      "outputs": [],
      "source": [
        "# parameter grid for SVD\n",
        "param_grid = {\n",
        "    'n_factors': [50, 100],\n",
        "    'n_epochs': [20, 30],\n",
        "    'lr_all': [0.002, 0.005],\n",
        "    'reg_all': [0.4, 0.6]\n",
        "}"
      ]
    },
    {
      "cell_type": "code",
      "execution_count": 22,
      "metadata": {
        "colab": {
          "base_uri": "https://localhost:8080/"
        },
        "id": "_b5JItz1p4OG",
        "outputId": "6d4c6b00-5596-4205-bb5c-e4672b825212"
      },
      "outputs": [
        {
          "output_type": "stream",
          "name": "stderr",
          "text": [
            "[Parallel(n_jobs=-1)]: Using backend LokyBackend with 2 concurrent workers.\n",
            "[Parallel(n_jobs=-1)]: Done  14 tasks      | elapsed:   28.7s\n",
            "[Parallel(n_jobs=-1)]: Done  48 out of  48 | elapsed:  1.3min finished\n"
          ]
        }
      ],
      "source": [
        "# create the grid search object\n",
        "gs = GridSearchCV(SVD, param_grid, measures=['rmse', 'mae'], cv=3, joblib_verbose=5, n_jobs=-1)\n",
        "gs.fit(data)"
      ]
    },
    {
      "cell_type": "code",
      "execution_count": 23,
      "metadata": {
        "colab": {
          "base_uri": "https://localhost:8080/"
        },
        "id": "_qtgxVbwp4OG",
        "outputId": "c097647d-de3f-4c55-ef20-b098d00d4025"
      },
      "outputs": [
        {
          "output_type": "stream",
          "name": "stdout",
          "text": [
            "{'rmse': 0.8825990411806007, 'mae': 0.6815529463987867}\n",
            "{'rmse': {'n_factors': 50, 'n_epochs': 30, 'lr_all': 0.005, 'reg_all': 0.4}, 'mae': {'n_factors': 50, 'n_epochs': 30, 'lr_all': 0.005, 'reg_all': 0.4}}\n"
          ]
        }
      ],
      "source": [
        "# Get the best parameters\n",
        "print(gs.best_score)\n",
        "print(gs.best_params)"
      ]
    },
    {
      "cell_type": "code",
      "execution_count": 24,
      "metadata": {
        "id": "SaeILlkJp4OH",
        "outputId": "76e015fb-5a26-4401-c90e-9d6c1004f0ad",
        "colab": {
          "base_uri": "https://localhost:8080/"
        }
      },
      "outputs": [
        {
          "output_type": "stream",
          "name": "stdout",
          "text": [
            "Best RMSE: 0.9122518343083685\n",
            "Best MAE: 0.7019802295558922\n",
            "Best Parameters: {'k': 60, 'min_k': 3, 'sim_options': {'name': 'msd', 'user_based': False}}\n"
          ]
        }
      ],
      "source": [
        "# Cross validation with KNNBasic\n",
        "# Parameter grid for KNNBasic\n",
        "param_grid = {\n",
        "    'k': [20, 40, 60],\n",
        "    'min_k': [1, 2, 3],\n",
        "    'sim_options': {\n",
        "        'name': ['cosine', 'msd', 'pearson'],\n",
        "        'user_based': [True, False]\n",
        "    }\n",
        "}\n",
        "\n",
        "# Create the grid search object\n",
        "gs = GridSearchCV(KNNBasic, param_grid, measures=['rmse', 'mae'], cv=3, n_jobs=-1)\n",
        "\n",
        "# Fit the data\n",
        "gs.fit(data)\n",
        "\n",
        "# Get the best parameters and scores\n",
        "print(\"Best RMSE:\", gs.best_score['rmse'])\n",
        "print(\"Best MAE:\", gs.best_score['mae'])\n",
        "print(\"Best Parameters:\", gs.best_params['rmse'])"
      ]
    },
    {
      "cell_type": "code",
      "source": [
        "# These 2 code cells run faster than the cell above\n",
        "\n",
        "# Cross validation with KNNBasic\n",
        "# knn_basic = KNNBasic(sim_options={'name':'msd', 'user_based':True})\n",
        "# cv_knn_basic = cross_validate(knn_basic, data, n_jobs=-1)\n",
        "\n",
        "# and this\n",
        "# Average RMSE\n",
        "# for i in cv_knn_basic.items():\n",
        "#     print(i)\n",
        "# print('-----------------------')\n",
        "# print(np.mean(cv_knn_basic['test_rmse']))"
      ],
      "metadata": {
        "id": "hhW_lM2szXzP"
      },
      "execution_count": 25,
      "outputs": []
    },
    {
      "cell_type": "code",
      "source": [
        "knn_baseline = KNNBaseline(sim_options={'name':'msd', 'user_based':True})\n",
        "cv_knn_baseline = cross_validate(knn_baseline,data)"
      ],
      "metadata": {
        "colab": {
          "base_uri": "https://localhost:8080/"
        },
        "id": "cx3rNldT0kak",
        "outputId": "bcdb34ce-4a2e-4232-eebd-c88d431bd732"
      },
      "execution_count": 26,
      "outputs": [
        {
          "output_type": "stream",
          "name": "stdout",
          "text": [
            "Estimating biases using als...\n",
            "Computing the msd similarity matrix...\n",
            "Done computing similarity matrix.\n",
            "Estimating biases using als...\n",
            "Computing the msd similarity matrix...\n",
            "Done computing similarity matrix.\n",
            "Estimating biases using als...\n",
            "Computing the msd similarity matrix...\n",
            "Done computing similarity matrix.\n",
            "Estimating biases using als...\n",
            "Computing the msd similarity matrix...\n",
            "Done computing similarity matrix.\n",
            "Estimating biases using als...\n",
            "Computing the msd similarity matrix...\n",
            "Done computing similarity matrix.\n"
          ]
        }
      ]
    },
    {
      "cell_type": "code",
      "source": [
        "# print out the average score for the test set\n",
        "for i in cv_knn_baseline.items():\n",
        "    print(i)\n",
        "\n",
        "np.mean(cv_knn_baseline['test_rmse'])"
      ],
      "metadata": {
        "colab": {
          "base_uri": "https://localhost:8080/"
        },
        "id": "CDF4VQmO0xdr",
        "outputId": "d71a5f18-48fb-4f05-e607-bc91b4e2160d"
      },
      "execution_count": 27,
      "outputs": [
        {
          "output_type": "stream",
          "name": "stdout",
          "text": [
            "('test_rmse', array([0.88251704, 0.8725812 , 0.87613176, 0.86104709, 0.88071585]))\n",
            "('test_mae', array([0.67542939, 0.66465968, 0.67156155, 0.66091684, 0.67047395]))\n",
            "('fit_time', (0.48173093795776367, 0.4966695308685303, 0.5479660034179688, 1.1577913761138916, 0.48055386543273926))\n",
            "('test_time', (1.6162140369415283, 1.608140230178833, 8.748424530029297, 1.85129976272583, 1.6232457160949707))\n"
          ]
        },
        {
          "output_type": "execute_result",
          "data": {
            "text/plain": [
              "0.8745985882564982"
            ]
          },
          "metadata": {},
          "execution_count": 27
        }
      ]
    },
    {
      "cell_type": "markdown",
      "source": [
        "Based off these outputs, it seems like the best performing model is the SVD model with n_factors = 100 and a regularization rate of 0.4."
      ],
      "metadata": {
        "id": "zGS_Lj752YmU"
      }
    },
    {
      "cell_type": "markdown",
      "source": [
        "Next, I'll create a `get_movie_recommendations` function that is designed to enhance the user experience by allowing users to provide ratings for a selection of movies they've seen. It prompts users to rate five randomly chosen movies on a scale of 0.5 to 5. If a user hasn't watched a particular movie, they can simply enter 'n' to skip it.\n",
        "\n",
        "After collecting the ratings, the function uses a trained recommendation model to predict ratings for all movies in the dataset. It then adjusts the predicted ratings based on the user's inputs and recommends the top movies tailored to their preferences. This approach ensures that users receive personalized suggestions that align with their tastes."
      ],
      "metadata": {
        "id": "-z0DAkIIk1fY"
      }
    },
    {
      "cell_type": "code",
      "source": [
        "def get_movie_recommendations(user_id, ratings_with_titles, model, n_recommendations=5):\n",
        "    # Prepare a sample of movies to prompt the user\n",
        "    sample_movies = ratings_with_titles.sample(n=5)\n",
        "    print(\"Please rate the following movies on a scale of 0.5 to 5 (or enter 'n' to skip):\")\n",
        "\n",
        "    user_ratings = {}\n",
        "\n",
        "    for index, row in sample_movies.iterrows():\n",
        "        title = row['title']\n",
        "        # Prompt user for rating\n",
        "        rating_input = input(f\"Rate '{title}': \")\n",
        "\n",
        "        if rating_input.lower() == 'n':\n",
        "            continue  # Skip this movie if the user hasn't seen it\n",
        "\n",
        "        try:\n",
        "            rating = float(rating_input)\n",
        "            user_ratings[row['movieId']] = rating\n",
        "        except ValueError:\n",
        "            print(\"Invalid input. Please enter a number between 0.5 and 5 or 'n' to skip.\")\n",
        "\n",
        "    # Get predictions for all movies\n",
        "    all_movie_ids = ratings_with_titles['movieId'].unique()\n",
        "    predictions = []\n",
        "\n",
        "    for movie_id in all_movie_ids:\n",
        "        # Use the model to predict the rating\n",
        "        pred_rating = model.predict(user_id, movie_id).est\n",
        "\n",
        "        # If the user rated this movie, adjust the prediction based on their rating\n",
        "        if movie_id in user_ratings:\n",
        "            adjusted_rating = (pred_rating + user_ratings[movie_id]) / 2\n",
        "        else:\n",
        "            adjusted_rating = pred_rating\n",
        "\n",
        "        predictions.append((movie_id, adjusted_rating))\n",
        "\n",
        "    # Sort predictions by adjusted rating\n",
        "    predictions.sort(key=lambda x: x[1], reverse=True)\n",
        "\n",
        "    # Recommend top N movies\n",
        "    recommended_movies = predictions[:n_recommendations]\n",
        "\n",
        "    # Convert movie IDs to titles\n",
        "    recommended_titles = ratings_with_titles[ratings_with_titles['movieId'].isin([m[0] for m in recommended_movies])]\n",
        "\n",
        "    return recommended_titles[['title', 'movieId']]\n",
        "\n",
        "# Usage\n",
        "user_id = 55  # user ID\n",
        "best_model = gs.best_estimator['rmse']  # or 'mae'\n",
        "best_model.fit(trainset)\n",
        "recommended_movies = get_movie_recommendations(user_id, ratings_with_titles, best_model)\n",
        "print(\"Recommended Movies:\")\n",
        "print(recommended_movies)"
      ],
      "metadata": {
        "colab": {
          "base_uri": "https://localhost:8080/"
        },
        "id": "jdsNKFNABVD4",
        "outputId": "7fddf8b8-4964-433b-d883-d2262eecf898"
      },
      "execution_count": 28,
      "outputs": [
        {
          "output_type": "stream",
          "name": "stdout",
          "text": [
            "Computing the msd similarity matrix...\n",
            "Done computing similarity matrix.\n",
            "Please rate the following movies on a scale of 0.5 to 5 (or enter 'n' to skip):\n",
            "Rate 'Last Samurai, The (2003)': 4\n",
            "Rate 'Memento (2000)': 4.1\n",
            "Rate 'Dirty Harry (1971)': 4.2\n",
            "Rate 'First Knight (1995)': 4.3\n",
            "Rate 'E.T. the Extra-Terrestrial (1982)': 4.4\n",
            "Recommended Movies:\n",
            "                      title  movieId\n",
            "9016   Way Back, The (2010)    83369\n",
            "9139       The Mummy (2017)   170827\n",
            "9147           Black Mirror   176601\n",
            "9153           Alpha (2018)   185031\n",
            "90034            61* (2001)    27373\n"
          ]
        }
      ]
    },
    {
      "cell_type": "markdown",
      "source": [
        "### Cold-Start Problem"
      ],
      "metadata": {
        "id": "UPRnUH68lHzn"
      }
    },
    {
      "cell_type": "code",
      "source": [
        "# Split the genres and explode the DataFrame\n",
        "movies_ratings['genres'] = movies_ratings['genres'].str.split('|')\n",
        "expanded_movies = movies_ratings.explode('genres')\n",
        "\n",
        "# Reset the index\n",
        "expanded_movies.reset_index(drop=True, inplace=True)"
      ],
      "metadata": {
        "id": "20CjiLXnlbBV"
      },
      "execution_count": 29,
      "outputs": []
    },
    {
      "cell_type": "code",
      "source": [
        "# Display the result\n",
        "expanded_movies.head()"
      ],
      "metadata": {
        "id": "Z0hUxeJFlj1J",
        "outputId": "e564eb2e-c71a-4449-969e-27a8b47bd3d7",
        "colab": {
          "base_uri": "https://localhost:8080/",
          "height": 206
        }
      },
      "execution_count": 30,
      "outputs": [
        {
          "output_type": "execute_result",
          "data": {
            "text/plain": [
              "   movieId             title     genres  userId  rating\n",
              "0        1  Toy Story (1995)  Adventure     1.0     4.0\n",
              "1        1  Toy Story (1995)  Animation     1.0     4.0\n",
              "2        1  Toy Story (1995)   Children     1.0     4.0\n",
              "3        1  Toy Story (1995)     Comedy     1.0     4.0\n",
              "4        1  Toy Story (1995)    Fantasy     1.0     4.0"
            ],
            "text/html": [
              "\n",
              "  <div id=\"df-1e965c2e-dbcd-4507-934c-29874fb73fd5\" class=\"colab-df-container\">\n",
              "    <div>\n",
              "<style scoped>\n",
              "    .dataframe tbody tr th:only-of-type {\n",
              "        vertical-align: middle;\n",
              "    }\n",
              "\n",
              "    .dataframe tbody tr th {\n",
              "        vertical-align: top;\n",
              "    }\n",
              "\n",
              "    .dataframe thead th {\n",
              "        text-align: right;\n",
              "    }\n",
              "</style>\n",
              "<table border=\"1\" class=\"dataframe\">\n",
              "  <thead>\n",
              "    <tr style=\"text-align: right;\">\n",
              "      <th></th>\n",
              "      <th>movieId</th>\n",
              "      <th>title</th>\n",
              "      <th>genres</th>\n",
              "      <th>userId</th>\n",
              "      <th>rating</th>\n",
              "    </tr>\n",
              "  </thead>\n",
              "  <tbody>\n",
              "    <tr>\n",
              "      <th>0</th>\n",
              "      <td>1</td>\n",
              "      <td>Toy Story (1995)</td>\n",
              "      <td>Adventure</td>\n",
              "      <td>1.0</td>\n",
              "      <td>4.0</td>\n",
              "    </tr>\n",
              "    <tr>\n",
              "      <th>1</th>\n",
              "      <td>1</td>\n",
              "      <td>Toy Story (1995)</td>\n",
              "      <td>Animation</td>\n",
              "      <td>1.0</td>\n",
              "      <td>4.0</td>\n",
              "    </tr>\n",
              "    <tr>\n",
              "      <th>2</th>\n",
              "      <td>1</td>\n",
              "      <td>Toy Story (1995)</td>\n",
              "      <td>Children</td>\n",
              "      <td>1.0</td>\n",
              "      <td>4.0</td>\n",
              "    </tr>\n",
              "    <tr>\n",
              "      <th>3</th>\n",
              "      <td>1</td>\n",
              "      <td>Toy Story (1995)</td>\n",
              "      <td>Comedy</td>\n",
              "      <td>1.0</td>\n",
              "      <td>4.0</td>\n",
              "    </tr>\n",
              "    <tr>\n",
              "      <th>4</th>\n",
              "      <td>1</td>\n",
              "      <td>Toy Story (1995)</td>\n",
              "      <td>Fantasy</td>\n",
              "      <td>1.0</td>\n",
              "      <td>4.0</td>\n",
              "    </tr>\n",
              "  </tbody>\n",
              "</table>\n",
              "</div>\n",
              "    <div class=\"colab-df-buttons\">\n",
              "\n",
              "  <div class=\"colab-df-container\">\n",
              "    <button class=\"colab-df-convert\" onclick=\"convertToInteractive('df-1e965c2e-dbcd-4507-934c-29874fb73fd5')\"\n",
              "            title=\"Convert this dataframe to an interactive table.\"\n",
              "            style=\"display:none;\">\n",
              "\n",
              "  <svg xmlns=\"http://www.w3.org/2000/svg\" height=\"24px\" viewBox=\"0 -960 960 960\">\n",
              "    <path d=\"M120-120v-720h720v720H120Zm60-500h600v-160H180v160Zm220 220h160v-160H400v160Zm0 220h160v-160H400v160ZM180-400h160v-160H180v160Zm440 0h160v-160H620v160ZM180-180h160v-160H180v160Zm440 0h160v-160H620v160Z\"/>\n",
              "  </svg>\n",
              "    </button>\n",
              "\n",
              "  <style>\n",
              "    .colab-df-container {\n",
              "      display:flex;\n",
              "      gap: 12px;\n",
              "    }\n",
              "\n",
              "    .colab-df-convert {\n",
              "      background-color: #E8F0FE;\n",
              "      border: none;\n",
              "      border-radius: 50%;\n",
              "      cursor: pointer;\n",
              "      display: none;\n",
              "      fill: #1967D2;\n",
              "      height: 32px;\n",
              "      padding: 0 0 0 0;\n",
              "      width: 32px;\n",
              "    }\n",
              "\n",
              "    .colab-df-convert:hover {\n",
              "      background-color: #E2EBFA;\n",
              "      box-shadow: 0px 1px 2px rgba(60, 64, 67, 0.3), 0px 1px 3px 1px rgba(60, 64, 67, 0.15);\n",
              "      fill: #174EA6;\n",
              "    }\n",
              "\n",
              "    .colab-df-buttons div {\n",
              "      margin-bottom: 4px;\n",
              "    }\n",
              "\n",
              "    [theme=dark] .colab-df-convert {\n",
              "      background-color: #3B4455;\n",
              "      fill: #D2E3FC;\n",
              "    }\n",
              "\n",
              "    [theme=dark] .colab-df-convert:hover {\n",
              "      background-color: #434B5C;\n",
              "      box-shadow: 0px 1px 3px 1px rgba(0, 0, 0, 0.15);\n",
              "      filter: drop-shadow(0px 1px 2px rgba(0, 0, 0, 0.3));\n",
              "      fill: #FFFFFF;\n",
              "    }\n",
              "  </style>\n",
              "\n",
              "    <script>\n",
              "      const buttonEl =\n",
              "        document.querySelector('#df-1e965c2e-dbcd-4507-934c-29874fb73fd5 button.colab-df-convert');\n",
              "      buttonEl.style.display =\n",
              "        google.colab.kernel.accessAllowed ? 'block' : 'none';\n",
              "\n",
              "      async function convertToInteractive(key) {\n",
              "        const element = document.querySelector('#df-1e965c2e-dbcd-4507-934c-29874fb73fd5');\n",
              "        const dataTable =\n",
              "          await google.colab.kernel.invokeFunction('convertToInteractive',\n",
              "                                                    [key], {});\n",
              "        if (!dataTable) return;\n",
              "\n",
              "        const docLinkHtml = 'Like what you see? Visit the ' +\n",
              "          '<a target=\"_blank\" href=https://colab.research.google.com/notebooks/data_table.ipynb>data table notebook</a>'\n",
              "          + ' to learn more about interactive tables.';\n",
              "        element.innerHTML = '';\n",
              "        dataTable['output_type'] = 'display_data';\n",
              "        await google.colab.output.renderOutput(dataTable, element);\n",
              "        const docLink = document.createElement('div');\n",
              "        docLink.innerHTML = docLinkHtml;\n",
              "        element.appendChild(docLink);\n",
              "      }\n",
              "    </script>\n",
              "  </div>\n",
              "\n",
              "\n",
              "<div id=\"df-078075de-c54b-4f02-9105-4046dbc857db\">\n",
              "  <button class=\"colab-df-quickchart\" onclick=\"quickchart('df-078075de-c54b-4f02-9105-4046dbc857db')\"\n",
              "            title=\"Suggest charts\"\n",
              "            style=\"display:none;\">\n",
              "\n",
              "<svg xmlns=\"http://www.w3.org/2000/svg\" height=\"24px\"viewBox=\"0 0 24 24\"\n",
              "     width=\"24px\">\n",
              "    <g>\n",
              "        <path d=\"M19 3H5c-1.1 0-2 .9-2 2v14c0 1.1.9 2 2 2h14c1.1 0 2-.9 2-2V5c0-1.1-.9-2-2-2zM9 17H7v-7h2v7zm4 0h-2V7h2v10zm4 0h-2v-4h2v4z\"/>\n",
              "    </g>\n",
              "</svg>\n",
              "  </button>\n",
              "\n",
              "<style>\n",
              "  .colab-df-quickchart {\n",
              "      --bg-color: #E8F0FE;\n",
              "      --fill-color: #1967D2;\n",
              "      --hover-bg-color: #E2EBFA;\n",
              "      --hover-fill-color: #174EA6;\n",
              "      --disabled-fill-color: #AAA;\n",
              "      --disabled-bg-color: #DDD;\n",
              "  }\n",
              "\n",
              "  [theme=dark] .colab-df-quickchart {\n",
              "      --bg-color: #3B4455;\n",
              "      --fill-color: #D2E3FC;\n",
              "      --hover-bg-color: #434B5C;\n",
              "      --hover-fill-color: #FFFFFF;\n",
              "      --disabled-bg-color: #3B4455;\n",
              "      --disabled-fill-color: #666;\n",
              "  }\n",
              "\n",
              "  .colab-df-quickchart {\n",
              "    background-color: var(--bg-color);\n",
              "    border: none;\n",
              "    border-radius: 50%;\n",
              "    cursor: pointer;\n",
              "    display: none;\n",
              "    fill: var(--fill-color);\n",
              "    height: 32px;\n",
              "    padding: 0;\n",
              "    width: 32px;\n",
              "  }\n",
              "\n",
              "  .colab-df-quickchart:hover {\n",
              "    background-color: var(--hover-bg-color);\n",
              "    box-shadow: 0 1px 2px rgba(60, 64, 67, 0.3), 0 1px 3px 1px rgba(60, 64, 67, 0.15);\n",
              "    fill: var(--button-hover-fill-color);\n",
              "  }\n",
              "\n",
              "  .colab-df-quickchart-complete:disabled,\n",
              "  .colab-df-quickchart-complete:disabled:hover {\n",
              "    background-color: var(--disabled-bg-color);\n",
              "    fill: var(--disabled-fill-color);\n",
              "    box-shadow: none;\n",
              "  }\n",
              "\n",
              "  .colab-df-spinner {\n",
              "    border: 2px solid var(--fill-color);\n",
              "    border-color: transparent;\n",
              "    border-bottom-color: var(--fill-color);\n",
              "    animation:\n",
              "      spin 1s steps(1) infinite;\n",
              "  }\n",
              "\n",
              "  @keyframes spin {\n",
              "    0% {\n",
              "      border-color: transparent;\n",
              "      border-bottom-color: var(--fill-color);\n",
              "      border-left-color: var(--fill-color);\n",
              "    }\n",
              "    20% {\n",
              "      border-color: transparent;\n",
              "      border-left-color: var(--fill-color);\n",
              "      border-top-color: var(--fill-color);\n",
              "    }\n",
              "    30% {\n",
              "      border-color: transparent;\n",
              "      border-left-color: var(--fill-color);\n",
              "      border-top-color: var(--fill-color);\n",
              "      border-right-color: var(--fill-color);\n",
              "    }\n",
              "    40% {\n",
              "      border-color: transparent;\n",
              "      border-right-color: var(--fill-color);\n",
              "      border-top-color: var(--fill-color);\n",
              "    }\n",
              "    60% {\n",
              "      border-color: transparent;\n",
              "      border-right-color: var(--fill-color);\n",
              "    }\n",
              "    80% {\n",
              "      border-color: transparent;\n",
              "      border-right-color: var(--fill-color);\n",
              "      border-bottom-color: var(--fill-color);\n",
              "    }\n",
              "    90% {\n",
              "      border-color: transparent;\n",
              "      border-bottom-color: var(--fill-color);\n",
              "    }\n",
              "  }\n",
              "</style>\n",
              "\n",
              "  <script>\n",
              "    async function quickchart(key) {\n",
              "      const quickchartButtonEl =\n",
              "        document.querySelector('#' + key + ' button');\n",
              "      quickchartButtonEl.disabled = true;  // To prevent multiple clicks.\n",
              "      quickchartButtonEl.classList.add('colab-df-spinner');\n",
              "      try {\n",
              "        const charts = await google.colab.kernel.invokeFunction(\n",
              "            'suggestCharts', [key], {});\n",
              "      } catch (error) {\n",
              "        console.error('Error during call to suggestCharts:', error);\n",
              "      }\n",
              "      quickchartButtonEl.classList.remove('colab-df-spinner');\n",
              "      quickchartButtonEl.classList.add('colab-df-quickchart-complete');\n",
              "    }\n",
              "    (() => {\n",
              "      let quickchartButtonEl =\n",
              "        document.querySelector('#df-078075de-c54b-4f02-9105-4046dbc857db button');\n",
              "      quickchartButtonEl.style.display =\n",
              "        google.colab.kernel.accessAllowed ? 'block' : 'none';\n",
              "    })();\n",
              "  </script>\n",
              "</div>\n",
              "\n",
              "    </div>\n",
              "  </div>\n"
            ],
            "application/vnd.google.colaboratory.intrinsic+json": {
              "type": "dataframe",
              "variable_name": "expanded_movies"
            }
          },
          "metadata": {},
          "execution_count": 30
        }
      ]
    },
    {
      "cell_type": "code",
      "source": [
        "# Get unique genres from the 'genres' column\n",
        "available_genres = expanded_movies['genres'].unique()\n",
        "\n",
        "def recommend_movies_cold(user_genres, movies_df, n=5):\n",
        "    # Filter movies based on user-selected genres\n",
        "    recommended_movies_cold = movies_df[movies_df['genres'].isin(user_genres)]\n",
        "\n",
        "    # Calculate the average rating for each movie\n",
        "    average_ratings = recommended_movies_cold.groupby('title')['rating'].mean().reset_index()\n",
        "\n",
        "    # Filter for movies with an average rating of at least 4.0\n",
        "    recommended_movies_cold = recommended_movies_cold.merge(average_ratings, on='title', suffixes=('', '_avg'))\n",
        "    recommended_movies_cold = recommended_movies_cold[recommended_movies_cold['rating_avg'] >= 4.0]\n",
        "\n",
        "    # Drop duplicates to ensure each movie is suggested only once\n",
        "    recommended_movies_cold = recommended_movies_cold.drop_duplicates(subset='title')\n",
        "\n",
        "    # Sort by average rating and return top N movies\n",
        "    return recommended_movies_cold.sort_values(by='rating_avg', ascending=False).head(n)\n",
        "\n",
        "# Prompt user to select genres\n",
        "print(\"Please select up to 5 genres from the following list:\")\n",
        "for idx, genre in enumerate(available_genres, start=1):\n",
        "    print(f\"{idx}. {genre}\")\n",
        "\n",
        "# Get user input for genre selection\n",
        "user_input = input(\"Enter the numbers of your selected genres separated by commas (e.g., 1, 2, 3): \")\n",
        "selected_indices = [int(x.strip()) for x in user_input.split(',') if x.strip().isdigit()]\n",
        "\n",
        "# Ensure user selects up to 5 genres\n",
        "if len(selected_indices) > 5:\n",
        "    print(\"You can only select up to 5 genres.\")\n",
        "    selected_indices = selected_indices[:5]\n",
        "\n",
        "# Get the selected genres\n",
        "user_selected_genres = [available_genres[i - 1] for i in selected_indices]\n",
        "\n",
        "# Get recommendations based on user-selected genres\n",
        "recommended = recommend_movies_cold(user_selected_genres, expanded_movies)\n",
        "print(recommended[['title', 'genres', 'rating']])"
      ],
      "metadata": {
        "id": "r0PdtUmYluy4",
        "outputId": "6fa3d1fb-7907-4e69-e8d2-0bb1f938f1c4",
        "colab": {
          "base_uri": "https://localhost:8080/"
        }
      },
      "execution_count": 31,
      "outputs": [
        {
          "output_type": "stream",
          "name": "stdout",
          "text": [
            "Please select up to 5 genres from the following list:\n",
            "1. Adventure\n",
            "2. Animation\n",
            "3. Children\n",
            "4. Comedy\n",
            "5. Fantasy\n",
            "6. Romance\n",
            "7. Drama\n",
            "8. Action\n",
            "9. Crime\n",
            "10. Thriller\n",
            "11. Horror\n",
            "12. Mystery\n",
            "13. Sci-Fi\n",
            "14. War\n",
            "15. Musical\n",
            "16. Documentary\n",
            "17. IMAX\n",
            "18. Western\n",
            "19. Film-Noir\n",
            "20. (no genres listed)\n",
            "Enter the numbers of your selected genres separated by commas (e.g., 1, 2, 3): 18\n",
            "                                      title   genres  rating\n",
            "1894  Trinity and Sartana Are Coming (1972)  Western     5.0\n",
            "1451                 Duel in the Sun (1946)  Western     5.0\n",
            "1651              7 Faces of Dr. Lao (1964)  Western     5.0\n",
            "1599            Ox-Bow Incident, The (1943)  Western     4.5\n",
            "1606                       Oklahoma! (1955)  Western     5.0\n"
          ]
        }
      ]
    },
    {
      "cell_type": "markdown",
      "source": [
        "## Neural Networks"
      ],
      "metadata": {
        "id": "8xnUMSG8U4W5"
      }
    },
    {
      "cell_type": "markdown",
      "source": [
        "I got performance issues for my neural network model, so I'll be dropping any rows where any column has a null value."
      ],
      "metadata": {
        "id": "JAAHoA685fai"
      }
    },
    {
      "cell_type": "code",
      "source": [
        "# Drop any rows with null values in any column\n",
        "movies_ratings_tags = movies_ratings_tags.dropna()"
      ],
      "metadata": {
        "id": "Dp4l_X-T1D1h"
      },
      "execution_count": 32,
      "outputs": []
    },
    {
      "cell_type": "markdown",
      "source": [
        "### Step 1: Data Preparation"
      ],
      "metadata": {
        "id": "FVYEYxBre-z3"
      }
    },
    {
      "cell_type": "markdown",
      "source": [
        "First, we'll preprocess the data to create user-item pairs suitable for training our model."
      ],
      "metadata": {
        "id": "fYL0lALoaZas"
      }
    },
    {
      "cell_type": "code",
      "source": [
        "# Create user-item interaction matrix\n",
        "ratings = movies_ratings_tags[['userId', 'movieId', 'rating']]"
      ],
      "metadata": {
        "id": "rnmd3jcXZpNe"
      },
      "execution_count": 33,
      "outputs": []
    },
    {
      "cell_type": "code",
      "source": [
        "# Create user and movie mappings\n",
        "user_ids = ratings['userId'].unique()\n",
        "movie_ids = ratings['movieId'].unique()"
      ],
      "metadata": {
        "id": "HA-mzR8XaCFS"
      },
      "execution_count": 34,
      "outputs": []
    },
    {
      "cell_type": "code",
      "source": [
        "user_to_index = {user_id: idx for idx, user_id in enumerate(user_ids)}\n",
        "movie_to_index = {movie_id: idx for idx, movie_id in enumerate(movie_ids)}"
      ],
      "metadata": {
        "id": "I0YsBxZYaHlZ"
      },
      "execution_count": 35,
      "outputs": []
    },
    {
      "cell_type": "code",
      "source": [
        "# Convert userId and movieId to indices\n",
        "ratings['userIndex'] = ratings['userId'].map(user_to_index)\n",
        "ratings['movieIndex'] = ratings['movieId'].map(movie_to_index)"
      ],
      "metadata": {
        "id": "FAQjw2B5aL1V"
      },
      "execution_count": 36,
      "outputs": []
    },
    {
      "cell_type": "code",
      "source": [
        "# Split the data into training and test sets\n",
        "train, test = train_test_split(ratings, test_size=0.2, random_state=42)\n",
        "\n",
        "X_train = train[['userIndex', 'movieIndex']]\n",
        "y_train = train['rating']\n",
        "X_test = test[['userIndex', 'movieIndex']]\n",
        "y_test = test['rating']"
      ],
      "metadata": {
        "id": "uSfZQrcqaRch"
      },
      "execution_count": 37,
      "outputs": []
    },
    {
      "cell_type": "markdown",
      "source": [
        "### Step 2: Build the Neural Network"
      ],
      "metadata": {
        "id": "2ZZvYaove2Ms"
      }
    },
    {
      "cell_type": "markdown",
      "source": [
        "Now we can create a simple neural network that learns from user-item interactions."
      ],
      "metadata": {
        "id": "eUoIw9Iza5P4"
      }
    },
    {
      "cell_type": "code",
      "source": [
        "# Define model parameters\n",
        "num_users = len(user_ids)\n",
        "num_movies = len(movie_ids)\n",
        "embedding_size = 50  # Size of the embedding vectors"
      ],
      "metadata": {
        "id": "kMSXDqr6a7qd"
      },
      "execution_count": 38,
      "outputs": []
    },
    {
      "cell_type": "code",
      "source": [
        "# Define the model architecture\n",
        "user_input = Input(shape=(1,), name='user_input')\n",
        "movie_input = Input(shape=(1,), name='movie_input')\n",
        "\n",
        "user_embedding = Embedding(num_users, embedding_size)(user_input)\n",
        "movie_embedding = Embedding(num_movies, embedding_size)(movie_input)"
      ],
      "metadata": {
        "id": "koBaGro_bDG-"
      },
      "execution_count": 39,
      "outputs": []
    },
    {
      "cell_type": "code",
      "source": [
        "# Flatten the embeddings\n",
        "user_vecs = Flatten()(user_embedding)\n",
        "movie_vecs = Flatten()(movie_embedding)"
      ],
      "metadata": {
        "id": "_c6NdkImbJJM"
      },
      "execution_count": 40,
      "outputs": []
    },
    {
      "cell_type": "code",
      "source": [
        "# Compute the dot product of user and movie vectors\n",
        "dot_product = Dot(axes=1)([user_vecs, movie_vecs])"
      ],
      "metadata": {
        "id": "VxEvPvJRbNnk"
      },
      "execution_count": 41,
      "outputs": []
    },
    {
      "cell_type": "code",
      "source": [
        "# Add a Dense layer for more learning capacity\n",
        "output = Dense(1, activation='linear')(dot_product)"
      ],
      "metadata": {
        "id": "Hi6PItwdbR2V"
      },
      "execution_count": 42,
      "outputs": []
    },
    {
      "cell_type": "code",
      "source": [
        "# Compile the model\n",
        "model = Model(inputs=[user_input, movie_input], outputs=output)\n",
        "model.compile(optimizer=Adam(learning_rate=0.001), loss='mean_squared_error')\n",
        "\n",
        "# Print the model summary\n",
        "model.summary()"
      ],
      "metadata": {
        "colab": {
          "base_uri": "https://localhost:8080/",
          "height": 397
        },
        "id": "d82JpnHgbV71",
        "outputId": "35d3cc09-1530-4a34-b0e4-42e613936c1f"
      },
      "execution_count": 43,
      "outputs": [
        {
          "output_type": "display_data",
          "data": {
            "text/plain": [
              "\u001b[1mModel: \"functional\"\u001b[0m\n"
            ],
            "text/html": [
              "<pre style=\"white-space:pre;overflow-x:auto;line-height:normal;font-family:Menlo,'DejaVu Sans Mono',consolas,'Courier New',monospace\"><span style=\"font-weight: bold\">Model: \"functional\"</span>\n",
              "</pre>\n"
            ]
          },
          "metadata": {}
        },
        {
          "output_type": "display_data",
          "data": {
            "text/plain": [
              "┏━━━━━━━━━━━━━━━━━━━━━━━━━━━┳━━━━━━━━━━━━━━━━━━━━━━━━┳━━━━━━━━━━━━━━━━┳━━━━━━━━━━━━━━━━━━━━━━━━┓\n",
              "┃\u001b[1m \u001b[0m\u001b[1mLayer (type)             \u001b[0m\u001b[1m \u001b[0m┃\u001b[1m \u001b[0m\u001b[1mOutput Shape          \u001b[0m\u001b[1m \u001b[0m┃\u001b[1m \u001b[0m\u001b[1m       Param #\u001b[0m\u001b[1m \u001b[0m┃\u001b[1m \u001b[0m\u001b[1mConnected to          \u001b[0m\u001b[1m \u001b[0m┃\n",
              "┡━━━━━━━━━━━━━━━━━━━━━━━━━━━╇━━━━━━━━━━━━━━━━━━━━━━━━╇━━━━━━━━━━━━━━━━╇━━━━━━━━━━━━━━━━━━━━━━━━┩\n",
              "│ user_input (\u001b[38;5;33mInputLayer\u001b[0m)   │ (\u001b[38;5;45mNone\u001b[0m, \u001b[38;5;34m1\u001b[0m)              │              \u001b[38;5;34m0\u001b[0m │ -                      │\n",
              "├───────────────────────────┼────────────────────────┼────────────────┼────────────────────────┤\n",
              "│ movie_input (\u001b[38;5;33mInputLayer\u001b[0m)  │ (\u001b[38;5;45mNone\u001b[0m, \u001b[38;5;34m1\u001b[0m)              │              \u001b[38;5;34m0\u001b[0m │ -                      │\n",
              "├───────────────────────────┼────────────────────────┼────────────────┼────────────────────────┤\n",
              "│ embedding (\u001b[38;5;33mEmbedding\u001b[0m)     │ (\u001b[38;5;45mNone\u001b[0m, \u001b[38;5;34m1\u001b[0m, \u001b[38;5;34m50\u001b[0m)          │         \u001b[38;5;34m30,500\u001b[0m │ user_input[\u001b[38;5;34m0\u001b[0m][\u001b[38;5;34m0\u001b[0m]       │\n",
              "├───────────────────────────┼────────────────────────┼────────────────┼────────────────────────┤\n",
              "│ embedding_1 (\u001b[38;5;33mEmbedding\u001b[0m)   │ (\u001b[38;5;45mNone\u001b[0m, \u001b[38;5;34m1\u001b[0m, \u001b[38;5;34m50\u001b[0m)          │         \u001b[38;5;34m77,700\u001b[0m │ movie_input[\u001b[38;5;34m0\u001b[0m][\u001b[38;5;34m0\u001b[0m]      │\n",
              "├───────────────────────────┼────────────────────────┼────────────────┼────────────────────────┤\n",
              "│ flatten (\u001b[38;5;33mFlatten\u001b[0m)         │ (\u001b[38;5;45mNone\u001b[0m, \u001b[38;5;34m50\u001b[0m)             │              \u001b[38;5;34m0\u001b[0m │ embedding[\u001b[38;5;34m0\u001b[0m][\u001b[38;5;34m0\u001b[0m]        │\n",
              "├───────────────────────────┼────────────────────────┼────────────────┼────────────────────────┤\n",
              "│ flatten_1 (\u001b[38;5;33mFlatten\u001b[0m)       │ (\u001b[38;5;45mNone\u001b[0m, \u001b[38;5;34m50\u001b[0m)             │              \u001b[38;5;34m0\u001b[0m │ embedding_1[\u001b[38;5;34m0\u001b[0m][\u001b[38;5;34m0\u001b[0m]      │\n",
              "├───────────────────────────┼────────────────────────┼────────────────┼────────────────────────┤\n",
              "│ dot (\u001b[38;5;33mDot\u001b[0m)                 │ (\u001b[38;5;45mNone\u001b[0m, \u001b[38;5;34m1\u001b[0m)              │              \u001b[38;5;34m0\u001b[0m │ flatten[\u001b[38;5;34m0\u001b[0m][\u001b[38;5;34m0\u001b[0m],         │\n",
              "│                           │                        │                │ flatten_1[\u001b[38;5;34m0\u001b[0m][\u001b[38;5;34m0\u001b[0m]        │\n",
              "├───────────────────────────┼────────────────────────┼────────────────┼────────────────────────┤\n",
              "│ dense (\u001b[38;5;33mDense\u001b[0m)             │ (\u001b[38;5;45mNone\u001b[0m, \u001b[38;5;34m1\u001b[0m)              │              \u001b[38;5;34m2\u001b[0m │ dot[\u001b[38;5;34m0\u001b[0m][\u001b[38;5;34m0\u001b[0m]              │\n",
              "└───────────────────────────┴────────────────────────┴────────────────┴────────────────────────┘\n"
            ],
            "text/html": [
              "<pre style=\"white-space:pre;overflow-x:auto;line-height:normal;font-family:Menlo,'DejaVu Sans Mono',consolas,'Courier New',monospace\">┏━━━━━━━━━━━━━━━━━━━━━━━━━━━┳━━━━━━━━━━━━━━━━━━━━━━━━┳━━━━━━━━━━━━━━━━┳━━━━━━━━━━━━━━━━━━━━━━━━┓\n",
              "┃<span style=\"font-weight: bold\"> Layer (type)              </span>┃<span style=\"font-weight: bold\"> Output Shape           </span>┃<span style=\"font-weight: bold\">        Param # </span>┃<span style=\"font-weight: bold\"> Connected to           </span>┃\n",
              "┡━━━━━━━━━━━━━━━━━━━━━━━━━━━╇━━━━━━━━━━━━━━━━━━━━━━━━╇━━━━━━━━━━━━━━━━╇━━━━━━━━━━━━━━━━━━━━━━━━┩\n",
              "│ user_input (<span style=\"color: #0087ff; text-decoration-color: #0087ff\">InputLayer</span>)   │ (<span style=\"color: #00d7ff; text-decoration-color: #00d7ff\">None</span>, <span style=\"color: #00af00; text-decoration-color: #00af00\">1</span>)              │              <span style=\"color: #00af00; text-decoration-color: #00af00\">0</span> │ -                      │\n",
              "├───────────────────────────┼────────────────────────┼────────────────┼────────────────────────┤\n",
              "│ movie_input (<span style=\"color: #0087ff; text-decoration-color: #0087ff\">InputLayer</span>)  │ (<span style=\"color: #00d7ff; text-decoration-color: #00d7ff\">None</span>, <span style=\"color: #00af00; text-decoration-color: #00af00\">1</span>)              │              <span style=\"color: #00af00; text-decoration-color: #00af00\">0</span> │ -                      │\n",
              "├───────────────────────────┼────────────────────────┼────────────────┼────────────────────────┤\n",
              "│ embedding (<span style=\"color: #0087ff; text-decoration-color: #0087ff\">Embedding</span>)     │ (<span style=\"color: #00d7ff; text-decoration-color: #00d7ff\">None</span>, <span style=\"color: #00af00; text-decoration-color: #00af00\">1</span>, <span style=\"color: #00af00; text-decoration-color: #00af00\">50</span>)          │         <span style=\"color: #00af00; text-decoration-color: #00af00\">30,500</span> │ user_input[<span style=\"color: #00af00; text-decoration-color: #00af00\">0</span>][<span style=\"color: #00af00; text-decoration-color: #00af00\">0</span>]       │\n",
              "├───────────────────────────┼────────────────────────┼────────────────┼────────────────────────┤\n",
              "│ embedding_1 (<span style=\"color: #0087ff; text-decoration-color: #0087ff\">Embedding</span>)   │ (<span style=\"color: #00d7ff; text-decoration-color: #00d7ff\">None</span>, <span style=\"color: #00af00; text-decoration-color: #00af00\">1</span>, <span style=\"color: #00af00; text-decoration-color: #00af00\">50</span>)          │         <span style=\"color: #00af00; text-decoration-color: #00af00\">77,700</span> │ movie_input[<span style=\"color: #00af00; text-decoration-color: #00af00\">0</span>][<span style=\"color: #00af00; text-decoration-color: #00af00\">0</span>]      │\n",
              "├───────────────────────────┼────────────────────────┼────────────────┼────────────────────────┤\n",
              "│ flatten (<span style=\"color: #0087ff; text-decoration-color: #0087ff\">Flatten</span>)         │ (<span style=\"color: #00d7ff; text-decoration-color: #00d7ff\">None</span>, <span style=\"color: #00af00; text-decoration-color: #00af00\">50</span>)             │              <span style=\"color: #00af00; text-decoration-color: #00af00\">0</span> │ embedding[<span style=\"color: #00af00; text-decoration-color: #00af00\">0</span>][<span style=\"color: #00af00; text-decoration-color: #00af00\">0</span>]        │\n",
              "├───────────────────────────┼────────────────────────┼────────────────┼────────────────────────┤\n",
              "│ flatten_1 (<span style=\"color: #0087ff; text-decoration-color: #0087ff\">Flatten</span>)       │ (<span style=\"color: #00d7ff; text-decoration-color: #00d7ff\">None</span>, <span style=\"color: #00af00; text-decoration-color: #00af00\">50</span>)             │              <span style=\"color: #00af00; text-decoration-color: #00af00\">0</span> │ embedding_1[<span style=\"color: #00af00; text-decoration-color: #00af00\">0</span>][<span style=\"color: #00af00; text-decoration-color: #00af00\">0</span>]      │\n",
              "├───────────────────────────┼────────────────────────┼────────────────┼────────────────────────┤\n",
              "│ dot (<span style=\"color: #0087ff; text-decoration-color: #0087ff\">Dot</span>)                 │ (<span style=\"color: #00d7ff; text-decoration-color: #00d7ff\">None</span>, <span style=\"color: #00af00; text-decoration-color: #00af00\">1</span>)              │              <span style=\"color: #00af00; text-decoration-color: #00af00\">0</span> │ flatten[<span style=\"color: #00af00; text-decoration-color: #00af00\">0</span>][<span style=\"color: #00af00; text-decoration-color: #00af00\">0</span>],         │\n",
              "│                           │                        │                │ flatten_1[<span style=\"color: #00af00; text-decoration-color: #00af00\">0</span>][<span style=\"color: #00af00; text-decoration-color: #00af00\">0</span>]        │\n",
              "├───────────────────────────┼────────────────────────┼────────────────┼────────────────────────┤\n",
              "│ dense (<span style=\"color: #0087ff; text-decoration-color: #0087ff\">Dense</span>)             │ (<span style=\"color: #00d7ff; text-decoration-color: #00d7ff\">None</span>, <span style=\"color: #00af00; text-decoration-color: #00af00\">1</span>)              │              <span style=\"color: #00af00; text-decoration-color: #00af00\">2</span> │ dot[<span style=\"color: #00af00; text-decoration-color: #00af00\">0</span>][<span style=\"color: #00af00; text-decoration-color: #00af00\">0</span>]              │\n",
              "└───────────────────────────┴────────────────────────┴────────────────┴────────────────────────┘\n",
              "</pre>\n"
            ]
          },
          "metadata": {}
        },
        {
          "output_type": "display_data",
          "data": {
            "text/plain": [
              "\u001b[1m Total params: \u001b[0m\u001b[38;5;34m108,202\u001b[0m (422.66 KB)\n"
            ],
            "text/html": [
              "<pre style=\"white-space:pre;overflow-x:auto;line-height:normal;font-family:Menlo,'DejaVu Sans Mono',consolas,'Courier New',monospace\"><span style=\"font-weight: bold\"> Total params: </span><span style=\"color: #00af00; text-decoration-color: #00af00\">108,202</span> (422.66 KB)\n",
              "</pre>\n"
            ]
          },
          "metadata": {}
        },
        {
          "output_type": "display_data",
          "data": {
            "text/plain": [
              "\u001b[1m Trainable params: \u001b[0m\u001b[38;5;34m108,202\u001b[0m (422.66 KB)\n"
            ],
            "text/html": [
              "<pre style=\"white-space:pre;overflow-x:auto;line-height:normal;font-family:Menlo,'DejaVu Sans Mono',consolas,'Courier New',monospace\"><span style=\"font-weight: bold\"> Trainable params: </span><span style=\"color: #00af00; text-decoration-color: #00af00\">108,202</span> (422.66 KB)\n",
              "</pre>\n"
            ]
          },
          "metadata": {}
        },
        {
          "output_type": "display_data",
          "data": {
            "text/plain": [
              "\u001b[1m Non-trainable params: \u001b[0m\u001b[38;5;34m0\u001b[0m (0.00 B)\n"
            ],
            "text/html": [
              "<pre style=\"white-space:pre;overflow-x:auto;line-height:normal;font-family:Menlo,'DejaVu Sans Mono',consolas,'Courier New',monospace\"><span style=\"font-weight: bold\"> Non-trainable params: </span><span style=\"color: #00af00; text-decoration-color: #00af00\">0</span> (0.00 B)\n",
              "</pre>\n"
            ]
          },
          "metadata": {}
        }
      ]
    },
    {
      "cell_type": "markdown",
      "source": [
        "### Step 3: Train the Model"
      ],
      "metadata": {
        "id": "JyQzxYvPenm4"
      }
    },
    {
      "cell_type": "markdown",
      "source": [
        "Now, we'll train the model on the training data."
      ],
      "metadata": {
        "id": "GPOUNj_UcFG8"
      }
    },
    {
      "cell_type": "code",
      "source": [
        "# Train the model\n",
        "model.fit([X_train['userIndex'], X_train['movieIndex']], y_train, epochs=10, batch_size=64, validation_data=([X_test['userIndex'], X_test['movieIndex']], y_test))"
      ],
      "metadata": {
        "colab": {
          "base_uri": "https://localhost:8080/"
        },
        "id": "XyL5HPehcJXV",
        "outputId": "71246454-8c14-4b3b-e7ed-e40a63bfb2d2"
      },
      "execution_count": 44,
      "outputs": [
        {
          "output_type": "stream",
          "name": "stdout",
          "text": [
            "Epoch 1/10\n",
            "\u001b[1m2916/2916\u001b[0m \u001b[32m━━━━━━━━━━━━━━━━━━━━\u001b[0m\u001b[37m\u001b[0m \u001b[1m8s\u001b[0m 2ms/step - loss: 5.8084 - val_loss: 0.4229\n",
            "Epoch 2/10\n",
            "\u001b[1m2916/2916\u001b[0m \u001b[32m━━━━━━━━━━━━━━━━━━━━\u001b[0m\u001b[37m\u001b[0m \u001b[1m8s\u001b[0m 3ms/step - loss: 0.3569 - val_loss: 0.2708\n",
            "Epoch 3/10\n",
            "\u001b[1m2916/2916\u001b[0m \u001b[32m━━━━━━━━━━━━━━━━━━━━\u001b[0m\u001b[37m\u001b[0m \u001b[1m6s\u001b[0m 2ms/step - loss: 0.2079 - val_loss: 0.1846\n",
            "Epoch 4/10\n",
            "\u001b[1m2916/2916\u001b[0m \u001b[32m━━━━━━━━━━━━━━━━━━━━\u001b[0m\u001b[37m\u001b[0m \u001b[1m11s\u001b[0m 2ms/step - loss: 0.1210 - val_loss: 0.1505\n",
            "Epoch 5/10\n",
            "\u001b[1m2916/2916\u001b[0m \u001b[32m━━━━━━━━━━━━━━━━━━━━\u001b[0m\u001b[37m\u001b[0m \u001b[1m9s\u001b[0m 3ms/step - loss: 0.0734 - val_loss: 0.1363\n",
            "Epoch 6/10\n",
            "\u001b[1m2916/2916\u001b[0m \u001b[32m━━━━━━━━━━━━━━━━━━━━\u001b[0m\u001b[37m\u001b[0m \u001b[1m8s\u001b[0m 2ms/step - loss: 0.0513 - val_loss: 0.1311\n",
            "Epoch 7/10\n",
            "\u001b[1m2916/2916\u001b[0m \u001b[32m━━━━━━━━━━━━━━━━━━━━\u001b[0m\u001b[37m\u001b[0m \u001b[1m11s\u001b[0m 3ms/step - loss: 0.0375 - val_loss: 0.1304\n",
            "Epoch 8/10\n",
            "\u001b[1m2916/2916\u001b[0m \u001b[32m━━━━━━━━━━━━━━━━━━━━\u001b[0m\u001b[37m\u001b[0m \u001b[1m11s\u001b[0m 3ms/step - loss: 0.0300 - val_loss: 0.1305\n",
            "Epoch 9/10\n",
            "\u001b[1m2916/2916\u001b[0m \u001b[32m━━━━━━━━━━━━━━━━━━━━\u001b[0m\u001b[37m\u001b[0m \u001b[1m6s\u001b[0m 2ms/step - loss: 0.0254 - val_loss: 0.1299\n",
            "Epoch 10/10\n",
            "\u001b[1m2916/2916\u001b[0m \u001b[32m━━━━━━━━━━━━━━━━━━━━\u001b[0m\u001b[37m\u001b[0m \u001b[1m11s\u001b[0m 2ms/step - loss: 0.0219 - val_loss: 0.1303\n"
          ]
        },
        {
          "output_type": "execute_result",
          "data": {
            "text/plain": [
              "<keras.src.callbacks.history.History at 0x7cb586c321d0>"
            ]
          },
          "metadata": {},
          "execution_count": 44
        }
      ]
    },
    {
      "cell_type": "code",
      "source": [
        "print(\"Training Data NaNs:\", X_train.isnull().sum().sum(), y_train.isnull().sum())"
      ],
      "metadata": {
        "id": "-tPZUTgS0sXK",
        "outputId": "b213f8c0-b066-4ebb-e0c4-1751caf9310f",
        "colab": {
          "base_uri": "https://localhost:8080/"
        }
      },
      "execution_count": 45,
      "outputs": [
        {
          "output_type": "stream",
          "name": "stdout",
          "text": [
            "Training Data NaNs: 0 0\n"
          ]
        }
      ]
    },
    {
      "cell_type": "code",
      "source": [
        "from sklearn.metrics import mean_squared_error\n",
        "\n",
        "# predictions on the training set\n",
        "y_train_pred = model.predict([X_train['userIndex'].values, X_train['movieIndex'].values])\n",
        "\n",
        "# RMSE for training set\n",
        "train_rmse = np.sqrt(mean_squared_error(y_train, y_train_pred))\n",
        "\n",
        "# predictions on the test set\n",
        "y_pred = model.predict([X_test['userIndex'].values, X_test['movieIndex'].values])\n",
        "\n",
        "# RMSE for test set\n",
        "test_rmse = np.sqrt(mean_squared_error(y_test, y_pred))\n",
        "\n",
        "# Print the RMSE values\n",
        "print(f'Training RMSE: {train_rmse}')\n",
        "print(f'Test RMSE: {test_rmse}')"
      ],
      "metadata": {
        "id": "dfZ9Cp3Ttk61",
        "outputId": "5a484c82-db4c-4ebf-fcdf-111a38f07d67",
        "colab": {
          "base_uri": "https://localhost:8080/"
        }
      },
      "execution_count": 56,
      "outputs": [
        {
          "output_type": "stream",
          "name": "stdout",
          "text": [
            "\u001b[1m5831/5831\u001b[0m \u001b[32m━━━━━━━━━━━━━━━━━━━━\u001b[0m\u001b[37m\u001b[0m \u001b[1m8s\u001b[0m 1ms/step\n",
            "\u001b[1m1458/1458\u001b[0m \u001b[32m━━━━━━━━━━━━━━━━━━━━\u001b[0m\u001b[37m\u001b[0m \u001b[1m4s\u001b[0m 3ms/step\n",
            "Training RMSE: 0.1373892628239876\n",
            "Test RMSE: 0.3609202291016995\n"
          ]
        }
      ]
    },
    {
      "cell_type": "markdown",
      "source": [
        "### Step 4: Making Recommendations"
      ],
      "metadata": {
        "id": "vST4E1fNfJ_6"
      }
    },
    {
      "cell_type": "markdown",
      "source": [
        "After training, we'll create a function to generate movie recommendations for a specific user based on their ratings."
      ],
      "metadata": {
        "id": "sZHyUJohfPjJ"
      }
    },
    {
      "cell_type": "code",
      "source": [
        "def get_movie_recommendations(user_id, ratings_with_titles, model, n_recommendations=5):\n",
        "    # Get the user's index\n",
        "    user_index = user_to_index[user_id]\n",
        "\n",
        "    # Get all movie indices\n",
        "    all_movie_indices = np.arange(len(movie_ids))\n",
        "\n",
        "    # Predict ratings for all movies\n",
        "    predictions = model.predict([np.full_like(all_movie_indices, user_index), all_movie_indices])\n",
        "    predictions = np.clip(predictions, 0, 5)\n",
        "    print(\"Predictions:\", predictions)  # Check the predictions for NaN values\n",
        "\n",
        "    # Create a DataFrame for the predictions\n",
        "    pred_df = pd.DataFrame({\n",
        "        'movieIndex': all_movie_indices,\n",
        "        'predicted_rating': predictions.flatten()\n",
        "    })\n",
        "\n",
        "    # Create a mapping of movieIndex to movieId\n",
        "    movie_index_to_id = {idx: movie_id for movie_id, idx in movie_to_index.items()}\n",
        "    pred_df['movieId'] = pred_df['movieIndex'].map(movie_index_to_id)\n",
        "\n",
        "    # Merge with the original ratings to get movie titles\n",
        "    recommended_movies = pred_df.merge(movies_ratings_tags[['movieId', 'title']].drop_duplicates(), on='movieId', how='left')\n",
        "\n",
        "    # Sort by predicted rating and get the top N recommendations\n",
        "    top_recommendations = recommended_movies.sort_values(by='predicted_rating', ascending=False).head(n_recommendations)\n",
        "\n",
        "    return top_recommendations[['title', 'predicted_rating']]\n",
        "\n",
        "# Usage\n",
        "user_id = 55  # user ID\n",
        "recommended_movies = get_movie_recommendations(user_id, movies_ratings_tags, model)\n",
        "print(\"Recommended Movies:\")\n",
        "print(recommended_movies)"
      ],
      "metadata": {
        "colab": {
          "base_uri": "https://localhost:8080/"
        },
        "id": "LMw5BwSOfa0Y",
        "outputId": "0ba84707-8571-4599-93dc-0b77b2edc5fc"
      },
      "execution_count": 46,
      "outputs": [
        {
          "output_type": "stream",
          "name": "stdout",
          "text": [
            "\u001b[1m49/49\u001b[0m \u001b[32m━━━━━━━━━━━━━━━━━━━━\u001b[0m\u001b[37m\u001b[0m \u001b[1m0s\u001b[0m 3ms/step\n",
            "Predictions: [[2.4795358]\n",
            " [2.2397332]\n",
            " [1.162058 ]\n",
            " ...\n",
            " [1.9934478]\n",
            " [2.235106 ]\n",
            " [2.1214767]]\n",
            "Recommended Movies:\n",
            "                            title  predicted_rating\n",
            "1414  (500) Days of Summer (2009)          4.980034\n",
            "1353         Departed, The (2006)          4.879723\n",
            "1375                  Juno (2007)          4.665024\n",
            "1274            Layer Cake (2004)          4.583743\n",
            "51           Billy Madison (1995)          4.511504\n"
          ]
        }
      ]
    }
  ],
  "metadata": {
    "kernelspec": {
      "display_name": "learn-env",
      "language": "python",
      "name": "python3"
    },
    "language_info": {
      "codemirror_mode": {
        "name": "ipython",
        "version": 3
      },
      "file_extension": ".py",
      "mimetype": "text/x-python",
      "name": "python",
      "nbconvert_exporter": "python",
      "pygments_lexer": "ipython3",
      "version": "3.10.14"
    },
    "colab": {
      "provenance": [],
      "include_colab_link": true
    }
  },
  "nbformat": 4,
  "nbformat_minor": 0
}