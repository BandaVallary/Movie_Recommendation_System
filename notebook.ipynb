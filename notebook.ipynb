{
  "cells": [
    {
      "cell_type": "markdown",
      "metadata": {
        "id": "view-in-github",
        "colab_type": "text"
      },
      "source": [
        "<a href=\"https://colab.research.google.com/github/BandaVallary/Movie_Recommendation_System/blob/kelvin/notebook.ipynb\" target=\"_parent\"><img src=\"https://colab.research.google.com/assets/colab-badge.svg\" alt=\"Open In Colab\"/></a>"
      ]
    },
    {
      "cell_type": "markdown",
      "metadata": {
        "id": "wFoeZuR6p4N1"
      },
      "source": [
        "# Movie Recommendation System"
      ]
    },
    {
      "cell_type": "markdown",
      "metadata": {
        "id": "4LStIpYEp4N3"
      },
      "source": [
        "![\"Image of Donald Draper in a Movie Theater\"](https://github.com/BandaVallary/Movie_Recommendation_System/blob/kelvin/images/dondraperinmovietheater.jpg?raw=1)"
      ]
    },
    {
      "cell_type": "markdown",
      "metadata": {
        "id": "lj7PA39cp4N4"
      },
      "source": [
        "## Overview"
      ]
    },
    {
      "cell_type": "markdown",
      "metadata": {
        "id": "AjW0pm7_p4N5"
      },
      "source": [
        "This project aims to develop a recommendation system that provides personalized movie recommendations based on user ratings. Utilizing the [MovieLens dataset](https://web.archive.org/web/20240828133414/https://grouplens.org/datasets/movielens/latest/) from the GroupLens research lab at the University of Minnesota, the model will be trained on a subset of the dataset containing 100,000 user ratings. The primary objective is to build a machine learning model that can accurately recommend the top 5 movies to a user, based on their ratings of other movies. This system can be valuable for streaming platforms and movie enthusiasts, offering tailored movie suggestions to enhance user experience and engagement.\n",
        "\n",
        "The project will involve several steps, including data cleaning, exploratory data analysis, feature engineering, model selection, and evaluation.\n",
        "\n",
        "Throughout this project, we will also explore the relationships between different variables and their impact on movie recommendations. This will help us gain insights into user preferences and identify potential areas for improvement. Overall, this project has the potential to provide valuable insights and practical applications for the entertainment industry. By developing a recommendation system that can accurately suggest movies, streaming platforms can better engage their users, improve customer satisfaction, and increase viewership."
      ]
    },
    {
      "cell_type": "markdown",
      "metadata": {
        "id": "JDeHSVfGp4N6"
      },
      "source": [
        "## Business Understanding"
      ]
    },
    {
      "cell_type": "markdown",
      "metadata": {
        "id": "NWxuwoaBp4N7"
      },
      "source": [
        "The entertainment industry, particularly streaming platforms, is highly competitive, with companies constantly striving to enhance user engagement and satisfaction. One of the major challenges faced by these platforms is providing personalized content recommendations that keep users engaged and reduce churn rates.\n",
        "\n",
        "According to recent studies, personalized recommendations can significantly increase user engagement and satisfaction, leading to higher retention rates and increased viewership. This highlights the need for a robust recommendation system that can accurately suggest movies based on user preferences. By building a recommendation system that can provide top 5 movie recommendations to users based on their ratings of other movies, streaming platforms can offer a more tailored viewing experience.\n",
        "\n",
        "The business value of this project lies in its ability to help streaming platforms improve their content recommendation strategies, increase user satisfaction, and reduce churn rates. By developing a recommendation system that can accurately suggest movies, platforms can better engage their users, leading to increased viewership and subscription renewals. This can provide a competitive edge in the highly competitive entertainment industry, ultimately driving revenue growth and customer loyalty."
      ]
    },
    {
      "cell_type": "code",
      "source": [
        "!pip install scikit-surprise"
      ],
      "metadata": {
        "colab": {
          "base_uri": "https://localhost:8080/"
        },
        "id": "9QKSmyNiqABo",
        "outputId": "11c8e429-228d-47ae-bb6d-c806563c4567"
      },
      "execution_count": 1,
      "outputs": [
        {
          "output_type": "stream",
          "name": "stdout",
          "text": [
            "Collecting scikit-surprise\n",
            "  Downloading scikit_surprise-1.1.4.tar.gz (154 kB)\n",
            "\u001b[?25l     \u001b[90m━━━━━━━━━━━━━━━━━━━━━━━━━━━━━━━━━━━━━━━━\u001b[0m \u001b[32m0.0/154.4 kB\u001b[0m \u001b[31m?\u001b[0m eta \u001b[36m-:--:--\u001b[0m\r\u001b[2K     \u001b[90m━━━━━━━━━━━━━━━━━━━━━━━━━━━━━━━━━━━━━━━━\u001b[0m \u001b[32m154.4/154.4 kB\u001b[0m \u001b[31m8.9 MB/s\u001b[0m eta \u001b[36m0:00:00\u001b[0m\n",
            "\u001b[?25h  Installing build dependencies ... \u001b[?25l\u001b[?25hdone\n",
            "  Getting requirements to build wheel ... \u001b[?25l\u001b[?25hdone\n",
            "  Preparing metadata (pyproject.toml) ... \u001b[?25l\u001b[?25hdone\n",
            "Requirement already satisfied: joblib>=1.2.0 in /usr/local/lib/python3.10/dist-packages (from scikit-surprise) (1.4.2)\n",
            "Requirement already satisfied: numpy>=1.19.5 in /usr/local/lib/python3.10/dist-packages (from scikit-surprise) (1.26.4)\n",
            "Requirement already satisfied: scipy>=1.6.0 in /usr/local/lib/python3.10/dist-packages (from scikit-surprise) (1.13.1)\n",
            "Building wheels for collected packages: scikit-surprise\n",
            "  Building wheel for scikit-surprise (pyproject.toml) ... \u001b[?25l\u001b[?25hdone\n",
            "  Created wheel for scikit-surprise: filename=scikit_surprise-1.1.4-cp310-cp310-linux_x86_64.whl size=2357286 sha256=41f81f5c5e7d61d3031c759bdd406f62d47fd9580397e5553ad7edb6583032f6\n",
            "  Stored in directory: /root/.cache/pip/wheels/4b/3f/df/6acbf0a40397d9bf3ff97f582cc22fb9ce66adde75bc71fd54\n",
            "Successfully built scikit-surprise\n",
            "Installing collected packages: scikit-surprise\n",
            "Successfully installed scikit-surprise-1.1.4\n"
          ]
        }
      ]
    },
    {
      "cell_type": "code",
      "execution_count": 2,
      "metadata": {
        "id": "gntIigRVp4N8"
      },
      "outputs": [],
      "source": [
        "# Importing libraries\n",
        "import pandas as pd\n",
        "import numpy as np\n",
        "import matplotlib.pyplot as plt\n",
        "import seaborn as sns\n",
        "import warnings\n",
        "warnings.filterwarnings('ignore')\n",
        "%matplotlib inline\n",
        "sns.set_style('whitegrid')\n",
        "\n",
        "from surprise.model_selection import cross_validate\n",
        "from surprise.prediction_algorithms import SVD\n",
        "from surprise.prediction_algorithms import KNNWithMeans, KNNBasic, KNNBaseline\n",
        "from surprise.model_selection import GridSearchCV\n",
        "from surprise import Reader, Dataset"
      ]
    },
    {
      "cell_type": "markdown",
      "metadata": {
        "id": "yFoMCqqbp4N9"
      },
      "source": [
        "## Reading the Data"
      ]
    },
    {
      "cell_type": "code",
      "execution_count": 3,
      "metadata": {
        "id": "1hUpnwrUp4N-"
      },
      "outputs": [],
      "source": [
        "# Loading the data\n",
        "movies = pd.read_csv('/content/movies.csv')\n",
        "ratings = pd.read_csv('/content/ratings.csv')\n",
        "tags = pd.read_csv('/content/tags.csv')"
      ]
    },
    {
      "cell_type": "markdown",
      "metadata": {
        "id": "D25vNyX0p4N-"
      },
      "source": [
        "## Tidying the data (ratings df)\n",
        "\n",
        "1. Check data types and figure out which figures are numerical and which are categorical.\n",
        "2. Check for null values.\n",
        "3. Check for duplicate values"
      ]
    },
    {
      "cell_type": "markdown",
      "metadata": {
        "id": "Ou09pjcnp4N_"
      },
      "source": [
        "I check for null values in the dataset. There are none."
      ]
    },
    {
      "cell_type": "code",
      "execution_count": 4,
      "metadata": {
        "colab": {
          "base_uri": "https://localhost:8080/",
          "height": 209
        },
        "id": "0XWl_SXrp4N_",
        "outputId": "2666ebd9-7c2a-4d9d-a2e3-e67f6f14d26b"
      },
      "outputs": [
        {
          "output_type": "execute_result",
          "data": {
            "text/plain": [
              "userId       0\n",
              "movieId      0\n",
              "rating       0\n",
              "timestamp    0\n",
              "dtype: int64"
            ],
            "text/html": [
              "<div>\n",
              "<style scoped>\n",
              "    .dataframe tbody tr th:only-of-type {\n",
              "        vertical-align: middle;\n",
              "    }\n",
              "\n",
              "    .dataframe tbody tr th {\n",
              "        vertical-align: top;\n",
              "    }\n",
              "\n",
              "    .dataframe thead th {\n",
              "        text-align: right;\n",
              "    }\n",
              "</style>\n",
              "<table border=\"1\" class=\"dataframe\">\n",
              "  <thead>\n",
              "    <tr style=\"text-align: right;\">\n",
              "      <th></th>\n",
              "      <th>0</th>\n",
              "    </tr>\n",
              "  </thead>\n",
              "  <tbody>\n",
              "    <tr>\n",
              "      <th>userId</th>\n",
              "      <td>0</td>\n",
              "    </tr>\n",
              "    <tr>\n",
              "      <th>movieId</th>\n",
              "      <td>0</td>\n",
              "    </tr>\n",
              "    <tr>\n",
              "      <th>rating</th>\n",
              "      <td>0</td>\n",
              "    </tr>\n",
              "    <tr>\n",
              "      <th>timestamp</th>\n",
              "      <td>0</td>\n",
              "    </tr>\n",
              "  </tbody>\n",
              "</table>\n",
              "</div><br><label><b>dtype:</b> int64</label>"
            ]
          },
          "metadata": {},
          "execution_count": 4
        }
      ],
      "source": [
        "# checking for null values\n",
        "ratings.isnull().sum()"
      ]
    },
    {
      "cell_type": "markdown",
      "source": [
        "Now, we'll plot a histogram of the distribution of user ratings."
      ],
      "metadata": {
        "id": "nbSqDuVE80ZK"
      }
    },
    {
      "cell_type": "code",
      "source": [
        "plt.figure(figsize=(10, 6))\n",
        "\n",
        "# Define the bins\n",
        "bins = [0.5, 1.0, 2.0, 3.0, 4.0, 5.0]\n",
        "\n",
        "# Create the histogram\n",
        "plt.hist(ratings['rating'], bins=bins, edgecolor='black')\n",
        "\n",
        "# Customize the plot\n",
        "plt.title('Distribution of User Ratings')\n",
        "plt.xlabel('Rating')\n",
        "plt.ylabel('Count')\n",
        "\n",
        "# Calculate the center of each bin\n",
        "bin_centers = [(bins[i] + bins[i+1])/2 for i in range(len(bins)-1)]\n",
        "\n",
        "# Set x-axis labels to show the bin ranges, centered on each bin\n",
        "plt.xticks(bin_centers, ['0.5-1.0', '1.0-2.0', '2.0-3.0', '3.0-4.0', '4.0-5.0'])\n",
        "\n",
        "plt.show()"
      ],
      "metadata": {
        "colab": {
          "base_uri": "https://localhost:8080/",
          "height": 564
        },
        "id": "GWMSR2Jvuiqd",
        "outputId": "b58d46ad-7509-4bc3-c995-d1748b1deaea"
      },
      "execution_count": 51,
      "outputs": [
        {
          "output_type": "display_data",
          "data": {
            "text/plain": [
              "<Figure size 1000x600 with 1 Axes>"
            ],
            "image/png": "[encoded data removed]"
          },
          "metadata": {}
        }
      ]
    },
    {
      "cell_type": "markdown",
      "source": [
        "Next we'll create a horizontal bar chart that displays the top 15 movies based on their average ratings, filtered for those with a minimum number of 100 ratings."
      ],
      "metadata": {
        "id": "z5Dvmtgr7Ah4"
      }
    },
    {
      "cell_type": "code",
      "source": [
        "# Calculate average rating for each movie and number of ratings\n",
        "movie_stats = ratings_with_titles.groupby('title').agg({\n",
        "    'rating': ['mean', 'count']\n",
        "}).reset_index()\n",
        "\n",
        "# Flatten the column names\n",
        "movie_stats.columns = ['title', 'avg_rating', 'num_ratings']\n",
        "\n",
        "# Filter for movies with a minimum number of ratings\n",
        "min_ratings = 100\n",
        "popular_movies = movie_stats[movie_stats['num_ratings'] >= min_ratings]\n",
        "\n",
        "# Sort by average rating and get top 10\n",
        "top_movies = popular_movies.sort_values('avg_rating', ascending=False).head(15)\n",
        "\n",
        "# Create the plot\n",
        "plt.figure(figsize=(12, 6))\n",
        "bars = plt.barh(y=range(len(top_movies)), width=top_movies['avg_rating'],\n",
        "                color=sns.color_palette(\"viridis\", len(top_movies)))\n",
        "\n",
        "# Customize the plot\n",
        "plt.yticks(range(len(top_movies)), top_movies['title'])\n",
        "plt.xlabel('Average Rating')\n",
        "plt.title(f'Top 10 Movies (Minimum {min_ratings} ratings)')\n",
        "\n",
        "# Add rating annotations to the end of each bar\n",
        "for i, bar in enumerate(bars):\n",
        "    width = bar.get_width()\n",
        "    plt.text(width, bar.get_y() + bar.get_height()/2,\n",
        "             f'{top_movies[\"avg_rating\"].iloc[i]:.2f} ({top_movies[\"num_ratings\"].iloc[i]} ratings)',\n",
        "             va='center', ha='left', fontweight='bold')\n",
        "\n",
        "plt.tight_layout()\n",
        "plt.show()\n",
        "\n",
        "# Print the data\n",
        "print(\"\\nTop 15 Movies Data:\")\n",
        "print(top_movies[['title', 'avg_rating', 'num_ratings']].to_string(index=False))"
      ],
      "metadata": {
        "colab": {
          "base_uri": "https://localhost:8080/",
          "height": 934
        },
        "id": "IvHIwAVr6OgJ",
        "outputId": "22b5e7e0-9466-4445-967b-cdd5f0b16fb8"
      },
      "execution_count": 55,
      "outputs": [
        {
          "output_type": "display_data",
          "data": {
            "text/plain": [
              "<Figure size 1200x600 with 1 Axes>"
            ],
            "image/png": "[encoded data removed]"
          },
          "metadata": {}
        },
        {
          "output_type": "stream",
          "name": "stdout",
          "text": [
            "\n",
            "Top 10 Movies Data:\n",
            "                                                title  avg_rating  num_ratings\n",
            "                     Shawshank Redemption, The (1994)    4.429022          317\n",
            "                                Godfather, The (1972)    4.289062          192\n",
            "                                    Fight Club (1999)    4.272936          218\n",
            "                       Godfather: Part II, The (1974)    4.259690          129\n",
            "                                 Departed, The (2006)    4.252336          107\n",
            "                                    Goodfellas (1990)    4.250000          126\n",
            "                                    Casablanca (1942)    4.240000          100\n",
            "                              Dark Knight, The (2008)    4.238255          149\n",
            "                           Usual Suspects, The (1995)    4.237745          204\n",
            "                           Princess Bride, The (1987)    4.232394          142\n",
            "            Star Wars: Episode IV - A New Hope (1977)    4.231076          251\n",
            "                              Schindler's List (1993)    4.225000          220\n",
            "                                Apocalypse Now (1979)    4.219626          107\n",
            "                            American History X (1998)    4.217054          129\n",
            "Star Wars: Episode V - The Empire Strikes Back (1980)    4.215640          211\n"
          ]
        }
      ]
    },
    {
      "cell_type": "code",
      "source": [
        "counts, _ = np.histogram(ratings['rating'], bins=bins)\n",
        "for i, count in enumerate(counts):\n",
        "    print(f\"Bin {bins[i]}-{bins[i+1]}: {count}\")"
      ],
      "metadata": {
        "colab": {
          "base_uri": "https://localhost:8080/"
        },
        "id": "sNf-WGG6t_cM",
        "outputId": "14ad9e15-7717-4c86-f2a7-8a2fc72a07ef"
      },
      "execution_count": 52,
      "outputs": [
        {
          "output_type": "stream",
          "name": "stdout",
          "text": [
            "Bin 0.5-1.0: 1908\n",
            "Bin 1.0-2.0: 5289\n",
            "Bin 2.0-3.0: 14443\n",
            "Bin 3.0-4.0: 51445\n",
            "Bin 4.0-5.0: 160128\n"
          ]
        }
      ]
    },
    {
      "cell_type": "markdown",
      "metadata": {
        "id": "QOsoqj-Xp4OA"
      },
      "source": [
        "I then check for duplicates. There are none."
      ]
    },
    {
      "cell_type": "code",
      "execution_count": 5,
      "metadata": {
        "colab": {
          "base_uri": "https://localhost:8080/"
        },
        "id": "tn9SPwF8p4OB",
        "outputId": "496d513e-4f6c-47c5-90b0-9f8265f689bd"
      },
      "outputs": [
        {
          "output_type": "execute_result",
          "data": {
            "text/plain": [
              "0"
            ]
          },
          "metadata": {},
          "execution_count": 5
        }
      ],
      "source": [
        "# check for duplicates\n",
        "ratings.duplicated().sum()"
      ]
    },
    {
      "cell_type": "code",
      "execution_count": 6,
      "metadata": {
        "colab": {
          "base_uri": "https://localhost:8080/",
          "height": 209
        },
        "id": "DgeLcZDFp4OC",
        "outputId": "6fe45272-d722-40f1-8622-b3edca6ea3a2"
      },
      "outputs": [
        {
          "output_type": "execute_result",
          "data": {
            "text/plain": [
              "userId         int64\n",
              "movieId        int64\n",
              "rating       float64\n",
              "timestamp      int64\n",
              "dtype: object"
            ],
            "text/html": [
              "<div>\n",
              "<style scoped>\n",
              "    .dataframe tbody tr th:only-of-type {\n",
              "        vertical-align: middle;\n",
              "    }\n",
              "\n",
              "    .dataframe tbody tr th {\n",
              "        vertical-align: top;\n",
              "    }\n",
              "\n",
              "    .dataframe thead th {\n",
              "        text-align: right;\n",
              "    }\n",
              "</style>\n",
              "<table border=\"1\" class=\"dataframe\">\n",
              "  <thead>\n",
              "    <tr style=\"text-align: right;\">\n",
              "      <th></th>\n",
              "      <th>0</th>\n",
              "    </tr>\n",
              "  </thead>\n",
              "  <tbody>\n",
              "    <tr>\n",
              "      <th>userId</th>\n",
              "      <td>int64</td>\n",
              "    </tr>\n",
              "    <tr>\n",
              "      <th>movieId</th>\n",
              "      <td>int64</td>\n",
              "    </tr>\n",
              "    <tr>\n",
              "      <th>rating</th>\n",
              "      <td>float64</td>\n",
              "    </tr>\n",
              "    <tr>\n",
              "      <th>timestamp</th>\n",
              "      <td>int64</td>\n",
              "    </tr>\n",
              "  </tbody>\n",
              "</table>\n",
              "</div><br><label><b>dtype:</b> object</label>"
            ]
          },
          "metadata": {},
          "execution_count": 6
        }
      ],
      "source": [
        "# check data types\n",
        "ratings.dtypes"
      ]
    },
    {
      "cell_type": "code",
      "execution_count": 7,
      "metadata": {
        "id": "3eHYMnvpp4OD"
      },
      "outputs": [],
      "source": [
        "# Drop the timestamp column\n",
        "ratings.drop('timestamp', axis=1, inplace=True)"
      ]
    },
    {
      "cell_type": "markdown",
      "metadata": {
        "id": "9Wp1rLInp4OD"
      },
      "source": [
        "Now, I'll add the `title` column from the `movies` dataframe to the `ratings` dataframe based on the common `movieId` column."
      ]
    },
    {
      "cell_type": "code",
      "execution_count": 8,
      "metadata": {
        "id": "WuRJm5qUp4OE"
      },
      "outputs": [],
      "source": [
        "# extracting the title from the `movies` df based on the `movieId`\n",
        "ratings_with_titles = ratings.merge(movies[['movieId', 'title']], on='movieId', how='left')"
      ]
    },
    {
      "cell_type": "markdown",
      "metadata": {
        "id": "1q3_t04Vp4OE"
      },
      "source": [
        "I'm starting with the `ratings_with_titles` df for my basic recommendation model because it contains key user-item interactions, which are essential for collaborative filtering. This dataframe shows which users rated which movies and their ratings, allowing me to identify patterns in preferences.\n",
        "\n",
        "I'll use collaborative filtering, focusing on either:\n",
        "\n",
        "- User-Based: Recommending movies based on the preferences of similar users.\n",
        "- Item-Based: Suggesting movies based on similarities between items that users have liked.\n",
        "\n",
        "Using `ratings_with_titles` gives me a solid foundation for identifying these relationships, and I can later integrate `movies` and `tags` dataframes for more nuanced recommendations."
      ]
    },
    {
      "cell_type": "markdown",
      "metadata": {
        "id": "0IaCwcO_p4OE"
      },
      "source": [
        "Now, I'll create a scikit surprise dataset from the `ratings` dataframe."
      ]
    },
    {
      "cell_type": "code",
      "execution_count": 9,
      "metadata": {
        "id": "Z11ZRQSOp4OF"
      },
      "outputs": [],
      "source": [
        "# reading the values as scikit surprise dataset\n",
        "reader = Reader(rating_scale=(0.5, 5.0))\n",
        "data = Dataset.load_from_df(ratings[['userId', 'movieId', 'rating']], reader)\n",
        "trainset = data.build_full_trainset()"
      ]
    },
    {
      "cell_type": "code",
      "execution_count": 10,
      "metadata": {
        "id": "lTLE2rctp4OF"
      },
      "outputs": [],
      "source": [
        "# parameter grid for SVD\n",
        "param_grid = {\n",
        "    'n_factors': [50, 100],\n",
        "    'n_epochs': [20, 30],\n",
        "    'lr_all': [0.002, 0.005],\n",
        "    'reg_all': [0.4, 0.6]\n",
        "}"
      ]
    },
    {
      "cell_type": "code",
      "execution_count": 11,
      "metadata": {
        "colab": {
          "base_uri": "https://localhost:8080/"
        },
        "id": "_b5JItz1p4OG",
        "outputId": "dca1f804-63dc-49a0-cf70-fab5c4166385"
      },
      "outputs": [
        {
          "output_type": "stream",
          "name": "stderr",
          "text": [
            "[Parallel(n_jobs=-1)]: Using backend LokyBackend with 2 concurrent workers.\n",
            "[Parallel(n_jobs=-1)]: Done  14 tasks      | elapsed:   13.9s\n",
            "[Parallel(n_jobs=-1)]: Done  48 out of  48 | elapsed:   57.4s finished\n"
          ]
        }
      ],
      "source": [
        "# create the grid search object\n",
        "gs = GridSearchCV(SVD, param_grid, measures=['rmse', 'mae'], cv=3, joblib_verbose=5, n_jobs=-1)\n",
        "gs.fit(data)"
      ]
    },
    {
      "cell_type": "code",
      "execution_count": 12,
      "metadata": {
        "colab": {
          "base_uri": "https://localhost:8080/"
        },
        "id": "_qtgxVbwp4OG",
        "outputId": "bd3c6ccb-275f-4bc0-d247-4513e683ea6d"
      },
      "outputs": [
        {
          "output_type": "stream",
          "name": "stdout",
          "text": [
            "{'rmse': 0.8835658808016412, 'mae': 0.6825949508641015}\n",
            "{'rmse': {'n_factors': 50, 'n_epochs': 30, 'lr_all': 0.005, 'reg_all': 0.4}, 'mae': {'n_factors': 50, 'n_epochs': 30, 'lr_all': 0.005, 'reg_all': 0.4}}\n"
          ]
        }
      ],
      "source": [
        "# Get the best parameters\n",
        "print(gs.best_score)\n",
        "print(gs.best_params)"
      ]
    },
    {
      "cell_type": "code",
      "execution_count": 13,
      "metadata": {
        "colab": {
          "base_uri": "https://localhost:8080/"
        },
        "id": "SaeILlkJp4OH",
        "outputId": "7c9400ba-e45c-4fca-b651-82ae63d82034"
      },
      "outputs": [
        {
          "output_type": "stream",
          "name": "stdout",
          "text": [
            "Best RMSE: 0.9125352416081686\n",
            "Best MAE: 0.7021024880661285\n",
            "Best Parameters: {'k': 60, 'min_k': 3, 'sim_options': {'name': 'msd', 'user_based': False}}\n"
          ]
        }
      ],
      "source": [
        "# Cross validation with KNNBasic\n",
        "# Parameter grid for KNNBasic\n",
        "param_grid = {\n",
        "    'k': [20, 40, 60],\n",
        "    'min_k': [1, 2, 3],\n",
        "    'sim_options': {\n",
        "        'name': ['cosine', 'msd', 'pearson'],\n",
        "        'user_based': [True, False]\n",
        "    }\n",
        "}\n",
        "\n",
        "# Create the grid search object\n",
        "gs = GridSearchCV(KNNBasic, param_grid, measures=['rmse', 'mae'], cv=3, n_jobs=-1)\n",
        "\n",
        "# Fit the data\n",
        "gs.fit(data)\n",
        "\n",
        "# Get the best parameters and scores\n",
        "print(\"Best RMSE:\", gs.best_score['rmse'])\n",
        "print(\"Best MAE:\", gs.best_score['mae'])\n",
        "print(\"Best Parameters:\", gs.best_params['rmse'])"
      ]
    },
    {
      "cell_type": "code",
      "source": [
        "# These 2 code cells run faster than the cell above\n",
        "\n",
        "# Cross validation with KNNBasic\n",
        "# knn_basic = KNNBasic(sim_options={'name':'msd', 'user_based':True})\n",
        "# cv_knn_basic = cross_validate(knn_basic, data, n_jobs=-1)\n",
        "\n",
        "# and this\n",
        "# Average RMSE\n",
        "# for i in cv_knn_basic.items():\n",
        "#     print(i)\n",
        "# print('-----------------------')\n",
        "# print(np.mean(cv_knn_basic['test_rmse']))"
      ],
      "metadata": {
        "id": "hhW_lM2szXzP"
      },
      "execution_count": null,
      "outputs": []
    },
    {
      "cell_type": "code",
      "source": [
        "knn_baseline = KNNBaseline(sim_options={'name':'msd', 'user_based':True})\n",
        "cv_knn_baseline = cross_validate(knn_baseline,data)"
      ],
      "metadata": {
        "colab": {
          "base_uri": "https://localhost:8080/"
        },
        "id": "cx3rNldT0kak",
        "outputId": "eb02f709-bc9c-4df8-c624-dd2c68cc35ac"
      },
      "execution_count": 14,
      "outputs": [
        {
          "output_type": "stream",
          "name": "stdout",
          "text": [
            "Estimating biases using als...\n",
            "Computing the msd similarity matrix...\n",
            "Done computing similarity matrix.\n",
            "Estimating biases using als...\n",
            "Computing the msd similarity matrix...\n",
            "Done computing similarity matrix.\n",
            "Estimating biases using als...\n",
            "Computing the msd similarity matrix...\n",
            "Done computing similarity matrix.\n",
            "Estimating biases using als...\n",
            "Computing the msd similarity matrix...\n",
            "Done computing similarity matrix.\n",
            "Estimating biases using als...\n",
            "Computing the msd similarity matrix...\n",
            "Done computing similarity matrix.\n"
          ]
        }
      ]
    },
    {
      "cell_type": "code",
      "source": [
        "# print out the average score for the test set\n",
        "for i in cv_knn_baseline.items():\n",
        "    print(i)\n",
        "\n",
        "np.mean(cv_knn_baseline['test_rmse'])"
      ],
      "metadata": {
        "colab": {
          "base_uri": "https://localhost:8080/"
        },
        "id": "CDF4VQmO0xdr",
        "outputId": "c17e8dfb-4ff4-459c-e3c2-b23cfe04bb0b"
      },
      "execution_count": 15,
      "outputs": [
        {
          "output_type": "stream",
          "name": "stdout",
          "text": [
            "('test_rmse', array([0.87406732, 0.88135279, 0.8728846 , 0.87116977, 0.87255197]))\n",
            "('test_mae', array([0.66660386, 0.67465064, 0.66872485, 0.66397223, 0.66660341]))\n",
            "('fit_time', (0.4577674865722656, 0.45226287841796875, 0.481304407119751, 0.4475846290588379, 0.5270798206329346))\n",
            "('test_time', (1.7249116897583008, 1.5894012451171875, 1.563307523727417, 1.5415713787078857, 3.6548044681549072))\n"
          ]
        },
        {
          "output_type": "execute_result",
          "data": {
            "text/plain": [
              "0.8744052902032695"
            ]
          },
          "metadata": {},
          "execution_count": 15
        }
      ]
    },
    {
      "cell_type": "markdown",
      "source": [
        "Based off these outputs, it seems like the best performing model is the SVD model with n_factors = 100 and a regularization rate of 0.4."
      ],
      "metadata": {
        "id": "zGS_Lj752YmU"
      }
    },
    {
      "cell_type": "markdown",
      "source": [
        "Next, I'll create a `get_movie_recommendations` function that is designed to enhance the user experience by allowing users to provide ratings for a selection of movies they've seen. It prompts users to rate five randomly chosen movies on a scale of 0.5 to 5. If a user hasn't watched a particular movie, they can simply enter 'n' to skip it.\n",
        "\n",
        "After collecting the ratings, the function uses a trained recommendation model to predict ratings for all movies in the dataset. It then adjusts the predicted ratings based on the user's inputs and recommends the top movies tailored to their preferences. This approach ensures that users receive personalized suggestions that align with their tastes."
      ],
      "metadata": {
        "id": "-z0DAkIIk1fY"
      }
    },
    {
      "cell_type": "code",
      "source": [
        "def get_movie_recommendations(user_id, ratings_with_titles, model, n_recommendations=5):\n",
        "    # Prepare a sample of movies to prompt the user\n",
        "    sample_movies = ratings_with_titles.sample(n=5)\n",
        "    print(\"Please rate the following movies on a scale of 0.5 to 5 (or enter 'n' to skip):\")\n",
        "\n",
        "    user_ratings = {}\n",
        "\n",
        "    for index, row in sample_movies.iterrows():\n",
        "        title = row['title']\n",
        "        # Prompt user for rating\n",
        "        rating_input = input(f\"Rate '{title}': \")\n",
        "\n",
        "        if rating_input.lower() == 'n':\n",
        "            continue  # Skip this movie if the user hasn't seen it\n",
        "\n",
        "        try:\n",
        "            rating = float(rating_input)\n",
        "            user_ratings[row['movieId']] = rating\n",
        "        except ValueError:\n",
        "            print(\"Invalid input. Please enter a number between 0.5 and 5 or 'n' to skip.\")\n",
        "\n",
        "    # Get predictions for all movies\n",
        "    all_movie_ids = ratings_with_titles['movieId'].unique()\n",
        "    predictions = []\n",
        "\n",
        "    for movie_id in all_movie_ids:\n",
        "        # Use the model to predict the rating\n",
        "        pred_rating = model.predict(user_id, movie_id).est\n",
        "\n",
        "        # If the user rated this movie, adjust the prediction based on their rating\n",
        "        if movie_id in user_ratings:\n",
        "            adjusted_rating = (pred_rating + user_ratings[movie_id]) / 2\n",
        "        else:\n",
        "            adjusted_rating = pred_rating\n",
        "\n",
        "        predictions.append((movie_id, adjusted_rating))\n",
        "\n",
        "    # Sort predictions by adjusted rating\n",
        "    predictions.sort(key=lambda x: x[1], reverse=True)\n",
        "\n",
        "    # Recommend top N movies\n",
        "    recommended_movies = predictions[:n_recommendations]\n",
        "\n",
        "    # Convert movie IDs to titles\n",
        "    recommended_titles = ratings_with_titles[ratings_with_titles['movieId'].isin([m[0] for m in recommended_movies])]\n",
        "\n",
        "    return recommended_titles[['title', 'movieId']]\n",
        "\n",
        "# Usage\n",
        "user_id = 55  # user ID\n",
        "best_model = gs.best_estimator['rmse']  # or 'mae'\n",
        "best_model.fit(trainset)\n",
        "recommended_movies = get_movie_recommendations(user_id, ratings_with_titles, best_model)\n",
        "print(\"Recommended Movies:\")\n",
        "print(recommended_movies)"
      ],
      "metadata": {
        "colab": {
          "base_uri": "https://localhost:8080/"
        },
        "id": "jdsNKFNABVD4",
        "outputId": "393dc1fa-7f07-4dac-ec33-615fa20bf1b5"
      },
      "execution_count": 16,
      "outputs": [
        {
          "output_type": "stream",
          "name": "stdout",
          "text": [
            "Computing the msd similarity matrix...\n",
            "Done computing similarity matrix.\n",
            "Please rate the following movies on a scale of 0.5 to 5 (or enter 'n' to skip):\n",
            "Rate 'Enemy of the State (1998)': 3.8\n",
            "Rate 'Babes in Toyland (1934)': 3.9\n",
            "Rate 'Tall Guy, The (1989)': 4.0\n",
            "Rate 'Treasure Island (2012)': 4.3\n",
            "Rate 'Mexican, The (2001)': 3.5\n",
            "Recommended Movies:\n",
            "                      title  movieId\n",
            "9016   Way Back, The (2010)    83369\n",
            "9139       The Mummy (2017)   170827\n",
            "9147           Black Mirror   176601\n",
            "9153           Alpha (2018)   185031\n",
            "90034            61* (2001)    27373\n"
          ]
        }
      ]
    },
    {
      "cell_type": "markdown",
      "source": [
        "## Neural Networks"
      ],
      "metadata": {
        "id": "8xnUMSG8U4W5"
      }
    },
    {
      "cell_type": "markdown",
      "source": [
        "To prepare to build a neural network, I'll merge `movies`, `ratings` and `tags` dataframes to one dataframe. First, I'll merge `movies` and `ratings`."
      ],
      "metadata": {
        "id": "ngrwRTw8H2iN"
      }
    },
    {
      "cell_type": "code",
      "source": [
        "movies_ratings = pd.merge(movies, ratings, on='movieId', how='left')"
      ],
      "metadata": {
        "id": "MPxMm3AvITSL"
      },
      "execution_count": 17,
      "outputs": []
    },
    {
      "cell_type": "markdown",
      "source": [
        "Then, we'll merge the results with `tags` dataframe."
      ],
      "metadata": {
        "id": "1wEeeIp_TJL4"
      }
    },
    {
      "cell_type": "code",
      "source": [
        "movies_ratings_tags = pd.merge(movies_ratings, tags, on='movieId', how='left')"
      ],
      "metadata": {
        "id": "RqubDhH3TSbi"
      },
      "execution_count": 18,
      "outputs": []
    },
    {
      "cell_type": "markdown",
      "source": [
        "Since two userId columns(userId_x, userId_y) have been created after the merge, we'll drop one userId column."
      ],
      "metadata": {
        "id": "sUyqaKDhVBLB"
      }
    },
    {
      "cell_type": "code",
      "source": [
        "movies_ratings_tags = movies_ratings_tags.drop('userId_y', axis=1)\n",
        "movies_ratings_tags = movies_ratings_tags.rename(columns={'userId_x': 'userId'})"
      ],
      "metadata": {
        "id": "NjBP_APCVgLZ"
      },
      "execution_count": 19,
      "outputs": []
    },
    {
      "cell_type": "markdown",
      "source": [
        "Next, we'll drop the `timestamp` column:"
      ],
      "metadata": {
        "id": "TI9TGyfaXBc1"
      }
    },
    {
      "cell_type": "code",
      "source": [
        "movies_ratings_tags = movies_ratings_tags.drop('timestamp', axis=1)"
      ],
      "metadata": {
        "id": "4ssVPdZxXZUm"
      },
      "execution_count": 20,
      "outputs": []
    },
    {
      "cell_type": "markdown",
      "source": [
        "I got performance issues for my neural network model, so I'll be dropping any rows where any column has a null value."
      ],
      "metadata": {
        "id": "JAAHoA685fai"
      }
    },
    {
      "cell_type": "code",
      "source": [
        "# Drop any rows with null values in any column\n",
        "movies_ratings_tags = movies_ratings_tags.dropna()"
      ],
      "metadata": {
        "id": "Dp4l_X-T1D1h"
      },
      "execution_count": 21,
      "outputs": []
    },
    {
      "cell_type": "markdown",
      "source": [
        "### Step 1: Data Preparation"
      ],
      "metadata": {
        "id": "FVYEYxBre-z3"
      }
    },
    {
      "cell_type": "markdown",
      "source": [
        "First, we'll preprocess the data to create user-item pairs suitable for training our model."
      ],
      "metadata": {
        "id": "fYL0lALoaZas"
      }
    },
    {
      "cell_type": "code",
      "source": [
        "# Importing libraries\n",
        "from sklearn.model_selection import train_test_split\n",
        "from tensorflow.keras.models import Model\n",
        "from tensorflow.keras.layers import Input, Embedding, Flatten, Dot, Dense, Concatenate\n",
        "from tensorflow.keras.optimizers import Adam"
      ],
      "metadata": {
        "id": "wgyG7viVZbh1"
      },
      "execution_count": 22,
      "outputs": []
    },
    {
      "cell_type": "code",
      "source": [
        "# Create user-item interaction matrix\n",
        "ratings = movies_ratings_tags[['userId', 'movieId', 'rating']]"
      ],
      "metadata": {
        "id": "rnmd3jcXZpNe"
      },
      "execution_count": 23,
      "outputs": []
    },
    {
      "cell_type": "code",
      "source": [
        "# Create user and movie mappings\n",
        "user_ids = ratings['userId'].unique()\n",
        "movie_ids = ratings['movieId'].unique()"
      ],
      "metadata": {
        "id": "HA-mzR8XaCFS"
      },
      "execution_count": 24,
      "outputs": []
    },
    {
      "cell_type": "code",
      "source": [
        "user_to_index = {user_id: idx for idx, user_id in enumerate(user_ids)}\n",
        "movie_to_index = {movie_id: idx for idx, movie_id in enumerate(movie_ids)}"
      ],
      "metadata": {
        "id": "I0YsBxZYaHlZ"
      },
      "execution_count": 25,
      "outputs": []
    },
    {
      "cell_type": "code",
      "source": [
        "# Convert userId and movieId to indices\n",
        "ratings['userIndex'] = ratings['userId'].map(user_to_index)\n",
        "ratings['movieIndex'] = ratings['movieId'].map(movie_to_index)"
      ],
      "metadata": {
        "id": "FAQjw2B5aL1V"
      },
      "execution_count": 26,
      "outputs": []
    },
    {
      "cell_type": "code",
      "source": [
        "# Split the data into training and test sets\n",
        "train, test = train_test_split(ratings, test_size=0.2, random_state=42)\n",
        "\n",
        "X_train = train[['userIndex', 'movieIndex']]\n",
        "y_train = train['rating']\n",
        "X_test = test[['userIndex', 'movieIndex']]\n",
        "y_test = test['rating']"
      ],
      "metadata": {
        "id": "uSfZQrcqaRch"
      },
      "execution_count": 27,
      "outputs": []
    },
    {
      "cell_type": "markdown",
      "source": [
        "### Step 2: Build the Neural Network"
      ],
      "metadata": {
        "id": "2ZZvYaove2Ms"
      }
    },
    {
      "cell_type": "markdown",
      "source": [
        "Now we can create a simple neural network that learns from user-item interactions."
      ],
      "metadata": {
        "id": "eUoIw9Iza5P4"
      }
    },
    {
      "cell_type": "code",
      "source": [
        "# Define model parameters\n",
        "num_users = len(user_ids)\n",
        "num_movies = len(movie_ids)\n",
        "embedding_size = 50  # Size of the embedding vectors"
      ],
      "metadata": {
        "id": "kMSXDqr6a7qd"
      },
      "execution_count": 28,
      "outputs": []
    },
    {
      "cell_type": "code",
      "source": [
        "# Define the model architecture\n",
        "user_input = Input(shape=(1,), name='user_input')\n",
        "movie_input = Input(shape=(1,), name='movie_input')\n",
        "\n",
        "user_embedding = Embedding(num_users, embedding_size)(user_input)\n",
        "movie_embedding = Embedding(num_movies, embedding_size)(movie_input)"
      ],
      "metadata": {
        "id": "koBaGro_bDG-"
      },
      "execution_count": 29,
      "outputs": []
    },
    {
      "cell_type": "code",
      "source": [
        "# Flatten the embeddings\n",
        "user_vecs = Flatten()(user_embedding)\n",
        "movie_vecs = Flatten()(movie_embedding)"
      ],
      "metadata": {
        "id": "_c6NdkImbJJM"
      },
      "execution_count": 30,
      "outputs": []
    },
    {
      "cell_type": "code",
      "source": [
        "# Compute the dot product of user and movie vectors\n",
        "dot_product = Dot(axes=1)([user_vecs, movie_vecs])"
      ],
      "metadata": {
        "id": "VxEvPvJRbNnk"
      },
      "execution_count": 31,
      "outputs": []
    },
    {
      "cell_type": "code",
      "source": [
        "# Add a Dense layer for more learning capacity\n",
        "output = Dense(1, activation='linear')(dot_product)"
      ],
      "metadata": {
        "id": "Hi6PItwdbR2V"
      },
      "execution_count": 32,
      "outputs": []
    },
    {
      "cell_type": "code",
      "source": [
        "# Compile the model\n",
        "model = Model(inputs=[user_input, movie_input], outputs=output)\n",
        "model.compile(optimizer=Adam(learning_rate=0.001), loss='mean_squared_error')\n",
        "\n",
        "# Print the model summary\n",
        "model.summary()"
      ],
      "metadata": {
        "colab": {
          "base_uri": "https://localhost:8080/",
          "height": 397
        },
        "id": "d82JpnHgbV71",
        "outputId": "54712dcb-b91b-4805-e8c8-e6e3c9fac347"
      },
      "execution_count": 33,
      "outputs": [
        {
          "output_type": "display_data",
          "data": {
            "text/plain": [
              "\u001b[1mModel: \"functional\"\u001b[0m\n"
            ],
            "text/html": [
              "<pre style=\"white-space:pre;overflow-x:auto;line-height:normal;font-family:Menlo,'DejaVu Sans Mono',consolas,'Courier New',monospace\"><span style=\"font-weight: bold\">Model: \"functional\"</span>\n",
              "</pre>\n"
            ]
          },
          "metadata": {}
        },
        {
          "output_type": "display_data",
          "data": {
            "text/plain": [
              "┏━━━━━━━━━━━━━━━━━━━━━━━━━━━┳━━━━━━━━━━━━━━━━━━━━━━━━┳━━━━━━━━━━━━━━━━┳━━━━━━━━━━━━━━━━━━━━━━━━┓\n",
              "┃\u001b[1m \u001b[0m\u001b[1mLayer (type)             \u001b[0m\u001b[1m \u001b[0m┃\u001b[1m \u001b[0m\u001b[1mOutput Shape          \u001b[0m\u001b[1m \u001b[0m┃\u001b[1m \u001b[0m\u001b[1m       Param #\u001b[0m\u001b[1m \u001b[0m┃\u001b[1m \u001b[0m\u001b[1mConnected to          \u001b[0m\u001b[1m \u001b[0m┃\n",
              "┡━━━━━━━━━━━━━━━━━━━━━━━━━━━╇━━━━━━━━━━━━━━━━━━━━━━━━╇━━━━━━━━━━━━━━━━╇━━━━━━━━━━━━━━━━━━━━━━━━┩\n",
              "│ user_input (\u001b[38;5;33mInputLayer\u001b[0m)   │ (\u001b[38;5;45mNone\u001b[0m, \u001b[38;5;34m1\u001b[0m)              │              \u001b[38;5;34m0\u001b[0m │ -                      │\n",
              "├───────────────────────────┼────────────────────────┼────────────────┼────────────────────────┤\n",
              "│ movie_input (\u001b[38;5;33mInputLayer\u001b[0m)  │ (\u001b[38;5;45mNone\u001b[0m, \u001b[38;5;34m1\u001b[0m)              │              \u001b[38;5;34m0\u001b[0m │ -                      │\n",
              "├───────────────────────────┼────────────────────────┼────────────────┼────────────────────────┤\n",
              "│ embedding (\u001b[38;5;33mEmbedding\u001b[0m)     │ (\u001b[38;5;45mNone\u001b[0m, \u001b[38;5;34m1\u001b[0m, \u001b[38;5;34m50\u001b[0m)          │         \u001b[38;5;34m30,500\u001b[0m │ user_input[\u001b[38;5;34m0\u001b[0m][\u001b[38;5;34m0\u001b[0m]       │\n",
              "├───────────────────────────┼────────────────────────┼────────────────┼────────────────────────┤\n",
              "│ embedding_1 (\u001b[38;5;33mEmbedding\u001b[0m)   │ (\u001b[38;5;45mNone\u001b[0m, \u001b[38;5;34m1\u001b[0m, \u001b[38;5;34m50\u001b[0m)          │         \u001b[38;5;34m77,700\u001b[0m │ movie_input[\u001b[38;5;34m0\u001b[0m][\u001b[38;5;34m0\u001b[0m]      │\n",
              "├───────────────────────────┼────────────────────────┼────────────────┼────────────────────────┤\n",
              "│ flatten (\u001b[38;5;33mFlatten\u001b[0m)         │ (\u001b[38;5;45mNone\u001b[0m, \u001b[38;5;34m50\u001b[0m)             │              \u001b[38;5;34m0\u001b[0m │ embedding[\u001b[38;5;34m0\u001b[0m][\u001b[38;5;34m0\u001b[0m]        │\n",
              "├───────────────────────────┼────────────────────────┼────────────────┼────────────────────────┤\n",
              "│ flatten_1 (\u001b[38;5;33mFlatten\u001b[0m)       │ (\u001b[38;5;45mNone\u001b[0m, \u001b[38;5;34m50\u001b[0m)             │              \u001b[38;5;34m0\u001b[0m │ embedding_1[\u001b[38;5;34m0\u001b[0m][\u001b[38;5;34m0\u001b[0m]      │\n",
              "├───────────────────────────┼────────────────────────┼────────────────┼────────────────────────┤\n",
              "│ dot (\u001b[38;5;33mDot\u001b[0m)                 │ (\u001b[38;5;45mNone\u001b[0m, \u001b[38;5;34m1\u001b[0m)              │              \u001b[38;5;34m0\u001b[0m │ flatten[\u001b[38;5;34m0\u001b[0m][\u001b[38;5;34m0\u001b[0m],         │\n",
              "│                           │                        │                │ flatten_1[\u001b[38;5;34m0\u001b[0m][\u001b[38;5;34m0\u001b[0m]        │\n",
              "├───────────────────────────┼────────────────────────┼────────────────┼────────────────────────┤\n",
              "│ dense (\u001b[38;5;33mDense\u001b[0m)             │ (\u001b[38;5;45mNone\u001b[0m, \u001b[38;5;34m1\u001b[0m)              │              \u001b[38;5;34m2\u001b[0m │ dot[\u001b[38;5;34m0\u001b[0m][\u001b[38;5;34m0\u001b[0m]              │\n",
              "└───────────────────────────┴────────────────────────┴────────────────┴────────────────────────┘\n"
            ],
            "text/html": [
              "<pre style=\"white-space:pre;overflow-x:auto;line-height:normal;font-family:Menlo,'DejaVu Sans Mono',consolas,'Courier New',monospace\">┏━━━━━━━━━━━━━━━━━━━━━━━━━━━┳━━━━━━━━━━━━━━━━━━━━━━━━┳━━━━━━━━━━━━━━━━┳━━━━━━━━━━━━━━━━━━━━━━━━┓\n",
              "┃<span style=\"font-weight: bold\"> Layer (type)              </span>┃<span style=\"font-weight: bold\"> Output Shape           </span>┃<span style=\"font-weight: bold\">        Param # </span>┃<span style=\"font-weight: bold\"> Connected to           </span>┃\n",
              "┡━━━━━━━━━━━━━━━━━━━━━━━━━━━╇━━━━━━━━━━━━━━━━━━━━━━━━╇━━━━━━━━━━━━━━━━╇━━━━━━━━━━━━━━━━━━━━━━━━┩\n",
              "│ user_input (<span style=\"color: #0087ff; text-decoration-color: #0087ff\">InputLayer</span>)   │ (<span style=\"color: #00d7ff; text-decoration-color: #00d7ff\">None</span>, <span style=\"color: #00af00; text-decoration-color: #00af00\">1</span>)              │              <span style=\"color: #00af00; text-decoration-color: #00af00\">0</span> │ -                      │\n",
              "├───────────────────────────┼────────────────────────┼────────────────┼────────────────────────┤\n",
              "│ movie_input (<span style=\"color: #0087ff; text-decoration-color: #0087ff\">InputLayer</span>)  │ (<span style=\"color: #00d7ff; text-decoration-color: #00d7ff\">None</span>, <span style=\"color: #00af00; text-decoration-color: #00af00\">1</span>)              │              <span style=\"color: #00af00; text-decoration-color: #00af00\">0</span> │ -                      │\n",
              "├───────────────────────────┼────────────────────────┼────────────────┼────────────────────────┤\n",
              "│ embedding (<span style=\"color: #0087ff; text-decoration-color: #0087ff\">Embedding</span>)     │ (<span style=\"color: #00d7ff; text-decoration-color: #00d7ff\">None</span>, <span style=\"color: #00af00; text-decoration-color: #00af00\">1</span>, <span style=\"color: #00af00; text-decoration-color: #00af00\">50</span>)          │         <span style=\"color: #00af00; text-decoration-color: #00af00\">30,500</span> │ user_input[<span style=\"color: #00af00; text-decoration-color: #00af00\">0</span>][<span style=\"color: #00af00; text-decoration-color: #00af00\">0</span>]       │\n",
              "├───────────────────────────┼────────────────────────┼────────────────┼────────────────────────┤\n",
              "│ embedding_1 (<span style=\"color: #0087ff; text-decoration-color: #0087ff\">Embedding</span>)   │ (<span style=\"color: #00d7ff; text-decoration-color: #00d7ff\">None</span>, <span style=\"color: #00af00; text-decoration-color: #00af00\">1</span>, <span style=\"color: #00af00; text-decoration-color: #00af00\">50</span>)          │         <span style=\"color: #00af00; text-decoration-color: #00af00\">77,700</span> │ movie_input[<span style=\"color: #00af00; text-decoration-color: #00af00\">0</span>][<span style=\"color: #00af00; text-decoration-color: #00af00\">0</span>]      │\n",
              "├───────────────────────────┼────────────────────────┼────────────────┼────────────────────────┤\n",
              "│ flatten (<span style=\"color: #0087ff; text-decoration-color: #0087ff\">Flatten</span>)         │ (<span style=\"color: #00d7ff; text-decoration-color: #00d7ff\">None</span>, <span style=\"color: #00af00; text-decoration-color: #00af00\">50</span>)             │              <span style=\"color: #00af00; text-decoration-color: #00af00\">0</span> │ embedding[<span style=\"color: #00af00; text-decoration-color: #00af00\">0</span>][<span style=\"color: #00af00; text-decoration-color: #00af00\">0</span>]        │\n",
              "├───────────────────────────┼────────────────────────┼────────────────┼────────────────────────┤\n",
              "│ flatten_1 (<span style=\"color: #0087ff; text-decoration-color: #0087ff\">Flatten</span>)       │ (<span style=\"color: #00d7ff; text-decoration-color: #00d7ff\">None</span>, <span style=\"color: #00af00; text-decoration-color: #00af00\">50</span>)             │              <span style=\"color: #00af00; text-decoration-color: #00af00\">0</span> │ embedding_1[<span style=\"color: #00af00; text-decoration-color: #00af00\">0</span>][<span style=\"color: #00af00; text-decoration-color: #00af00\">0</span>]      │\n",
              "├───────────────────────────┼────────────────────────┼────────────────┼────────────────────────┤\n",
              "│ dot (<span style=\"color: #0087ff; text-decoration-color: #0087ff\">Dot</span>)                 │ (<span style=\"color: #00d7ff; text-decoration-color: #00d7ff\">None</span>, <span style=\"color: #00af00; text-decoration-color: #00af00\">1</span>)              │              <span style=\"color: #00af00; text-decoration-color: #00af00\">0</span> │ flatten[<span style=\"color: #00af00; text-decoration-color: #00af00\">0</span>][<span style=\"color: #00af00; text-decoration-color: #00af00\">0</span>],         │\n",
              "│                           │                        │                │ flatten_1[<span style=\"color: #00af00; text-decoration-color: #00af00\">0</span>][<span style=\"color: #00af00; text-decoration-color: #00af00\">0</span>]        │\n",
              "├───────────────────────────┼────────────────────────┼────────────────┼────────────────────────┤\n",
              "│ dense (<span style=\"color: #0087ff; text-decoration-color: #0087ff\">Dense</span>)             │ (<span style=\"color: #00d7ff; text-decoration-color: #00d7ff\">None</span>, <span style=\"color: #00af00; text-decoration-color: #00af00\">1</span>)              │              <span style=\"color: #00af00; text-decoration-color: #00af00\">2</span> │ dot[<span style=\"color: #00af00; text-decoration-color: #00af00\">0</span>][<span style=\"color: #00af00; text-decoration-color: #00af00\">0</span>]              │\n",
              "└───────────────────────────┴────────────────────────┴────────────────┴────────────────────────┘\n",
              "</pre>\n"
            ]
          },
          "metadata": {}
        },
        {
          "output_type": "display_data",
          "data": {
            "text/plain": [
              "\u001b[1m Total params: \u001b[0m\u001b[38;5;34m108,202\u001b[0m (422.66 KB)\n"
            ],
            "text/html": [
              "<pre style=\"white-space:pre;overflow-x:auto;line-height:normal;font-family:Menlo,'DejaVu Sans Mono',consolas,'Courier New',monospace\"><span style=\"font-weight: bold\"> Total params: </span><span style=\"color: #00af00; text-decoration-color: #00af00\">108,202</span> (422.66 KB)\n",
              "</pre>\n"
            ]
          },
          "metadata": {}
        },
        {
          "output_type": "display_data",
          "data": {
            "text/plain": [
              "\u001b[1m Trainable params: \u001b[0m\u001b[38;5;34m108,202\u001b[0m (422.66 KB)\n"
            ],
            "text/html": [
              "<pre style=\"white-space:pre;overflow-x:auto;line-height:normal;font-family:Menlo,'DejaVu Sans Mono',consolas,'Courier New',monospace\"><span style=\"font-weight: bold\"> Trainable params: </span><span style=\"color: #00af00; text-decoration-color: #00af00\">108,202</span> (422.66 KB)\n",
              "</pre>\n"
            ]
          },
          "metadata": {}
        },
        {
          "output_type": "display_data",
          "data": {
            "text/plain": [
              "\u001b[1m Non-trainable params: \u001b[0m\u001b[38;5;34m0\u001b[0m (0.00 B)\n"
            ],
            "text/html": [
              "<pre style=\"white-space:pre;overflow-x:auto;line-height:normal;font-family:Menlo,'DejaVu Sans Mono',consolas,'Courier New',monospace\"><span style=\"font-weight: bold\"> Non-trainable params: </span><span style=\"color: #00af00; text-decoration-color: #00af00\">0</span> (0.00 B)\n",
              "</pre>\n"
            ]
          },
          "metadata": {}
        }
      ]
    },
    {
      "cell_type": "markdown",
      "source": [
        "### Step 3: Train the Model"
      ],
      "metadata": {
        "id": "JyQzxYvPenm4"
      }
    },
    {
      "cell_type": "markdown",
      "source": [
        "Now, we'll train the model on the training data."
      ],
      "metadata": {
        "id": "GPOUNj_UcFG8"
      }
    },
    {
      "cell_type": "code",
      "source": [
        "# Train the model\n",
        "model.fit([X_train['userIndex'], X_train['movieIndex']], y_train, epochs=10, batch_size=64, validation_data=([X_test['userIndex'], X_test['movieIndex']], y_test))"
      ],
      "metadata": {
        "colab": {
          "base_uri": "https://localhost:8080/"
        },
        "id": "XyL5HPehcJXV",
        "outputId": "bd504ad1-d9a9-4421-f4b8-5f7e7e879d1c"
      },
      "execution_count": 35,
      "outputs": [
        {
          "output_type": "stream",
          "name": "stdout",
          "text": [
            "Epoch 1/10\n",
            "\u001b[1m2916/2916\u001b[0m \u001b[32m━━━━━━━━━━━━━━━━━━━━\u001b[0m\u001b[37m\u001b[0m \u001b[1m7s\u001b[0m 2ms/step - loss: 0.0196 - val_loss: 0.1307\n",
            "Epoch 2/10\n",
            "\u001b[1m2916/2916\u001b[0m \u001b[32m━━━━━━━━━━━━━━━━━━━━\u001b[0m\u001b[37m\u001b[0m \u001b[1m7s\u001b[0m 2ms/step - loss: 0.0177 - val_loss: 0.1315\n",
            "Epoch 3/10\n",
            "\u001b[1m2916/2916\u001b[0m \u001b[32m━━━━━━━━━━━━━━━━━━━━\u001b[0m\u001b[37m\u001b[0m \u001b[1m6s\u001b[0m 2ms/step - loss: 0.0158 - val_loss: 0.1314\n",
            "Epoch 4/10\n",
            "\u001b[1m2916/2916\u001b[0m \u001b[32m━━━━━━━━━━━━━━━━━━━━\u001b[0m\u001b[37m\u001b[0m \u001b[1m10s\u001b[0m 2ms/step - loss: 0.0146 - val_loss: 0.1339\n",
            "Epoch 5/10\n",
            "\u001b[1m2916/2916\u001b[0m \u001b[32m━━━━━━━━━━━━━━━━━━━━\u001b[0m\u001b[37m\u001b[0m \u001b[1m7s\u001b[0m 2ms/step - loss: 0.0136 - val_loss: 0.1329\n",
            "Epoch 6/10\n",
            "\u001b[1m2916/2916\u001b[0m \u001b[32m━━━━━━━━━━━━━━━━━━━━\u001b[0m\u001b[37m\u001b[0m \u001b[1m9s\u001b[0m 2ms/step - loss: 0.0125 - val_loss: 0.1341\n",
            "Epoch 7/10\n",
            "\u001b[1m2916/2916\u001b[0m \u001b[32m━━━━━━━━━━━━━━━━━━━━\u001b[0m\u001b[37m\u001b[0m \u001b[1m7s\u001b[0m 3ms/step - loss: 0.0117 - val_loss: 0.1345\n",
            "Epoch 8/10\n",
            "\u001b[1m2916/2916\u001b[0m \u001b[32m━━━━━━━━━━━━━━━━━━━━\u001b[0m\u001b[37m\u001b[0m \u001b[1m7s\u001b[0m 2ms/step - loss: 0.0110 - val_loss: 0.1356\n",
            "Epoch 9/10\n",
            "\u001b[1m2916/2916\u001b[0m \u001b[32m━━━━━━━━━━━━━━━━━━━━\u001b[0m\u001b[37m\u001b[0m \u001b[1m9s\u001b[0m 2ms/step - loss: 0.0105 - val_loss: 0.1360\n",
            "Epoch 10/10\n",
            "\u001b[1m2916/2916\u001b[0m \u001b[32m━━━━━━━━━━━━━━━━━━━━\u001b[0m\u001b[37m\u001b[0m \u001b[1m7s\u001b[0m 2ms/step - loss: 0.0097 - val_loss: 0.1379\n"
          ]
        },
        {
          "output_type": "execute_result",
          "data": {
            "text/plain": [
              "<keras.src.callbacks.history.History at 0x7eafb873d420>"
            ]
          },
          "metadata": {},
          "execution_count": 35
        }
      ]
    },
    {
      "cell_type": "code",
      "source": [
        "print(\"Training Data NaNs:\", X_train.isnull().sum().sum(), y_train.isnull().sum())"
      ],
      "metadata": {
        "id": "-tPZUTgS0sXK",
        "outputId": "72875cbc-0349-4004-cf44-a3e0015de503",
        "colab": {
          "base_uri": "https://localhost:8080/"
        }
      },
      "execution_count": 36,
      "outputs": [
        {
          "output_type": "stream",
          "name": "stdout",
          "text": [
            "Training Data NaNs: 0 0\n"
          ]
        }
      ]
    },
    {
      "cell_type": "markdown",
      "source": [
        "### Step 4: Making Recommendations"
      ],
      "metadata": {
        "id": "vST4E1fNfJ_6"
      }
    },
    {
      "cell_type": "markdown",
      "source": [
        "After training, we'll create a function to generate movie recommendations for a specific user based on their ratings."
      ],
      "metadata": {
        "id": "sZHyUJohfPjJ"
      }
    },
    {
      "cell_type": "code",
      "source": [
        "def get_movie_recommendations(user_id, ratings_with_titles, model, n_recommendations=5):\n",
        "    # Get the user's index\n",
        "    user_index = user_to_index[user_id]\n",
        "\n",
        "    # Get all movie indices\n",
        "    all_movie_indices = np.arange(len(movie_ids))\n",
        "\n",
        "    # Predict ratings for all movies\n",
        "    predictions = model.predict([np.full_like(all_movie_indices, user_index), all_movie_indices])\n",
        "    predictions = np.clip(predictions, 0, 5)\n",
        "    print(\"Predictions:\", predictions)  # Check the predictions for NaN values\n",
        "\n",
        "    # Create a DataFrame for the predictions\n",
        "    pred_df = pd.DataFrame({\n",
        "        'movieIndex': all_movie_indices,\n",
        "        'predicted_rating': predictions.flatten()\n",
        "    })\n",
        "\n",
        "    # Create a mapping of movieIndex to movieId\n",
        "    movie_index_to_id = {idx: movie_id for movie_id, idx in movie_to_index.items()}\n",
        "    pred_df['movieId'] = pred_df['movieIndex'].map(movie_index_to_id)\n",
        "\n",
        "    # Merge with the original ratings to get movie titles\n",
        "    recommended_movies = pred_df.merge(movies_ratings_tags[['movieId', 'title']].drop_duplicates(), on='movieId', how='left')\n",
        "\n",
        "    # Sort by predicted rating and get the top N recommendations\n",
        "    top_recommendations = recommended_movies.sort_values(by='predicted_rating', ascending=False).head(n_recommendations)\n",
        "\n",
        "    return top_recommendations[['title', 'predicted_rating']]\n",
        "\n",
        "# Usage\n",
        "user_id = 55  # user ID\n",
        "recommended_movies = get_movie_recommendations(user_id, movies_ratings_tags, model)\n",
        "print(\"Recommended Movies:\")\n",
        "print(recommended_movies)"
      ],
      "metadata": {
        "colab": {
          "base_uri": "https://localhost:8080/"
        },
        "id": "LMw5BwSOfa0Y",
        "outputId": "ddd0c127-f34c-433b-d667-4c18093e9a23"
      },
      "execution_count": 41,
      "outputs": [
        {
          "output_type": "stream",
          "name": "stdout",
          "text": [
            "\u001b[1m49/49\u001b[0m \u001b[32m━━━━━━━━━━━━━━━━━━━━\u001b[0m\u001b[37m\u001b[0m \u001b[1m0s\u001b[0m 1ms/step\n",
            "Predictions: [[3.21274  ]\n",
            " [3.5196304]\n",
            " [2.2874794]\n",
            " ...\n",
            " [3.2781982]\n",
            " [2.8412297]\n",
            " [2.552798 ]]\n",
            "Recommended Movies:\n",
            "                        title  predicted_rating\n",
            "1457  Django Unchained (2012)          5.000000\n",
            "101          True Lies (1994)          5.000000\n",
            "1410                Up (2009)          4.962708\n",
            "1298             Crash (2004)          4.950359\n",
            "858              K-PAX (2001)          4.937927\n"
          ]
        }
      ]
    }
  ],
  "metadata": {
    "kernelspec": {
      "display_name": "learn-env",
      "language": "python",
      "name": "python3"
    },
    "language_info": {
      "codemirror_mode": {
        "name": "ipython",
        "version": 3
      },
      "file_extension": ".py",
      "mimetype": "text/x-python",
      "name": "python",
      "nbconvert_exporter": "python",
      "pygments_lexer": "ipython3",
      "version": "3.10.14"
    },
    "colab": {
      "provenance": [],
      "include_colab_link": true
    }
  },
  "nbformat": 4,
  "nbformat_minor": 0
}