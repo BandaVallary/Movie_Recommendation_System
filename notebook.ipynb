{
  "cells": [
    {
      "cell_type": "markdown",
      "metadata": {
        "id": "view-in-github",
        "colab_type": "text"
      },
      "source": [
        "<a href=\"https://colab.research.google.com/github/BandaVallary/Movie_Recommendation_System/blob/main/notebook.ipynb\" target=\"_parent\"><img src=\"https://colab.research.google.com/assets/colab-badge.svg\" alt=\"Open In Colab\"/></a>"
      ]
    },
    {
      "cell_type": "markdown",
      "metadata": {
        "id": "a6x-cUvAcWzR"
      },
      "source": [
        "#  Movie Recommendation System"
      ]
    },
    {
      "cell_type": "markdown",
      "metadata": {
        "id": "cpRhiWRhcWzT"
      },
      "source": [
        "![Alt text](https://github.com/BandaVallary/Movie_Recommendation_System/blob/main/images/movie_img.jpeg?raw=1)"
      ]
    },
    {
      "cell_type": "markdown",
      "metadata": {
        "id": "495AnLZocWzU"
      },
      "source": [
        "## Summary"
      ]
    },
    {
      "cell_type": "markdown",
      "metadata": {
        "id": "OKwbHfqscWzU"
      },
      "source": [
        "In this project, we utilized a dataset from MovieLens, which includes user ratings for movies along with movie metadata (such as titles, genres, and tags). The dataset contains 100,836 user ratings, created by 610 users, with an average of around 3.5 out of 5, indicating a generally positive user response. This data is well suited for developing a recommendation system as it encompasses both collaborative filtering (user-item interactions) and content-based filtering(movie features).\n",
        "\n",
        "Data preparation involved checking and handling missing values and duplicates and formatting data for anlaysis. We employed **Pandas** for data manipulation, **Scikit-Learn** & **Keras** for preprocessing, and **Seaborn** and **Matplotlib** for data visualization.\n",
        "\n",
        "For modelling, we used **Surprise** for collaborative filtering. We explored various similarity metrics and models in the Surprise library. Moreover, we used **Tensorflow** & **Keras** to build a neural network that included embedding layers for user and movie indices and fully connected layers to capture interactions. We implemented techniques like early stopping and dropout to mitigate overfitting and fine-tuned the learning rate.\n",
        "\n",
        "For model validation, we used cross validation with the **cross_validate()** function to validate data across different folds.\n",
        "\n",
        "The model was evaluated using the **Root Mean Squared Error (RMSE)** metric, with the final model achieving an RMSE of 0.869, suggesting that predicted ratings were off by 0.869 points. A train\n",
        "-test split of 80% training and 20% testing was used tovalidate the model's performance. Overall the hybrid recommendation system effectively delivers personalized movie suggestions."
      ]
    },
    {
      "cell_type": "markdown",
      "metadata": {
        "id": "RLa9RMzmcWzV"
      },
      "source": [
        "## 1. Overview"
      ]
    },
    {
      "cell_type": "markdown",
      "metadata": {
        "id": "VyRWjTGscWzV"
      },
      "source": [
        "This project aims to develop a recommendation system that provides personalized movie recommendations based on user ratings. Utilizing the [MovieLens dataset](https://web.archive.org/web/20240828133414/https://grouplens.org/datasets/movielens/latest/) from the GroupLens research lab at the University of Minnesota, the model will be trained on a subset of the dataset containing 100,000 user ratings.\n",
        "\n",
        "This system can be valuable for streaming platforms and movie enthusiasts, offering tailored movie suggestions to enhance user experience and engagement.The project will involve several steps, including data cleaning, exploratory data analysis, feature engineering, model selection, and evaluation.\n",
        "\n",
        "Throughout this project, we will also explore the relationships between different variables and their impact on movie recommendations. This will help us gain insights into user preferences and identify potential areas for improvement. Overall, this project has the potential to provide valuable insights and practical applications for the entertainment industry. By developing a recommendation system that can accurately suggest movies, streaming platforms can better engage their users, improve customer satisfaction, and increase viewership."
      ]
    },
    {
      "cell_type": "markdown",
      "metadata": {
        "id": "V1qsW_OzcWzW"
      },
      "source": [
        "## 2. Business Understanding"
      ]
    },
    {
      "cell_type": "markdown",
      "metadata": {
        "id": "3t4lPajXcWzW"
      },
      "source": [
        "The entertainment industry, particularly streaming platforms, is highly competitive, with companies constantly striving to enhance user engagement and satisfaction. One of the major challenges faced by these platforms is providing personalized content recommendations that keep users engaged and reduce churn rates.\n",
        "\n",
        "According to recent studies, personalized recommendations can significantly increase user engagement and satisfaction, leading to higher retention rates and increased viewership. This highlights the need for a robust recommendation system that can accurately suggest movies based on user preferences. By building a recommendation system that can provide top 5 movie recommendations to users based on their ratings of other movies, streaming platforms can offer a more tailored viewing experience.\n",
        "\n",
        "The business value of this project lies in its ability to help streaming platforms improve their content recommendation strategies, increase user satisfaction, and reduce churn rates. By developing a recommendation system that can accurately suggest movies, platforms can better engage their users, leading to increased viewership and subscription renewals. This can provide a competitive edge in the highly competitive entertainment industry, ultimately driving revenue growth and customer loyalty.\n",
        "\n",
        "#### Objective/ Business Problem:\n",
        "> ***Build a model that provides top 5 movie recommendations to a user, based on their ratings of other movies.***"
      ]
    },
    {
      "cell_type": "markdown",
      "metadata": {
        "id": "8ttUZGkhcWzX"
      },
      "source": [
        "## 3. Data Understanding"
      ]
    },
    {
      "cell_type": "markdown",
      "metadata": {
        "id": "-XYgg0nccWzX"
      },
      "source": [
        "The data used in this repository can be found [here](https://files.grouplens.org/datasets/movielens/ml-latest-small.zip) . It is the MovieLens dataset from the GroupLens research lab at the University of Minnesota and it contains 100,000 user ratings.\n",
        "\n",
        "The data is contained in the following files:\n",
        "1. `movies.csv` - contains information about movies. Each record represents a movie. It has the following columns:\n",
        "   \n",
        "> - `movieId` - movie unique identifier.\n",
        "> - `title` - name of the movie and includes the year of release in parentheses\n",
        "> - `genres` - category under which a movie falls.\n",
        "\n",
        "2. `ratings.csv` - contains rating information. Each record represents one rating by one user for one movie. It has the following features:\n",
        "    \n",
        "> - `userId` - unique identifier for a user.\n",
        "> - `movieId` - movie unique identifier.\n",
        "> - `rating` - rating given by a user for a particular movie on a scale of 1 to 5\n",
        "> - `timestamp` - represent seconds since midnight Coordinated Universal Time (UTC) of January 1, 1970.\n",
        "\n",
        "3. `tags.csv` - Each row represents one tag applied to one movie by one user, and has the following features:\n",
        "\n",
        "> - `userId` - unique identifier for a user.\n",
        "> - `movieId` - movie unique identifier.\n",
        "> - `tag` - one word user-generated metadata about movies e.g. funny, sad etc\n",
        "> - `timestamp` - represent seconds since midnight Coordinated Universal Time (UTC) of January 1, 1970.\n",
        "\n",
        "`movieId` are consistent between `ratings.csv`, `tags.csv`, `movies.csv`, and `links.csv`.\n",
        "\n",
        "`userId` are consistent between `ratings.csv` and `tags.csv`."
      ]
    },
    {
      "cell_type": "markdown",
      "metadata": {
        "id": "VDHtUPUbcWzX"
      },
      "source": [
        "## 4. Data Preparation and Cleaning\n"
      ]
    },
    {
      "cell_type": "markdown",
      "metadata": {
        "id": "vr5iM216cWzY"
      },
      "source": [
        "\n",
        "In this section, we are going to the following:\n",
        "1. import the necessary libraries\n",
        "2. Preview data and ensure they are of correct datatypes\n",
        "3. load our datasets and merge them to have a final unified dataset\n",
        "4. Check for missing values & handle them\n",
        "5. Check for duplicates & handle them\n",
        "   "
      ]
    },
    {
      "cell_type": "code",
      "source": [
        "!pip install scikit-surprise"
      ],
      "metadata": {
        "colab": {
          "base_uri": "https://localhost:8080/"
        },
        "id": "pmPRLsWHdzZs",
        "outputId": "6718b07c-23b6-4bd9-8e05-4c89a080af6f"
      },
      "execution_count": 2,
      "outputs": [
        {
          "output_type": "stream",
          "name": "stdout",
          "text": [
            "Collecting scikit-surprise\n",
            "  Downloading scikit_surprise-1.1.4.tar.gz (154 kB)\n",
            "\u001b[?25l     \u001b[90m━━━━━━━━━━━━━━━━━━━━━━━━━━━━━━━━━━━━━━━━\u001b[0m \u001b[32m0.0/154.4 kB\u001b[0m \u001b[31m?\u001b[0m eta \u001b[36m-:--:--\u001b[0m\r\u001b[2K     \u001b[90m━━━━━━━━━━━━━━━━━━━━━━━━━━━━━━━━━━━━━━━━\u001b[0m \u001b[32m154.4/154.4 kB\u001b[0m \u001b[31m5.6 MB/s\u001b[0m eta \u001b[36m0:00:00\u001b[0m\n",
            "\u001b[?25h  Installing build dependencies ... \u001b[?25l\u001b[?25hdone\n",
            "  Getting requirements to build wheel ... \u001b[?25l\u001b[?25hdone\n",
            "  Preparing metadata (pyproject.toml) ... \u001b[?25l\u001b[?25hdone\n",
            "Requirement already satisfied: joblib>=1.2.0 in /usr/local/lib/python3.10/dist-packages (from scikit-surprise) (1.4.2)\n",
            "Requirement already satisfied: numpy>=1.19.5 in /usr/local/lib/python3.10/dist-packages (from scikit-surprise) (1.26.4)\n",
            "Requirement already satisfied: scipy>=1.6.0 in /usr/local/lib/python3.10/dist-packages (from scikit-surprise) (1.13.1)\n",
            "Building wheels for collected packages: scikit-surprise\n",
            "  Building wheel for scikit-surprise (pyproject.toml) ... \u001b[?25l\u001b[?25hdone\n",
            "  Created wheel for scikit-surprise: filename=scikit_surprise-1.1.4-cp310-cp310-linux_x86_64.whl size=2357272 sha256=f121baa40eac5e4f2a6a1b0b16e6f2b97a39515495177a7fa75fe2a685626bb1\n",
            "  Stored in directory: /root/.cache/pip/wheels/4b/3f/df/6acbf0a40397d9bf3ff97f582cc22fb9ce66adde75bc71fd54\n",
            "Successfully built scikit-surprise\n",
            "Installing collected packages: scikit-surprise\n",
            "Successfully installed scikit-surprise-1.1.4\n"
          ]
        }
      ]
    },
    {
      "cell_type": "code",
      "execution_count": 3,
      "metadata": {
        "id": "yNcIc2rBcWzY"
      },
      "outputs": [],
      "source": [
        "# import necessary libraries\n",
        "import pandas as pd\n",
        "import numpy as np\n",
        "import matplotlib.pyplot as plt\n",
        "import seaborn as sns\n",
        "\n",
        "from sklearn.model_selection import train_test_split\n",
        "from sklearn.metrics.pairwise import cosine_similarity\n",
        "from sklearn.feature_extraction.text import TfidfVectorizer\n",
        "\n",
        "from tensorflow.keras.layers import Input, Dense, Dropout, Embedding, Flatten, Dot, Concatenate\n",
        "from keras.models import Model\n",
        "from keras.optimizers import Adam\n",
        "from tensorflow.keras.metrics import RootMeanSquaredError\n",
        "from keras.callbacks import EarlyStopping\n",
        "\n",
        "\n",
        "from surprise import Dataset, Reader, SVD\n",
        "from surprise.model_selection import train_test_split, cross_validate, GridSearchCV\n",
        "from surprise.accuracy import rmse\n",
        "from surprise import accuracy\n",
        "from surprise.prediction_algorithms import KNNWithMeans, KNNBasic, KNNBaseline\n",
        "from surprise.similarities import cosine, msd, pearson"
      ]
    },
    {
      "cell_type": "code",
      "execution_count": 4,
      "metadata": {
        "colab": {
          "base_uri": "https://localhost:8080/",
          "height": 206
        },
        "id": "qu087bxEcWzY",
        "outputId": "d0b0a1f9-5db7-43ce-a645-a6585b67d118"
      },
      "outputs": [
        {
          "output_type": "execute_result",
          "data": {
            "text/plain": [
              "   movieId                               title  \\\n",
              "0        1                    Toy Story (1995)   \n",
              "1        2                      Jumanji (1995)   \n",
              "2        3             Grumpier Old Men (1995)   \n",
              "3        4            Waiting to Exhale (1995)   \n",
              "4        5  Father of the Bride Part II (1995)   \n",
              "\n",
              "                                        genres  \n",
              "0  Adventure|Animation|Children|Comedy|Fantasy  \n",
              "1                   Adventure|Children|Fantasy  \n",
              "2                               Comedy|Romance  \n",
              "3                         Comedy|Drama|Romance  \n",
              "4                                       Comedy  "
            ],
            "text/html": [
              "\n",
              "  <div id=\"df-746c2110-1762-419b-87f4-347ebc72656e\" class=\"colab-df-container\">\n",
              "    <div>\n",
              "<style scoped>\n",
              "    .dataframe tbody tr th:only-of-type {\n",
              "        vertical-align: middle;\n",
              "    }\n",
              "\n",
              "    .dataframe tbody tr th {\n",
              "        vertical-align: top;\n",
              "    }\n",
              "\n",
              "    .dataframe thead th {\n",
              "        text-align: right;\n",
              "    }\n",
              "</style>\n",
              "<table border=\"1\" class=\"dataframe\">\n",
              "  <thead>\n",
              "    <tr style=\"text-align: right;\">\n",
              "      <th></th>\n",
              "      <th>movieId</th>\n",
              "      <th>title</th>\n",
              "      <th>genres</th>\n",
              "    </tr>\n",
              "  </thead>\n",
              "  <tbody>\n",
              "    <tr>\n",
              "      <th>0</th>\n",
              "      <td>1</td>\n",
              "      <td>Toy Story (1995)</td>\n",
              "      <td>Adventure|Animation|Children|Comedy|Fantasy</td>\n",
              "    </tr>\n",
              "    <tr>\n",
              "      <th>1</th>\n",
              "      <td>2</td>\n",
              "      <td>Jumanji (1995)</td>\n",
              "      <td>Adventure|Children|Fantasy</td>\n",
              "    </tr>\n",
              "    <tr>\n",
              "      <th>2</th>\n",
              "      <td>3</td>\n",
              "      <td>Grumpier Old Men (1995)</td>\n",
              "      <td>Comedy|Romance</td>\n",
              "    </tr>\n",
              "    <tr>\n",
              "      <th>3</th>\n",
              "      <td>4</td>\n",
              "      <td>Waiting to Exhale (1995)</td>\n",
              "      <td>Comedy|Drama|Romance</td>\n",
              "    </tr>\n",
              "    <tr>\n",
              "      <th>4</th>\n",
              "      <td>5</td>\n",
              "      <td>Father of the Bride Part II (1995)</td>\n",
              "      <td>Comedy</td>\n",
              "    </tr>\n",
              "  </tbody>\n",
              "</table>\n",
              "</div>\n",
              "    <div class=\"colab-df-buttons\">\n",
              "\n",
              "  <div class=\"colab-df-container\">\n",
              "    <button class=\"colab-df-convert\" onclick=\"convertToInteractive('df-746c2110-1762-419b-87f4-347ebc72656e')\"\n",
              "            title=\"Convert this dataframe to an interactive table.\"\n",
              "            style=\"display:none;\">\n",
              "\n",
              "  <svg xmlns=\"http://www.w3.org/2000/svg\" height=\"24px\" viewBox=\"0 -960 960 960\">\n",
              "    <path d=\"M120-120v-720h720v720H120Zm60-500h600v-160H180v160Zm220 220h160v-160H400v160Zm0 220h160v-160H400v160ZM180-400h160v-160H180v160Zm440 0h160v-160H620v160ZM180-180h160v-160H180v160Zm440 0h160v-160H620v160Z\"/>\n",
              "  </svg>\n",
              "    </button>\n",
              "\n",
              "  <style>\n",
              "    .colab-df-container {\n",
              "      display:flex;\n",
              "      gap: 12px;\n",
              "    }\n",
              "\n",
              "    .colab-df-convert {\n",
              "      background-color: #E8F0FE;\n",
              "      border: none;\n",
              "      border-radius: 50%;\n",
              "      cursor: pointer;\n",
              "      display: none;\n",
              "      fill: #1967D2;\n",
              "      height: 32px;\n",
              "      padding: 0 0 0 0;\n",
              "      width: 32px;\n",
              "    }\n",
              "\n",
              "    .colab-df-convert:hover {\n",
              "      background-color: #E2EBFA;\n",
              "      box-shadow: 0px 1px 2px rgba(60, 64, 67, 0.3), 0px 1px 3px 1px rgba(60, 64, 67, 0.15);\n",
              "      fill: #174EA6;\n",
              "    }\n",
              "\n",
              "    .colab-df-buttons div {\n",
              "      margin-bottom: 4px;\n",
              "    }\n",
              "\n",
              "    [theme=dark] .colab-df-convert {\n",
              "      background-color: #3B4455;\n",
              "      fill: #D2E3FC;\n",
              "    }\n",
              "\n",
              "    [theme=dark] .colab-df-convert:hover {\n",
              "      background-color: #434B5C;\n",
              "      box-shadow: 0px 1px 3px 1px rgba(0, 0, 0, 0.15);\n",
              "      filter: drop-shadow(0px 1px 2px rgba(0, 0, 0, 0.3));\n",
              "      fill: #FFFFFF;\n",
              "    }\n",
              "  </style>\n",
              "\n",
              "    <script>\n",
              "      const buttonEl =\n",
              "        document.querySelector('#df-746c2110-1762-419b-87f4-347ebc72656e button.colab-df-convert');\n",
              "      buttonEl.style.display =\n",
              "        google.colab.kernel.accessAllowed ? 'block' : 'none';\n",
              "\n",
              "      async function convertToInteractive(key) {\n",
              "        const element = document.querySelector('#df-746c2110-1762-419b-87f4-347ebc72656e');\n",
              "        const dataTable =\n",
              "          await google.colab.kernel.invokeFunction('convertToInteractive',\n",
              "                                                    [key], {});\n",
              "        if (!dataTable) return;\n",
              "\n",
              "        const docLinkHtml = 'Like what you see? Visit the ' +\n",
              "          '<a target=\"_blank\" href=https://colab.research.google.com/notebooks/data_table.ipynb>data table notebook</a>'\n",
              "          + ' to learn more about interactive tables.';\n",
              "        element.innerHTML = '';\n",
              "        dataTable['output_type'] = 'display_data';\n",
              "        await google.colab.output.renderOutput(dataTable, element);\n",
              "        const docLink = document.createElement('div');\n",
              "        docLink.innerHTML = docLinkHtml;\n",
              "        element.appendChild(docLink);\n",
              "      }\n",
              "    </script>\n",
              "  </div>\n",
              "\n",
              "\n",
              "<div id=\"df-a2ff50b5-ea5c-4210-920e-71849f191df5\">\n",
              "  <button class=\"colab-df-quickchart\" onclick=\"quickchart('df-a2ff50b5-ea5c-4210-920e-71849f191df5')\"\n",
              "            title=\"Suggest charts\"\n",
              "            style=\"display:none;\">\n",
              "\n",
              "<svg xmlns=\"http://www.w3.org/2000/svg\" height=\"24px\"viewBox=\"0 0 24 24\"\n",
              "     width=\"24px\">\n",
              "    <g>\n",
              "        <path d=\"M19 3H5c-1.1 0-2 .9-2 2v14c0 1.1.9 2 2 2h14c1.1 0 2-.9 2-2V5c0-1.1-.9-2-2-2zM9 17H7v-7h2v7zm4 0h-2V7h2v10zm4 0h-2v-4h2v4z\"/>\n",
              "    </g>\n",
              "</svg>\n",
              "  </button>\n",
              "\n",
              "<style>\n",
              "  .colab-df-quickchart {\n",
              "      --bg-color: #E8F0FE;\n",
              "      --fill-color: #1967D2;\n",
              "      --hover-bg-color: #E2EBFA;\n",
              "      --hover-fill-color: #174EA6;\n",
              "      --disabled-fill-color: #AAA;\n",
              "      --disabled-bg-color: #DDD;\n",
              "  }\n",
              "\n",
              "  [theme=dark] .colab-df-quickchart {\n",
              "      --bg-color: #3B4455;\n",
              "      --fill-color: #D2E3FC;\n",
              "      --hover-bg-color: #434B5C;\n",
              "      --hover-fill-color: #FFFFFF;\n",
              "      --disabled-bg-color: #3B4455;\n",
              "      --disabled-fill-color: #666;\n",
              "  }\n",
              "\n",
              "  .colab-df-quickchart {\n",
              "    background-color: var(--bg-color);\n",
              "    border: none;\n",
              "    border-radius: 50%;\n",
              "    cursor: pointer;\n",
              "    display: none;\n",
              "    fill: var(--fill-color);\n",
              "    height: 32px;\n",
              "    padding: 0;\n",
              "    width: 32px;\n",
              "  }\n",
              "\n",
              "  .colab-df-quickchart:hover {\n",
              "    background-color: var(--hover-bg-color);\n",
              "    box-shadow: 0 1px 2px rgba(60, 64, 67, 0.3), 0 1px 3px 1px rgba(60, 64, 67, 0.15);\n",
              "    fill: var(--button-hover-fill-color);\n",
              "  }\n",
              "\n",
              "  .colab-df-quickchart-complete:disabled,\n",
              "  .colab-df-quickchart-complete:disabled:hover {\n",
              "    background-color: var(--disabled-bg-color);\n",
              "    fill: var(--disabled-fill-color);\n",
              "    box-shadow: none;\n",
              "  }\n",
              "\n",
              "  .colab-df-spinner {\n",
              "    border: 2px solid var(--fill-color);\n",
              "    border-color: transparent;\n",
              "    border-bottom-color: var(--fill-color);\n",
              "    animation:\n",
              "      spin 1s steps(1) infinite;\n",
              "  }\n",
              "\n",
              "  @keyframes spin {\n",
              "    0% {\n",
              "      border-color: transparent;\n",
              "      border-bottom-color: var(--fill-color);\n",
              "      border-left-color: var(--fill-color);\n",
              "    }\n",
              "    20% {\n",
              "      border-color: transparent;\n",
              "      border-left-color: var(--fill-color);\n",
              "      border-top-color: var(--fill-color);\n",
              "    }\n",
              "    30% {\n",
              "      border-color: transparent;\n",
              "      border-left-color: var(--fill-color);\n",
              "      border-top-color: var(--fill-color);\n",
              "      border-right-color: var(--fill-color);\n",
              "    }\n",
              "    40% {\n",
              "      border-color: transparent;\n",
              "      border-right-color: var(--fill-color);\n",
              "      border-top-color: var(--fill-color);\n",
              "    }\n",
              "    60% {\n",
              "      border-color: transparent;\n",
              "      border-right-color: var(--fill-color);\n",
              "    }\n",
              "    80% {\n",
              "      border-color: transparent;\n",
              "      border-right-color: var(--fill-color);\n",
              "      border-bottom-color: var(--fill-color);\n",
              "    }\n",
              "    90% {\n",
              "      border-color: transparent;\n",
              "      border-bottom-color: var(--fill-color);\n",
              "    }\n",
              "  }\n",
              "</style>\n",
              "\n",
              "  <script>\n",
              "    async function quickchart(key) {\n",
              "      const quickchartButtonEl =\n",
              "        document.querySelector('#' + key + ' button');\n",
              "      quickchartButtonEl.disabled = true;  // To prevent multiple clicks.\n",
              "      quickchartButtonEl.classList.add('colab-df-spinner');\n",
              "      try {\n",
              "        const charts = await google.colab.kernel.invokeFunction(\n",
              "            'suggestCharts', [key], {});\n",
              "      } catch (error) {\n",
              "        console.error('Error during call to suggestCharts:', error);\n",
              "      }\n",
              "      quickchartButtonEl.classList.remove('colab-df-spinner');\n",
              "      quickchartButtonEl.classList.add('colab-df-quickchart-complete');\n",
              "    }\n",
              "    (() => {\n",
              "      let quickchartButtonEl =\n",
              "        document.querySelector('#df-a2ff50b5-ea5c-4210-920e-71849f191df5 button');\n",
              "      quickchartButtonEl.style.display =\n",
              "        google.colab.kernel.accessAllowed ? 'block' : 'none';\n",
              "    })();\n",
              "  </script>\n",
              "</div>\n",
              "\n",
              "    </div>\n",
              "  </div>\n"
            ],
            "application/vnd.google.colaboratory.intrinsic+json": {
              "type": "dataframe",
              "variable_name": "movie_data",
              "summary": "{\n  \"name\": \"movie_data\",\n  \"rows\": 9742,\n  \"fields\": [\n    {\n      \"column\": \"movieId\",\n      \"properties\": {\n        \"dtype\": \"number\",\n        \"std\": 52160,\n        \"min\": 1,\n        \"max\": 193609,\n        \"num_unique_values\": 9742,\n        \"samples\": [\n          45635,\n          1373,\n          7325\n        ],\n        \"semantic_type\": \"\",\n        \"description\": \"\"\n      }\n    },\n    {\n      \"column\": \"title\",\n      \"properties\": {\n        \"dtype\": \"string\",\n        \"num_unique_values\": 9737,\n        \"samples\": [\n          \"Teenage Mutant Ninja Turtles (2014)\",\n          \"America's Sweethearts (2001)\",\n          \"Cast Away (2000)\"\n        ],\n        \"semantic_type\": \"\",\n        \"description\": \"\"\n      }\n    },\n    {\n      \"column\": \"genres\",\n      \"properties\": {\n        \"dtype\": \"category\",\n        \"num_unique_values\": 951,\n        \"samples\": [\n          \"Crime|Mystery|Romance|Thriller\",\n          \"Action|Adventure|Comedy|Western\",\n          \"Crime|Drama|Musical\"\n        ],\n        \"semantic_type\": \"\",\n        \"description\": \"\"\n      }\n    }\n  ]\n}"
            }
          },
          "metadata": {},
          "execution_count": 4
        }
      ],
      "source": [
        "# load movie data\n",
        "movie_data = pd.read_csv('/content/movies.csv')\n",
        "movie_data.head()"
      ]
    },
    {
      "cell_type": "code",
      "execution_count": 5,
      "metadata": {
        "colab": {
          "base_uri": "https://localhost:8080/",
          "height": 206
        },
        "id": "w4-g66TNcWzZ",
        "outputId": "d070fc59-d971-4048-a2a9-a43ad0fbed56"
      },
      "outputs": [
        {
          "output_type": "execute_result",
          "data": {
            "text/plain": [
              "   userId  movieId  rating  timestamp\n",
              "0       1        1     4.0  964982703\n",
              "1       1        3     4.0  964981247\n",
              "2       1        6     4.0  964982224\n",
              "3       1       47     5.0  964983815\n",
              "4       1       50     5.0  964982931"
            ],
            "text/html": [
              "\n",
              "  <div id=\"df-9fd5dd3a-cbe1-4cf1-89ab-801fdfbb70d5\" class=\"colab-df-container\">\n",
              "    <div>\n",
              "<style scoped>\n",
              "    .dataframe tbody tr th:only-of-type {\n",
              "        vertical-align: middle;\n",
              "    }\n",
              "\n",
              "    .dataframe tbody tr th {\n",
              "        vertical-align: top;\n",
              "    }\n",
              "\n",
              "    .dataframe thead th {\n",
              "        text-align: right;\n",
              "    }\n",
              "</style>\n",
              "<table border=\"1\" class=\"dataframe\">\n",
              "  <thead>\n",
              "    <tr style=\"text-align: right;\">\n",
              "      <th></th>\n",
              "      <th>userId</th>\n",
              "      <th>movieId</th>\n",
              "      <th>rating</th>\n",
              "      <th>timestamp</th>\n",
              "    </tr>\n",
              "  </thead>\n",
              "  <tbody>\n",
              "    <tr>\n",
              "      <th>0</th>\n",
              "      <td>1</td>\n",
              "      <td>1</td>\n",
              "      <td>4.0</td>\n",
              "      <td>964982703</td>\n",
              "    </tr>\n",
              "    <tr>\n",
              "      <th>1</th>\n",
              "      <td>1</td>\n",
              "      <td>3</td>\n",
              "      <td>4.0</td>\n",
              "      <td>964981247</td>\n",
              "    </tr>\n",
              "    <tr>\n",
              "      <th>2</th>\n",
              "      <td>1</td>\n",
              "      <td>6</td>\n",
              "      <td>4.0</td>\n",
              "      <td>964982224</td>\n",
              "    </tr>\n",
              "    <tr>\n",
              "      <th>3</th>\n",
              "      <td>1</td>\n",
              "      <td>47</td>\n",
              "      <td>5.0</td>\n",
              "      <td>964983815</td>\n",
              "    </tr>\n",
              "    <tr>\n",
              "      <th>4</th>\n",
              "      <td>1</td>\n",
              "      <td>50</td>\n",
              "      <td>5.0</td>\n",
              "      <td>964982931</td>\n",
              "    </tr>\n",
              "  </tbody>\n",
              "</table>\n",
              "</div>\n",
              "    <div class=\"colab-df-buttons\">\n",
              "\n",
              "  <div class=\"colab-df-container\">\n",
              "    <button class=\"colab-df-convert\" onclick=\"convertToInteractive('df-9fd5dd3a-cbe1-4cf1-89ab-801fdfbb70d5')\"\n",
              "            title=\"Convert this dataframe to an interactive table.\"\n",
              "            style=\"display:none;\">\n",
              "\n",
              "  <svg xmlns=\"http://www.w3.org/2000/svg\" height=\"24px\" viewBox=\"0 -960 960 960\">\n",
              "    <path d=\"M120-120v-720h720v720H120Zm60-500h600v-160H180v160Zm220 220h160v-160H400v160Zm0 220h160v-160H400v160ZM180-400h160v-160H180v160Zm440 0h160v-160H620v160ZM180-180h160v-160H180v160Zm440 0h160v-160H620v160Z\"/>\n",
              "  </svg>\n",
              "    </button>\n",
              "\n",
              "  <style>\n",
              "    .colab-df-container {\n",
              "      display:flex;\n",
              "      gap: 12px;\n",
              "    }\n",
              "\n",
              "    .colab-df-convert {\n",
              "      background-color: #E8F0FE;\n",
              "      border: none;\n",
              "      border-radius: 50%;\n",
              "      cursor: pointer;\n",
              "      display: none;\n",
              "      fill: #1967D2;\n",
              "      height: 32px;\n",
              "      padding: 0 0 0 0;\n",
              "      width: 32px;\n",
              "    }\n",
              "\n",
              "    .colab-df-convert:hover {\n",
              "      background-color: #E2EBFA;\n",
              "      box-shadow: 0px 1px 2px rgba(60, 64, 67, 0.3), 0px 1px 3px 1px rgba(60, 64, 67, 0.15);\n",
              "      fill: #174EA6;\n",
              "    }\n",
              "\n",
              "    .colab-df-buttons div {\n",
              "      margin-bottom: 4px;\n",
              "    }\n",
              "\n",
              "    [theme=dark] .colab-df-convert {\n",
              "      background-color: #3B4455;\n",
              "      fill: #D2E3FC;\n",
              "    }\n",
              "\n",
              "    [theme=dark] .colab-df-convert:hover {\n",
              "      background-color: #434B5C;\n",
              "      box-shadow: 0px 1px 3px 1px rgba(0, 0, 0, 0.15);\n",
              "      filter: drop-shadow(0px 1px 2px rgba(0, 0, 0, 0.3));\n",
              "      fill: #FFFFFF;\n",
              "    }\n",
              "  </style>\n",
              "\n",
              "    <script>\n",
              "      const buttonEl =\n",
              "        document.querySelector('#df-9fd5dd3a-cbe1-4cf1-89ab-801fdfbb70d5 button.colab-df-convert');\n",
              "      buttonEl.style.display =\n",
              "        google.colab.kernel.accessAllowed ? 'block' : 'none';\n",
              "\n",
              "      async function convertToInteractive(key) {\n",
              "        const element = document.querySelector('#df-9fd5dd3a-cbe1-4cf1-89ab-801fdfbb70d5');\n",
              "        const dataTable =\n",
              "          await google.colab.kernel.invokeFunction('convertToInteractive',\n",
              "                                                    [key], {});\n",
              "        if (!dataTable) return;\n",
              "\n",
              "        const docLinkHtml = 'Like what you see? Visit the ' +\n",
              "          '<a target=\"_blank\" href=https://colab.research.google.com/notebooks/data_table.ipynb>data table notebook</a>'\n",
              "          + ' to learn more about interactive tables.';\n",
              "        element.innerHTML = '';\n",
              "        dataTable['output_type'] = 'display_data';\n",
              "        await google.colab.output.renderOutput(dataTable, element);\n",
              "        const docLink = document.createElement('div');\n",
              "        docLink.innerHTML = docLinkHtml;\n",
              "        element.appendChild(docLink);\n",
              "      }\n",
              "    </script>\n",
              "  </div>\n",
              "\n",
              "\n",
              "<div id=\"df-c7419e96-00d5-48c8-8892-4bed7cfb6129\">\n",
              "  <button class=\"colab-df-quickchart\" onclick=\"quickchart('df-c7419e96-00d5-48c8-8892-4bed7cfb6129')\"\n",
              "            title=\"Suggest charts\"\n",
              "            style=\"display:none;\">\n",
              "\n",
              "<svg xmlns=\"http://www.w3.org/2000/svg\" height=\"24px\"viewBox=\"0 0 24 24\"\n",
              "     width=\"24px\">\n",
              "    <g>\n",
              "        <path d=\"M19 3H5c-1.1 0-2 .9-2 2v14c0 1.1.9 2 2 2h14c1.1 0 2-.9 2-2V5c0-1.1-.9-2-2-2zM9 17H7v-7h2v7zm4 0h-2V7h2v10zm4 0h-2v-4h2v4z\"/>\n",
              "    </g>\n",
              "</svg>\n",
              "  </button>\n",
              "\n",
              "<style>\n",
              "  .colab-df-quickchart {\n",
              "      --bg-color: #E8F0FE;\n",
              "      --fill-color: #1967D2;\n",
              "      --hover-bg-color: #E2EBFA;\n",
              "      --hover-fill-color: #174EA6;\n",
              "      --disabled-fill-color: #AAA;\n",
              "      --disabled-bg-color: #DDD;\n",
              "  }\n",
              "\n",
              "  [theme=dark] .colab-df-quickchart {\n",
              "      --bg-color: #3B4455;\n",
              "      --fill-color: #D2E3FC;\n",
              "      --hover-bg-color: #434B5C;\n",
              "      --hover-fill-color: #FFFFFF;\n",
              "      --disabled-bg-color: #3B4455;\n",
              "      --disabled-fill-color: #666;\n",
              "  }\n",
              "\n",
              "  .colab-df-quickchart {\n",
              "    background-color: var(--bg-color);\n",
              "    border: none;\n",
              "    border-radius: 50%;\n",
              "    cursor: pointer;\n",
              "    display: none;\n",
              "    fill: var(--fill-color);\n",
              "    height: 32px;\n",
              "    padding: 0;\n",
              "    width: 32px;\n",
              "  }\n",
              "\n",
              "  .colab-df-quickchart:hover {\n",
              "    background-color: var(--hover-bg-color);\n",
              "    box-shadow: 0 1px 2px rgba(60, 64, 67, 0.3), 0 1px 3px 1px rgba(60, 64, 67, 0.15);\n",
              "    fill: var(--button-hover-fill-color);\n",
              "  }\n",
              "\n",
              "  .colab-df-quickchart-complete:disabled,\n",
              "  .colab-df-quickchart-complete:disabled:hover {\n",
              "    background-color: var(--disabled-bg-color);\n",
              "    fill: var(--disabled-fill-color);\n",
              "    box-shadow: none;\n",
              "  }\n",
              "\n",
              "  .colab-df-spinner {\n",
              "    border: 2px solid var(--fill-color);\n",
              "    border-color: transparent;\n",
              "    border-bottom-color: var(--fill-color);\n",
              "    animation:\n",
              "      spin 1s steps(1) infinite;\n",
              "  }\n",
              "\n",
              "  @keyframes spin {\n",
              "    0% {\n",
              "      border-color: transparent;\n",
              "      border-bottom-color: var(--fill-color);\n",
              "      border-left-color: var(--fill-color);\n",
              "    }\n",
              "    20% {\n",
              "      border-color: transparent;\n",
              "      border-left-color: var(--fill-color);\n",
              "      border-top-color: var(--fill-color);\n",
              "    }\n",
              "    30% {\n",
              "      border-color: transparent;\n",
              "      border-left-color: var(--fill-color);\n",
              "      border-top-color: var(--fill-color);\n",
              "      border-right-color: var(--fill-color);\n",
              "    }\n",
              "    40% {\n",
              "      border-color: transparent;\n",
              "      border-right-color: var(--fill-color);\n",
              "      border-top-color: var(--fill-color);\n",
              "    }\n",
              "    60% {\n",
              "      border-color: transparent;\n",
              "      border-right-color: var(--fill-color);\n",
              "    }\n",
              "    80% {\n",
              "      border-color: transparent;\n",
              "      border-right-color: var(--fill-color);\n",
              "      border-bottom-color: var(--fill-color);\n",
              "    }\n",
              "    90% {\n",
              "      border-color: transparent;\n",
              "      border-bottom-color: var(--fill-color);\n",
              "    }\n",
              "  }\n",
              "</style>\n",
              "\n",
              "  <script>\n",
              "    async function quickchart(key) {\n",
              "      const quickchartButtonEl =\n",
              "        document.querySelector('#' + key + ' button');\n",
              "      quickchartButtonEl.disabled = true;  // To prevent multiple clicks.\n",
              "      quickchartButtonEl.classList.add('colab-df-spinner');\n",
              "      try {\n",
              "        const charts = await google.colab.kernel.invokeFunction(\n",
              "            'suggestCharts', [key], {});\n",
              "      } catch (error) {\n",
              "        console.error('Error during call to suggestCharts:', error);\n",
              "      }\n",
              "      quickchartButtonEl.classList.remove('colab-df-spinner');\n",
              "      quickchartButtonEl.classList.add('colab-df-quickchart-complete');\n",
              "    }\n",
              "    (() => {\n",
              "      let quickchartButtonEl =\n",
              "        document.querySelector('#df-c7419e96-00d5-48c8-8892-4bed7cfb6129 button');\n",
              "      quickchartButtonEl.style.display =\n",
              "        google.colab.kernel.accessAllowed ? 'block' : 'none';\n",
              "    })();\n",
              "  </script>\n",
              "</div>\n",
              "\n",
              "    </div>\n",
              "  </div>\n"
            ],
            "application/vnd.google.colaboratory.intrinsic+json": {
              "type": "dataframe",
              "variable_name": "ratings"
            }
          },
          "metadata": {},
          "execution_count": 5
        }
      ],
      "source": [
        "# load ratings data\n",
        "ratings = pd.read_csv('/content/ratings.csv')\n",
        "ratings.head()"
      ]
    },
    {
      "cell_type": "code",
      "execution_count": 6,
      "metadata": {
        "id": "CAp7HjX-cWzZ"
      },
      "outputs": [],
      "source": [
        "#\n",
        "tags = pd.read_csv('/content/tags.csv')\n",
        "links = pd.read_csv('/content/links.csv')"
      ]
    },
    {
      "cell_type": "markdown",
      "metadata": {
        "id": "g6ZcMfqEcWza"
      },
      "source": [
        "Below, we merge our `movies.csv` and `ratings.csv` datasets. We do an `inner join` because we only want the rated movies as the recommendation system is based on the ratings provided by users and therefore,if a movie has no ratings it does not contribute to the recommendation process."
      ]
    },
    {
      "cell_type": "code",
      "execution_count": 7,
      "metadata": {
        "colab": {
          "base_uri": "https://localhost:8080/",
          "height": 423
        },
        "id": "-9mr0yX3cWza",
        "outputId": "ffe6600d-88b6-43a5-9393-6ec44a4ad492"
      },
      "outputs": [
        {
          "output_type": "execute_result",
          "data": {
            "text/plain": [
              "        movieId                                      title  \\\n",
              "0             1                           Toy Story (1995)   \n",
              "1             1                           Toy Story (1995)   \n",
              "2             1                           Toy Story (1995)   \n",
              "3             1                           Toy Story (1995)   \n",
              "4             1                           Toy Story (1995)   \n",
              "...         ...                                        ...   \n",
              "100831   193581  Black Butler: Book of the Atlantic (2017)   \n",
              "100832   193583               No Game No Life: Zero (2017)   \n",
              "100833   193585                               Flint (2017)   \n",
              "100834   193587        Bungo Stray Dogs: Dead Apple (2018)   \n",
              "100835   193609        Andrew Dice Clay: Dice Rules (1991)   \n",
              "\n",
              "                                             genres  userId  rating  \\\n",
              "0       Adventure|Animation|Children|Comedy|Fantasy       1     4.0   \n",
              "1       Adventure|Animation|Children|Comedy|Fantasy       5     4.0   \n",
              "2       Adventure|Animation|Children|Comedy|Fantasy       7     4.5   \n",
              "3       Adventure|Animation|Children|Comedy|Fantasy      15     2.5   \n",
              "4       Adventure|Animation|Children|Comedy|Fantasy      17     4.5   \n",
              "...                                             ...     ...     ...   \n",
              "100831              Action|Animation|Comedy|Fantasy     184     4.0   \n",
              "100832                     Animation|Comedy|Fantasy     184     3.5   \n",
              "100833                                        Drama     184     3.5   \n",
              "100834                             Action|Animation     184     3.5   \n",
              "100835                                       Comedy     331     4.0   \n",
              "\n",
              "         timestamp  \n",
              "0        964982703  \n",
              "1        847434962  \n",
              "2       1106635946  \n",
              "3       1510577970  \n",
              "4       1305696483  \n",
              "...            ...  \n",
              "100831  1537109082  \n",
              "100832  1537109545  \n",
              "100833  1537109805  \n",
              "100834  1537110021  \n",
              "100835  1537157606  \n",
              "\n",
              "[100836 rows x 6 columns]"
            ],
            "text/html": [
              "\n",
              "  <div id=\"df-f2ebb9db-d437-475a-8622-02fadcc2816c\" class=\"colab-df-container\">\n",
              "    <div>\n",
              "<style scoped>\n",
              "    .dataframe tbody tr th:only-of-type {\n",
              "        vertical-align: middle;\n",
              "    }\n",
              "\n",
              "    .dataframe tbody tr th {\n",
              "        vertical-align: top;\n",
              "    }\n",
              "\n",
              "    .dataframe thead th {\n",
              "        text-align: right;\n",
              "    }\n",
              "</style>\n",
              "<table border=\"1\" class=\"dataframe\">\n",
              "  <thead>\n",
              "    <tr style=\"text-align: right;\">\n",
              "      <th></th>\n",
              "      <th>movieId</th>\n",
              "      <th>title</th>\n",
              "      <th>genres</th>\n",
              "      <th>userId</th>\n",
              "      <th>rating</th>\n",
              "      <th>timestamp</th>\n",
              "    </tr>\n",
              "  </thead>\n",
              "  <tbody>\n",
              "    <tr>\n",
              "      <th>0</th>\n",
              "      <td>1</td>\n",
              "      <td>Toy Story (1995)</td>\n",
              "      <td>Adventure|Animation|Children|Comedy|Fantasy</td>\n",
              "      <td>1</td>\n",
              "      <td>4.0</td>\n",
              "      <td>964982703</td>\n",
              "    </tr>\n",
              "    <tr>\n",
              "      <th>1</th>\n",
              "      <td>1</td>\n",
              "      <td>Toy Story (1995)</td>\n",
              "      <td>Adventure|Animation|Children|Comedy|Fantasy</td>\n",
              "      <td>5</td>\n",
              "      <td>4.0</td>\n",
              "      <td>847434962</td>\n",
              "    </tr>\n",
              "    <tr>\n",
              "      <th>2</th>\n",
              "      <td>1</td>\n",
              "      <td>Toy Story (1995)</td>\n",
              "      <td>Adventure|Animation|Children|Comedy|Fantasy</td>\n",
              "      <td>7</td>\n",
              "      <td>4.5</td>\n",
              "      <td>1106635946</td>\n",
              "    </tr>\n",
              "    <tr>\n",
              "      <th>3</th>\n",
              "      <td>1</td>\n",
              "      <td>Toy Story (1995)</td>\n",
              "      <td>Adventure|Animation|Children|Comedy|Fantasy</td>\n",
              "      <td>15</td>\n",
              "      <td>2.5</td>\n",
              "      <td>1510577970</td>\n",
              "    </tr>\n",
              "    <tr>\n",
              "      <th>4</th>\n",
              "      <td>1</td>\n",
              "      <td>Toy Story (1995)</td>\n",
              "      <td>Adventure|Animation|Children|Comedy|Fantasy</td>\n",
              "      <td>17</td>\n",
              "      <td>4.5</td>\n",
              "      <td>1305696483</td>\n",
              "    </tr>\n",
              "    <tr>\n",
              "      <th>...</th>\n",
              "      <td>...</td>\n",
              "      <td>...</td>\n",
              "      <td>...</td>\n",
              "      <td>...</td>\n",
              "      <td>...</td>\n",
              "      <td>...</td>\n",
              "    </tr>\n",
              "    <tr>\n",
              "      <th>100831</th>\n",
              "      <td>193581</td>\n",
              "      <td>Black Butler: Book of the Atlantic (2017)</td>\n",
              "      <td>Action|Animation|Comedy|Fantasy</td>\n",
              "      <td>184</td>\n",
              "      <td>4.0</td>\n",
              "      <td>1537109082</td>\n",
              "    </tr>\n",
              "    <tr>\n",
              "      <th>100832</th>\n",
              "      <td>193583</td>\n",
              "      <td>No Game No Life: Zero (2017)</td>\n",
              "      <td>Animation|Comedy|Fantasy</td>\n",
              "      <td>184</td>\n",
              "      <td>3.5</td>\n",
              "      <td>1537109545</td>\n",
              "    </tr>\n",
              "    <tr>\n",
              "      <th>100833</th>\n",
              "      <td>193585</td>\n",
              "      <td>Flint (2017)</td>\n",
              "      <td>Drama</td>\n",
              "      <td>184</td>\n",
              "      <td>3.5</td>\n",
              "      <td>1537109805</td>\n",
              "    </tr>\n",
              "    <tr>\n",
              "      <th>100834</th>\n",
              "      <td>193587</td>\n",
              "      <td>Bungo Stray Dogs: Dead Apple (2018)</td>\n",
              "      <td>Action|Animation</td>\n",
              "      <td>184</td>\n",
              "      <td>3.5</td>\n",
              "      <td>1537110021</td>\n",
              "    </tr>\n",
              "    <tr>\n",
              "      <th>100835</th>\n",
              "      <td>193609</td>\n",
              "      <td>Andrew Dice Clay: Dice Rules (1991)</td>\n",
              "      <td>Comedy</td>\n",
              "      <td>331</td>\n",
              "      <td>4.0</td>\n",
              "      <td>1537157606</td>\n",
              "    </tr>\n",
              "  </tbody>\n",
              "</table>\n",
              "<p>100836 rows × 6 columns</p>\n",
              "</div>\n",
              "    <div class=\"colab-df-buttons\">\n",
              "\n",
              "  <div class=\"colab-df-container\">\n",
              "    <button class=\"colab-df-convert\" onclick=\"convertToInteractive('df-f2ebb9db-d437-475a-8622-02fadcc2816c')\"\n",
              "            title=\"Convert this dataframe to an interactive table.\"\n",
              "            style=\"display:none;\">\n",
              "\n",
              "  <svg xmlns=\"http://www.w3.org/2000/svg\" height=\"24px\" viewBox=\"0 -960 960 960\">\n",
              "    <path d=\"M120-120v-720h720v720H120Zm60-500h600v-160H180v160Zm220 220h160v-160H400v160Zm0 220h160v-160H400v160ZM180-400h160v-160H180v160Zm440 0h160v-160H620v160ZM180-180h160v-160H180v160Zm440 0h160v-160H620v160Z\"/>\n",
              "  </svg>\n",
              "    </button>\n",
              "\n",
              "  <style>\n",
              "    .colab-df-container {\n",
              "      display:flex;\n",
              "      gap: 12px;\n",
              "    }\n",
              "\n",
              "    .colab-df-convert {\n",
              "      background-color: #E8F0FE;\n",
              "      border: none;\n",
              "      border-radius: 50%;\n",
              "      cursor: pointer;\n",
              "      display: none;\n",
              "      fill: #1967D2;\n",
              "      height: 32px;\n",
              "      padding: 0 0 0 0;\n",
              "      width: 32px;\n",
              "    }\n",
              "\n",
              "    .colab-df-convert:hover {\n",
              "      background-color: #E2EBFA;\n",
              "      box-shadow: 0px 1px 2px rgba(60, 64, 67, 0.3), 0px 1px 3px 1px rgba(60, 64, 67, 0.15);\n",
              "      fill: #174EA6;\n",
              "    }\n",
              "\n",
              "    .colab-df-buttons div {\n",
              "      margin-bottom: 4px;\n",
              "    }\n",
              "\n",
              "    [theme=dark] .colab-df-convert {\n",
              "      background-color: #3B4455;\n",
              "      fill: #D2E3FC;\n",
              "    }\n",
              "\n",
              "    [theme=dark] .colab-df-convert:hover {\n",
              "      background-color: #434B5C;\n",
              "      box-shadow: 0px 1px 3px 1px rgba(0, 0, 0, 0.15);\n",
              "      filter: drop-shadow(0px 1px 2px rgba(0, 0, 0, 0.3));\n",
              "      fill: #FFFFFF;\n",
              "    }\n",
              "  </style>\n",
              "\n",
              "    <script>\n",
              "      const buttonEl =\n",
              "        document.querySelector('#df-f2ebb9db-d437-475a-8622-02fadcc2816c button.colab-df-convert');\n",
              "      buttonEl.style.display =\n",
              "        google.colab.kernel.accessAllowed ? 'block' : 'none';\n",
              "\n",
              "      async function convertToInteractive(key) {\n",
              "        const element = document.querySelector('#df-f2ebb9db-d437-475a-8622-02fadcc2816c');\n",
              "        const dataTable =\n",
              "          await google.colab.kernel.invokeFunction('convertToInteractive',\n",
              "                                                    [key], {});\n",
              "        if (!dataTable) return;\n",
              "\n",
              "        const docLinkHtml = 'Like what you see? Visit the ' +\n",
              "          '<a target=\"_blank\" href=https://colab.research.google.com/notebooks/data_table.ipynb>data table notebook</a>'\n",
              "          + ' to learn more about interactive tables.';\n",
              "        element.innerHTML = '';\n",
              "        dataTable['output_type'] = 'display_data';\n",
              "        await google.colab.output.renderOutput(dataTable, element);\n",
              "        const docLink = document.createElement('div');\n",
              "        docLink.innerHTML = docLinkHtml;\n",
              "        element.appendChild(docLink);\n",
              "      }\n",
              "    </script>\n",
              "  </div>\n",
              "\n",
              "\n",
              "<div id=\"df-bafde192-bc9e-4b96-b6f4-2379084c24bf\">\n",
              "  <button class=\"colab-df-quickchart\" onclick=\"quickchart('df-bafde192-bc9e-4b96-b6f4-2379084c24bf')\"\n",
              "            title=\"Suggest charts\"\n",
              "            style=\"display:none;\">\n",
              "\n",
              "<svg xmlns=\"http://www.w3.org/2000/svg\" height=\"24px\"viewBox=\"0 0 24 24\"\n",
              "     width=\"24px\">\n",
              "    <g>\n",
              "        <path d=\"M19 3H5c-1.1 0-2 .9-2 2v14c0 1.1.9 2 2 2h14c1.1 0 2-.9 2-2V5c0-1.1-.9-2-2-2zM9 17H7v-7h2v7zm4 0h-2V7h2v10zm4 0h-2v-4h2v4z\"/>\n",
              "    </g>\n",
              "</svg>\n",
              "  </button>\n",
              "\n",
              "<style>\n",
              "  .colab-df-quickchart {\n",
              "      --bg-color: #E8F0FE;\n",
              "      --fill-color: #1967D2;\n",
              "      --hover-bg-color: #E2EBFA;\n",
              "      --hover-fill-color: #174EA6;\n",
              "      --disabled-fill-color: #AAA;\n",
              "      --disabled-bg-color: #DDD;\n",
              "  }\n",
              "\n",
              "  [theme=dark] .colab-df-quickchart {\n",
              "      --bg-color: #3B4455;\n",
              "      --fill-color: #D2E3FC;\n",
              "      --hover-bg-color: #434B5C;\n",
              "      --hover-fill-color: #FFFFFF;\n",
              "      --disabled-bg-color: #3B4455;\n",
              "      --disabled-fill-color: #666;\n",
              "  }\n",
              "\n",
              "  .colab-df-quickchart {\n",
              "    background-color: var(--bg-color);\n",
              "    border: none;\n",
              "    border-radius: 50%;\n",
              "    cursor: pointer;\n",
              "    display: none;\n",
              "    fill: var(--fill-color);\n",
              "    height: 32px;\n",
              "    padding: 0;\n",
              "    width: 32px;\n",
              "  }\n",
              "\n",
              "  .colab-df-quickchart:hover {\n",
              "    background-color: var(--hover-bg-color);\n",
              "    box-shadow: 0 1px 2px rgba(60, 64, 67, 0.3), 0 1px 3px 1px rgba(60, 64, 67, 0.15);\n",
              "    fill: var(--button-hover-fill-color);\n",
              "  }\n",
              "\n",
              "  .colab-df-quickchart-complete:disabled,\n",
              "  .colab-df-quickchart-complete:disabled:hover {\n",
              "    background-color: var(--disabled-bg-color);\n",
              "    fill: var(--disabled-fill-color);\n",
              "    box-shadow: none;\n",
              "  }\n",
              "\n",
              "  .colab-df-spinner {\n",
              "    border: 2px solid var(--fill-color);\n",
              "    border-color: transparent;\n",
              "    border-bottom-color: var(--fill-color);\n",
              "    animation:\n",
              "      spin 1s steps(1) infinite;\n",
              "  }\n",
              "\n",
              "  @keyframes spin {\n",
              "    0% {\n",
              "      border-color: transparent;\n",
              "      border-bottom-color: var(--fill-color);\n",
              "      border-left-color: var(--fill-color);\n",
              "    }\n",
              "    20% {\n",
              "      border-color: transparent;\n",
              "      border-left-color: var(--fill-color);\n",
              "      border-top-color: var(--fill-color);\n",
              "    }\n",
              "    30% {\n",
              "      border-color: transparent;\n",
              "      border-left-color: var(--fill-color);\n",
              "      border-top-color: var(--fill-color);\n",
              "      border-right-color: var(--fill-color);\n",
              "    }\n",
              "    40% {\n",
              "      border-color: transparent;\n",
              "      border-right-color: var(--fill-color);\n",
              "      border-top-color: var(--fill-color);\n",
              "    }\n",
              "    60% {\n",
              "      border-color: transparent;\n",
              "      border-right-color: var(--fill-color);\n",
              "    }\n",
              "    80% {\n",
              "      border-color: transparent;\n",
              "      border-right-color: var(--fill-color);\n",
              "      border-bottom-color: var(--fill-color);\n",
              "    }\n",
              "    90% {\n",
              "      border-color: transparent;\n",
              "      border-bottom-color: var(--fill-color);\n",
              "    }\n",
              "  }\n",
              "</style>\n",
              "\n",
              "  <script>\n",
              "    async function quickchart(key) {\n",
              "      const quickchartButtonEl =\n",
              "        document.querySelector('#' + key + ' button');\n",
              "      quickchartButtonEl.disabled = true;  // To prevent multiple clicks.\n",
              "      quickchartButtonEl.classList.add('colab-df-spinner');\n",
              "      try {\n",
              "        const charts = await google.colab.kernel.invokeFunction(\n",
              "            'suggestCharts', [key], {});\n",
              "      } catch (error) {\n",
              "        console.error('Error during call to suggestCharts:', error);\n",
              "      }\n",
              "      quickchartButtonEl.classList.remove('colab-df-spinner');\n",
              "      quickchartButtonEl.classList.add('colab-df-quickchart-complete');\n",
              "    }\n",
              "    (() => {\n",
              "      let quickchartButtonEl =\n",
              "        document.querySelector('#df-bafde192-bc9e-4b96-b6f4-2379084c24bf button');\n",
              "      quickchartButtonEl.style.display =\n",
              "        google.colab.kernel.accessAllowed ? 'block' : 'none';\n",
              "    })();\n",
              "  </script>\n",
              "</div>\n",
              "\n",
              "  <div id=\"id_5e62748c-044c-4491-8cfd-c359efac482a\">\n",
              "    <style>\n",
              "      .colab-df-generate {\n",
              "        background-color: #E8F0FE;\n",
              "        border: none;\n",
              "        border-radius: 50%;\n",
              "        cursor: pointer;\n",
              "        display: none;\n",
              "        fill: #1967D2;\n",
              "        height: 32px;\n",
              "        padding: 0 0 0 0;\n",
              "        width: 32px;\n",
              "      }\n",
              "\n",
              "      .colab-df-generate:hover {\n",
              "        background-color: #E2EBFA;\n",
              "        box-shadow: 0px 1px 2px rgba(60, 64, 67, 0.3), 0px 1px 3px 1px rgba(60, 64, 67, 0.15);\n",
              "        fill: #174EA6;\n",
              "      }\n",
              "\n",
              "      [theme=dark] .colab-df-generate {\n",
              "        background-color: #3B4455;\n",
              "        fill: #D2E3FC;\n",
              "      }\n",
              "\n",
              "      [theme=dark] .colab-df-generate:hover {\n",
              "        background-color: #434B5C;\n",
              "        box-shadow: 0px 1px 3px 1px rgba(0, 0, 0, 0.15);\n",
              "        filter: drop-shadow(0px 1px 2px rgba(0, 0, 0, 0.3));\n",
              "        fill: #FFFFFF;\n",
              "      }\n",
              "    </style>\n",
              "    <button class=\"colab-df-generate\" onclick=\"generateWithVariable('movies_and_ratings')\"\n",
              "            title=\"Generate code using this dataframe.\"\n",
              "            style=\"display:none;\">\n",
              "\n",
              "  <svg xmlns=\"http://www.w3.org/2000/svg\" height=\"24px\"viewBox=\"0 0 24 24\"\n",
              "       width=\"24px\">\n",
              "    <path d=\"M7,19H8.4L18.45,9,17,7.55,7,17.6ZM5,21V16.75L18.45,3.32a2,2,0,0,1,2.83,0l1.4,1.43a1.91,1.91,0,0,1,.58,1.4,1.91,1.91,0,0,1-.58,1.4L9.25,21ZM18.45,9,17,7.55Zm-12,3A5.31,5.31,0,0,0,4.9,8.1,5.31,5.31,0,0,0,1,6.5,5.31,5.31,0,0,0,4.9,4.9,5.31,5.31,0,0,0,6.5,1,5.31,5.31,0,0,0,8.1,4.9,5.31,5.31,0,0,0,12,6.5,5.46,5.46,0,0,0,6.5,12Z\"/>\n",
              "  </svg>\n",
              "    </button>\n",
              "    <script>\n",
              "      (() => {\n",
              "      const buttonEl =\n",
              "        document.querySelector('#id_5e62748c-044c-4491-8cfd-c359efac482a button.colab-df-generate');\n",
              "      buttonEl.style.display =\n",
              "        google.colab.kernel.accessAllowed ? 'block' : 'none';\n",
              "\n",
              "      buttonEl.onclick = () => {\n",
              "        google.colab.notebook.generateWithVariable('movies_and_ratings');\n",
              "      }\n",
              "      })();\n",
              "    </script>\n",
              "  </div>\n",
              "\n",
              "    </div>\n",
              "  </div>\n"
            ],
            "application/vnd.google.colaboratory.intrinsic+json": {
              "type": "dataframe",
              "variable_name": "movies_and_ratings"
            }
          },
          "metadata": {},
          "execution_count": 7
        }
      ],
      "source": [
        "# merge datasets\n",
        "movies_and_ratings = pd.merge(movie_data, ratings, on = 'movieId')\n",
        "movies_and_ratings"
      ]
    },
    {
      "cell_type": "code",
      "execution_count": 8,
      "metadata": {
        "colab": {
          "base_uri": "https://localhost:8080/"
        },
        "id": "EwWsQXUTcWza",
        "outputId": "23ac511e-306c-40aa-8e02-9e837e82d1a2"
      },
      "outputs": [
        {
          "output_type": "stream",
          "name": "stdout",
          "text": [
            "<class 'pandas.core.frame.DataFrame'>\n",
            "RangeIndex: 100836 entries, 0 to 100835\n",
            "Data columns (total 6 columns):\n",
            " #   Column     Non-Null Count   Dtype  \n",
            "---  ------     --------------   -----  \n",
            " 0   movieId    100836 non-null  int64  \n",
            " 1   title      100836 non-null  object \n",
            " 2   genres     100836 non-null  object \n",
            " 3   userId     100836 non-null  int64  \n",
            " 4   rating     100836 non-null  float64\n",
            " 5   timestamp  100836 non-null  int64  \n",
            "dtypes: float64(1), int64(3), object(2)\n",
            "memory usage: 4.6+ MB\n"
          ]
        }
      ],
      "source": [
        "# get preview of data\n",
        "movies_and_ratings.info()"
      ]
    },
    {
      "cell_type": "markdown",
      "metadata": {
        "id": "2zxlEOJkcWza"
      },
      "source": [
        "Our dataset columns have the correct types, hence no need for type casting."
      ]
    },
    {
      "cell_type": "code",
      "execution_count": 9,
      "metadata": {
        "colab": {
          "base_uri": "https://localhost:8080/",
          "height": 272
        },
        "id": "eHN_HlFKcWza",
        "outputId": "7b36f491-c15c-438e-c0c0-2a13cc39c1c8"
      },
      "outputs": [
        {
          "output_type": "execute_result",
          "data": {
            "text/plain": [
              "movieId      0\n",
              "title        0\n",
              "genres       0\n",
              "userId       0\n",
              "rating       0\n",
              "timestamp    0\n",
              "dtype: int64"
            ],
            "text/html": [
              "<div>\n",
              "<style scoped>\n",
              "    .dataframe tbody tr th:only-of-type {\n",
              "        vertical-align: middle;\n",
              "    }\n",
              "\n",
              "    .dataframe tbody tr th {\n",
              "        vertical-align: top;\n",
              "    }\n",
              "\n",
              "    .dataframe thead th {\n",
              "        text-align: right;\n",
              "    }\n",
              "</style>\n",
              "<table border=\"1\" class=\"dataframe\">\n",
              "  <thead>\n",
              "    <tr style=\"text-align: right;\">\n",
              "      <th></th>\n",
              "      <th>0</th>\n",
              "    </tr>\n",
              "  </thead>\n",
              "  <tbody>\n",
              "    <tr>\n",
              "      <th>movieId</th>\n",
              "      <td>0</td>\n",
              "    </tr>\n",
              "    <tr>\n",
              "      <th>title</th>\n",
              "      <td>0</td>\n",
              "    </tr>\n",
              "    <tr>\n",
              "      <th>genres</th>\n",
              "      <td>0</td>\n",
              "    </tr>\n",
              "    <tr>\n",
              "      <th>userId</th>\n",
              "      <td>0</td>\n",
              "    </tr>\n",
              "    <tr>\n",
              "      <th>rating</th>\n",
              "      <td>0</td>\n",
              "    </tr>\n",
              "    <tr>\n",
              "      <th>timestamp</th>\n",
              "      <td>0</td>\n",
              "    </tr>\n",
              "  </tbody>\n",
              "</table>\n",
              "</div><br><label><b>dtype:</b> int64</label>"
            ]
          },
          "metadata": {},
          "execution_count": 9
        }
      ],
      "source": [
        "# check for missing values\n",
        "movies_and_ratings.isna().sum()"
      ]
    },
    {
      "cell_type": "code",
      "execution_count": 10,
      "metadata": {
        "colab": {
          "base_uri": "https://localhost:8080/"
        },
        "id": "LQW2RUB-cWzb",
        "outputId": "e44f4921-f045-4757-b017-9d738c391bdc"
      },
      "outputs": [
        {
          "output_type": "execute_result",
          "data": {
            "text/plain": [
              "0"
            ]
          },
          "metadata": {},
          "execution_count": 10
        }
      ],
      "source": [
        "# check for duplicates\n",
        "movies_and_ratings.duplicated().sum()"
      ]
    },
    {
      "cell_type": "code",
      "execution_count": 11,
      "metadata": {
        "colab": {
          "base_uri": "https://localhost:8080/",
          "height": 272
        },
        "id": "WB7eLZl8cWzb",
        "outputId": "ad3ef60e-e4b2-49bf-ddeb-5fd26bccfcbc"
      },
      "outputs": [
        {
          "output_type": "execute_result",
          "data": {
            "text/plain": [
              "movieId      0\n",
              "title        0\n",
              "genres       0\n",
              "userId       0\n",
              "rating       0\n",
              "timestamp    0\n",
              "dtype: int64"
            ],
            "text/html": [
              "<div>\n",
              "<style scoped>\n",
              "    .dataframe tbody tr th:only-of-type {\n",
              "        vertical-align: middle;\n",
              "    }\n",
              "\n",
              "    .dataframe tbody tr th {\n",
              "        vertical-align: top;\n",
              "    }\n",
              "\n",
              "    .dataframe thead th {\n",
              "        text-align: right;\n",
              "    }\n",
              "</style>\n",
              "<table border=\"1\" class=\"dataframe\">\n",
              "  <thead>\n",
              "    <tr style=\"text-align: right;\">\n",
              "      <th></th>\n",
              "      <th>0</th>\n",
              "    </tr>\n",
              "  </thead>\n",
              "  <tbody>\n",
              "    <tr>\n",
              "      <th>movieId</th>\n",
              "      <td>0</td>\n",
              "    </tr>\n",
              "    <tr>\n",
              "      <th>title</th>\n",
              "      <td>0</td>\n",
              "    </tr>\n",
              "    <tr>\n",
              "      <th>genres</th>\n",
              "      <td>0</td>\n",
              "    </tr>\n",
              "    <tr>\n",
              "      <th>userId</th>\n",
              "      <td>0</td>\n",
              "    </tr>\n",
              "    <tr>\n",
              "      <th>rating</th>\n",
              "      <td>0</td>\n",
              "    </tr>\n",
              "    <tr>\n",
              "      <th>timestamp</th>\n",
              "      <td>0</td>\n",
              "    </tr>\n",
              "  </tbody>\n",
              "</table>\n",
              "</div><br><label><b>dtype:</b> int64</label>"
            ]
          },
          "metadata": {},
          "execution_count": 11
        }
      ],
      "source": [
        "movies_and_ratings.isna().sum()"
      ]
    },
    {
      "cell_type": "code",
      "execution_count": 12,
      "metadata": {
        "id": "RVS1kv65cWzb"
      },
      "outputs": [],
      "source": [
        "# dropmissing values\n",
        "movies_and_ratings = movies_and_ratings.dropna(subset = ['userId'])"
      ]
    },
    {
      "cell_type": "code",
      "execution_count": 13,
      "metadata": {
        "id": "BX_fbIhIcWzb"
      },
      "outputs": [],
      "source": [
        "# drop unneccesary columns\n",
        "# drop unnecessary columns\n",
        "movies_and_ratings = movies_and_ratings.drop(['timestamp'], axis=1)"
      ]
    },
    {
      "cell_type": "code",
      "execution_count": 14,
      "metadata": {
        "colab": {
          "base_uri": "https://localhost:8080/",
          "height": 300
        },
        "id": "pMMzjg4CcWzc",
        "outputId": "3392acf8-c31b-4928-c71b-9b10c4ef7865"
      },
      "outputs": [
        {
          "output_type": "execute_result",
          "data": {
            "text/plain": [
              "             movieId         userId         rating\n",
              "count  100836.000000  100836.000000  100836.000000\n",
              "mean    19435.295718     326.127564       3.501557\n",
              "std     35530.987199     182.618491       1.042529\n",
              "min         1.000000       1.000000       0.500000\n",
              "25%      1199.000000     177.000000       3.000000\n",
              "50%      2991.000000     325.000000       3.500000\n",
              "75%      8122.000000     477.000000       4.000000\n",
              "max    193609.000000     610.000000       5.000000"
            ],
            "text/html": [
              "\n",
              "  <div id=\"df-244b95f7-9b3f-40f7-bc50-8260dee2855b\" class=\"colab-df-container\">\n",
              "    <div>\n",
              "<style scoped>\n",
              "    .dataframe tbody tr th:only-of-type {\n",
              "        vertical-align: middle;\n",
              "    }\n",
              "\n",
              "    .dataframe tbody tr th {\n",
              "        vertical-align: top;\n",
              "    }\n",
              "\n",
              "    .dataframe thead th {\n",
              "        text-align: right;\n",
              "    }\n",
              "</style>\n",
              "<table border=\"1\" class=\"dataframe\">\n",
              "  <thead>\n",
              "    <tr style=\"text-align: right;\">\n",
              "      <th></th>\n",
              "      <th>movieId</th>\n",
              "      <th>userId</th>\n",
              "      <th>rating</th>\n",
              "    </tr>\n",
              "  </thead>\n",
              "  <tbody>\n",
              "    <tr>\n",
              "      <th>count</th>\n",
              "      <td>100836.000000</td>\n",
              "      <td>100836.000000</td>\n",
              "      <td>100836.000000</td>\n",
              "    </tr>\n",
              "    <tr>\n",
              "      <th>mean</th>\n",
              "      <td>19435.295718</td>\n",
              "      <td>326.127564</td>\n",
              "      <td>3.501557</td>\n",
              "    </tr>\n",
              "    <tr>\n",
              "      <th>std</th>\n",
              "      <td>35530.987199</td>\n",
              "      <td>182.618491</td>\n",
              "      <td>1.042529</td>\n",
              "    </tr>\n",
              "    <tr>\n",
              "      <th>min</th>\n",
              "      <td>1.000000</td>\n",
              "      <td>1.000000</td>\n",
              "      <td>0.500000</td>\n",
              "    </tr>\n",
              "    <tr>\n",
              "      <th>25%</th>\n",
              "      <td>1199.000000</td>\n",
              "      <td>177.000000</td>\n",
              "      <td>3.000000</td>\n",
              "    </tr>\n",
              "    <tr>\n",
              "      <th>50%</th>\n",
              "      <td>2991.000000</td>\n",
              "      <td>325.000000</td>\n",
              "      <td>3.500000</td>\n",
              "    </tr>\n",
              "    <tr>\n",
              "      <th>75%</th>\n",
              "      <td>8122.000000</td>\n",
              "      <td>477.000000</td>\n",
              "      <td>4.000000</td>\n",
              "    </tr>\n",
              "    <tr>\n",
              "      <th>max</th>\n",
              "      <td>193609.000000</td>\n",
              "      <td>610.000000</td>\n",
              "      <td>5.000000</td>\n",
              "    </tr>\n",
              "  </tbody>\n",
              "</table>\n",
              "</div>\n",
              "    <div class=\"colab-df-buttons\">\n",
              "\n",
              "  <div class=\"colab-df-container\">\n",
              "    <button class=\"colab-df-convert\" onclick=\"convertToInteractive('df-244b95f7-9b3f-40f7-bc50-8260dee2855b')\"\n",
              "            title=\"Convert this dataframe to an interactive table.\"\n",
              "            style=\"display:none;\">\n",
              "\n",
              "  <svg xmlns=\"http://www.w3.org/2000/svg\" height=\"24px\" viewBox=\"0 -960 960 960\">\n",
              "    <path d=\"M120-120v-720h720v720H120Zm60-500h600v-160H180v160Zm220 220h160v-160H400v160Zm0 220h160v-160H400v160ZM180-400h160v-160H180v160Zm440 0h160v-160H620v160ZM180-180h160v-160H180v160Zm440 0h160v-160H620v160Z\"/>\n",
              "  </svg>\n",
              "    </button>\n",
              "\n",
              "  <style>\n",
              "    .colab-df-container {\n",
              "      display:flex;\n",
              "      gap: 12px;\n",
              "    }\n",
              "\n",
              "    .colab-df-convert {\n",
              "      background-color: #E8F0FE;\n",
              "      border: none;\n",
              "      border-radius: 50%;\n",
              "      cursor: pointer;\n",
              "      display: none;\n",
              "      fill: #1967D2;\n",
              "      height: 32px;\n",
              "      padding: 0 0 0 0;\n",
              "      width: 32px;\n",
              "    }\n",
              "\n",
              "    .colab-df-convert:hover {\n",
              "      background-color: #E2EBFA;\n",
              "      box-shadow: 0px 1px 2px rgba(60, 64, 67, 0.3), 0px 1px 3px 1px rgba(60, 64, 67, 0.15);\n",
              "      fill: #174EA6;\n",
              "    }\n",
              "\n",
              "    .colab-df-buttons div {\n",
              "      margin-bottom: 4px;\n",
              "    }\n",
              "\n",
              "    [theme=dark] .colab-df-convert {\n",
              "      background-color: #3B4455;\n",
              "      fill: #D2E3FC;\n",
              "    }\n",
              "\n",
              "    [theme=dark] .colab-df-convert:hover {\n",
              "      background-color: #434B5C;\n",
              "      box-shadow: 0px 1px 3px 1px rgba(0, 0, 0, 0.15);\n",
              "      filter: drop-shadow(0px 1px 2px rgba(0, 0, 0, 0.3));\n",
              "      fill: #FFFFFF;\n",
              "    }\n",
              "  </style>\n",
              "\n",
              "    <script>\n",
              "      const buttonEl =\n",
              "        document.querySelector('#df-244b95f7-9b3f-40f7-bc50-8260dee2855b button.colab-df-convert');\n",
              "      buttonEl.style.display =\n",
              "        google.colab.kernel.accessAllowed ? 'block' : 'none';\n",
              "\n",
              "      async function convertToInteractive(key) {\n",
              "        const element = document.querySelector('#df-244b95f7-9b3f-40f7-bc50-8260dee2855b');\n",
              "        const dataTable =\n",
              "          await google.colab.kernel.invokeFunction('convertToInteractive',\n",
              "                                                    [key], {});\n",
              "        if (!dataTable) return;\n",
              "\n",
              "        const docLinkHtml = 'Like what you see? Visit the ' +\n",
              "          '<a target=\"_blank\" href=https://colab.research.google.com/notebooks/data_table.ipynb>data table notebook</a>'\n",
              "          + ' to learn more about interactive tables.';\n",
              "        element.innerHTML = '';\n",
              "        dataTable['output_type'] = 'display_data';\n",
              "        await google.colab.output.renderOutput(dataTable, element);\n",
              "        const docLink = document.createElement('div');\n",
              "        docLink.innerHTML = docLinkHtml;\n",
              "        element.appendChild(docLink);\n",
              "      }\n",
              "    </script>\n",
              "  </div>\n",
              "\n",
              "\n",
              "<div id=\"df-1628a9b0-27c0-470e-babd-a0afd957e67f\">\n",
              "  <button class=\"colab-df-quickchart\" onclick=\"quickchart('df-1628a9b0-27c0-470e-babd-a0afd957e67f')\"\n",
              "            title=\"Suggest charts\"\n",
              "            style=\"display:none;\">\n",
              "\n",
              "<svg xmlns=\"http://www.w3.org/2000/svg\" height=\"24px\"viewBox=\"0 0 24 24\"\n",
              "     width=\"24px\">\n",
              "    <g>\n",
              "        <path d=\"M19 3H5c-1.1 0-2 .9-2 2v14c0 1.1.9 2 2 2h14c1.1 0 2-.9 2-2V5c0-1.1-.9-2-2-2zM9 17H7v-7h2v7zm4 0h-2V7h2v10zm4 0h-2v-4h2v4z\"/>\n",
              "    </g>\n",
              "</svg>\n",
              "  </button>\n",
              "\n",
              "<style>\n",
              "  .colab-df-quickchart {\n",
              "      --bg-color: #E8F0FE;\n",
              "      --fill-color: #1967D2;\n",
              "      --hover-bg-color: #E2EBFA;\n",
              "      --hover-fill-color: #174EA6;\n",
              "      --disabled-fill-color: #AAA;\n",
              "      --disabled-bg-color: #DDD;\n",
              "  }\n",
              "\n",
              "  [theme=dark] .colab-df-quickchart {\n",
              "      --bg-color: #3B4455;\n",
              "      --fill-color: #D2E3FC;\n",
              "      --hover-bg-color: #434B5C;\n",
              "      --hover-fill-color: #FFFFFF;\n",
              "      --disabled-bg-color: #3B4455;\n",
              "      --disabled-fill-color: #666;\n",
              "  }\n",
              "\n",
              "  .colab-df-quickchart {\n",
              "    background-color: var(--bg-color);\n",
              "    border: none;\n",
              "    border-radius: 50%;\n",
              "    cursor: pointer;\n",
              "    display: none;\n",
              "    fill: var(--fill-color);\n",
              "    height: 32px;\n",
              "    padding: 0;\n",
              "    width: 32px;\n",
              "  }\n",
              "\n",
              "  .colab-df-quickchart:hover {\n",
              "    background-color: var(--hover-bg-color);\n",
              "    box-shadow: 0 1px 2px rgba(60, 64, 67, 0.3), 0 1px 3px 1px rgba(60, 64, 67, 0.15);\n",
              "    fill: var(--button-hover-fill-color);\n",
              "  }\n",
              "\n",
              "  .colab-df-quickchart-complete:disabled,\n",
              "  .colab-df-quickchart-complete:disabled:hover {\n",
              "    background-color: var(--disabled-bg-color);\n",
              "    fill: var(--disabled-fill-color);\n",
              "    box-shadow: none;\n",
              "  }\n",
              "\n",
              "  .colab-df-spinner {\n",
              "    border: 2px solid var(--fill-color);\n",
              "    border-color: transparent;\n",
              "    border-bottom-color: var(--fill-color);\n",
              "    animation:\n",
              "      spin 1s steps(1) infinite;\n",
              "  }\n",
              "\n",
              "  @keyframes spin {\n",
              "    0% {\n",
              "      border-color: transparent;\n",
              "      border-bottom-color: var(--fill-color);\n",
              "      border-left-color: var(--fill-color);\n",
              "    }\n",
              "    20% {\n",
              "      border-color: transparent;\n",
              "      border-left-color: var(--fill-color);\n",
              "      border-top-color: var(--fill-color);\n",
              "    }\n",
              "    30% {\n",
              "      border-color: transparent;\n",
              "      border-left-color: var(--fill-color);\n",
              "      border-top-color: var(--fill-color);\n",
              "      border-right-color: var(--fill-color);\n",
              "    }\n",
              "    40% {\n",
              "      border-color: transparent;\n",
              "      border-right-color: var(--fill-color);\n",
              "      border-top-color: var(--fill-color);\n",
              "    }\n",
              "    60% {\n",
              "      border-color: transparent;\n",
              "      border-right-color: var(--fill-color);\n",
              "    }\n",
              "    80% {\n",
              "      border-color: transparent;\n",
              "      border-right-color: var(--fill-color);\n",
              "      border-bottom-color: var(--fill-color);\n",
              "    }\n",
              "    90% {\n",
              "      border-color: transparent;\n",
              "      border-bottom-color: var(--fill-color);\n",
              "    }\n",
              "  }\n",
              "</style>\n",
              "\n",
              "  <script>\n",
              "    async function quickchart(key) {\n",
              "      const quickchartButtonEl =\n",
              "        document.querySelector('#' + key + ' button');\n",
              "      quickchartButtonEl.disabled = true;  // To prevent multiple clicks.\n",
              "      quickchartButtonEl.classList.add('colab-df-spinner');\n",
              "      try {\n",
              "        const charts = await google.colab.kernel.invokeFunction(\n",
              "            'suggestCharts', [key], {});\n",
              "      } catch (error) {\n",
              "        console.error('Error during call to suggestCharts:', error);\n",
              "      }\n",
              "      quickchartButtonEl.classList.remove('colab-df-spinner');\n",
              "      quickchartButtonEl.classList.add('colab-df-quickchart-complete');\n",
              "    }\n",
              "    (() => {\n",
              "      let quickchartButtonEl =\n",
              "        document.querySelector('#df-1628a9b0-27c0-470e-babd-a0afd957e67f button');\n",
              "      quickchartButtonEl.style.display =\n",
              "        google.colab.kernel.accessAllowed ? 'block' : 'none';\n",
              "    })();\n",
              "  </script>\n",
              "</div>\n",
              "\n",
              "    </div>\n",
              "  </div>\n"
            ],
            "application/vnd.google.colaboratory.intrinsic+json": {
              "type": "dataframe",
              "summary": "{\n  \"name\": \"movies_and_ratings\",\n  \"rows\": 8,\n  \"fields\": [\n    {\n      \"column\": \"movieId\",\n      \"properties\": {\n        \"dtype\": \"number\",\n        \"std\": 68674.51077210998,\n        \"min\": 1.0,\n        \"max\": 193609.0,\n        \"num_unique_values\": 8,\n        \"samples\": [\n          19435.2957177992,\n          2991.0,\n          100836.0\n        ],\n        \"semantic_type\": \"\",\n        \"description\": \"\"\n      }\n    },\n    {\n      \"column\": \"userId\",\n      \"properties\": {\n        \"dtype\": \"number\",\n        \"std\": 35545.40345112833,\n        \"min\": 1.0,\n        \"max\": 100836.0,\n        \"num_unique_values\": 8,\n        \"samples\": [\n          326.12756356856676,\n          325.0,\n          100836.0\n        ],\n        \"semantic_type\": \"\",\n        \"description\": \"\"\n      }\n    },\n    {\n      \"column\": \"rating\",\n      \"properties\": {\n        \"dtype\": \"number\",\n        \"std\": 35649.87209197801,\n        \"min\": 0.5,\n        \"max\": 100836.0,\n        \"num_unique_values\": 8,\n        \"samples\": [\n          3.501556983616962,\n          3.5,\n          100836.0\n        ],\n        \"semantic_type\": \"\",\n        \"description\": \"\"\n      }\n    }\n  ]\n}"
            }
          },
          "metadata": {},
          "execution_count": 14
        }
      ],
      "source": [
        "movies_and_ratings.describe()"
      ]
    },
    {
      "cell_type": "markdown",
      "metadata": {
        "id": "QEwWUOVccWzd"
      },
      "source": [
        "The minimum rating given is 0.5 with the maximum at 5.0. About 50% of our movies have a rating of 3.5, about 75% of our movies are rated 4.0."
      ]
    },
    {
      "cell_type": "markdown",
      "metadata": {
        "id": "yu0Qr8w0cWzd"
      },
      "source": [
        "## 5. Exploratory Data Analysis"
      ]
    },
    {
      "cell_type": "markdown",
      "metadata": {
        "id": "cv6HwIHlcWze"
      },
      "source": [
        "### 5.1 Univariate Analysis"
      ]
    },
    {
      "cell_type": "code",
      "execution_count": 15,
      "metadata": {
        "colab": {
          "base_uri": "https://localhost:8080/",
          "height": 489
        },
        "id": "v4_uut7CcWze",
        "outputId": "2703eca8-c33f-468f-adf7-1240495d0157"
      },
      "outputs": [
        {
          "output_type": "execute_result",
          "data": {
            "text/plain": [
              "movieId  title                                    \n",
              "1        Toy Story (1995)                             3.920930\n",
              "2        Jumanji (1995)                               3.431818\n",
              "3        Grumpier Old Men (1995)                      3.259615\n",
              "4        Waiting to Exhale (1995)                     2.357143\n",
              "5        Father of the Bride Part II (1995)           3.071429\n",
              "                                                        ...   \n",
              "193581   Black Butler: Book of the Atlantic (2017)    4.000000\n",
              "193583   No Game No Life: Zero (2017)                 3.500000\n",
              "193585   Flint (2017)                                 3.500000\n",
              "193587   Bungo Stray Dogs: Dead Apple (2018)          3.500000\n",
              "193609   Andrew Dice Clay: Dice Rules (1991)          4.000000\n",
              "Name: rating, Length: 9724, dtype: float64"
            ],
            "text/html": [
              "<div>\n",
              "<style scoped>\n",
              "    .dataframe tbody tr th:only-of-type {\n",
              "        vertical-align: middle;\n",
              "    }\n",
              "\n",
              "    .dataframe tbody tr th {\n",
              "        vertical-align: top;\n",
              "    }\n",
              "\n",
              "    .dataframe thead th {\n",
              "        text-align: right;\n",
              "    }\n",
              "</style>\n",
              "<table border=\"1\" class=\"dataframe\">\n",
              "  <thead>\n",
              "    <tr style=\"text-align: right;\">\n",
              "      <th></th>\n",
              "      <th></th>\n",
              "      <th>rating</th>\n",
              "    </tr>\n",
              "    <tr>\n",
              "      <th>movieId</th>\n",
              "      <th>title</th>\n",
              "      <th></th>\n",
              "    </tr>\n",
              "  </thead>\n",
              "  <tbody>\n",
              "    <tr>\n",
              "      <th>1</th>\n",
              "      <th>Toy Story (1995)</th>\n",
              "      <td>3.920930</td>\n",
              "    </tr>\n",
              "    <tr>\n",
              "      <th>2</th>\n",
              "      <th>Jumanji (1995)</th>\n",
              "      <td>3.431818</td>\n",
              "    </tr>\n",
              "    <tr>\n",
              "      <th>3</th>\n",
              "      <th>Grumpier Old Men (1995)</th>\n",
              "      <td>3.259615</td>\n",
              "    </tr>\n",
              "    <tr>\n",
              "      <th>4</th>\n",
              "      <th>Waiting to Exhale (1995)</th>\n",
              "      <td>2.357143</td>\n",
              "    </tr>\n",
              "    <tr>\n",
              "      <th>5</th>\n",
              "      <th>Father of the Bride Part II (1995)</th>\n",
              "      <td>3.071429</td>\n",
              "    </tr>\n",
              "    <tr>\n",
              "      <th>...</th>\n",
              "      <th>...</th>\n",
              "      <td>...</td>\n",
              "    </tr>\n",
              "    <tr>\n",
              "      <th>193581</th>\n",
              "      <th>Black Butler: Book of the Atlantic (2017)</th>\n",
              "      <td>4.000000</td>\n",
              "    </tr>\n",
              "    <tr>\n",
              "      <th>193583</th>\n",
              "      <th>No Game No Life: Zero (2017)</th>\n",
              "      <td>3.500000</td>\n",
              "    </tr>\n",
              "    <tr>\n",
              "      <th>193585</th>\n",
              "      <th>Flint (2017)</th>\n",
              "      <td>3.500000</td>\n",
              "    </tr>\n",
              "    <tr>\n",
              "      <th>193587</th>\n",
              "      <th>Bungo Stray Dogs: Dead Apple (2018)</th>\n",
              "      <td>3.500000</td>\n",
              "    </tr>\n",
              "    <tr>\n",
              "      <th>193609</th>\n",
              "      <th>Andrew Dice Clay: Dice Rules (1991)</th>\n",
              "      <td>4.000000</td>\n",
              "    </tr>\n",
              "  </tbody>\n",
              "</table>\n",
              "<p>9724 rows × 1 columns</p>\n",
              "</div><br><label><b>dtype:</b> float64</label>"
            ]
          },
          "metadata": {},
          "execution_count": 15
        }
      ],
      "source": [
        "avg_ratings = movies_and_ratings.groupby(['movieId', 'title'])['rating'].mean()\n",
        "avg_ratings"
      ]
    },
    {
      "cell_type": "code",
      "execution_count": 16,
      "metadata": {
        "colab": {
          "base_uri": "https://localhost:8080/",
          "height": 489
        },
        "id": "qspgCMvdcWzf",
        "outputId": "c34cf344-7edf-4731-f1b6-bede57d88c46"
      },
      "outputs": [
        {
          "output_type": "execute_result",
          "data": {
            "text/plain": [
              "movieId  title                                    \n",
              "1        Toy Story (1995)                             215\n",
              "2        Jumanji (1995)                               110\n",
              "3        Grumpier Old Men (1995)                       52\n",
              "4        Waiting to Exhale (1995)                       7\n",
              "5        Father of the Bride Part II (1995)            49\n",
              "                                                     ... \n",
              "193581   Black Butler: Book of the Atlantic (2017)      1\n",
              "193583   No Game No Life: Zero (2017)                   1\n",
              "193585   Flint (2017)                                   1\n",
              "193587   Bungo Stray Dogs: Dead Apple (2018)            1\n",
              "193609   Andrew Dice Clay: Dice Rules (1991)            1\n",
              "Name: rating, Length: 9724, dtype: int64"
            ],
            "text/html": [
              "<div>\n",
              "<style scoped>\n",
              "    .dataframe tbody tr th:only-of-type {\n",
              "        vertical-align: middle;\n",
              "    }\n",
              "\n",
              "    .dataframe tbody tr th {\n",
              "        vertical-align: top;\n",
              "    }\n",
              "\n",
              "    .dataframe thead th {\n",
              "        text-align: right;\n",
              "    }\n",
              "</style>\n",
              "<table border=\"1\" class=\"dataframe\">\n",
              "  <thead>\n",
              "    <tr style=\"text-align: right;\">\n",
              "      <th></th>\n",
              "      <th></th>\n",
              "      <th>rating</th>\n",
              "    </tr>\n",
              "    <tr>\n",
              "      <th>movieId</th>\n",
              "      <th>title</th>\n",
              "      <th></th>\n",
              "    </tr>\n",
              "  </thead>\n",
              "  <tbody>\n",
              "    <tr>\n",
              "      <th>1</th>\n",
              "      <th>Toy Story (1995)</th>\n",
              "      <td>215</td>\n",
              "    </tr>\n",
              "    <tr>\n",
              "      <th>2</th>\n",
              "      <th>Jumanji (1995)</th>\n",
              "      <td>110</td>\n",
              "    </tr>\n",
              "    <tr>\n",
              "      <th>3</th>\n",
              "      <th>Grumpier Old Men (1995)</th>\n",
              "      <td>52</td>\n",
              "    </tr>\n",
              "    <tr>\n",
              "      <th>4</th>\n",
              "      <th>Waiting to Exhale (1995)</th>\n",
              "      <td>7</td>\n",
              "    </tr>\n",
              "    <tr>\n",
              "      <th>5</th>\n",
              "      <th>Father of the Bride Part II (1995)</th>\n",
              "      <td>49</td>\n",
              "    </tr>\n",
              "    <tr>\n",
              "      <th>...</th>\n",
              "      <th>...</th>\n",
              "      <td>...</td>\n",
              "    </tr>\n",
              "    <tr>\n",
              "      <th>193581</th>\n",
              "      <th>Black Butler: Book of the Atlantic (2017)</th>\n",
              "      <td>1</td>\n",
              "    </tr>\n",
              "    <tr>\n",
              "      <th>193583</th>\n",
              "      <th>No Game No Life: Zero (2017)</th>\n",
              "      <td>1</td>\n",
              "    </tr>\n",
              "    <tr>\n",
              "      <th>193585</th>\n",
              "      <th>Flint (2017)</th>\n",
              "      <td>1</td>\n",
              "    </tr>\n",
              "    <tr>\n",
              "      <th>193587</th>\n",
              "      <th>Bungo Stray Dogs: Dead Apple (2018)</th>\n",
              "      <td>1</td>\n",
              "    </tr>\n",
              "    <tr>\n",
              "      <th>193609</th>\n",
              "      <th>Andrew Dice Clay: Dice Rules (1991)</th>\n",
              "      <td>1</td>\n",
              "    </tr>\n",
              "  </tbody>\n",
              "</table>\n",
              "<p>9724 rows × 1 columns</p>\n",
              "</div><br><label><b>dtype:</b> int64</label>"
            ]
          },
          "metadata": {},
          "execution_count": 16
        }
      ],
      "source": [
        "# Count of the movie ratings\n",
        "movies_and_ratings.groupby(['movieId', 'title'])['rating'].count()"
      ]
    },
    {
      "cell_type": "code",
      "execution_count": 17,
      "metadata": {
        "colab": {
          "base_uri": "https://localhost:8080/",
          "height": 455
        },
        "id": "wc9nMslscWzf",
        "outputId": "dbef2057-9337-4c1b-b457-df57ca4dc830"
      },
      "outputs": [
        {
          "output_type": "execute_result",
          "data": {
            "text/plain": [
              "                                                     rating\n",
              "movieId title                                              \n",
              "1       Toy Story (1995)                           3.920930\n",
              "2       Jumanji (1995)                             3.431818\n",
              "3       Grumpier Old Men (1995)                    3.259615\n",
              "4       Waiting to Exhale (1995)                   2.357143\n",
              "5       Father of the Bride Part II (1995)         3.071429\n",
              "...                                                     ...\n",
              "193581  Black Butler: Book of the Atlantic (2017)  4.000000\n",
              "193583  No Game No Life: Zero (2017)               3.500000\n",
              "193585  Flint (2017)                               3.500000\n",
              "193587  Bungo Stray Dogs: Dead Apple (2018)        3.500000\n",
              "193609  Andrew Dice Clay: Dice Rules (1991)        4.000000\n",
              "\n",
              "[9724 rows x 1 columns]"
            ],
            "text/html": [
              "\n",
              "  <div id=\"df-193d31c5-bf91-4a31-95fa-d8871ec9887e\" class=\"colab-df-container\">\n",
              "    <div>\n",
              "<style scoped>\n",
              "    .dataframe tbody tr th:only-of-type {\n",
              "        vertical-align: middle;\n",
              "    }\n",
              "\n",
              "    .dataframe tbody tr th {\n",
              "        vertical-align: top;\n",
              "    }\n",
              "\n",
              "    .dataframe thead th {\n",
              "        text-align: right;\n",
              "    }\n",
              "</style>\n",
              "<table border=\"1\" class=\"dataframe\">\n",
              "  <thead>\n",
              "    <tr style=\"text-align: right;\">\n",
              "      <th></th>\n",
              "      <th></th>\n",
              "      <th>rating</th>\n",
              "    </tr>\n",
              "    <tr>\n",
              "      <th>movieId</th>\n",
              "      <th>title</th>\n",
              "      <th></th>\n",
              "    </tr>\n",
              "  </thead>\n",
              "  <tbody>\n",
              "    <tr>\n",
              "      <th>1</th>\n",
              "      <th>Toy Story (1995)</th>\n",
              "      <td>3.920930</td>\n",
              "    </tr>\n",
              "    <tr>\n",
              "      <th>2</th>\n",
              "      <th>Jumanji (1995)</th>\n",
              "      <td>3.431818</td>\n",
              "    </tr>\n",
              "    <tr>\n",
              "      <th>3</th>\n",
              "      <th>Grumpier Old Men (1995)</th>\n",
              "      <td>3.259615</td>\n",
              "    </tr>\n",
              "    <tr>\n",
              "      <th>4</th>\n",
              "      <th>Waiting to Exhale (1995)</th>\n",
              "      <td>2.357143</td>\n",
              "    </tr>\n",
              "    <tr>\n",
              "      <th>5</th>\n",
              "      <th>Father of the Bride Part II (1995)</th>\n",
              "      <td>3.071429</td>\n",
              "    </tr>\n",
              "    <tr>\n",
              "      <th>...</th>\n",
              "      <th>...</th>\n",
              "      <td>...</td>\n",
              "    </tr>\n",
              "    <tr>\n",
              "      <th>193581</th>\n",
              "      <th>Black Butler: Book of the Atlantic (2017)</th>\n",
              "      <td>4.000000</td>\n",
              "    </tr>\n",
              "    <tr>\n",
              "      <th>193583</th>\n",
              "      <th>No Game No Life: Zero (2017)</th>\n",
              "      <td>3.500000</td>\n",
              "    </tr>\n",
              "    <tr>\n",
              "      <th>193585</th>\n",
              "      <th>Flint (2017)</th>\n",
              "      <td>3.500000</td>\n",
              "    </tr>\n",
              "    <tr>\n",
              "      <th>193587</th>\n",
              "      <th>Bungo Stray Dogs: Dead Apple (2018)</th>\n",
              "      <td>3.500000</td>\n",
              "    </tr>\n",
              "    <tr>\n",
              "      <th>193609</th>\n",
              "      <th>Andrew Dice Clay: Dice Rules (1991)</th>\n",
              "      <td>4.000000</td>\n",
              "    </tr>\n",
              "  </tbody>\n",
              "</table>\n",
              "<p>9724 rows × 1 columns</p>\n",
              "</div>\n",
              "    <div class=\"colab-df-buttons\">\n",
              "\n",
              "  <div class=\"colab-df-container\">\n",
              "    <button class=\"colab-df-convert\" onclick=\"convertToInteractive('df-193d31c5-bf91-4a31-95fa-d8871ec9887e')\"\n",
              "            title=\"Convert this dataframe to an interactive table.\"\n",
              "            style=\"display:none;\">\n",
              "\n",
              "  <svg xmlns=\"http://www.w3.org/2000/svg\" height=\"24px\" viewBox=\"0 -960 960 960\">\n",
              "    <path d=\"M120-120v-720h720v720H120Zm60-500h600v-160H180v160Zm220 220h160v-160H400v160Zm0 220h160v-160H400v160ZM180-400h160v-160H180v160Zm440 0h160v-160H620v160ZM180-180h160v-160H180v160Zm440 0h160v-160H620v160Z\"/>\n",
              "  </svg>\n",
              "    </button>\n",
              "\n",
              "  <style>\n",
              "    .colab-df-container {\n",
              "      display:flex;\n",
              "      gap: 12px;\n",
              "    }\n",
              "\n",
              "    .colab-df-convert {\n",
              "      background-color: #E8F0FE;\n",
              "      border: none;\n",
              "      border-radius: 50%;\n",
              "      cursor: pointer;\n",
              "      display: none;\n",
              "      fill: #1967D2;\n",
              "      height: 32px;\n",
              "      padding: 0 0 0 0;\n",
              "      width: 32px;\n",
              "    }\n",
              "\n",
              "    .colab-df-convert:hover {\n",
              "      background-color: #E2EBFA;\n",
              "      box-shadow: 0px 1px 2px rgba(60, 64, 67, 0.3), 0px 1px 3px 1px rgba(60, 64, 67, 0.15);\n",
              "      fill: #174EA6;\n",
              "    }\n",
              "\n",
              "    .colab-df-buttons div {\n",
              "      margin-bottom: 4px;\n",
              "    }\n",
              "\n",
              "    [theme=dark] .colab-df-convert {\n",
              "      background-color: #3B4455;\n",
              "      fill: #D2E3FC;\n",
              "    }\n",
              "\n",
              "    [theme=dark] .colab-df-convert:hover {\n",
              "      background-color: #434B5C;\n",
              "      box-shadow: 0px 1px 3px 1px rgba(0, 0, 0, 0.15);\n",
              "      filter: drop-shadow(0px 1px 2px rgba(0, 0, 0, 0.3));\n",
              "      fill: #FFFFFF;\n",
              "    }\n",
              "  </style>\n",
              "\n",
              "    <script>\n",
              "      const buttonEl =\n",
              "        document.querySelector('#df-193d31c5-bf91-4a31-95fa-d8871ec9887e button.colab-df-convert');\n",
              "      buttonEl.style.display =\n",
              "        google.colab.kernel.accessAllowed ? 'block' : 'none';\n",
              "\n",
              "      async function convertToInteractive(key) {\n",
              "        const element = document.querySelector('#df-193d31c5-bf91-4a31-95fa-d8871ec9887e');\n",
              "        const dataTable =\n",
              "          await google.colab.kernel.invokeFunction('convertToInteractive',\n",
              "                                                    [key], {});\n",
              "        if (!dataTable) return;\n",
              "\n",
              "        const docLinkHtml = 'Like what you see? Visit the ' +\n",
              "          '<a target=\"_blank\" href=https://colab.research.google.com/notebooks/data_table.ipynb>data table notebook</a>'\n",
              "          + ' to learn more about interactive tables.';\n",
              "        element.innerHTML = '';\n",
              "        dataTable['output_type'] = 'display_data';\n",
              "        await google.colab.output.renderOutput(dataTable, element);\n",
              "        const docLink = document.createElement('div');\n",
              "        docLink.innerHTML = docLinkHtml;\n",
              "        element.appendChild(docLink);\n",
              "      }\n",
              "    </script>\n",
              "  </div>\n",
              "\n",
              "\n",
              "<div id=\"df-45cee544-3cab-4c66-b7cf-8734866c1e13\">\n",
              "  <button class=\"colab-df-quickchart\" onclick=\"quickchart('df-45cee544-3cab-4c66-b7cf-8734866c1e13')\"\n",
              "            title=\"Suggest charts\"\n",
              "            style=\"display:none;\">\n",
              "\n",
              "<svg xmlns=\"http://www.w3.org/2000/svg\" height=\"24px\"viewBox=\"0 0 24 24\"\n",
              "     width=\"24px\">\n",
              "    <g>\n",
              "        <path d=\"M19 3H5c-1.1 0-2 .9-2 2v14c0 1.1.9 2 2 2h14c1.1 0 2-.9 2-2V5c0-1.1-.9-2-2-2zM9 17H7v-7h2v7zm4 0h-2V7h2v10zm4 0h-2v-4h2v4z\"/>\n",
              "    </g>\n",
              "</svg>\n",
              "  </button>\n",
              "\n",
              "<style>\n",
              "  .colab-df-quickchart {\n",
              "      --bg-color: #E8F0FE;\n",
              "      --fill-color: #1967D2;\n",
              "      --hover-bg-color: #E2EBFA;\n",
              "      --hover-fill-color: #174EA6;\n",
              "      --disabled-fill-color: #AAA;\n",
              "      --disabled-bg-color: #DDD;\n",
              "  }\n",
              "\n",
              "  [theme=dark] .colab-df-quickchart {\n",
              "      --bg-color: #3B4455;\n",
              "      --fill-color: #D2E3FC;\n",
              "      --hover-bg-color: #434B5C;\n",
              "      --hover-fill-color: #FFFFFF;\n",
              "      --disabled-bg-color: #3B4455;\n",
              "      --disabled-fill-color: #666;\n",
              "  }\n",
              "\n",
              "  .colab-df-quickchart {\n",
              "    background-color: var(--bg-color);\n",
              "    border: none;\n",
              "    border-radius: 50%;\n",
              "    cursor: pointer;\n",
              "    display: none;\n",
              "    fill: var(--fill-color);\n",
              "    height: 32px;\n",
              "    padding: 0;\n",
              "    width: 32px;\n",
              "  }\n",
              "\n",
              "  .colab-df-quickchart:hover {\n",
              "    background-color: var(--hover-bg-color);\n",
              "    box-shadow: 0 1px 2px rgba(60, 64, 67, 0.3), 0 1px 3px 1px rgba(60, 64, 67, 0.15);\n",
              "    fill: var(--button-hover-fill-color);\n",
              "  }\n",
              "\n",
              "  .colab-df-quickchart-complete:disabled,\n",
              "  .colab-df-quickchart-complete:disabled:hover {\n",
              "    background-color: var(--disabled-bg-color);\n",
              "    fill: var(--disabled-fill-color);\n",
              "    box-shadow: none;\n",
              "  }\n",
              "\n",
              "  .colab-df-spinner {\n",
              "    border: 2px solid var(--fill-color);\n",
              "    border-color: transparent;\n",
              "    border-bottom-color: var(--fill-color);\n",
              "    animation:\n",
              "      spin 1s steps(1) infinite;\n",
              "  }\n",
              "\n",
              "  @keyframes spin {\n",
              "    0% {\n",
              "      border-color: transparent;\n",
              "      border-bottom-color: var(--fill-color);\n",
              "      border-left-color: var(--fill-color);\n",
              "    }\n",
              "    20% {\n",
              "      border-color: transparent;\n",
              "      border-left-color: var(--fill-color);\n",
              "      border-top-color: var(--fill-color);\n",
              "    }\n",
              "    30% {\n",
              "      border-color: transparent;\n",
              "      border-left-color: var(--fill-color);\n",
              "      border-top-color: var(--fill-color);\n",
              "      border-right-color: var(--fill-color);\n",
              "    }\n",
              "    40% {\n",
              "      border-color: transparent;\n",
              "      border-right-color: var(--fill-color);\n",
              "      border-top-color: var(--fill-color);\n",
              "    }\n",
              "    60% {\n",
              "      border-color: transparent;\n",
              "      border-right-color: var(--fill-color);\n",
              "    }\n",
              "    80% {\n",
              "      border-color: transparent;\n",
              "      border-right-color: var(--fill-color);\n",
              "      border-bottom-color: var(--fill-color);\n",
              "    }\n",
              "    90% {\n",
              "      border-color: transparent;\n",
              "      border-bottom-color: var(--fill-color);\n",
              "    }\n",
              "  }\n",
              "</style>\n",
              "\n",
              "  <script>\n",
              "    async function quickchart(key) {\n",
              "      const quickchartButtonEl =\n",
              "        document.querySelector('#' + key + ' button');\n",
              "      quickchartButtonEl.disabled = true;  // To prevent multiple clicks.\n",
              "      quickchartButtonEl.classList.add('colab-df-spinner');\n",
              "      try {\n",
              "        const charts = await google.colab.kernel.invokeFunction(\n",
              "            'suggestCharts', [key], {});\n",
              "      } catch (error) {\n",
              "        console.error('Error during call to suggestCharts:', error);\n",
              "      }\n",
              "      quickchartButtonEl.classList.remove('colab-df-spinner');\n",
              "      quickchartButtonEl.classList.add('colab-df-quickchart-complete');\n",
              "    }\n",
              "    (() => {\n",
              "      let quickchartButtonEl =\n",
              "        document.querySelector('#df-45cee544-3cab-4c66-b7cf-8734866c1e13 button');\n",
              "      quickchartButtonEl.style.display =\n",
              "        google.colab.kernel.accessAllowed ? 'block' : 'none';\n",
              "    })();\n",
              "  </script>\n",
              "</div>\n",
              "\n",
              "  <div id=\"id_98cf58d8-80ae-4e78-bc96-1293557e4940\">\n",
              "    <style>\n",
              "      .colab-df-generate {\n",
              "        background-color: #E8F0FE;\n",
              "        border: none;\n",
              "        border-radius: 50%;\n",
              "        cursor: pointer;\n",
              "        display: none;\n",
              "        fill: #1967D2;\n",
              "        height: 32px;\n",
              "        padding: 0 0 0 0;\n",
              "        width: 32px;\n",
              "      }\n",
              "\n",
              "      .colab-df-generate:hover {\n",
              "        background-color: #E2EBFA;\n",
              "        box-shadow: 0px 1px 2px rgba(60, 64, 67, 0.3), 0px 1px 3px 1px rgba(60, 64, 67, 0.15);\n",
              "        fill: #174EA6;\n",
              "      }\n",
              "\n",
              "      [theme=dark] .colab-df-generate {\n",
              "        background-color: #3B4455;\n",
              "        fill: #D2E3FC;\n",
              "      }\n",
              "\n",
              "      [theme=dark] .colab-df-generate:hover {\n",
              "        background-color: #434B5C;\n",
              "        box-shadow: 0px 1px 3px 1px rgba(0, 0, 0, 0.15);\n",
              "        filter: drop-shadow(0px 1px 2px rgba(0, 0, 0, 0.3));\n",
              "        fill: #FFFFFF;\n",
              "      }\n",
              "    </style>\n",
              "    <button class=\"colab-df-generate\" onclick=\"generateWithVariable('ratings_new')\"\n",
              "            title=\"Generate code using this dataframe.\"\n",
              "            style=\"display:none;\">\n",
              "\n",
              "  <svg xmlns=\"http://www.w3.org/2000/svg\" height=\"24px\"viewBox=\"0 0 24 24\"\n",
              "       width=\"24px\">\n",
              "    <path d=\"M7,19H8.4L18.45,9,17,7.55,7,17.6ZM5,21V16.75L18.45,3.32a2,2,0,0,1,2.83,0l1.4,1.43a1.91,1.91,0,0,1,.58,1.4,1.91,1.91,0,0,1-.58,1.4L9.25,21ZM18.45,9,17,7.55Zm-12,3A5.31,5.31,0,0,0,4.9,8.1,5.31,5.31,0,0,0,1,6.5,5.31,5.31,0,0,0,4.9,4.9,5.31,5.31,0,0,0,6.5,1,5.31,5.31,0,0,0,8.1,4.9,5.31,5.31,0,0,0,12,6.5,5.46,5.46,0,0,0,6.5,12Z\"/>\n",
              "  </svg>\n",
              "    </button>\n",
              "    <script>\n",
              "      (() => {\n",
              "      const buttonEl =\n",
              "        document.querySelector('#id_98cf58d8-80ae-4e78-bc96-1293557e4940 button.colab-df-generate');\n",
              "      buttonEl.style.display =\n",
              "        google.colab.kernel.accessAllowed ? 'block' : 'none';\n",
              "\n",
              "      buttonEl.onclick = () => {\n",
              "        google.colab.notebook.generateWithVariable('ratings_new');\n",
              "      }\n",
              "      })();\n",
              "    </script>\n",
              "  </div>\n",
              "\n",
              "    </div>\n",
              "  </div>\n"
            ],
            "application/vnd.google.colaboratory.intrinsic+json": {
              "type": "dataframe",
              "variable_name": "ratings_new",
              "summary": "{\n  \"name\": \"ratings_new\",\n  \"rows\": 9724,\n  \"fields\": [\n    {\n      \"column\": \"rating\",\n      \"properties\": {\n        \"dtype\": \"number\",\n        \"std\": 0.8698736344877788,\n        \"min\": 0.5,\n        \"max\": 5.0,\n        \"num_unique_values\": 1286,\n        \"samples\": [\n          3.9934210526315788,\n          3.657142857142857,\n          3.4423076923076925\n        ],\n        \"semantic_type\": \"\",\n        \"description\": \"\"\n      }\n    }\n  ]\n}"
            }
          },
          "metadata": {},
          "execution_count": 17
        }
      ],
      "source": [
        "# convert to dataframe\n",
        "ratings_new = pd.DataFrame(avg_ratings)\n",
        "ratings_new"
      ]
    },
    {
      "cell_type": "code",
      "execution_count": 18,
      "metadata": {
        "colab": {
          "base_uri": "https://localhost:8080/",
          "height": 237
        },
        "id": "Q3T1ThY1cWzf",
        "outputId": "b91970fa-a649-4ef6-fec9-4118b714b198"
      },
      "outputs": [
        {
          "output_type": "execute_result",
          "data": {
            "text/plain": [
              "                                              rating  num_of_ratings\n",
              "movieId title                                                       \n",
              "1       Toy Story (1995)                    3.920930             215\n",
              "2       Jumanji (1995)                      3.431818             110\n",
              "3       Grumpier Old Men (1995)             3.259615              52\n",
              "4       Waiting to Exhale (1995)            2.357143               7\n",
              "5       Father of the Bride Part II (1995)  3.071429              49"
            ],
            "text/html": [
              "\n",
              "  <div id=\"df-2a36f89f-549a-4b25-b22e-0aa1c26d8abd\" class=\"colab-df-container\">\n",
              "    <div>\n",
              "<style scoped>\n",
              "    .dataframe tbody tr th:only-of-type {\n",
              "        vertical-align: middle;\n",
              "    }\n",
              "\n",
              "    .dataframe tbody tr th {\n",
              "        vertical-align: top;\n",
              "    }\n",
              "\n",
              "    .dataframe thead th {\n",
              "        text-align: right;\n",
              "    }\n",
              "</style>\n",
              "<table border=\"1\" class=\"dataframe\">\n",
              "  <thead>\n",
              "    <tr style=\"text-align: right;\">\n",
              "      <th></th>\n",
              "      <th></th>\n",
              "      <th>rating</th>\n",
              "      <th>num_of_ratings</th>\n",
              "    </tr>\n",
              "    <tr>\n",
              "      <th>movieId</th>\n",
              "      <th>title</th>\n",
              "      <th></th>\n",
              "      <th></th>\n",
              "    </tr>\n",
              "  </thead>\n",
              "  <tbody>\n",
              "    <tr>\n",
              "      <th>1</th>\n",
              "      <th>Toy Story (1995)</th>\n",
              "      <td>3.920930</td>\n",
              "      <td>215</td>\n",
              "    </tr>\n",
              "    <tr>\n",
              "      <th>2</th>\n",
              "      <th>Jumanji (1995)</th>\n",
              "      <td>3.431818</td>\n",
              "      <td>110</td>\n",
              "    </tr>\n",
              "    <tr>\n",
              "      <th>3</th>\n",
              "      <th>Grumpier Old Men (1995)</th>\n",
              "      <td>3.259615</td>\n",
              "      <td>52</td>\n",
              "    </tr>\n",
              "    <tr>\n",
              "      <th>4</th>\n",
              "      <th>Waiting to Exhale (1995)</th>\n",
              "      <td>2.357143</td>\n",
              "      <td>7</td>\n",
              "    </tr>\n",
              "    <tr>\n",
              "      <th>5</th>\n",
              "      <th>Father of the Bride Part II (1995)</th>\n",
              "      <td>3.071429</td>\n",
              "      <td>49</td>\n",
              "    </tr>\n",
              "  </tbody>\n",
              "</table>\n",
              "</div>\n",
              "    <div class=\"colab-df-buttons\">\n",
              "\n",
              "  <div class=\"colab-df-container\">\n",
              "    <button class=\"colab-df-convert\" onclick=\"convertToInteractive('df-2a36f89f-549a-4b25-b22e-0aa1c26d8abd')\"\n",
              "            title=\"Convert this dataframe to an interactive table.\"\n",
              "            style=\"display:none;\">\n",
              "\n",
              "  <svg xmlns=\"http://www.w3.org/2000/svg\" height=\"24px\" viewBox=\"0 -960 960 960\">\n",
              "    <path d=\"M120-120v-720h720v720H120Zm60-500h600v-160H180v160Zm220 220h160v-160H400v160Zm0 220h160v-160H400v160ZM180-400h160v-160H180v160Zm440 0h160v-160H620v160ZM180-180h160v-160H180v160Zm440 0h160v-160H620v160Z\"/>\n",
              "  </svg>\n",
              "    </button>\n",
              "\n",
              "  <style>\n",
              "    .colab-df-container {\n",
              "      display:flex;\n",
              "      gap: 12px;\n",
              "    }\n",
              "\n",
              "    .colab-df-convert {\n",
              "      background-color: #E8F0FE;\n",
              "      border: none;\n",
              "      border-radius: 50%;\n",
              "      cursor: pointer;\n",
              "      display: none;\n",
              "      fill: #1967D2;\n",
              "      height: 32px;\n",
              "      padding: 0 0 0 0;\n",
              "      width: 32px;\n",
              "    }\n",
              "\n",
              "    .colab-df-convert:hover {\n",
              "      background-color: #E2EBFA;\n",
              "      box-shadow: 0px 1px 2px rgba(60, 64, 67, 0.3), 0px 1px 3px 1px rgba(60, 64, 67, 0.15);\n",
              "      fill: #174EA6;\n",
              "    }\n",
              "\n",
              "    .colab-df-buttons div {\n",
              "      margin-bottom: 4px;\n",
              "    }\n",
              "\n",
              "    [theme=dark] .colab-df-convert {\n",
              "      background-color: #3B4455;\n",
              "      fill: #D2E3FC;\n",
              "    }\n",
              "\n",
              "    [theme=dark] .colab-df-convert:hover {\n",
              "      background-color: #434B5C;\n",
              "      box-shadow: 0px 1px 3px 1px rgba(0, 0, 0, 0.15);\n",
              "      filter: drop-shadow(0px 1px 2px rgba(0, 0, 0, 0.3));\n",
              "      fill: #FFFFFF;\n",
              "    }\n",
              "  </style>\n",
              "\n",
              "    <script>\n",
              "      const buttonEl =\n",
              "        document.querySelector('#df-2a36f89f-549a-4b25-b22e-0aa1c26d8abd button.colab-df-convert');\n",
              "      buttonEl.style.display =\n",
              "        google.colab.kernel.accessAllowed ? 'block' : 'none';\n",
              "\n",
              "      async function convertToInteractive(key) {\n",
              "        const element = document.querySelector('#df-2a36f89f-549a-4b25-b22e-0aa1c26d8abd');\n",
              "        const dataTable =\n",
              "          await google.colab.kernel.invokeFunction('convertToInteractive',\n",
              "                                                    [key], {});\n",
              "        if (!dataTable) return;\n",
              "\n",
              "        const docLinkHtml = 'Like what you see? Visit the ' +\n",
              "          '<a target=\"_blank\" href=https://colab.research.google.com/notebooks/data_table.ipynb>data table notebook</a>'\n",
              "          + ' to learn more about interactive tables.';\n",
              "        element.innerHTML = '';\n",
              "        dataTable['output_type'] = 'display_data';\n",
              "        await google.colab.output.renderOutput(dataTable, element);\n",
              "        const docLink = document.createElement('div');\n",
              "        docLink.innerHTML = docLinkHtml;\n",
              "        element.appendChild(docLink);\n",
              "      }\n",
              "    </script>\n",
              "  </div>\n",
              "\n",
              "\n",
              "<div id=\"df-c43908a4-db52-4dfb-90a5-7bef710550a3\">\n",
              "  <button class=\"colab-df-quickchart\" onclick=\"quickchart('df-c43908a4-db52-4dfb-90a5-7bef710550a3')\"\n",
              "            title=\"Suggest charts\"\n",
              "            style=\"display:none;\">\n",
              "\n",
              "<svg xmlns=\"http://www.w3.org/2000/svg\" height=\"24px\"viewBox=\"0 0 24 24\"\n",
              "     width=\"24px\">\n",
              "    <g>\n",
              "        <path d=\"M19 3H5c-1.1 0-2 .9-2 2v14c0 1.1.9 2 2 2h14c1.1 0 2-.9 2-2V5c0-1.1-.9-2-2-2zM9 17H7v-7h2v7zm4 0h-2V7h2v10zm4 0h-2v-4h2v4z\"/>\n",
              "    </g>\n",
              "</svg>\n",
              "  </button>\n",
              "\n",
              "<style>\n",
              "  .colab-df-quickchart {\n",
              "      --bg-color: #E8F0FE;\n",
              "      --fill-color: #1967D2;\n",
              "      --hover-bg-color: #E2EBFA;\n",
              "      --hover-fill-color: #174EA6;\n",
              "      --disabled-fill-color: #AAA;\n",
              "      --disabled-bg-color: #DDD;\n",
              "  }\n",
              "\n",
              "  [theme=dark] .colab-df-quickchart {\n",
              "      --bg-color: #3B4455;\n",
              "      --fill-color: #D2E3FC;\n",
              "      --hover-bg-color: #434B5C;\n",
              "      --hover-fill-color: #FFFFFF;\n",
              "      --disabled-bg-color: #3B4455;\n",
              "      --disabled-fill-color: #666;\n",
              "  }\n",
              "\n",
              "  .colab-df-quickchart {\n",
              "    background-color: var(--bg-color);\n",
              "    border: none;\n",
              "    border-radius: 50%;\n",
              "    cursor: pointer;\n",
              "    display: none;\n",
              "    fill: var(--fill-color);\n",
              "    height: 32px;\n",
              "    padding: 0;\n",
              "    width: 32px;\n",
              "  }\n",
              "\n",
              "  .colab-df-quickchart:hover {\n",
              "    background-color: var(--hover-bg-color);\n",
              "    box-shadow: 0 1px 2px rgba(60, 64, 67, 0.3), 0 1px 3px 1px rgba(60, 64, 67, 0.15);\n",
              "    fill: var(--button-hover-fill-color);\n",
              "  }\n",
              "\n",
              "  .colab-df-quickchart-complete:disabled,\n",
              "  .colab-df-quickchart-complete:disabled:hover {\n",
              "    background-color: var(--disabled-bg-color);\n",
              "    fill: var(--disabled-fill-color);\n",
              "    box-shadow: none;\n",
              "  }\n",
              "\n",
              "  .colab-df-spinner {\n",
              "    border: 2px solid var(--fill-color);\n",
              "    border-color: transparent;\n",
              "    border-bottom-color: var(--fill-color);\n",
              "    animation:\n",
              "      spin 1s steps(1) infinite;\n",
              "  }\n",
              "\n",
              "  @keyframes spin {\n",
              "    0% {\n",
              "      border-color: transparent;\n",
              "      border-bottom-color: var(--fill-color);\n",
              "      border-left-color: var(--fill-color);\n",
              "    }\n",
              "    20% {\n",
              "      border-color: transparent;\n",
              "      border-left-color: var(--fill-color);\n",
              "      border-top-color: var(--fill-color);\n",
              "    }\n",
              "    30% {\n",
              "      border-color: transparent;\n",
              "      border-left-color: var(--fill-color);\n",
              "      border-top-color: var(--fill-color);\n",
              "      border-right-color: var(--fill-color);\n",
              "    }\n",
              "    40% {\n",
              "      border-color: transparent;\n",
              "      border-right-color: var(--fill-color);\n",
              "      border-top-color: var(--fill-color);\n",
              "    }\n",
              "    60% {\n",
              "      border-color: transparent;\n",
              "      border-right-color: var(--fill-color);\n",
              "    }\n",
              "    80% {\n",
              "      border-color: transparent;\n",
              "      border-right-color: var(--fill-color);\n",
              "      border-bottom-color: var(--fill-color);\n",
              "    }\n",
              "    90% {\n",
              "      border-color: transparent;\n",
              "      border-bottom-color: var(--fill-color);\n",
              "    }\n",
              "  }\n",
              "</style>\n",
              "\n",
              "  <script>\n",
              "    async function quickchart(key) {\n",
              "      const quickchartButtonEl =\n",
              "        document.querySelector('#' + key + ' button');\n",
              "      quickchartButtonEl.disabled = true;  // To prevent multiple clicks.\n",
              "      quickchartButtonEl.classList.add('colab-df-spinner');\n",
              "      try {\n",
              "        const charts = await google.colab.kernel.invokeFunction(\n",
              "            'suggestCharts', [key], {});\n",
              "      } catch (error) {\n",
              "        console.error('Error during call to suggestCharts:', error);\n",
              "      }\n",
              "      quickchartButtonEl.classList.remove('colab-df-spinner');\n",
              "      quickchartButtonEl.classList.add('colab-df-quickchart-complete');\n",
              "    }\n",
              "    (() => {\n",
              "      let quickchartButtonEl =\n",
              "        document.querySelector('#df-c43908a4-db52-4dfb-90a5-7bef710550a3 button');\n",
              "      quickchartButtonEl.style.display =\n",
              "        google.colab.kernel.accessAllowed ? 'block' : 'none';\n",
              "    })();\n",
              "  </script>\n",
              "</div>\n",
              "\n",
              "    </div>\n",
              "  </div>\n"
            ],
            "application/vnd.google.colaboratory.intrinsic+json": {
              "type": "dataframe",
              "variable_name": "ratings_new",
              "summary": "{\n  \"name\": \"ratings_new\",\n  \"rows\": 9724,\n  \"fields\": [\n    {\n      \"column\": \"rating\",\n      \"properties\": {\n        \"dtype\": \"number\",\n        \"std\": 0.8698736344877788,\n        \"min\": 0.5,\n        \"max\": 5.0,\n        \"num_unique_values\": 1286,\n        \"samples\": [\n          3.9934210526315788,\n          3.657142857142857,\n          3.4423076923076925\n        ],\n        \"semantic_type\": \"\",\n        \"description\": \"\"\n      }\n    },\n    {\n      \"column\": \"num_of_ratings\",\n      \"properties\": {\n        \"dtype\": \"number\",\n        \"std\": 22,\n        \"min\": 1,\n        \"max\": 329,\n        \"num_unique_values\": 177,\n        \"samples\": [\n          89,\n          17,\n          39\n        ],\n        \"semantic_type\": \"\",\n        \"description\": \"\"\n      }\n    }\n  ]\n}"
            }
          },
          "metadata": {},
          "execution_count": 18
        }
      ],
      "source": [
        "ratings_new['num_of_ratings'] = pd.DataFrame(movies_and_ratings.groupby(['movieId', 'title'])['rating'].count())\n",
        "ratings_new.head()"
      ]
    },
    {
      "cell_type": "markdown",
      "metadata": {
        "id": "BHgl8VZBcWzg"
      },
      "source": [
        "#### 5.1.1 - Distribution of Number of Ratings per Movie"
      ]
    },
    {
      "cell_type": "code",
      "execution_count": 19,
      "metadata": {
        "colab": {
          "base_uri": "https://localhost:8080/",
          "height": 564
        },
        "id": "Zzw8IipQcWzg",
        "outputId": "fe3c12ad-fbc6-455c-8f76-478772a1cc17"
      },
      "outputs": [
        {
          "output_type": "display_data",
          "data": {
            "text/plain": [
              "<Figure size 1000x600 with 1 Axes>"
            ],
            "image/png": "[encoded data removed]"
          },
          "metadata": {}
        }
      ],
      "source": [
        "plt.figure(figsize=(10,6))\n",
        "sns.histplot(x = ratings_new['num_of_ratings'], bins=50, kde=False, color='blue')\n",
        "plt.title('Distribution of Number of Ratings per Movie')\n",
        "plt.xlabel('Number of Ratings')\n",
        "plt.ylabel('Frequency')\n",
        "plt.grid(True)\n",
        "plt.show()"
      ]
    },
    {
      "cell_type": "markdown",
      "metadata": {
        "id": "Ndyax9YjcWzg"
      },
      "source": [
        "The distribution of the number of ratings per movie is rightly skewed. This implies that majority of the movies have less than 50 ratings with a few having above 100 ratings for a single movie. 50% of the movies have fewer than 50 ratings."
      ]
    },
    {
      "cell_type": "code",
      "execution_count": 20,
      "metadata": {
        "id": "tSlM0ERscWzg"
      },
      "outputs": [],
      "source": [
        "# ratings_new['num_of_ratings'].value_counts(normalize = True)"
      ]
    },
    {
      "cell_type": "markdown",
      "metadata": {
        "id": "g41N671icWzh"
      },
      "source": [
        "#### 5.1.2 - Distribution of Ratings"
      ]
    },
    {
      "cell_type": "code",
      "execution_count": 21,
      "metadata": {
        "colab": {
          "base_uri": "https://localhost:8080/",
          "height": 564
        },
        "id": "Vhp0CbnccWzh",
        "outputId": "c701cff5-31b3-45d2-f960-95938094fa5a"
      },
      "outputs": [
        {
          "output_type": "display_data",
          "data": {
            "text/plain": [
              "<Figure size 1000x600 with 1 Axes>"
            ],
            "image/png": "[encoded data removed]"
          },
          "metadata": {}
        }
      ],
      "source": [
        "plt.figure(figsize=(10,6))\n",
        "sns.histplot(x = ratings_new['rating'],  kde=False, color='blue')\n",
        "plt.title('Distribution of Ratings')\n",
        "plt.xlabel('Ratings (on a scale of 1 to 5)')\n",
        "plt.ylabel('Frequency')\n",
        "plt.grid(True)\n",
        "plt.show()"
      ]
    },
    {
      "cell_type": "code",
      "execution_count": 22,
      "metadata": {
        "id": "72XSmP5ecWzn"
      },
      "outputs": [],
      "source": [
        "# binning\n",
        "bins = [0, 1, 2, 3, 4, 5]\n",
        "ratings_new['rating_binned'] = pd.cut(ratings_new['rating'], bins=bins,  right=True)"
      ]
    },
    {
      "cell_type": "code",
      "execution_count": 23,
      "metadata": {
        "colab": {
          "base_uri": "https://localhost:8080/",
          "height": 272
        },
        "id": "AzS--jcBcWzn",
        "outputId": "367519ca-ad58-426a-a85b-4e61624b2823"
      },
      "outputs": [
        {
          "output_type": "execute_result",
          "data": {
            "text/plain": [
              "rating_binned\n",
              "(0, 1]    0.026532\n",
              "(1, 2]    0.084430\n",
              "(4, 5]    0.129576\n",
              "(2, 3]    0.266968\n",
              "(3, 4]    0.492493\n",
              "Name: proportion, dtype: float64"
            ],
            "text/html": [
              "<div>\n",
              "<style scoped>\n",
              "    .dataframe tbody tr th:only-of-type {\n",
              "        vertical-align: middle;\n",
              "    }\n",
              "\n",
              "    .dataframe tbody tr th {\n",
              "        vertical-align: top;\n",
              "    }\n",
              "\n",
              "    .dataframe thead th {\n",
              "        text-align: right;\n",
              "    }\n",
              "</style>\n",
              "<table border=\"1\" class=\"dataframe\">\n",
              "  <thead>\n",
              "    <tr style=\"text-align: right;\">\n",
              "      <th></th>\n",
              "      <th>proportion</th>\n",
              "    </tr>\n",
              "    <tr>\n",
              "      <th>rating_binned</th>\n",
              "      <th></th>\n",
              "    </tr>\n",
              "  </thead>\n",
              "  <tbody>\n",
              "    <tr>\n",
              "      <th>(0, 1]</th>\n",
              "      <td>0.026532</td>\n",
              "    </tr>\n",
              "    <tr>\n",
              "      <th>(1, 2]</th>\n",
              "      <td>0.084430</td>\n",
              "    </tr>\n",
              "    <tr>\n",
              "      <th>(4, 5]</th>\n",
              "      <td>0.129576</td>\n",
              "    </tr>\n",
              "    <tr>\n",
              "      <th>(2, 3]</th>\n",
              "      <td>0.266968</td>\n",
              "    </tr>\n",
              "    <tr>\n",
              "      <th>(3, 4]</th>\n",
              "      <td>0.492493</td>\n",
              "    </tr>\n",
              "  </tbody>\n",
              "</table>\n",
              "</div><br><label><b>dtype:</b> float64</label>"
            ]
          },
          "metadata": {},
          "execution_count": 23
        }
      ],
      "source": [
        "ratings_new['rating_binned'].value_counts(normalize = True).sort_values()"
      ]
    },
    {
      "cell_type": "markdown",
      "metadata": {
        "id": "ItUpdSklcWzn"
      },
      "source": [
        "Around 49% of movies receive ratings between 3 and 4. This implies that most movies receive above average ratings and fewer movies receive extremely low or high ratings."
      ]
    },
    {
      "cell_type": "markdown",
      "metadata": {
        "id": "8PN5aHuCcWzo"
      },
      "source": [
        "### 5.2 Bivariate Analysis"
      ]
    },
    {
      "cell_type": "markdown",
      "metadata": {
        "id": "qIp_eK05cWzo"
      },
      "source": [
        "#### 5.1.2 -  Number of Ratings per User"
      ]
    },
    {
      "cell_type": "code",
      "execution_count": 24,
      "metadata": {
        "colab": {
          "base_uri": "https://localhost:8080/",
          "height": 564
        },
        "id": "3IQ3mt3VcWzo",
        "outputId": "7302b47a-20a2-49d6-dac6-aa3f828d1619"
      },
      "outputs": [
        {
          "output_type": "display_data",
          "data": {
            "text/plain": [
              "<Figure size 1000x600 with 1 Axes>"
            ],
            "image/png": "[encoded data removed]"
          },
          "metadata": {}
        }
      ],
      "source": [
        "# calculate number of ratings per user\n",
        "# Number of ratings per user\n",
        "user_ratings_count = movies_and_ratings.groupby('userId').size()\n",
        "\n",
        "plt.figure(figsize=(10, 6))\n",
        "sns.histplot(user_ratings_count, bins=50, kde=False, color = 'blue')\n",
        "plt.title('Number of Ratings per User')\n",
        "plt.xlabel('Number of Ratings')\n",
        "plt.ylabel('Count of Users')\n",
        "plt.show()"
      ]
    },
    {
      "cell_type": "markdown",
      "metadata": {
        "id": "yrGCgQs3cWzp"
      },
      "source": [
        "#### 5.1.2 - Most Popular Movies"
      ]
    },
    {
      "cell_type": "code",
      "execution_count": 25,
      "metadata": {
        "colab": {
          "base_uri": "https://localhost:8080/",
          "height": 933
        },
        "id": "_YzRyopvcWzp",
        "outputId": "91373fce-05e0-4432-b2c2-e1d4f7963e0e"
      },
      "outputs": [
        {
          "output_type": "display_data",
          "data": {
            "text/plain": [
              "<Figure size 1200x600 with 1 Axes>"
            ],
            "image/png": "[encoded data removed]"
          },
          "metadata": {}
        },
        {
          "output_type": "stream",
          "name": "stdout",
          "text": [
            "\n",
            "Top 15 Most Rated Movies:\n",
            "                                                title  number_of_ratings\n",
            "                               American Beauty (1999)                204\n",
            "                           Usual Suspects, The (1995)                204\n",
            "Star Wars: Episode V - The Empire Strikes Back (1980)                211\n",
            "                                     Toy Story (1995)                215\n",
            "                                    Fight Club (1999)                218\n",
            "                              Schindler's List (1993)                220\n",
            "                    Terminator 2: Judgment Day (1991)                224\n",
            "                                    Braveheart (1995)                237\n",
            "                                 Jurassic Park (1993)                238\n",
            "            Star Wars: Episode IV - A New Hope (1977)                251\n",
            "                                   Matrix, The (1999)                278\n",
            "                     Silence of the Lambs, The (1991)                279\n",
            "                                  Pulp Fiction (1994)                307\n",
            "                     Shawshank Redemption, The (1994)                317\n",
            "                                  Forrest Gump (1994)                329\n"
          ]
        }
      ],
      "source": [
        "# Group by movie title and count the number of ratings\n",
        "movie_ratings_count = movies_and_ratings.groupby('title')['rating'].count().reset_index()\n",
        "movie_ratings_count.columns = ['title', 'number_of_ratings']\n",
        "\n",
        "# Sort by number of ratings and get top 15\n",
        "top_rated_movies = movie_ratings_count.sort_values('number_of_ratings').tail(15)\n",
        "\n",
        "# Create the plot\n",
        "plt.figure(figsize=(12, 6))\n",
        "bars = plt.barh(y=range(len(top_rated_movies)), width=top_rated_movies['number_of_ratings'],\n",
        "                color=sns.color_palette(\"viridis\", len(top_rated_movies)))\n",
        "\n",
        "# Customize the plot\n",
        "plt.yticks(range(len(top_rated_movies)), top_rated_movies['title'], fontsize=10)\n",
        "plt.xlabel('Number of Ratings', fontsize=12)\n",
        "plt.title('Top 15 Most Popular Movies', fontsize=14, pad=10)\n",
        "\n",
        "# Add number of ratings to the end of each bar\n",
        "for i, bar in enumerate(bars):\n",
        "    width = bar.get_width()\n",
        "    plt.text(width, bar.get_y() + bar.get_height()/2,\n",
        "             f'{width:,.0f}',  # Format number with commas\n",
        "             va='center', ha='left', fontsize=10, fontweight='bold')\n",
        "\n",
        "plt.tight_layout()\n",
        "plt.show()\n",
        "\n",
        "# Print the data\n",
        "print(\"\\nTop 15 Most Rated Movies:\")\n",
        "print(top_rated_movies.to_string(index=False))"
      ]
    },
    {
      "cell_type": "markdown",
      "metadata": {
        "id": "qURFqFK_cWzp"
      },
      "source": [
        "#### 5.1.2 - Top 15 Movies by Average Ratings"
      ]
    },
    {
      "cell_type": "code",
      "execution_count": 26,
      "metadata": {
        "colab": {
          "base_uri": "https://localhost:8080/",
          "height": 934
        },
        "id": "iJCC08kbcWzq",
        "outputId": "34bf1eda-f519-4e52-f467-d03dd120bf79"
      },
      "outputs": [
        {
          "output_type": "display_data",
          "data": {
            "text/plain": [
              "<Figure size 1200x600 with 1 Axes>"
            ],
            "image/png": "[encoded data removed]"
          },
          "metadata": {}
        },
        {
          "output_type": "stream",
          "name": "stdout",
          "text": [
            "\n",
            "Top 15 Movies Data:\n",
            "                                                title  avg_rating  num_ratings\n",
            "Star Wars: Episode V - The Empire Strikes Back (1980)    4.215640          211\n",
            "                            American History X (1998)    4.217054          129\n",
            "                                Apocalypse Now (1979)    4.219626          107\n",
            "                              Schindler's List (1993)    4.225000          220\n",
            "            Star Wars: Episode IV - A New Hope (1977)    4.231076          251\n",
            "                           Princess Bride, The (1987)    4.232394          142\n",
            "                           Usual Suspects, The (1995)    4.237745          204\n",
            "                              Dark Knight, The (2008)    4.238255          149\n",
            "                                    Casablanca (1942)    4.240000          100\n",
            "                                    Goodfellas (1990)    4.250000          126\n",
            "                                 Departed, The (2006)    4.252336          107\n",
            "                       Godfather: Part II, The (1974)    4.259690          129\n",
            "                                    Fight Club (1999)    4.272936          218\n",
            "                                Godfather, The (1972)    4.289062          192\n",
            "                     Shawshank Redemption, The (1994)    4.429022          317\n"
          ]
        }
      ],
      "source": [
        "# Calculate average rating for each movie and number of ratings\n",
        "movie_stats = movies_and_ratings.groupby('title').agg({\n",
        "    'rating': ['mean', 'count']\n",
        "}).reset_index()\n",
        "\n",
        "# Flatten the column names\n",
        "movie_stats.columns = ['title', 'avg_rating', 'num_ratings']\n",
        "\n",
        "# Filter for movies with a minimum number of ratings\n",
        "min_ratings = 100\n",
        "popular_movies = movie_stats[movie_stats['num_ratings'] >= min_ratings]\n",
        "\n",
        "# Sort by average rating and get top 10\n",
        "top_movies = popular_movies.sort_values('avg_rating').tail(15)\n",
        "\n",
        "# Create the plot\n",
        "plt.figure(figsize=(12, 6))\n",
        "bars = plt.barh(y=range(len(top_movies)), width=top_movies['avg_rating'],\n",
        "                color=sns.color_palette(\"viridis\", len(top_movies)))\n",
        "\n",
        "# Customize the plot\n",
        "plt.yticks(range(len(top_movies)), top_movies['title'])\n",
        "plt.xlabel('Average Rating')\n",
        "plt.title(f'Top 15 Movies (Minimum {min_ratings} ratings)')\n",
        "\n",
        "# Add rating annotations to the end of each bar\n",
        "for i, bar in enumerate(bars):\n",
        "    width = bar.get_width()\n",
        "    plt.text(width, bar.get_y() + bar.get_height()/2,\n",
        "             f'{top_movies[\"avg_rating\"].iloc[i]:.2f} ({top_movies[\"num_ratings\"].iloc[i]} ratings)',\n",
        "             va='center', ha='left')\n",
        "\n",
        "plt.tight_layout()\n",
        "plt.show()\n",
        "\n",
        "# Print the data\n",
        "print(\"\\nTop 15 Movies Data:\")\n",
        "print(top_movies[['title', 'avg_rating', 'num_ratings']].to_string(index=False))"
      ]
    },
    {
      "cell_type": "markdown",
      "metadata": {
        "id": "NL8xdy2DcWzr"
      },
      "source": [
        "## 6. Data Preparation for Modelling\n",
        "\n"
      ]
    },
    {
      "cell_type": "code",
      "execution_count": 27,
      "metadata": {
        "id": "9MT9X2TPcWzs"
      },
      "outputs": [],
      "source": [
        "# prepare data for modelling with surprise\n",
        "reader = Reader(rating_scale = (0.5, 5.0))\n",
        "data = Dataset.load_from_df(movies_and_ratings[['userId', 'movieId', 'rating']], reader)\n",
        "\n",
        "# split data into train and test sets\n",
        "\n",
        "train_set, test_set = train_test_split(data, test_size = 0.2)"
      ]
    },
    {
      "cell_type": "markdown",
      "metadata": {
        "id": "qUfBwyTQcWzt"
      },
      "source": [
        "To include the use of `genres` in our recommendation system, we need convert this column into numerical features as machine learning models take numerical data.\n",
        "\n",
        "Here, we use the `TF-IDF` vectorization to transform the categorical genre data into numerical features that reflect the importance and uniqueness of genres in thie dataset. This will prevent over-weighting common genres. This helps the model to focus on distinctive genres when computing movie similarities.\n"
      ]
    },
    {
      "cell_type": "markdown",
      "metadata": {
        "id": "192Ogv9XcWzu"
      },
      "source": [
        "Calculating the cosine similarity for the entire dataset runs into a `MemoryError` as my system is unable to create the TF-IDF matrix due to its large size. Therefore, we use a subset for this task."
      ]
    },
    {
      "cell_type": "code",
      "execution_count": 28,
      "metadata": {
        "id": "lOrZa77FcWzu"
      },
      "outputs": [],
      "source": [
        "# Preprocessing the genres: replace '|' with space or comma to make it TF-IDF friendly\n",
        "movies_and_ratings['genres'] = movies_and_ratings['genres'].str.replace('|', ' ')\n",
        "\n",
        "# compute TF_IDF matrix for movie genres\n",
        "tfidf = TfidfVectorizer(stop_words='english')\n",
        "sample_size = 10000  # Adjust this number based on your available memory\n",
        "\n",
        "movies_sample = movies_and_ratings.sample(n=sample_size, random_state=1)\n",
        "tfidf_matrix = tfidf.fit_transform(movies_sample['genres'].fillna(''))\n",
        "\n",
        "\n",
        "# compute cosine similarity between movies based on genres\n",
        "cosine_sim = cosine_similarity(tfidf_matrix, tfidf_matrix)"
      ]
    },
    {
      "cell_type": "markdown",
      "metadata": {
        "id": "3mXIZqz1cWzu"
      },
      "source": [
        "## 7. Data Modelling\n",
        "\n",
        "We are going to explore different modelling approaches:\n",
        "1. `KNNBasic` model and experiment with the different similarity metrics (cosine, pearson).\n",
        "2. `KMWithMeans` which takes into account the mean rating of each user.\n",
        "3. `KNNBaseline` which adds adds in a bias term that is calculated by way of minimizing a cost function.\n",
        "4. model based CF with SVD\n",
        "5. Hyperparameter tuning on the SVD model\n"
      ]
    },
    {
      "cell_type": "markdown",
      "metadata": {
        "id": "mVMg7PTZcWzv"
      },
      "source": [
        "### 7.1 Baseline Model"
      ]
    },
    {
      "cell_type": "markdown",
      "metadata": {
        "id": "8uAYx6HVcWzv"
      },
      "source": [
        "Before we begin, it is important to decide which type of collaborative filtering to consider.\n",
        "\n",
        "Here, we use user-user filtering as it is the lesser of the two. This is in order to reduce computation time and increase training efficiency."
      ]
    },
    {
      "cell_type": "code",
      "execution_count": 29,
      "metadata": {
        "colab": {
          "base_uri": "https://localhost:8080/"
        },
        "id": "7x_kM1jwcWzv",
        "outputId": "7ca68286-56ce-4367-a5b9-30eb822cae56"
      },
      "outputs": [
        {
          "output_type": "stream",
          "name": "stdout",
          "text": [
            "Number of users:  610 \n",
            "\n",
            "Number of items:  8997 \n",
            "\n"
          ]
        }
      ],
      "source": [
        "# deciding whether to use item-item Vs user-user similarity. Use whichever is fewer. In this case, users\n",
        "print(\"Number of users: \", train_set.n_users, \"\\n\")\n",
        "print(\"Number of items: \", train_set.n_items, \"\\n\")"
      ]
    },
    {
      "cell_type": "code",
      "execution_count": 30,
      "metadata": {
        "colab": {
          "base_uri": "https://localhost:8080/"
        },
        "id": "OUuITXJAcWzw",
        "outputId": "d38481a7-de18-4c7d-f23f-5ea929a6280a"
      },
      "outputs": [
        {
          "output_type": "stream",
          "name": "stdout",
          "text": [
            "Computing the cosine similarity matrix...\n",
            "Done computing similarity matrix.\n"
          ]
        },
        {
          "output_type": "execute_result",
          "data": {
            "text/plain": [
              "<surprise.prediction_algorithms.knns.KNNBasic at 0x7e5948ecefe0>"
            ]
          },
          "metadata": {},
          "execution_count": 30
        }
      ],
      "source": [
        "# define similarity metric to use\n",
        "similarity_cos = {\"name\": \"cosine\", \"user_based\": True}\n",
        "\n",
        "# baseline model\n",
        "baseline_model =KNNBasic(sim_options = similarity_cos)\n",
        "\n",
        "# fit the model\n",
        "baseline_model.fit(train_set)"
      ]
    },
    {
      "cell_type": "code",
      "execution_count": 31,
      "metadata": {
        "colab": {
          "base_uri": "https://localhost:8080/"
        },
        "id": "FM9BfVl5cWzw",
        "outputId": "e615d9e8-6d44-4d42-b086-ca813ca7c7ce"
      },
      "outputs": [
        {
          "output_type": "stream",
          "name": "stdout",
          "text": [
            "The average rmse score is 0.9722547175656121\n"
          ]
        }
      ],
      "source": [
        "# cross validation on baseline model\n",
        "cv_baseline_model = cross_validate(baseline_model, data, n_jobs=-1)\n",
        "\n",
        "# Get the average RMSE score across all folds\n",
        "average_rmse = cv_baseline_model['test_rmse'].mean()\n",
        "print(f\"The average rmse score is {average_rmse}\")\n",
        "\n",
        "# make predictions\n",
        "# baseline_predictions = baseline_model.test(test_set)"
      ]
    },
    {
      "cell_type": "markdown",
      "metadata": {
        "id": "AB1yStlOcWzx"
      },
      "source": [
        "This implies that the model is off by about 0.973 points for each guess it made for ratings. While it is not bad, there is room for improvement as we are working with a small scale (1 to 5)"
      ]
    },
    {
      "cell_type": "markdown",
      "metadata": {
        "id": "TPDbsPQkcWzx"
      },
      "source": [
        "### 7.2 Model 2 - Pearson Similarity Metric"
      ]
    },
    {
      "cell_type": "code",
      "execution_count": 32,
      "metadata": {
        "colab": {
          "base_uri": "https://localhost:8080/"
        },
        "id": "KGiheBeAcWzx",
        "outputId": "75a0454d-84cb-4680-91bb-56fc0bec5caf"
      },
      "outputs": [
        {
          "output_type": "stream",
          "name": "stdout",
          "text": [
            "Computing the pearson similarity matrix...\n",
            "Done computing similarity matrix.\n"
          ]
        },
        {
          "output_type": "execute_result",
          "data": {
            "text/plain": [
              "<surprise.prediction_algorithms.knns.KNNBasic at 0x7e5949027220>"
            ]
          },
          "metadata": {},
          "execution_count": 32
        }
      ],
      "source": [
        "similarity_pearson = {\"name\": \"pearson\", \"user_based\" : True}\n",
        "\n",
        "# fit model\n",
        "model_pearson = KNNBasic(sim_options = similarity_pearson)\n",
        "\n",
        "model_pearson.fit(train_set)"
      ]
    },
    {
      "cell_type": "code",
      "execution_count": 33,
      "metadata": {
        "colab": {
          "base_uri": "https://localhost:8080/"
        },
        "id": "pSz_vxggcWzy",
        "outputId": "8b0d67e8-5335-4346-e17c-e36929e290b2"
      },
      "outputs": [
        {
          "output_type": "stream",
          "name": "stdout",
          "text": [
            "Average rmse score is : 0.9730460023636883\n"
          ]
        }
      ],
      "source": [
        "cv_model_pearson = cross_validate(model_pearson, data, n_jobs=-1)\n",
        "\n",
        "# get average rmse\n",
        "\n",
        "avg_rmse_pearson = cv_model_pearson['test_rmse'].mean()\n",
        "\n",
        "# print rmse\n",
        "print(f\"Average rmse score is : {avg_rmse_pearson}\")\n",
        "# model_pearson_predictions = model_pearson.test(test_set)"
      ]
    },
    {
      "cell_type": "markdown",
      "metadata": {
        "id": "gvm8nZjqcWzy"
      },
      "source": [
        "The rmse score is 0.974. This implies that the model's predictions are off by about 0.974 points. These two models are identical as they have very close rmse scores."
      ]
    },
    {
      "cell_type": "markdown",
      "metadata": {
        "id": "eW64atAtcWzy"
      },
      "source": [
        "### 7.3 Model 3 - KNNMeans"
      ]
    },
    {
      "cell_type": "code",
      "execution_count": 34,
      "metadata": {
        "colab": {
          "base_uri": "https://localhost:8080/"
        },
        "id": "0vcD1WETcWzy",
        "outputId": "481dd159-6ee2-4840-e64a-1a42358bbdfa"
      },
      "outputs": [
        {
          "output_type": "stream",
          "name": "stdout",
          "text": [
            "Computing the cosine similarity matrix...\n",
            "Done computing similarity matrix.\n"
          ]
        },
        {
          "output_type": "execute_result",
          "data": {
            "text/plain": [
              "<surprise.prediction_algorithms.knns.KNNWithMeans at 0x7e5948da0700>"
            ]
          },
          "metadata": {},
          "execution_count": 34
        }
      ],
      "source": [
        "model_knn_means  = KNNWithMeans(sim_options = similarity_cos)\n",
        "\n",
        "# fit model\n",
        "model_knn_means.fit(train_set)"
      ]
    },
    {
      "cell_type": "code",
      "execution_count": 35,
      "metadata": {
        "colab": {
          "base_uri": "https://localhost:8080/"
        },
        "id": "uwFTM4sacWzz",
        "outputId": "1fa45884-f2ad-41c6-fdbb-d76593432d1c"
      },
      "outputs": [
        {
          "output_type": "stream",
          "name": "stdout",
          "text": [
            "The average rmse is : 0.9006406618381397\n"
          ]
        }
      ],
      "source": [
        "# cross validate the model\n",
        "cv_model_knn_means = cross_validate(model_knn_means, data, n_jobs=-1)\n",
        "\n",
        "avg_rmse_model_knn_means = cv_model_knn_means['test_rmse'].mean()\n",
        "\n",
        "print(f\"The average rmse is : {avg_rmse_model_knn_means}\")"
      ]
    },
    {
      "cell_type": "markdown",
      "metadata": {
        "id": "Z7nMFnvBcWzz"
      },
      "source": [
        "This model has an rmse score of 0.90 This is better then the two models before. However, there's room for improvement and so we proceed to using KNNBaseline as it introduces a bias term making it an improvement of the methods explored above."
      ]
    },
    {
      "cell_type": "markdown",
      "metadata": {
        "id": "7EucSMa8cWzz"
      },
      "source": [
        "### 7.4 Model 4 - KNNBaseline"
      ]
    },
    {
      "cell_type": "code",
      "execution_count": 36,
      "metadata": {
        "colab": {
          "base_uri": "https://localhost:8080/"
        },
        "id": "CcnzSLDvcWz0",
        "outputId": "88633f7c-5e52-4301-9a97-8331dc5ff9af"
      },
      "outputs": [
        {
          "output_type": "stream",
          "name": "stdout",
          "text": [
            "Estimating biases using als...\n",
            "Computing the cosine similarity matrix...\n",
            "Done computing similarity matrix.\n"
          ]
        },
        {
          "output_type": "execute_result",
          "data": {
            "text/plain": [
              "<surprise.prediction_algorithms.knns.KNNBaseline at 0x7e5948da0c70>"
            ]
          },
          "metadata": {},
          "execution_count": 36
        }
      ],
      "source": [
        "model_knn_baseline = KNNBaseline(sim_options=similarity_cos)\n",
        "\n",
        "# fit model\n",
        "model_knn_baseline.fit(train_set)"
      ]
    },
    {
      "cell_type": "code",
      "execution_count": 37,
      "metadata": {
        "colab": {
          "base_uri": "https://localhost:8080/"
        },
        "id": "5TT2d5mccWz0",
        "outputId": "fb769cc5-9beb-471e-c55b-89cc353a0d7a"
      },
      "outputs": [
        {
          "output_type": "stream",
          "name": "stdout",
          "text": [
            "The average rmse is : 0.8788134667952108\n"
          ]
        }
      ],
      "source": [
        "# rmse\n",
        "cv_model_knn_baseline = cross_validate(model_knn_baseline, data, n_jobs = -1)\n",
        "\n",
        "avg_rmse_knn_baseline = cv_model_knn_baseline['test_rmse'].mean()\n",
        "\n",
        "print(f\"The average rmse is : {avg_rmse_knn_baseline}\")"
      ]
    },
    {
      "cell_type": "markdown",
      "metadata": {
        "id": "Eja_grr0cWz0"
      },
      "source": [
        "The rmse score for the `KNNBaseline` model is 0.879. This is an improvement from the previous models above. We are looking to further reduce this error, therefore, we try matrix factorization models below. In this case, we use Singular Value Decomposition(SVD) and tune the hyperparameters to get the optimal parameters."
      ]
    },
    {
      "cell_type": "markdown",
      "metadata": {
        "id": "-lIDkeBAcWz1"
      },
      "source": [
        "### 7.5 Model 5 - Model based"
      ]
    },
    {
      "cell_type": "code",
      "execution_count": 38,
      "metadata": {
        "colab": {
          "base_uri": "https://localhost:8080/"
        },
        "id": "wd9yYtMMcWz1",
        "outputId": "fe043a53-aa4f-4d7c-f51a-d3751a15c800"
      },
      "outputs": [
        {
          "output_type": "execute_result",
          "data": {
            "text/plain": [
              "<surprise.prediction_algorithms.matrix_factorization.SVD at 0x7e5948da0220>"
            ]
          },
          "metadata": {},
          "execution_count": 38
        }
      ],
      "source": [
        "# use SVD for collaborative filtering\n",
        "model = SVD()\n",
        "model.fit(train_set)"
      ]
    },
    {
      "cell_type": "code",
      "execution_count": 39,
      "metadata": {
        "colab": {
          "base_uri": "https://localhost:8080/"
        },
        "id": "82Drlb_hcWz1",
        "outputId": "95be0ec2-c1d0-43a9-c3bd-e57655dc6dab"
      },
      "outputs": [
        {
          "output_type": "stream",
          "name": "stdout",
          "text": [
            "The average rmse is : 0.8739608322885533\n"
          ]
        }
      ],
      "source": [
        "# Evaluate the model\n",
        "cv_model = cross_validate(model, data, n_jobs = -1)\n",
        "\n",
        "avg_rmse_model = cv_model['test_rmse'].mean()\n",
        "\n",
        "print(f\"The average rmse is : {avg_rmse_model}\")"
      ]
    },
    {
      "cell_type": "markdown",
      "metadata": {
        "id": "8x_lp3PScWz2"
      },
      "source": [
        "This model's rmse score is 0.873. This is a slight improvement from the `KNNBaseline` model. They however seem to be performing similarly."
      ]
    },
    {
      "cell_type": "markdown",
      "metadata": {
        "id": "dsZNV4TacWz2"
      },
      "source": [
        "### 7.6 Model 6 - Hyperparameter Tuning"
      ]
    },
    {
      "cell_type": "code",
      "execution_count": 40,
      "metadata": {
        "colab": {
          "base_uri": "https://localhost:8080/"
        },
        "id": "ylwLYdPzcWz2",
        "outputId": "4580e741-7028-4812-f0d7-fd71a6e426b4"
      },
      "outputs": [
        {
          "output_type": "stream",
          "name": "stderr",
          "text": [
            "[Parallel(n_jobs=-1)]: Using backend LokyBackend with 2 concurrent workers.\n",
            "[Parallel(n_jobs=-1)]: Done  14 tasks      | elapsed:   13.6s\n",
            "[Parallel(n_jobs=-1)]: Done  45 out of  45 | elapsed:  1.0min finished\n"
          ]
        }
      ],
      "source": [
        "param_grid= {'n_factors': [50, 100, 150],\n",
        "         'reg_all': [0.02, 0.05, 0.1]}\n",
        "\n",
        "gs_model = GridSearchCV(SVD,param_grid=param_grid,n_jobs = -1, cv = 5, joblib_verbose=5)\n",
        "gs_model.fit(data)"
      ]
    },
    {
      "cell_type": "code",
      "execution_count": 41,
      "metadata": {
        "colab": {
          "base_uri": "https://localhost:8080/"
        },
        "id": "4XRM9tV4cWz3",
        "outputId": "2d447dc6-952a-40b1-f9fd-a0e0c800bbbd"
      },
      "outputs": [
        {
          "output_type": "execute_result",
          "data": {
            "text/plain": [
              "0.8687319272426111"
            ]
          },
          "metadata": {},
          "execution_count": 41
        }
      ],
      "source": [
        "gs_model.best_score['rmse']"
      ]
    },
    {
      "cell_type": "code",
      "execution_count": 42,
      "metadata": {
        "id": "vDOpHDEacWz3"
      },
      "outputs": [],
      "source": [
        "# Extract the best model from GridSearchCV\n",
        "best_model = gs_model.best_estimator['rmse']"
      ]
    },
    {
      "cell_type": "code",
      "execution_count": 43,
      "metadata": {
        "colab": {
          "base_uri": "https://localhost:8080/"
        },
        "id": "X46wUIqacWz3",
        "outputId": "23778dbf-e89f-40f7-b497-3c19a731d250"
      },
      "outputs": [
        {
          "output_type": "execute_result",
          "data": {
            "text/plain": [
              "<surprise.prediction_algorithms.matrix_factorization.SVD at 0x7e5948da3130>"
            ]
          },
          "metadata": {},
          "execution_count": 43
        }
      ],
      "source": [
        "# fit on model\n",
        "best_model.fit(train_set)"
      ]
    },
    {
      "cell_type": "markdown",
      "metadata": {
        "id": "wDTt29YIcWz3"
      },
      "source": [
        "The model's rmse score is 0.869. This implies that the model's predictions are off by about 0.869 points. This is a slight improvement from the previous models and overally the best."
      ]
    },
    {
      "cell_type": "markdown",
      "metadata": {
        "id": "1d-vwG7icWz4"
      },
      "source": [
        "### 7.7 Model 7 - Using Neural Networks"
      ]
    },
    {
      "cell_type": "code",
      "execution_count": 44,
      "metadata": {
        "id": "eUbrvX6McWz4"
      },
      "outputs": [],
      "source": [
        "# Encode user IDs and movie IDs\n",
        "user_ids = movies_and_ratings['userId'].unique()\n",
        "movie_ids = movies_and_ratings['movieId'].unique()"
      ]
    },
    {
      "cell_type": "code",
      "execution_count": 45,
      "metadata": {
        "id": "F4s8CqXWcWz4"
      },
      "outputs": [],
      "source": [
        "user_to_index = {user_id: index for index, user_id in enumerate(user_ids)}\n",
        "movie_to_index = {movie_id: index for index, movie_id in enumerate(movie_ids)}\n",
        "\n",
        "movies_and_ratings['userIndex'] = movies_and_ratings['userId'].map(user_to_index)\n",
        "movies_and_ratings['movieIndex'] = movies_and_ratings['movieId'].map(movie_to_index)"
      ]
    },
    {
      "cell_type": "code",
      "execution_count": 46,
      "metadata": {
        "id": "kBk8Y9PLcWz5"
      },
      "outputs": [],
      "source": [
        "from sklearn.model_selection import train_test_split\n",
        "# Prepare training data\n",
        "X = movies_and_ratings[['userIndex', 'movieIndex']]\n",
        "y = movies_and_ratings['rating']\n",
        "\n",
        "# Split the data into training and test sets\n",
        "X_train, X_test, y_train, y_test = train_test_split(X, y, test_size = 0.2, random_state=42)\n",
        "\n",
        "# validation set\n",
        "X_train, X_val, y_train, y_val = train_test_split(X_train, y_train, test_size = 0.1, random_state = 42)"
      ]
    },
    {
      "cell_type": "code",
      "execution_count": 47,
      "metadata": {
        "id": "y0ZnbdRScWz5"
      },
      "outputs": [],
      "source": [
        "# Define parameters\n",
        "num_users = len(user_ids)\n",
        "num_movies = len(movie_ids)\n",
        "embedding_dim = 50\n",
        "\n",
        "# Define the neural network model\n",
        "user_input = Input(shape=(1,))\n",
        "movie_input = Input(shape=(1,))\n",
        "\n",
        "# User and movie embeddings\n",
        "user_embedding = Embedding(num_users, embedding_dim)(user_input)\n",
        "movie_embedding = Embedding(num_movies, embedding_dim)(movie_input)\n",
        "\n",
        "# Flatten the embeddings\n",
        "user_vecs = Flatten()(user_embedding)\n",
        "movie_vecs = Flatten()(movie_embedding)\n",
        "\n",
        "# Concatenate user and movie vectors\n",
        "input_vecs = Concatenate()([user_vecs, movie_vecs])\n",
        "\n",
        "# Fully connected layers\n",
        "hidden_layer = Dense(128, activation='relu')(input_vecs)\n",
        "\n",
        "hidden_layer = (Dropout(0.5))(hidden_layer)\n",
        "hidden_layer = Dense(64, activation='relu')(hidden_layer)\n",
        "hidden_layer= (Dropout(0.5))(hidden_layer)\n",
        "output_layer = Dense(1)(hidden_layer)  # Output layer for predicting ratings"
      ]
    },
    {
      "cell_type": "code",
      "execution_count": 48,
      "metadata": {
        "id": "SCc6yxAocWz5"
      },
      "outputs": [],
      "source": [
        "# Create the model\n",
        "model = Model(inputs=[user_input, movie_input], outputs=output_layer)\n",
        "model.compile(optimizer=Adam(learning_rate=0.0001), loss='mean_squared_error', metrics = [RootMeanSquaredError()] )"
      ]
    },
    {
      "cell_type": "code",
      "execution_count": 49,
      "metadata": {
        "colab": {
          "base_uri": "https://localhost:8080/"
        },
        "id": "zYRqVLrXcWz5",
        "outputId": "5c0132aa-4ab9-4dc2-93d2-bf6e0c91f44e"
      },
      "outputs": [
        {
          "output_type": "stream",
          "name": "stdout",
          "text": [
            "Epoch 1/20\n",
            "\u001b[1m284/284\u001b[0m \u001b[32m━━━━━━━━━━━━━━━━━━━━\u001b[0m\u001b[37m\u001b[0m \u001b[1m8s\u001b[0m 15ms/step - loss: 12.1282 - root_mean_squared_error: 3.4797 - val_loss: 3.4784 - val_root_mean_squared_error: 1.8650\n",
            "Epoch 2/20\n",
            "\u001b[1m284/284\u001b[0m \u001b[32m━━━━━━━━━━━━━━━━━━━━\u001b[0m\u001b[37m\u001b[0m \u001b[1m5s\u001b[0m 17ms/step - loss: 2.4822 - root_mean_squared_error: 1.5693 - val_loss: 0.9799 - val_root_mean_squared_error: 0.9899\n",
            "Epoch 3/20\n",
            "\u001b[1m284/284\u001b[0m \u001b[32m━━━━━━━━━━━━━━━━━━━━\u001b[0m\u001b[37m\u001b[0m \u001b[1m3s\u001b[0m 9ms/step - loss: 1.4837 - root_mean_squared_error: 1.2180 - val_loss: 0.8545 - val_root_mean_squared_error: 0.9244\n",
            "Epoch 4/20\n",
            "\u001b[1m284/284\u001b[0m \u001b[32m━━━━━━━━━━━━━━━━━━━━\u001b[0m\u001b[37m\u001b[0m \u001b[1m5s\u001b[0m 8ms/step - loss: 1.3736 - root_mean_squared_error: 1.1720 - val_loss: 0.8155 - val_root_mean_squared_error: 0.9031\n",
            "Epoch 5/20\n",
            "\u001b[1m284/284\u001b[0m \u001b[32m━━━━━━━━━━━━━━━━━━━━\u001b[0m\u001b[37m\u001b[0m \u001b[1m3s\u001b[0m 8ms/step - loss: 1.2915 - root_mean_squared_error: 1.1364 - val_loss: 0.8024 - val_root_mean_squared_error: 0.8958\n",
            "Epoch 6/20\n",
            "\u001b[1m284/284\u001b[0m \u001b[32m━━━━━━━━━━━━━━━━━━━━\u001b[0m\u001b[37m\u001b[0m \u001b[1m3s\u001b[0m 10ms/step - loss: 1.2411 - root_mean_squared_error: 1.1140 - val_loss: 0.7884 - val_root_mean_squared_error: 0.8879\n",
            "Epoch 7/20\n",
            "\u001b[1m284/284\u001b[0m \u001b[32m━━━━━━━━━━━━━━━━━━━━\u001b[0m\u001b[37m\u001b[0m \u001b[1m3s\u001b[0m 11ms/step - loss: 1.2115 - root_mean_squared_error: 1.1007 - val_loss: 0.7887 - val_root_mean_squared_error: 0.8881\n",
            "Epoch 8/20\n",
            "\u001b[1m284/284\u001b[0m \u001b[32m━━━━━━━━━━━━━━━━━━━━\u001b[0m\u001b[37m\u001b[0m \u001b[1m4s\u001b[0m 8ms/step - loss: 1.1992 - root_mean_squared_error: 1.0951 - val_loss: 0.7906 - val_root_mean_squared_error: 0.8892\n",
            "Epoch 9/20\n",
            "\u001b[1m284/284\u001b[0m \u001b[32m━━━━━━━━━━━━━━━━━━━━\u001b[0m\u001b[37m\u001b[0m \u001b[1m3s\u001b[0m 7ms/step - loss: 1.1781 - root_mean_squared_error: 1.0854 - val_loss: 0.7839 - val_root_mean_squared_error: 0.8854\n",
            "Epoch 10/20\n",
            "\u001b[1m284/284\u001b[0m \u001b[32m━━━━━━━━━━━━━━━━━━━━\u001b[0m\u001b[37m\u001b[0m \u001b[1m3s\u001b[0m 7ms/step - loss: 1.1544 - root_mean_squared_error: 1.0744 - val_loss: 0.7890 - val_root_mean_squared_error: 0.8883\n",
            "Epoch 11/20\n",
            "\u001b[1m284/284\u001b[0m \u001b[32m━━━━━━━━━━━━━━━━━━━━\u001b[0m\u001b[37m\u001b[0m \u001b[1m3s\u001b[0m 11ms/step - loss: 1.1437 - root_mean_squared_error: 1.0694 - val_loss: 0.7897 - val_root_mean_squared_error: 0.8887\n",
            "Epoch 12/20\n",
            "\u001b[1m284/284\u001b[0m \u001b[32m━━━━━━━━━━━━━━━━━━━━\u001b[0m\u001b[37m\u001b[0m \u001b[1m3s\u001b[0m 10ms/step - loss: 1.1369 - root_mean_squared_error: 1.0662 - val_loss: 0.7958 - val_root_mean_squared_error: 0.8921\n",
            "Epoch 13/20\n",
            "\u001b[1m284/284\u001b[0m \u001b[32m━━━━━━━━━━━━━━━━━━━━\u001b[0m\u001b[37m\u001b[0m \u001b[1m4s\u001b[0m 8ms/step - loss: 1.1310 - root_mean_squared_error: 1.0635 - val_loss: 0.7815 - val_root_mean_squared_error: 0.8840\n",
            "Epoch 14/20\n",
            "\u001b[1m284/284\u001b[0m \u001b[32m━━━━━━━━━━━━━━━━━━━━\u001b[0m\u001b[37m\u001b[0m \u001b[1m2s\u001b[0m 8ms/step - loss: 1.1211 - root_mean_squared_error: 1.0588 - val_loss: 0.7910 - val_root_mean_squared_error: 0.8894\n",
            "Epoch 15/20\n",
            "\u001b[1m284/284\u001b[0m \u001b[32m━━━━━━━━━━━━━━━━━━━━\u001b[0m\u001b[37m\u001b[0m \u001b[1m3s\u001b[0m 8ms/step - loss: 1.1216 - root_mean_squared_error: 1.0591 - val_loss: 0.7901 - val_root_mean_squared_error: 0.8889\n",
            "Epoch 16/20\n",
            "\u001b[1m284/284\u001b[0m \u001b[32m━━━━━━━━━━━━━━━━━━━━\u001b[0m\u001b[37m\u001b[0m \u001b[1m4s\u001b[0m 12ms/step - loss: 1.1049 - root_mean_squared_error: 1.0511 - val_loss: 0.7845 - val_root_mean_squared_error: 0.8857\n",
            "Epoch 17/20\n",
            "\u001b[1m284/284\u001b[0m \u001b[32m━━━━━━━━━━━━━━━━━━━━\u001b[0m\u001b[37m\u001b[0m \u001b[1m4s\u001b[0m 8ms/step - loss: 1.0999 - root_mean_squared_error: 1.0487 - val_loss: 0.7892 - val_root_mean_squared_error: 0.8884\n",
            "Epoch 18/20\n",
            "\u001b[1m284/284\u001b[0m \u001b[32m━━━━━━━━━━━━━━━━━━━━\u001b[0m\u001b[37m\u001b[0m \u001b[1m3s\u001b[0m 8ms/step - loss: 1.0813 - root_mean_squared_error: 1.0398 - val_loss: 0.7856 - val_root_mean_squared_error: 0.8864\n"
          ]
        },
        {
          "output_type": "execute_result",
          "data": {
            "text/plain": [
              "<keras.src.callbacks.history.History at 0x7e5948ef1ab0>"
            ]
          },
          "metadata": {},
          "execution_count": 49
        }
      ],
      "source": [
        "# Train the model with early stopping\n",
        "early_stopping = EarlyStopping(monitor='val_root_mean_squared_error', patience=5, restore_best_weights=True)\n",
        "model.fit([X_train['userIndex'], X_train['movieIndex']],\n",
        "          y_train,\n",
        "          callbacks = early_stopping,\n",
        "          epochs=20,\n",
        "          validation_data=([X_val['userIndex'], X_val['movieIndex']], y_val),\n",
        "          batch_size=256,\n",
        "          verbose= 1)"
      ]
    },
    {
      "cell_type": "code",
      "execution_count": 50,
      "metadata": {
        "colab": {
          "base_uri": "https://localhost:8080/"
        },
        "id": "3POy0EGAcWz6",
        "outputId": "0fb76d06-19a9-43aa-b75d-0f7deb4f16c9"
      },
      "outputs": [
        {
          "output_type": "stream",
          "name": "stdout",
          "text": [
            "\u001b[1m631/631\u001b[0m \u001b[32m━━━━━━━━━━━━━━━━━━━━\u001b[0m\u001b[37m\u001b[0m \u001b[1m2s\u001b[0m 3ms/step - loss: 0.7967 - root_mean_squared_error: 0.8926\n"
          ]
        }
      ],
      "source": [
        "# Evaluate the model\n",
        "loss = model.evaluate([X_test['userIndex'], X_test['movieIndex']], y_test)"
      ]
    },
    {
      "cell_type": "markdown",
      "metadata": {
        "id": "1X6BAcXWcWz6"
      },
      "source": [
        "This model achieves an rmse of 0.8876. The predictions are off about 0.88 points."
      ]
    },
    {
      "cell_type": "markdown",
      "metadata": {
        "id": "PcZdehk7cWz6"
      },
      "source": [
        "## 8. Model Evaluation"
      ]
    },
    {
      "cell_type": "code",
      "execution_count": 51,
      "metadata": {
        "colab": {
          "base_uri": "https://localhost:8080/"
        },
        "id": "ODYUFrrscWz7",
        "outputId": "714c7a57-9637-460a-f72c-6105f708cbb8"
      },
      "outputs": [
        {
          "output_type": "stream",
          "name": "stdout",
          "text": [
            "RMSE: 0.8592\n"
          ]
        }
      ],
      "source": [
        "final_model = best_model\n",
        "\n",
        "# test final model on test set\n",
        "final_model_predictions = final_model.test(test_set)\n",
        "\n",
        "# rmse score for final model.\n",
        "# get rmse from test set\n",
        "rmse_final = accuracy.rmse(final_model_predictions)"
      ]
    },
    {
      "cell_type": "markdown",
      "metadata": {
        "id": "0UXmXBOHcWz7"
      },
      "source": [
        "The final model has an rmse of 0.8592 on the test set. This implies that the predictions are off by about 0.8 points on the test data."
      ]
    },
    {
      "cell_type": "markdown",
      "metadata": {
        "id": "6xEGQ-WWcWz7"
      },
      "source": [
        "### 8.1 Generate Recommendations"
      ]
    },
    {
      "cell_type": "code",
      "execution_count": 53,
      "metadata": {
        "colab": {
          "base_uri": "https://localhost:8080/"
        },
        "id": "FgtzhRM1cWz8",
        "outputId": "8e0a6b08-3a8a-4cc3-fd6d-1e9abb76aab4"
      },
      "outputs": [
        {
          "output_type": "stream",
          "name": "stdout",
          "text": [
            "Movie ID: 6, Title: Heat (1995), Predicted Rating: 5.00\n",
            "Movie ID: 16, Title: Casino (1995), Predicted Rating: 5.00\n",
            "Movie ID: 28, Title: Persuasion (1995), Predicted Rating: 5.00\n",
            "Movie ID: 50, Title: Usual Suspects, The (1995), Predicted Rating: 5.00\n",
            "Movie ID: 58, Title: Postman, The (Postino, Il) (1994), Predicted Rating: 5.00\n"
          ]
        }
      ],
      "source": [
        "# Get predicted ratings for all unrated movies for a user and return their titles\n",
        "def get_collaborative_recommendations(final_model, user_id, all_movie_ids, user_rated_movie_ids, df, n):\n",
        "    # Get unrated movies\n",
        "    unrated_movies = [movie_id for movie_id in all_movie_ids if movie_id not in user_rated_movie_ids]\n",
        "\n",
        "    # Predict ratings for the unrated movies\n",
        "    predictions = [final_model.predict(user_id, movie_id) for movie_id in unrated_movies]\n",
        "\n",
        "    # Sort the predictions by the estimated rating (descending)\n",
        "    top_predictions = sorted(predictions, key=lambda x: x.est, reverse=True)[:n]\n",
        "\n",
        "    # Return top N movie IDs and their predicted ratings along with titles\n",
        "    recommended_movies = []\n",
        "    for pred in top_predictions:\n",
        "        movie_title = df.loc[df['movieId'] == pred.iid, 'title'].values[0]\n",
        "        recommended_movies.append((pred.iid, movie_title, pred.est))  # movie ID, title, and estimated rating\n",
        "\n",
        "    return recommended_movies\n",
        "\n",
        "# Get all unique movie IDs\n",
        "all_movie_ids = movies_and_ratings['movieId'].unique()\n",
        "\n",
        "# Get movies rated by user 43\n",
        "user_rated_movie_ids = movies_and_ratings[movies_and_ratings['userId'] == 43]['movieId'].unique()\n",
        "\n",
        "# Get recommendations for user id = 43\n",
        "collaborative_recs = get_collaborative_recommendations(final_model, 43,\n",
        "    all_movie_ids,\n",
        "    user_rated_movie_ids,\n",
        "    movies_and_ratings,\n",
        "    n=5\n",
        ")\n",
        "\n",
        "# Display the collaborative recommendations\n",
        "for movie_id, title, rating in collaborative_recs:\n",
        "    print(f'Movie ID: {movie_id}, Title: {title}, Predicted Rating: {rating:.2f}')"
      ]
    },
    {
      "cell_type": "code",
      "execution_count": 54,
      "metadata": {
        "colab": {
          "base_uri": "https://localhost:8080/"
        },
        "id": "pQx5kiCUcWz8",
        "outputId": "80a4f45e-4afe-400b-b498-b71cbc22e71f"
      },
      "outputs": [
        {
          "output_type": "stream",
          "name": "stdout",
          "text": [
            "      movieId                     title\n",
            "1334       25  Leaving Las Vegas (1995)\n",
            "2937       73    Misérables, Les (1995)\n",
            "3192      100          City Hall (1996)\n",
            "5044      170            Hackers (1995)\n",
            "5213      177  Lord of Illusions (1995)\n"
          ]
        }
      ],
      "source": [
        "# Function to get top N similar movies based on genres for a given movie\n",
        "def get_similar_movies(movie_id, df, cosine_sim, user_rated_movie_ids, n):\n",
        "    movie_idx = movies_and_ratings[movies_and_ratings['movieId'] == movie_id].index[0]\n",
        "    sim_scores = list(enumerate(cosine_sim[movie_idx]))\n",
        "    sim_scores = sorted(sim_scores, key=lambda x: x[1], reverse=True)\n",
        "\n",
        "    # Get the similar movie indices while avoiding duplicates\n",
        "    similar_movie_indices = []\n",
        "    for i in sim_scores[1:]:  # Start from 1 to avoid the original movie\n",
        "        if len(similar_movie_indices) < n:\n",
        "            if movies_and_ratings.iloc[i[0]]['movieId'] not in user_rated_movie_ids:\n",
        "                similar_movie_indices.append(i[0])\n",
        "\n",
        "    # Return the movie IDs and titles of the similar movies\n",
        "    similar_movies = movies_and_ratings.iloc[similar_movie_indices][['movieId', 'title']]\n",
        "    return similar_movies\n",
        "\n",
        "# Usage\n",
        "user_rated_movie_ids = movies_and_ratings[movies_and_ratings['userId'] == 1]['movieId'].unique()\n",
        "recommendations = get_similar_movies(100, movies_and_ratings, cosine_sim, user_rated_movie_ids, n=5)\n",
        "print(recommendations)"
      ]
    },
    {
      "cell_type": "code",
      "execution_count": 61,
      "metadata": {
        "id": "vSBoSFtjcWz9"
      },
      "outputs": [],
      "source": [
        "# helper function to map movie IDs to valid indices in cosine_sim matrix\n",
        "def get_valid_movie_idx(movie_id, valid_movie_ids):\n",
        "    try:\n",
        "        return valid_movie_ids.index(movie_id)  # Find the index of movie_id in valid_movie_ids\n",
        "    except ValueError:\n",
        "        return None  # Return None if movie_id is not in valid_movie_ids"
      ]
    },
    {
      "cell_type": "code",
      "source": [
        "# Modifies get_similar_movies function to ensure valid movie_idx\n",
        "def get_similar_movies(movie_id, df, cosine_sim, valid_movie_ids, n=5):\n",
        "    movie_idx = get_valid_movie_idx(movie_id, valid_movie_ids)\n",
        "\n",
        "    if movie_idx is not None and movie_idx < len(cosine_sim):  # Check if the index is valid\n",
        "        sim_scores = list(enumerate(cosine_sim[movie_idx]))\n",
        "        sim_scores = sorted(sim_scores, key=lambda x: x[1], reverse=True)\n",
        "        similar_movies = [df.iloc[i[0]] for i in sim_scores[1:n+1]]  # Skip the first entry (self-similarity)\n",
        "        return pd.DataFrame(similar_movies)\n",
        "    else:\n",
        "        return pd.DataFrame()  # Return an empty df if movie_idx is invalid"
      ],
      "metadata": {
        "id": "LRlaBdFPn_x2"
      },
      "execution_count": 62,
      "outputs": []
    },
    {
      "cell_type": "code",
      "source": [
        "# Combine Collaborative Filtering and Content-Based Filtering\n",
        "def hybrid_recommendation(user_id, n_recommendations=10):\n",
        "    # Get list of all movies and movies user has already rated\n",
        "    all_movie_ids = movies_and_ratings['movieId'].unique()\n",
        "    user_rated_movie_ids = movies_and_ratings[movies_and_ratings['userId'] == user_id]['movieId'].unique()\n",
        "\n",
        "    # Filter valid movie IDs (within the bounds of the cosine_sim matrix)\n",
        "    valid_movie_ids = list(all_movie_ids[:10000])  # Limit to the first 10,000 movie IDs\n",
        "\n",
        "    # Collaborative filtering recommendations (CF)\n",
        "    collaborative_recs = get_collaborative_recommendations(final_model, user_id, all_movie_ids, user_rated_movie_ids, movies_and_ratings, n=n_recommendations)\n",
        "\n",
        "    # Filter the collaborative recommendations to include only movie IDs within the first 10,000\n",
        "    collaborative_recs = [(movie_id, movie_title, predicted_rating) for movie_id, movie_title, predicted_rating in collaborative_recs if movie_id in valid_movie_ids]\n",
        "\n",
        "    # Create a dictionary to hold hybrid recommendations (weighing CF and CBF)\n",
        "    hybrid_recs = {}\n",
        "\n",
        "    # For each movie recommended by CF, boost its score if it's also recommended by CBF\n",
        "    for movie_id, movie_title, predicted_rating in collaborative_recs:\n",
        "        # Ensure only movies in the first 10,000 are used in content-based filtering (CBF)\n",
        "        if movie_id in valid_movie_ids:\n",
        "            similar_movies = get_similar_movies(movie_id, movies_and_ratings, cosine_sim, valid_movie_ids, n=5)\n",
        "\n",
        "            # Boost score for movies similar to those recommended by collaborative filtering\n",
        "            for _, similar_movie in similar_movies.iterrows():\n",
        "                similar_movie_id = similar_movie['movieId']\n",
        "                if similar_movie_id in valid_movie_ids:  # Filter similar movies to be within the valid movie IDs\n",
        "                    if similar_movie_id in hybrid_recs:\n",
        "                        hybrid_recs[similar_movie_id] += predicted_rating * 0.5  # Combine scores (weighted)\n",
        "                    else:\n",
        "                        hybrid_recs[similar_movie_id] = predicted_rating * 0.5\n",
        "\n",
        "    # Combine the collaborative recommendations and content-based similarity\n",
        "    for movie_id, _, predicted_rating in collaborative_recs:\n",
        "        if movie_id in hybrid_recs:\n",
        "            hybrid_recs[movie_id] += predicted_rating * 1.5  # Gives more weight to collaborative filtering\n",
        "        else:\n",
        "            hybrid_recs[movie_id] = predicted_rating * 1.5\n",
        "\n",
        "    # Sort by the combined scores\n",
        "    hybrid_recs = sorted(hybrid_recs.items(), key=lambda x: x[1], reverse=True)\n",
        "\n",
        "    # Get top N recommendations and ensure no duplicates\n",
        "    top_movie_ids = list(dict.fromkeys([movie_id for movie_id, _ in hybrid_recs[:n_recommendations]]))  # Remove duplicates\n",
        "\n",
        "    # Return the top N movie titles dropping duplicates\n",
        "    return movies_and_ratings[movies_and_ratings['movieId'].isin(top_movie_ids)].drop_duplicates('movieId')"
      ],
      "metadata": {
        "id": "Od8tzRbYoR3n"
      },
      "execution_count": 63,
      "outputs": []
    },
    {
      "cell_type": "code",
      "source": [
        "# Usage: Get top 10 hybrid recommendations for user 1\n",
        "recommendations = hybrid_recommendation(user_id=1, n_recommendations=10)\n",
        "\n",
        "# Display recommendations\n",
        "print(recommendations[['title', 'genres']])"
      ],
      "metadata": {
        "id": "FHRuNbktosWs",
        "outputId": "2b91e2ff-1923-436f-a156-64a59f5462c6",
        "colab": {
          "base_uri": "https://localhost:8080/"
        }
      },
      "execution_count": 64,
      "outputs": [
        {
          "output_type": "stream",
          "name": "stdout",
          "text": [
            "                                                   title  \\\n",
            "0                                       Toy Story (1995)   \n",
            "215                                       Jumanji (1995)   \n",
            "325                              Grumpier Old Men (1995)   \n",
            "8652                    Shawshank Redemption, The (1994)   \n",
            "18537  Dr. Strangelove or: How I Learned to Stop Worr...   \n",
            "20329                                 Rear Window (1954)   \n",
            "20976      Sunset Blvd. (a.k.a. Sunset Boulevard) (1950)   \n",
            "23756                   Streetcar Named Desire, A (1951)   \n",
            "25196                                      Brazil (1985)   \n",
            "25517                          Lawrence of Arabia (1962)   \n",
            "\n",
            "                                            genres  \n",
            "0      Adventure Animation Children Comedy Fantasy  \n",
            "215                     Adventure Children Fantasy  \n",
            "325                                 Comedy Romance  \n",
            "8652                                   Crime Drama  \n",
            "18537                                   Comedy War  \n",
            "20329                             Mystery Thriller  \n",
            "20976                      Drama Film-Noir Romance  \n",
            "23756                                        Drama  \n",
            "25196                               Fantasy Sci-Fi  \n",
            "25517                          Adventure Drama War  \n"
          ]
        }
      ]
    },
    {
      "cell_type": "markdown",
      "metadata": {
        "id": "2j6VpvgycWz-"
      },
      "source": [
        "## 9. Conclusions"
      ]
    },
    {
      "cell_type": "markdown",
      "metadata": {
        "id": "oGVv7T8HcW0A"
      },
      "source": [
        "1. Our final model achieved a Root Mean Squared Error (RMSE) of 0.8717 on test data. This implies that the predicted ratings were off by less than one point, on average. This is considered good performance although there's room for improvement.\n"
      ]
    },
    {
      "cell_type": "markdown",
      "metadata": {
        "id": "MSIM_YEMcW0A"
      },
      "source": [
        "## 10. Recommendations"
      ]
    },
    {
      "cell_type": "markdown",
      "metadata": {
        "id": "_9hJ2vmWcW0B"
      },
      "source": [
        "1. Address Overfitting: Although dropout layers and early stopping were implemented, the model still showed signs of overfitting. Future work could explore further regularization techniques, such as weight decay or using a simpler model architecture, to generalize better to unseen data.\n",
        "2. Incorporate additional features such as gender, geographical location, movie director information, actors and so much more to improve model predictions and provide a more personalized recemmendation system."
      ]
    }
  ],
  "metadata": {
    "kernelspec": {
      "display_name": "Python (learn-env)",
      "language": "python",
      "name": "learn-env"
    },
    "language_info": {
      "codemirror_mode": {
        "name": "ipython",
        "version": 3
      },
      "file_extension": ".py",
      "mimetype": "text/x-python",
      "name": "python",
      "nbconvert_exporter": "python",
      "pygments_lexer": "ipython3",
      "version": "3.11.9"
    },
    "colab": {
      "provenance": [],
      "include_colab_link": true
    }
  },
  "nbformat": 4,
  "nbformat_minor": 0
}