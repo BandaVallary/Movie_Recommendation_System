{
<<<<<<< HEAD
 "cells": [
  {
   "cell_type": "markdown",
   "metadata": {},
   "source": [
    "#  Movie Recommendation System"
   ]
  },
  {
   "cell_type": "markdown",
   "metadata": {},
   "source": [
    "![Alt text](images/movie_img.jpeg)"
   ]
  },
  {
   "cell_type": "markdown",
   "metadata": {},
   "source": [
    "## Summary"
   ]
  },
  {
   "cell_type": "markdown",
   "metadata": {},
   "source": [
    "In this project, we utilized a dataset from MovieLens, which includes user ratings formovies along with movie metadata (such as titles, genres, and tags). The dataset contains 100,836 user ratings, created by 610 users, with an average of around 3.5 out of 5, indicating a generally positive user response. This data is well suited for developing a recommendation system as it encompasses both collaborative filtering (user-item interactions) and content-based filtering(movie features).\n",
    "\n",
    "Data preparation involved checking and handling missing values and duplicates and formatting data for anlaysis. We employed **Pandas** for data manipulation, **Scikit-Learn** & **Keras** for preprocessing, and **Seaborn** and **Matplotlib** for data visualization.\n",
    "\n",
    "For modelling, we used **Surprise** for collaborative filtering. We explored various similarity metrics and models in the Surprise library. Moreover, we used **Tensorflow** & **Keras** to build a neural network that included embedding layers for user and movie indices and fully connected layers to capture interactions. We implemented techniques like early stopping and dropout to mitigate overfitting and fine-tuned the learning rate.\n",
    "\n",
    "For model validation, we used cross validation with the **cross_validate()** function to validate data across different folds.\n",
    "\n",
    "The model was evaluated using the **Root Mean Squared Error (RMSE)** metric, with the final model achieving an RMSE of 0.869, suggesting that predicted ratings were off by 0.869 points. A train\n",
    "-test split of 80% training and 20% testing was used tovalidate the model's performance. Overall the hybrid recommendation system effectively delivers personalized movie suggestions."
   ]
  },
  {
   "cell_type": "markdown",
   "metadata": {},
   "source": [
    "## 1. Overview"
   ]
  },
  {
   "cell_type": "markdown",
   "metadata": {},
   "source": [
    "This project aims to develop a recommendation system that provides personalized movie recommendations based on user ratings. Utilizing the [MovieLens dataset](https://web.archive.org/web/20240828133414/https://grouplens.org/datasets/movielens/latest/) from the GroupLens research lab at the University of Minnesota, the model will be trained on a subset of the dataset containing 100,000 user ratings. \n",
    "\n",
    "This system can be valuable for streaming platforms and movie enthusiasts, offering tailored movie suggestions to enhance user experience and engagement.The project will involve several steps, including data cleaning, exploratory data analysis, feature engineering, model selection, and evaluation. \n",
    "\n",
    "Throughout this project, we will also explore the relationships between different variables and their impact on movie recommendations. This will help us gain insights into user preferences and identify potential areas for improvement. Overall, this project has the potential to provide valuable insights and practical applications for the entertainment industry. By developing a recommendation system that can accurately suggest movies, streaming platforms can better engage their users, improve customer satisfaction, and increase viewership."
   ]
  },
  {
   "cell_type": "markdown",
   "metadata": {},
   "source": [
    "## 2. Business Understanding"
   ]
  },
  {
   "cell_type": "markdown",
   "metadata": {},
   "source": [
    "The entertainment industry, particularly streaming platforms, is highly competitive, with companies constantly striving to enhance user engagement and satisfaction. One of the major challenges faced by these platforms is providing personalized content recommendations that keep users engaged and reduce churn rates.\n",
    "\n",
    "According to recent studies, personalized recommendations can significantly increase user engagement and satisfaction, leading to higher retention rates and increased viewership. This highlights the need for a robust recommendation system that can accurately suggest movies based on user preferences. By building a recommendation system that can provide top 5 movie recommendations to users based on their ratings of other movies, streaming platforms can offer a more tailored viewing experience.\n",
    "\n",
    "The business value of this project lies in its ability to help streaming platforms improve their content recommendation strategies, increase user satisfaction, and reduce churn rates. By developing a recommendation system that can accurately suggest movies, platforms can better engage their users, leading to increased viewership and subscription renewals. This can provide a competitive edge in the highly competitive entertainment industry, ultimately driving revenue growth and customer loyalty.\n",
    "\n",
    "#### Objective/ Business Problem:\n",
    "> ***Build a model that provides top 5 movie recommendations to a user, based on their ratings of other movies.***"
   ]
  },
  {
   "cell_type": "markdown",
   "metadata": {},
   "source": [
    "## 3. Data Understanding"
   ]
  },
  {
   "cell_type": "markdown",
   "metadata": {},
   "source": [
    "The data used in this repository can be found [here](https://files.grouplens.org/datasets/movielens/ml-latest-small.zip) . It is the MovieLens dataset from the GroupLens research lab at the University of Minnesota and it contains 100,000 user ratings. \n",
    "\n",
    "The data is contained in the following files:\n",
    "1. `movies.csv` - contains information about movies. Each record represents a movie. It has the following columns:\n",
    "   \n",
    "> - `movieId` - movie unique identifier.\n",
    "> - `title` - name of the movie and includes the year of release in parentheses\n",
    "> - `genres` - category under which a movie falls.\n",
    "\n",
    "2. `ratings.csv` - contains rating information. Each record represents one rating by one user for one movie. It has the following features:\n",
    "    \n",
    "> - `userId` - unique identifier for a user.\n",
    "> - `movieId` - movie unique identifier.\n",
    "> - `rating` - rating given by a user for a particular movie on a scale of 1 to 5\n",
    "> - `timestamp` - represent seconds since midnight Coordinated Universal Time (UTC) of January 1, 1970.\n",
    "\n",
    "3. `tags.csv` - Each row represents one tag applied to one movie by one user, and has the following features:\n",
    "\n",
    "> - `userId` - unique identifier for a user.\n",
    "> - `movieId` - movie unique identifier.\n",
    "> - `tag` - one word user-generated metadata about movies e.g. funny, sad etc\n",
    "> - `timestamp` - represent seconds since midnight Coordinated Universal Time (UTC) of January 1, 1970.\n",
    "\n",
    "`movieId` are consistent between `ratings.csv`, `tags.csv`, `movies.csv`, and `links.csv`. \n",
    "\n",
    "`userId` are consistent between `ratings.csv` and `tags.csv`."
   ]
  },
  {
   "cell_type": "markdown",
   "metadata": {},
   "source": [
    "## 4. Data Preparation and Cleaning\n"
   ]
  },
  {
   "cell_type": "markdown",
   "metadata": {},
   "source": [
    "\n",
    "In this section, we are going to the following:\n",
    "1. import the necessary libraries\n",
    "2. Preview data and ensure they are of correct datatypes\n",
    "3. load our datasets and merge them to have a final unified dataset\n",
    "4. Check for missing values & handle them\n",
    "5. Check for duplicates & handle them\n",
    "   "
   ]
  },
  {
   "cell_type": "code",
   "execution_count": 1,
   "metadata": {},
   "outputs": [],
   "source": [
    "# import necessary libraries\n",
    "import pandas as pd\n",
    "import numpy as np\n",
    "import matplotlib.pyplot as plt\n",
    "import seaborn as sns\n",
    "\n",
    "from sklearn.model_selection import train_test_split\n",
    "from sklearn.metrics.pairwise import cosine_similarity\n",
    "from sklearn.feature_extraction.text import TfidfVectorizer\n",
    "\n",
    "from tensorflow.keras.layers import Input, Dense, Dropout, Embedding, Flatten, Dot, Concatenate\n",
    "from keras.models import Model\n",
    "from keras.optimizers import Adam\n",
    "from tensorflow.keras.metrics import RootMeanSquaredError\n",
    "from keras.callbacks import EarlyStopping\n",
    "\n",
    "\n",
    "from surprise import Dataset, Reader, SVD\n",
    "from surprise.model_selection import train_test_split, cross_validate, GridSearchCV\n",
    "from surprise.accuracy import rmse\n",
    "from surprise import accuracy\n",
    "from surprise.prediction_algorithms import KNNWithMeans, KNNBasic, KNNBaseline\n",
    "from surprise.similarities import cosine, msd, pearson\n",
    "\n"
   ]
  },
  {
   "cell_type": "code",
   "execution_count": 2,
   "metadata": {},
   "outputs": [
    {
     "data": {
      "text/html": [
       "<div>\n",
       "<style scoped>\n",
       "    .dataframe tbody tr th:only-of-type {\n",
       "        vertical-align: middle;\n",
       "    }\n",
       "\n",
       "    .dataframe tbody tr th {\n",
       "        vertical-align: top;\n",
       "    }\n",
       "\n",
       "    .dataframe thead th {\n",
       "        text-align: right;\n",
       "    }\n",
       "</style>\n",
       "<table border=\"1\" class=\"dataframe\">\n",
       "  <thead>\n",
       "    <tr style=\"text-align: right;\">\n",
       "      <th></th>\n",
       "      <th>movieId</th>\n",
       "      <th>title</th>\n",
       "      <th>genres</th>\n",
       "    </tr>\n",
       "  </thead>\n",
       "  <tbody>\n",
       "    <tr>\n",
       "      <th>0</th>\n",
       "      <td>1</td>\n",
       "      <td>Toy Story (1995)</td>\n",
       "      <td>Adventure|Animation|Children|Comedy|Fantasy</td>\n",
       "    </tr>\n",
       "    <tr>\n",
       "      <th>1</th>\n",
       "      <td>2</td>\n",
       "      <td>Jumanji (1995)</td>\n",
       "      <td>Adventure|Children|Fantasy</td>\n",
       "    </tr>\n",
       "    <tr>\n",
       "      <th>2</th>\n",
       "      <td>3</td>\n",
       "      <td>Grumpier Old Men (1995)</td>\n",
       "      <td>Comedy|Romance</td>\n",
       "    </tr>\n",
       "    <tr>\n",
       "      <th>3</th>\n",
       "      <td>4</td>\n",
       "      <td>Waiting to Exhale (1995)</td>\n",
       "      <td>Comedy|Drama|Romance</td>\n",
       "    </tr>\n",
       "    <tr>\n",
       "      <th>4</th>\n",
       "      <td>5</td>\n",
       "      <td>Father of the Bride Part II (1995)</td>\n",
       "      <td>Comedy</td>\n",
       "    </tr>\n",
       "  </tbody>\n",
       "</table>\n",
       "</div>"
      ],
      "text/plain": [
       "   movieId                               title  \\\n",
       "0        1                    Toy Story (1995)   \n",
       "1        2                      Jumanji (1995)   \n",
       "2        3             Grumpier Old Men (1995)   \n",
       "3        4            Waiting to Exhale (1995)   \n",
       "4        5  Father of the Bride Part II (1995)   \n",
       "\n",
       "                                        genres  \n",
       "0  Adventure|Animation|Children|Comedy|Fantasy  \n",
       "1                   Adventure|Children|Fantasy  \n",
       "2                               Comedy|Romance  \n",
       "3                         Comedy|Drama|Romance  \n",
       "4                                       Comedy  "
      ]
     },
     "execution_count": 2,
     "metadata": {},
     "output_type": "execute_result"
    }
   ],
   "source": [
    "# load movie data \n",
    "movie_data = pd.read_csv('data/movies.csv')\n",
    "movie_data.head()"
   ]
  },
  {
   "cell_type": "code",
   "execution_count": 3,
   "metadata": {},
   "outputs": [
    {
     "data": {
      "text/html": [
       "<div>\n",
       "<style scoped>\n",
       "    .dataframe tbody tr th:only-of-type {\n",
       "        vertical-align: middle;\n",
       "    }\n",
       "\n",
       "    .dataframe tbody tr th {\n",
       "        vertical-align: top;\n",
       "    }\n",
       "\n",
       "    .dataframe thead th {\n",
       "        text-align: right;\n",
       "    }\n",
       "</style>\n",
       "<table border=\"1\" class=\"dataframe\">\n",
       "  <thead>\n",
       "    <tr style=\"text-align: right;\">\n",
       "      <th></th>\n",
       "      <th>userId</th>\n",
       "      <th>movieId</th>\n",
       "      <th>rating</th>\n",
       "      <th>timestamp</th>\n",
       "    </tr>\n",
       "  </thead>\n",
       "  <tbody>\n",
       "    <tr>\n",
       "      <th>0</th>\n",
       "      <td>1</td>\n",
       "      <td>1</td>\n",
       "      <td>4.0</td>\n",
       "      <td>964982703</td>\n",
       "    </tr>\n",
       "    <tr>\n",
       "      <th>1</th>\n",
       "      <td>1</td>\n",
       "      <td>3</td>\n",
       "      <td>4.0</td>\n",
       "      <td>964981247</td>\n",
       "    </tr>\n",
       "    <tr>\n",
       "      <th>2</th>\n",
       "      <td>1</td>\n",
       "      <td>6</td>\n",
       "      <td>4.0</td>\n",
       "      <td>964982224</td>\n",
       "    </tr>\n",
       "    <tr>\n",
       "      <th>3</th>\n",
       "      <td>1</td>\n",
       "      <td>47</td>\n",
       "      <td>5.0</td>\n",
       "      <td>964983815</td>\n",
       "    </tr>\n",
       "    <tr>\n",
       "      <th>4</th>\n",
       "      <td>1</td>\n",
       "      <td>50</td>\n",
       "      <td>5.0</td>\n",
       "      <td>964982931</td>\n",
       "    </tr>\n",
       "  </tbody>\n",
       "</table>\n",
       "</div>"
      ],
      "text/plain": [
       "   userId  movieId  rating  timestamp\n",
       "0       1        1     4.0  964982703\n",
       "1       1        3     4.0  964981247\n",
       "2       1        6     4.0  964982224\n",
       "3       1       47     5.0  964983815\n",
       "4       1       50     5.0  964982931"
      ]
     },
     "execution_count": 3,
     "metadata": {},
     "output_type": "execute_result"
    }
   ],
   "source": [
    "# load ratings data\n",
    "ratings = pd.read_csv('data/ratings.csv')\n",
    "ratings.head()"
   ]
  },
  {
   "cell_type": "code",
   "execution_count": 4,
   "metadata": {},
   "outputs": [],
   "source": [
    "# \n",
    "tags = pd.read_csv('data/tags.csv')\n",
    "links = pd.read_csv('data/links.csv')"
   ]
  },
  {
   "cell_type": "markdown",
   "metadata": {},
   "source": [
    "Below, we merge our `movies.csv` and `ratings.csv` datasets. We do an `inner join` because we only want the rated movies as the recommendation system is based on the ratings provided by users and therefore,if a movie has no ratings it does not contribute to the recommendation process."
   ]
  },
  {
   "cell_type": "code",
   "execution_count": 5,
   "metadata": {},
   "outputs": [
    {
     "data": {
      "text/html": [
       "<div>\n",
       "<style scoped>\n",
       "    .dataframe tbody tr th:only-of-type {\n",
       "        vertical-align: middle;\n",
       "    }\n",
       "\n",
       "    .dataframe tbody tr th {\n",
       "        vertical-align: top;\n",
       "    }\n",
       "\n",
       "    .dataframe thead th {\n",
       "        text-align: right;\n",
       "    }\n",
       "</style>\n",
       "<table border=\"1\" class=\"dataframe\">\n",
       "  <thead>\n",
       "    <tr style=\"text-align: right;\">\n",
       "      <th></th>\n",
       "      <th>movieId</th>\n",
       "      <th>title</th>\n",
       "      <th>genres</th>\n",
       "      <th>userId</th>\n",
       "      <th>rating</th>\n",
       "      <th>timestamp</th>\n",
       "    </tr>\n",
       "  </thead>\n",
       "  <tbody>\n",
       "    <tr>\n",
       "      <th>0</th>\n",
       "      <td>1</td>\n",
       "      <td>Toy Story (1995)</td>\n",
       "      <td>Adventure|Animation|Children|Comedy|Fantasy</td>\n",
       "      <td>1</td>\n",
       "      <td>4.0</td>\n",
       "      <td>964982703</td>\n",
       "    </tr>\n",
       "    <tr>\n",
       "      <th>1</th>\n",
       "      <td>1</td>\n",
       "      <td>Toy Story (1995)</td>\n",
       "      <td>Adventure|Animation|Children|Comedy|Fantasy</td>\n",
       "      <td>5</td>\n",
       "      <td>4.0</td>\n",
       "      <td>847434962</td>\n",
       "    </tr>\n",
       "    <tr>\n",
       "      <th>2</th>\n",
       "      <td>1</td>\n",
       "      <td>Toy Story (1995)</td>\n",
       "      <td>Adventure|Animation|Children|Comedy|Fantasy</td>\n",
       "      <td>7</td>\n",
       "      <td>4.5</td>\n",
       "      <td>1106635946</td>\n",
       "    </tr>\n",
       "    <tr>\n",
       "      <th>3</th>\n",
       "      <td>1</td>\n",
       "      <td>Toy Story (1995)</td>\n",
       "      <td>Adventure|Animation|Children|Comedy|Fantasy</td>\n",
       "      <td>15</td>\n",
       "      <td>2.5</td>\n",
       "      <td>1510577970</td>\n",
       "    </tr>\n",
       "    <tr>\n",
       "      <th>4</th>\n",
       "      <td>1</td>\n",
       "      <td>Toy Story (1995)</td>\n",
       "      <td>Adventure|Animation|Children|Comedy|Fantasy</td>\n",
       "      <td>17</td>\n",
       "      <td>4.5</td>\n",
       "      <td>1305696483</td>\n",
       "    </tr>\n",
       "    <tr>\n",
       "      <th>...</th>\n",
       "      <td>...</td>\n",
       "      <td>...</td>\n",
       "      <td>...</td>\n",
       "      <td>...</td>\n",
       "      <td>...</td>\n",
       "      <td>...</td>\n",
       "    </tr>\n",
       "    <tr>\n",
       "      <th>100831</th>\n",
       "      <td>193581</td>\n",
       "      <td>Black Butler: Book of the Atlantic (2017)</td>\n",
       "      <td>Action|Animation|Comedy|Fantasy</td>\n",
       "      <td>184</td>\n",
       "      <td>4.0</td>\n",
       "      <td>1537109082</td>\n",
       "    </tr>\n",
       "    <tr>\n",
       "      <th>100832</th>\n",
       "      <td>193583</td>\n",
       "      <td>No Game No Life: Zero (2017)</td>\n",
       "      <td>Animation|Comedy|Fantasy</td>\n",
       "      <td>184</td>\n",
       "      <td>3.5</td>\n",
       "      <td>1537109545</td>\n",
       "    </tr>\n",
       "    <tr>\n",
       "      <th>100833</th>\n",
       "      <td>193585</td>\n",
       "      <td>Flint (2017)</td>\n",
       "      <td>Drama</td>\n",
       "      <td>184</td>\n",
       "      <td>3.5</td>\n",
       "      <td>1537109805</td>\n",
       "    </tr>\n",
       "    <tr>\n",
       "      <th>100834</th>\n",
       "      <td>193587</td>\n",
       "      <td>Bungo Stray Dogs: Dead Apple (2018)</td>\n",
       "      <td>Action|Animation</td>\n",
       "      <td>184</td>\n",
       "      <td>3.5</td>\n",
       "      <td>1537110021</td>\n",
       "    </tr>\n",
       "    <tr>\n",
       "      <th>100835</th>\n",
       "      <td>193609</td>\n",
       "      <td>Andrew Dice Clay: Dice Rules (1991)</td>\n",
       "      <td>Comedy</td>\n",
       "      <td>331</td>\n",
       "      <td>4.0</td>\n",
       "      <td>1537157606</td>\n",
       "    </tr>\n",
       "  </tbody>\n",
       "</table>\n",
       "<p>100836 rows × 6 columns</p>\n",
       "</div>"
      ],
      "text/plain": [
       "        movieId                                      title  \\\n",
       "0             1                           Toy Story (1995)   \n",
       "1             1                           Toy Story (1995)   \n",
       "2             1                           Toy Story (1995)   \n",
       "3             1                           Toy Story (1995)   \n",
       "4             1                           Toy Story (1995)   \n",
       "...         ...                                        ...   \n",
       "100831   193581  Black Butler: Book of the Atlantic (2017)   \n",
       "100832   193583               No Game No Life: Zero (2017)   \n",
       "100833   193585                               Flint (2017)   \n",
       "100834   193587        Bungo Stray Dogs: Dead Apple (2018)   \n",
       "100835   193609        Andrew Dice Clay: Dice Rules (1991)   \n",
       "\n",
       "                                             genres  userId  rating  \\\n",
       "0       Adventure|Animation|Children|Comedy|Fantasy       1     4.0   \n",
       "1       Adventure|Animation|Children|Comedy|Fantasy       5     4.0   \n",
       "2       Adventure|Animation|Children|Comedy|Fantasy       7     4.5   \n",
       "3       Adventure|Animation|Children|Comedy|Fantasy      15     2.5   \n",
       "4       Adventure|Animation|Children|Comedy|Fantasy      17     4.5   \n",
       "...                                             ...     ...     ...   \n",
       "100831              Action|Animation|Comedy|Fantasy     184     4.0   \n",
       "100832                     Animation|Comedy|Fantasy     184     3.5   \n",
       "100833                                        Drama     184     3.5   \n",
       "100834                             Action|Animation     184     3.5   \n",
       "100835                                       Comedy     331     4.0   \n",
       "\n",
       "         timestamp  \n",
       "0        964982703  \n",
       "1        847434962  \n",
       "2       1106635946  \n",
       "3       1510577970  \n",
       "4       1305696483  \n",
       "...            ...  \n",
       "100831  1537109082  \n",
       "100832  1537109545  \n",
       "100833  1537109805  \n",
       "100834  1537110021  \n",
       "100835  1537157606  \n",
       "\n",
       "[100836 rows x 6 columns]"
      ]
     },
     "execution_count": 5,
     "metadata": {},
     "output_type": "execute_result"
    }
   ],
   "source": [
    "# merge datasets \n",
    "movies_and_ratings = pd.merge(movie_data, ratings, on = 'movieId')\n",
    "movies_and_ratings"
   ]
  },
  {
   "cell_type": "code",
   "execution_count": 6,
   "metadata": {},
   "outputs": [
    {
     "name": "stdout",
     "output_type": "stream",
     "text": [
      "<class 'pandas.core.frame.DataFrame'>\n",
      "RangeIndex: 100836 entries, 0 to 100835\n",
      "Data columns (total 6 columns):\n",
      " #   Column     Non-Null Count   Dtype  \n",
      "---  ------     --------------   -----  \n",
      " 0   movieId    100836 non-null  int64  \n",
      " 1   title      100836 non-null  object \n",
      " 2   genres     100836 non-null  object \n",
      " 3   userId     100836 non-null  int64  \n",
      " 4   rating     100836 non-null  float64\n",
      " 5   timestamp  100836 non-null  int64  \n",
      "dtypes: float64(1), int64(3), object(2)\n",
      "memory usage: 4.6+ MB\n"
     ]
    }
   ],
   "source": [
    "# get preview of data\n",
    "movies_and_ratings.info()"
   ]
  },
  {
   "cell_type": "markdown",
   "metadata": {},
   "source": [
    "Our dataset columns have the correct types, hence no need for type casting."
   ]
  },
  {
   "cell_type": "code",
   "execution_count": 7,
   "metadata": {},
   "outputs": [
    {
     "data": {
      "text/plain": [
       "movieId      0\n",
       "title        0\n",
       "genres       0\n",
       "userId       0\n",
       "rating       0\n",
       "timestamp    0\n",
       "dtype: int64"
      ]
     },
     "execution_count": 7,
     "metadata": {},
     "output_type": "execute_result"
    }
   ],
   "source": [
    "# check for missing values\n",
    "movies_and_ratings.isna().sum()"
   ]
  },
  {
   "cell_type": "code",
   "execution_count": 8,
   "metadata": {},
   "outputs": [
    {
     "data": {
      "text/plain": [
       "0"
      ]
     },
     "execution_count": 8,
     "metadata": {},
     "output_type": "execute_result"
    }
   ],
   "source": [
    "# check for duplicates\n",
    "movies_and_ratings.duplicated().sum()"
   ]
  },
  {
   "cell_type": "code",
   "execution_count": 9,
   "metadata": {},
   "outputs": [
    {
     "data": {
      "text/plain": [
       "movieId      0\n",
       "title        0\n",
       "genres       0\n",
       "userId       0\n",
       "rating       0\n",
       "timestamp    0\n",
       "dtype: int64"
      ]
     },
     "execution_count": 9,
     "metadata": {},
     "output_type": "execute_result"
    }
   ],
   "source": [
    "movies_and_ratings.isna().sum()"
   ]
  },
  {
   "cell_type": "code",
   "execution_count": 10,
   "metadata": {},
   "outputs": [],
   "source": [
    "# dropmissing values\n",
    "movies_and_ratings = movies_and_ratings.dropna(subset = ['userId'])"
   ]
  },
  {
   "cell_type": "code",
   "execution_count": 11,
   "metadata": {},
   "outputs": [],
   "source": [
    "# drop unneccesary columns\n",
    "# drop unnecessary columns\n",
    "movies_and_ratings = movies_and_ratings.drop(['timestamp'], axis=1)"
   ]
  },
  {
   "cell_type": "code",
   "execution_count": 12,
   "metadata": {},
   "outputs": [
    {
     "data": {
      "text/html": [
       "<div>\n",
       "<style scoped>\n",
       "    .dataframe tbody tr th:only-of-type {\n",
       "        vertical-align: middle;\n",
       "    }\n",
       "\n",
       "    .dataframe tbody tr th {\n",
       "        vertical-align: top;\n",
       "    }\n",
       "\n",
       "    .dataframe thead th {\n",
       "        text-align: right;\n",
       "    }\n",
       "</style>\n",
       "<table border=\"1\" class=\"dataframe\">\n",
       "  <thead>\n",
       "    <tr style=\"text-align: right;\">\n",
       "      <th></th>\n",
       "      <th>movieId</th>\n",
       "      <th>userId</th>\n",
       "      <th>rating</th>\n",
       "    </tr>\n",
       "  </thead>\n",
       "  <tbody>\n",
       "    <tr>\n",
       "      <th>count</th>\n",
       "      <td>100836.000000</td>\n",
       "      <td>100836.000000</td>\n",
       "      <td>100836.000000</td>\n",
       "    </tr>\n",
       "    <tr>\n",
       "      <th>mean</th>\n",
       "      <td>19435.295718</td>\n",
       "      <td>326.127564</td>\n",
       "      <td>3.501557</td>\n",
       "    </tr>\n",
       "    <tr>\n",
       "      <th>std</th>\n",
       "      <td>35530.987199</td>\n",
       "      <td>182.618491</td>\n",
       "      <td>1.042529</td>\n",
       "    </tr>\n",
       "    <tr>\n",
       "      <th>min</th>\n",
       "      <td>1.000000</td>\n",
       "      <td>1.000000</td>\n",
       "      <td>0.500000</td>\n",
       "    </tr>\n",
       "    <tr>\n",
       "      <th>25%</th>\n",
       "      <td>1199.000000</td>\n",
       "      <td>177.000000</td>\n",
       "      <td>3.000000</td>\n",
       "    </tr>\n",
       "    <tr>\n",
       "      <th>50%</th>\n",
       "      <td>2991.000000</td>\n",
       "      <td>325.000000</td>\n",
       "      <td>3.500000</td>\n",
       "    </tr>\n",
       "    <tr>\n",
       "      <th>75%</th>\n",
       "      <td>8122.000000</td>\n",
       "      <td>477.000000</td>\n",
       "      <td>4.000000</td>\n",
       "    </tr>\n",
       "    <tr>\n",
       "      <th>max</th>\n",
       "      <td>193609.000000</td>\n",
       "      <td>610.000000</td>\n",
       "      <td>5.000000</td>\n",
       "    </tr>\n",
       "  </tbody>\n",
       "</table>\n",
       "</div>"
      ],
      "text/plain": [
       "             movieId         userId         rating\n",
       "count  100836.000000  100836.000000  100836.000000\n",
       "mean    19435.295718     326.127564       3.501557\n",
       "std     35530.987199     182.618491       1.042529\n",
       "min         1.000000       1.000000       0.500000\n",
       "25%      1199.000000     177.000000       3.000000\n",
       "50%      2991.000000     325.000000       3.500000\n",
       "75%      8122.000000     477.000000       4.000000\n",
       "max    193609.000000     610.000000       5.000000"
      ]
     },
     "execution_count": 12,
     "metadata": {},
     "output_type": "execute_result"
    }
   ],
   "source": [
    "movies_and_ratings.describe()"
   ]
  },
  {
   "cell_type": "markdown",
   "metadata": {},
   "source": [
    "The minimum rating given is 0.5 with the maximum at 5.0. About 50% of our movies have a rating of 3.5, about 75% of our movies are rated 4.0."
   ]
  },
  {
   "cell_type": "markdown",
   "metadata": {},
   "source": [
    "## 5. Exploratory Data Analysis"
   ]
  },
  {
   "cell_type": "markdown",
   "metadata": {},
   "source": [
    "### 5.1 Univariate Analysis"
   ]
  },
  {
   "cell_type": "code",
   "execution_count": 13,
   "metadata": {},
   "outputs": [
    {
     "data": {
      "text/plain": [
       "movieId  title                                    \n",
       "1        Toy Story (1995)                             3.920930\n",
       "2        Jumanji (1995)                               3.431818\n",
       "3        Grumpier Old Men (1995)                      3.259615\n",
       "4        Waiting to Exhale (1995)                     2.357143\n",
       "5        Father of the Bride Part II (1995)           3.071429\n",
       "                                                        ...   \n",
       "193581   Black Butler: Book of the Atlantic (2017)    4.000000\n",
       "193583   No Game No Life: Zero (2017)                 3.500000\n",
       "193585   Flint (2017)                                 3.500000\n",
       "193587   Bungo Stray Dogs: Dead Apple (2018)          3.500000\n",
       "193609   Andrew Dice Clay: Dice Rules (1991)          4.000000\n",
       "Name: rating, Length: 9724, dtype: float64"
      ]
     },
     "execution_count": 13,
     "metadata": {},
     "output_type": "execute_result"
    }
   ],
   "source": [
    "avg_ratings = movies_and_ratings.groupby(['movieId', 'title'])['rating'].mean()\n",
    "avg_ratings"
   ]
  },
  {
   "cell_type": "code",
   "execution_count": 14,
   "metadata": {},
   "outputs": [
    {
     "data": {
      "text/plain": [
       "movieId  title                                    \n",
       "1        Toy Story (1995)                             215\n",
       "2        Jumanji (1995)                               110\n",
       "3        Grumpier Old Men (1995)                       52\n",
       "4        Waiting to Exhale (1995)                       7\n",
       "5        Father of the Bride Part II (1995)            49\n",
       "                                                     ... \n",
       "193581   Black Butler: Book of the Atlantic (2017)      1\n",
       "193583   No Game No Life: Zero (2017)                   1\n",
       "193585   Flint (2017)                                   1\n",
       "193587   Bungo Stray Dogs: Dead Apple (2018)            1\n",
       "193609   Andrew Dice Clay: Dice Rules (1991)            1\n",
       "Name: rating, Length: 9724, dtype: int64"
      ]
     },
     "execution_count": 14,
     "metadata": {},
     "output_type": "execute_result"
    }
   ],
   "source": [
    "# Count of the movie ratings\n",
    "movies_and_ratings.groupby(['movieId', 'title'])['rating'].count()"
   ]
  },
  {
   "cell_type": "code",
   "execution_count": 15,
   "metadata": {},
   "outputs": [
    {
     "data": {
      "text/html": [
       "<div>\n",
       "<style scoped>\n",
       "    .dataframe tbody tr th:only-of-type {\n",
       "        vertical-align: middle;\n",
       "    }\n",
       "\n",
       "    .dataframe tbody tr th {\n",
       "        vertical-align: top;\n",
       "    }\n",
       "\n",
       "    .dataframe thead th {\n",
       "        text-align: right;\n",
       "    }\n",
       "</style>\n",
       "<table border=\"1\" class=\"dataframe\">\n",
       "  <thead>\n",
       "    <tr style=\"text-align: right;\">\n",
       "      <th></th>\n",
       "      <th></th>\n",
       "      <th>rating</th>\n",
       "    </tr>\n",
       "    <tr>\n",
       "      <th>movieId</th>\n",
       "      <th>title</th>\n",
       "      <th></th>\n",
       "    </tr>\n",
       "  </thead>\n",
       "  <tbody>\n",
       "    <tr>\n",
       "      <th>1</th>\n",
       "      <th>Toy Story (1995)</th>\n",
       "      <td>3.920930</td>\n",
       "    </tr>\n",
       "    <tr>\n",
       "      <th>2</th>\n",
       "      <th>Jumanji (1995)</th>\n",
       "      <td>3.431818</td>\n",
       "    </tr>\n",
       "    <tr>\n",
       "      <th>3</th>\n",
       "      <th>Grumpier Old Men (1995)</th>\n",
       "      <td>3.259615</td>\n",
       "    </tr>\n",
       "    <tr>\n",
       "      <th>4</th>\n",
       "      <th>Waiting to Exhale (1995)</th>\n",
       "      <td>2.357143</td>\n",
       "    </tr>\n",
       "    <tr>\n",
       "      <th>5</th>\n",
       "      <th>Father of the Bride Part II (1995)</th>\n",
       "      <td>3.071429</td>\n",
       "    </tr>\n",
       "    <tr>\n",
       "      <th>...</th>\n",
       "      <th>...</th>\n",
       "      <td>...</td>\n",
       "    </tr>\n",
       "    <tr>\n",
       "      <th>193581</th>\n",
       "      <th>Black Butler: Book of the Atlantic (2017)</th>\n",
       "      <td>4.000000</td>\n",
       "    </tr>\n",
       "    <tr>\n",
       "      <th>193583</th>\n",
       "      <th>No Game No Life: Zero (2017)</th>\n",
       "      <td>3.500000</td>\n",
       "    </tr>\n",
       "    <tr>\n",
       "      <th>193585</th>\n",
       "      <th>Flint (2017)</th>\n",
       "      <td>3.500000</td>\n",
       "    </tr>\n",
       "    <tr>\n",
       "      <th>193587</th>\n",
       "      <th>Bungo Stray Dogs: Dead Apple (2018)</th>\n",
       "      <td>3.500000</td>\n",
       "    </tr>\n",
       "    <tr>\n",
       "      <th>193609</th>\n",
       "      <th>Andrew Dice Clay: Dice Rules (1991)</th>\n",
       "      <td>4.000000</td>\n",
       "    </tr>\n",
       "  </tbody>\n",
       "</table>\n",
       "<p>9724 rows × 1 columns</p>\n",
       "</div>"
      ],
      "text/plain": [
       "                                                     rating\n",
       "movieId title                                              \n",
       "1       Toy Story (1995)                           3.920930\n",
       "2       Jumanji (1995)                             3.431818\n",
       "3       Grumpier Old Men (1995)                    3.259615\n",
       "4       Waiting to Exhale (1995)                   2.357143\n",
       "5       Father of the Bride Part II (1995)         3.071429\n",
       "...                                                     ...\n",
       "193581  Black Butler: Book of the Atlantic (2017)  4.000000\n",
       "193583  No Game No Life: Zero (2017)               3.500000\n",
       "193585  Flint (2017)                               3.500000\n",
       "193587  Bungo Stray Dogs: Dead Apple (2018)        3.500000\n",
       "193609  Andrew Dice Clay: Dice Rules (1991)        4.000000\n",
       "\n",
       "[9724 rows x 1 columns]"
      ]
     },
     "execution_count": 15,
     "metadata": {},
     "output_type": "execute_result"
    }
   ],
   "source": [
    "# convert to dataframe\n",
    "ratings_new = pd.DataFrame(avg_ratings)\n",
    "ratings_new"
   ]
  },
  {
   "cell_type": "code",
   "execution_count": 16,
   "metadata": {},
   "outputs": [
    {
     "data": {
      "text/html": [
       "<div>\n",
       "<style scoped>\n",
       "    .dataframe tbody tr th:only-of-type {\n",
       "        vertical-align: middle;\n",
       "    }\n",
       "\n",
       "    .dataframe tbody tr th {\n",
       "        vertical-align: top;\n",
       "    }\n",
       "\n",
       "    .dataframe thead th {\n",
       "        text-align: right;\n",
       "    }\n",
       "</style>\n",
       "<table border=\"1\" class=\"dataframe\">\n",
       "  <thead>\n",
       "    <tr style=\"text-align: right;\">\n",
       "      <th></th>\n",
       "      <th></th>\n",
       "      <th>rating</th>\n",
       "      <th>num_of_ratings</th>\n",
       "    </tr>\n",
       "    <tr>\n",
       "      <th>movieId</th>\n",
       "      <th>title</th>\n",
       "      <th></th>\n",
       "      <th></th>\n",
       "    </tr>\n",
       "  </thead>\n",
       "  <tbody>\n",
       "    <tr>\n",
       "      <th>1</th>\n",
       "      <th>Toy Story (1995)</th>\n",
       "      <td>3.920930</td>\n",
       "      <td>215</td>\n",
       "    </tr>\n",
       "    <tr>\n",
       "      <th>2</th>\n",
       "      <th>Jumanji (1995)</th>\n",
       "      <td>3.431818</td>\n",
       "      <td>110</td>\n",
       "    </tr>\n",
       "    <tr>\n",
       "      <th>3</th>\n",
       "      <th>Grumpier Old Men (1995)</th>\n",
       "      <td>3.259615</td>\n",
       "      <td>52</td>\n",
       "    </tr>\n",
       "    <tr>\n",
       "      <th>4</th>\n",
       "      <th>Waiting to Exhale (1995)</th>\n",
       "      <td>2.357143</td>\n",
       "      <td>7</td>\n",
       "    </tr>\n",
       "    <tr>\n",
       "      <th>5</th>\n",
       "      <th>Father of the Bride Part II (1995)</th>\n",
       "      <td>3.071429</td>\n",
       "      <td>49</td>\n",
       "    </tr>\n",
       "  </tbody>\n",
       "</table>\n",
       "</div>"
      ],
      "text/plain": [
       "                                              rating  num_of_ratings\n",
       "movieId title                                                       \n",
       "1       Toy Story (1995)                    3.920930             215\n",
       "2       Jumanji (1995)                      3.431818             110\n",
       "3       Grumpier Old Men (1995)             3.259615              52\n",
       "4       Waiting to Exhale (1995)            2.357143               7\n",
       "5       Father of the Bride Part II (1995)  3.071429              49"
      ]
     },
     "execution_count": 16,
     "metadata": {},
     "output_type": "execute_result"
    }
   ],
   "source": [
    "ratings_new['num_of_ratings'] = pd.DataFrame(movies_and_ratings.groupby(['movieId', 'title'])['rating'].count())\n",
    "ratings_new.head()"
   ]
  },
  {
   "cell_type": "markdown",
   "metadata": {},
   "source": [
    "#### 5.1.1 - Distribution of Number of Ratings per Movie"
   ]
  },
  {
   "cell_type": "code",
   "execution_count": 17,
   "metadata": {},
   "outputs": [
    {
     "data": {
      "image/png": "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",
      "text/plain": [
       "<Figure size 1000x600 with 1 Axes>"
      ]
     },
     "metadata": {},
     "output_type": "display_data"
    }
   ],
   "source": [
    "plt.figure(figsize=(10,6))\n",
    "sns.histplot(x = ratings_new['num_of_ratings'], bins=50, kde=False, color='blue')\n",
    "plt.title('Distribution of Number of Ratings per Movie')\n",
    "plt.xlabel('Number of Ratings')\n",
    "plt.ylabel('Frequency')\n",
    "plt.grid(True)\n",
    "plt.show()"
   ]
  },
  {
   "cell_type": "markdown",
   "metadata": {},
   "source": [
    "The distribution of the number of ratings per movie is rightly skewed. This implies that majority of the movies have less than 50 ratings with a few having above 100 ratings for a single movie. 50% of the movies have fewer than 50 ratings."
   ]
  },
  {
   "cell_type": "code",
   "execution_count": 18,
   "metadata": {},
   "outputs": [],
   "source": [
    "# ratings_new['num_of_ratings'].value_counts(normalize = True)"
   ]
  },
  {
   "cell_type": "markdown",
   "metadata": {},
   "source": [
    "#### 5.1.2 - Distribution of Ratings"
   ]
  },
  {
   "cell_type": "code",
   "execution_count": 19,
   "metadata": {},
   "outputs": [
    {
     "data": {
      "image/png": "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",
      "text/plain": [
       "<Figure size 1000x600 with 1 Axes>"
      ]
     },
     "metadata": {},
     "output_type": "display_data"
    }
   ],
   "source": [
    "plt.figure(figsize=(10,6))\n",
    "sns.histplot(x = ratings_new['rating'],  kde=False, color='blue')\n",
    "plt.title('Distribution of Ratings')\n",
    "plt.xlabel('Ratings (on a scale of 1 to 5)')\n",
    "plt.ylabel('Frequency')\n",
    "plt.grid(True)\n",
    "plt.show()"
   ]
  },
  {
   "cell_type": "code",
   "execution_count": 20,
   "metadata": {},
   "outputs": [],
   "source": [
    "# binning \n",
    "bins = [0, 1, 2, 3, 4, 5]\n",
    "ratings_new['rating_binned'] = pd.cut(ratings_new['rating'], bins=bins,  right=True)\n"
   ]
  },
  {
   "cell_type": "code",
   "execution_count": 21,
   "metadata": {},
   "outputs": [
    {
     "data": {
      "text/plain": [
       "rating_binned\n",
       "(0, 1]    0.026532\n",
       "(1, 2]    0.084430\n",
       "(4, 5]    0.129576\n",
       "(2, 3]    0.266968\n",
       "(3, 4]    0.492493\n",
       "Name: proportion, dtype: float64"
      ]
     },
     "execution_count": 21,
     "metadata": {},
     "output_type": "execute_result"
    }
   ],
   "source": [
    "ratings_new['rating_binned'].value_counts(normalize = True).sort_values()"
   ]
  },
  {
   "cell_type": "markdown",
   "metadata": {},
   "source": [
    "Around 49% of movies receive ratings between 3 and 4. This implies that most movies receive above average ratings and fewer movies receive extremely low or high ratings."
   ]
  },
  {
   "cell_type": "markdown",
   "metadata": {},
   "source": [
    "### 5.2 Bivariate Analysis"
   ]
  },
  {
   "cell_type": "markdown",
   "metadata": {},
   "source": [
    "#### 5.1.2 -  Number of Ratings per User"
   ]
  },
  {
   "cell_type": "code",
   "execution_count": 22,
   "metadata": {},
   "outputs": [
    {
     "data": {
      "image/png": "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",
      "text/plain": [
       "<Figure size 1000x600 with 1 Axes>"
      ]
     },
     "metadata": {},
     "output_type": "display_data"
    }
   ],
   "source": [
    "# calculate number of ratings per user\n",
    "# Number of ratings per user\n",
    "user_ratings_count = movies_and_ratings.groupby('userId').size()\n",
    "\n",
    "plt.figure(figsize=(10, 6))\n",
    "sns.histplot(user_ratings_count, bins=50, kde=False, color = 'blue')\n",
    "plt.title('Number of Ratings per User')\n",
    "plt.xlabel('Number of Ratings')\n",
    "plt.ylabel('Count of Users')\n",
    "plt.show()"
   ]
  },
  {
   "cell_type": "markdown",
   "metadata": {},
   "source": [
    "#### 5.1.2 - Most Popular Movies"
   ]
  },
  {
   "cell_type": "code",
   "execution_count": 23,
   "metadata": {},
   "outputs": [
    {
     "data": {
      "image/png": "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",
      "text/plain": [
       "<Figure size 1200x600 with 1 Axes>"
      ]
     },
     "metadata": {},
     "output_type": "display_data"
    },
    {
     "name": "stdout",
     "output_type": "stream",
     "text": [
      "\n",
      "Top 15 Most Rated Movies:\n",
      "                                                title  number_of_ratings\n",
      "                               American Beauty (1999)                204\n",
      "                           Usual Suspects, The (1995)                204\n",
      "Star Wars: Episode V - The Empire Strikes Back (1980)                211\n",
      "                                     Toy Story (1995)                215\n",
      "                                    Fight Club (1999)                218\n",
      "                              Schindler's List (1993)                220\n",
      "                    Terminator 2: Judgment Day (1991)                224\n",
      "                                    Braveheart (1995)                237\n",
      "                                 Jurassic Park (1993)                238\n",
      "            Star Wars: Episode IV - A New Hope (1977)                251\n",
      "                                   Matrix, The (1999)                278\n",
      "                     Silence of the Lambs, The (1991)                279\n",
      "                                  Pulp Fiction (1994)                307\n",
      "                     Shawshank Redemption, The (1994)                317\n",
      "                                  Forrest Gump (1994)                329\n"
     ]
    }
   ],
   "source": [
    "# Group by movie title and count the number of ratings\n",
    "movie_ratings_count = movies_and_ratings.groupby('title')['rating'].count().reset_index()\n",
    "movie_ratings_count.columns = ['title', 'number_of_ratings']\n",
    "\n",
    "# Sort by number of ratings and get top 15\n",
    "top_rated_movies = movie_ratings_count.sort_values('number_of_ratings').tail(15)\n",
    "\n",
    "# Create the plot\n",
    "plt.figure(figsize=(12, 6))\n",
    "bars = plt.barh(y=range(len(top_rated_movies)), width=top_rated_movies['number_of_ratings'],\n",
    "                color=sns.color_palette(\"viridis\", len(top_rated_movies)))\n",
    "\n",
    "# Customize the plot\n",
    "plt.yticks(range(len(top_rated_movies)), top_rated_movies['title'], fontsize=10)\n",
    "plt.xlabel('Number of Ratings', fontsize=12)\n",
    "plt.title('Top 15 Most Popular Movies', fontsize=14, pad=10)\n",
    "\n",
    "# Add number of ratings to the end of each bar\n",
    "for i, bar in enumerate(bars):\n",
    "    width = bar.get_width()\n",
    "    plt.text(width, bar.get_y() + bar.get_height()/2, \n",
    "             f'{width:,.0f}',  # Format number with commas\n",
    "             va='center', ha='left', fontsize=10, fontweight='bold')\n",
    "\n",
    "plt.tight_layout()\n",
    "plt.show()\n",
    "\n",
    "# Print the data\n",
    "print(\"\\nTop 15 Most Rated Movies:\")\n",
    "print(top_rated_movies.to_string(index=False))"
   ]
  },
  {
   "cell_type": "markdown",
   "metadata": {},
   "source": [
    "#### 5.1.2 - Top 15 Movies by Average Ratings"
   ]
  },
  {
   "cell_type": "code",
   "execution_count": 24,
   "metadata": {},
   "outputs": [
    {
     "data": {
      "image/png": "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",
      "text/plain": [
       "<Figure size 1200x600 with 1 Axes>"
      ]
     },
     "metadata": {},
     "output_type": "display_data"
    },
    {
     "name": "stdout",
     "output_type": "stream",
     "text": [
      "\n",
      "Top 15 Movies Data:\n",
      "                                                title  avg_rating  num_ratings\n",
      "Star Wars: Episode V - The Empire Strikes Back (1980)    4.215640          211\n",
      "                            American History X (1998)    4.217054          129\n",
      "                                Apocalypse Now (1979)    4.219626          107\n",
      "                              Schindler's List (1993)    4.225000          220\n",
      "            Star Wars: Episode IV - A New Hope (1977)    4.231076          251\n",
      "                           Princess Bride, The (1987)    4.232394          142\n",
      "                           Usual Suspects, The (1995)    4.237745          204\n",
      "                              Dark Knight, The (2008)    4.238255          149\n",
      "                                    Casablanca (1942)    4.240000          100\n",
      "                                    Goodfellas (1990)    4.250000          126\n",
      "                                 Departed, The (2006)    4.252336          107\n",
      "                       Godfather: Part II, The (1974)    4.259690          129\n",
      "                                    Fight Club (1999)    4.272936          218\n",
      "                                Godfather, The (1972)    4.289062          192\n",
      "                     Shawshank Redemption, The (1994)    4.429022          317\n"
     ]
    }
   ],
   "source": [
    "# Calculate average rating for each movie and number of ratings\n",
    "movie_stats = movies_and_ratings.groupby('title').agg({\n",
    "    'rating': ['mean', 'count']\n",
    "}).reset_index()\n",
    "\n",
    "# Flatten the column names\n",
    "movie_stats.columns = ['title', 'avg_rating', 'num_ratings']\n",
    "\n",
    "# Filter for movies with a minimum number of ratings\n",
    "min_ratings = 100 \n",
    "popular_movies = movie_stats[movie_stats['num_ratings'] >= min_ratings]\n",
    "\n",
    "# Sort by average rating and get top 10\n",
    "top_movies = popular_movies.sort_values('avg_rating').tail(15)\n",
    "\n",
    "# Create the plot\n",
    "plt.figure(figsize=(12, 6))\n",
    "bars = plt.barh(y=range(len(top_movies)), width=top_movies['avg_rating'], \n",
    "                color=sns.color_palette(\"viridis\", len(top_movies)))\n",
    "\n",
    "# Customize the plot\n",
    "plt.yticks(range(len(top_movies)), top_movies['title'])\n",
    "plt.xlabel('Average Rating')\n",
    "plt.title(f'Top 15 Movies (Minimum {min_ratings} ratings)')\n",
    "\n",
    "# Add rating annotations to the end of each bar\n",
    "for i, bar in enumerate(bars):\n",
    "    width = bar.get_width()\n",
    "    plt.text(width, bar.get_y() + bar.get_height()/2, \n",
    "             f'{top_movies[\"avg_rating\"].iloc[i]:.2f} ({top_movies[\"num_ratings\"].iloc[i]} ratings)',\n",
    "             va='center', ha='left')\n",
    "\n",
    "plt.tight_layout()\n",
    "plt.show()\n",
    "\n",
    "# Print the data\n",
    "print(\"\\nTop 15 Movies Data:\")\n",
    "print(top_movies[['title', 'avg_rating', 'num_ratings']].to_string(index=False))"
   ]
  },
  {
   "cell_type": "markdown",
   "metadata": {},
   "source": [
    "### 5.3 Multivariate Analysis"
   ]
  },
  {
   "cell_type": "code",
   "execution_count": null,
   "metadata": {},
   "outputs": [],
   "source": []
  },
  {
   "cell_type": "markdown",
   "metadata": {},
   "source": [
    "## 6. Data Preparation for Modelling\n",
    "\n"
   ]
  },
  {
   "cell_type": "code",
   "execution_count": 25,
   "metadata": {},
   "outputs": [],
   "source": [
    "# prepare data for modelling with surprise\n",
    "reader = Reader(rating_scale = (0.5, 5.0))\n",
    "data = Dataset.load_from_df(movies_and_ratings[['userId', 'movieId', 'rating']], reader)\n",
    "\n",
    "# split data into train and test sets\n",
    "\n",
    "train_set, test_set = train_test_split(data, test_size = 0.2)"
   ]
  },
  {
   "cell_type": "markdown",
   "metadata": {},
   "source": [
    "To include the use of `genres` in our recommendation system, we need convert this column into numerical features as machine learning models take numerical data. \n",
    "\n",
    "Here, we use the `TF-IDF` vectorization to transform the categorical genre data into numerical features that reflect the importance and uniqueness of genres in thie dataset. This will prevent over-weighting common genres. This helps the model to focus on distinctive genres when computing movie similarities.\n"
   ]
  },
  {
   "cell_type": "markdown",
   "metadata": {},
   "source": [
    "Calculating the cosine similarity for the entire dataset runs into a `MemoryError` as my system is unable to create the TF-IDF matrix due to its large size. Therefore, we use a subset for this task."
   ]
  },
  {
   "cell_type": "code",
   "execution_count": 26,
   "metadata": {},
   "outputs": [],
   "source": [
    "# Preprocessing the genres: replace '|' with space or comma to make it TF-IDF friendly\n",
    "movies_and_ratings['genres'] = movies_and_ratings['genres'].str.replace('|', ' ')\n",
    "\n",
    "# compute TF_IDF matrix for movie genres\n",
    "tfidf = TfidfVectorizer(stop_words='english')\n",
    "sample_size = 10000  # Adjust this number based on your available memory\n",
    "\n",
    "movies_sample = movies_and_ratings.sample(n=sample_size, random_state=1)\n",
    "tfidf_matrix = tfidf.fit_transform(movies_sample['genres'].fillna(''))\n",
    "\n",
    "\n",
    "# compute cosine similarity between movies based on genres\n",
    "cosine_sim = cosine_similarity(tfidf_matrix, tfidf_matrix)"
   ]
  },
  {
   "cell_type": "markdown",
   "metadata": {},
   "source": [
    "## 7. Data Modelling\n",
    "\n",
    "We are going to explore different modelling approaches: \n",
    "1. `KNNBasic` model and experiment with the different similarity metrics (cosine, pearson).\n",
    "2. `KMWithMeans` which takes into account the mean rating of each user.\n",
    "3. `KNNBaseline` which adds adds in a bias term that is calculated by way of minimizing a cost function.\n",
    "4. model based CF with SVD\n",
    "5. Hyperparameter tuning on the SVD model\n"
   ]
  },
  {
   "cell_type": "markdown",
   "metadata": {},
   "source": [
    "### 7.1 Baseline Model"
   ]
  },
  {
   "cell_type": "markdown",
   "metadata": {},
   "source": [
    "Before we begin, it is important to decide which type of collaborative filtering to consider. \n",
    "\n",
    "Here, we use user-user filtering as it is the lesser of the two. This is in order to reduce computation time and increase training efficiency."
   ]
  },
  {
   "cell_type": "code",
   "execution_count": 27,
   "metadata": {},
   "outputs": [
    {
     "name": "stdout",
     "output_type": "stream",
     "text": [
      "Number of users:  610 \n",
      "\n",
      "Number of items:  8991 \n",
      "\n"
     ]
    }
   ],
   "source": [
    "# deciding whether to use item-item Vs user-user similarity. Use whichever is fewer. In this case, users\n",
    "print(\"Number of users: \", train_set.n_users, \"\\n\")\n",
    "print(\"Number of items: \", train_set.n_items, \"\\n\")"
   ]
  },
  {
   "cell_type": "code",
   "execution_count": 28,
   "metadata": {},
   "outputs": [
    {
     "name": "stdout",
     "output_type": "stream",
     "text": [
      "Computing the cosine similarity matrix...\n",
      "Done computing similarity matrix.\n"
     ]
    },
    {
     "data": {
      "text/plain": [
       "<surprise.prediction_algorithms.knns.KNNBasic at 0x25e9f7dda50>"
      ]
     },
     "execution_count": 28,
     "metadata": {},
     "output_type": "execute_result"
    }
   ],
   "source": [
    "# define similarity metric to use \n",
    "similarity_cos = {\"name\": \"cosine\", \"user_based\": True}\n",
    "\n",
    "# baseline model\n",
    "baseline_model =KNNBasic(sim_options = similarity_cos)\n",
    "\n",
    "# fit the model\n",
    "baseline_model.fit(train_set)"
   ]
  },
  {
   "cell_type": "code",
   "execution_count": 29,
   "metadata": {},
   "outputs": [
    {
     "name": "stdout",
     "output_type": "stream",
     "text": [
      "The average rmse score is 0.9736726555296983\n"
     ]
    }
   ],
   "source": [
    "# cross validation on baseline model\n",
    "cv_baseline_model = cross_validate(baseline_model, data, n_jobs=-1)\n",
    "\n",
    "# Get the average RMSE score across all folds\n",
    "average_rmse = cv_baseline_model['test_rmse'].mean()\n",
    "print(f\"The average rmse score is {average_rmse}\")\n",
    "\n",
    "# make predictions\n",
    "# baseline_predictions = baseline_model.test(test_set)"
   ]
  },
  {
   "cell_type": "markdown",
   "metadata": {},
   "source": [
    "This implies that the model is off by about 0.973 points for each guess it made for ratings. While it is not bad, there is room for improvement as we are working with a small scale (1 to 5)"
   ]
  },
  {
   "cell_type": "markdown",
   "metadata": {},
   "source": [
    "### 7.2 Model 2 - Pearson Similarity Metric"
   ]
  },
  {
   "cell_type": "code",
   "execution_count": 30,
   "metadata": {},
   "outputs": [
    {
     "name": "stdout",
     "output_type": "stream",
     "text": [
      "Computing the pearson similarity matrix...\n",
      "Done computing similarity matrix.\n"
     ]
    },
    {
     "data": {
      "text/plain": [
       "<surprise.prediction_algorithms.knns.KNNBasic at 0x25e9e3ded10>"
      ]
     },
     "execution_count": 30,
     "metadata": {},
     "output_type": "execute_result"
    }
   ],
   "source": [
    "similarity_pearson = {\"name\": \"pearson\", \"user_based\" : True}\n",
    "\n",
    "# fit model\n",
    "model_pearson = KNNBasic(sim_options = similarity_pearson)\n",
    "\n",
    "model_pearson.fit(train_set)"
   ]
  },
  {
   "cell_type": "code",
   "execution_count": 31,
   "metadata": {},
   "outputs": [
    {
     "name": "stdout",
     "output_type": "stream",
     "text": [
      "Average rmse score is : 0.9742012066922878\n"
     ]
    }
   ],
   "source": [
    "cv_model_pearson = cross_validate(model_pearson, data, n_jobs=-1)\n",
    "\n",
    "# get average rmse\n",
    "\n",
    "avg_rmse_pearson = cv_model_pearson['test_rmse'].mean()\n",
    "\n",
    "# print rmse\n",
    "print(f\"Average rmse score is : {avg_rmse_pearson}\")\n",
    "# model_pearson_predictions = model_pearson.test(test_set)"
   ]
  },
  {
   "cell_type": "markdown",
   "metadata": {},
   "source": [
    "The rmse score is 0.974. This implies that the model's predictions are off by about 0.974 points. These two models are identical as they have very close rmse scores."
   ]
  },
  {
   "cell_type": "markdown",
   "metadata": {},
   "source": [
    "### 7.3 Model 3 - KNNMeans"
   ]
  },
  {
   "cell_type": "code",
   "execution_count": 32,
   "metadata": {},
   "outputs": [
    {
     "name": "stdout",
     "output_type": "stream",
     "text": [
      "Computing the cosine similarity matrix...\n",
      "Done computing similarity matrix.\n"
     ]
    },
    {
     "data": {
      "text/plain": [
       "<surprise.prediction_algorithms.knns.KNNWithMeans at 0x25ea5f36350>"
      ]
     },
     "execution_count": 32,
     "metadata": {},
     "output_type": "execute_result"
    }
   ],
   "source": [
    "model_knn_means  = KNNWithMeans(sim_options = similarity_cos)\n",
    "\n",
    "# fit model\n",
    "model_knn_means.fit(train_set)"
   ]
  },
  {
   "cell_type": "code",
   "execution_count": 33,
   "metadata": {},
   "outputs": [
    {
     "name": "stdout",
     "output_type": "stream",
     "text": [
      "The average rmse is : 0.9017706220596355\n"
     ]
    }
   ],
   "source": [
    "# cross validate the model\n",
    "cv_model_knn_means = cross_validate(model_knn_means, data, n_jobs=-1)\n",
    "\n",
    "avg_rmse_model_knn_means = cv_model_knn_means['test_rmse'].mean()\n",
    "\n",
    "print(f\"The average rmse is : {avg_rmse_model_knn_means}\")"
   ]
  },
  {
   "cell_type": "markdown",
   "metadata": {},
   "source": [
    "This model has an rmse score of 0.90 This is better then the two models before. However, there's room for improvement and so we proceed to using KNNBaseline as it introduces a bias term making it an improvement of the methods explored above."
   ]
  },
  {
   "cell_type": "markdown",
   "metadata": {},
   "source": [
    "### 7.4 Model 4 - KNNBaseline"
   ]
  },
  {
   "cell_type": "code",
   "execution_count": 34,
   "metadata": {},
   "outputs": [
    {
     "name": "stdout",
     "output_type": "stream",
     "text": [
      "Estimating biases using als...\n",
      "Computing the cosine similarity matrix...\n",
      "Done computing similarity matrix.\n"
     ]
    },
    {
     "data": {
      "text/plain": [
       "<surprise.prediction_algorithms.knns.KNNBaseline at 0x25ea803a4d0>"
      ]
     },
     "execution_count": 34,
     "metadata": {},
     "output_type": "execute_result"
    }
   ],
   "source": [
    "model_knn_baseline = KNNBaseline(sim_options=similarity_cos)\n",
    "\n",
    "# fit model\n",
    "model_knn_baseline.fit(train_set)"
   ]
  },
  {
   "cell_type": "code",
   "execution_count": 35,
   "metadata": {},
   "outputs": [
    {
     "name": "stdout",
     "output_type": "stream",
     "text": [
      "The average rmse is : 0.8792270180220658\n"
     ]
    }
   ],
   "source": [
    "# rmse\n",
    "cv_model_knn_baseline = cross_validate(model_knn_baseline, data, n_jobs = -1)\n",
    "\n",
    "avg_rmse_knn_baseline = cv_model_knn_baseline['test_rmse'].mean()\n",
    "\n",
    "print(f\"The average rmse is : {avg_rmse_knn_baseline}\")"
   ]
  },
  {
   "cell_type": "markdown",
   "metadata": {},
   "source": [
    "The rmse score for the `KNNBaseline` model is 0.879. This is an improvement from the previous models above. We are looking to further reduce this error, therefore, we try matrix factorization models below. In this case, we use Singular Value Decomposition(SVD) and tune the hyperparameters to get the optimal parameters."
   ]
  },
  {
   "cell_type": "markdown",
   "metadata": {},
   "source": [
    "### 7.5 Model 5 - Model based"
   ]
  },
  {
   "cell_type": "code",
   "execution_count": 36,
   "metadata": {},
   "outputs": [
    {
     "data": {
      "text/plain": [
       "<surprise.prediction_algorithms.matrix_factorization.SVD at 0x25e9f531450>"
      ]
     },
     "execution_count": 36,
     "metadata": {},
     "output_type": "execute_result"
    }
   ],
   "source": [
    "# use SVD for collaborative filtering\n",
    "model = SVD()\n",
    "model.fit(train_set)"
   ]
  },
  {
   "cell_type": "code",
   "execution_count": 37,
   "metadata": {},
   "outputs": [
    {
     "name": "stdout",
     "output_type": "stream",
     "text": [
      "The average rmse is : 0.8731989852020827\n"
     ]
    }
   ],
   "source": [
    "# Evaluate the model\n",
    "cv_model = cross_validate(model, data, n_jobs = -1)\n",
    "\n",
    "avg_rmse_model = cv_model['test_rmse'].mean()\n",
    "\n",
    "print(f\"The average rmse is : {avg_rmse_model}\")"
   ]
  },
  {
   "cell_type": "markdown",
   "metadata": {},
   "source": [
    "This model's rmse score is 0.873. This is a slight improvement from the `KNNBaseline` model. They however seem to be performing similarly."
   ]
  },
  {
   "cell_type": "markdown",
   "metadata": {},
   "source": [
    "### 7.6 Model 6 - Hyperparameter Tuning"
   ]
  },
  {
   "cell_type": "code",
   "execution_count": 38,
   "metadata": {},
   "outputs": [
    {
     "name": "stderr",
     "output_type": "stream",
     "text": [
      "[Parallel(n_jobs=-1)]: Using backend LokyBackend with 4 concurrent workers.\n",
      "[Parallel(n_jobs=-1)]: Done  10 tasks      | elapsed:    6.3s\n",
      "[Parallel(n_jobs=-1)]: Done  45 out of  45 | elapsed:   32.1s finished\n"
     ]
    }
   ],
   "source": [
    "param_grid= {'n_factors': [50, 100, 150],\n",
    "         'reg_all': [0.02, 0.05, 0.1]}\n",
    "\n",
    "gs_model = GridSearchCV(SVD,param_grid=param_grid,n_jobs = -1, cv = 5, joblib_verbose=5)\n",
    "gs_model.fit(data)"
   ]
  },
  {
   "cell_type": "code",
   "execution_count": 39,
   "metadata": {},
   "outputs": [
    {
     "data": {
      "text/plain": [
       "0.8692522840379532"
      ]
     },
     "execution_count": 39,
     "metadata": {},
     "output_type": "execute_result"
    }
   ],
   "source": [
    "gs_model.best_score['rmse']"
   ]
  },
  {
   "cell_type": "code",
   "execution_count": 40,
   "metadata": {},
   "outputs": [],
   "source": [
    "# Extract the best model from GridSearchCV\n",
    "best_model = gs_model.best_estimator['rmse']"
   ]
  },
  {
   "cell_type": "code",
   "execution_count": 41,
   "metadata": {},
   "outputs": [
    {
     "data": {
      "text/plain": [
       "<surprise.prediction_algorithms.matrix_factorization.SVD at 0x25ea5664990>"
      ]
     },
     "execution_count": 41,
     "metadata": {},
     "output_type": "execute_result"
    }
   ],
   "source": [
    "# fit on model\n",
    "best_model.fit(train_set)"
   ]
  },
  {
   "cell_type": "markdown",
   "metadata": {},
   "source": [
    "The model's rmse score is 0.869. This implies that the model's predictions are off by about 0.869 points. This is a slight improvement from the previous models and overally the best."
   ]
  },
  {
   "cell_type": "markdown",
   "metadata": {},
   "source": [
    "### 7.7 Model 7 - Using Neural Networks"
   ]
  },
  {
   "cell_type": "code",
   "execution_count": 42,
   "metadata": {},
   "outputs": [],
   "source": [
    "# Encode user IDs and movie IDs\n",
    "user_ids = movies_and_ratings['userId'].unique()\n",
    "movie_ids = movies_and_ratings['movieId'].unique()"
   ]
  },
  {
   "cell_type": "code",
   "execution_count": 43,
   "metadata": {},
   "outputs": [],
   "source": [
    "user_to_index = {user_id: index for index, user_id in enumerate(user_ids)}\n",
    "movie_to_index = {movie_id: index for index, movie_id in enumerate(movie_ids)}\n",
    "\n",
    "movies_and_ratings['userIndex'] = movies_and_ratings['userId'].map(user_to_index)\n",
    "movies_and_ratings['movieIndex'] = movies_and_ratings['movieId'].map(movie_to_index)"
   ]
  },
  {
   "cell_type": "code",
   "execution_count": 45,
   "metadata": {},
   "outputs": [],
   "source": [
    "from sklearn.model_selection import train_test_split\n",
    "# Prepare training data\n",
    "X = movies_and_ratings[['userIndex', 'movieIndex']]\n",
    "y = movies_and_ratings['rating']\n",
    "\n",
    "# Split the data into training and test sets \n",
    "X_train, X_test, y_train, y_test = train_test_split(X, y, test_size = 0.2, random_state=42)\n",
    "\n",
    "# validation set\n",
    "X_train, X_val, y_train, y_val = train_test_split(X_train, y_train, test_size = 0.1, random_state = 42)"
   ]
  },
  {
   "cell_type": "code",
   "execution_count": 46,
   "metadata": {},
   "outputs": [],
   "source": [
    "\n",
    "# Define parameters\n",
    "num_users = len(user_ids)\n",
    "num_movies = len(movie_ids)\n",
    "embedding_dim = 50\n",
    "\n",
    "# Define the neural network model\n",
    "user_input = Input(shape=(1,))\n",
    "movie_input = Input(shape=(1,))\n",
    "\n",
    "# User and movie embeddings\n",
    "user_embedding = Embedding(num_users, embedding_dim)(user_input)\n",
    "movie_embedding = Embedding(num_movies, embedding_dim)(movie_input)\n",
    "\n",
    "# Flatten the embeddings\n",
    "user_vecs = Flatten()(user_embedding)\n",
    "movie_vecs = Flatten()(movie_embedding)\n",
    "\n",
    "# Concatenate user and movie vectors\n",
    "input_vecs = Concatenate()([user_vecs, movie_vecs])\n",
    "\n",
    "# Fully connected layers\n",
    "hidden_layer = Dense(128, activation='relu')(input_vecs)\n",
    "\n",
    "hidden_layer = (Dropout(0.5))(hidden_layer)\n",
    "hidden_layer = Dense(64, activation='relu')(hidden_layer)\n",
    "hidden_layer= (Dropout(0.5))(hidden_layer)\n",
    "output_layer = Dense(1)(hidden_layer)  # Output layer for predicting ratings\n"
   ]
  },
  {
   "cell_type": "code",
   "execution_count": 47,
   "metadata": {},
   "outputs": [],
   "source": [
    "\n",
    "# Create the model\n",
    "model = Model(inputs=[user_input, movie_input], outputs=output_layer)\n",
    "model.compile(optimizer=Adam(learning_rate=0.0001), loss='mean_squared_error', metrics = [RootMeanSquaredError()] )"
   ]
  },
  {
   "cell_type": "code",
   "execution_count": 48,
   "metadata": {},
   "outputs": [
    {
     "name": "stdout",
     "output_type": "stream",
     "text": [
      "Epoch 1/20\n",
      "\u001b[1m284/284\u001b[0m \u001b[32m━━━━━━━━━━━━━━━━━━━━\u001b[0m\u001b[37m\u001b[0m \u001b[1m4s\u001b[0m 9ms/step - loss: 12.0784 - root_mean_squared_error: 3.4725 - val_loss: 3.0846 - val_root_mean_squared_error: 1.7563\n",
      "Epoch 2/20\n",
      "\u001b[1m284/284\u001b[0m \u001b[32m━━━━━━━━━━━━━━━━━━━━\u001b[0m\u001b[37m\u001b[0m \u001b[1m2s\u001b[0m 8ms/step - loss: 2.1894 - root_mean_squared_error: 1.4748 - val_loss: 0.9496 - val_root_mean_squared_error: 0.9745\n",
      "Epoch 3/20\n",
      "\u001b[1m284/284\u001b[0m \u001b[32m━━━━━━━━━━━━━━━━━━━━\u001b[0m\u001b[37m\u001b[0m \u001b[1m2s\u001b[0m 8ms/step - loss: 1.3750 - root_mean_squared_error: 1.1726 - val_loss: 0.8555 - val_root_mean_squared_error: 0.9249\n",
      "Epoch 4/20\n",
      "\u001b[1m284/284\u001b[0m \u001b[32m━━━━━━━━━━━━━━━━━━━━\u001b[0m\u001b[37m\u001b[0m \u001b[1m2s\u001b[0m 8ms/step - loss: 1.2637 - root_mean_squared_error: 1.1241 - val_loss: 0.8118 - val_root_mean_squared_error: 0.9010\n",
      "Epoch 5/20\n",
      "\u001b[1m284/284\u001b[0m \u001b[32m━━━━━━━━━━━━━━━━━━━━\u001b[0m\u001b[37m\u001b[0m \u001b[1m2s\u001b[0m 8ms/step - loss: 1.1976 - root_mean_squared_error: 1.0943 - val_loss: 0.7916 - val_root_mean_squared_error: 0.8897\n",
      "Epoch 6/20\n",
      "\u001b[1m284/284\u001b[0m \u001b[32m━━━━━━━━━━━━━━━━━━━━\u001b[0m\u001b[37m\u001b[0m \u001b[1m3s\u001b[0m 10ms/step - loss: 1.1488 - root_mean_squared_error: 1.0718 - val_loss: 0.7857 - val_root_mean_squared_error: 0.8864\n",
      "Epoch 7/20\n",
      "\u001b[1m284/284\u001b[0m \u001b[32m━━━━━━━━━━━━━━━━━━━━\u001b[0m\u001b[37m\u001b[0m \u001b[1m3s\u001b[0m 9ms/step - loss: 1.1203 - root_mean_squared_error: 1.0584 - val_loss: 0.7874 - val_root_mean_squared_error: 0.8874\n",
      "Epoch 8/20\n",
      "\u001b[1m284/284\u001b[0m \u001b[32m━━━━━━━━━━━━━━━━━━━━\u001b[0m\u001b[37m\u001b[0m \u001b[1m5s\u001b[0m 9ms/step - loss: 1.1064 - root_mean_squared_error: 1.0518 - val_loss: 0.7891 - val_root_mean_squared_error: 0.8883\n",
      "Epoch 9/20\n",
      "\u001b[1m284/284\u001b[0m \u001b[32m━━━━━━━━━━━━━━━━━━━━\u001b[0m\u001b[37m\u001b[0m \u001b[1m3s\u001b[0m 9ms/step - loss: 1.0839 - root_mean_squared_error: 1.0411 - val_loss: 0.7784 - val_root_mean_squared_error: 0.8822\n",
      "Epoch 10/20\n",
      "\u001b[1m284/284\u001b[0m \u001b[32m━━━━━━━━━━━━━━━━━━━━\u001b[0m\u001b[37m\u001b[0m \u001b[1m3s\u001b[0m 9ms/step - loss: 1.0704 - root_mean_squared_error: 1.0346 - val_loss: 0.7752 - val_root_mean_squared_error: 0.8804\n",
      "Epoch 11/20\n",
      "\u001b[1m284/284\u001b[0m \u001b[32m━━━━━━━━━━━━━━━━━━━━\u001b[0m\u001b[37m\u001b[0m \u001b[1m3s\u001b[0m 9ms/step - loss: 1.0816 - root_mean_squared_error: 1.0400 - val_loss: 0.7758 - val_root_mean_squared_error: 0.8808\n",
      "Epoch 12/20\n",
      "\u001b[1m284/284\u001b[0m \u001b[32m━━━━━━━━━━━━━━━━━━━━\u001b[0m\u001b[37m\u001b[0m \u001b[1m2s\u001b[0m 8ms/step - loss: 1.0532 - root_mean_squared_error: 1.0262 - val_loss: 0.7810 - val_root_mean_squared_error: 0.8838\n",
      "Epoch 13/20\n",
      "\u001b[1m284/284\u001b[0m \u001b[32m━━━━━━━━━━━━━━━━━━━━\u001b[0m\u001b[37m\u001b[0m \u001b[1m3s\u001b[0m 9ms/step - loss: 1.0558 - root_mean_squared_error: 1.0275 - val_loss: 0.7888 - val_root_mean_squared_error: 0.8881\n",
      "Epoch 14/20\n",
      "\u001b[1m284/284\u001b[0m \u001b[32m━━━━━━━━━━━━━━━━━━━━\u001b[0m\u001b[37m\u001b[0m \u001b[1m5s\u001b[0m 10ms/step - loss: 1.0377 - root_mean_squared_error: 1.0187 - val_loss: 0.7798 - val_root_mean_squared_error: 0.8831\n",
      "Epoch 15/20\n",
      "\u001b[1m284/284\u001b[0m \u001b[32m━━━━━━━━━━━━━━━━━━━━\u001b[0m\u001b[37m\u001b[0m \u001b[1m3s\u001b[0m 10ms/step - loss: 1.0285 - root_mean_squared_error: 1.0141 - val_loss: 0.7843 - val_root_mean_squared_error: 0.8856\n"
     ]
    },
    {
     "data": {
      "text/plain": [
       "<keras.src.callbacks.history.History at 0x25ea3b5c210>"
      ]
     },
     "execution_count": 48,
     "metadata": {},
     "output_type": "execute_result"
    }
   ],
   "source": [
    "\n",
    "# Train the model with early stopping\n",
    "early_stopping = EarlyStopping(monitor='val_root_mean_squared_error', patience=5, restore_best_weights=True)\n",
    "model.fit([X_train['userIndex'], X_train['movieIndex']], \n",
    "          y_train, \n",
    "          callbacks = early_stopping,\n",
    "          epochs=20, \n",
    "          validation_data=([X_val['userIndex'], X_val['movieIndex']], y_val),  \n",
    "          batch_size=256, \n",
    "          verbose= 1)\n"
   ]
  },
  {
   "cell_type": "code",
   "execution_count": 49,
   "metadata": {},
   "outputs": [
    {
     "name": "stdout",
     "output_type": "stream",
     "text": [
      "\u001b[1m631/631\u001b[0m \u001b[32m━━━━━━━━━━━━━━━━━━━━\u001b[0m\u001b[37m\u001b[0m \u001b[1m1s\u001b[0m 1ms/step - loss: 0.7879 - root_mean_squared_error: 0.8876\n"
     ]
    }
   ],
   "source": [
    "# Evaluate the model\n",
    "loss = model.evaluate([X_test['userIndex'], X_test['movieIndex']], y_test)\n",
    "\n"
   ]
  },
  {
   "cell_type": "markdown",
   "metadata": {},
   "source": [
    "This model achieves an rmse of 0.8876. The predictions are off about 0.88 points."
   ]
  },
  {
   "cell_type": "markdown",
   "metadata": {},
   "source": [
    "## 8. Model Evaluation"
   ]
  },
  {
   "cell_type": "code",
   "execution_count": 50,
   "metadata": {},
   "outputs": [
    {
     "name": "stdout",
     "output_type": "stream",
     "text": [
      "RMSE: 0.8699\n"
     ]
    }
   ],
   "source": [
    "final_model = best_model\n",
    "\n",
    "# test final model ofn test set\n",
    "final_model_predictions = final_model.test(test_set)\n",
    "\n",
    "# rmse score for final model. \n",
    "# get rmse from test set\n",
    "rmse_final = accuracy.rmse(final_model_predictions)\n",
    "\n",
    "\n"
   ]
  },
  {
   "cell_type": "markdown",
   "metadata": {},
   "source": [
    "The final model has an rmse of 0.8699 on the test set. This implies that the predictions are off by about 0.8 points on the test data. "
   ]
  },
  {
   "cell_type": "markdown",
   "metadata": {},
   "source": [
    "### 8.1 Generate Recommendations"
   ]
  },
  {
   "cell_type": "code",
   "execution_count": 51,
   "metadata": {},
   "outputs": [
    {
     "name": "stdout",
     "output_type": "stream",
     "text": [
      "Movie ID: 32, Title: Twelve Monkeys (a.k.a. 12 Monkeys) (1995), Predicted Rating: 5.00\n",
      "Movie ID: 50, Title: Usual Suspects, The (1995), Predicted Rating: 5.00\n",
      "Movie ID: 53, Title: Lamerica (1994), Predicted Rating: 5.00\n",
      "Movie ID: 58, Title: Postman, The (Postino, Il) (1994), Predicted Rating: 5.00\n",
      "Movie ID: 111, Title: Taxi Driver (1976), Predicted Rating: 5.00\n"
     ]
    }
   ],
   "source": [
    "# Get predicted ratings for all unrated movies for a user and return their titles\n",
    "def get_collaborative_recommendations(final_model, user_id, all_movie_ids, user_rated_movie_ids, df, n):\n",
    "    # Get unrated movies\n",
    "    unrated_movies = [movie_id for movie_id in all_movie_ids if movie_id not in user_rated_movie_ids]\n",
    "    \n",
    "    # Predict ratings for the unrated movies\n",
    "    predictions = [final_model.predict(user_id, movie_id) for movie_id in unrated_movies]\n",
    "    \n",
    "    # Sort the predictions by the estimated rating (descending)\n",
    "    top_predictions = sorted(predictions, key=lambda x: x.est, reverse=True)[:n]\n",
    "    \n",
    "    # Return top N movie IDs and their predicted ratings along with titles\n",
    "    recommended_movies = []\n",
    "    for pred in top_predictions:\n",
    "        movie_title = df.loc[df['movieId'] == pred.iid, 'title'].values[0]\n",
    "        recommended_movies.append((pred.iid, movie_title, pred.est))  # Include movie ID, title, and estimated rating\n",
    "    \n",
    "    return recommended_movies\n",
    "\n",
    "# Get all unique movie IDs\n",
    "all_movie_ids = movies_and_ratings['movieId'].unique()\n",
    "\n",
    "# Get movies rated by user 43\n",
    "user_rated_movie_ids = movies_and_ratings[movies_and_ratings['userId'] == 43]['movieId'].unique()\n",
    "\n",
    "# Get recommendations for user id = 43\n",
    "collaborative_recs = get_collaborative_recommendations(final_model, 43, \n",
    "    all_movie_ids, \n",
    "    user_rated_movie_ids, \n",
    "    movies_and_ratings,  # Pass the movies DataFrame to the function\n",
    "    n=5\n",
    ")\n",
    "\n",
    "# Display the collaborative recommendations\n",
    "for movie_id, title, rating in collaborative_recs:\n",
    "    print(f'Movie ID: {movie_id}, Title: {title}, Predicted Rating: {rating:.2f}')\n"
   ]
  },
  {
   "cell_type": "code",
   "execution_count": 52,
   "metadata": {},
   "outputs": [
    {
     "name": "stdout",
     "output_type": "stream",
     "text": [
      "      movieId                     title\n",
      "1334       25  Leaving Las Vegas (1995)\n",
      "2937       73    Misérables, Les (1995)\n",
      "3192      100          City Hall (1996)\n",
      "5044      170            Hackers (1995)\n",
      "5213      177  Lord of Illusions (1995)\n"
     ]
    }
   ],
   "source": [
    "\n",
    "# Function to get top N similar movies based on genres for a given movie\n",
    "def get_similar_movies(movie_id, df, cosine_sim, user_rated_movie_ids, n):\n",
    "    movie_idx = movies_and_ratings[movies_and_ratings['movieId'] == movie_id].index[0]\n",
    "    sim_scores = list(enumerate(cosine_sim[movie_idx]))\n",
    "    sim_scores = sorted(sim_scores, key=lambda x: x[1], reverse=True)\n",
    "    \n",
    "    # Get the similar movie indices while avoiding duplicates\n",
    "    similar_movie_indices = []\n",
    "    for i in sim_scores[1:]:  # Start from 1 to avoid the original movie\n",
    "        if len(similar_movie_indices) < n:\n",
    "            if movies_and_ratings.iloc[i[0]]['movieId'] not in user_rated_movie_ids:\n",
    "                similar_movie_indices.append(i[0])\n",
    "\n",
    "    # If there are not enough recommendations, you might want to allow duplicates\n",
    "    # or add more movies to the original list (if necessary).\n",
    "\n",
    "    # Return the movie IDs and titles of the similar movies\n",
    "    similar_movies = movies_and_ratings.iloc[similar_movie_indices][['movieId', 'title']]\n",
    "    return similar_movies\n",
    "\n",
    "# Example\n",
    "user_rated_movie_ids = movies_and_ratings[movies_and_ratings['userId'] == 1]['movieId'].unique()\n",
    "recommendations = get_similar_movies(100, movies_and_ratings, cosine_sim, user_rated_movie_ids, n=5)\n",
    "print(recommendations)\n"
   ]
  },
  {
   "cell_type": "code",
   "execution_count": 53,
   "metadata": {},
   "outputs": [
    {
     "ename": "IndexError",
     "evalue": "index 20329 is out of bounds for axis 0 with size 10000",
     "output_type": "error",
     "traceback": [
      "\u001b[1;31m---------------------------------------------------------------------------\u001b[0m",
      "\u001b[1;31mIndexError\u001b[0m                                Traceback (most recent call last)",
      "Cell \u001b[1;32mIn[53], line 42\u001b[0m\n\u001b[0;32m     39\u001b[0m     \u001b[38;5;28;01mreturn\u001b[39;00m movies_and_ratings[movies_and_ratings[\u001b[38;5;124m'\u001b[39m\u001b[38;5;124mmovieId\u001b[39m\u001b[38;5;124m'\u001b[39m]\u001b[38;5;241m.\u001b[39misin(top_movie_ids)]\n\u001b[0;32m     41\u001b[0m \u001b[38;5;66;03m# Example: Get top 10 hybrid recommendations for user 1\u001b[39;00m\n\u001b[1;32m---> 42\u001b[0m recommendations \u001b[38;5;241m=\u001b[39m \u001b[43mhybrid_recommendation\u001b[49m\u001b[43m(\u001b[49m\u001b[43muser_id\u001b[49m\u001b[38;5;241;43m=\u001b[39;49m\u001b[38;5;241;43m1\u001b[39;49m\u001b[43m,\u001b[49m\u001b[43m \u001b[49m\u001b[43mn_recommendations\u001b[49m\u001b[38;5;241;43m=\u001b[39;49m\u001b[38;5;241;43m10\u001b[39;49m\u001b[43m)\u001b[49m\n\u001b[0;32m     44\u001b[0m \u001b[38;5;66;03m# Display the recommendations\u001b[39;00m\n\u001b[0;32m     45\u001b[0m \u001b[38;5;28mprint\u001b[39m(recommendations[[\u001b[38;5;124m'\u001b[39m\u001b[38;5;124mtitle\u001b[39m\u001b[38;5;124m'\u001b[39m, \u001b[38;5;124m'\u001b[39m\u001b[38;5;124mgenres\u001b[39m\u001b[38;5;124m'\u001b[39m]])\n",
      "Cell \u001b[1;32mIn[53], line 15\u001b[0m, in \u001b[0;36mhybrid_recommendation\u001b[1;34m(user_id, n_recommendations)\u001b[0m\n\u001b[0;32m     13\u001b[0m \u001b[38;5;66;03m# For each movie recommended by CF, boost its score if it's also recommended by CBF\u001b[39;00m\n\u001b[0;32m     14\u001b[0m \u001b[38;5;28;01mfor\u001b[39;00m movie_id, movie_title, predicted_rating \u001b[38;5;129;01min\u001b[39;00m collaborative_recs:\n\u001b[1;32m---> 15\u001b[0m     similar_movies \u001b[38;5;241m=\u001b[39m \u001b[43mget_similar_movies\u001b[49m\u001b[43m(\u001b[49m\u001b[43mmovie_id\u001b[49m\u001b[43m,\u001b[49m\u001b[43m \u001b[49m\u001b[43mmovies_and_ratings\u001b[49m\u001b[43m,\u001b[49m\u001b[43m \u001b[49m\u001b[43mcosine_sim\u001b[49m\u001b[43m,\u001b[49m\u001b[43m \u001b[49m\u001b[43mmovies_and_ratings\u001b[49m\u001b[43m \u001b[49m\u001b[43m,\u001b[49m\u001b[43mn\u001b[49m\u001b[38;5;241;43m=\u001b[39;49m\u001b[38;5;241;43m5\u001b[39;49m\u001b[43m)\u001b[49m\n\u001b[0;32m     17\u001b[0m     \u001b[38;5;66;03m# Boost score for movies similar to those recommended by collaborative filtering\u001b[39;00m\n\u001b[0;32m     18\u001b[0m     \u001b[38;5;28;01mfor\u001b[39;00m _, similar_movie \u001b[38;5;129;01min\u001b[39;00m similar_movies\u001b[38;5;241m.\u001b[39miterrows():\n",
      "Cell \u001b[1;32mIn[52], line 4\u001b[0m, in \u001b[0;36mget_similar_movies\u001b[1;34m(movie_id, df, cosine_sim, user_rated_movie_ids, n)\u001b[0m\n\u001b[0;32m      2\u001b[0m \u001b[38;5;28;01mdef\u001b[39;00m \u001b[38;5;21mget_similar_movies\u001b[39m(movie_id, df, cosine_sim, user_rated_movie_ids, n):\n\u001b[0;32m      3\u001b[0m     movie_idx \u001b[38;5;241m=\u001b[39m movies_and_ratings[movies_and_ratings[\u001b[38;5;124m'\u001b[39m\u001b[38;5;124mmovieId\u001b[39m\u001b[38;5;124m'\u001b[39m] \u001b[38;5;241m==\u001b[39m movie_id]\u001b[38;5;241m.\u001b[39mindex[\u001b[38;5;241m0\u001b[39m]\n\u001b[1;32m----> 4\u001b[0m     sim_scores \u001b[38;5;241m=\u001b[39m \u001b[38;5;28mlist\u001b[39m(\u001b[38;5;28menumerate\u001b[39m(\u001b[43mcosine_sim\u001b[49m\u001b[43m[\u001b[49m\u001b[43mmovie_idx\u001b[49m\u001b[43m]\u001b[49m))\n\u001b[0;32m      5\u001b[0m     sim_scores \u001b[38;5;241m=\u001b[39m \u001b[38;5;28msorted\u001b[39m(sim_scores, key\u001b[38;5;241m=\u001b[39m\u001b[38;5;28;01mlambda\u001b[39;00m x: x[\u001b[38;5;241m1\u001b[39m], reverse\u001b[38;5;241m=\u001b[39m\u001b[38;5;28;01mTrue\u001b[39;00m)\n\u001b[0;32m      7\u001b[0m     \u001b[38;5;66;03m# Get the similar movie indices while avoiding duplicates\u001b[39;00m\n",
      "\u001b[1;31mIndexError\u001b[0m: index 20329 is out of bounds for axis 0 with size 10000"
     ]
    }
   ],
   "source": [
    "# Step 5: Combine Collaborative Filtering and Content-Based Filtering\n",
    "def hybrid_recommendation(user_id, n_recommendations=10):\n",
    "    # Get list of all movies and movies user has already rated\n",
    "    all_movie_ids = movies_and_ratings['movieId'].unique()\n",
    "    user_rated_movie_ids = movies_and_ratings[movies_and_ratings['userId'] == user_id]['movieId'].unique()\n",
    "    \n",
    "    # Collaborative filtering recommendations (CF)\n",
    "    collaborative_recs = get_collaborative_recommendations(final_model, user_id, all_movie_ids, user_rated_movie_ids, movies_and_ratings, n=n_recommendations)\n",
    "\n",
    "    # Create a dictionary to hold hybrid recommendations (weighing CF and CBF)\n",
    "    hybrid_recs = {}\n",
    "    \n",
    "    # For each movie recommended by CF, boost its score if it's also recommended by CBF\n",
    "    for movie_id, movie_title, predicted_rating in collaborative_recs:\n",
    "        similar_movies = get_similar_movies(movie_id, movies_and_ratings, cosine_sim, movies_and_ratings ,n=5)\n",
    "\n",
    "        # Boost score for movies similar to those recommended by collaborative filtering\n",
    "        for _, similar_movie in similar_movies.iterrows():\n",
    "            similar_movie_id = similar_movie['movieId']\n",
    "            if similar_movie_id in hybrid_recs:\n",
    "                hybrid_recs[similar_movie_id] += predicted_rating * 0.5  # Combine scores (weighted)\n",
    "            else:\n",
    "                hybrid_recs[similar_movie_id] = predicted_rating * 0.5\n",
    "    \n",
    "    # Combine the collaborative recommendations and content-based similarity\n",
    "    for movie_id, _, predicted_rating in collaborative_recs:\n",
    "        if movie_id in hybrid_recs:\n",
    "            hybrid_recs[movie_id] += predicted_rating * 1.5  # Give more weight to collaborative filtering\n",
    "        else:\n",
    "            hybrid_recs[movie_id] = predicted_rating * 1.5\n",
    "    \n",
    "    # Sort by the combined scores\n",
    "    hybrid_recs = sorted(hybrid_recs.items(), key=lambda x: x[1], reverse=True)\n",
    "    \n",
    "    # Get top N recommendations\n",
    "    top_movie_ids = [movie_id for movie_id, _ in hybrid_recs[:n_recommendations]]\n",
    "    \n",
    "    # Return the top N movie titles\n",
    "    return movies_and_ratings[movies_and_ratings['movieId'].isin(top_movie_ids)]\n",
    "\n",
    "# Example: Get top 10 hybrid recommendations for user 1\n",
    "recommendations = hybrid_recommendation(user_id=1, n_recommendations=10)\n",
    "\n",
    "# Display the recommendations\n",
    "print(recommendations[['title', 'genres']])\n",
    "\n"
   ]
  },
  {
   "cell_type": "markdown",
   "metadata": {},
   "source": [
    "## 9. Conclusions"
   ]
  },
  {
   "cell_type": "markdown",
   "metadata": {},
   "source": [
    "1. Our final model achieved a Root Mean Squared Error (RMSE) of 0.8717 on test data. This implies that the predicted ratings were off by less than one point, on average. This is considered good performance although there's room for improvement.\n"
   ]
  },
  {
   "cell_type": "markdown",
   "metadata": {},
   "source": [
    "## 10. Recommendations"
   ]
  },
  {
   "cell_type": "markdown",
   "metadata": {},
   "source": [
    "1. Address Overfitting: Although dropout layers and early stopping were implemented, the model still showed signs of overfitting. Future work could explore further regularization techniques, such as weight decay or using a simpler model architecture, to generalize better to unseen data.\n",
    "2. Incorporate additional features such as gender, geographical location, movie director information, actors and so much more to improve model predictions and provide a more personalized recemmendation system."
   ]
  }
 ],
 "metadata": {
  "kernelspec": {
   "display_name": "Python (learn-env)",
   "language": "python",
   "name": "learn-env"
  },
  "language_info": {
   "codemirror_mode": {
    "name": "ipython",
    "version": 3
   },
   "file_extension": ".py",
   "mimetype": "text/x-python",
   "name": "python",
   "nbconvert_exporter": "python",
   "pygments_lexer": "ipython3",
   "version": "3.11.9"
  }
 },
 "nbformat": 4,
 "nbformat_minor": 4
}
=======
  "cells": [
    {
      "cell_type": "markdown",
      "metadata": {
        "id": "view-in-github",
        "colab_type": "text"
      },
      "source": [
        "<a href=\"https://colab.research.google.com/github/BandaVallary/Movie_Recommendation_System/blob/kelvin/notebook.ipynb\" target=\"_parent\"><img src=\"https://colab.research.google.com/assets/colab-badge.svg\" alt=\"Open In Colab\"/></a>"
      ]
    },
    {
      "cell_type": "markdown",
      "metadata": {
        "id": "wFoeZuR6p4N1"
      },
      "source": [
        "# Movie Recommendation System"
      ]
    },
    {
      "cell_type": "markdown",
      "metadata": {
        "id": "4LStIpYEp4N3"
      },
      "source": [
        "![\"Image of Donald Draper in a Movie Theater\"](https://github.com/BandaVallary/Movie_Recommendation_System/blob/kelvin/images/dondraperinmovietheater.jpg?raw=1)"
      ]
    },
    {
      "cell_type": "markdown",
      "metadata": {
        "id": "lj7PA39cp4N4"
      },
      "source": [
        "## Overview"
      ]
    },
    {
      "cell_type": "markdown",
      "metadata": {
        "id": "AjW0pm7_p4N5"
      },
      "source": [
        "This project aims to develop a recommendation system that provides personalized movie recommendations based on user ratings. Utilizing the [MovieLens dataset](https://web.archive.org/web/20240828133414/https://grouplens.org/datasets/movielens/latest/) from the GroupLens research lab at the University of Minnesota, the model will be trained on a subset of the dataset containing 100,000 user ratings. The primary objective is to build a machine learning model that can accurately recommend the top 5 movies to a user, based on their ratings of other movies. This system can be valuable for streaming platforms and movie enthusiasts, offering tailored movie suggestions to enhance user experience and engagement.\n",
        "\n",
        "The project will involve several steps, including data cleaning, exploratory data analysis, feature engineering, model selection, and evaluation.\n",
        "\n",
        "Throughout this project, we will also explore the relationships between different variables and their impact on movie recommendations. This will help us gain insights into user preferences and identify potential areas for improvement. Overall, this project has the potential to provide valuable insights and practical applications for the entertainment industry. By developing a recommendation system that can accurately suggest movies, streaming platforms can better engage their users, improve customer satisfaction, and increase viewership."
      ]
    },
    {
      "cell_type": "markdown",
      "metadata": {
        "id": "JDeHSVfGp4N6"
      },
      "source": [
        "## Business Understanding"
      ]
    },
    {
      "cell_type": "markdown",
      "metadata": {
        "id": "NWxuwoaBp4N7"
      },
      "source": [
        "The entertainment industry, particularly streaming platforms, is highly competitive, with companies constantly striving to enhance user engagement and satisfaction. One of the major challenges faced by these platforms is providing personalized content recommendations that keep users engaged and reduce churn rates.\n",
        "\n",
        "According to recent studies, personalized recommendations can significantly increase user engagement and satisfaction, leading to higher retention rates and increased viewership. This highlights the need for a robust recommendation system that can accurately suggest movies based on user preferences. By building a recommendation system that can provide top 5 movie recommendations to users based on their ratings of other movies, streaming platforms can offer a more tailored viewing experience.\n",
        "\n",
        "The business value of this project lies in its ability to help streaming platforms improve their content recommendation strategies, increase user satisfaction, and reduce churn rates. By developing a recommendation system that can accurately suggest movies, platforms can better engage their users, leading to increased viewership and subscription renewals. This can provide a competitive edge in the highly competitive entertainment industry, ultimately driving revenue growth and customer loyalty."
      ]
    },
    {
      "cell_type": "code",
      "source": [
        "!pip install scikit-surprise"
      ],
      "metadata": {
        "colab": {
          "base_uri": "https://localhost:8080/"
        },
        "id": "9QKSmyNiqABo",
        "outputId": "a8531d8d-dbe1-4398-ccab-7023c1e63ec7"
      },
      "execution_count": 1,
      "outputs": [
        {
          "output_type": "stream",
          "name": "stdout",
          "text": [
            "Collecting scikit-surprise\n",
            "  Downloading scikit_surprise-1.1.4.tar.gz (154 kB)\n",
            "\u001b[?25l     \u001b[90m━━━━━━━━━━━━━━━━━━━━━━━━━━━━━━━━━━━━━━━━\u001b[0m \u001b[32m0.0/154.4 kB\u001b[0m \u001b[31m?\u001b[0m eta \u001b[36m-:--:--\u001b[0m\r\u001b[2K     \u001b[91m━━━━━━━━━━━━━━━━━━━━━━━━━━━━━━━━━━━━━━━\u001b[0m\u001b[91m╸\u001b[0m \u001b[32m153.6/154.4 kB\u001b[0m \u001b[31m5.5 MB/s\u001b[0m eta \u001b[36m0:00:01\u001b[0m\r\u001b[2K     \u001b[90m━━━━━━━━━━━━━━━━━━━━━━━━━━━━━━━━━━━━━━━━\u001b[0m \u001b[32m154.4/154.4 kB\u001b[0m \u001b[31m2.7 MB/s\u001b[0m eta \u001b[36m0:00:00\u001b[0m\n",
            "\u001b[?25h  Installing build dependencies ... \u001b[?25l\u001b[?25hdone\n",
            "  Getting requirements to build wheel ... \u001b[?25l\u001b[?25hdone\n",
            "  Preparing metadata (pyproject.toml) ... \u001b[?25l\u001b[?25hdone\n",
            "Requirement already satisfied: joblib>=1.2.0 in /usr/local/lib/python3.10/dist-packages (from scikit-surprise) (1.4.2)\n",
            "Requirement already satisfied: numpy>=1.19.5 in /usr/local/lib/python3.10/dist-packages (from scikit-surprise) (1.26.4)\n",
            "Requirement already satisfied: scipy>=1.6.0 in /usr/local/lib/python3.10/dist-packages (from scikit-surprise) (1.13.1)\n",
            "Building wheels for collected packages: scikit-surprise\n",
            "  Building wheel for scikit-surprise (pyproject.toml) ... \u001b[?25l\u001b[?25hdone\n",
            "  Created wheel for scikit-surprise: filename=scikit_surprise-1.1.4-cp310-cp310-linux_x86_64.whl size=2357280 sha256=1584e2179a5a3ae9fcdb345a3c1ed9946a691dd6236d5b733080639d2c80984f\n",
            "  Stored in directory: /root/.cache/pip/wheels/4b/3f/df/6acbf0a40397d9bf3ff97f582cc22fb9ce66adde75bc71fd54\n",
            "Successfully built scikit-surprise\n",
            "Installing collected packages: scikit-surprise\n",
            "Successfully installed scikit-surprise-1.1.4\n"
          ]
        }
      ]
    },
    {
      "cell_type": "code",
      "execution_count": 2,
      "metadata": {
        "id": "gntIigRVp4N8"
      },
      "outputs": [],
      "source": [
        "# Importing libraries\n",
        "import pandas as pd\n",
        "import numpy as np\n",
        "import matplotlib.pyplot as plt\n",
        "import seaborn as sns\n",
        "import warnings\n",
        "warnings.filterwarnings('ignore')\n",
        "%matplotlib inline\n",
        "sns.set_style('whitegrid')\n",
        "\n",
        "from surprise.model_selection import cross_validate\n",
        "from surprise.prediction_algorithms import SVD\n",
        "from surprise.prediction_algorithms import KNNWithMeans, KNNBasic, KNNBaseline\n",
        "from surprise.model_selection import GridSearchCV\n",
        "from surprise import Reader, Dataset\n",
        "from sklearn.model_selection import train_test_split\n",
        "from tensorflow.keras.models import Model\n",
        "from tensorflow.keras.layers import Input, Embedding, Flatten, Dot, Dense, Concatenate\n",
        "from tensorflow.keras.optimizers import Adam"
      ]
    },
    {
      "cell_type": "markdown",
      "metadata": {
        "id": "yFoMCqqbp4N9"
      },
      "source": [
        "## Reading the Data"
      ]
    },
    {
      "cell_type": "code",
      "execution_count": 3,
      "metadata": {
        "id": "1hUpnwrUp4N-"
      },
      "outputs": [],
      "source": [
        "# Loading the data\n",
        "movies = pd.read_csv('/content/movies.csv')\n",
        "ratings = pd.read_csv('/content/ratings.csv')\n",
        "tags = pd.read_csv('/content/tags.csv')"
      ]
    },
    {
      "cell_type": "markdown",
      "metadata": {
        "id": "D25vNyX0p4N-"
      },
      "source": [
        "## Tidying the data (ratings df)\n",
        "\n",
        "1. Check data types and figure out which figures are numerical and which are categorical.\n",
        "2. Check for null values.\n",
        "3. Check for duplicate values"
      ]
    },
    {
      "cell_type": "markdown",
      "metadata": {
        "id": "Ou09pjcnp4N_"
      },
      "source": [
        "I check for null values in the dataset. There are none."
      ]
    },
    {
      "cell_type": "code",
      "execution_count": 4,
      "metadata": {
        "colab": {
          "base_uri": "https://localhost:8080/",
          "height": 209
        },
        "id": "0XWl_SXrp4N_",
        "outputId": "1ab7b93c-0593-4420-d7c2-8695d675a759"
      },
      "outputs": [
        {
          "output_type": "execute_result",
          "data": {
            "text/plain": [
              "userId       0\n",
              "movieId      0\n",
              "rating       0\n",
              "timestamp    0\n",
              "dtype: int64"
            ],
            "text/html": [
              "<div>\n",
              "<style scoped>\n",
              "    .dataframe tbody tr th:only-of-type {\n",
              "        vertical-align: middle;\n",
              "    }\n",
              "\n",
              "    .dataframe tbody tr th {\n",
              "        vertical-align: top;\n",
              "    }\n",
              "\n",
              "    .dataframe thead th {\n",
              "        text-align: right;\n",
              "    }\n",
              "</style>\n",
              "<table border=\"1\" class=\"dataframe\">\n",
              "  <thead>\n",
              "    <tr style=\"text-align: right;\">\n",
              "      <th></th>\n",
              "      <th>0</th>\n",
              "    </tr>\n",
              "  </thead>\n",
              "  <tbody>\n",
              "    <tr>\n",
              "      <th>userId</th>\n",
              "      <td>0</td>\n",
              "    </tr>\n",
              "    <tr>\n",
              "      <th>movieId</th>\n",
              "      <td>0</td>\n",
              "    </tr>\n",
              "    <tr>\n",
              "      <th>rating</th>\n",
              "      <td>0</td>\n",
              "    </tr>\n",
              "    <tr>\n",
              "      <th>timestamp</th>\n",
              "      <td>0</td>\n",
              "    </tr>\n",
              "  </tbody>\n",
              "</table>\n",
              "</div><br><label><b>dtype:</b> int64</label>"
            ]
          },
          "metadata": {},
          "execution_count": 4
        }
      ],
      "source": [
        "# checking for null values\n",
        "ratings.isnull().sum()"
      ]
    },
    {
      "cell_type": "markdown",
      "source": [
        "I then check for duplicates. There are none."
      ],
      "metadata": {
        "id": "6NLFvHGKeNOn"
      }
    },
    {
      "cell_type": "code",
      "source": [
        "# check for duplicates\n",
        "ratings.duplicated().sum()"
      ],
      "metadata": {
        "id": "Q-37kVF9eP8U",
        "outputId": "109f7dec-6942-48c9-917b-4b696c99d84e",
        "colab": {
          "base_uri": "https://localhost:8080/"
        }
      },
      "execution_count": 5,
      "outputs": [
        {
          "output_type": "execute_result",
          "data": {
            "text/plain": [
              "0"
            ]
          },
          "metadata": {},
          "execution_count": 5
        }
      ]
    },
    {
      "cell_type": "code",
      "source": [
        "# check data types\n",
        "ratings.dtypes"
      ],
      "metadata": {
        "id": "S3n4BBYQef_J",
        "outputId": "734a5afa-7f60-4354-f7f0-383c47e321d6",
        "colab": {
          "base_uri": "https://localhost:8080/",
          "height": 209
        }
      },
      "execution_count": 6,
      "outputs": [
        {
          "output_type": "execute_result",
          "data": {
            "text/plain": [
              "userId         int64\n",
              "movieId        int64\n",
              "rating       float64\n",
              "timestamp      int64\n",
              "dtype: object"
            ],
            "text/html": [
              "<div>\n",
              "<style scoped>\n",
              "    .dataframe tbody tr th:only-of-type {\n",
              "        vertical-align: middle;\n",
              "    }\n",
              "\n",
              "    .dataframe tbody tr th {\n",
              "        vertical-align: top;\n",
              "    }\n",
              "\n",
              "    .dataframe thead th {\n",
              "        text-align: right;\n",
              "    }\n",
              "</style>\n",
              "<table border=\"1\" class=\"dataframe\">\n",
              "  <thead>\n",
              "    <tr style=\"text-align: right;\">\n",
              "      <th></th>\n",
              "      <th>0</th>\n",
              "    </tr>\n",
              "  </thead>\n",
              "  <tbody>\n",
              "    <tr>\n",
              "      <th>userId</th>\n",
              "      <td>int64</td>\n",
              "    </tr>\n",
              "    <tr>\n",
              "      <th>movieId</th>\n",
              "      <td>int64</td>\n",
              "    </tr>\n",
              "    <tr>\n",
              "      <th>rating</th>\n",
              "      <td>float64</td>\n",
              "    </tr>\n",
              "    <tr>\n",
              "      <th>timestamp</th>\n",
              "      <td>int64</td>\n",
              "    </tr>\n",
              "  </tbody>\n",
              "</table>\n",
              "</div><br><label><b>dtype:</b> object</label>"
            ]
          },
          "metadata": {},
          "execution_count": 6
        }
      ]
    },
    {
      "cell_type": "code",
      "source": [
        "# Drop the timestamp column\n",
        "ratings.drop('timestamp', axis=1, inplace=True)"
      ],
      "metadata": {
        "id": "ZCtFGTpAejIP"
      },
      "execution_count": 7,
      "outputs": []
    },
    {
      "cell_type": "markdown",
      "source": [
        "Now, I'll add the `title` column from the `movies` dataframe to the `ratings` dataframe based on the common `movieId` column."
      ],
      "metadata": {
        "id": "6hGI1fuee_Sq"
      }
    },
    {
      "cell_type": "code",
      "source": [
        "# extracting the title from the `movies` df based on the `movieId`\n",
        "ratings_with_titles = ratings.merge(movies[['movieId', 'title']], on='movieId', how='left')"
      ],
      "metadata": {
        "id": "UEU02ZnPfCGB"
      },
      "execution_count": 8,
      "outputs": []
    },
    {
      "cell_type": "markdown",
      "source": [
        "I'll merge `movies`, `ratings` and `tags` dataframes to one dataframe. First, I'll merge `movies` and `ratings`."
      ],
      "metadata": {
        "id": "qD_94UzCgBCL"
      }
    },
    {
      "cell_type": "code",
      "source": [
        "movies_ratings = pd.merge(movies, ratings, on='movieId', how='left')"
      ],
      "metadata": {
        "id": "KET9GLSkgGSQ"
      },
      "execution_count": 9,
      "outputs": []
    },
    {
      "cell_type": "markdown",
      "source": [
        "Then, we'll merge the results with `tags` dataframe."
      ],
      "metadata": {
        "id": "EBEuXJKngJXF"
      }
    },
    {
      "cell_type": "code",
      "source": [
        "movies_ratings_tags = pd.merge(movies_ratings, tags, on='movieId', how='left')"
      ],
      "metadata": {
        "id": "7Ux_lE4bgaH0"
      },
      "execution_count": 10,
      "outputs": []
    },
    {
      "cell_type": "markdown",
      "source": [
        "Since two userId columns(userId_x, userId_y) have been created after the merge,\n",
        "we'll drop one userId column."
      ],
      "metadata": {
        "id": "wxJrGHZ0ghUF"
      }
    },
    {
      "cell_type": "code",
      "source": [
        "movies_ratings_tags = movies_ratings_tags.drop('userId_y', axis=1)\n",
        "movies_ratings_tags = movies_ratings_tags.rename(columns={'userId_x': 'userId'})"
      ],
      "metadata": {
        "id": "TTNWWuC-gj8k"
      },
      "execution_count": 11,
      "outputs": []
    },
    {
      "cell_type": "markdown",
      "source": [
        "We'll drop the `timestamp` column."
      ],
      "metadata": {
        "id": "vBLncHwKtNan"
      }
    },
    {
      "cell_type": "code",
      "source": [
        "movies_ratings_tags = movies_ratings_tags.drop('timestamp', axis=1)"
      ],
      "metadata": {
        "id": "palGah2QtRj2"
      },
      "execution_count": 12,
      "outputs": []
    },
    {
      "cell_type": "markdown",
      "source": [
        "Now, we'll plot a histogram of the distribution of user ratings."
      ],
      "metadata": {
        "id": "nbSqDuVE80ZK"
      }
    },
    {
      "cell_type": "code",
      "source": [
        "plt.figure(figsize=(10, 6))\n",
        "\n",
        "# Define the bins\n",
        "bins = [0.5, 1.0, 2.0, 3.0, 4.0, 5.0]\n",
        "\n",
        "# Create the histogram\n",
        "plt.hist(ratings['rating'], bins=bins, edgecolor='black')\n",
        "\n",
        "# Customize the plot\n",
        "plt.title('Distribution of User Ratings')\n",
        "plt.xlabel('Rating')\n",
        "plt.ylabel('Count')\n",
        "\n",
        "# Calculate the center of each bin\n",
        "bin_centers = [(bins[i] + bins[i+1])/2 for i in range(len(bins)-1)]\n",
        "\n",
        "# Set x-axis labels to show the bin ranges, centered on each bin\n",
        "plt.xticks(bin_centers, ['0.5-1.0', '1.0-2.0', '2.0-3.0', '3.0-4.0', '4.0-5.0'])\n",
        "\n",
        "plt.show()"
      ],
      "metadata": {
        "colab": {
          "base_uri": "https://localhost:8080/",
          "height": 564
        },
        "id": "GWMSR2Jvuiqd",
        "outputId": "2cb6b9f8-6c9f-4c6a-e809-4580bb257a5c"
      },
      "execution_count": 13,
      "outputs": [
        {
          "output_type": "display_data",
          "data": {
            "text/plain": [
              "<Figure size 1000x600 with 1 Axes>"
            ],
            "image/png": "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\n"
          },
          "metadata": {}
        }
      ]
    },
    {
      "cell_type": "markdown",
      "source": [
        "Next we'll create a horizontal bar chart that displays the top 15 movies based on their average ratings, filtered for those with a minimum number of 100 ratings."
      ],
      "metadata": {
        "id": "z5Dvmtgr7Ah4"
      }
    },
    {
      "cell_type": "code",
      "source": [
        "# Calculate average rating for each movie and number of ratings\n",
        "movie_stats = ratings_with_titles.groupby('title').agg({\n",
        "    'rating': ['mean', 'count']\n",
        "}).reset_index()\n",
        "\n",
        "# Flatten the column names\n",
        "movie_stats.columns = ['title', 'avg_rating', 'num_ratings']\n",
        "\n",
        "# Filter for movies with a minimum number of ratings\n",
        "min_ratings = 100\n",
        "popular_movies = movie_stats[movie_stats['num_ratings'] >= min_ratings]\n",
        "\n",
        "# Sort by average rating and get top 10\n",
        "top_movies = popular_movies.sort_values('avg_rating', ascending=False).head(15)\n",
        "\n",
        "# Create the plot\n",
        "plt.figure(figsize=(12, 6))\n",
        "bars = plt.barh(y=range(len(top_movies)), width=top_movies['avg_rating'],\n",
        "                color=sns.color_palette(\"viridis\", len(top_movies)))\n",
        "\n",
        "# Customize the plot\n",
        "plt.yticks(range(len(top_movies)), top_movies['title'])\n",
        "plt.xlabel('Average Rating')\n",
        "plt.title(f'Top 10 Movies (Minimum {min_ratings} ratings)')\n",
        "\n",
        "# Add rating annotations to the end of each bar\n",
        "for i, bar in enumerate(bars):\n",
        "    width = bar.get_width()\n",
        "    plt.text(width, bar.get_y() + bar.get_height()/2,\n",
        "             f'{top_movies[\"avg_rating\"].iloc[i]:.2f} ({top_movies[\"num_ratings\"].iloc[i]} ratings)',\n",
        "             va='center', ha='left', fontweight='bold')\n",
        "\n",
        "plt.tight_layout()\n",
        "plt.show()\n",
        "\n",
        "# Print the data\n",
        "print(\"\\nTop 15 Movies Data:\")\n",
        "print(top_movies[['title', 'avg_rating', 'num_ratings']].to_string(index=False))"
      ],
      "metadata": {
        "colab": {
          "base_uri": "https://localhost:8080/",
          "height": 607
        },
        "id": "IvHIwAVr6OgJ",
        "outputId": "3a9aa4d4-d7a7-4d0e-e4b7-b8944e4d2d99"
      },
      "execution_count": 14,
      "outputs": [
        {
          "output_type": "display_data",
          "data": {
            "text/plain": [
              "<Figure size 1200x600 with 1 Axes>"
            ],
            "image/png": "iVBORw0KGgoAAAANSUhEUgAABLEAAAJOCAYAAABIq5WiAAAAOXRFWHRTb2Z0d2FyZQBNYXRwbG90bGliIHZlcnNpb24zLjcuMSwgaHR0cHM6Ly9tYXRwbG90bGliLm9yZy/bCgiHAAAACXBIWXMAAA9hAAAPYQGoP6dpAAEAAElEQVR4nOzdd1QVV/fw8S8gIIgFFBURu14LINhRbNgQS5TYDbFgVGLvmhix15DYjcYWazTYEcWWWCIWbLFg7KJgBVGkc+H9g/fOjytdMaDP/qzFWjL3zJl9x8Mte/Y5o5OUlJSEEEIIIYQQQgghhBB5mG5uByCEEEIIIYQQQgghRGYkiSWEEEIIIYQQQggh8jxJYgkhhBBCCCGEEEKIPE+SWEIIIYQQQgghhBAiz5MklhBCCCGEEEIIIYTI8ySJJYQQQgghhBBCCCHyPEliCSGEEEIIIYQQQog8T5JYQgghhBBCCCGEECLPkySWEEIIIYQQQgghhMjzJIklhBBCCCHyjJ07d6JSqXj8+PF/fuypU6fSr1+/HOnLzc0NNze399p34sSJODk55UgcInfk5jhO6dWrV9jZ2XH8+PFcjUMIIXKKJLGEEEIIId6hUqmy9HP27NmPHsuWLVsYPnw4zZo1Q6VSMXHixHTbvnnzhh9++IEGDRpgZ2eHm5sb169fz9Jx3NzcUKlUtG7dOs3H//77b+V5Hzx48L2eS1726NEjvL29GTRokLLt8ePHynNevnx5mvuNGTMGlUqFvb39fxXqJ+mff/5h6tSpuLq6UqNGDVQqVYbt//jjD9q2bYuNjQ2tW7dm48aNabZ79uwZI0aMoE6dOtSqVQsPDw8ePXr0MZ5Cmn755ReOHDnynx0vu0xNTenSpQuLFi3K7VCEECJH5MvtAIQQQggh8pr58+dr/b5nzx7+/vvvVNsrVqz40WNZvXo1kZGR2NjY8OLFi3TbJSYmMnDgQP7991/c3d0xNTVly5YtuLm5sXPnTsqVK5fpsQwNDXn48CH//PMPtra2Wo/t27cPQ0NDYmNjP/QpZeiLL76gXbt2GBgYfNTjvGvDhg1YWlrSoEGDVI8ZGhqyf/9+vv32W63tUVFRHDt2DENDw1T7rFmz5r1jmTFjBklJSe+9f150/PhxvL29qVKlCqVLl+bBgwfptv3999/x9PSkTZs29OvXj4CAAGbOnEl0dDQDBw5U2kVGRvL1118TERHBoEGD0NfXZ/369Xz11Vfs3r0bU1PTj/68Vq5cSZs2bWjZsqXW9twax2np2bMnGzduxN/fHwcHh9wORwghPogksYQQQggh3vHFF19o/X7lyhX+/vvvVNv/Cxs3bqRUqVLo6OhkWO1z8OBBLl26xKJFi3B2dgagbdu2tGnThiVLluDl5ZXpscqUKUNCQgI+Pj5aSazY2FgOHz5Ms2bN8PPz+/AnlQE9PT309PQ+6jHeFR8fz759++jRo0eajzdt2pRDhw5x8+ZNqlatqmw/evQo8fHxODo6pqrK+5Dkhb6+/nvvm1f17NmTb775hvz58zN9+vR0k1gxMTH8/PPPNGvWjMWLFwPQrVs3EhMTWbFiBd27d6dw4cJAcpXigwcP+OOPP5Tx2rhxYzp06MC6desYPXp0tmJMTEwkPj4+zaRkduXGOE5PxYoVqVKlCrt27ZIklhDikyfTCYUQQggh3kNUVBRz586ladOmWFtb06ZNG9asWZOqgkalUjF9+nT27t1LmzZtsLGxwdXVlfPnz2fpOJaWlujo6GTazs/Pj2LFimlNBzQzM6Nt27YcPXqUuLi4LB2vffv2+Pr6kpiYqGw7duwYMTExSnLsXTdu3GDAgAHUqlULe3t7+vTpw+XLl5XHr169ikqlYteuXan2PXnyJCqVij///BNIfy2h48eP06tXL+zs7LC3t2fgwIHcvn1bq82LFy+YNGkSTZo0wdraGkdHRzw8PDJdl+jChQu8evWKhg0bpvm4nZ0dpUuXZt++fVrb9+3bh6OjI0WKFEm1z7trYp09exaVSoWvry8rVqygSZMm2NjY0KdPHx4+fKi177trYmmmNa5Zs4bNmzfTokULatasSf/+/Xny5AlJSUksW7aMJk2aYGtri4eHB+Hh4Vp9qlQqlixZkipOJycnrSmqmvOvqX5q0KABderUYcqUKcTFxfHmzRvGjx9P3bp1qVu3LvPnz89S1VixYsXInz9/pu3Onj1LeHg4vXr10treu3dvoqKi+Ouvv5Rtfn5+2NjYaCVcK1asiIODAwcOHMj0WCn/Ntu1a4eNjQ0nT54EkivpevToQf369bG1tcXV1TXVNFqVSkVUVBS7du1Spp1qzmVa49jJyYlBgwYREBBAly5dsLGxoUWLFuzevTtVbDdv3uSrr77C1taWJk2asHz5cnbs2JGqz6tXr+Lu7q7E6eTkxKRJk1L117BhQ/7888/PrsJPCPG/R5JYQgghhBDZlJSUhIeHB+vXr6dx48ZMmjSJ8uXLM3/+fObMmZOq/fnz55k9ezYdO3Zk+PDhhIeHM2DAAG7dupVjMQUGBlK9enV0dbU/3tnY2BAdHc39+/ez1E/79u158eKFVmWRj48PDRo0oGjRoqna3759m969e3Pz5k0GDBigJI3c3Ny4cuWKEoOVlVWaiQVfX18KFy6Mo6NjujHt3r2bQYMGYWxszNixY/n222+5c+cOvXr10vpCP2zYMA4fPoyrqyuenp64ubkRGRnJkydPMnzOly5dQkdHh+rVq2d4Xnx9fZUkQFhYGH///TcdOnTIsO93/frrrxw+fJj+/fszaNAgrly5wtixY7O07759+5Qpov369ePcuXOMHDmShQsXcvLkSb755hu6devGn3/+ybx587IV17tmzpzJgwcPGDZsGE5OTmzbto1FixYxePBg1Go1o0aNonbt2qxZs4Y9e/Z80LFSunHjBgDW1tZa22vUqIGuri6BgYFActXUv//+m6odJI+3oKAg3r59m+nxzpw5w5w5c2jbti3fffcdlpaWQPL00mrVqjF8+HBGjx6Nnp4eI0aM0EqizZ8/HwMDA+rUqcP8+fOZP38+3bt3z/B4Dx8+ZMSIETRq1IiJEydSuHBhJk6cqJWQffbsGX369OH27dsMHDiQvn37sm/fPjZs2KDVV2hoKO7u7jx+/JiBAwfyww8/0KFDB+Xv7t3z9+bNm1SJXyGE+NTIdEIhhBBCiGw6evQoZ86cYeTIkXh4eADJlSLDhw9nw4YNfPXVV5QpU0Zpf+vWLXbs2KF84W7Xrh3Ozs4sXryYpUuX5khML168oE6dOqm2Fy9eHIDnz59nupg2QLly5bC2tsbHxwcHBwfevHnD8ePHmTlzZprtFy5cSHx8PFu3bsXKygqATp064ezszIIFC9i0aRMALi4urF27ltevXyvTweLi4jhy5AitWrVKdwpdZGQks2bNomvXrsyYMUPZ3rlzZ5ydnVm5ciUzZszgzZs3XLp0ifHjx+Pu7q60S7lQe3ru3btH4cKFMTExSbdN+/bt+eWXX7hw4QJ16tThwIEDGBgY4OTkpFTvZEVsbCy7d+9WphsWKlSIWbNmcevWLapUqZLhvs+ePePQoUMULFgQSE7krFy5kpiYGHbs2EG+fMkf7V+9esW+ffuYNm3ae09rLFq0KL/++is6Ojr07t2boKAg1qxZQ/fu3Zk2bRoA3bt3x8nJiR07dtCpU6f3Os67Xrx4gZ6eXqqEqYGBAUWKFOH58+cAhIeHExcXh7m5eao+NNueP3+e4f8pwP3799m3bx+VKlXS2u7n56dVOda7d29cXV1Zt24dzZo1A5KnHU+dOhUrK6ssTzW+f/8+mzdvVv5W27ZtS9OmTdm5cycTJkwAkhOdr1+/ZteuXVSrVg0AV1dX2rRpo9XXpUuXeP36NWvWrMHGxkbZPmrUqFTH1fxt3rlzJ9NxJoQQeZlUYgkhhBBCZNOJEyfQ09PTmi4G0L9/f5KSkjhx4oTWdnt7e62KkVKlStGiRQtOnTqFWq3OkZhiYmLSTFhotmVnQfYOHTpw+PBh4uLi8PPzQ09PL9XC1QBqtZq///6bli1bKl+SITlx1r59ey5cuKBUw7i4uBAfH8+hQ4eUdn///Tdv3rzBxcUl3VhOnz7NmzdvaNeuHWFhYcqPrq4uNWvWVCrG8ufPj76+PufOneP169dZfq6QnBDRJNbSU7lyZVQqFfv37weSq9NatGiBkZFRto7l6uqq9f+kSWZk5Y56zs7OSgILUKbRdezYUUlgabbHx8fz7NmzbMWWUpcuXbSmsdra2pKUlESXLl2UbXp6elhbW+fo3QBjYmLSTWgaGhoSExMD/N94TmvMa9a0ysqYr1u3bqoEFqCVwHr9+jURERHUrl1bqRR7X5UqVdJKNpuZmVG+fHmtc3jy5Ens7OyUBBZAkSJFUlX9acbCX3/9RXx8fIbHLVSoEJCc4BRCiE+ZJLGEEEIIIbIpODiY4sWLp6ry0NytMDg4WGt72bJlU/VRrlw5oqOjCQsLy5GY8ufPn+a6V5pt2Vms2sXFhYiICE6cOMHevXtp1qxZmhUtYWFhREdHU758+VSPVaxYkcTERGUqX9WqValQoYLWlEJfX19MTU3TvCOghmYB8D59+uDg4KD1c+rUKUJDQ4HkZMbYsWM5ceIEjRo1onfv3vz6668Z3tExpaysFdS+fXsOHjzIw4cPuXTpUranEkJyAjMlTXLhzZs3me5rYWGh9bsmiZHe9uwm8zKKM6Njfchx3pU/f/50EzKxsbFKckkzntMa85rkVVbGfOnSpdPc/ueff9KtWzdsbGyoV68eDg4ObN26lYiIiCw9j/S8e/4AChcurHUOg4OD03zNSFndCVCvXj3atGnD0qVLadCgAR4eHuzYsSPD9e+ysr6eEELkZTKdUAghhBDiM2Bubp5mwkYz/UozrTArihcvTr169Vi3bh0XL15Mc0Hw9+Hi4sIvv/xCWFgYJiYmHDt2jHbt2mlVEb1Lk1yaP39+mlPHUt4Brm/fvjg5OXHkyBFOnTrFokWLWLVqFb/99luG610VKVIkS0mk9u3b89NPPzF58mSKFClCo0aNMt3nXe+uWaaRlSRaene7+5A+06sETK/P9LbnFHNzc9RqNaGhoVpTCuPi4ggPD1fGcZEiRTAwMEhzzGu2ZWXMp7XYfEBAAB4eHtStWxdPT0/Mzc3R19dnx44d+Pj4vO9TA9L/P3wfOjo6LF68mMuXL/Pnn39y8uRJvvvuO9atW8e2bdsoUKCA0laTJDM1Nc2x4wshRG6QSiwhhBBCiGyytLTk+fPnqRaOvnfvnvJ4Su/efQ6SK4yMjIwwMzPLkZiqVq3KjRs3tO4qCPDPP/9gZGSUZrVURtq3b09AQAAmJiY0adIkzTZmZmYYGRmluWj8vXv30NXV1ao8cXFxISEhgUOHDnHixAnevn1Lu3btMoxDM02xaNGiNGzYMNVP/fr1tdqXKVOG/v37s3btWnx8fIiPj2ft2rUZHqNChQrKlLGMlCpVilq1anHu3DmcnZ0zTL7lNYULF06VqIuLi8typdp/RTOF7tq1a1rbr127RmJiIlWrVgWSk2lVqlRJ1Q6Sx7yVlVWm62Glx8/PD0NDQ9asWUOXLl1o2rRpuneu/BgsLS3TfM0ICgpKs72dnR2jRo1i586d/Pjjj9y+fRtfX1+tNpobIGiqRYUQ4lMlSSwhhBBCiGxq0qQJarWazZs3a21fv349Ojo6qZI+ly5d4vr168rvT5484ejRozRq1CjHKjOcnZ15+fKl1ppTYWFhHDx4kObNm2d7gW9nZ2eGDh2Kp6dnuvvq6enRqFEjjh49qnWXwJcvX+Lj40Pt2rW1EgkVK1akSpUq+Pr64uvri7m5OXXr1s0wjsaNG2NiYsLKlSvTnGammY4ZHR2dag2kMmXKUKBAgQynV0FyEiApKSnNhMi7Ro4cydChQ1Oth5bXWVlZERAQoLVt+/btObYmW05p0KABRYoUYevWrVrbt27dipGRkbKoOkCbNm24evUqV69eVbbdu3ePM2fO4Ozs/N4x6OnpoaOjo3VuHj9+zNGjR1O1NTY2zlIVX3Y4Ojpy+fJl5U6MkLxu2759+7TavX79OlW1nSYJ+O6Yv379OgULFqRy5co5GqsQQvzXPp3LR0IIIYQQeYSTkxP169fn559/Jjg4GJVKxd9//83Ro0fp06dPqrVrqlSpgru7O25ubhgYGChf0IcNG5bpsY4dO8bNmzcBiI+P599//2X58uVKHJrKlDZt2mBnZ8ekSZO4c+cOpqambN26FbVanaXjvKtgwYJZ2m/kyJGcPn2aXr160atXL/T09Ni2bRtxcXGMGzcuVXsXFxcWL16MoaEhXbp0yXR6momJCVOnTmX8+PG4urri4uKCmZkZISEhHD9+nFq1ajFlyhQePHhA3759cXZ2plKlSujp6XHkyBFevnyZabVX7dq1KVKkCP7+/jg4OGTYtl69etSrVy/T85LXdO3aFU9PT4YNG0bDhg25efMmp06d+s+mlwUHB7Nnzx7g/6qsNOO4VKlSyt0N8+fPz/Dhw5k+fTrDhw+ncePGBAQEsHfvXkaNGkWRIkWUPnv16sUff/zBoEGD6N+/P/ny5WP9+vUULVqU/v37v3esTZs2Zd26dQwYMID27dsTGhrKli1bKFOmDP/++69W2xo1auDv78+6desoXrw4pUuXpmbNmu99bIABAwawd+9e+vXrx1dffYWxsTF//PEHFhYWhIeHK+ta7dq1i61bt9KyZUvKlClDZGQk27dvT7N68vTp0zRv3lzWxBJCfPIkiSWEEEIIkU26urqsWLGCxYsX4+vry86dO7G0tGT8+PFpfnmuW7cudnZ2LFu2jJCQECpVqsScOXOUBFRGDh06xK5du5Tfb9y4odwhrWTJkkofenp6rFq1ivnz57Nx40ZiY2OxsbFhzpw5VKhQIYeeeWqVK1dm8+bNeHl5sXLlSpKSkrC1tWXBggVpfpl3cXFh4cKFREdH07Zt2ywdo0OHDhQvXpxVq1axZs0a4uLiKFGiBHXq1MHV1RVIPhft2rXD39+fvXv3oqenR4UKFVi4cCFt2rTJsH8DAwM6dOjAwYMHGT16dPZPwiegW7duPH78GG9vb06ePEnt2rVZt24dffv2/U+O//jxYxYtWqS1TfN7vXr1lCQWQO/evdHX12ft2rUcO3YMCwsLJk2aRJ8+fbT2NzExYePGjcyePZsVK1aQmJhI/fr1mTRp0gdN03VwcGDWrFn8+uuvzJ49m9KlSzN27FiCg4NTJbEmTpzIlClTWLhwITExMXTu3PmDk1gWFhZs2LCBmTNnsnLlSszMzOjduzdGRkbMnDlTWbC+Xr16XL16FV9fX16+fEnBggWxtbXlxx9/1Lpb6N27d7l16xbffffdB8UlhBB5gU5SVlZ8FEIIIYQQ70WlUtG7d2+mTJmS26GIDDx69Ii2bdvy66+/ZlqNJURumDVrFtu2bePSpUvZmoY8a9YsAgIC2Llzp1RiCSE+ebImlhBCCCGE+J9nZWXFl19+yapVq3I7FCGIiYnR+v3Vq1fs3buX2rVrZyuB9erVK7y9vRk5cqQksIQQnwWZTiiEEEIIIQQwbdq03A5BCAC6d+9OvXr1qFixIi9fvmTHjh28ffuWb7/9Nlv9mJqacunSpY8UpRBC/PckiSWEEEIIIYQQeUjTpk3x8/Nj+/bt6OjoUL16dWbNmpXp3TyFEOJzJ2tiCSGEEEIIIYQQQog8T9bEEkIIIYQQQgghhBB5niSxhBBCCCGEEEIIIUSeJ2tiCSGEyLLExEQSEhLQ1dWVuxwJIYQQQog8KSkpicTERPLly4eurtTufE4kiSWEECLLEhISuHr1am6HIYQQQgghRKZsbGwwMDDI7TBEDpIklhBCiCzTXMmqXr26fCAQH0StVnP16lVsbGzQ09PL7XDEJ0zGkshJMp5ETpGxlLs051+qsD4/ksQSQgiRZZophHp6evKBTOQIGUsip8hYEjlJxpPIKTKWcpcsf/H5kbSkEEIIIYQQQgghhMjzJIklhBBCCCGEEEIIIfI8SWIJIYQQQgghhBBCiDxPklhCCCGEEEIIIYQQIs+TJJYQQgghhBBCCCGEyPMkiSWEEEIIIYQQQggh8jxJYgkhhBBCCCGEEEKIPE+SWEIIIYQQQgghhBAiz5MklhBCCCGEEEIIIYTI8ySJJYQQQgghhBBCCCHyPEliCSGEEEIIIYQQQog8T5JYQgghhBBCCCGEECLPkySWEEIIIYQQQgghhMjzJIklhBBCCCGEEEIIIfI8SWIJIYQQQgghhBBCiDxPklhCCCGEEEIIIYQQIs+TJJYQQgghhBBCCCGEyPMkiSWEEEIIIYQQQggh8jxJYgkhhBBCCCGEEEKIPE+SWEIIIYTIFUZGRrkdgvhMyFgSOUnGk8gpMpaEyHn5cjsAIYQQnx49Pb3cDkF84vT09KhevXpuhyE+AzKWRE6S8SRySl4YS0lJanR05DOb+LxIEksIIUS2PQkbQ4I6MLfDEEIIIYQQaTDQr0SpostyOwwhcpwksYQQQmRbXPw94tVXczsMIYQQQgghxP8QWRNLCCGEEEIIIYQQQuR5ksQSQgghhBBCCCGEEHmeJLGEEEIIIYQQQgghRJ4nSSwhhBBCCCGEEELkijFjxqBSqdixY0duh/KfUqlUqFQqdu7cmSvHf/jwIdWqVcPJyYm4uLhcieF9SBLrE+Dm5sasWbM+Wv9nz55FpVLx5s2bj3aMj83JyYn169fndhg55vHjx6hUKgID8/7d39499yqViiNHjuReQB/BkiVL+OKLL7K9n7+/P23btkWtVn+EqD5MWFgYDg4OPH36NLdDEUIIIYQQ/4ERI0YoiZNRo0Zl2n7t2rW4ubnh6OiItbU1zZs3Z8KECTx69Ehp8/btW2bNmoWrqyv169fH1taWNm3asHDhQt6+fZvpMe7cuYOvry/FihWjQ4cO2e5zxowZdOzYkerVq6NSqWjUqFGqYzx//pyRI0fi5OSUreefE3bu3Kkc8101a9akZs2amJmZ/SexvKts2bK0bNmS4ODgTyqBmK0kVlhYGJ6enjRr1gxra2saNWqEu7s7Fy5cUNp8zC+wW7duxd7enoSEBGVbZGQkNWrUwM3NTautJjETFBT0UWLJCk0Maf28ePEiy/0sWbKEESNGfMRIP8zatWupW7cusbGxqR6Ljo6mVq1abNiw4b36njhxYrrnUKVS4eTk9KHhp0uTSErr5/Llyx/tuAAWFhacOnWKypUr53jfjx49YsyYMTg6OmJjY0OTJk3w8PDg7t27QPYTaN7e3nTv3j3H48yKd//GbG1tadeuHdu2bcuVeN61YMECPDw80NPTA5LfQMeMGUObNm2oWrVqmsnp+Ph4li5dSsuWLbGxsaFjx46cOHFCq41arWbhwoU4OTlha2tLy5YtWbZsGUlJSUqbpKQkFi1ahKOjI7a2tvTt25cHDx4oj5uZmdGpUycWL178cZ68EEIIIYTIM3bs2MHBgweztc+mTZs4f/48BQsWpESJEoSEhLB792569uypJJPCw8PZsGEDt2/fpmTJkhgbG/PgwQNWrFiRpUTR77//TmJiIs7OzhgYGGS7zz179vDixQsKFy6c7jFCQ0M5cOAAOjo6GBoaZuscpCWnqpa2b9/O9u3badasWY709z7at28PJOdaPhXZSmINGzaMwMBA5s6di5+fHytWrKBevXqEh4fneGBpDYz69esTFRXFtWvXlG0BAQEUK1aMK1euaCVRzp49S6lSpShTpky2j52UlKSVKPtQBw8e5NSpU1o/RYsWzfL+RYoUwcTEJMfiyWlffPEF0dHRHDp0KNVjfn5+xMfH07Fjx/fq+/vvv9c6bwBz5sxRfvf29v6g2LNi/fr1qf7/atSo8VGPqaenh7m5Ofny5Uvz8fcdo/Hx8fTv35+IiAiWLl3KwYMH+fnnn6lSpQoRERHZ6kvzN2pmZoaRkVG2Y8lJmr+x/fv30717d6ZOnYq/v3+uxhQQEEBQUBBt2rRRtsXFxWFqaoqHhwdVq1ZNc7+FCxeybds2fvjhB3x9fenRowdDhw7lxo0bSptff/2VrVu3MmXKFHx9fRk7diyrV69m48aNWm02btzI1KlT2b59O0ZGRri7u2u9Trq6urJv376P8houhBBCCCHyhqCgIGbOnIm9vT0lS5bM8n5du3bl2LFjHDhwgKNHj9KnTx8AXrx4oXzWNjQ0ZPz48fj7+7Nnzx6OHz+OnZ0dACdOnOD169fp9p+UlMT+/fsBaN68ubI9O33u27cPf39/mjZtmu5xypcvz5kzZzh69CjFihXL8vOH/5vy9+uvvzJ06FDs7e2ZMmUKABMmTKB169bY29srlWozZ85UEnwTJ05k0qRJqfpasmSJ1u+a6YQpq7bOnDlD586dsbW1pXPnzqmKKDZt2kTjxo2xs7NjzJgxrF+/Xtn38ePHANy7d4/Bgwfj4OCAtbU1TZo0YcCAAfzzzz9KP02aNEFPT49///2XO3fuZOvc5JYsJ7HevHlDQEAAY8eOpUGDBlhaWmJra8ugQYNo0aIFgFIVM2TIEK0qmaCgIDw8PGjYsCH29vZ8+eWXnD59Wqt/Jycnli1bxvjx46lVq5YyMFKqUKEC5ubmnDt3Ttl27tw5WrRoQenSpbX+Y8+dO0f9+vUB2L17N66urtjb29OoUSPGjBlDaGio0lZTzXH8+HFcXV2xsbHhwoUL3Lx5Ezc3N+zt7alVqxaurq5cvXo1q6dMUbRoUczNzbV+dHWTT/3EiRP59ttvWbp0KQ0aNFCee8ok3rvTCTdv3kzr1q2xsbGhYcOGDB8+XHksLi6OmTNn4uDggI2NDT179tQapADHjx+nTZs22Nra4ubmRnBwcKqYAwIC6NWrF7a2tjRt2pSZM2cSFRWV7vNr3rx5miWIO3bsoGXLlhQpUiRb50yjYMGCWucNoFChQsrvKUsvY2JimDRpEvb29jRr1ixVNc6TJ08YMWIEderUoV69enh4eCh/4BkpUqRIqv8/fX194P+mmXl7e9OsWTPs7e2ZOnUqarWaX3/9lUaNGuHg4MCKFSu0+lSpVGzZsoUBAwZga2tLixYttK6MvFsNld4YTUxMZOXKlUpFTseOHTO8wnLnzh2CgoLw9PTEzs4OS0tLateuzahRo5Q3Bs3fc6dOnVCpVEqVo2asrlixAkdHR5ydnYHMp3IuXrwYR0dHbt68CWQ+tjIa3+nR/I1ZWVnx9ddfU7p0aa5fv648fuLECXr27EmdOnWoX78+gwYNSlWl+fTpU0aPHk29evWws7PD1dWVK1eupHm8oKAgWrRowfTp07Wqn1Ly9fWlYcOGWld7SpcuzeTJk+nUqRMFCxZMc789e/YwePBgmjZtipWVFb169aJp06asXbtWaXPp0iVatGhBs2bNKF26NM7Ozjg6Oip/60lJSWzYsAEPDw9atmxJ1apVmT9/Ps+fP9eqlK1cuTLFixfn8OHDmZxhIYQQQgjxKUpISGDs2LHo6uqyYMECZYZAVnh4eFCqVCnl9zp16ij/1lRNmZub4+7urhRdGBoaYmNjA4Curm6Gx7t//z5hYWEAyj7Z7dPCwiLT55E/f35MTU0zbZeRRYsW4e/vT+nSpZXvgkePHuX169eUKVOGkiVLEhISwsaNG/nuu+8AsLKywsrKSulDM30wK4nEb775hujoaNRqNTdu3GD06NFKEcOxY8eYMWMGz58/J3/+/Fy4cIFFixal6mPMmDH8+eefqNVqKleuTGJiIidPntRKVhkZGVGpUiUg+XvapyDLSSxjY2OMjY05cuRIuuVzmqoYTaWM5veoqCiaNm3K+vXr2bVrF40bN2bw4MGEhIRo7b927VqqVq3K7t27+fbbb9M8Rv369Tl79qzy+9mzZ6lXrx5169ZVtsfExHDlyhUliZWQkMCIESPYu3cvy5YtIzg4mIkTJ6bq28vLizFjxuDr64tKpWLs2LGULFkSb29vdu7cyTfffKMMWCDHFmHz9/fn7t27bNy4kZ9++onDhw+zbNmyNNtevXqVWbNmMXz4cA4ePMjq1au1Xkzmz5+Pn58fc+fOZdeuXZQtW5YBAwYolRZPnjxh6NChNG/enN27d9O1a1e8vLy0jhEUFMQ333xD69at2bt3Lz///DMXLlxgxowZ6T6HLl26cObMGa2E2KNHjzh//jxdunT5gLOTdevWrcPa2prdu3fTq1cvpk6dyr1794DkCiR3d3cKFCjA5s2b2bp1K8bGxgwYMOCDy0GDgoI4ceIEq1evxsvLC29vbwYOHMizZ8/YuHEjY8eOZeHChakSIosWLaJNmzbs2bOHDh06MHr0aGVKX3reHaMrV65k9+7dTJs2jf3799O3b1/GjRunlehNyczMDF1dXfz8/NJdp+mPP/4A/q8CTXOlAJLH6v3791m3bh0rV67MMNakpCRmzJjB7t272bx5M1WrVs10bGU2vjOTlJTEiRMnePLkCTVr1lS2R0dH069fP3bs2MH69evR0dFhyJAhJCYmAsnTkr/66iuePXvG8uXL2bNnDwMGDFAeT+nmzZv06tWL9u3bM2XKFHR0dNKMJSAgAGtr6yzHrhEfH698KNAwNDTk4sWLyu/29vacOXOG+/fvKzFduHCBJk2aAMlJ0BcvXtCwYUNln4IFC1KzZk0uXbqk1betra3WlHAhhBBCCPH5WLp0KVeuXMHT01MroZJdarVaKRKwsrLCwcEhzXahoaH4+fkB4OLikuGMoocPHwJgYmKS6XTArPb5sVhZWXHs2DH27dvH1KlTgeRqqLNnz7Jnzx6OHDnC4MGDgeTkVmxsLEOGDNHKa2imD3bt2jXT440fP56DBw8yYcIEAIKDg5XztXr1aiD5AvmRI0c4cuRImt87NEuJrFixgl27dnHq1CmOHDlCvXr1tNppEpWa/vO6tOcqpdUwXz7mzp3LDz/8wO+//0716tWpV68eLi4uyrQYTVWMplJGo2rVqlpTZ0aOHMmRI0c4duwYX331lbK9QYMG9O/fP8M4GjRowOzZs0lISCAmJobAwEDq1atHQkICv//+O5BcpRAXF6cksVImUaysrPj+++/p0qULkZGRFChQQHls+PDhWgvBhYSE4O7uTsWKFQEoV66cVizly5dPt5oipXdLG0uVKqWUTUJyFnv27NkYGRlRuXJlhg8fzvz58xkxYoRSsaXx5MkTjIyMaNasGSYmJlhaWlK9enUgOVn4+++/M2fOHOWYM2bM4O+//8bb25sBAwawdetWypQpoyTxKlSowK1bt/j111+VY6xcuZIOHTrQt29f5Xl///33uLm5MXXq1DTnETs6OlK8eHF27tzJsGHDgORySAsLi3Rf4HJakyZN6N27N5CcuV6/fj1nz56lQoUK+Pr6kpiYyKxZs5Skw5w5c6hbty7nzp3D0dEx3X579OiR6v8hZSIgKSmJ2bNnY2JiQqVKlahfvz7379/n119/RVdXlwoVKvDrr79y9uxZrcSKs7Oz8gI2cuRITp8+rUz/Sk/KMRoXF8fKlStZt24d9vb2QPL4vnDhAtu2bUv14gRQokQJJk+ezIIFC1i6dCnW1tbUr1+fjh07Km9qmr9jTQVaSsbGxsycOTNVkuVdmis+gYGBbN26lRIlSgCZj62MxndGNOM9Li6OxMREhg8fTt26dZXHU07pA5g9ezYODg7cuXOHKlWq4OPjQ1hYGN7e3krVYNmyZVMd5+LFiwwePJjBgwdn+loVEhJC8eLFM439XY6Ojqxfv566detSpkwZ/P39OXz4sFbSceDAgbx9+5a2bduip6eHWq1m1KhRyrRdzZp7705bLlq0KC9fvtTaVrx4ca2pikIIIYQQ4vNw9epVVq1aRYcOHWjXrh1qtVqZRZCUlJTlmw9FRUUxbtw4Tp06RbFixVi2bJnyGTSloKAgBg0axPPnz6lVqxaenp4ZHkMzLbBAgQLptstqn+8+r5y+sVLnzp2VRJumEuz06dOMHTuWoKAgrSU7EhISCAsLy1KVWHo0N5XSVElBcjKvYsWKSiVVkyZNlIRe69atUxUyODk54ePjQ58+fbCysqJSpUo4ODikKjLR9JGVhfjzgiwnsSD5i2CzZs0ICAjg8uXLnDx5ktWrVzNz5kxcXV3T3S8yMpKlS5fy119/8eLFC9RqNTExMakqsbJStVCvXj2ioqK4evUqb968oVy5cpiZmVG3bl0mTZpEbGws586dw8rKSskoXrt2jaVLl3Lz5k1ev36tDPAnT55oDYqUJYwA/fr1Y/LkyezZs4eGDRvi7OystcZWVhfG27x5s1ay7N11jlQqldaaQvb29kRFRfHkyRMsLS212jZs2JBSpUrRsmVLGjduTOPGjWnVqhVGRkYEBQURHx9PrVq1lPb6+vrY2toqFT53797F1tZWq0/NNDKNmzdv8u+//7Jv3z5lW1JSEomJiTx+/FhJ6qWkp6dH586d2bVrF0OHDiUpKUmZxvluAkgjICCAb775Rvl92rRp7712FqB1xwcdHR2KFSumTBu9efMmQUFBWucGIDY2NtPF/3/++ec0n7OGpaWl1tWAYsWKoaenp/W8U8aioUk8adjZ2WW6mHrKMfrw4UOio6NTJVPi4+OpVq1aun307t2bL774gnPnznHlyhUOHjzIypUrWbFiRZp380ipSpUqmSawIDlBaGBgwLZt27SmfGY2tjIa3xnR/I3FxcXxzz//MGPGDAoXLkyvXr2A5KsQixcv5sqVK7x69UrrNaBKlSoEBgZSvXr1DKe9PnnyhP79+zNy5EglCZeRmJiY91o48vvvv2fy5Mm0bdsWHR0drKyscHV11Zque+DAAfbt24eXlxeVKlUiMDCQOXPmULx4cTp37pyt4+XPn5+YmJhsxymEEEIIIfK227dvo1arOXjwoLJ+sWYWyqFDh7C3t2fZsmUYGxun20d4eDgLFizg/v37WFhYMH78eN6+fZtqjaZbt27h5eVFREQEtWrVYtiwYdy+fTvD+J4/fw5AREREmjfOyk6fmmmJCQkJH+UmXO9eHN67dy/z5s0Dkqc/WlhY8OrVK+XOjR+aRCtUqBCA1tTJ9JYxSc+8efNwcnLi7Nmz3L17l+PHj3Po0CFu376Np6en0k6TvMrL63CnlK0kFiRPa2nUqBGNGjViyJAhfP/99yxZsiTDJNa8efM4ffo0EyZMoEyZMuTPn5/hw4cTHx+v1S4ri0OXLVuWkiVLcvbsWV6/fq1UW5QoUQILCwsuXrzI2bNnadCgAZCcNXZ3d8fR0ZEff/wRU1NTnjx5gru7e6bHHzZsGO3bt+f48eOcOHGCxYsX8/PPP9OqVassnSuN0qVLK4PwQ5mYmLBr1y7OnTvHqVOnWLx4MUuXLs3RBc6joqLo0aNHqjs+QsZzjr/88ktWrlzJmTNnSExM5MmTJxmOC83UP43sLHaflneTgzo6OsofelRUFDVq1ODHH39MtV9mtzS1sLBIsyono+OmtS2tqWnZlXKMataRWrlypVLppJFZosnExAQnJyecnJwYOXIk7u7uWUpiZXUB94YNG7J//35OnTqllZjMbGwZGBikO74z+htK+TdWuXJlrly5wi+//KIksQYPHoylpSUzZ86kePHiJCYm0r59e+U1IH/+/Jk+J1NTU4oXL87+/fvp0qVLpi/ypqamvHnzJtN+32VmZsby5cuJjY0lPDyc4sWL8+OPP2qVf8+fP5+BAwfSrl07IDmBGxISwsqVK+ncubNSQRcaGqpVDRYaGppqQfnw8PBcu62vEEIIIYT4+N793gso1UrW1tYUKlSIfv368fz5c1q0aMHo0aOB5CTY2LFjCQkJoXbt2ixZsiTNi75+fn7MmTOH2NhYevfuzaRJk9ItZEipUKFCeHl5ERUVRYUKFbQ+72e3T83n2Xz58mFnZ4darX6v9azT8+4SIpqlYgoUKMCxY8cwMDDA09NTmR2mkfJ7RlRUVIYJw6yqXLkyAQEBnD59mqioKAwNDdO8yVpAQACtWrVSvjOsWrUKLy+vVGtfaYqLMvrOm5dkO4n1rkqVKmktFKyvr58q63jp0iU6d+6sJH8iIyPTXEw8q+rXr8+5c+d4/fo17u7uyvY6depw4sQJ/vnnH3r27Akkr8gfHh7O2LFjlQRMyrsbZqZ8+fKUL1+evn37Mnr0aHbs2JHtJFZm/v33X2JiYpQBfvnyZYyNjdNNGOXLl4+GDRvSsGFDhg4dSt26dTlz5gyOjo7o6+tz8eJFpYIrPj6eq1evKneSqFixIseOHdPq7921mqpXr86dO3eyPYjLlClD3bp1lYRaw4YNU1WSpZQ/f/7/7A+lRo0aHDhwgKJFi+aZDPPly5fp1KmT8vuVK1cyrKB6V8WKFTEwMCAkJCTNqYNZpaOjQ4UKFZQ1lzTrvn3I1YMWLVrg5OTEmDFj0NPTU144szK20hvfrVu3zvLx9fT0lJLeV69ecf/+fWbOnKmsr/XuC7dKpeKPP/4gPDw83Wqs/Pnzs3LlSgYOHIi7uztr1qzJcCxpnuv7MjQ0pESJEsTHx3Po0CHatm2rPBYTE5PqjVRPT09J2pYuXRpzc3P8/f2VMfX27VuuXLmivDZq3L59+4PGjxBCCCGEyJtcXV1TFRU4OTkRHByMi4sLP//8s7L98ePHBAcHExoaqlT/jBgxQklwREVF4eHhobTv2rUrXbt25dmzZ4wePZqkpCT09fW5du2assQLgKenZ7p3dq9UqRJmZmaEhYVx8+ZNZRma7PTp5ubG06dPlVkv4eHhODs7k5SUxDfffIOdnR3Pnj1TljF69uwZAH/99Zfyvf59bnKkmQUUGRlJixYtMDAwSHM6XoUKFZR/t2vXDnNzcyZMmEDt2rWzfUwNd3d3AgICePDgAS1btsTAwCDNu42PHz+e169fU7JkSYyMjJTvJlWqVFHaREdHK9uzsxZxbsrywu6vXr3i66+/Zs+ePdy8eZNHjx5x4MABVq9erdzNDJKnVvn7+/PixQtljmvZsmU5fPgwgYGB3Lx5kzFjxnxQVUr9+vWVuwem/PJVr149tm3bRnx8vLIeVqlSpdDX12fjxo08evSIo0ePsnz58kyPERMTw/Tp0zl79izBwcFcuHCBq1evak0rc3Z2ztKADw0N5cWLF1o/KbPhcXFxfP/999y5c4fjx4+zZMkSvvrqqzQzzX/++ScbNmwgMDCQ4OBgdu/eTWJiIuXLl8fY2JiePXsyf/58Tpw4wZ07d/jhhx+IiYlR5r326NGDBw8eMG/ePO7du8e+ffvYtWuX1jG++eYbLl26xPTp0wkMDOTBgwccOXKE6dOnZ/pcu3TpwuHDhzl8+PB/tqB7VnTo0AFTU1M8PDwICAjg0aNHnD17lpkzZ/L06dMM9w0PD0/1/5dyzvP7OnjwIN7e3ty/f5/Fixfzzz//aK0RlxkTExP69+/PnDlz2LVrF0FBQVy/fp2NGzem+j/VCAwMxMPDg4MHD3Lnzh0ePnzIH3/8wY4dO5S/46JFi5I/f35OnjzJy5cviYiIeK/n16pVK+bPn8+kSZOUqbeZja2MxndGNH9jwcHBHDhwgD179ih3Ry1cuDBFihRh27ZtPHz4EH9/f+bOnau1f7t27ShWrBhDhgzhwoULPHr0CD8/v1SLoBsbG7Ny5Ur09PT45ptviIyMTDcmR0fHNBdMDwwMJDAwkMjISMLCwggMDNRKdl25coVDhw7x6NEjAgIClAXmBwwYoLRp3rw5v/zyC3/99RePHz/m8OHDrFu3jpYtWwLJicmvv/6aFStWcPToUf7991/Gjx9P8eLFlTaQ/KZ1/fr1DNeEE0IIIYQQ/5tSfmcNDAzkypUryo/mO1R8fLxyITU+Pl6rzZUrVzJcZ0lHR0e52J2y0CI7fQYHBxMUFKR8Ller1QQFBfHo0SNl6mR8fDxBQUEEBQUpd/iLiopStr2PLl260K9fP0xNTYmMjKRevXpp3lW9atWqfPvttxQrVoyQkBCuXLnyXrM1UnJycuKHH37A3NycqKgo7OzsGDhwoPK4pjjG1dWVSpUqER4ezp07dyhWrBjdu3dnypQpStsTJ06gVqtRqVRaSy3lZVmuxCpQoAA1a9bkt99+U/7zS5YsSdeuXZVV+AEmTJjA3Llz+eOPPyhRogTHjh1j4sSJfPfdd/To0QNTU9NMv/xlpn79+sTExFChQgWKFSumbK9bty6RkZGUL19emUJjZmbG3Llz+emnn9i4cSM1atRgwoQJWlnktOjq6hIeHs6ECRN4+fIlpqamtG7dWmtg3r9/P0tf8J2dnVNt27Ztm7IWlYODA2XLlqV3797ExcXRvn17ZXH0dxUsWJDDhw+zdOlSYmNjKVu2LF5eXlSuXBmAsWPHkpSUxPjx44mMjMTa2prVq1cri9CVKlWKJUuWMGfOHDZt2oStrS2jRo1SbgMKyX9oGzduZOHChcp0LCsrK1xcXDJ9rm3atGHGjBno6elpfVnObUZGRmzatIkff/yRoUOHEhkZSYkSJXBwcMi0Miut9Y9++ukn5QX3fQ0bNgxfX1+mTZuGubm5sr5RdowcORIzMzNWrlzJ48ePKViwINWrV9f6m0ypRIkSWFpasmzZMh4/foyOjg6WlpYMGzZMeZ758uVj8uTJLFu2jMWLF1OnTh02btz4Xs/R2dmZxMRExo8fj66uLq1bt85wbGU2vjM6jib2kiVL0r17d+VvSFdXl59//pmZM2fSvn17ypcvz+TJk7WmNBoYGLB27VrmzZvHwIEDUavVVKxYUWuuuEaBAgX49ddfcXd3Z9CgQaxatSrNsuAOHTqwYMEC7t27p3UFJmX13fXr1/Hx8cHS0lJ5446NjWXhwoU8evQIY2NjmjZtyvz587XKqydPnsyiRYuYNm2aMmWwe/fuDBkyRGmjuS3vlClTePPmDbVr12b16tVa63QdPXoUCwuLT+aqixBCCCGE+DDvzsrJaHt6bVMqXbo0//7773vH06NHDzZv3syBAwcYN24cBgYG2eozvRjVarWyNtaHxJjefrq6ukycOFG5YZpGyooxjREjRjBixIhM+06rcq5+/fqp2sXHx9OsWTOlAEKtVitJLHNzc2WZnpEjRzJy5MgMnh3KWsWa72afAp2k7K4OJnLUxIkTefPmTZaqw8TnQ6VSsWzZsjyV6BM5b968eURGRmapijE3dOvWDTc3Nzp06JDlfTQfCEwtphGvDsh8ByGEEEII8Z8z1LehXEm/3A4jS8aMGYOPjw+zZ8/myy+/zJE+NZ9Z7ezstBZH/xy8efOGBg0aYG1tTbFixbh165ayoPzMmTPp2rVrlvp5+PAhzs7OWFhY4Ofnpywrk9d98JpYQggh0ubh4cGWLVtITEzM0uKW/6WwsDBatWpF+/btczsUIYQQQgjxP8zLywsvL6/cDuOTYWhoSJMmTbh27Ro3btwgf/781KtXj759+2ot9ZSZsmXLEhgY+BEj/TgkiSWEEB9JoUKF0p3amdvMzMz45ptvcjsMIYQQQgghRDYYGhryyy+/5HYYuUaSWLns3QWmxf+GD5k3LoQQQgghhBBC/C/KW/NbhBBCCCGEEEIIIYRIgySxhBBCCCGEEEIIIUSeJ9MJhRBCZJuBfgV0dWNzOwwhhBBCCJEGA/1KuR2CEB+FJLGEEEJkm4WZ12d3u2IhhBBCiM9JUpIaHR35vCY+LzKdUAghRLap1ercDkF84tRqNTdu3JCxJD6YjCWRk2Q8iZySF8aSJLDE50iSWEIIIYTIFdHR0bkdgvhMyFgSOUnGk8gpMpaEyHmSxBJCCCGEEEIIIYQQeZ4ksYQQQgghhBBCCCFEnidJLCGEEELkCiMjo9wOQXwmZCyJnCTjSeQUGUtC5Dy5O6EQQohskzsTig+lp6dH9erVczsM8RmQsSRykownkVPywliSuxOKz5EksYQQQmTbxefTiEi4ndthCCGEEEKINBQ0KE/dErNzOwwhcpwksYQQQmRbRNxDwhNu5nYYQgghhBBCiP8hsiaWEEIIIYQQQgghhMjzJIklhBBCCCGEEEIIIfI8SWIJIYQQQgghhBBCiDxPklhCCCGEEEIIIYTIFWPGjEGlUrFjx47cDuU/8/jxY1QqFSqVirNnz+ZKDGfOnEGlUtGjR49cOf77kiSWEJ+BJUuW8MUXX+R2GFnm5OTE+vXrczuMjy4uLo5WrVpx8eLF3A4lTT/++CMzZszI7TCEEEIIIcR/YMSIEUriZNSoUZm2X7t2LW5ubjg6OmJtbU3z5s2ZMGECjx49Utq8ffuWWbNm4erqSv369bG1taVNmzYsXLiQt2/fZnqMO3fu4OvrS7FixejQoYOy/ffff6dnz57Y2dkpMd+9e1dr39u3bzNx4kScnZ2pVasWtWvXxtXVlT/++EOrXVJSEjt37sTV1ZVatWpRp04dBg8ezJ07dzKN70MtWbIElUqFk5OT1nYDAwNq1qxJzZo1MTEx+ehxpKVBgwbUqFGDS5cuceLEiVyJ4X1IEkuI93Tp0iWqVavGwIEDczsU+vfvn+tJIc3VhMDAwFSPubm5MWvWLOV3b29vunfvnqV+czvhtWDBApycnFK9CQ8ePJjevXuTmJiY7r6///47pUuXplatWsq2FStW0KNHD2rWrEmdOnXS3M/f358ePXpgb29Po0aNWLBgAQkJCVptfH19+eKLL6hZsybNmzdn9erVqfrZu3cvHTt2pGbNmjg6OjJp0iRevXqlPN6/f3927dql9UFECCGEEEJ8fnbs2MHBgweztc+mTZs4f/48BQsWpESJEoSEhLB792569uypfDYODw9nw4YN3L59m5IlS2JsbMyDBw9YsWJFlhJlv//+O4mJiTg7O2NgYKBsP3HiBIGBgZiZmaW779WrV9m1axdhYWFYWVmRkJDA9evXmTx5MmvWrFHaLV26lEmTJnH9+nXMzc3Jnz8/f/75Jz179uTx48fZOieQfKH6QxUvXpzt27ezfft2atSo8cH9va/27dsDsHXr1lyLIbskiSXEe/L29uarr77i/PnzPHv2LFdiSEpKIiEhgQIFCmBqaporMbwPMzMzjIyM/tNjvu+bzYgRIzA2Nmbu3LnKNm9vb86ePcucOXPQ1U37ZTQpKYnNmzfTpUsXre3x8fE4OzvTs2fPNPe7efMm33zzDY6OjuzevZuff/6ZY8eO4eXlpbQ5fvw448aNo0ePHvj4+ODp6cn69evZtGmT0ubChQtMmDCBLl264OPjw8KFC7l69So//PCD0sbMzAxHR0e2bNnyXudGCCGEEELkfUFBQcycORN7e3tKliyZ5f26du3KsWPHOHDgAEePHqVPnz4AvHjxAn9/fwAMDQ0ZP348/v7+7Nmzh+PHj2NnZwckJ6Jev36dbv9JSUns378fgObNm2s95unpyYULFxg6dGi6+1tYWLBo0SLl2L6+vhQsWBAAHx8fpZ3ms26bNm3w8/Pj2LFjWFpa8ubNG1auXJlu/ymn/P3xxx/06dMHGxsbVq5cSUxMDN9++y1OTk7Y2dlhbW1N69atWbRokfK9w83NjaVLlwIQHBys9LVz5840pxOmrNo6cOAAzs7O2NnZ0bt3b+7du6d13hYuXEj9+vWpU6cO06dP56efflL607h8+TJ9+vShfv362NjY4OTkxLfffktQUJDSplmzZkDy/1VERES65yIvkSSWEO8hMjISX19fevbsSbNmzdi1a5fW42fPnkWlUnHy5Ek6deqEra0tX3/9NaGhoRw/fpy2bdtSq1YtxowZQ3R0tLJfYmIiK1euxMnJCVtbWzp27Kh1xUTT7/Hjx3F1dcXGxoYLFy6kOZ3Q29ubdu3aYW1tjaOjI9OnT1ceW7duHR06dMDOzo6mTZsydepUIiMjlcd37txJnTp1OHnyJG3btsXe3h53d3eeP3+eI+cvZXVVUlISS5YsoVmzZkqsM2fOBJJf+IODg5kzZ06qF2U/Pz/l+Tk5ObF27dpUx1i2bBnjx4+nVq1aTJkyha+//lrrPACEhYVhbW2tvBG/y8DAgLlz57J7925OnDhBSEgIc+bMYezYsZQpUybd53jt2jWCgoJo2rSp1vbhw4fTt29fqlSpkuZ+vr6+qFQqhg4dStmyZalXrx7jxo1j8+bNyhWvvXv30qJFC3r27ImVlRXNmjVj0KBB/PrrryQlJQHJb1qWlpZ8/fXXWFlZUadOHbp3784///yT6jz5+vqm+zyEEEIIIcSnKyEhgbFjx6Krq8uCBQvQ09PL8r4eHh6UKlVK+T3lLAJN1ZS5uTnu7u7KlDhDQ0NsbGwA0NXVzfB49+/fJywsDEDZR6NEiRKZxurg4ICzs7PSztLSEgsLC634AGXmhObis46ODjo6OgCcPn06w2NoTJs2jZs3b1KmTBl0dXWJi4vj6NGjxMbGUq5cOYoWLcrDhw9Zvnw5P//8MwAVK1akRIkSAOjr6yvTBzOqLgN49uwZ48aNQ0dHh5iYGAICAvjuu++Uxzdt2sSKFSsIDw/H2NiYgwcPsnHjRq0+EhMTGTRoEGfOnCFfvnxUrFiR6Ohojh49ypMnT5R25cuXp2DBgiQkJHD58uUsnYvcJkksId7DgQMHqFChAhUqVKBjx47s2LFDSR6ktHTpUn744Qd+//13nj59ysiRI9mwYQNeXl6sWrWKU6dOab3grFy5kt27dzNt2jT2799P3759GTduHOfOndPq18vLizFjxigJj3dt2bKF6dOn061bN/bt28fy5cu1Ei46Ojp8//33+Pj4MHfuXM6cOcOCBQu0+oiJiWHt2rXMnz+fTZs28eTJE+bNm/ehpy4VPz8/1q9fz7Rp0zh06BDLly9XEjxLliyhZMmSDB8+nFOnTnHq1CkgOUE0cuRIXFxc2LdvH0OHDmXRokXs3LlTq++1a9dStWpVdu/ezbfffkvXrl3x8fHRqsrau3cvxYsXp0GDBunGaG1tzcCBA5k8eTLjx4/H1taWXr16Zfi8Lly4QLly5bI9xz0uLg5DQ0Otbfnz5yc2Npbr169n2Obp06cEBwcDYGdnx9OnTzl+/DhJSUm8fPkSPz+/VEk1Gxsbnj59+l6l1EIIIYQQIm9bunQpV65cwdPTEysrq/fuR61Ws23bNgCsrKxwcHBIs11oaCh+fn4AuLi4ZPhZ+OHDhwCYmJhQuHDh945N4/z588o6VylnQ7Rt2xZAqW5ycnJSPvtmdUaNvb09J06cYP/+/QwePBgjIyP279/P33//ze7duzl+/DgdO3YEUC4QT506la5duwLa0wc11U/pSUhIYPHixRw4cECpfrt06RIxMTEAyjIi9vb2HD16lCNHjijJMo3Xr18THh4OJBco7N69G39/f3x8fKhUqZLSTkdHR0n8pazQysvy5XYAQnyKvL29lRepxo0bExERwblz56hfv75Wu5EjR1K7dm0g+YXUy8uLI0eOKG8gbdq04ezZswwcOJC4uDhWrlzJunXrsLe3B5LfIC5cuMC2bduoV6+e0u/w4cNp1KhRuvGtWLGCfv36KS96ALa2tsq/+/btq/y7dOnSjBw5Ek9PT6ZOnapsj4+PZ9q0aUryq3fv3ixfvjzTc9OjR49UU+xiYmKoWrVqmu2fPHlCsWLFaNiwIfr6+pQqVUqJtUiRIujp6VGgQAHMzc2VfdatW4eDgwNDhgwBkq8g3LlzhzVr1uDq6qq0a9CgAf3791d+L1GiBDNmzODIkSO4uLgAKIs8aq7GpMfDw4OdO3dy5coV/Pz8Mm0fHBxM8eLFM2yTFkdHR3777Td8fHxo27YtL1++ZNmyZUBy6bamzZw5c/D396d+/fo8fPhQqUR78eIFpUuXpnbt2ixYsICRI0cSFxdHQkICzZs3Z8qUKVrH07zhhYSEULp06WzHK4QQQggh8qarV6+yatUqOnToQLt27VCr1cqF96SkJNRqdZb6iYqKYty4cZw6dYpixYqxbNky9PT0Uu0fFBTEoEGDeP78ObVq1cLT0zPDY2imGhYoUCDddinXn01MTEy33fHjxxkzZgyJiYl89dVXuLq6cvXqVQAmTZpE4cKF8fHx4cmTJ1SsWJEKFSpw5swZ9PX1s3QOevTooVxE1lR+7d27Fz8/P4KDg4mPj1fafujslYIFCyoLwadMOIWGhlK4cGGePn0KQMuWLdHX10dfX59mzZpx//59pa2pqSn29vZcunSJVq1aUbZsWSpXrkzTpk21FtAHlETjpzKdUJJYQmTTvXv3uHr1qpJYyJcvHy4uLnh7e6dKYqWskipatChGRkZaV0CKFSumvLg+fPiQ6OhoraQLJCeTqlWrprXt3XLblEJDQ3n+/Hm6V0cguWx25cqV3Lt3j7dv36JWq4mNjSU6OlpZq8rIyEireqt48eKEhoam26fGzz//TMWKFbW2jR07Nt32zs7O/Pbbb7Rs2ZLGjRvTtGlTmjdvTr586b883bt3jxYtWmhtq1WrFhs2bECtVitvLNbW1lptDA0Nlco5FxcXrl+/zu3bt1mxYkWmz+v06dO8fPkSSP5AkLK0Oi2xsbGpqqWywtHRkfHjx+Pp6cn48eMxMDDg22+/JSAgQEkOduvWTfmQkJCQgImJCV9//TVLlixR2ty5c4dZs2YxZMgQHB0defHiBfPnz8fT05PZs2drnRNAa1qrEEIIIYT49N2+fRu1Ws3Bgwc5dOgQ8H/rxB46dAh7e3uWLVuGsbFxun2Eh4ezYMEC7t+/j4WFBePHj+ft27eppp7dunULLy8vIiIiqFWrFsOGDeP27dsZxqdJ9kRERKQ7lS1ldVBgYCBv3rxJ1ebw4cP89ttvJCYm0qVLF1xcXJTvWJD8eXfUqFFaC827u7sDyRfDs6Jo0aJav69atUpZT8vS0pJixYrx9OlTnj17luGNn7KiUKFCyr9TTqlMa+ZPRtavX8++ffu4ePEid+/exc/Pj/379/PixQsGDBigtNMsWZJbd0nMLkliCZFN3t7eJCQk0LhxY2VbUlISBgYGTJkyRVlMENBKxOjo6KRKzOjo6CgvclFRUUDylMJ3y0FTzukGMlwUPbPEyePHjxk0aBA9e/Zk1KhRFC5cmAsXLvD9998THx+v9J1WrFl54bSwsKBs2bJa2/Lnz59h+4MHD3L69GlOnz7NtGnTWLNmDRs3bszylZH0pHWeunbtSqdOnXj69Ck7d+6kQYMGWFpaZtjP69evmTx5MoMHDwaS58TXrVs3w/nspqam3Lp1673i7tevH3379uX58+cULlyY4OBgvLy8lEopHR0dxo0bx+jRo3n58iWmpqbKml6aJOnKlSupVauW8gZVtWpVjIyM6N27NyNHjlSqxDRXwDKbmy+EEEIIIT5NKauENNRqNWq1GmtrawoVKkS/fv14/vw5LVq0YPTo0UByEmzs2LGEhIRQu3ZtlixZQpEiRVL15efnx5w5c4iNjaV3795MmjQp3ZsfpVSoUCG8vLyIioqiQoUKWskbjZTVRdWqVaNChQrK70lJSXh5ebFu3Tr09fWZM2eOUmWkVquVRNajR4/Q1dVVPvP7+voqy5RoZmdk5t1ZGFeuXAGgXLly+Pn5oVar8fDwSDU9UfM9KDo6mqSkpExnc2TGxMQECwsLnjx5wl9//UXfvn2Jj4/nr7/+0mqXlJTEpUuXcHV1VaY0TpkyhW3bthEQEKB8R0hKSlLWyHr3O1xeJUksIbIhISGBPXv2MHHixFTT+YYMGYKPj0+6d53LTMWKFTEwMCAkJERr6mB2mZiYYGlpib+/f5rrPF2/fp2kpCQmTpyovLkcOHDgvY+XE/Lnz4+TkxNOTk706tWLtm3bcuvWLWrUqIG+vn6qqxkVKlTg4sWLWtsuXrxIuXLlMl0AUqVSYW1tzfbt2/Hx8dG6W196ZsyYgbm5uZLEOnr0KNOnT2fhwoXp7lOtWjW2bt363m9WOjo6SjLTx8cHCwuLVLff1dPTU9rs378fe3t7JRkVExOT6lxofk+ZjLx9+zb6+vpUrlw52zEKIYQQQoi8y9XVVWupDUi+qU9wcDAuLi7KAuSQfKE7ODiY0NBQ5TPjiBEjCAkJAZIvuHt4eCjtu3btSteuXXn27BmjR48mKSkJfX19rl27Ru/evZV2np6eqT7DalSqVAkzMzPCwsK4efOm1kySBQsWcOjQIa2bTw0cOJB8+fLh5ubG119/jY+Pj7KkhomJCVu2bFHuRKj5vgPJ339GjRpFmTJliI+PV9aQrVmzJl9//XU2z2oylUrFn3/+yYMHD3ByciIhIYHY2NhU7TRJt7CwMJydnSlcuDBeXl4flMxyd3dn5syZnD9/npYtWxIXF6cURGio1Wr69u1LgQIFsLCwQFdXV1kvLOVsofv37xMREUG+fPmUu0rmdZLEEiIb/vrrL16/fk2XLl20Kq4AWrdujbe393snsUxMTOjfvz9z5swhKSmJ2rVrExERwcWLFzExMaFz585Z7mvYsGF4enpStGhRmjRpQmRkJBcvXsTNzY2yZcsSHx/Pxo0bcXJy4sKFC/z+++/vFXNO2LlzJ2q1mpo1a2JkZMTevXvJnz+/Ml3P0tKS8+fP065dO/T19TEzM6N///506dKFZcuW4eLiwuXLl9m8eTOenp5ZOmbXrl2ZPn06xsbGtGrVKsO2hw8f5uDBg+zcuVOpTps7dy5ffvklfn5+tGnTJs396tevT1RUFLdv39a6E2FISAivX78mJCQEtVpNYGAgAGXKlKFAgQJA8mKNjRs3RldXl0OHDvHrr7+ycOFC5QNFWFgYfn5+1KtXj7i4OHbs2MHBgwfZtGmTcpzmzZvzww8/sGXLFho3bszz58+ZPXs2tra2WpV+AQEB1K5dO8NqOSGEEEII8b8nZQWX5jOrhmZWSnx8vHKBND4+XqlQ0tBMVUuLjo4O7dq1Y+PGjRw7dkwriRUaGppqoXFNQk0zkyDlzZpevXrFq1ev0jyOlZUVtra23L17l5iYGMqUKYOLiwuDBg1KNeMlqwYNGsSzZ884evQokZGRuLq6YmhomGqZkubNm9OtWzcOHTrEgwcPgOSqrIymcGbmq6++IjQ0lK1btxIREUG7du0wMDBg48aNWut29ejRg0uXLhESEkJcXByWlpa0atVKWVcYUCq4mjRpkur7bV4lSSwhssHb25uGDRum+Qfepk0bVq9ezc2bN9+7/5EjR2JmZsbKlSt5/PgxBQsWpHr16koFUFZ17tyZ2NhY1q9fz/z58ylSpAjOzs5A8rSySZMm8euvv/LTTz9Rp04dRo8ezYQJE9477g9RqFAhVq1axdy5c0lMTKRKlSr88ssvmJqaAsmL2E+ZMkW5yvDvv/9So0YNFi5cyOLFi1mxYgXm5uYMHz481ZWm9LRr147Zs2fTrl27DKdfhoWF4enpydChQ7USUSqViqFDh2Y4rdDU1JSWLVuyb98+xowZo2xfvHgxu3btUn7v1KkTABs2bFDWVDtx4gS//PILcXFxVK1alWXLlqW6q+Du3buZP38+SUlJ2NnZsXHjRq3F+11dXYmMjGTz5s3MmzePggUL0qBBA8aNG6fVz/79+xk2bFgWzpoQQgghhPjUHTt2LMvb02ubUunSpfn333/fO54ePXqwefNmDhw4wLhx45Sk0ty5c5k7d26G+6ZVaaahVquVdbZq1Kih3FkxOzJ6bsbGxmnGN3LkSK3fdXV1mTFjBjNmzEjV9t2+hw0blupzeVrP8e3bt7i5uSnHio2NVe7GqFlLWUdHh2nTpqX/5P6/ffv2AWR65/W8RCcpu6uDCSHEJ+7x48e0atUKb2/vdMubc8LNmzfp378/hw8fVqqs8pLjx48zb9489u7dm+FC+ilpPhC8LraY8IR/PnKEQgghhBDifRQxqIqT1dbcDiNLxowZg4+PD7Nnz+bLL7/MkT41n1nt7OwyXW7kUxMYGEi3bt2wtbWlYMGCXL9+nefPn6Onp8eqVatwdHTMUj/+/v707dsXe3v7XJ2Zk11SiSWE+J8RHx9PeHg4CxcupGbNmh81gQXJVW9jx47l8ePHWnPP84ro6GjmzJmT5QSWEEIIIYQQOc3LywsvL6/cDuOTYWZmRt26dblx4wYRERGYmJjQtGlTBg4cSJ06dbLcj4ODwwdV0eUW+eYihPifcfHiRb7++mvKlSvH4sWL/5NjZnWKY27QTDEVQgghhBBCfBpKlCihLGj/v0iSWEKI/xn169f/JK82CCGEEEIIIYQA3dwOQAghhBBCCCGEEEKIzEgSSwghhBBCCCGEEELkeTKdUAghRLYVNCgLunG5HYYQQgghhEhDQYPyuR2CEB+FJLGEEEJkW63inp/d7YqFEEIIIT4nSUlqdHTk85r4vMh0QiGEENmmVqtzOwTxiVOr1dy4cUPGkvhgMpZETpLxJHJKXhhLksASnyNJYgkhhBAiV0RHR+d2COIzIWNJ5CQZTyKnyFgSIudJEksIIYQQQgghhBBC5HmSxBJCCCGEEEIIIYQQeZ4ksYQQQgiRK4yMjHI7BPGZkLEkcpKMJ5FTZCwJkfPk7oRCCCGyTe5MKD6Unp4e1atXz+0wxGdAxpLISTKeRE7JC2MpMSkRXR2pWxGfF0liCSGEyDaf4MW8jH+Q22EIIYQQQog0FDW0olPpsbkdhhA5TpJYQgghsi0sLpinsXdzOwwhhBBCCCHE/xCpLRRCCCGEEEIIIYQQeZ4ksYQQQgghhBBCCCFEnidJLCGEEEIIIYQQQgiR50kSSwghhBBCCCGEELlizJgxqFQqduzYkduh/GfOnj2LSqVCpVLx+PHjXIlhx44dqFQqxowZkyvHf1+SxBJCZMnEiRP59ttvczuMT4q/vz9t27ZFrVbndiiphIWF4eDgwNOnT3M7FCGEEEII8R8YMWKEkjgZNWpUpu3Xrl2Lm5sbjo6OWFtb07x5cyZMmMCjR4+UNm/fvmXWrFm4urpSv359bG1tadOmDQsXLuTt27eZHuPOnTv4+vpSrFgxOnTooGz//fff6dmzJ3Z2dkrMd++mvqnQy5cvmTRpEg4ODlhbW+Pi4sKmTZu02mj2T+tn4sSJmcb4ISZOnIhKpcLNzU1ru4mJCTVr1qRmzZoYGBh81BjS06FDB8zNzfH19eXOnTu5EsP7kCSWEHnApUuXqFatGgMHDsztUD5pS5YsQaVSMWXKFK3tgYGBuXKVY8GCBXh4eKCnpwfA8+fPGTNmDG3atKFq1arMmjUr1T7x8fEsXbqUli1bYmNjQ8eOHTlx4oRWGycnpzTfhKdNm6a0CQoKYsiQITRo0IBatWoxYsQIXr58qTxuZmZGp06dWLx48Ud69kIIIYQQIq/YsWMHBw8ezNY+mzZt4vz58xQsWJASJUoQEhLC7t276dmzp5KgCg8PZ8OGDdy+fZuSJUtibGzMgwcPWLFiRZYSZb///juJiYk4OztrJXNOnDhBYGAgZmZm6e4bFRXFV199xc6dO4mKisLS0pK7d+8yY8YMlixZorTTJIs0PyqVSnnM3Nw8W+cEIC4uLtv7vKtGjRps376d7du3U7x48Q/u730YGBjQpk0bEhMT+f3333MlhvchSSwh8gBvb2+++uorzp8/z7Nnz3I7nE+aoaEhO3bs4MGDB7kaR0BAAEFBQbRp00bZFhcXh6mpKR4eHlStWjXN/RYuXMi2bdv44Ycf8PX1pUePHgwdOpQbN24obby9vTl16pTys27dOgCcnZ2B5Df0/v37o6Ojw2+//cbWrVuJj49n8ODBJCYmKv24urqyb98+wsPDP8IZEEIIIYQQeUFQUBAzZ87E3t6ekiVLZnm/rl27cuzYMQ4cOMDRo0fp06cPAC9evMDf3x9I/uw9fvx4/P392bNnD8ePH8fOzg5ITkS9fv063f6TkpLYv38/AM2bN9d6zNPTkwsXLjB06NB099+2bRv3799HR0eHbdu24efnR79+/QD49ddflWNrkkWany+++AKAfPny0bNnz3T7Tznl78CBA3Tp0gVra2t8fHx4+vQp33zzDU2bNsXW1hZbW1vat2/P+vXrSUpKApIvPO/atQuAc+fOKX2dPXs2zemEKau2Nm/ejJOTE/b29gwaNIgXL14occXFxTFlyhRq1aqFg4MDS5cuZcKECahUKpycnJR2x48fp3v37tSpU4eaNWvSqlUrRo4cqfV/0qxZMwB8fX3TPQ95jSSxhMhlkZGR+Pr60rNnT5o1a6a80GloXuD++usvOnTogI2NDd26dePWrVta7fz8/GjXrh3W1tY4OTmxdu1arcfj4uJYsGABTZs2xdramlatWvHHH38AoFar+e6773ByclJKgH/77bd0Y969ezf169dPdRXi22+/Zdy4cUByVdQXX3zB77//TtOmTalZsyYjRowgIiJC67l16dIFOzs76tSpQ48ePQgODlYeP3LkCJ07d8bGxoYWLVqwdOlSEhISMjyf5cuXp379+vz8888Ztjt37pzyRuTo6MiPP/6o9P3nn39Sp04dZRqgppLrxx9/VPb//vvvGTt2bLr9+/r60rBhQwwNDZVtpUuXZvLkyXTq1ImCBQumud+ePXsYPHgwTZs2xcrKil69etG0aVOt/08zMzPMzc2Vnz///JMyZcpQr149AC5evEhwcDBz585V3hznzZvHtWvXOHPmjNJP5cqVKV68OIcPH87wXAkhhBBCiE9TQkICY8eORVdXlwULFigzBLLCw8ODUqVKKb/XqVNH+bemasrc3Bx3d3dMTEyA5KSWjY0NALq6uhke7/79+4SFhQEo+2iUKFEi01g1sxXKli2rXCBu3bo1kPy8r127lmqf+Ph4NmzYACRfAE75/DIybtw4nj59iqWlJTo6Orx69Uo5fsWKFTExMeH27dvMmTOHLVu2AFCtWjVMTU0BKFCggFIJpjlX6bl06RLz5s1DX1+fqKgo/vrrL+bOnas8/tNPP7Ft2zYiIyMpUKAAv/32G4cOHdLqIywsjCFDhnD58mUKFixI2bJlCQ8P58CBA1rfxzTnPTQ0lHv37mXpXOQ2SWIJkcsOHDhAhQoVqFChAh07dmTHjh1K9j6l+fPnM3HiRLy9vTEzM2Pw4MHEx8cDcO3aNUaOHImLiwv79u1j6NChLFq0iJ07dyr7jx8/nv379zN58mQOHDjA9OnTKVCgAACJiYmULFmSRYsWsX//foYMGcLPP/+cbkbe2dkZtVrN0aNHlW2hoaEcP36cL7/8UtkWFBTEgQMH+OWXX1i9ejWBgYFMnToVSH5jGTJkCHXr1mXv3r1s27aN7t27o6OjAyRXMk2YMIGvv/4aX19fpk+fzs6dO/nll18yPadjxozh0KFDXL16Nc3Hnz17xsCBA7GxsWHPnj1MnToVb29vVqxYASS/QUdGRirVT+fOncPU1JRz584pfZw/f5769eunG0NAQADW1taZxvqu+Pj4VPPiDQ0NuXjxYprt4+Li2Lt3L19++aVy7uLi4tDR0dHqx9DQEF1dXS5cuKC1v62tbaptQgghhBDi87B06VKuXLmCp6cnVlZW792PWq1m27ZtAFhZWeHg4JBmu9DQUPz8/ABwcXHJMGHz8OFDIHl9qMKFC2c7pidPngBQtGhRZVuxYsW0YnnX/v37lTVh3d3ds3ysNm3acOLECfz8/OjYsSOlS5fm6NGjHD9+nF27dnHq1Cnq1q2rHANg2bJlSqVTyumDNWrUyPBYarWa7du34+fnR6tWrQCUC9FRUVFs3rwZSP5OduTIEfz8/NDX19fqIyQkhPj4eAoUKMCBAwfYu3cv586d448//tCaolmkSBHlO2FQUFCWz0dukiSWELnM29ubjh07AtC4cWMiIiK0kiUaQ4cOpVGjRqhUKubOnUtoaKhSQbNu3TocHBwYMmQI5cuXx9XVld69e7NmzRog+SrHgQMHmD17Nq1atVLeeFxcXADQ19dn+PDh2NjYYGVlRceOHXF1dU133nz+/Plp3769VpJs7969WFhYaCV2YmNjmT9/PtWqVaNu3bpMnjwZX19fXrx4wdu3b4mIiKB58+aUKVOGihUr0rlzZ+VqyNKlSxk4cCCdO3fGysqKRo0aMWLEiCzN165RowZt27bVqpxKacuWLZQsWZIpU6ZQsWJFWrZsybBhw1i7di2JiYkULFiQatWqKf8P586do2/fvty4cYPIyEiePXvGw4cPlTeqtISEhLzX/HZHR0fWr1/PgwcPSExM5O+//+bw4cM8f/48zfZHjhwhIiKCzp07K9vs7OwwMjJiwYIFREdHExUVxbx581Cr1VqlyADFixfXqn4TQgghhBCfh6tXr7Jq1So6dOhAu3btUKvVysXypKQk1Gp1ln4iIiIYMmQIp06dolixYixbtgw9Pb1U7e7fv0/Pnj15/vw5tWrVwtPTM8N+NdPaChQokG6blEthJCYmaj2mkfK5ZDZrQ7MMh4ODA9WrV8/yuXRzc0NXNzl9oqenh56eHqtXr6Z58+bUqFGDatWqcf78eYB0P7dnVZUqVZTKsooVKwIoa9sGBQUps2E0S4mYmZmlurheuXJlrKysiIyMxMHBgc6dOzNx4kRevHiBsbGxVltNojFlhVZeli+3AxDif9m9e/e4evUqy5YtA5LnZbu4uODt7Z3qhUgztxySM+bly5dXSj7v3btHixYttNrXqlWLDRs2oFarCQwMRE9PL8Oky+bNm9mxYwchISHExsYSHx+f7rpNAN26daNLly48e/aMEiVKsHPnTjp37qxUAwFYWFhQokQJ5Xd7e3sSExO5f/8+9erVw9XVFXd3dxo1aoSDgwNt27ZVEj83b97k4sWLWpVXarWa2NhYoqOjMTIySjc2QKlMO3XqlNbVGYC7d+9ib2+vFWvt2rWJiori6dOnlCpVirp163Lu3Dn69+9PQEAAo0eP5sCBA1y4cIHXr19TvHhxypUrl+7xY2JitKYSZtX333/P5MmTadu2LTo6OlhZWeHq6pruLYd37NhBkyZNtM6zmZkZixYtYurUqWzcuBFdXV3atWtHjRo1tJ4zJCckY2Jish2nEEIIIYTI227fvo1arebgwYPKdDNNAuTQoUPY29uzbNmyVEmNlMLDw1mwYAH379/HwsKC8ePH8/btWy5fvqzV7tatW3h5eREREUGtWrUYNmwYt2/fzjA+TbInIiIiVX8aKauDAgMDefPmjfK7poLoyZMnyv4pl1x59zvA33//zc2bN4HsVWGl1dfs2bOVpVnKlStH4cKFCQoK4tWrV1qJt/dRqFAh5d/58r1fysbQ0JCdO3eyZ88erly5wt27d9mzZw+7d+9m4cKFtG3bVmmrWaQ/s2mOeYUksYTIRd7e3iQkJNC4cWNlW1JSEgYGBkyZMiXddZOyK3/+/Bk+vn//fubNm8eECROwt7enQIECrFmzhitXrqS7T/Xq1alatSq7d++mUaNG3LlzB1dX12zFNWfOHNzc3Dh58iQHDhxg4cKFrFu3Djs7O6Kiohg2bJgyrz2lrCSHypQpQ9euXfHy8krzLoCZqVevHjt27ODmzZvo6+tTsWJF6tWrx7lz53jz5o2y/lR6TE1Ntd5ks8rMzIzly5cTGxtLeHg4xYsX58cff0yz/Ds4OJjTp09r3X1Fw9HRkSNHjhAWFka+fPkoVKgQjRo1UqrvNMLDwzO864sQQgghhPi0aZYgSUlTuWRtbU2hQoXo168fz58/p0WLFowePRpIToKNHTuWkJAQateuzZIlSyhSpEiqvvz8/JgzZw6xsbH07t2bSZMmKVVLGSlUqBBeXl5ERUVRoUIFreSNxv3795V/V6tWjQoVKii/t23blmvXrvH06VOMjIxQqVTKVMZ8+fKlWtpDM0ulSpUqWt+/suLdC8Ga70mOjo6sWbOG2NhYunXrxqtXr7Taab6HRUVFZet46SlbtiyGhobExsZy5MgR2rZtS1hYGGfPntVq9/btW+7evctXX32Fm5sbkJy4O3XqFAEBAUoSKzw8nMjISKXvT4EksYTIJQkJCezZs4eJEyfSqFEjrceGDBmCj4+P1t0yLl++rEy1e/36NQ8ePFBexCtUqJBqzaSLFy9Srlw59PT0qFKlComJiZw/f56GDRumiuXixYvY29vTu3dvZVtW5kR36dKF3377jWfPntGwYUMsLCy0Hn/y5IlSqaV5Drq6upQvX15pU716dapXr86gQYPo3r07Pj4+2NnZUb16de7fv/9BL6ZDhgyhVatWyrx0jYoVK+Ln50dSUpLyhnThwgUKFCig3LFFsy7W+vXrlQq2+vXrs2rVKl6/fk3//v0zPHb16tW5c+fOe8duaGhIiRIliI+P59ChQ1pXSzR27txJ0aJFlbn2adEkqPz9/QkNDdW6YwkkfzjJLCEnhBBCCCE+Pa6urqkuMjs5OREcHIyLi4vWjZAeP35McHAwoaGhyoLqI0aMICQkBEhOwnh4eCjtu3btSteuXXn27BmjR48mKSkJfX19rl27pvWdwtPTM901oCpVqoSZmRlhYWHcvHlTa52tBQsWcOjQISXBAjBw4EDy5cuHm5sbX3/9NT179uSPP/7gwYMH9OzZk5IlSyp3KO/fv7/WOls3b97k77//BrJfhZWWKlWqcOvWLU6dOkWbNm14/fp1musaa76vXbt2jQ4dOmBkZKQsLP8+jIyM6NWrF+vWrcPHx4d//vmH8PDwVInK0NBQevToQeHChZXvFJqEoEqlUtpp1hAuWrSoVoIwL5M1sYTIJX/99RevX7+mS5cuVKlSReundevWeHt7a7Vfvnw5/v7+3Lp1i4kTJ2JqakrLli2B5Bdpf39/li1bxv3799m1axebN29WEi2lS5emc+fOfPfddxw5coRHjx5x9uxZZeH2smXLcu3aNU6ePMn9+/dZuHBhuouip9ShQweePXvG9u3btRZ01zA0NGTixIncvHmTgIAAZs6cSdu2bTE3N+fRo0d4eXlx6dIlgoODOXXqlFZibsiQIezZs4elS5dy+/Zt7t69y/79+zO962BKxYoVo2/fvmzcuFFre69evXj69CkzZszg7t27HDlyhCVLltCvXz/lqlHhwoVRqVTs27dPSfLUqVOHGzdu8ODBgwynZkLyVZm0FkwPDAwkMDCQyMhIwsLCCAwM1Ep2XblyhUOHDvHo0SMCAgIYMGAAiYmJDBgwQKufxMREdu7cSadOndIsM96xYweXL18mKCiIPXv2MHLkSPr27av15hQdHc3169dxdHTM5EwKIYQQQoj/NSkTI4GBgVy5ckX50SyOHh8fryRv4uPjtdpcuXJFmaqWFh0dHdq1awfAsWPHtB4LDQ0lKChIa3H2kJAQgoKCtNbS2rhxI507d8bIyIjg4GAqVKjAd999x8iRI7X609zpu0SJEsoxP8SkSZNo0aIFxsbGREZG4u7uTvPmzVO1+/LLL2nTpg0FCxbk1q1bXLlyRWs9r/cxevRounfvToECBYiIiKBXr140adIE+L8ZK0WKFMHV1ZWiRYvy+PFjnj59SoUKFRg9ejRdu3ZV+vrrr78AUs3WyMt0ktJKFwohPrrBgweTmJjIqlWrUj32zz//0LVrV/bs2cPr16/5+uuv+eWXX/Dy8uLBgwdUq1aNGTNmaK1Z5efnx+LFi3n48CHm5uZ89dVXWlcZYmNj+emnn9i/fz/h4eGUKlWKQYMG8eWXXxIXF4enpyeHDx9W3kwKFizIiRMn2LNnDwATJ07kzZs3LF++XCvW8ePHc/z4cU6ePKl1N7wlS5Zw5MgRunfvzooVK3j9+jXNmjVjxowZFC5cmJcvX+Lp6cmVK1eUaXOdOnVi6NChSiLp5MmTLFu2jMDAQPLly0eFChXo2rUr3bp1S/Ocao6piRmSS2lbtmzJq1evOHr0KKVLlwaSF2ufP38+N2/epEiRInTq1ImRI0dqJYRmzZrFhg0b8PX1VRZV/OKLLwgNDeXUqVMZ/v+Gh4fTpEkTdu/erZU4SnnlQ8PS0lJ54z537hxTp07l0aNHGBsb07RpU8aMGaO15hXAqVOncHd35+DBg1qVbRo//vgju3bt4vXr11haWtKjRw/69u2rVQrt4+PD0qVL013APy1qtZrLly/zT+GthMTezPJ+QgghhBDiv1Myf0XcKy7K7TAydefOHTp06EDRokU5duxYqrt0vy/NZ1Y7Ozulsuxz8fLlS/Lnz6+sYRUeHk67du14+fIl7dq146effspSP3FxcTRv3pywsDD27dtHpUqVPmbYOUaSWELkcWfPnuXrr7/m/Pnzac4Tz219+vShcuXKTJ48WWt7Wgml/zXz5s0jMjKS6dOn53YoaerWrRtubm506NAhy/tIEksIIYQQIu/7VJJYAGPGjMHHx4fZs2enObvjfXzOSawjR44wbtw4bGxsMDIy4vLly4SHh2NsbMzWrVszvDlXSt7e3nz//fe0b98eLy+vjxx1zpE1sYQQ7+X169ecO3eOc+fO4enpmdvh5EkeHh5s2bKFxMTELC1u+V8KCwujVatWtG/fPrdDEUIIIYQQ/8O8vLw+qSRKbitdujTVq1fn5s2bREZGUqRIEZydnfn222/TnPWRni5dutClS5ePGOnHIUksIcR76dy5M69fv2bs2LGfzCKA/7VChQoxePDg3A4jTWZmZnzzzTe5HYYQQgghhBAiG6pWrcrmzZtzO4xcI9MJhRBCZJlMJxRCCCGEyPs+pemEH8PnPJ3wf13emt8ihBBCCCGEEEIIIUQaJIklhBBCCCGEEEIIIfI8WRNLCCFEtpkZWJKoE5/bYQghhBBCiDQUNbTK7RCE+CgkiSWEECLb2lsOl/UFhBBCCCHysMSkRHR1ZPKV+LzIiBZCCJFtarU6t0MQnzi1Ws2NGzdkLIkPJmNJ5CQZTyKn5IWxJAks8TmSUS2EEEKIXBEdHZ3bIYjPhIwlkZNkPImcImNJiJwnSSwhhBBCCCGEEEIIkedJEksIIYQQQgghhBBC5HmSxBJCCCFErjAyMsrtEMRnQsaSyEkynkROkbEkRM6TuxMKIYTINrkzofhQenp6VK9ePbfDEJ8BGUsiJ8l4Ejklr4wluUOh+NxIEksIIUS2rbm/jscxwbkdhhBCCCGESEcpIwsGVxyY22EIkaMkiSWEECLbnkY/42F0UG6HIYQQQgghhPgfInWFQgghhBBCCCGEECLPkySWEEIIIYQQQgghhMjzJIklhBBCCCGEEEIIIfI8SWIJIYQQQgghhBAi14wZMwaVSsWOHTtyO5T/zOPHj1GpVKhUKs6ePZsrMZw5cwaVSkWPHj1y5fjvQxZ2F0IIIYQQQggh/geMGDGCgwcPAuDi4sLPP/+cYfu1a9fy559/cv/+fcLDwzE3N6devXoMHToUKysrAN6+fcuiRYu4cOECwcHBREdHY2FhQdu2bRkwYAAmJiYZHuPOnTv4+vpSrFgxOnTokK0+b9++zZo1a7h8+TLPnz9HR0eHsmXL0qNHDypWrKh1nGvXrvHzzz9z6dIl1Go11atXZ9iwYTRs2PC9zmVWLVmyhKVLl2JpacmxY8eU7QYGBtSsWRMg03P0sTRo0IAaNWpw6dIlTpw4QZMmTXIljuyQSiwh/gfs3LmTOnXqZNhm4sSJfPvttx98LJVKxZEjR4D/u7oQGBj4wf1+TE5OTqxfvz7H+/X396dt27ao1eoc7/tDhYWF4eDgwNOnT3M7FCGEEEII8R/YsWOHksDKqk2bNnH+/HkKFixIiRIlCAkJYffu3fTs2ZO3b98CEB4ezoYNG7h9+zYlS5bE2NiYBw8esGLFCkaNGpXpMX7//XcSExNxdnbGwMAgW31evXqVXbt2ERYWhpWVFQkJCVy/fp0ffviBffv2Ke1u3rzJV199xalTpzAwMKBw4cJcvHiRAQMGcOrUqWydE4C4uLhs7/Ou4sWLs337drZv306NGjU+uL/31b59ewC2bt2aazFkhySxhPgEhIWF4enpSbNmzbC2tqZRo0a4u7tz4cKFHDvG999/z9y5c3Osv5zm5OT03mW2S5Ys4Ysvvkj3cW9vb7p3757lOLKa8FqwYAEeHh7o6ekB8Pz5c8aMGUObNm2oWrUqs2bNSrVPfHw8S5cupWXLltjY2NCxY0dOnDih1ebt27fMmjWL5s2bY2trS48ePfjnn3+02ixZsgRnZ2fs7OyoW7cuffv25cqVK8rjZmZmdOrUicWLF2fpuQghhBBCiE9XUFAQM2fOxN7enpIlS2Z5v65du3Ls2DEOHDjA0aNH6dOnDwAvXrzA398fAENDQ8aPH4+/vz979uzh+PHj2NnZAXDixAlev36dbv9JSUns378fgObNmyvbs9qnhYUFixYtUtr5+vpSsGBBAP7++2+lv4ULFxIdHY2lpSVHjhzh2LFj1KxZE7Vazbx589KNL+WUvz/++IM+ffpgY2PDypUriYmJ4dtvv8XJyQk7Ozusra1p3bo1ixYtUpJcbm5uLF26FIDg4GClr507d6Y5nXDJkiWoVCqcnJw4cOCA8nm+d+/e3Lt3T+u8LVy4kPr161OnTh2mT5/OTz/9pPSncfnyZfr06UP9+vWxsbHBycmJb7/9lqCgIKVNs2bNlPMaERGR7rnIKySJJcQnYNiwYQQGBjJ37lz8/PxYsWIF9erVIzw8PMeOUbBgQQoVKpRj/eWUnLjKkRkzMzOMjIxytM+AgACCgoJo06aNsi0uLg5TU1M8PDyoWrVqmvstXLiQbdu28cMPP+Dr60uPHj0YOnQoN27cUNpMnjyZ06dPM3/+fPbt20ejRo3o168fz549U9qUK1eOKVOmsG/fPrZs2YKlpSX9+/cnLCxMaePq6sq+fftydBwJIYQQQoi8JSEhgbFjx6Krq8uCBQuUC6xZ4eHhQalSpZTfU87u0FRNmZub4+7urkyJMzQ0xMbGBgBdXd0Mj3f//n3l86lmn+z06eDggLOzs/K7paUlFhYWAOTLl095/pqEm6OjIyYmJuTLlw8nJycAbt26pfU5Oj3Tpk3j5s2blClTBl1dXeLi4jh69CixsbGUK1eOokWL8vDhQ5YvX65M06xYsSIlSpQAQF9fn5o1a1KzZk3MzMwyPNazZ88YN24cOjo6xMTEEBAQwHfffac8vmnTJlasWEF4eDjGxsYcPHiQjRs3avWRmJjIoEGDOHPmDPny5aNixYpER0dz9OhRnjx5orQrX748BQsWJCEhgcuXL2d6HnKbJLGEyOPevHlDQEAAY8eOpUGDBlhaWmJra8ugQYNo0aKFVrspU6bQsGFDbGxsaN++PX/++adWXydPnqRt27bY29vj7u7O8+fPlcfenU7o5ubGzJkzmT9/PvXq1aNRo0YsWbJEq78HDx7Qu3dvbGxscHFx0brakZ5bt24xYMAA7O3tadiwIePGjdNKrLi5uTF9+nRmzZpF/fr1cXd3T9VHXFwc06dPx9HRERsbG5o3b87KlSszP5npSFldlZSUxJIlS5SqN0dHR2bOnKnEFhwczJw5c1Jd5XiXr68vDRs2xNDQUNlWunRpJk+eTKdOnZQrRO/as2cPgwcPpmnTplhZWdGrVy+aNm3K2rVrAYiJieHQoUOMGzeOunXrUrZsWYYNG0bZsmXZsmWL0k+HDh1o2LAhVlZWVK5cmUmTJvH27Vv+/fdfpU3lypUpXrw4hw8ffu9zJ4QQQggh8ralS5dy5coVPD09lXWs3odarWbbtm0AWFlZ4eDgkGa70NBQ/Pz8gOR1tzJa7+nhw4dA8ppQhQsXTrddVvs8f/48d+7cAVCSVK9evSImJgZAK3lUtGhR5d8pkzrpsbe358SJE+zfv5/BgwdjZGTE/v37+fvvv9m9ezfHjx+nY8eOQPJ3AYCpU6fStWtXQHv6oKb6KT0JCQksXryYAwcOKNVvly5dUp7H6tWrlZiOHj3KkSNHlGSZxuvXr5WL1Tt37mT37t34+/vj4+NDpUqVlHY6OjpK4i9lhVZeJQu7C5HHGRsbY2xszJEjR7Czs1OueKSUmJjIN998Q2RkJAsWLKBMmTLcuXMHXd3/y1PHxMSwdu1a5s+fj66uLuPGjWPevHl4eXmle+xdu3bRr18/tm/fzuXLl5k4cSK1atWiUaNGJCYmMmzYMIoWLcoff/xBREQEs2fPzvC5vHnzhj59+tC1a1cmTZpEbGwsP/74IyNHjmTDhg1ax+3Zs2e687I3btzIsWPHWLhwIRYWFjx58iTH1nby8/Nj/fr1/PTTT1SuXJmXL19y8+ZN4P+mJXbr1o1u3bpl2E9AQIAyvzw74uPjU/0fGxoacvHiRSD5DU2tVmslx95t8664uDi2bdtGwYIFUyXebG1tuXDhgvLmKoQQQgghPh9Xr15l1apVdOjQgXbt2qFWq0lKSgKSL95mde3WqKgoxo0bx6lTpyhWrBjLli1DT08v1f5BQUEMGjSI58+fU6tWLTw9PTM8hmZaYIECBdJtl9U+jx8/zpgxY0hMTKR3795KEiun9OjRQ/kMrqn82rt3L35+fgQHBxMfH6+0TVks8D4KFiyoxJ8y4RQaGkrhwoWV7z4tW7ZEX18ffX19mjVrxv3795W2pqam2Nvbc+nSJVq1akXZsmWpXLkyTZs2VRbQ19AkBT+F6YSSxBIij8uXLx9z587lhx9+4Pfff6d69erUq1cPFxcXZUra6dOn+eeff/D19aV8+fIAqa6yxMfHM23aNMqUKQNA7969Wb58eYbHVqlUDB06FEienrZp0yb8/f1p1KgRp0+f5t69e6xevVrJ+o8aNYpvvvkm3f42bdpE9erVGT16tLJt9uzZNG3alPv37yuxlytXjvHjx2vtm/JOHk+ePKFs2bLUrl0bHR0dLC0tM3we2fHkyROKFStGw4YN0dfXp1SpUtja2gJQpEgR9PT0KFCgAObm5hn2ExISQvHixbN9fEdHR9avX0/dunUpU6YM/v7+HD58WHmjNjExwd7enuXLl1OhQgWKFSuGj48Ply9fVv5vNf78809Gjx5NdHQ05ubmrF27NlXpcvHixbWmKgohhBBCiM/H7du3UavVHDx4kEOHDgH/t1zHoUOHsLe3Z9myZRgbG6fbR3h4OAsWLOD+/ftYWFgwfvx43r59m2rq2a1bt/Dy8iIiIoJatWoxbNgwbt++nWF8mmRPREREmlPZstrn4cOH+e2330hMTKRLly60a9dOeczU1JT8+fMTExOjNQMkNDRU+bemEikjKSu3AFatWqXMBrG0tKRYsWI8ffqUZ8+ekZiYmGl/GUm5zEvK6ZiaBGRWrV+/nn379nHx4kXu3r2Ln58f+/fv58WLFwwYMEBpp1mkP7fukpgdksQS4hPQpk0bmjVrRkBAAJcvX+bkyZOsXr2amTNn4urqSmBgICVLllSSQGkxMjLSSnIUL15c64U7Le9W7Zibmyv73L17l5IlS2qVrdrb22fY382bNzl79mya7YKCgpT4M7s7R+fOnenfvz/Ozs40btyYZs2a4ejomOE+WeXs7Mxvv/1Gy5Ytady4MU2bNqV58+bKnPqsiomJSVUtlRXff/89kydPpm3btujo6GBlZYWrqys7duxQ2syfP5/vvvuOJk2aoKenR/Xq1WnXrh3Xr1/X6qt+/frs3r2bV69esX37dkaOHMkff/yh9QaseUMXQgghhBCfr5RVQhpqtRq1Wo21tTWFChWiX79+PH/+nBYtWigXnW/fvs3YsWMJCQmhdu3aLFmyhCJFiqTqy8/Pjzlz5hAbG0vv3r2ZNGmS1qyQ9BQqVAgvLy+ioqKoUKGCVvImK30mJSXh5eXFunXr0NfXZ86cOXTo0AG1Ws3Vq1eB5KIABwcH/vzzT06dOsXbt2/Jnz+/cpG8SpUqqabipUVHR0frd81Nk8qVK4efnx9qtRoPD49U62vlz58fgOjoaJKSklL1k10mJibKbJS//vqLvn37Eh8fz19//aXVLikpiUuXLuHq6qrMupgyZQrbtm0jICBASWIlJSUp0ynLli37QbH9FySJJcQnwtDQkEaNGtGoUSOGDBnC999/z5IlS3B1dVVeGDPybhJGR0cn00z+++yTkaioKJo3b87YsWNTPZaysimzRdZr1KjB0aNHOXHiBKdPn2bkyJE0bNgwR+60Z2FhwcGDBzl9+jSnT59m2rRprFmzho0bN6Kvr5/lfkxNTXnz5k22j29mZsby5cuJjY0lPDyc4sWL8+OPP2pV1pUpU4ZNmzYRFRXF27dvKV68OCNHjkxVfWdsbEzZsmUpW7YsdnZ2tG7dGm9vbwYNGqS0CQ8Pz3RhSSGEEEII8WlydXXF1dVVa5uTkxPBwcG4uLgoC5BD8p34goODCQ0NVap/RowYQUhICJD8Wd7Dw0Np37VrV7p27cqzZ88YPXo0SUlJ6Ovrc+3aNXr37q208/T0TPcidaVKlTAzMyMsLIybN28q62xltU8fHx9l7VgTExO2bNnCli1bSEpKIioqir179wIwcuRI/P39CQ4OpmXLlhgYGPDs2TP09PQYN27ce51blUrFn3/+yYMHD3ByciIhIYHY2NhU7SpUqAAk33He2dmZwoUL4+Xl9UHJLHd3d2bOnMn58+dp2bIlcXFxREVFabVRq9X07duXAgUKYGFhga6urrJeWMpihfv37xMREUG+fPmUO0DmZZLEEuITValSJY4cOQIkvwg9ffpUa0rex1axYkWePn3K8+fPlWlzmd3NokaNGvj5+WFpaZntyqZ3mZiY4OLigouLC23atGHAgAGEh4eneWUou/Lnz4+TkxNOTk706tWLtm3bcuvWLWrUqIG+vn6WyoOrV6+uvEm8D0NDQ0qUKEF8fDyHDh2ibdu2qdpo1kt7/fo1p06dyvQNODExMdXdHm/fvk29evXeO04hhBBCCPH5SlnBFRgYqPVY48aNlTaaC93x8fFKhZKGZqpaWnR0dGjXrp2y5q0miZXVPlN+tn316hWvXr1K8zhVq1Zl48aNLFy4kEuXLhEVFYW9vT1Dhw597xkdgwYN4tmzZxw9epTIyEhcXV0xNDRkxYoVWu2aN29Ot27dOHToEA8ePACSq7IymsKZma+++orQ0FC2bt1KREQE7dq1w8DAgI0bN2qt29WjRw8uXbpESEgIcXFxWFpa0qpVK4YMGaL0pangatKkSbo3n8pLJIklRB736tUrRowYwZdffolKpaJAgQJcu3aN1atXK3cnrFevHnXq1GH48OFMnDiRMmXKcO/ePXR0dGjSpMlHiathw4aUK1eOiRMnKvPiU17JSUuvXr3Yvn07o0ePZsCAARQpUoSHDx/i6+vLzJkzs3y733Xr1mFubk61atXQ1dXl4MGDmJuba5UfvysmJibVG2+BAgVSrSO1c+dO1Go1NWvWxMjIiL1795I/f37l1sKWlpacP3+edu3aoa+vn24Vk6OjI7t27Uq1XRNDZGQkYWFhBAYGoq+vryzYeOXKFZ49e0a1atV49uwZS5YsITExUWvO+smTJ0lKSqJ8+fIEBQUxf/58KlSooFxli4qK4pdffsHJyQlzc3NevXrF5s2befbsGc7Ozko/0dHRXL9+XWuNMiGEEEII8XlLudZsZtvTa5tS6dKlte6AnV09evRg8+bNHDhwgHHjxmFgYJDlPtOqNIPkKqR3L7Db2toqVVtZlVEcxsbGzJ07N9X2kSNHav2uq6vLjBkzmDFjRqq27/Y9bNgwhg0bprUtref49u1b3NzclGPFxsbSpUsXAKpVqwYkJwinTZuW/pP7//bt2wckf1f7FEgSS4g8rkCBAtSsWZPffvuNoKAgEhISKFmyJF27dmXw4MFKuyVLljBv3jxlIe+yZcsyZsyYjxaXrq4uS5cu5fvvv6dLly5YWloyefJkrWTLu0qUKMHWrVv58ccfcXd3Jy4ujlKlStG4ceMszZnXKFCgAKtXr+bhw4fo6upiY2PDqlWrMuzjwYMHdOrUSWubg4MD69ev19pWqFAhVq1axdy5c0lMTKRKlSr88ssvmJqaAjB8+HCmTJmilO2m96bWoUMHFixYwL1795QSYkArhuvXr+Pj44OlpaXyASE2NpaFCxfy6NEjjI2Nadq0KfPnz9dK0EVERPDTTz/x9OlTihQpQuvWrRk1apQy3VFPT4979+6xa9cuXr16RZEiRbCxsWHz5s1UrlxZ6efo0aNYWFhQp06d9E+2EEIIIYQQH1GlSpVwcXHBx8eHffv28eWXX+Z2SHne48eP6datG7a2thQsWJDr16/z/Plz9PT0UiXBMuLv78+NGzewt7dXKuvyOp2kD1ngRgghRLrmzZtHZGQk06dPz+1Q0tStWzfc3NxS3WI3I5qrWvsNDnI3+t5HjE4IIYQQQnyIssZlmG7tmdth5ArNZ1Y7O7ssz/b4lDx79oxJkyZx48YNIiIiMDExoWbNmgwcOPCzv0AtlVhCCPGReHh4sGXLFhITE7NVafZfCAsLo1WrVrRv3z63QxFCCCGEEEJkQ4kSJbI9NfJzIUksIYT4SAoVKqQ15TMvMTMz45tvvsntMIQQQgghhBAiy/JWaYAQQgghhBBCCCGEEGmQJJYQQgghhBBCCCGEyPNkOqEQQohsK2lUggSdhNwOQwghhBBCpKOUkUVuhyBEjpMklhBCiGxzL9/vs7zTixBCCCHE5yQxKRFdHZmAJT4fMpqFEEJkm1qtzu0QxCdOrVZz48YNGUvig8lYEjlJxpPIKXllLEkCS3xuZEQLIYQQIldER0fndgjiMyFjSeQkGU8ip8hYEiLnSRJLCCGEEEIIIYQQQuR5ksQSQgghhBBCCCGEEHmeJLGEEEIIkSuMjIxyOwTxmZCxJHKSjCeRU2QsCZHz5O6EQgghsk3uTCg+lJ6eHtWrV8/tMMRnQMaSyEkynkROyUtjSZ2UiJ4s8C4+E5LEEkIIkW0LbmznbvTT3A5DCCGEEEJkoKxxcSZb987tMITIMZLEEkIIkW1B0S+4HRGc22EIIYQQQggh/odITaEQQgghhBBCCCGEyPMkiSWEEEIIIYQQQggh8jxJYgkhhBBCCCGEEEKIPE+SWEIIIYQQQgghhMhVPXr0QKVScebMmdwO5T/z+PFjVCoVKpWKs2fP5koMZ86cQaVS0aNHj1w5fnZJEkt89tzc3Jg1a9ZH6//s2bOoVCrevHnz0Y4hPk0LFy7khx9+yO0w0rR161YGDx6c22EIIYQQQoj/2IgRI5TEyahRozJtv3btWtzc3HB0dMTa2prmzZszYcIEHj16pNVu0qRJtG7dGnt7e+zs7GjZsiUzZ84kPDw802OcOHGCS5cuUa1aNRo0aADA06dPmTJlCh06dKBu3brY29vTvn171qxZQ3x8vLJvykSQ5qd69er06tULb29vpd3t27cZMmQIjRs3Vtr9+OOPWTxrH2bJkiWoVCqcnJy0thsYGFCzZk1q1qyJiYnJfxLLuxo0aECNGjW4dOkSJ06cyJUYskOSWP+hsLAwPD09adasGdbW1jRq1Ah3d3cuXLigtFGpVBw5cuSjHH/r1q3Y29uTkJCgbIuMjKRGjRq4ublptdUkZoKCgj5KLFmhiSGtnxcvXmS5nyVLljBixIiPGOmH27lzJ3Xq1AGS3yTq1q1LbGxsqnbR0dHUqlWLDRs25MhxnZ2dsba2ztL53LlzJyqVCnd3d63tb968+c+vHKSXmEx5HnPbixcv2LBhg1ai6Pz58wwePBhHR8d0/9ZfvnzJxIkTcXR0pGbNmri7u/PgwQPl8bTepDU/Bw4cAP7v/yqtn9DQUAC+/PJLrl+/TkBAwMc9EUIIIYQQIs/YsWMHBw8ezNY+mzZt4vz58xQsWJASJUoQEhLC7t276dmzJ2/fvlXaHTt2DLVaTfny5TE1NeXRo0ds3LiRMWPGZHqMLVu2ANCxY0dl28OHD9m2bRuPHz/G0tISXV1dbt++zfz589MtUtAkhGxtbalUqRJmZmZa/R09ejTHkkVxcXEf3Efx4sXZvn0727dvp0aNGjkQ1ftp3749kJwzyOvy5XYA/0uGDRtGfHw8c+fOxcrKitDQUPz9/bOUmc6uuLg4DAwMtLbVr1+fqKgorl27hp2dHQABAQEUK1aMK1euEBsbi6GhIZCcQCpVqhRlypTJ9rGTkpL4f+zdd1QVx/v48TcgKAhWQLErKhZASDSIQRHELklEUSxEjbFg7yUmsWGLsaOJJZagsSsWEAtGjRE7qFHsBQVsKArSL/z+4Hf3yxVQUBLQz/M6557D3Z2dnb2utzzzzIxKpaJIkfy5vQIDA7O80ZQtWzbXx5cqVSpf2vFf+fLLL5k/fz4HDhzA1dVVY9/+/ftJSUnReHN/V2fPniUpKYnWrVuzc+dO+vfv/9ZjihQpQnBwMCdPnlR6SET2tm7diq2tLRUrVlS2xcfHY2FhQadOnRgyZEiWY9LT0xk8eDBFihRh2bJlGBoasnbtWvr06YO/vz8GBgaYmZlx/PhxjeM2b97Mb7/9RrNmzQBo164dTZs21SgzYcIEkpOTlf87enp6dOjQgd9//73QBP6EEEIIIcS/Jzw8HG9vb2xtbYmKiuLhw4e5Os7d3Z0vv/ySChUqADBz5kzWrVvHkydPCA4OpmXLlkBGNpX69yRA9+7dOXfuHOfPn39j/bGxsfz1118AODk5KdtLliyJt7c3X375JXp6erx48QI3NzcePHjAnj17mDJlSpa6tmzZAoBKpSI0NFT53QsZv4fPnj2LoaEhFhYWubp2yOhEbtGiBQDe3t7s3buX8+fP079/f/r168eoUaO4evUqz549IzU1lQoVKtC+fXu8vLzQ09PD09OT06dPAxAREaGce9asWXz22WdK3b///jt2dnYsWbIEHx8fKlasyNixY1m0aBEPHz6kfv36TJ8+nRo1agAZvx0WLVrExo0bUalUfPHFFxgaGrJ8+XIArl27BkBoaCgLFizg6tWrxMfHY2JiQp06dZgwYYLye7958+bMmTOHY8eOERsbi5GRUa5fn/+aZGL9R16+fMnZs2cZM2YMjRs3pmLFilhbWzNgwADlplWnFg4ePFgj1TA8PBwvLy+aNGmCra0tnTp14sSJExr1Ozs7s3TpUsaNG8cnn3zCjz/+mKUNNWrUwMTERPkPBHD69GlatGhBpUqVCA0N1dhuZ2cHgJ+fH25ubtja2vL5558zevRoJZsD/i9j6ujRo7i5uWFlZcW5c+e4evUqnp6e2Nra8sknn+Dm5salS5fy/NqVLVsWExMTjYe2dsatO2HCBAYNGoSPjw+NGzdWrj1zVPz1rJ0NGzbQqlUrrKysaNKkCcOGDVP2JScn4+3tjb29PVZWVnTr1o2LFy9qtOfo0aO0bt0aa2trPD09iYiIyNLms2fP0r17d6ytrXF0dMTb25v4+PhcX6+TkxPbt2/Psm/79u24uLjkS2Bu+/btdOjQgS+//DLbc2VHX1+fTp06MW/evDeWi4qKYvjw4TRs2JDPPvsMLy8vHjx4AMD169epU6cOz549AyAmJoY6depopDIvW7aMbt26veOVafrjjz9wcXHB0tKS1q1b4+fnp7HfwsKCP/74g2+//RZra2tatGiRpXfqTdeTk4CAgCzpwo6OjowcOVL5oH/d3bt3CQ0NZcqUKVhbW1OjRg2mTJlCYmIi/v7+AOjo6GT5/3Do0CHatm1L8eLFAShWrJjGfh0dHU6dOkWnTp00zufs7Mzhw4dJTEx86+sohBBCCCE+XKmpqYwZMwZtbW3mzp2Ljo5Oro/18vJSAliARgdo5sSJokWLsnDhQtzd3XF2dlZGHH366advrD80NJTU1FRKlChBtWrVlO116tTB3d1dOUfJkiWpVatWlvNm1rhxY2xtbXFzcyMoKIi0tDRln5GR0XtnYU2dOpWrV69SpUoVtLW1SU5OJigoiKSkJKpVq0bZsmW5d+8ey5YtY8GCBQCYm5tTrlw5AHR1dZVsscxZYtl59OgRY8eORUtLi8TERM6ePct3332n7F+/fj2//PILMTExGBgYEBgYiK+vr0YdaWlpDBgwgJMnT1KkSBHMzc1JSEggKCiIqKgopVz16tUxMjIiNTVVIy5QGEkQ6z9iYGCAgYEBhw4dyjHtUD1ed9asWRw/flx5Hh8fj6OjI2vXrmXnzp00bdqUgQMHEhkZqXH86tWrqVOnDn5+fgwaNCjbc9jZ2WkM+zp16hSfffYZjRo1UrYnJiZy4cIFJYiVmprK8OHD2b17N0uXLiUiIoIJEyZkqXvevHmMHj2agIAALCwsGDNmDOXLl2fbtm3s2LGDfv36oaurq5S3sLBgx44duX0JcxQcHMytW7fw9fVl/vz5HDx4kKVLl2Zb9tKlS8yYMYNhw4YRGBjIqlWrNN6Ef/rpJ/bv38/s2bPZuXMnVatW5dtvv1Wy5aKiohgyZAhOTk74+fnh7u6eJaATHh5Ov379aNWqFbt372bBggWcO3eO6dOn5/qaOnfuzMmTJzUCZPfv3+fMmTN07tw5D69O9uLi4ggMDOSLL77g888/Jy4uLtfDyoYMGcL169dzTENOSUmhb9++FC9enA0bNrBx40YMDAz49ttvSU5OplatWpQqVUoJpp49e5ZSpUpx5swZpY4zZ87w2Wefvfd1Hjx4kJkzZ9KnTx/27NmDh4cH3333XZbJIhctWkTr1q3ZtWsXrq6ujBo1ilu3buXqerITExPDzZs3sbS0zFN71fVl7sHS1tZGT09PY9hxZv/88w9hYWFvvC/8/PwoVqwYbdq00dhuaWmJSqXiwoULeWqnEEIIIYT4sPj4+HDhwgUmT55M5cqV37kelUrF5s2bAahcuTL29vYa++/du8fFixeV3zFNmjRh4cKFb6zz3r17AJiZmaGlpZVjudu3byu/Wbt06ZJlf9myZTE1NQXg6tWr/Pbbb0ogKb/Y2tpy7Ngx/P39GThwIPr6+vj7+/P333/j5+fH0aNHlVEzAQEBAEyZMgV3d3dAc/hg8+bN33iu1NRUFi9ezL59++jVqxcAISEhSgf0qlWrlDYFBQVx6NAhJVim9uLFC+W37I4dO/Dz8yM4OJi9e/dSs2ZNpZyWlhZmZmYABTqlUG5IEOs/UqRIEWbPno2fnx8NGzbEw8OD+fPnc/XqVaWMOhJbokQJTExMlOd16tTBw8OD2rVrU61aNUaMGEGVKlU4fPiwxjkaN27MN998Q5UqVXIcBti4cWPOnz9PamoqcXFxhIWFKUEsdVAhJCSE5ORkJYjVuXNnHB0dqVy5MjY2NkyaNIljx47x6tUrjbqHDRvG559/TpUqVShVqhSRkZE0adIEc3NzqlWrRtu2balTp45SXh3tfRtHR0dsbW2VR/v27TX26+npMXPmTGrVqkXz5s0ZNmwYv//+u0bUXS0qKgp9fX2aN29OxYoVqVevHl9//TWQESzctGkT48aNw9HRkZo1azJ9+nSKFi2qBBQ3btxIlSpVmDBhAjVq1OCLL76gY8eOGudYvnw5rq6u9O7dm2rVqvHJJ58wadIk/Pz8sp3nKjsODg6YmppqBPl27NiBmZlZlg+KdxEQEEDVqlWpVasWOjo6tGvXTmPSwzcpV64cX3/9NQsWLNCYXy1z3WlpacyYMQMLCwvMzc2ZNWsWUVFRnD59Gi0tLY377fTp07i5uZGcnMytW7dISUkhJCTkrUEs9RxvmR+TJ0/WKPPbb7/RsWNHevToQfXq1enTpw8tW7Zk9erVGuXatGmDu7s71atXZ8SIEVhaWiq9GG+7nuxERUWRnp6ufIjmVo0aNahQoQLz5s3jxYsXJCcns2LFCh4+fJjjvGXbtm3D3NycTz75JMd6t23bRocOHShWrJjGdn19fYyMjLIExIUQQgghxMfj0qVLrFixAldXV9q3b49KpSI9PR34v6lgcvOIjY1l8ODBHD9+HGNjY5YuXYqOjo5GmZ9//pkLFy6wfft2atWqxYkTJ5g6deob633x4gUAxYsXz7FMaGgoPXv2JD4+npYtWzJo0CBlX8mSJfHz8+Ovv/5i586dHDp0CHNzcyBjFE5+zF2l5uHhoXQ46+jooK2tze7du2ndujWWlpZYWFiwe/duAB4/fvxe5zIyMlJGdmQOOEVHRxMXF6cMB3VxcUFXVxcDA4MsgbHSpUtja2sLQMuWLZUO+ytXrlC6dGmNsuostdjY2Pdq979N5sT6D7Vu3ZrmzZtz9uxZQkND+euvv1i1ahXe3t64ubnleNyrV6/w8fHhyJEjPHnyBJVKRWJiYpYfnrnJ+vjss8+Ij4/n0qVLvHz5kmrVqlGmTBkaNWrExIkTSUpK4vTp01SuXFlJGf3nn3/w8fHh6tWrvHjxQnnDi4qK0vjPZGVlpXGuPn368P3337Nr1y6aNGlCmzZtNIJruZ1QcMOGDcowKSDLXFsWFhbo6+srz21tbYmPjycqKkpjPiLI6AmoUKECLi4uNG3alKZNm9KyZUv09fUJDw8nJSVFIxigq6uLtbW1kpVz69YtrK2tNerMPM4aMqL+165dY8+ePcq29PR00tLSePDggfKG+iY6Ojp07NiRnTt3MmTIENLT05VhneqhlK87e/Ys/fr1U55PnTo1x7mztm/frrHviy++wNPTk++//z5XKbb9+vVj8+bNbN++nbZt22rsu3r1KuHh4VmCKklJSUpUv1GjRsp49TNnzjBy5Eju3r3L6dOnefHiBampqW8MygC4urpmWV3vwIEDyhhwyOit6dq1q0aZ7CbGV7+xq9nY2BAWFpbr63mdunckc0ZVbujq6rJkyRImTZrEZ599ho6ODvb29jRr1kz5f/f6efbu3Ztj5iVkBKVv3brFTz/9lO3+okWLkpCQkKd2CiGEEEKID8eNGzdQqVQEBgZy4MAB4P9GABw4cABbW1uWLl2KgYFBjnXExMQwd+5c7ty5g5mZGePGjSMuLu6NQ8/s7e25ceMGu3fvxtHRUcn0eZ06iBUdHZ1tfWfPnmXp0qUkJSXh7OxMr169+Oeff7KUy3xsnTp1uHXrFomJiTx//jxLhtK7en1u5hUrVii/PypWrIixsTEPHz7k0aNH2SZV5EWJEiWUvzMP/8zud8GbrF27lj179nD+/Hlu3brF/v378ff358mTJ3z77bdKOfUk/QW1SmJuSRDrP1a0aFE+//xzPv/8cwYPHsykSZNYsmTJG4NYc+bM4cSJE4wfP54qVapQrFgxhg0bprGsKKARyMlJ1apVKV++PKdOneLFixc0atQIyMiuMTMz4/z585w6dUqZtDs+Pp6+ffvi4ODAzz//TOnSpYmKiqJv375vPf/QoUPp0KEDR48e5dixYyxevJgFCxbkOB9QTipVqqTxH/h9GBoasnPnTk6fPs3x48dZvHgxPj4+uc5Cyo34+Hg8PDyyrPgI5PjGnZ1OnTqxfPlyTp48SVpaGlFRUW+8TywtLTXme8pp8vubN28SGhrKxYsXNZaUValUBAQEZJua+7oSJUrQv39/fHx8skT74+PjqV+/frbL1aqzCz/77DNmzpzJ3bt3uXnzJp9++im3b9/m9OnTvHz5EktLy7fez4aGhlStWlVjW14m/M+t3FzP69S9Gi9evHjrWPfXWVpasmvXLmJjY0lJSaFMmTK4u7tnG6QODAwkMTGRr776Ksf6tm7dSt26dXMMcr9LG4UQQgghxIfn9d9vgJLNZGlpSYkSJejTpw+PHz+mRYsWjBo1CsgIgo0ZM4bIyEg+/fRTlixZkmWO3kuXLpGQkKCMpkhOTmblypXK/qpVq1KvXr1s2xUbG8u6det4/vx5lgQBX19fFi5cSHp6OqNHj86yUjpAUFAQxYoV4/PPPwcy5qNWT2qur6+fr991Xx/uqJ6Wo1q1auzfvx+VSoWXlxePHj3SKKceEZGQkEB6evobh03mhqGhIWZmZkRFRXHkyBF69+5NSkoKR44c0SiXnp5OSEgIbm5uypDGH3/8kc2bN3P27FkliJWenq7MkfX6b6zCRoJYBaxmzZocOnRIea6rq4tKpdIoExISQseOHZXgz6tXr7KdTDy37OzslIyXzG8CDRs25NixY1y8eFGZVPv27dvExMQwZswYJQCTXdQ7J9WrV6d69er07t2bUaNGsX379jwHsd7m2rVrJCYmKm8MoaGhyipu2SlSpAhNmjShSZMmDBkyhEaNGnHy5EkcHBzQ1dXl/PnzSgZXSkoKly5dUsYgm5ubZxnG+fp8QvXq1ePmzZvv/Z+/SpUqNGrUSAmwNWnSJEtmWWbFihXL1Tm3bdtGo0aNskz+v2PHDrZt25arIBZkTJjv6+ubJaupfv367Nu3j7Jly+YYxbewsKBkyZL88ssv1K1bl+LFi2NnZ8eqVat4+fJlvsyHBRnD886fP68x5PP8+fMaGYSQcc9kDgRduHCBunXr5vp6XlelShUMDQ25desW1atXf6e2q4fa3r17l3/++Yfhw4dnKbN9+3acnZ1z/GB+9eoV+/bty3FZ4/DwcJKSknL8QiGEEEIIIT58bm5uWTrDnZ2diYiIoF27dhrzRj148ICIiAiio6OV7J/hw4cro4Di4+Px8vJSyru7u+Pu7s7t27eZOHEiJUuWxMzMjIcPHypzMdWtW5f69evnOKLk008/pUiRIrx8+ZKIiAhl9E5ISAizZs0CMoYaHjp0SOO3s4+PD6amply7dg0fHx+MjIyoUKEC9+/fVxbV6tu3rzIv84ULFxgzZozGuTdv3sz+/fspX758lknRc8PCwoI///yTu3fv4uzsTGpqarZTyKhXFHz27Blt2rShZMmSzJs3772CWX379sXb25szZ87g4uJCcnJylsXEVCoVvXv3pnjx4piZmaGtrc3NmzeVtqvduXOH2NhYihQpkiWQWNjInFj/kefPn/P111+za9curl69yv3799m3bx+rVq1SVieEjBTE4OBgnjx5oqRVVq1alYMHDxIWFsbVq1cZPXr0e6Um2tnZKasHZg4WfPbZZ2zevJmUlBRlPqwKFSqgq6uLr68v9+/fJygoiGXLlr31HImJiUybNo1Tp04RERHBuXPnuHTpksZQujZt2nDw4MG31hUdHc2TJ080Hpl7EZKTk5k0aRI3b97k6NGjLFmyhJ49e2b7Jvnnn3/y+++/ExYWRkREBH5+fqSlpVG9enUMDAzo1q0bP/30E8eOHePmzZv88MMPJCYmKpNme3h4cPfuXebMmcPt27fZs2cPO3fu1DhHv379CAkJYdq0aYSFhXH37l0OHTrEtGnT3nqtr+vcuTMHDx7k4MGD+TKhe0pKCrt27aJ9+/bUrl1b4+Hu7s6FCxe4ceNGruoqWrQoQ4cOzfJm7+rqSunSpfHy8uLs2bPcv3+fU6dO4e3trYzb1tLSomHDhuzZs0e5By0sLEhOTiY4OFjJEHxf3377LTt37uSPP/7g7t27rFmzhoMHD/LNN99olAsMDGTbtm3cuXOHxYsXc/HiRXr27Jnr63mdtrY2TZo0yTIZ+6tXrwgLC1OGKj548ICwsDCNocH79u3j1KlT3L9/n0OHDvHNN9/g4uKCg4ODRl337t1760T/AQEBynK72Tl79iyVK1fOcQ49IYQQQgghMv/2CgsL48KFC8pD/X24Vq1aNG3aFD09PW7dukVCQgLm5uZ88803rFu3LscAFmR03jZt2hRAI2Eg81xWr1690jjvhQsXlP1OTk507NiRMmXKEB4ejp6eHra2tgwbNkxj2o3ExETCw8M1pgR5+fIl4eHh75wkMmDAADp27EiJEiV49eoV7du3z3aVdScnJ7p06UKpUqW4e/cuFy5ceO8pPXr27ImXlxelSpUiNjYWFxcX5bdB5nm7PDw8qFSpEo8ePeLevXtUrFiRb775hsGDByt1qTO4mjVrlqt5qwuSZGL9R4oXL06DBg1Yt24d4eHhpKamUr58edzd3TXm9Rk/fjyzZ89m69atlCtXjsOHDzNhwgS+++47PDw8KF26NP369csyqXpe2NnZkZiYSI0aNTA2Nla2N2rUiFevXlG9enVlQuoyZcowe/Zs5s+fj6+vL/Xr12f8+PEa0ffsaGtrExMTw/jx43n69CmlS5emVatWDBs2TCmjjva+zesrqkFGxFwdIba3t6dq1ar06NGD5ORkOnTowNChQ7Oty8jIiIMHD+Lj40NSUhJVq1Zl3rx5ylKtY8aMIT09nXHjxvHq1SssLS1ZtWoVJUuWBDKCekuWLGHWrFmsX78ea2trRo4cqbHUaZ06dZS01+7duwMZK3e0a9furdf6utatWzN9+nR0dHRwcXHJ8/GvO3z4MDExMdlmw5mbm2Nubs62bduYOHFirurr2LEja9asUaL5kJGyu379en7++WeGDBnCq1evKFeuHPb29hqZTI0aNeLQoUNKEEtbW5uGDRty9OjRt86HlVsuLi589913rF69mpkzZ1KxYkVmzpypBGnVhg4dSkBAAFOnTsXExIR58+Yp2Vq5vZ7Xde7cmR9++IGxY8cqH9r//POPspAAoPQsdezYkdmzZwPw5MkTZs+eTXR0NCYmJnz55ZfZznm1fft2ypcvnyW49XqZli1b5jgc19/fP9eZd0IIIYQQ4uPx+uiSN23PqWxmVlZWymp576J79+78+eef7N69m969ewMZv1vVwwLfxNLSUvkuraaeDD6z3Nb3ukqVKuV4nIGBQZZzA4wYMULjuba2NtOnT892xfrX6x46dGiW37PZZdPFxcXh6empnCspKUkJYqlHlWhpaTF16tScL+7/U8/nrP79Wphpped1VjAhCpEJEybw8uXLXGWHCZEdCwsLli5dmi9BwszS09Nxd3end+/edOjQIV/rzg83btygV69e7N+/P0+9LeovBL+p/uZKbOFeflcIIYQQ4n9dLaOKrPxsZEE3I1c8PDwICQlh3bp1yhzN70r9ndXGxkZjUvSPSVhYGF26dMHa2hojIyMuX77M48eP0dHRYcWKFW/s7M4sODiY3r17Y2try6ZNm/7lVr8/ycQSQoh/gZaWFtOnT3+n3p7/wpMnT5gzZ06hTxcWQgghhBD/Gz6EAEphUqZMGRo1asSVK1eIjY3F0NAQR0dH+vfvT8OGDXNdj729faH9zZIdCWIJIcS/pG7dukoqb2HTpEmTgm6CEEIIIYQQ4h2VK1eO1atXF3Qz/nMSxBIftOzGHwuRFx9Sr4MQQgghhBBC/C+T1QmFEEIIIYQQQgghRKEnQSwhhBBCCCGEEEIIUejJcEIhhBB5VkXfhBRUBd0MIYQQQgjxBlUNTAu6CULkKwliCSGEyLOx9bp8tMsVCyGEEEJ8TFTpaehoySAs8XGQO1kIIUSeqVSShSXej0ql4sqVK3Ivifcm95LIT3I/ifxSmO4lCWCJj4nczUIIIYQoEAkJCQXdBPGRkHtJ5Ce5n0R+kXtJiPwnQSwhhBBCCCGEEEIIUehJEEsIIYQQQgghhBBCFHoSxBJCCCFEgdDX1y/oJoiPhNxLIj/J/STyi9xLQuQ/WZ1QCCFEnsnKhOJ96ejoUK9evYJuhvgIyL0k8pPcTyK/FKZ7SVYnFB8TCWIJIYTIs+/P7+Z67OOCboYQQgghhHiDGkYmzG3kVtDNECLfSBBLCCFEnt2NfcqVFw8LuhlCCCGEEEKI/yGSUyiEEEIIIYQQQgghCj0JYgkhhBBCCCGEEEKIQk+CWEIIIYQQQgghhBCi0JMglhBCCCGEEEIIIQqUh4cHFhYWnDx5sqCb8p958OABFhYWWFhYcOrUqQJpw8mTJ7GwsMDDw6NAzp9XEsQS4j/k7OzM2rVrC7oZ/zn1m3NYWFiOZU6dOoWFhQUvX778D1sGEyZMYNCgQf9K3cHBwbRt2xaVSvWv1P8+nj17hr29PQ8fyuTsQgghhBD/S4YPH64ETkaOHPnW8qtXr8bT0xMHBwcsLS1xcnJi/Pjx3L9/X6PcxIkTadWqFba2ttjY2ODi4oK3tzcxMTFvPcexY8cICQmhbt26NG7cWNm+bNkyOnfujKWlpdLmpKSkHOs5cuQIFhYW1KtXj+7du2uU3bFjB3379qVZs2ZYWVnRtGlThgwZwtWrV9/avve1ZMkSLCwscHZ21tiup6dHgwYNaNCgAYaGhv96O7LTuHFj6tevT0hICMeOHSuQNuSFBLGEeAcTJkxQ3kQtLS1p2bIlPj4+pKamvvG4bdu20bVr1/+olflrx44dyjVbWFhga2uLm5sbBw4ceOuxZmZmHD9+nFq1av0HLc3wenuzezx48OBfbcPcuXPx8vJCR0cHgMePHzN69Ghat25NnTp1mDFjRpZjUlJS8PHxwcXFBSsrK7744ossHyYqlYqFCxfi7OyMtbU1Li4uLF26lPT0dKVMTte8atUqAMqUKcNXX33F4sWL/8VXQAghhBBCFCbbt28nMDAwT8esX7+eM2fOYGRkRLly5YiMjMTPz49u3boRFxenlDt8+DAqlYrq1atTunRp7t+/j6+vL6NHj37rOf744w8AvvjiC43t+/fv5+7du5QpU+atdTx9+pTvvvsux/07d+7k+PHj6OnpUbFiRR4/fszBgwfp1q1bloBcbiQnJ+f5mNeZmpqyZcsWtmzZQv369d+7vnfVoUMHADZu3FhgbcgtCWIJ8Y6aNm3K8ePH2b9/P3369MHHx4fffvst27LqN7gyZcqgr6//XzYzXxkaGnL8+HGOHz/Ozp07cXBwYMSIEdy+fTvHY5KTk9HR0cHExIQiRYr8Z21t166d0tbjx49ja2tLly5dNLaZmZn9a+c/e/Ys4eHhtG7dWtmWnJxM6dKl8fLyok6dOtket3DhQjZv3swPP/xAQEAAHh4eDBkyhCtXrihlVq5cycaNG/nxxx8JCAhgzJgxrFq1Cl9fX6VM5us8fvw4M2fOREtLS6M9bm5u7NmzJ1e9Y0IIIYQQ4sMWHh6Ot7c3tra2lC9fPtfHubu7c/jwYfbt20dQUBC9evUC4MmTJwQHByvljh07RlBQEDt27ODPP//k008/BeD8+fNvrD82Npa//voLACcnJ419y5cv58yZM7i7u7+1nRMnTuTly5e0aNEi2/0tWrQgICCAQ4cOERgYqAS84uPjCQoKyrHezEP+tm7dSq9evbCysmL58uUkJiYyaNAgnJ2dsbGxwdLSklatWrFo0SLlN6Cnpyc+Pj4AREREKHXt2LEj2+GEmbO29u3bR5s2bbCxsaFHjx4av7vS09NZuHAhdnZ2NGzYkGnTpjF//nylPrXQ0FB69eqFnZ0dVlZWODs7M2jQIMLDw5UyzZs3BzL+DWNjY9/6WhckCWIJ8Y709PQwMTGhYsWKdO/enSZNmnD48GHg/4ao/fLLLzg4ONCmTRsg63BC9Rvh4MGDadCgAa1atcryBnrjxg0GDBjAJ598gq2tLd27d9d4w9m6dStt27bFysqKNm3asGHDBmVfcnIy06ZNw8HBASsrK5ycnFi+fDmQ8aa3ZMkSmjdvjqWlJQ4ODnh7e7/xmrW0tDAxMcHExIRq1aoxYsQItLW1uXbtmlLG2dmZpUuXMm7cOD755BN+/PHHbIcTHj16lNatW2NtbY2npycRERFZznf27Fm6d++OtbU1jo6OeHt7Ex8f/7Z/GgCKFSumtNXExARdXd0s29QZUgC//fYbDg4O2NnZMXXqVFJSUjRexzlz5tC0aVNsbGxwd3d/65j1gIAAmjRpQtGiRZVtlSpV4vvvv+err77CyMgo2+N27drFwIEDcXR0pHLlynTv3h1HR0dWr16tlAkJCaFFixY0b96cSpUq0aZNGxwcHLh48aJSJvN1mpiYEBQUhJ2dHZUrV1bK1KpVC1NTUw4ePJir11QIIYQQQnyYUlNTGTNmDNra2sydO1fje/DbeHl5UaFCBeV5w4YNlb/19PSUv4sWLcrChQtxd3fH2dmZc+fOASjBrJyEhoaSmppKiRIlqFatmsa+8uXLo6Wl9dY2+vr6cuzYMUaPHk3dunWzLdO7d2/Mzc2zvQ5dXd23ngNg6tSpXL16lSpVqqCtrU1ycjJBQUEkJSVRrVo1ypYty71791i2bBkLFiwAwNzcnHLlyinnUQ8ffFt22aNHjxg7dixaWlokJiZy9uxZjUyz9evX88svvxATE4OBgQGBgYEandoAaWlpDBgwgJMnT1KkSBHMzc1JSEggKCiIqKgopVz16tUxMjIiNTWV0NDQXL0WBUWCWELkk6JFi2oEPoKDg7lz5w5r1qxRAkfZ8fHxoW3btuzevZtmzZoxZswYJTPm0aNH9OzZEz09PdatW8eOHTvo1KmTMmxx9+7dLFq0iJEjRxIQEMCoUaNYvHgxO3fuBDLezA8fPszChQsJDAxk7ty5VKxYEchIzV27di1Tp07lwIEDLFu2jNq1a+f6elUqlXKe11NfV69eTZ06dfDz88t2vqmoqCiGDBmCk5MTfn5+uLu7M2/ePI0y4eHh9OvXj1atWrF7924WLFjAuXPnmD59eq7bmFunTp0iPDycdevWMXv2bHbu3KlcG8C0adMICQlhwYIF7N69mzZt2vDtt99y9+7dHOs8e/YslpaWeW5LSkqKxpcByLi3Mvdg2dracvLkSe7cuQPA1atXOXfuHM2aNcu2zqdPn3L06FE6d+6cZZ+1tbXyBUMIIYQQQnycfHx8uHDhApMnT9bo1MwrlUrF5s2bAahcuTL29vYa++/du8fFixeVDuomTZqwcOHCN9Z57949IGMKktwErF5348YN5s6di4ODA7179871ceqhc6VKldIYrfAmtra2HDt2DH9/fwYOHIi+vj7+/v78/fff+Pn5cfToUWVIZEBAAABTpkxRMskyDx9UZz/lJDU1lcWLF7Nv3z4l+y0kJITExEQAZZoQW1tbgoKCOHTokBIsU3vx4oXy23LHjh34+fkRHBzM3r17qVmzplJOS0tLGaWSOWGiMPrvxvYI8ZFKT08nODiY48eP07NnT2W7gYEB3t7eWQISr+vYsaMyBnnUqFH4+vpy8eJFmjVrxoYNGzA0NGT+/PlK70D16tWVY5csWcKECRNo1aoVkPFBcvPmTTZv3kzHjh2JioqiatWqfPrpp2hpaSkBLMgIJBkbG9OkSRN0dXWpUKEC1tbWb2xrbGwstra2ACQmJlKkSBGmTZtGlSpVNMo1btyYb775Rnn++txTGzdupEqVKkyYMAGAGjVqcP36dVauXKmUWb58Oa6ursoHUbVq1Zg0aRKenp5MmTJFI8PpfZUsWZIff/wRHR0dzM3NcXR0JDg4mC5duhAZGamkRKs/FPr27ctff/3Fjh07GDVqVLZ1RkZGYmpqmue2ODg4sHbtWho1akSVKlUIDg7m4MGDGpPD9+/fn7i4ONq2bYuOjg4qlYqRI0dmmUNAbefOnRQvXly5TzIzNTXVGKoohBBCCCE+LpcuXWLFihW4urrSvn17VCqVMpdqenp6rhchio+PZ+zYsRw/fhxjY2OWLl2qfBdV+/nnn5k1axY3b95kwoQJnDhxgqlTpzJ79uwc633x4gUAxYsXz7EtaWlpyt8qlUqj3OjRoylevDgzZswgLS1No2x2UlNTmTp1Klu3bsXAwAAfHx+MjY1z9Rp4eHgov0PU2Wy7d+9m//79REREaCQ1PH78OFd15sTIyEiZCD5zwCk6OpqSJUsqCzS5uLigq6uLrq4uzZs3Vzq6AUqXLo2trS0hISG0bNmSqlWrUqtWLRwdHXF1ddU4n3pi+cI+nFCCWEK8oyNHjmBra0tKSgrp6el06NCBoUOHKvtr16791gAWoDFe2cDAAENDQ549ewZAWFgYDRs2zDa9NT4+nvDwcCZNmsQPP/ygbE9NTVWGqnXs2JFvvvmGNm3a0LRpU5o3b46DgwMAbdq0Yd26dbi4uNC0aVMcHR1xcnJ647xVxYsXVzKUEhISCA4OZvLkyZQqVUpjpY23ZSDdunUrS8DMxsZG4/nVq1e5du0ae/bsUbalp6eTlpbGgwcPNFKB31fNmjU1UqpNTEy4fv06ANevX0elUilDQtWSk5MpVapUjnUmJia+U6Bt0qRJfP/997Rt2xYtLS0qV66Mm5sb27dvV8rs27ePPXv2MG/ePGrWrElYWBizZs3C1NSUjh07Zqlz+/btuLq6ZtueYsWKKb05QgghhBDi43Pjxg1UKhWBgYHKokzq+ZoOHDiAra0tS5cuxcDAIMc6YmJimDt3Lnfu3MHMzIxx48YRFxf3xqFn9vb23Lhxg927d+Po6JjjfLTqIFZ0dHSO9WVeUfvChQsav7OuXbuGjo6O0mGbebGtJk2aMHbsWHr06AFAXFwcI0aM4K+//sLY2Jhff/0VKyurHK/hdWXLltV4vmLFCmXUTcWKFTE2Nubhw4c8evTorcG0tylRooTyd+bfKpkXc8qNtWvXsmfPHs6fP8+tW7fYv38//v7+PHnyhG+//VYpp56kv6BWScwtCWIJ8Y7s7OyYMmUKurq6mJqaZgn+5HYC99cDVFpaWsobXrFixXI8Tj031PTp02nQoIHGPm3tjJHC9evXJygoiGPHjnHixAlGjBhBkyZNWLx4MWZmZgQGBnLixAmlh+S3337D19c3xzHh2traVK1aVXlep04djh8/zsqVKzWCWPkxeX18fDweHh54enpm2ZffE7K//m+npaWlfDjEx8ejo6PD9u3bs8wd8KYP+tKlS/Py5cs8t6VMmTIsW7aMpKQkYmJiMDU15eeff9ZI+/7pp5/o378/7du3BzICoZGRkSxfvjxLEOvs2bPcuXMnxzTumJiYXK32IoQQQgghPmyZs4TU1FlNlpaWlChRgj59+vD48WNatGihjDi4ceMGY8aMITIykk8//ZQlS5Zk6cy9dOkSCQkJfPbZZ0BGkCzzKIuqVatSr169bNsVGxvLunXreP78eZaObbXjx48rfzdo0CBL5+zr2VlqCQkJynU/evSI/v37c/XqVWrWrMmKFSs0RqrkxuvDHS9cuABkjBrZv38/KpUKLy8vHj16pFFO/bsuISGB9PT0dxo2mZmhoSFmZmZERUVx5MgRevfuTUpKCkeOHNEol56eTkhICG5ubsqQxh9//JHNmzdz9uxZJYiVnp6uzJGV+fdeYSRBLCHekb6+/r/+H9zCwoKdO3eSkpKSJbBkbGyMqakp9+/fz3EYGWS8wbVr14527drRunVrvv32W2JiYihVqhTFihXD2dkZZ2dnunfvTtu2bbl+/XqelnfV0dEhKSkpT9dlbm6uTIKvpv4AUKtXrx43b94s8DfRunXrolKpePbsmcbkj2+jbv+7Klq0KOXKlSMlJYUDBw7Qtm1bZV9iYmKWDz4dHZ1se2W2bdtG/fr1c1wN8caNG8qXDSGEEEII8fFxc3PDzc1NY5uzszMRERG0a9dOmYAcMqYBiYiIIDo6WunAHT58OJGRkUBGB6+Xl5dS3t3dHXd3d27fvs3EiRMpWbIkZmZmPHz4UJmLqW7dutSvX1/paH/dp59+SpEiRXj58iUREREaU5WMHj2aixcvKtlaAF988QVaWlqMHTuWVq1aaSwyBRlTrqhXAwwJCVE6nr/77juuXr0KZARtRo4cqRzj6OjI4MGDc/FqarKwsODPP//k7t27ODs7k5qamu1voxo1agDw7Nkz2rRpQ8mSJZk3b957BbP69u2Lt7c3Z86cwcXFheTk5CyLYKlUKnr37k3x4sUxMzNDW1tb+Y2SeUTQnTt3iI2NpUiRIjkGEgsLCWIJUYj16NEDX19fRo0aRf/+/TEyMiI0NBRra2tq1KjBsGHD8Pb2xsjIiKZNm5KcnMw///zDy5cv6dOnD2vWrMHExIS6deuira1NYGAgJiYmlChRgh07dqBSqWjQoAH6+vrs3r2bYsWKaaw88rr09HSePHkCZARSTpw4wfHjx7OdvP1NPDw8WL16NXPmzMHd3Z3Lly9rTKQO0K9fP7p27cq0adNwd3dHX1+fmzdvcuLECX788ce8v5jvqHr16ri6ujJu3DgmTJhA3bp1ef78OcHBwVhYWOQ4IaODg0OWawKUFRpfvXrFs2fPCAsLQ1dXVxnnfuHCBR49ekTdunV59OgRS5YsIS0tTSPV18nJiV9//ZUKFSoowwnXrFlDp06dNM4VFxdHYGAg48ePz7aNCQkJXL58Ocd5vYQQQgghhMicwZV5tXGApk2bAhmrXjdt2pSrV69y69YttLW1lblmBw4cmGMAC1B+y/z5558cPnxYY3L2x48fZ5lo/P79+8D/DX/LLfUQSsiY3iQzdZAprwYMGMCjR48ICgri1atXuLm5UbRoUX755ReNck5OTnTp0oUDBw4oi0MlJCS8cWTH2/Ts2ZPo6Gg2btxIbGws7du3R09PD19fX415uzw8PAgJCSEyMpLk5GQqVqxIy5YtNYJ26gyuZs2a5biKemEhQSwhCrHSpUuzbt065s6di6enJ9ra2tStW1dZptbd3Z1ixYrx22+/8dNPP2FgYEDt2rWV1SuKFy/OqlWruHfvHtra2lhZWbFixQq0tbUpUaIEK1asYPbs2aSlpVG7dm1+/fVXSpcunWN74uLilDm19PT0qFChAsOGDaNfv355uq4KFSqwZMkSZs2axfr167G2tmbkyJEaS8bWqVMHX19fFi5cSPfu3YGMievbtWunlFmyZAk7d+7MktWV32bNmsUvv/zC7Nmzefz4MaVKlcLGxuaNK4q4uroyd+5cbt++rfGh+NVXXyl/X758mb1791KxYkXlGpKSkli4cCH379/HwMAAR0dHfvrpJ40x8d9//z2LFi1i6tSpREdHY2pqSteuXbP0Hvn7+yvztWUnKCgIMzOzPGWYCSGEEEKID19O35+z256b79pWVlbKannvonv37vz555/s3r1bI4jl6+ub57qGDh3KoEGDCA0N1Rh2+C51AVSqVClLtpeagYFBtpPWjxgxQuO5trY206dPz3al9dfrHjp0qMZcy5B9Nl1cXByenp7KuZKSkpTVyOvWrQtkDH+cOnVqzhf3/6nnIVb/7irMtNLzOiuYEEIUEuPHj0dLS+uNq50UpDlz5vDq1SumTZtW0E3JVpcuXfD09MyyMsmbqFQqQkND+fnFeUJfRP6LrRNCCCGEEO+rXsnybHceUNDNyBV1xtC6deto3Ljxe9Wl/s5qY2OTZV7bj0VYWBhdunTB2toaIyMjLl++zOPHj9HR0WHFihVK8sHbBAcH07t3b2xtbdm0adO/3Or3J5lYQogPUnp6OqdPn+aPP/4o6KbkyMvLiz/++IO0tLQ3plAXhGfPntGyZcscs7SEEEIIIYT4L30IAZTCpEyZMjRq1IgrV64QGxuLoaEhjo6O9O/fP08jLezt7XPMNCuMJBNLCCFErkkmlhBCCCHEh+NDysTKT/8LmVj/qwpXaoAQQgghhBBCCCGEENmQIJYQQgghhBBCCCGEKPQkiCWEEEIIIYQQQgghCj2Z2F0IIUSeVTMyJpm0gm6GEEIIIYR4gxpGJgXdBCHylQSxhBBC5Jn3J1/IJJlCCCGEEB8AVXoaOloyCEt8HOROFkIIkWcqlaqgmyA+cCqViitXrsi9JN6b3EsiP8n9JPJLYbqXJIAlPiZyNwshhBCiQCQkJBR0E8RHQu4lkZ/kfhL5Re4lIfKfBLGEEEIIIYQQQgghRKEnQSwhhBBCCCGEEEIIUehJEEsIIYQQBUJfX7+gmyA+EnIvifwk95PIL3IvCZH/ZHVCIYQQeSYrE4r3paOjQ7169Qq6GeIjIPeSyE9yP4n8UtjuJVVaGjraksMiPnwSxBJCCJFn4//eR9iLpwXdDCGEEEII8RY1S5ZlUTPXgm6GEPlCglhCCCHy7PbLZ1x+9qigmyGEEEIIIYT4HyL5hEIIIYQQQgghhBCi0JMglhBCCCGEEEIIIYQo9CSIJYQQQgghhBBCCCEKPQliCSGEEEIIIYQQosCNHj0aCwsLtm/fXtBN+c88ePAACwsLLCwsOHXqVIG04eTJk1hYWODh4VEg588LCWIJUcip39TCwsIKuikfpR07dtCwYcN/pe7nz59jb2/PgwcP/pX631eXLl3Yv39/QTdDCCGEEEL8x4YPH64ETkaOHPnW8qtXr8bT0xMHBwcsLS1xcnJi/Pjx3L9/P9vycXFxuLi4KOfYuHHjW89x8+ZNAgICMDY2xtXVValnxowZuLm5YWdnh7W1Na1bt2bhwoXExcVpHP/06VMmTpyIvb09DRo0YOzYsWzYsCHH882ZM0dpX5cuXd7avve1ZMkSLCwscHZ21tiup6dHgwYNaNCgAYaGhv96O7LTuHFj6tevT0hICMeOHSuQNuSWBLGEyIGnpyczZszIsv3fDHq8q/v37zN69GgcHBywsrKiWbNmeHl5cevWrYJuWq6dOnUKCwsLXr58mS/1Ze7RyOmxY8eOfDlXTn799VdatGhBpUqVlG3e3t64ublhaWnJl19+me1xAQEBfPnllzRo0AAnJydWrVqVpcyGDRto27at8kHu5+ensX/Hjh1ZrtfKykqjjJeXF/PmzSMtLe39L1YIIYQQQnwQtm/fTmBgYJ6OWb9+PWfOnMHIyIhy5coRGRmJn58f3bp1yxJMApg+fXqOAa6cbNq0ibS0NNq0aYOenh4AMTEx/P7779y4cYPy5ctjYGDA3bt3+eWXXzSCb/Hx8fTs2ZMdO3YQHx9PhQoViIiIYMaMGSxatCjLuYKDg1mzZk2e2ped5OTk967D1NSULVu2sGXLFurXr//e9b2rDh06AOQq4FiQJIglxAcuJSWFb775htjYWHx8fAgMDGTBggXUrl2b2NjYgm5egTEzM+P48ePK45tvvqFWrVoa29q1a/evnT8hIYFt27bRuXPnLPs6deqU47mPHj3K2LFj8fDwYO/evUyePJm1a9eyfv16pcwff/zBvHnzGDp0KP7+/gwbNoypU6dy+PBhjboMDQ01rvfPP//U2N+sWTNevXpV6HtbhBBCCCFE/ggPD8fb2xtbW1vKly+f6+Pc3d05fPgw+/btIygoiF69egHw5MkTgoODNcoGBATg5+dH27Ztc11/eno6/v7+ADg5OSnbixYtyrhx4wgODmbXrl0cPXoUGxsbAI4dO8aLFy8A2Lx5M3fu3EFLS4vNmzezb98+5fv2ypUrefr0qVJnTEwM48ePp3LlyrkOGmXuIN+6dSu9evXCysqK5cuXk5iYyKBBg3B2dsbGxgZLS0tatWrFokWLlCCXp6cnPj4+AERERGh0qmc3nDBz1ta+ffto06YNNjY29OjRg9u3b2u8bgsXLsTOzo6GDRsybdo05s+fr9SnFhoaSq9evbCzs8PKygpnZ2cGDRpEeHi4UqZ58+bK61qYf0dKEEuI93Tq1Ck6d+6MjY0NDRs2xMPDg4iICAAmTJjAoEGDNMrPmDEDT09P5fmxY8fo1q0bDRs2xM7OjgEDBmi8mbzNzZs3CQ8PZ/LkydjY2FCxYkU+/fRTRo4cqbzBZ5flFBYWhoWFhTLULSIigoEDB9KoUSNsbGxo3749R48e1Tj+yJEjuLq6YmVlRZcuXbh+/bpGW86ePUv37t2xtrbG0dERb29v4uPjlf3JycnMnTsXR0dHLC0tadmyJVu3buXBgwd8/fXXADRq1AgLCwsmTJgAQGBgIK6urlhbW2NnZ0fv3r016syJjo4OJiYmysPAwCDLtmLFiinl//rrL9q2bYutrS19+/bl8ePHGvVt3bqVtm3bYmVlRZs2bd6YmgwZwSg9PT3l30Dt+++/p0ePHlSuXDnb43bv3k2LFi3o1q0blStXpnnz5gwYMICVK1eSnp6ulOnatSvt2rWjcuXKtG/fnq5du7Jy5UqNurS0tDSu19jYOMtr1KxZM+ULgxBCCCGE+HilpqYyZswYtLW1mTt3Ljo6Ork+1svLiwoVKijPM49MUWdNAURFRTF58mTq16/PiBEjcl3/nTt3ePbsGYDG6AETExP69u2rDLMrWrSosl9bW1u5BnWnbNWqValTpw4An332GZDR6Z850Pbjjz8SHR3Nzz//TPHixXPdRrWpU6dy9epVqlSpgra2NsnJyQQFBZGUlES1atUoW7Ys9+7dY9myZSxYsAAAc3NzypUrB4Curq4yfLBMmTJvPNejR48YO3YsWlpaJCYmcvbsWb777jtl//r16/nll1+IiYnBwMCAwMBAfH19NepIS0tjwIABnDx5kiJFimBubk5CQgJBQUFERUUp5apXr46RkRGpqamEhobm+XX5rxQp6AYI8SFLTU1l8ODBuLu7M3/+fFJSUrh48SJaWlq5riMhIYE+ffpgYWFBfHw8ixYtYvDgwezatQtt7bfHmcuUKYO2tjb79++nV69eefowymzatGmkpKSwfv16DAwMuHnzJgYGBhplfvrpJyZNmoSxsTELFixg4MCB7N+/H11dXcLDw+nXrx/Dhw9n5syZPHv2jOnTpzN9+nRmzZoFwLhx4wgNDeX777+nTp06PHjwgOfPn2NmZsaSJUsYOnQogYGBGBoaUqxYMR4/fszo0aMZO3YsLi4uvHr1irNnzyrBnPySmJjI6tWr+emnn9DW1mbs2LHMmTOHefPmARlBo0WLFvHjjz9St25dwsLC+OGHHzAwMKBjx47Z1nn27Nl3SgdOTk7WCK4BFCtWjIcPHxIREUGlSpVITk6maNGiGmWKFi3KpUuXSElJQVdXF8hIq3ZyciItLY169eoxatQoatWqpXGctbV1luCXEEIIIYT4+Pj4+HDhwgXmzp2bY4dqbqhUKjZv3gxA5cqVsbe3BzKCJePGjSM1NZV58+ZRpEjuww337t0DMkYSlCxZMsdy0dHRypyu7dq1U4Jb6mBM2bJllbKZ61Hv37p1K/v372fEiBE0aNAg1+3LzNbWllWrVlG0aFFUKhVpaWn4+/tTs2ZNpczYsWPZvXs3AQEBjB8/nilTplC2bFl8fHyU4YNqb5o/NzU1lV9++QVnZ2dmzZrF2rVrCQkJITExkWLFiinTjtja2uLr60tKSgpubm7cuXNHqePFixfExMQAGVOOqINpN27c0AiiaWlpYWZmRmxsbJ6SKv5rEsQS4j3ExcURGxuLk5MTVapUATKi7HnRunVrjeczZ87E3t6emzdvUrt27bceX65cOb7//nvmzp2Lj48PlpaW2NnZ8cUXX+TpwykyMpLWrVsraafZHTtkyBA+//xzAGbPno2joyMHDx6kXbt2LF++HFdXV3r37g1AtWrVmDRpEp6enkyZMoXIyEj27dvHmjVraNKkSZZzqD9kypYtS4kSJYCMdOfU1FRatmxJxYoVATTSYvNLSkoKU6dOVf4Ne/TowbJly5T9S5YsYcKECbRq1Upp982bN9m8eXOOQazIyEhMTU3z3BYHBwdmzZpFcHAwdnZ23Lt3j9WrVwMZ6dqVKlXCwcGBbdu24eLiQv369fnnn3/Ytm0bKSkpPH/+HFNTU6pXr87MmTOxsLAgNjaW1atX4+Hhgb+/v0bquKmpKVFRUaSlpeUqaCqEEEIIIT48ly5dYsWKFbi6utK+fXtUKpXSMZyeno5KpcpVPfHx8YwdO5bjx49jbGzM0qVL0dHRQaVSsW7dOk6fPs306dOpUqWKMjoFMgJcbzqHelhg8eLFcywXHh7OgAEDePz4MZ988gmTJ0/OUlZ9LZmvTy0qKoqZM2fSqFEjBgwYkKvrzY6Hh4fSoaxOINi9ezf79+8nIiKClJQUpezrozvyysjISJkIPnOQLDo6mpIlS/Lw4UMAXFxc0NXVRVdXl+bNm2sEsUqXLo2trS0hISG0bNmSqlWrUqtWLRwdHZUJ9NXUQcHCPJxQglhCvIdSpUrh5uZG3759+fzzz7G3t6dt27Z5Cl7cvXuXxYsXc+HCBZ4/f6682UZFReUqiAUZQZcvv/yS06dPc+HCBQIDA1m+fDm//PKLEnR6m6+//popU6Zw/PhxmjRpQqtWrZRUXLXMQ+NKlSpF9erVlTHZV69e5dq1a+zZs0cpk56eTlpaGg8ePODatWvo6OjQqFGjXLUHoE6dOtjb2+Pq6oqDgwMODg60bt36jb0z70JfX18JYEFGYCc6OhrI+KAODw9n0qRJ/PDDD0qZ1NRUjIyMcqwzKSkpS7ZUbnTp0kX5gE5NTcXQ0JCvv/6aJUuWKEGmQYMG8eTJE7p27Up6ejply5blq6++YtWqVUoZW1tbbG1tlXptbW1p164dmzZt0kjtLlasGGlpadlmgAkhhBBCiI/DjRs3UKlUBAYGcuDAAeD/JiU/cOAAtra2LF26NMtIjMxiYmKYO3cud+7cwczMjHHjxhEXF6cMPVMP2fP29sbb21vj2FmzZrFx40amTp2abd3qYE9sbGy2Q9muX7/OvHnziI2N5ZNPPmHo0KHcuHFD2a8eFhgVFaUcn3kqFTMzM8LDw4mPj+fChQt8+umnQMaIDMgI8tna2rJp06a3dppnzvYCWLFiBcuXLwegYsWKGBsb8/DhQx49evTeCyipO/cBjRE3eR2ZsnbtWvbs2cP58+e5desW+/fvx9/fnydPnvDtt98q5dST9BfUKom5IUEsIXJQvHjxbFfaePnypUbwYtasWXh6evLXX3+xb98+Fi5cyJo1a7CxsUFLSyvLG0xqaqrG84EDB1KxYkW8vb0xNTUlLS2NDh06aETwc8PQ0BBnZ2ecnZ0ZMWIEffv2VYJY6sBG5ra8Xr+7uzsODg4cOXKEv//+mxUrVjB+/HiN+bveJD4+Hg8Pj2zLm5mZKSnCeaGjo8OaNWs4f/48f//9N76+vixYsIAtW7a8Vwr0615Pdc7876aef2v69OlZUo7flLlUqlSpd1ppUUtLi7FjxzJq1CiePn1K6dKllS8E6msuVqwYs2bNYtq0aURHR2NiYsLmzZspXrx4juPqdXV1qVu3bpbU4BcvXmBgYCABLCGEEEKI/wHZ/cZQZy5ZWlpSokQJ+vTpw+PHj2nRogWjRo0CMoJgY8aMITIykk8//ZQlS5ZQqlQpjXrU30OTkpKyPa+2tnaW+WLVSpQowbx584iPj6dGjRoawZv9+/cza9YskpKS6NGjBxMnTszyPbxt27b8888/PHz4EH19fWrWrKksjKSrq4u9vb2ycntycnKWVQXT0tKIj4/PVdDp9aljLly4AGSMRNm/fz8qlQovLy8ePXqkUU79fTshIYH09PQ8TUGTHUNDQ8zMzIiKiuLIkSP07t2blJQUjhw5olEuPT2dkJAQ3NzccHd3BzLmBdu8eTNnz55Vgljp6enKsMuqVau+V9v+TTJ2RIgcVK9encuXL2fZfuXKFapVq6axrV69egwYMIBNmzZRu3Zt9u7dC2S8kT958kSjbFhYmPL38+fPuXPnDl5eXtjb22Nubq6k0r4PLS0tatSooQRg1B8omdty9erVLMeZmZnRrVs3fHx86NOnj8ZYbUCjV+TFixfcvXuXGjVqABmvwc2bN6latWqWh56eHrVr1yYtLY0zZ85k22b1PE6vpwRraWnx6aefMmzYMPz8/NDV1eXQoUN5fEXenbGxMaampty/fz/Ldb0pkKZ+Pd6Vjo4O5cqVQ09PD39/f2xtbbMEqHR1dSlfvjw6OjoEBATg5OSUY2BNpVJx/fp1TExMNLZfv36dunXrvnM7hRBCCCFE4efm5sa1a9c0HurpOtq1a8e1a9coXbo0Ojo6PHjwgDt37hAdHY2Ojg46OjoMHz6cyMhIIKOT18vLi27dutGtWzd27NiBjo4Oc+bM0ag/KChIOf+UKVPYvXu3Ut/rj5o1ayrfda9evapsf/r0KaNGjSIpKQldXV3++ecfevTooZxbXbZbt25Uq1aN9PR0unXrhqurKwEBAQD07dsXY2Nj7OzssrwG6snfGzRowLVr197pe7E6c+vu3bs4Ozvj5OSkBLYyU/9uevbsGW3atKFLly7cv38/z+fLrG/fvgCcOXMGFxcXWrRooQwxVFOpVPTu3ZtGjRrRvn17XF1d2bp1q0bbIWNy/djYWIoUKZJjsLEwkEwsIXLQvXt3NmzYgLe3N507d0ZPT4+jR4/i7+/PL7/8AsD9+/fZsmULzs7OmJqacufOHe7evcuXX34JQOPGjfntt9/w8/PDxsaG3bt3c+PGDerVqwdkzANVqlQpNm/ejImJCZGRkcpk4rkVFhbG4sWL+fLLL6lZsya6urqcPn2a7du3K1H1KlWqKJOnjxw5krt37yrzLKnNmDGDZs2aUa1aNV6+fMmpU6eyzO+1bNkySpcuTdmyZVmwYAGlS5fGxcUFgH79+tG1a1emTZuGu7s7+vr63Lx5kxMnTvDjjz9SqVIlOnbsyHfffcf333+PhYUFkZGRREdH065dOypWrIiWlhZHjhzB0dGRokWLcvPmTYKDg/n8888pW7YsFy5c4NmzZ8oHwH9l2LBheHt7Y2RkRNOmTUlOTuaff/7h5cuX9OnTJ9tjHBwcmD9/Pi9evNAY/njv3j3i4+N58uQJiYmJSlDT3NwcPT09nj17xv79+/nss89ITk5m+/btBAYGKj1JkPEBc/HiRRo0aMDLly9Zs2YNN27cYPbs2UoZHx8fbGxsqFq1Ki9fvuS3334jMjJS6X1RO3fuXK6HnAohhBBCiP9NmTO4MnfKAzRt2vS969fS0qJ9+/b4+vpy+PBhZbL4lJQUZYRESkpKluCQeuRM8eLF8fX1Zf78+Rw5coQHDx5QoUIFevXqpczZ+28ZMGAAjx49IigoiFevXuHm5kbRokWV34xqTk5OdOnShQMHDnD37l0gIyvrTUM436Znz55ER0ezceNGYmNjad++PXp6evj6+mrM2+Xh4UFISAiRkZEkJydTsWJFWrZsyeDBg5W61BlczZo1e+O0KQVNKz2/l/kS4iNy8eJFFi5cSFhYGCkpKdSoUYP+/fsrgZunT58yefJkLly4QExMDKampnz11VcMGTJEyYhZvHgxmzdvJikpiU6dOpGamsr169eVpU9PnDiBt7c39+/fp3r16nz//fd4enqydOlSXFxcePDgAS1atMDPzy/bnoFnz56xbNkyTp06xYMHD9DS0qJixYp07NiR3r17K+04d+4cU6ZM4d69e1hZWeHp6cnw4cMJCgqiUqVKTJ8+nWPHjvHw4UMMDQ1p2rQpEydOpHTp0pw6dYqvv/6aX3/9lXnz5nH37l3q1q3L9OnTNebNUr9eISEhQMbwt3bt2jFw4EAgI7V4/vz5+Pv7ExMTQ4UKFRgwYACdOnUCYOnSpWzcuJGnT5/y1Vdf0a9fP2bOnMmVK1eIi4ujQoUKeHp60rNnTwClXepreJMlS5Zw6NAhdu3apbF9x44dzJw5k7NnzyrbDh06xODBg7l27Zqybc+ePfz222/Kqo21a9emV69etGzZMsdzuru706lTJzw8PJRtnp6enD59OktZ9TU8e/YMLy8vrl+/Tnp6OjY2NowcOVJjKOOtW7cYPXo0d+7coUiRItjZ2TFmzBiN4N7MmTM5ePAgT548oWTJksoyx+oAKmQs2duiRQsOHTqkMdn7m6hUKkJDQ5kRdZnz0VFvP0AIIYQQQhSo+mXK4e/au6Cb8VY3b97E1dWVsmXLcvjwYfT09N65LvV3Vhsbm3devf1DEBsbS3JysjJPV1JSEp07d+b69evY2Ngoq0jmRseOHbly5QqrVq3Kl8Dkv0WCWEKIt1IHi86cOaMxPr2gbd++neXLl+Pv768MRyxMjhw5wk8//cTevXsL5cp/c+fO5eXLl0yfPj3Xx0gQSwghhBDiw/KhBLEARo8ezd69e5k5c6bS0f0u/leCWGFhYXTp0gVra2uMjIy4fPkyjx8/RkdHhxUrVuDg4JCreoKDg+ndu7cyuX1hJsMJhRAfrKNHjzJy5MhCGcACaN68OXfv3uXRo0eYmZkVdHOyKFu2bI7DIYUQQgghhPivzZs3L8/Tq/wvK1OmDI0aNeLKlSvExsZiaGiIo6Mj/fv3p2HDhrmux97eXmMUSmEmQSwhxAdr8eLFBd2Et/q3x+C/j2+++aagmyCEEEIIIYR4R+XKlcsy1/HHToJYQoi3Uq/kIYQQQgghhBBCFJTCN0mLEEIIIYQQQgghhBCvkSCWEEIIIYQQQgghhCj0ZDihEEKIPKtRogxJ6WkF3QwhhBBCCPEWNUuWLegmCJFvJIglhBAiz+Z83vajXq5YCCGEEOJjokpLQ0dbBmKJD5/cxUIIIfJMpVIVdBPEB06lUnHlyhW5l8R7k3tJ5Ce5n0R+KWz3kgSwxMdC7mQhhBBCFIiEhISCboL4SMi9JPKT3E8iv8i9JET+kyCWEEIIIYQQQgghhCj0JIglhBBCCCGEEEIIIQo9CWIJIYQQokDo6+sXdBPER0LuJZGf5H4S+UXuJSHyn6xOKIQQIs9kZULxvnR0dKhXr15BN0N8BOReEvlJ7ieRXwrbvSSrE4qPhQSxhBBC5NnEoP2ERUcXdDOEEEIIIcRb1CxThgWt2xd0M4TIFxLEEkIIkWe3nz/n8pPHBd0MIYQQQgghxP8QyScUQgghhBBCCCGEEIWeBLGEEEIIIYQQQgghRKEnQSwhhBBCCCGEEEIIUehJEEsIIYQQQgghhBAFbvTo0VhYWLB9+/aCbsp/5sGDB1hYWGBhYcGpU6cKpA0nT57EwsICDw+PAjl/XkgQS4iP1IQJExg0aNB/ft4dO3bQsGHDPB1TUG2F//vQCAsL+1fq79GjB3v27PlX6n5fXbp0Yf/+/QXdDCGEEEII8R8bPny4EjgZOXLkW8uvXr0aT09PHBwcsLS0xMnJifHjx3P//v1sy8fFxeHi4qKcY+PGjW89x82bNwkICMDY2BhXV1dl+6ZNm+jWrRs2NjZKfbdu3cqxnitXrtCgQQO6d+9OvXr1NMqmp6ezY8cO3Nzc+OSTT2jYsCEDBw7k5s2bb23f+1qyZAkWFhY4OztrbNfT06NBgwY0aNAAQ0PDf70d2WncuDH169cnJCSEY8eOFUgbckuCWEIUgAkTJihvwPXr16dJkyb06dOHbdu2kZaWVmDtsrCw4NChQ8rzlJQURo0aRdOmTbl+/Xqu6mjXrt2/EhhxdnZm7dq1eT5G/Tpn95gwYUK+tzOzoKAgnj59Svv2GUsax8TEMH36dFq3bo21tTXNmzfH29ub2NhYjeMiIyPp378/DRo0wN7enjlz5pCamqpR5tSpU3Ts2BFLS0tatmzJjh07NParVCoWLlyIs7Mz1tbWuLi4sHTpUtLT05UyXl5ezJs3r0DvOSGEEEII8d/avn07gYGBeTpm/fr1nDlzBiMjI8qVK0dkZCR+fn5069aNuLi4LOWnT5+eY4ArJ5s2bSItLY02bdqgp6enbD927BhhYWGUKVPmrXUkJiYyevRoUlJSst3v4+PDxIkTuXz5MiYmJhQrVow///yTbt268eDBgzy1FyA5OTnPx7zO1NSULVu2sGXLFurXr//e9b2rDh06AOQq4FiQJIglRAFp2rQpx48f5/Dhw6xcuRI7OztmzJjBgAEDsgQs8kKlUuVLUCIhIQEvLy8uXbrEH3/8Qe3atXN1XLFixShbtux7nz8/bNu2jePHj3P8+HGWLFkCQGBgoLJt0qRJ/+r5fX196dSpE9raGW+1jx8/5vHjx4wfP569e/cya9Ys/vrrL412qFQqBgwYQEpKCps2bWL27Nns3LmTxYsXK2Xu37/PgAEDsLOzY9euXfTq1Yvvv/+ev/76SymzcuVKNm7cyI8//khAQABjxoxh1apV+Pr6KmWaNWvGq1evCn1vixBCCCGEyB/h4eF4e3tja2tL+fLlc32cu7s7hw8fZt++fQQFBdGrVy8Anjx5QnBwsEbZgIAA/Pz8aNu2ba7rT09Px9/fHwAnJyeNfZMnT+bcuXMMGTLkrfXMmjWL27dv07p162z3//HHHwC0bt2a/fv3c/jwYSpWrMjLly9Zvnx5jvVmHvK3detWevXqhZWVFcuXLycxMZFBgwbh7OyMjY0NlpaWtGrVikWLFilBLk9PT3x8fACIiIhQ6tqxY0e2wwkzZ23t27ePNm3aYGNjQ48ePbh9+7bG67Zw4ULs7Oxo2LAh06ZNY/78+Up9aqGhofTq1Qs7OzusrKxwdnZm0KBBhIeHK2WaN28OZAQNX+9kL0wkiCVEAdHT08PExIRy5cpRv359Bg4cyLJlyzh27Bg7d+5Uyq1ZswZXV1dsbGxwdHRkypQpvHr1StmvHr4XFBREu3btsLKyIjIyMsv5Ll68SOPGjVmxYsVb2/by5Uv69OnD48eP+eOPP6hcuTLwf2/eBw4cwNPTkwYNGvDFF18QEhKSpT2ZLVu2DHt7e2xtbZk0aRI///wzX375ZZbz/vbbbzg4OGBnZ8fUqVOVHhRPT08iIiKYNWtWljfkNylTpgwmJiaYmJhQsmRJAMqWLatsMzIyUsrev38/x2sCOHv2LN27d8fa2hpHR0e8vb2Jj4/P8dzPnj3j5MmTGh/CtWvXZsmSJTg7O1OlShXs7e0ZMWIEhw8fVgKXx48f5+bNm8ydO5e6devi6OjI8OHD2bBhg/IhuGnTJipVqsSECRMwNzenZ8+etG7dWiNTLSQkhBYtWtC8eXMqVapEmzZtcHBw4OLFi0oZHR0dmjVrpnxhEEIIIYQQH6/U1FTGjBmDtrY2c+fORUdHJ9fHenl5UaFCBeV55u/7mbOmoqKimDx5MvXr12fEiBG5rv/OnTs8e/YMACsrK4195cqVy1VbDx8+zKZNm/D09KRZs2bZllF39qs7mbW0tNDS0gLgxIkTuWrr1KlTuXr1KlWqVEFbW5vk5GSCgoJISkqiWrVqlC1blnv37rFs2TIWLFgAgLm5OeXKlQNAV1dXGT74tuyyR48eMXbsWLS0tEhMTOTs2bN89913yv7169fzyy+/EBMTg4GBAYGBgRqd1uprHjBgACdPnqRIkSKYm5uTkJBAUFAQUVFRSrnq1atjZGREamoqoaGhuXotCoIEsYQoROzt7alTpw4HDhxQtmlpaTFp0iT27t3L7NmzOXnyJHPnztU4LjExkZUrV+Lt7c3evXuzZEIFBwfzzTffMHLkSPr37//GNjx58oSePXsCGW+KJiYmWcosWLCAvn374ufnR7Vq1Rg9enSO2WO7d+/m119/ZcyYMezYsQMzM7NsU1RPnTpFeHg469atU7KP1MG8JUuWUL58eYYNG6ZkUeW3N11TeHg4/fr1o1WrVuzevZsFCxZw7tw5pk+fnmN9586dQ19fH3Nz8zeeNy4uDkNDQ4oUKQJk9JLUrl0bY2NjpYyDgwNxcXHKWP3Q0FDs7e016nFwcND4sLG1teXkyZPcuXMHgKtXr3Lu3LksH+jW1tacO3fuLa+OEEIIIYT40Pn4+HDhwgUmT56sdFK/C5VKxebNmwGoXLmy8r00LS2NcePGkZqayrx585Tvt7lx7949AAwNDZXO57x48uQJkyZNonbt2owdOzbHcursMHV2k7OzszKM8NGjR7k6l62tLceOHcPf35+BAweir6+Pv78/f//9N35+fhw9epQvvvgCyMhKA5gyZQru7u6A5vBBdfZTTlJTU1m8eDH79u1Tst9CQkJITEwEYNWqVUqbgoKCOHTokBIsU3vx4gUxMTFARsKBn58fwcHB7N27l5o1ayrltLS0MDMzA9DI0Cpscn9XCSH+EzVq1ODatWvK8969eyt/V6pUiREjRjB58mSmTJmibE9JSWHKlCnUqVMnS30HDx5k3LhxzJgxg3bt2r31/DNmzKBy5cqsWbMGfX39bMt88803yhvusGHDaN++Pffu3cs2YLN+/Xo6d+5Mp06dABgyZAh///13liymkiVL8uOPP6Kjo4O5uTmOjo4EBwfTpUsXSpUqhY6ODsWLF882qJYf3nRNy5cvx9XVVfm3qFatGpMmTcLT05MpU6ZQtGjRLPVFRERQtmxZpZcnO8+ePWPZsmV07dpV2fb06VONABagPH/y5Mkby8TFxZGYmEixYsXo378/cXFxtG3bFh0dHVQqFSNHjlQ+UNVMTU2JiooiLS3tjW0VQgghhBAfrkuXLrFixQpcXV1p3749KpVKmSs1PT0dlUqVq3ri4+MZO3Ysx48fx9jYmKVLlyrfNdetW8fp06eZPn06VapUISIiQjkuLS3tjed48eIFAMWLF8+xXOYpU16v74cffuDVq1esWbOGIkWK5Di9ysSJEylZsiR79+4lKioKc3NzatSowcmTJ9HV1c3Va+Dh4aF8/1dniO3evZv9+/cTERGhMR/X48ePc1VnToyMjJSJ4DMHnKKjoylZsiQPHz4EwMXFBV1dXXR1dWnevLnSkQ1QunRpbG1tCQkJoWXLllStWpVatWrh6OioMYE+oEwsX5iHE0oQS4hCJj09XUlphYy01uXLl3P79m3i4uJQqVQkJSWRkJCgBJl0dXWzHWJ38eJFjhw5wuLFi3FxccnV+Z2cnDh06BCbN2/WCKBllvlc6qDSs2fPsg1i3blzh+7du2tss7a25uTJkxrbatasqZEmbGJikuvJ5PPDm67p6tWrXLt2TWOVwfT0dNLS0njw4EG2152UlJRtcEstLi6OAQMGYG5unqvx/Xm1b98+9uzZw7x586hZsyZhYWHMmjULU1NTOnbsqJQrVqwYaWlpJCcnU6xYsXxvhxBCCCGEKHg3btxApVIRGBiojPpQT1Vx4MABbG1tWbp0KQYGBjnWERMTw9y5c7lz5w5mZmaMGzeOuLg4ZTSAem4sb29vvL29NY6dNWsWGzduZOrUqdnWrQ72xMbG5jiULXN2UFhYGC9fvlSeX7p0ieTkZLp06QJoBrw6depEjx49GDt2LEWLFmXkyJEaKzL27dsXyBhOlxuvj3pZsWKFMp9WxYoVMTY25uHDhzx69Oi95youUaKE8nfm30qZF2vKjbVr17Jnzx7Onz/PrVu32L9/P/7+/jx58oRvv/1WKaeepL+gVknMDQliCVHI3Lp1i0qVKgEZc1ANGDCAbt26MXLkSEqWLMm5c+eYNGkSKSkpShCrWLFiGoEvtcqVK1OqVCm2bduGo6NjrnoXvvzyS5ydnfnuu+9IT0+nT58+Wcpkrkd93vd9g3493VhLSyvPb87v403XFB8fj4eHB56enlmOU6fcvq506dJKj9Lr4uLi+PbbbylevDhLly7VOLexsbHGvFWQkXkF/xdcMzY2VrZlLmNoaKgEon766Sf69++vrIxoYWFBZGQky5cv1whivXjxAgMDAwlgCSGEEEL8D8hu1T6VSoVKpcLS0pISJUooc+O2aNGCUaNGARlBsDFjxhAZGcmnn37KkiVLKFWqlEY96vmdkpKSsj2vtrY2NjY22barRIkSzJs3j/j4eGrUqKERvFHLnF1Ut25datSooTzX09MjPT0923MnJCQoAbv79++jra1NxYoVgYzhfuqpSnIzagXI8rvrwoULQMZojf3796NSqfDy8soyPFH9fTshISFL4sK7MDQ0xMzMjKioKI4cOULv3r1JSUnhyJEjGuXS09MJCQnBzc1NGdL4448/snnzZs6ePasEsdLT05U5sqpWrfpebfs3SRBLiEIkODiY69evKxlQly9fJj09nQkTJihDvfbt25fr+kqXLo2Pjw+enp6MGDGChQsX5iqQ1bFjR7S0tPjuu+9IS0tTeifeRfXq1bl06RJfffWVsu3SpUt5rkdXVzdfVl18F/Xq1ePmzZt5ejOvW7cuT58+5cWLFxrj+uPi4ujbty96enr88ssvWbK1bGxs+PXXX4mOjlZ6eU6cOIGhoaGSQmxjY5NlRcETJ05ofClITEzM8sGoo6OTJTB4/fp16tatm+vrEkIIIYQQHx43Nzfc3Nw0tjk7OxMREUG7du2UCcghoyM9IiKC6OhoJftn+PDhyuJR8fHxeHl5KeXd3d1xd3dnzpw5zJkzR6OeFi1aABlzQnXr1i3H9tWsWZMyZcrw7Nkzrl69qjH/69y5czlw4IDG4lb9+/enSJEieHp68vXXX/Pnn39q1Ldt2zZlBfCAgABl5MTly5cZOXIkVapUISUlRRny2KBBA77++uu3vYzZsrCw4M8//+Tu3bs4OzuTmpqabTBNHXR79uwZbdq0oWTJksybN++9gll9+/bF29ubM2fO4OLiQnJycpZpW1QqFb1796Z48eKYmZmhra2tzLWbeTTKnTt3iI2NpUiRIjkGGwsDmQBFiAKSnJzMkydPePToEZcvX+bXX39l0KBBODk5KQGfqlWrkpKSgq+vL/fv38fPz49Nmzbl6Txly5Zl3bp13L59+40TsL/uq6++Yvbs2cybN0+ZMPBd9OzZk23btrFz507u3r3LsmXLuHbtWp7frCtWrMiZM2d49OiRsnLJf6Vfv36EhIQwbdo0wsLCuHv3LocOHWLatGk5HlOvXj1Kly7N+fPnlW1xcXF88803xMfHM2PGDOLi4njy5AlPnjxRxvQ7ODhQs2ZNxo0bx9WrV/nrr79YuHAhPXr0UFZ+8fDw4P79+/z000/cunWLDRs2sG/fPo3hn05OTvz6668cOXKEBw8ecPDgQdasWZNlWOm5c+f4/PPP8/HVEkIIIYQQH5vMGVxhYWFcuHBBeajnZXofWlpaygiCw4cPa+yLjo4mPDyc6OhoZVtkZCTh4eE5jnzISeXKlbG2tiY6OprHjx9TpUoVBg4cyNq1azVWWcyLAQMG0LFjR0qUKMGrV69o3759tgE7JycnZb7fu3fvcuHCBRISEt7pnGo9e/bEy8uLUqVKERsbi4uLC507dwbQmLfLw8ODSpUq8ejRI+7du0fFihX55ptvGDx4sFKXOoOrWbNmGqu4FzaSiSVEAfnrr79wcHCgSJEilChRgjp16vD999/TsWNHJeuqTp06TJw4kZUrVzJ//nwaNmzIqFGjGD9+fJ7OZWJiwrp16/D09GTMmDHMmzcvV8vUfvHFF2hrazNu3DjS0tJynWL7eh33799nzpw5JCUl0bZtWzp27JjnbKxhw4bx448/Kj0M6snvLSwsmDVrVpaepfxUp04dfH19WbhwoTK/V+XKld/4eujo6ODm5saePXtwcnICMnp+1OnGLVu21CgfFBREpUqV0NHR4ddff2XKlCl07doVfX19OnbsyLBhw5SylStXZvny5cyaNYvff/+d8uXL4+3tTdOmTZUy33//PYsWLWLq1KlER0djampK165dNT6oHj16REhISJbVLoUQQgghxMfv9WDRm7bnVPZNKlWqpLFg1dt4eHgonbNjx45VgkqzZ89m9uzZeTp3x44dqV69OjY2Nhq/e+rXr6+srJgXb7oWAwODbNs3YsQIjefa2tpMnz492xXOX6976NChDB06VGNbdtl0cXFxyqgbyBjKqQ5iqUdbaGlp5TgXWWbq+X9fn8+4sNFK/y8nnRFCCKBPnz4YGxu/d/Dk/v37tGnTBn9/f6pVq5Y/jctHT548oUOHDuzYsUMZd1+YzJ07l5cvX2b7QZoTlUpFaGgos25e5fyj9+91E0IIIYQQ/676Jqbs6ZZ1btfCaPTo0ezdu5eZM2cqq5u/C/V31teDWB+bsLAwunTpgrW1NUZGRly+fJnHjx+jo6PDihUrcHBwyFU9wcHB9O7dG1tb2zyP/PmvSSaWEOJflZCQwKZNm3BwcEBbWxt/f39OnDjBmjVr3rvuY8eO0aVLl0IZwIKMDLgZM2YQFRVVKINYZcuWzXbifiGEEEIIIQrCvHnzmDdvXkE344NRpkwZGjVqxJUrV4iNjcXQ0BBHR0f69+9Pw4YNc12Pvb19nrLmCpJkYgkh/lWJiYkMHDiQsLAwkpKSqF69Ol5eXrRq1aqgmybegWRiCSGEEEJ8WD6kTKz88r+SifW/SDKxhBD/qmLFirF27dqCboYQQgghhBBCiA+crE4ohBBCCCGEEEIIIQo9CWIJIYQQQgghhBBCiEJPhhMKIYTIsxqlS5OUllbQzRBCCCGEEG9Rs0yZgm6CEPlGglhCCCHybFaL1jJJphBCCCHEB0KVloaOtgzEEh8+uYuFEELkmUqlKugmiA+cSqXiypUrci+J9yb3kshPcj+J/FLY7iUJYImPhdzJQgghhCgQCQkJBd0E8ZGQe0nkJ7mfRH6Re0mI/CdBLCGEEEIIIYQQQghR6EkQSwghhBBCCCGEEEIUehLEEkIIIUSB0NfXL+gmiI+E3EsiP8n9JPKL3EtC5D9ZnVAIIUSeycqE4n3p6OhQr169gm6G+AjIvSTyk9xPIr8UtntJVicUHwsJYgkhhMizSXsOcu1JdEE3QwghhBBCvIW5cRl+7ti2oJshRL6QIJYQQog8uxP9nCsPHxd0M4QQQgghhBD/QySfUAghhBBCCCGEEEIUehLEEkIIIYQQQgghhBCFngSxhBBCCCGEEEIIIUShJ0EsIYQQQgghhBBCFLjRo0djYWHB9u3bC7op/5lTp05hYWGBhYUFDx48KJA2bN++HQsLC0aPHl0g588LCWIJIYQQQgghhBD/Q4YPH64ETkaOHPnW8qtXr8bT0xMHBwcsLS1xcnJi/Pjx3L9/P9vycXFxuLi4KOfYuHHjW89x8+ZNAgICMDY2xtXVVdm+adMmunXrho2NjVLfrVu3shz/9OlTJk6ciL29PQ0aNGDs2LFs2LAhS7kTJ07QrVs3GjRowCeffELfvn25fPnyW9v3viZMmICFhQWenp4a2w0NDWnQoAENGjRAT0/vX29HdlxdXTExMSEgIICbN28WSBtyS4JYQohCY8KECQwaNOiNZTw9PZkxY8Z/1KL3c/v2bT7//HPi4uIKuilZPHv2DHt7ex4+fFjQTRFCCCGEEP+h7du3ExgYmKdj1q9fz5kzZzAyMqJcuXJERkbi5+dHt27dsv2uO3369BwDXDnZtGkTaWlptGnTRiOYc+zYMcLCwihTpkyOx8bHx9OzZ0927NhBfHw8FSpUICIighkzZrBo0SKl3F9//cW3337L+fPnKVmyJHp6ehw/fpwePXpw7dq1PLUXIDk5Oc/HvK5+/fps2bKFLVu2YGpq+t71vQs9PT1at25NWloamzZtKpA25JYEsYQQADx58oTp06fTokULLC0tcXR0ZODAgQQHBxd00z5Y8+fPp2fPnhgaGgKQlJTEhAkTcHV1pV69ejkG7DZs2EDbtm2xtramdevW+Pn55XgOf39/LCwsNOpKSUlh7ty5uLq6YmNjg4ODA+PGjePRo0dKmTJlyvDVV1+xePHi/LlYIYQQQghR6IWHh+Pt7Y2trS3ly5fP9XHu7u4cPnyYffv2ERQURK9evYCM3xCv/14ICAjAz8+Ptm3b5rr+9PR0/P39AXByctLYN3nyZM6dO8eQIUNyPH7z5s3cuXMHLS0tNm/ezL59+2jXrh0AK1eu5OnTpwD89NNPqFQqbGxsOHz4MIcOHaJixYokJCSwYMGCHOvPPORv3759dO7cGUtLS/bu3cvDhw/p168fjo6OWFtbY21tTYcOHVi7di3p6ekAODs7s3PnTgBOnz6t1HXq1KlshxNmztrasGEDzs7O2NraMmDAAJ48eaK0Kzk5mR9//JFPPvkEe3t7fHx8GD9+PBYWFjg7Oyvljh49SteuXWnYsCENGjSgZcuWjBgxghcvXihlmjdvDmT8+xVmEsQSQvDgwQPc3Nw4efIk48aNY8+ePaxatQo7OzumTp1a0M37IEVGRnLkyBHc3NyUbSqViqJFi+Lp6Ym9vX22x/3xxx/MmzePoUOH4u/vz7Bhw5g6dSqHDx/OUvbBgwfMmTOHhg0bamxPTEzkypUreHl5sWPHDnx8fLhz5w5eXl4a5dzc3NizZw8xMTHvf8FCCCGEEKJQS01NZcyYMWhrazN37lx0dHRyfayXlxcVKlRQnmf+/pk5ayoqKorJkydTv359RowYkev679y5w7NnzwCwsrLS2FeuXLm3tvXYsWMAVK1alTp16gDw2WefARkdvMHBwTx69Ijr168DGUGlIkWKYGhoyOeffw5AcHAwKpXqrW0dO3YsDx8+pGLFimhpafH8+XPl/Obm5hgaGnLjxg1mzZrFH3/8AUDdunUpXbo0AMWLF1eGD6o7u3MSEhLCnDlz0NXVJT4+niNHjjB79mxl//z589m8eTOvXr2iePHirFu3jgMHDmjU8ezZMwYPHkxoaChGRkZUrVqVmJgY9u3bR2xsrFJO/bpHR0dz+/btt74OBUWCWEIIpk6dipaWFlu3bqV169ZUr16dWrVq0adPH7Zs2aKUW7NmjZLd4+joyJQpU3j16pWyPyIigoEDB9KoUSNsbGxo3749R48eBTICON999x3Ozs5KhtG6deuybY+Pjw+NGzfmk08+4ccff3xjmq6fnx9ubm7Y2try+eefM3r0aKKjo5X96p6N4OBg3NzcaNCgAR4eHlnemA8fPkynTp2wsrLCzs6OwYMH5/oc2dm3bx8WFhaUK1dO2WZgYMDUqVPp0qULJiYm2R63e/duunbtSrt27ahcuTLt27ena9eurFy5UqOcSqVizJgxDB06lMqVK2vsMzIyYs2aNbRr144aNWpgY2PDDz/8wOXLl4mMjFTK1apVC1NTUw4ePPjGaxFCCCGEEB8+Hx8fLly4wOTJk7N8f8wLlUrF5s2bAahcubLSOZuWlsa4ceNITU1l3rx5FClSJNd13rt3D8iYH6pkyZJ5blNUVBQAZcuWVbZlricqKkopA2gMTVQfk5iYqATS3qR169YcO3aM/fv388UXX1CpUiWCgoI4evQoO3fu5Pjx4zRq1AhAyS5bunSpkumUefhg/fr133gulUrFli1b2L9/Py1btgTg5MmTQMYQSvWcX23atOHQoUPs378fXV1djToiIyNJSUmhePHi7Nu3j927d3P69Gm2bt2q8TqUKlWK4sWLAxkZe4WVBLGE+B8XExPDX3/9RY8ePTAwMMiyv0SJEsrfWlpaTJo0ib179zJ79mxOnjzJ3Llzlf3Tpk0jOTmZ9evXs2fPHsaMGaPUmZaWRvny5Vm0aBH+/v4MHjyYBQsWZElXDQ4O5tatW/j6+jJ//nwOHjzI0qVLc2x/amoqw4cPZ/fu3SxdupSIiAgmTJiQpdyCBQuYMGEC27dvR0dHh++++07Zd+TIEYYMGYKjoyN+fn6sW7cOa2vrPJ8js7Nnz2JpafnGMtlJTk6maNGiGtuKFi3KpUuXSElJUbYtXbqUsmXL4u7unqt64+Li0NLS0vj3BLC2tubcuXN5bqcQQgghhPhwXLp0iRUrVuDq6kr79u1RqVTKULf09HRUKlWuHrGxsQwePJjjx49jbGzM0qVL0dHRQaVSsXbtWk6fPs3EiROpUqUKaWlpyvnT0tLeWK96WFvx4sVzLPOm+tQyX4v6+t4mt+XUPD090dbOCKXo6Oigo6PDqlWrcHJyon79+tStW5czZ84A8Pjx4zzV/bratWsrmWXm5uYAytDI8PBwpbO/TZs2QEZwzs7OTqOOWrVqUblyZV69eoW9vT0dO3ZkwoQJPHnyJMvvP3VmWOYMrcIm96FRIcRHKTw8nPT0dGrUqPHWsr1791b+rlSpEiNGjGDy5MlMmTIFyIjyt27dGgsLCwCNHh5dXV2GDRumPK9cuTKhoaEEBgYq49UhIx155syZ6OvrU6tWLYYNG8ZPP/3E8OHDlQ+LzDp37qxR56RJk+jcubOSUqs2cuRIJaW4f//+9O/fn6SkJIoWLcqvv/5Ku3btNNqn/rDIyzkyi4yMfKcgloODA9u2bcPFxYX69evzzz//sG3bNlJSUnj+/DmmpqacPXuWbdu2vXGurMySkpL4+eefad++fZaUZVNTU65cuZLndgohhBBCiA/HjRs3UKlUBAYGKsPN1AGQAwcOYGtry9KlS7Pt1FaLiYlh7ty53LlzBzMzM8aNG0dcXByhoaEAytxY3t7eeHt7axw7a9YsNm7cmONUJepgT2xsrFLf6zJnB4WFhfHy5Uvlufo7eVRUlHJ85v1mZmaYmZkpzzNnXKn/Llas2Bsnj1fLnO0FMHPmTLZu3QpAtWrVKFmyJOHh4Tx//lwj8PYuMndA5yWzLbOiRYuyY8cOdu3axYULF7h16xa7du3Cz8+PhQsXasxdpp6k/23DHAuSBLGE+B+Xl56HEydOsHz5cm7fvk1cXBwqlYqkpCQSEhLQ19fn66+/ZsqUKRw/fpwmTZrQqlUrjWDQhg0b2L59O5GRkSQlJZGSkqKxH8DCwgJ9fX3lua2tLfHx8URFRVGxYsUsbfrnn3/w8fHh6tWrvHjxQrmeqKgoatasqVGvmnooX3R0NBUqVCAsLOyNGU25PUdmiYmJWTKqcmPQoEE8efKErl27kp6eTtmyZfnqq69YtWoV2traxMXFMW7cOKZPn56rD9mUlBSGDx9Oenp6tl8aihUrRmJiYp7bKYQQQgghPjyZM/vV1JlLlpaWlChRgj59+vD48WNatGjBqFGjgIwg2JgxY4iMjOTTTz9lyZIllCpVSqMe9XfTpKSkbM+rra2NjY1Ntu0qUaIE8+bNIz4+nho1amQZPQAZ82ap1a1bV6MTvm3btvzzzz88fPgQfX19atasyfr164GMznR7e3uMjY2pXbs2169f5/Dhw/Tt25fExET+/vtvAOzt7XM1T5iWlpbG8wsXLgAZndG//fYbSUlJdOnShefPn2uUK1asGJAxDDA/VK1alaJFi5KUlMShQ4do27Ytz54949SpUxrl4uLiuHXrFj179sTT0xOAvn37cvz4cc6ePasEsWJiYpSpYqpWrZovbfw3SBBLiP9xVatWRUtL662T9z148IABAwbQrVs3Ro4cScmSJTl37hyTJk0iJSUFfX193N3dcXBw4MiRI/z999+sWLGC8ePH4+npib+/P3PmzGH8+PHY2tpSvHhxfvvtN+VN/13Ex8fTt29fHBwc+PnnnyldujRRUVH07ds3ywd05p4L9QePumdE/YHyvufIrHTp0hq9P7lVrFgxZs2axbRp04iOjsbExITNmzdTvHhxypQpw7Vr14iIiNCYpF19HfXq1SMwMJAqVaoAGV8WRowYQWRkJOvWrcu2RyUmJiZXwTAhhBBCCPHhcnNz01hwCDImN4+IiKBdu3YaK/M9ePCAiIgIoqOjlaDO8OHDlblV4+PjNb6Luru74+7uzpw5c5gzZ45GPS1atABgypQpdOvWLcf21axZkzJlyvDs2TOuXr2qsQjS3LlzOXDggMZcvP3796dIkSJ4enry9ddf061bN7Zu3crdu3fp1q0b5cuX5+7du0BGwMbY2BiAMWPGMHDgQEJDQ3F2diY5OZnnz59TrFixPE1En5k6MHb8+HFat26t0emdmTro9s8//+Dq6oq+vj6///77O50TQF9fn+7du7NmzRr27t3LxYsXiYmJyfIbJTo6Gg8PD0qWLEm5cuVISUlRAoKZO/ovXboEZGSa5WaUTkGRObGE+B9XqlQpHBwc2LBhQ7a9AupAzOXLl0lPT2fChAnY2NhQvXr1bMd4m5mZ0a1bN3x8fDQmhj9//jy2trb06NGDevXqUbVq1WwnDLx27ZpGZlBoaCgGBgYa6b9qt2/fJiYmhjFjxtCwYUPMzc3fOuF6dmrXrp1laeD3PUe9evW4efNmntuipqurS/ny5dHR0SEgIAAnJye0tbWpUaMGe/bswc/PT3k4OztjZ2eHn5+fslSyOoB179491q5dq6yG8robN25Qt27dd26nEEIIIYT4+GUOjISFhXHhwgXl8fDhw/euX0tLi/bt2wNkWZU7Ojqa8PBwje/gkZGRhIeHa8yl5evrS8eOHdHX1+fBgwdUqFCBiRMnMnLkSOU4R0dHVqxYga2tLTExMSQlJfH555/j6+ubZYRIbk2cOJEWLVpgYGDAq1ev6Nu3L05OTlnKderUidatW2NkZMT169e5cOFCrlZDfJNRo0bRtWtXihcvTmxsLN27d6dZs2YAyqiQUqVK4ebmRtmyZXnw4AEPHz6kRo0ajBo1SmM0ypEjRwA0pnopjCQTSwjB5MmT6datG+7u7gwbNgwLCwtUKhV///03GzduZN++fVStWpWUlBR8fX1xdnbm3LlzbNq0SaOeGTNm0KxZM6pVq8bLly85deqUMgFh1apV8fPz46+//qJSpUrs2rWLS5cuUalSJY06kpOTmTRpEl5eXkRERLBkyRJ69uyZ7XxYFSpUQFdXF19fX7p168b169dZtmxZnq9/yJAh9O7dmypVqtC+fXtSU1M5evQo/fv3f+dzODg48P3336NSqTTSkm/evElKSoqSrhsWFgagBJLu3LnDxYsXadCgAS9fvmTNmjXcuHFDWUq3aNGi1K5dW+Nc6nRr9faUlBSGDRvGlStXWL58OSqViidPngAZq7Sol0FOSEjg8uXLSpq4EEIIIYT43/F6sOhN23Mq+yaVKlXi2rVruS7v4eHBhg0b2LdvH2PHjlW+s86ePVv5LvwmpqamSjmVSkVoaGi2wxebNm1K06ZNc90uADs7uxyvxdjYONvfB6+3uXjx4ixevDhXdWd3zUOHDmXo0KEa216+fMm4ceOYNm0akDHKQh0MVP++KFmyJLNmzXrT5ZGcnExgYCDa2tp4eHi8sWxBkyCWEILKlSuzY8cOfv31V+bMmcPjx48pU6YM9evXVyZtr1OnDhMnTmTlypXMnz+fhg0bMmrUKMaPH6/Uk5aWxrRp03j48CGGhoY0bdqUiRMnAhkfSmFhYYwcOVLpaenevTvHjh3TaIu9vT1Vq1alR48eJCcn06FDhyxv1mplypRh9uzZzJ8/H19fX+rXr8/48eM10ptzw87OjkWLFrFs2TJWrFiBoaGhsizuu56jWbNm6OjocOLECY0Pyf79+xMREaE8/+qrrwCUD660tDTWrFnDnTt3KFKkCHZ2dmzcuDFLsO9NHj16pHzR+PLLLzX2/f7778qKJUFBQZiZmdGwYcNc1y2EEEIIIcS/oWbNmrRr1469e/eyZ88eOnXqVNBNKvRCQ0MZO3YsVlZW6OvrExoaSkxMDAYGBvTv3z/X9ezevZunT5/SoUOHHOf8LSy00vO6nqQQQohc2bBhA4cPH+a3334r6KZkq0uXLnh6euLq6prrY9S9Wj+FXic08v1Tx4UQQgghxL+rXnlTdvbrUdDN+E9lzsTKzWTtH6qrV68yffp0bty4watXryhVqhQNGzZk0KBBGvNdfUwkE0sIIf4lXbt25eXLl8TFxRW6ZWqfPXtGy5Yt6dChQ0E3RQghhBBCCPEO6tSpw4YNGwq6Gf8pCWIJIcS/pEiRInke2vhfKVOmDP369SvoZgghhBBCCCFErsnqhEIIIYQQQgghhBCi0JMglhBCCCGEEEIIIYQo9GQ4oRBCiDyrXrY0yWlpBd0MIYQQQgjxFubGZQq6CULkGwliCSGEyLMZri0/6pVehBBCCCE+Jqq0NHS0ZSCW+PDJXSyEECLPVCpVQTdBfOBUKhVXrlyRe0m8N7mXRH6S+0nkl8J2L0kAS3ws5E4WQgghRIFISEgo6CaIj4TcSyI/yf0k8ovcS0LkPwliCSGEEEIIIYQQQohCT4JYQgghhBBCCCGEEKLQkyCWEEIIIQqEvr5+QTdBfCTkXhL5Se4nkV/kXhIi/8nqhEIIIfJMViYU70tHR4d69eoVdDPER0DuJZGf5H4S+aWw3kuySqH40EkQSwghRJ5N3nKQ61HRBd0MIYQQQgiRSzXKlWF2j7YF3Qwh3osEsYQQQuTZ3cfPCYt4XNDNEEIIIYQQQvwPkTxCIYQQQgghhBBCCFHoSRBLCCGEEEIIIYQQQhR6EsQSQgghhBBCCCFEoTF69GgsLCzYvn17QTflP/PgwQMsLCywsLDg1KlTBdKGkydPYmFhgYeHR4GcPzdkTiwhhBBCCCGE24lcSAAAm/1JREFUEOJ/0PDhwwkMDASgXbt2LFiw4I3lV69ezZ9//smdO3eIiYnBxMSEzz77jCFDhlC5cmWlnKenJ6dPn85y/CeffMLGjRvfeI6bN28SEBCAsbExrq6uyvZNmzaxa9cuwsLCSEhIACAgIABzc3OlzI0bN/jtt98IDQ3l4cOH6OjoULVqVbp164a7u7vGeVJTU1m7di27du3i7t276OnpUbVqVYYNG0bz5s3f2Mb3sWTJEnx8fKhYsSKHDx9Wtuvp6dGgQQMADA0N/7Xzv0njxo2pX78+ISEhHDt2jGbNmhVIO95EMrGEEIWehYUFhw4dUp7funWLLl26YGVlxZdffpmrOiZMmMCgQYOU556ensyYMSPf25rZ8+fPsbe358GDB//qed5Vly5d2L9/f0E3QwghhBBCFIDt27crAazcWr9+PWfOnMHIyIhy5coRGRmJn58f3bp1Iy4uLkv5ypUr06BBA+VRq1att55j06ZNpKWl0aZNG/T09JTtx44dIywsjDJlyuR47KVLl9i5cyfR0dGYmpqSmprK5cuX+f7771m5cqVSLj09naFDhzJ37lyuX79O+fLlqVSpEg8ePODKlSt5ek0AkpOT83zM60xNTdmyZQtbtmyhfv36713fu+rQoQPAW4ONBUWCWEKIt3ry5Ane3t60bNkSKysrmjRpgoeHB3/88YfSC/JfWrJkCfr6+gQGBrJ27dr//Py59euvv9KiRQsqVaqkbPP29sbNzQ1LS8scA3ABAQF8+eWXNGjQACcnJ1atWpWlzIYNG2jbti3W1ta0bt0aPz+/LGX27dtHmzZtsLKywtXVlaNHj2rs9/LyYt68eaSlpb3fhQohhBBCiA9KeHg43t7e2NraUr58+Vwf5+7uzuHDh9m3bx9BQUH06tULyPi9EBwcnKX8oEGDlMDMli1bmDZt2hvrT09Px9/fHwAnJyeNfZMnT+bcuXMMGTIkx+PNzMxYtGgRf//9N7NmzWLPnj0YGRkBsGfPHqVcQEAAhw8fxsDAgI0bN3Lw4EF27drFqVOnlGvKTuYhf1u3bqVXr15YWVmxfPlyEhMTGTRoEM7OztjY2GBpaUmrVq1YtGiREuTy9PTEx8cHgIiICKWuHTt2ZDuccMmSJVhYWODs7Kx8t7exsaFHjx7cvn1b43VbuHAhdnZ2NGzYkGnTpjF//nylPrXQ0FB69eqFnZ0dVlZWODs7M2jQIMLDw5Uy6iy0Y8eOERsbm/M/VgGRIJYQ4o3u379Px44d+fvvvxk5ciR+fn5s3ryZb7/9liNHjnDixIn/vE3h4eF8+umnVKxYkdKlS//n58+NhIQEtm3bRufOnbPs69SpE+3atcv2uKNHjzJ27Fg8PDzYu3cvkydPZu3ataxfv14p88cffzBv3jyGDh2Kv78/w4YNY+rUqRrpyOfPn2f06NF07twZPz8/WrRoweDBg7l+/bpSplmzZrx69Ypjx47l45ULIYQQQojCLDU1lTFjxqCtrc3cuXPR0dHJ9bFeXl5UqFBBed6wYUPl78xZU2qzZs3C0tKSFi1a8MMPP/D06dM31n/nzh2ePXsGgJWVlca+cuXKvbWt9vb2tGnTRilXsWJFzMzMsrQvICAAgEqVKrFgwQJsbW1xcXFhyZIl6OrqvvEcalOnTuXq1atUqVIFbW1tkpOTCQoKIikpiWrVqlG2bFnu3bvHsmXLlGGa5ubmlCtXDgBdXV0lQ+1N2WUAjx49YuzYsWhpaZGYmMjZs2f57rvvlP3r16/nl19+ISYmBgMDAwIDA/H19dWoIy0tjQEDBnDy5EmKFCmCubk5CQkJBAUFERUVpZSrXr06RkZGpKamEhoamqvX4r8kQSwhxBtNmTIFHR0dtm/fTrt27TA3N6dy5cq4uLiwYsUKnJ2dlbKRkZF4eXlha2vLJ598wvDhw7N8UP3xxx+4uLhgaWmZbQbR3bt36dGjB1ZWVrRr146///5bY7+FhQWXL19m6dKlWFhYsGTJEgCioqIYPnw4DRs25LPPPsPLyytPw/j8/Pxwc3PD1taWzz//nNGjRxMdHa3sf/HiBaNHj6Zx48ZYW1vTqlWrN040efToUfT09LCxsdHY/v3339OjRw+NOQMy2717Ny1atKBbt25UrlyZ5s2bM2DAAFauXEl6erpSpmvXrrRr147KlSvTvn17unbtqpEi/fvvv9O0aVO+/fZbzM3NGTFiBPXq1dMIhuno6NCsWTOlt0sIIYQQQnz8fHx8uHDhApMnT87xO2luqFQqNm/eDGQMG7S3t9fYX6xYMcqVK0eZMmV48OABW7ZsoWvXrsTHx+dY571794CMOaFKliz5zm1TO3v2LDdv3gQyptJQu3PnDgDXr1/nypUrlCtXjvv377N06VJmz56dq7ptbW05duwY/v7+DBw4EH19ffz9/fn777/x8/Pj6NGjfPHFF8D/Bc2mTJmizM2Vefjg2+bgSk1NZfHixezbt0/JFAsJCSExMRFAGblha2tLUFAQhw4dUoJlai9evCAmJgaAHTt24OfnR3BwMHv37qVmzZpKOS0tLSXwlzlDq7CQIJYQIkfPnz/n77//pkePHhgYGGRbRktLC8iI7A8aNIgXL17g6+vLmjVruH//PiNHjlTKHjx4kJkzZ9KnTx/27NmDh4cH3333HSdPnlTqGDp0KLq6umzdupWpU6fy888/a5zv+PHj1KpVi2+++Ybjx4/zzTffkJKSQt++fSlevDgbNmxg48aNGBgY8O233+Z6fHpqairDhw9n9+7dLF26lIiICCZMmKDsX7RoEbdu3WLlypUEBAQwZcqUN2aBnT179p3GsicnJ1O0aFGNbcWKFePhw4dERETkWKZo0aJcunSJlJQUICNV+PUvEg4ODll6U6ytrTl37lye2ymEEEIIIT48ly5dYsWKFbi6utK+fXtUKpXSUZqeno5KpcrVIzY2lsGDB3P8+HGMjY1ZunQpOjo6yv5x48Zx8uRJdu3axeHDh+nXrx+QMRxv//79Odb74sULAIoXL55jmcxTYaSlpeVYLiQkhIEDB5KWloanp6dGEEulUgEZnbq7du0iMDCQTp06AbBlyxblO/WbeHh4KN/JdXR00NbWZvfu3bRu3RpLS0ssLCzYvXs3AI8fP36vfzcjIyMleSBzwCk6Opq4uDgePnwIgIuLC7q6uhgYGGQJjJUuXRpbW1sAWrZsiaurK6NGjeLKlStZfteoJ5YvjMMJZXVCIUSOwsPDSU9Pp3r16hrb7ezslOBQ9+7dGTt2LMHBwVy/fp2goCAlcv/TTz/Rvn17Ll68iLW1Nb/99hsdO3akR48eQEaqamhoKKtXr6Zx48acOHGC27dvs2rVKqXnYOTIkcqHHoCJiQk6OjoYGBhgYmICwK5du0hLS2PGjBlKUG3WrFk0atSI06dP4+Dg8NZrzTzsr3LlykyaNInOnTvz6tUrihcvTmRkJHXr1lXSmjPPc5WdyMhITE1N33re1zk4ODBr1iyCg4Oxs7Pj3r17rF69GsiYa6BSpUo4ODiwbds2XFxcqF+/Pv/88w/btm0jJSWF58+fY2pqytOnTzE2Ntaou2zZslky40xNTYmKiiItLQ1tbenXEEIIIYT4mN24cQOVSkVgYCAHDhwA/m9S8gMHDmBra8vSpUtz7MAGiImJYe7cudy5cwczMzPGjRtHXFxcls7SzBOkZw68nD9/nipVqmRbtzrYExsbm+NQtszZQWFhYbx8+TJLmYMHD7Ju3TrS0tIYNmwYgwcP1thvamrK3bt3KVOmjPK93tramu3bt5OSksKjR4/e+n2/bNmyGs9XrFjB8uXLgYxhjMbGxjx8+JBHjx699xy0JUqUUP7OPKRSHYDMrbVr17Jnzx7Onz/PrVu32L9/P/7+/jx58oRvv/1WKaeepL+gVkl8EwliCSHybNu2baSlpTFmzBjlQ+/WrVuUL1/+/7F33/E53f//xx9JJEZsItSs4DITsWKP2NSuLWq0ZlVtRUvRUrs1PlartVo7tSmKau2tqC2SmCFEEklcye+P/K7zzSUJCdGEPu+3W243Odf7vM/rOjmu8Tqv9/ttJLAg+s0qY8aMXLlyBVdXV65cuULbtm2t+ipTpgyLFy+26iNm6avlbsHznD9/Hh8fH8qUKWO1PSwsLMElsGfOnGHWrFmcP3+ehw8fGm8IN2/epFChQrRv355PPvmEs2fPUqVKFerUqRPreM8e+9lqqYRo06YNPj4+9OzZk6dPn5I+fXo6d+7MzJkzjSRTnz59uHv3Lm3btiUqKops2bLRvHlzFi5cmOhEVJo0aYiMjCQ8PJw0adIkOl4RERERefPEVWlkqWAqWbIkGTNmpGvXrty5c4fatWszcOBAIDoJNnjwYPz9/SlbtiwzZ84kc+bMVv0EBASwYcMGWrdujaOjI4DVHKzlypWLNeWGRcaMGZk6dSohISEULFjQKnljYRkKCFCsWDEKFixo/B4VFcXUqVNZtGgRqVKlYsKECTRv3jxWH5UrV+bQoUPcv38fPz8/cufOzZkzZwBIly5dgm5GW26eW5w8eRKAAgUKGNVmvXv35vbt21btLJ+5Q0NDiYqKitVPYqVPn55cuXJx8+ZNdu/eTZcuXYiIiGD37t1W7aKiojh+/DgtW7Y0hjR+8cUXrFixgiNHjhhJrKioKGOOrPz5879SbK+DklgiEq98+fJhY2Nj9UYBGGPnU0rSIyQkhBIlSsQaegi8cJJEy/7du3enatWqTJkyhSxZsnDz5k26d+9uvMHXqFGD33//nT179vDnn3/SpUsXOnbsyLBhw+LsM3PmzHHeFXoRGxsbhgwZwsCBA7l37x5ZsmQxVnqJed4nTJjA2LFjCQgIwMnJiRUrVuDo6Gg83+zZs8equgoICIhVnfXw4UPSpUuXYv6WIiIiIvL6tGzZkpYtW1pt8/T0xM/Pj0aNGhkTkEP00D8/Pz8CAgKM6p/+/fvj7+8PRH+G7t27t9G+devWtG7dmvDwcCZNmsS0adPIly8foaGhRlLExcXFauL1ZxUqVIisWbNy//59zp8/bzU9xuTJk9m+fTvBwcHGth49epAqVSq8vLzo3LkzGzduNEYxpE2blmXLlrF8+XKj/cqVKwHo2LEjq1atws/Pj2bNmuHk5GSs9vfhhx/GOUn9i5hMJn7//XeuXbuGp6cnT58+JSwsLFY7S9Lt/v37NGjQgEyZMjF16tRXSmZ1796d8ePHc/jwYerUqUN4eHisucfMZjNdunTB0dGRXLlyYWtra8wXFnMFw6tXrxIUFESqVKniTTYmJ40dEZF4ZcmShSpVqrB06dLnTsAI0W9It27dslrZ4tKlSzx69AgXFxcg+gX72LFjVvsdO3bMKC+29BFzzHhCVsQoUaIE169fJ1u2bOTPn9/qx7Kk7vNcuXKFwMBABg8eTLly5XBxcbGa1N0ia9astGjRgilTpjBixAhjIsu4FC9e3HhTeBl2dnY4Ozvj4ODApk2bcHd3j5WQs7e3J2fOnNjZ2bF582Zq1aplVGKVLl3amGvM4q+//or1RnThwgWKFSv20nGKiIiIyH9HzAquc+fOcfLkSePHMi9T1qxZ6dWrF8WKFeP+/fs8ePCAggUL0qNHD37++efnjlawsbGhcePGAFYrb0P0DVkfHx+rz+n+/v74+PgYc2nFnA83KCiIU6dOWcVokTFjRpYtW8Z7772HnZ0dt27dokSJEkyaNCnW0MOE6tmzJy1atCBjxowEBwfTuHFj2rdvH6tdrVq1aNOmDZkzZ+batWucPHmS0NDQlzqmRadOnejduzeZM2cmKCiIOnXqGNOlxJy3q127duTJk4fbt29z/fp1cufOTbdu3ayes6WCq3r16gn6LvVvs4lK7CBKEflP8fHxoX379mTMmJF+/fphMpmwsbHh9OnTTJo0iSZNmjB8+HCioqJo0aIFjo6OjBgxArPZzJgxY3B0dDSWd92xYweffvopI0aMoHLlyvz+++9MnjyZRYsW4eHhQWRkJE2aNMHZ2dkYW//1118bqxHWqVMHgGbNmlGnTh369esHRJfiNm/enBw5ctC/f3+cnZ3x9/fnt99+48MPPyRnzpwMHz6cR48eMWfOHAC8vLwoWrQoI0eO5P79+1SvXp3OnTvTvn17Lly4wKRJk7h27Rre3t4UK1aMb7/9lhIlSlC4cGHCw8OZOnUqAQEBrFq1Ks7z9s8//9CyZUv++usvq5VVrl+/TkhICD///DMHDx5kxowZQHQCz8HBgfv377Nt2zYqVKhAeHg4a9asYeXKlSxduhRXV1cg+u7IqVOncHNz49GjRyxatIi//vqLNWvWGGP3jx07hpeXF4MGDaJGjRps3ryZefPmsXbtWooUKWLE4+XlRcWKFRP8Zm02mzlx4gTT913gpM+thF5GIiIiIpLMiuXOwcqBHZM7jBe6dOkSTZo0IVu2bOzateulqqIsn1lLly4db9XX2yQoKIjw8HBjnq6wsDDef/99Lly4QOnSpZ978/1ZLVq04OzZsyxcuJBq1aq9rpBfmoYTishz5cuXj3Xr1jFv3jymTp3K7du3sbe3p1ChQnTr1o0OHToA0XdN5syZw7hx4+jUqRM2NjZUq1aNzz//3OirTp06jBgxgh9++IGvv/6a3Llz8/XXX+Ph4QGAra0ts2bNMiZVz507N6NGjbKaZDAuadOmZenSpUyZMoWPP/6Y4OBgnJ2dqVSpUoImI8yaNSsTJ05k2rRpLFmyhBIlSjBs2DCr8mh7e3umTZuGn58fadKkoWzZskybNi3ePk0mE8WLF2fLli20a9fO2D5q1CgOHTpk/G4Zo79z504jAeXt7c2kSZOIioqidOnSLFmyxEhgQfQqLIsWLeLq1aukSpUKDw8Pfv75Z6vJJ8uUKcOUKVOYMWMG06ZNo0CBAsyePdsqgXX79m2OHz/O5MmTX3iORERERET+DYUKFaJRo0Zs3LiRDRs2GKsGSvx8fX1p06YNrq6uZMiQgb///ps7d+5gZ2dn3PhPiP3793P27Fnc3d1TZAILVIklIvLa7N69m0mTJrFx48YUufLf5MmTefToEePGjUvwPqrEEhEREXkzvSmVWEnhv1aJdfv2bT777DPOnj1LUFAQ6dOnx83NjR49elCuXLnkDi9JqRJLROQ1qVmzJteuXeP27dtWqzamFNmyZaNr167JHYaIiIiIiLwCZ2dnY0L7t52SWCIir1GXLl2SO4R4devWLblDEBERERERSbCUN75FRERERERERETkGUpiiYiIiIiIiIhIiqckloiIiIiIiIiIpHiaE0tERBKtQI4shJsjkzsMEREREUmggs5ZkzsEkVemJJaIiCTal23q/ieWKxYRERF5m5gjI7Gz1YAseXPp6hURkUQzm83JHYK84cxmM2fPntW1JK9M15IkJV1PklRS6rWkBJa86XQFi4iISLIIDQ1N7hDkLaFrSZKSridJKrqWRJKeklgiIiIiIiIiIpLiKYklIiIiIiIiIiIpnpJYIiIikizSpk2b3CHIW0LXkiQlXU+SVHQtiSQ9rU4oIiKJppUJ5VXZ2dlRvHjx5A5D3gK6liQp6XqSpJJSryWtTihvOiWxREQk0cb9uJ2LfgHJHYaIiIiIJNC7ubIy/qNGyR2GyCtREktERBLt+u0H/ONzJ7nDEBERERGR/xDVEYqIiIiIiIiISIqnJJaIiIiIiIiIiKR4SmKJiIiIiIiISIoxaNAgTCYTa9asSe5Q/jUHDx7EZDJhMpnw9fVNlhjWrFmDyWRi0KBByXL8hNCcWCIiIiIiIiL/Qf3792fr1q0ANGrUiOnTpz+3/Q8//MDvv//O1atXCQwMxMnJiQoVKvDxxx+TN29eo52XlxeHDh2KtX+ZMmX4+eefn3uMS5cusXnzZrJnz06TJk2M7b/88gu//vor586dIzQ0FIDNmzfj4uJitf+9e/eYMmUKO3fuJDQ0lHz58tGhQwc6depktDGZTPEev0WLFkycOPG5Mb6K4cOHs27dOipUqMCSJUuM7enTp8fNzQ0ABweH13b852nSpAnTp09n8+bN9O7dm0KFCiVLHM+jSiwReWNY7k48evQoyfr09fXFZDJx7ty5JOszpo4dO7Jhw4bX0veratOmDdu2bUvuMEREREQkGaxZs8ZIYCXU0qVLOXz4MBkyZMDZ2Rl/f3+8vb1p3749jx8/jtU+b968uLm5GT+FCxd+4TF++eUXIiMjadCggVUyZ+/evZw7d46sWbPGu29ISAidOnVi3bp1PHnyhHfeeYfLly8zbtw4vv32W6NdzJjc3NysklpOTk4JPR2G8PDwRO/zrBIlSrBy5UpWrlxJjhw5Xrm/l+Hg4ED9+vWJjIzkl19+SZYYXkRJLJE31PDhw41y0xIlSlC5cmW6du3K6tWriYyMTO7wDK8j8ZRQnp6exjmK62f48OGv9fg7d+7k3r17NG7cGIDAwEDGjRtH/fr1cXV1pWbNmowfP56goCCr/fz9/enRowdubm5UqlSJb775hqdPn1q1OXjwIC1atKBkyZLUrVuXtWvXxjr+7du3GTx4MB4eHri6utKkSRNOnz5tPN67d2+mTp2aoq4XEREREXn9fHx8GD9+PO7u7uTMmTPB+7Vu3Zpdu3axZcsWdu7cyQcffADA3bt32b9/f6z2ffr0MRIzK1euZOzYsc/tPyoqik2bNgFQq1Ytq8dGjx7N0aNH+fjjj+Pdf8WKFVy9ehUbGxvGjh3Lli1b6Nq1KwALFizg3r17AFYxrVy5kmbNmgGQKlUq2rdvH2//MYf8bdmyhffff5+SJUuyceNGbt26xUcffUSNGjVwdXXF1dWV9957jx9//JGoqCgg+vvJunXrADh06JDR18GDB+McTmj5zufl5cWyZcvw9PTE3d2dnj17cvfuXSOu8PBwvvjiC8qUKUOlSpWYNWsWw4YNw2Qy4enpabTbs2cPbdu2pVy5cri5uVG3bl0+/fRTHj58aLSpWbMmEF3llhIpiSXyBqtWrRr79u1j165dLFiwAA8PD7766it69uwZK+mRHCIiIpL1+KtXr2bfvn3s27ePmTNnArB161Zj28iRI1/r8ZcsWUKrVq2wtY1+qb1z5w537txh2LBhbNy4kQkTJvDHH39YxWE2m+nZsycRERH88ssvTJw4kXXr1vHdd98ZbW7cuEHPnj3x8PDg119/5YMPPmDUqFH88ccfRpuHDx/Svn177O3tWbBgAZs2bWLYsGFkypTJaFO9enWCg4PZu3fvaz0PIiIiIpJyPH36lMGDB2Nra8vkyZOxs7NL8L69e/fmnXfeMX4vV66c8e+4hsBNmDCBkiVLUrt2bT7//HMjiRSfq1evcv/+fQBKlSpl9Zizs/MLY7V8rs2fPz/58uUDoF69ekD0d5O4Em0REREsXrwYgAYNGlg9v+cZMmQIt27dInfu3NjY2PDgwQPj+C4uLqRPn56LFy8yYcIEli9fDkCxYsXIkiULAI6OjkYlWPr06Z97rOPHj/PNN99gb29PSEgIu3fvthryOG3aNFasWEFwcDCOjo789NNPbN++3aqP+/fv07dvX06cOEGGDBnInz8/gYGBbNmyxeqmuuW8BwQEcOXKlQSdi3+TklgibzAHBwecnJxwdnamRIkS9OrVizlz5rB3714jww/w6NEjRo4cScWKFSlTpgydO3fm/PnzxuMzZ86kWbNm/PLLL9SoUQM3Nzf69+9v9WJ26tQpunbtioeHB2XLlqVTp078/fffVvGYTCaWL19Or169KF26NJ9//jmdO3cGoHz58lbVT5GRkcybNw9PT09cXV1p2rRprHLmPXv2GFVLXl5e+Pn5Jer8ZM2aFScnJ5ycnIzkTbZs2YxtGTJkMNreuHEDLy8v3NzcaNq0KcePH7fq68iRI3To0AFXV1dq1KjB+PHjCQkJiffY9+/f58CBA1Z3kIoUKcLMmTPx9PQkX758VKpUiU8//ZRdu3YZScd9+/Zx6dIlJk+eTLFixahRowb9+/dn2bJlRpnyL7/8Qp48eRg+fDguLi506tSJ+vXr8+OPPxrHWrBgATlz5mTChAm4urqSN29eqlataryZA9jZ2VG9enXjbpeIiIiIvP1mzZrFyZMnGT16tNU8VollNptZsWIFED1ssFKlSlaPp0mTBmdnZ7JmzYqvry8rV66kbdu2z/0Mff36dSB6fqiYN18T6ubNmwBWQw6zZ88e6/GYNm3axK1btwDo3r17go9Vv3599u7dy7Zt22jatCl58uRh586d7Nmzh3Xr1rFv3z7Kly9vHANg9uzZRqVTzOGDJUqUeO6xzGYzK1euZNu2bdStWxeAAwcOANFDKJctWwZEJ+F27NjBtm3bsLe3t+rD39+fiIgIHB0d2bJlC+vXr+fQoUOsWrXK6nxlzpwZR0dHILpiL6VREkvkLVOpUiWKFi1qlXnv378/AQEBLFiwgLVr11KiRAk++OADAgMDjTY+Pj5s2bKFuXPnsnDhQs6dO8eYMWOMx4ODg2nevDnLly9n5cqV5M+fnx49esQa+z5r1izq1q3Lhg0b6NevX6wKKEvV0bx58/D29ubLL79k06ZNdOnShSFDhhgTQN68eZOPP/6YWrVq4e3tTevWrZk6deprOmswffp0unfvjre3NwUKFGDQoEFGYsnHx4ePPvqIevXqsX79eqZPn87Ro0cZN25cvP0dPXqUtGnTxppo8lmPHz8mffr0pEoVvc7GiRMnKFKkiNWbbdWqVXn8+DGXLl0y2jz7IaFq1aqcOHHC+H3Xrl2ULFmSTz75hEqVKtG8eXNWrlwZ6/iurq4cPXr0+SdHRERERN4Kp0+fZv78+TRp0oTGjRtjNpuNoW5RUVGYzeYE/QQFBdG3b1/27dtH9uzZmT17NnZ2dsbjQ4cO5cCBA/z666/s2rWLjz76CIiej3bbtm3x9msZ1ubo6Bhvm5hTYURGRlo9FhfL84vPokWLgOjvUcWLF0/wufTy8jJGXNjZ2WFnZ8fChQupVasWJUqUoFixYhw+fBiIHpHxKooUKULRokUBjO8Xlqo2Hx8f42Z3gwYNgOgknoeHh1UfhQsXJm/evAQHB1OpUiVatGjB8OHDuXv3LunSpbNqa6kMe3bak5RAqxOKvIUKFizIP//8A0RXEJ06dYr9+/cbJb7Dhg0zMvRt27YFICwsjEmTJuHs7AzAqFGj6NmzJ8OHD8fJySlW0mTcuHGUK1eOw4cPW1Ubvffee7Rq1cr43TKeO1u2bGTMmBGIHrM9b948Fi1ahLu7OxB99+bo0aOsWLGCChUq8PPPP5MvXz6jcqtgwYJcuHCBBQsWJPn5AujWrZtxV+STTz6hcePGXL9+HRcXF+bNm0eTJk3o0qULAAUKFGDkyJF4eXkxZswYUqdOHas/Pz8/smXLZryxxeX+/fvMmTPH+BtA9JtRzAQW/N/dI8u49/jaPH78mCdPnpAmTRpu3LjBzz//TNeuXenVqxenT59m/Pjx2Nvb06JFC2O/HDlycPPmTSIjI58bq4iIiIi8+S5evIjZbGbr1q3GTW9LAmT79u24u7sze/bsWEmNmAIDA5k8eTJXr14lV65cDB06lMePH1vdUAU4e/as8e+Yq9wdO3bManRATJZkT1BQUKz+LGJWB507d85q7l1LBVHMiquAgADj37ly5bLq688//zRGqCSmCguiv9/E9PXXX7Nq1Sog+vtCpkyZ8PHx4cGDB688B63lexRg3PxOrNSpU7N27Vp+/fVXTp48yeXLl/n111/x9vZmxowZNGzY0GhrKVR40TDH5KAklshbKCoqChsbGwD++ecfQkJCYmXinzx5YvUGkCtXLiOBBeDu7k5kZCRXr17FycmJe/fuMWPGDA4dOkRAQACRkZGEhobi7+9v1W/JkiVfGN/169cJDQ2lW7duVtsjIiIoVqwYAJcvX8bV1dXq8dKlS7/4yb+kuFYkuX//Pi4uLpw/f55//vnHapXBqKgoIiMj8fX1jbPaKiwsLM7klsXjx4/p2bMnLi4uz52c8mVFRUVRsmRJBg4cCEDx4sW5ePEiv/zyi1USK02aNERGRhIeHk6aNGmSPA4RERERSXnimrvWUs1UsmRJMmbMSNeuXblz5w61a9c2PlNevHiRwYMH4+/vT9myZZk5cyaZM2e26icgIIANGzbQunVrI6kUcw7WcuXKxfu5PmPGjEydOpWQkBAKFixolbyxuHr1qvHvYsWKUbBgQeP3hg0bcubMGW7duoWPjw+lS5c2knX29vaxbsx///33QHSlU7Vq1eI7XXGyfN+yOHnyJBA9QuL7778nLCyMNm3a8ODBA6t2ls/czxtWmRj58+cnderUhIWFsWPHDho2bMj9+/c5ePCgVbvHjx9z+fJlOnXqhJeXFxCduNu3bx9HjhwxkliBgYEEBwcbfac0SmKJvIUuX75Mnjx5gOhhgE5OTixZsiRWu5hzQr3IsGHDCAwMZOTIkbzzzjs4ODjQtm3bWG+Az7trY2F5wZ43b55V4gzinhDy3xBzzLjlDclyxyQkJIR27doZL/YxPXs3xyJLlixWq3zE9PjxYz788EMcHR2ZPXu21bGzZ8/OqVOnrNpbSoUtybXs2bPHmhTz3r17pE+f3nhTdHJyipVcK1iwINu2bbPa9vDhQ9KlS6cEloiIiMh/QMuWLWnZsqXVNk9PT/z8/GjUqBHTp083tvv6+uLn50dAQIAxoXr//v2Nm9ghISH07t3baN+6dWtat25NeHg4kyZNYtq0aeTLl4/Q0FCjMsrFxYUGDRrEO0F7oUKFyJo1K/fv3+f8+fNWSafJkyezfft2I8EC0KNHD1KlSoWXlxedO3emffv2rFq1imvXrvHFF18wd+5crl27BkQnbGKOZjh//jx//vmn8dirKlKkCBcuXGDfvn3Ur1+fhw8fxjmU0ZJ0O3PmDE2aNCFt2rTGxPIvI23atHTo0IFFixaxceNGTp06RWBgYKzvaQEBAbRr145MmTLh7OxMRESEkRCMeUPfspp5tmzZrBKEKYWSWCJvmf3793PhwgVj6FuJEiW4d+8ednZ2RmIrLjdv3uT27dtGUunEiRPY2try7rvvAtFlv6NHj6ZGjRpG+2fvKsTFkqCJOUbdxcUFBwcH/P39qVChQpz7ubi4sGvXLqttlrsb/7bixYtz6dKlRN2JKFasGPfu3ePhw4dWk1I+fvyY7t274+DgwP/+979Y1VqlS5dm7ty5BAQEGCXKf/31F+nTpzfKsEuXLh1rRcG//vrL6o5WmTJlrO5SAVy7do3cuXNbbbtw4YJR/SYiIiIi8jwxEyPnzp2zesxSyZQ1a1Z69erFn3/+yY0bN3jy5AkFCxakTp06fPjhh88drWBjY0Pjxo1ZsmQJu3btskpiBQQExJpo3JJQizmX1pIlS5g6dSo7d+7E19eXggUL0q5dOz744AOrfX/44QcgetXDxo0bJ/ZUxPLZZ58RGhrK/v37CQ4Opnv37ly+fNlqwS2AVq1aceTIEf766y8uXLgAEO98Xgk1cOBAQkJC2LhxI0FBQXTo0IGrV6+ybds243xnzpyZli1bcuLECXx9fYmKiqJgwYI0b96c1q1bG33t3r0bgEaNGr1STK+LTdSLZjkTkRRp+PDh3Lt3jwkTJhAZGcm9e/f4448/mDdvHh4eHsbkilFRUXTs2JHg4GCGDBlCgQIFuHPnDnv27KFOnTqUKlWKmTNn8sMPP1C6dGmGDRvG48ePGTlyJCVKlGDatGkAtGjRgixZsjBy5EgeP37MpEmTOHPmDAMGDDASZiaTidmzZ1OnTh0jztu3b1OjRg0mTJhAjRo1SJ06NY6OjkyfPp1ffvmF4cOHU7ZsWYKCgjh27Bjp06enRYsW+Pv7U69ePby8vGjdujV///0333zzDXfv3uXw4cNxlhY/z8GDB+ncuXOsfX19falduzbe3t5GMufRo0eUL1+exYsX4+Hhwfnz52nbti2tWrWidevWpE2blkuXLvHXX3/xxRdfxHk8s9lM1apV+frrr405wx4/fky3bt0IDQ1l9uzZpE2b1mifNWtWYzLM5s2bkyNHDoYMGcLdu3cZOnQorVu3Nsq4b9y4QZMmTejQoQOtWrXiwIEDfPXVV8ybN8/48HDq1Cnat29Pv379aNiwIadOneLzzz9n7NixNG3a1Diul5cXFStWpG/fvgk6j2azmRMnTjBr2z+cvnIrEX8BEREREUlOpnw5WPZFp+QO44UuXbpEkyZNyJYtG7t27XqpkRqWz6ylS5eOt+rrbXLv3j3SpEljzGEVGBhI48aNuXfvHo0bNza+071IeHg4tWrV4v79+2zYsMFqLrOUQrP4irzB/vjjD6pWrYqnpycffvghBw8eZNSoUcyZM8d4sbaxsWH+/PmUL1+ezz77jAYNGjBw4ED8/Pysymnz5ctH3bp1+eijj+jWrRsmk4nRo0cbj3/11Vc8fPiQFi1aMHToULy8vGJNZhgXZ2dn+vXrx9SpU6lcubKxot+nn35Knz59mDdvHo0aNeLDDz9k9+7dRrXYO++8w8yZM9m5cyfNmjXjl19+YcCAAbH6N5lMrF279pXO44sULVqUJUuWcO3aNTp06ECLFi347rvvyJEjR7z72NnZ0bJlS6t5tP7++29OnjzJhQsXqFu3LlWrVjV+LCXWdnZ2zJ07F1tbW9q2bcuQIUNo3rw5n3zyidFP3rx5mTdvHn/99RfNmjVj0aJFjB8/3mocv6urK7NmzWLTpk289957zJkzhxEjRlglsG7fvs3x48etJuIXEREREUlOhQoVolGjRty9e9fqs7TE78SJE1SrVo3OnTvTs2dP6tevz71790iXLh09evRIcD/r16/n3r17NGrUKEUmsECVWCICzJw5kx07dvDrr78mdyiJcuPGDRo0aMCmTZsoUKBAcocTy927d3nvvfdYu3ZtrGF8KcHkyZN59OiRkVhMCFViiYiIiLyZ3pRKrKTwX6vEOn/+POPGjePixYsEBweTOXNmypUrR58+fazmu3obaE4sEXlj7d27lzZt2qTIBBZET67+1VdfcfPmzRSZxMqWLRtdu3ZN7jBEREREROQVFC1alGXLliV3GP8KJbFE5I3VsWPH5A7hhWLOD5bSdOvWLblDEBERERERSTDNiSUi9OvX740bSigiIiIiIiL/LUpiiYiIiIiIiIhIiqckloiIiIiIiIiIpHiaE0tERBItv3MWwp9GJncYIiIiIpJA7+bKmtwhiLwyJbFERCTRPu9S7z+xXLGIiIjI28QcGYmdrQZkyZtLV6+IiCSa2WxO7hDkDWc2mzl79qyuJXllupYkKel6kqSSUq8lJbDkTacrWERERJJFaGhococgbwldS5KUdD1JUtG1JJL0lMQSEREREREREZEUT0ksERERERERERFJ8ZTEEhERkWSRNm3a5A5B3hK6liQp6XqSpKJrSSTpaXVCERFJNK1MKK/Kzs6O4sWLJ3cY8hbQtSRJSdeTJJWUfC1phUJ5kymJJSIiiTZxzjYuX7+X3GGIiIiISCLkz5ON0Z82Tu4wRF6aklgiIpJoPn73uXD1TnKHISIiIiIi/yGqIRQRERERERERkRRPSSwREREREREREUnxlMQSERERERERkRSlXbt2mEwmDhw4kNyh/GsOHjyIyWTCZDLh6+ubLDGsWbMGk8nEoEGDkuX4L6IkloiIiIiIiMh/VP/+/Y3EyYABA17Y/ocffsDLy4uqVatSsmRJatWqxbBhw7hx40astufPn+eTTz6hYsWKlCxZkmrVqtG/f/8XHmPv3r0cP36cYsWKUbFiRWP7nDlzeP/99ylZsqQRc1hYmNW+R44cYdCgQXz66aeULVsWDw8P2rdvz44dO6zaRURE8OOPP9KkSRNKly6Nh4cHgwYN4tatWy+M71UNHz4ck8mEl5eX1fb06dPj5uaGm5sbDg4Orz2OuDRp0gQnJyc2b97MpUuXkiWG51ESS+QVzZw5k2bNmsXaVrlyZUwmU6wXy1ftW5LW6zzHV65coUqVKjx+/Pi19P8q7t+/T6VKlf6VN2kRERERSZnWrFnD1q1bE7XP0qVLOXz4MBkyZMDZ2Rl/f3+8vb1p37691efeI0eO0LZtW7Zt20ZERASFChUibdq07Ny584XHWL58OQBNmza12r5t2zauXbtG1qxZ4913//79bNmyhSdPnpAvXz6Cg4M5duwYffv2ZfPmzUa7zz//nAkTJnDhwgXy5MkDwMaNG+nQoQNBQUGJOicA4eHhid7nWSVKlGDlypWsXLmSHDlyvHJ/L8PBwYH69esTGRnJL7/8kiwxPI+SWPKfcPfuXcaPH0/dunUpVaoUlStXpl27dixfvpzQ0NAkPdbly5eZNWsWY8eOZd++fVSvXj1B+71qwut1sNwhMJlMlCxZkrp16zJr1iyePn36yv326dMn0e0Suh9Yl+LG93Pw4MGXfg4JMW3aNDp16kT69OkBCAsLY/jw4TRp0oTixYvH+1yWLVtGw4YNcXV1pX79+nh7e1s97uXlFefz6dGjR5z9ffHFF5hMJn788UdjW9asWWnevDnfffddkjxXEREREXmz+Pj4MH78eNzd3cmZM2eC92vdujW7du1iy5Yt7Ny5kw8++ACI/s61f/9+AKKiovj888958uQJTZo04c8//8Tb25vt27e/cHhgUFAQf/zxBwC1atWyemzevHkcPnyY1q1bx7t/4cKFWbhwIXPnzmXdunWsWLECW9vo1MeGDRsAePz4Mb/++isA3bp1Y+PGjfz222+kS5cOPz8/li1bFm//Mb9nbNmyxagM27hxI7du3eKjjz6iRo0auLq64urqynvvvcePP/5IVFQUAJ6enqxbtw6AQ4cOWX03iWs4YcyqrWXLluHp6Ym7uzs9e/bk7t27Rlzh4eF88cUXlClThkqVKjFr1iyGDRuGyWTC09PTaLdnzx7atm1LuXLlcHNzo27dunz66ac8fPjQaFOzZk0Aq6RfSqEklrz1bty4QYsWLfjzzz8ZMGAA3t7erFixgg8//JDdu3fz119/JenxfHx8AKhduzZOTk7JVgYan6ioqEQloapVq8a+ffvYtm0bXbt2ZdasWXz//fcvdWyz2UxkZORL7ZtY7u7u7Nu3z/hp2LCh8VwsP+7u7q/t+P7+/uzevZuWLVsa28xmM6lTp8bLy4tKlSrFud/y5cuZOnUq/fr1Y9OmTXzyySd8+eWX7Nq1y2gzc+ZMq+exceNG7OzsaNCgQaz+fvvtN06ePBnnnZyWLVuyYcMGAgMDX/0Ji4iIiMgb4+nTpwwePBhbW1smT56MnZ1dgvft3bs377zzjvF7uXLljH9bvvv8888/XLlyBYj+/tGgQQPKli1L586duXbt2nP7P3HiBE+fPiVjxowUKFDA6rGcOXNiY2Pz3P0bNGhA5cqVjd+LFy+Oo6OjVXyWuAAjwRWz34R+RxwyZAi3bt0id+7c2NjY8ODBA/bu3QuAi4sL6dOn5+LFi0yYMMGoLitWrBhZsmQBwNHR0Rg+aLnxHZ/jx4/zzTffYG9vT0hICLt372bixInG49OmTWPFihUEBwfj6OjITz/9xPbt2636uH//Pn379uXEiRNkyJCB/PnzExgYyJYtW6yqz0qVKgVAQECA8XdMKZTEkrfemDFjsLOzY82aNTRq1AgXFxfy5s1LnTp1mD9/vlVW2t/fn969e+Pu7k6ZMmXo378/9+7ds+pv/vz5VK5cGXd3d0aMGGE1BnvmzJn06tULgKJFi2IymQA4deoUXbt2xcPDg7Jly9KpUyf+/vtvYz9LDH379o2VKQfw9vbG09OTsmXLMmDAAKsy3cjISObNm4enpyeurq40bdrUqiTYks3fs2cPLVu2pFSpUhw9ejTB58/BwQEnJydy585Nhw4dqFy5spFQWbRokTGGvEaNGowZM4bg4GBj37Vr11KuXDl27txJo0aNKFWqFCNGjGDdunXs3LnztVZEWeK2/KRJkybWtphvYq9yjuOyZcsWTCYTzs7OxrZ06dLx5Zdf0qZNG5ycnOLcb/369bRt25ZGjRqRN29eGjduTNu2bVmwYIHRJnPmzFbP488//yRNmjSxkli3b99m3LhxTJkyBXt7+1jHKly4MDly5OC33357/skUERERkbfKrFmzOHnyJKNHjyZv3rwv3Y/ZbGbFihUA5M2b17hRGzPxsXHjRtKkSQNEfzfx8vJ67qTl169fByBXrlwvTFglxPr16wkKCsLGxsao4EqfPj3VqlUDYOHChTRp0oS6desSEhICRH+OToj69euzd+9etm3bRtOmTcmTJw87d+5kz549rFu3jn379lG+fHkANm3aBMDs2bONSqeYwwdLlCjx3GOZzWZWrlzJtm3bqFu3LoBR1RYSEmJUjzVo0IAdO3awbdu2WN8B/P39iYiIwNHRkS1btrB+/XoOHTrEqlWrrIZoZs6c2Uj8WYo0UgolseSt9uDBA/788086duxIunTp4mxjeWGMjIykT58+PHz4kCVLlrBo0SJu3LhhNbnh5s2bmTlzJgMGDGDNmjU4OTkZGXWILkWdMGECgFElAxAcHEzz5s1Zvnw5K1euJH/+/PTo0cNIlKxevRqACRMmsG/fPuN3iH7R2LlzJ3PnzjXKZ2MmNObNm4e3tzdffvklmzZtokuXLgwZMoRDhw5ZPc+pU6cyaNAgNm/ejMlkYu3atUaSLTFSp05NRESEce5GjhzJxo0bmThxIgcOHGDy5MlW7Z88ecKCBQsYP348GzduZNSoUbGqol5nRVRCJNU5junIkSOULFky0bGEh4eTOnVqq22pU6fm9OnTxnl/1po1a2jcuLHVNR4ZGcmQIUPo3r07hQsXjvd4rq6uiUpqioiIiMib7fTp08yfP58mTZrQuHFjzGazUZUUFRWF2WxO0E9QUBB9+/Zl3759ZM+endmzZ2NnZ4fZbLb63NqqVSs2bdrE2rVrsbOzIyQkhDVr1sTbr2VYm6OjY7xtYo7uiK8NRH9OHjFiBADDhg2jatWqxn5TpkyhQ4cO5MyZkxs3blCoUCHj83tcN4Dj4uXlZVRy2dnZYWdnx8KFC6lVqxYlSpSgWLFiHD58GIA7d+681N/LokiRIhQtWhSIrvICjIILHx8fY04uy43trFmz4uHhYdVH4cKFyZs3L8HBwVSqVIkWLVowfPhw7t69G+v7sqUy7GXmB3udUiV3ACKvk4+PD1FRUbz77rtW2z08PIz/5B06dGDIkCHs37+fCxcusHPnTnLlygXApEmTaNy4MadOncLV1ZXFixfz/vvvGxn8AQMGsH//fqMay9HRkYwZMwJYVdo8O3Rs3LhxlCtXjsOHD1OrVi0j650xY8ZYFTpRUVFMmDDBeBFp2rQp+/fvZ8CAAYSHhzNv3jwWLVpkJILy5s3L0aNHWbFiBRUqVDD6+eSTT6hSpYrxe4YMGWKdl+eJiopi//797Nu3j06dOgHQpUsX4/E8efLw6aefMnr0aMaMGWNsj4iIYMyYMcYLLkCaNGkIDw+Ptxrp35ZU5zgmf3//l0piVa1aldWrV1OnTh1KlCjBmTNnWL16NRERETx48CDWsMBTp05x4cIFvvrqK6vtCxYsIFWqVHTu3Pm5x8uRIwdnz55NdJwiIiIi8ma6ePEiZrOZrVu3GsPNLN+Ntm/fjru7O7Nnz463CAAgMDCQyZMnc/XqVXLlysXQoUN5/PgxJ06cAKwTH5kzZza2Z8iQgcDAQM6cOWNse5YliRUQEBBvm5iLE508eTLWFC5RUVGsWrUKb29v7O3t+frrr2nVqpVVm0yZMjF69GhGjx5t7NOwYUOABH9PypYtm9XvX3/9NatWrQKgQIECZMqUCR8fHx48ePDK06pYvmcCpEr1cqmc1KlTs3btWn799VdOnjzJ5cuX+fXXX/H29mbGjBnG8weMgosXDXP8tymJJf9Jq1evJjIyksGDBxsv2JcvXyZnzpxGAgugUKFCZMyYkStXruDq6srly5dp166dVV+lS5d+4XC4e/fuMWPGDA4dOkRAQACRkZGEhobi7+//wlhz585t9cKRI0cOAgICgOhS29DQULp162a1T0REBMWKFbPaZhnXbFG3bl2jDPV5du/ejbu7OxEREURFRfHee+/Rr18/IHqs+Lx587hy5QqPHz/GbDYTFhZGaGgoadOmBaLvYrxMxde/KanOcUxPnjyJVVGVEH369OHu3bu0bduWqKgosmXLRvPmzVm4cKFxlyem1atXU6RIEVxdXY1tZ86cYfHixaxdu/aFJdhp0qThyZMniY5TRERERN5scVX5W6qYSpYsScaMGenatSt37tyhdu3aDBw4EIhOgg0ePBh/f3/Kli3LzJkzyZw5s1U/RYsWZfr06Tx+/JiHDx9SunRp/Pz8jORW6dKlKV26dJxxBQUF8dNPP/HgwYN421hGvAC4ublZfe4ODw9nxIgRbN68mQwZMvDdd99ZzZFlcenSJbJmzWoUFCxcuJCrV68C0KhRo7hP2jOe/ax98uRJIPrG9Pfff09YWBht2rThwYMHVu0swystwxdfVf78+UmdOjVhYWHs2LGDhg0bcv/+/VjfUx8/fszly5fp1KkTXl5eAHTv3p19+/Zx5MgRI4kVGBhoTBOTP3/+JIkxqSiJJW+1fPnyYWNjY7wYWVjGfVtePF63YcOGERgYyMiRI3nnnXdwcHCgbdu28Q4PiymuLLul3Nfyojdv3jyruZeAWHcjLEmlxPLw8GDMmDHY29uTI0cOIx5fX1969uxJ+/btGTBgAJkyZeLo0aOMHDmSiIgI43hp0qRJkrHsr1NSneOYsmTJwqNHjxIdS5o0aZgwYQJjx44lICAAJycnVqxYgaOjY6ylhENCQozJ32M6cuQIAQEBVqu5mM1mvvnmGxYvXmw1SXxgYOBzlygWERERkbdLy5YtrRYfgug5ev38/GjUqBHTp083tvv6+uLn50dAQIAx+Xv//v2Nm/EhISH07t3baN+6dWtat26No6Mj/fr1Y8KECaxevZpjx45x9+5dzGYzTk5OtG/fPt7J5MuWLUuqVKl49OgRfn5+5MuXz3hs0KBBnDp1ymolvaZNm2JjY8OQIUOoV68eixcvNlbVS5cuHTNmzGDGjBlA9GiZ2bNnA9Gr9E2fPp18+fIRFBRkDPerW7dunAsmJUSRIkW4cOEC+/bto379+jx8+ND4XhFTwYIFgeibz02aNCFt2rQsXrz4pY4J0d/1OnTowKJFi9i4cSOnTp0iMDAw1vfNgIAA2rVrR6ZMmXB2diYiIsL4rhyz8OD06dNAdKWZJdaUQkkseatlyZKFKlWqsHTpUjp16vTcklgXFxdu3brFzZs3jWqsS5cu8ejRI2PMsYuLCydPnqR58+bGfpZs+/McO3aM0aNHU6NGDQBu3rwZKxtvb29vjN1OKBcXFxwcHPD39493WNurSps2bZzZ97///puoqCiGDx9uVAht2bIlQX3a29v/a6sUvqqXPcfFixfn0qVLL31ce3t7Y6njzZs3U6tWrViVWFu3biU8PJymTZtabW/WrFmsu03du3enWbNmsT6wXLx48bVdOyIiIiLy9omZGDl37pzVY5bJ0iF66hFHR0cWL17MtWvXyJo1K56engwaNOi5N1EzZMhAtWrV+P3339m1a5fVFCZ37tyJNdH4jRs3gP8b/mYZaQPRE7THnKQ9d+7cxr8LFy5M4cKFuX79OuHh4RQuXJjmzZvTpUuXl74J/9lnnxEaGsr+/fsJDg6me/fuXL58mXXr1lm1a9WqFUeOHOGvv/7iwoULAIn+LvisgQMHEhISwsaNGwkKCqJDhw5cvXqVbdu2GZVqmTNnpmXLlpw4cQJfX1+ioqIoWLAgzZs3N6bMgejROJDwirR/k5JY8tYbPXo07du3p1WrVvTr1w+TyYSNjQ2nT5/mypUrxioQlStXpkiRIgwePJgRI0ZgNpsZM2YMFSpUMIbide7cmeHDh1OyZEnKlCnDhg0buHjx4gtX9ChQoADr16+nVKlSPH78mEmTJsWqAsudOzf79++nTJkyODg4kClTphc+t/Tp0xuTyUdFRVG2bFmCgoI4duwY6dOnp0WLFvHu+9tvvzF16tQXrrIXn/z58xMREcGSJUvw9PTk6NGj/PLLLwnaN3fu3Ozbt48rV66QOXNmMmTIkODJE/9tL3uOq1atyqhRozCbzVZ3mS5dukRERIRRomt547cMTbx69SqnTp3Czc2NR48esWjRIi5evGi1fK6FZe4syxK9FlmyZIm1zd7enuzZs1vdSQkNDeXvv/82SsNFRERE5L8pZqX+i7bH1zYulsqsxOrQoQO///4769evt0piLVmy5IX79uvXjz59+nDixAlKly4db8VX9erVqV69eqJj8/Dw4J9//onzsezZszNnzpxY25/9LO/o6Mh3332XoL4nTpwYa/9+/foZU7xYPHr0iKFDhzJ27FggesRF48aNgf/7rpEpUyZjIbL4hIeHs3XrVmxtbWNNpZMSKIklb718+fKxbt065s2bx9SpU7l9+zb29vYUKlSIbt260aFDByB6PPOcOXMYN24cnTp1wsbGhmrVqvH5558bfTVq1AgfHx8mT55MWFgY9evXp3379lZjsuPy1Vdf8fnnn9OiRQty5crFgAEDmDRpklWbYcOGMXHiRFatWoWzs3OC3xw+/fRTsmbNyrx58/D19SVDhgwUL16cXr16PXe/oKCgWMMsE6No0aJ89tlnLFiwgGnTplGuXDkGDhzIsGHDXrhvmzZtOHToEK1atSIkJITFixfHWjkjIdauXctnn30W75tIUnmZc1y9enXs7Oz466+/rO5I9ejRAz8/P+N3S1Wf5TlERkayaNEirl69SqpUqfDw8ODnn38mT548Vv1fuXKFo0eP8sMPP7z087IsYlCuXLmX7kNEREREJKlVr14dd3d3jh8/zoEDB6hYsWJyh5TinThxgiFDhlCqVCnSpk3LiRMnCAwMJF26dPTo0SPB/axfv5579+7x3nvvUahQodcY8cuxiYprgKaIyBvgu+++4/Dhwwm6I5Mcli1bxq5du/j++++TO5Q4tWnTBi8vL5o0aZLgfcxmMydOnGD+qnP8ffHWi3cQERERkRSjyLs5+GHK81evfhtYPrM+rxLrbXP+/HnGjRvHxYsXCQ4OJnPmzJQrV44+ffqk+IW2EkOVWCLyxtq7dy9ffPFFcocRr7Zt2/Lo0SMeP36c4pamvX//PnXr1uW9995L7lBEREREROQVFS1alGXLliV3GK+dklgi8sZavXp1cofwXKlSpbJarSUlyZo1Kx999FFyhyEiIiIiIpJgti9uIiIiIiIiIiIikryUxBIRERERERERkRRPSSwREREREREREUnxNCeWiIgkWr7cWYl4GpncYYiIiIhIIuTPky25QxB5JUpiiYhIog3vU/8/s1yxiIiIyNvEHBmJna0GZcmbSVeuiIgkmtlsTu4Q5A1nNps5e/asriV5ZbqWJCnpepKkkpKvJSWw5E2mq1dERESSRWhoaHKHIG8JXUuSlHQ9SVLRtSSS9JTEEhERERERERGRFE9JLBERERERERERSfGUxBIREZFkkTZt2uQOQd4SupYkKel6kqSia0kk6Wl1QhERSTStTCivys7OjuLFiyd3GPIW0LUkSUnXkySVN+FaMpsjsbNTXYu8WZTEEhGRRJsyeTNXr9xN7jBERERE5CXky5+dESObJncYIommJJaIiCSa740ALl68ndxhiIiIiIjIf4hqB0VEREREREREJMVTEktERERERERERFI8JbFEREREREREJEVq164dJpOJAwcOJHco/xpfX19MJhMmk4mDBw8mSwwHDhzAZDLRrl27ZDl+fDQnloiIiIiIiMh/XP/+/dm6dSsAjRo1Yvr06c9t/8MPP/D7779z9epVAgMDcXJyokKFCnz88cfkzZsXgLVr1/LZZ5/F28fixYvx8PCI9/G9e/dy/PhxihUrRsWKFQG4desWc+bM4fjx49y6dYunT5+SO3duWrRoQefOnbG3twcgPDyc4cOHc/r0aa5du0ZUVBRubm6sXLnS6hhms5n58+ezadMm/Pz8AHB2dqZevXp8/PHHODg4vODMvbyZM2cya9YscufOza5du4ztDg4OuLm5AZA+ffrXdvznqVixIiVKlOD48ePs3buX6tWrJ0scz1IllogkGS8vL7766qtE7WMymdixY8driii24cOH06dPn0Tt87IxPnjwgEqVKuHr65voff8NAwYM4IcffkjuMEREREQkma1Zs8ZIYCXU0qVLOXz4MBkyZMDZ2Rl/f3+8vb1p3749jx8/BiBr1qy4ublZ/Tg5ORl9ZM+e/bnHWL58OQBNm/7fSorXr19nxYoV+Pr6kjt3bmxtbbl48SKTJk2y+i4SERHB+vXrCQkJeW4iaM6cOcyYMYOLFy+SI0cOsmfPztWrV5k3bx7Tpk1L1DmB6OTZq8qRIwcrV65k5cqVlChR4pX7e1nvvfceAD///HOyxfAsJbFEJFGGDx9ulLbG/Ll+/TozZ86kf//+SXq8gwcPYjKZePTo0QvbRkVFsWLFClq3bo27uzvlypWjZcuW/Pjjj4SGhiZpXAkxd+5cateuTZ48eYxt48ePp2XLlpQsWZJmzZrFud/mzZtp1qwZbm5u1KpVi4ULF8Zqs2zZMho2bIirqyv169fH29vb6vGIiAhmzZpFnTp1KFWqFE2bNmXv3r1WbXr37s3cuXMJCgp69ScrIiIiIm8kHx8fxo8fj7u7Ozlz5kzwfq1bt2bXrl1s2bKFnTt38sEHHwBw9+5d9u/fD0DNmjWNZIzlJ0uWLABUqVIFFxeXePsPCgrijz/+AKBWrVrG9kyZMjF+/HgOHjyIt7c3u3btMj5vb9iwwWiXNm1a9uzZw969eylWrFi8xzl69CgABQsWZNu2bWzfvp3cuXMD4O/vH+9+MYf8rVq1ig8++IBSpUoxb948njx5Qp8+ffD09KR06dKULFmSevXq8e233xpJLi8vL2bNmgWAn5+f0dfatWvjHE44c+ZMTCYTnp6ebNmyhQYNGlC6dGk6duzIlStXjLiioqKYMWMGHh4elCtXjrFjxzJt2jSjP4sTJ07wwQcf4OHhQalSpfD09KRPnz74+PgYbWrWrAlEV8SllO8MSmKJSKJVq1aNffv2Wf3kyZOHzJkzJ1u5K8CQIUP4+uuvqV27Nj/99BPe3t706dOHnTt38ueff/6rsYSGhrJ69Wref//9WI+1atWKRo0axbnfnj17GDJkCO3atWPjxo2MHj2aH3/8kaVLlxptli9fztSpU+nXrx+bNm3ik08+4csvv7QqQZ4xYwYrVqzg888/Z/PmzbRr146PP/6Ys2fPGm2KFClC3rx5Wb9+fRI+cxERERF5Uzx9+pTBgwdja2vL5MmTsbOzS/C+vXv35p133jF+L1eunPHv+Ibg7d27lwsXLgDQvXv35/Z/4sQJnj59SsaMGSlQoICxvWjRorRu3do4RqZMmShcuHCs49ra2lpVfcXHEveVK1eoX78+9erVw8/PjyJFiiT4Bv2XX37J+fPnyZcvH7a2toSHh7Nz507CwsIoUKAA2bJl4/r168yZM8cYpuni4oKzszMA9vb2RqVa1qxZn3us27dvM2TIEGxsbHjy5AlHjhxhxIgRxuNLly7lf//7H4GBgaRLl46tW7eyZMkSqz4iIyPp2bMnBw4cIFWqVLi4uBAaGsrOnTu5efOm0e7dd98lQ4YMPH36lBMnTiToXLxuSmKJSKI5ODjg5ORk9WNnZxdrOOGdO3fo0aMHrq6ueHp6smHDBjw9Pfnxxx+t+nvw4AF9+/bFzc2NevXqsXPnTiD67kbnzp0BKF++PCaTieHDh8cZ0+bNm9mwYQNTp06lV69euLq6kidPHurUqfPcsfZxxdOsWTNmzpxpte3OnTt8+OGHuLq6Urt27ReWW+/ZswcHBwdKly5ttX3UqFF07NjRmCfgWevXr6d27dq0b9+evHnzUrNmTXr27MmCBQuIiooy2rRt25ZGjRqRN29eGjduTNu2bVmwYIHRz6+//kqvXr2oUaMGefPmpUOHDtSoUSPW8MFatWqxadOm5z4XEREREXk7zZo1i5MnTzJ69Oh4P58mhNlsZsWKFQDkzZuXSpUqxdnu+++/B6ITUVWqVHlun9evXwcgV65c2NjYxNvuypUrRrVSmzZtEh17nz596NGjBwDXrl3Dx8cHGxsbihQp8sLhjhbu7u7s3buXTZs20atXL9KmTcumTZv4888/8fb2Zs+ePcaQyM2bNwMwZswYWrduDVgPH7RUP8Xn6dOnfPfdd2zZssWofjt+/DhPnjwBMEZxuLu7s3PnTnbs2GEkyywePnxIYGAgED1vmbe3N/v372fjxo0UKlTIaGdjY0OuXLkArCq0kpOSWCLy2gwbNow7d+6wZMkSZs6cycqVKwkICIjVbtasWTRs2JD169dTvXp1Bg8eTGBgILly5TKSSVu3bmXfvn2MHDkyzmNt2LCBd999lzp16sR6zMbGhgwZMrzSc/n222+pX78+v/76K02aNGHgwIFcvnw53vZHjhx5qfHr4eHhpE6d2mpbmjRpuHXrljHRZFxtUqdOzenTp4mIiACihxM+ewcsderUHDt2zGqbq6srp06dSpKx+yIiIiLy5jh9+jTz58+nSZMmNG7cGLPZbNw0jYqKwmw2J+gnKCiIvn37sm/fPrJnz87s2bOxs7OL1e706dPGCoNdunR5Yb8PHz4EwNHRMd42J06coFOnToSEhFC3bl369OljPJZQGzZsYNGiRRQoUIBdu3bx+++/kz9/fjZu3PjcSeljateunfH53M7ODltbW9avX0/9+vUpWbIkJpPJGP1w586dBMcWlwwZMuDp6QlglXAKCAjg8ePH3Lp1C4A6depgb29PunTpYiXGsmTJgru7OwB169Y1vt+cPXvWGO5pYRlpk1KGE2p1QhFJtN27dxsvehA9vPC7776zanP58mX++usvVq9eTalSpYDo+aDq1asXq78WLVoYkwYOHDiQJUuWcOrUKapXr06mTJkAyJYtGxkzZow3puvXr/Puu+++8nOLT4MGDYw7JZ9++il//fUXS5YsYcyYMXG29/f3J0eOHIk+TtWqVZkwYQL79+/Hw8OD69evG9VTd+/eJU+ePFStWpXVq1dTp04dSpQowZkzZ1i9ejURERE8ePCAHDlyULVqVX788UfKly9Pvnz52L9/P7/99lusN/QcOXIQERHB3bt3jbH/IiIiIvL2u3jxImazma1bt7J9+3bg/yYl3759O+7u7syePZt06dLF20dgYCCTJ0/m6tWr5MqVi6FDh/L48eM4h55Z5n/Kli0buXPnfuHwNEsSKyAgIM62R44cYfbs2YSFheHp6ckHH3zAmTNnEvDMrU2ZMoWIiAiqVatmfB6uVq0a165dM+b2epFs2bJZ/T5//nzmzZsHQO7cucmePTu3bt3i9u3bREZGJjrGmGJ+J4o5/NOSgEyoH3/8kQ0bNnDs2DEuX77Mtm3b2LRpE3fv3uXDDz802lkm6U/OaWNiUhJLRBLNw8PDKnmTNm3aWG2uXr1KqlSprKqR8ufPbySlYoo5wWC6dOlInz499+/fT1RMiX3RTqyYSTuA0qVLc+7cuXjbh4WFxaqWSog2bdrg4+NDz549efr0KenTp6dz587MnDkTW9vo4tk+ffpw9+5d2rZtS1RUFNmyZaN58+YsXLjQaDNy5EhGjRpFw4YNsbGxIW/evLRs2ZI1a9ZYHS9NmjQARvmxiIiIiPy3WCr5Y7JUM5UsWZKMGTPStWtX7ty5Q+3atRk4cCAQnQQbPHgw/v7+lC1blpkzZ5I5c+Y4j+Hv78+hQ4cA6NatG2XLln1hXEFBQfz00088ePAg1hQdS5YsYcaMGURFRTFo0KBY82tZKr8SwpKkOX/+vHHD1/I5P67vOXF5drjjyZMnAShQoADbtm3DbDbTu3dvbt++bdXO8lk8NDSUqKio5w6bTIj06dOTK1cubt68ye7du+nSpQsRERHs3r3bql1UVBTHjx+nZcuWxo36L774ghUrVnDkyBEjiRUVFWXMkZU/f/5Xii2pKIklIomWNm3aJH0Rs7e3t/rdxsYm0XcoChQoYLUqR0LF9Ubx9OnTRPfzrMyZMydoRcW44hkyZAgDBw7k3r17ZMmSxbgDZJmnIE2aNEyYMIGxY8cSEBCAk5MTK1aswNHR0ZgIMmvWrMyZM4ewsDACAwPJkSMHU6ZMiTXXgeUO17NlwyIiIiLydmvZsiUtW7a02ubp6Ymfnx+NGjUyJiCH6Llq/fz8CAgIMKp/+vfvb6zeFxISQu/evY32rVu3NpIjED3Z+NOnT8mQIQPt2rVL0ATyZcuWJVWqVDx69Ag/Pz/y5csHRM//NGHCBCB6qOGOHTvYsWOHsd+sWbOMyqj69etjY2NjJI/OnTtH3bp1jZicnZ2pV68e3t7eHD58mNq1a2NjY2M8r+bNmyfgTMZmMpn4/fffuXbtGp6enjx9+pSwsLBY7QoWLAjA/fv3adCgAZkyZWLq1KmvlMzq3r0748eP5/Dhw9SpU4fw8HBCQkKs2pjNZrp06YKjoyO5cuXC1taWS5cuGbFbXL16laCgIFKlShUrkZhcNCeWiLwW7777Lk+fPrVaDe/69etG0iShLAmuF41rb9KkCdeuXbN6A7OIioqKdwx31qxZrcalP378GF9f31jtni1hPnny5HOXBC5evLjxRvAy7OzscHZ2xsHBgU2bNuHu7h5rpRJ7e3ty5syJnZ0dmzdvplatWkYllkXq1Klxdnbm6dOnbN++ndq1a1s9fuHCBXLmzPnCVVBERERERGKKWcF17tw5Tp48afxY5mWC6IqqVatWAdGjDhI6LC1DhgxUq1YNwGoV7phzuQYHB1sd9+TJk1aP37hxAx8fHyOBFB4ejo+PDz4+Pkb8Y8eOZcCAARQuXJhHjx7x6NEjihYtyqhRoxg0aFBiTwsAPXv2pEWLFmTMmJHg4GAaN25M+/btY7WrVasWbdq0IXPmzFy7do2TJ08SGhr6Use06NSpE7179yZz5swEBQVRp04dY8X0mPN2tWvXjjx58nD79m2uX79O7ty56datG3379jX6slRwVa9e/ZXnGE4qqsQSkdfCxcWFypUr88UXXzBmzBhSpUrFxIkTSZMmTaLuLOTOnRsbGxt2795NjRo1SJ06NY6OjrHaNWzYkN9++41BgwbRu3dvqlSpQtasWblw4QI//vgjXl5ecU76XrFiRdatW4enpycZMmTgu+++i5UIguiJ5UuWLEnZsmXZsGEDp06dslqJ8VlVq1Zl2rRpPHz40GoI5fXr1wkJCeHu3bs8efLEKFV2cXHBwcGB+/fvs23bNipUqEB4eDhr1qxh69atLF261Ojj6tWrnDp1Cjc3Nx49esSiRYu4ePEiEydONNqcPHmS27dvU6xYMW7fvs3MmTOJjIy0Gt8OcPTo0ReuDCMiIiIi/w0xk0Uv2h5f22dlyJAh1uJCCdWhQwd+//131q9fT5cuXYDoqU3++eef5+5nuQF+9uzZF1Z9pU6dml69etGrV69ExZYnT55440iXLp3VZ3OLTz/91Op3W1tbxo0bx7hx42K1fbbvfv360a9fP6ttcVXTPX78GC8vL+NYYWFhRhKrWLFiQPTojy+//DL+J/f/bdiwAYj+O6QUSmKJyGvzzTffMHLkSDp27IiTkxMDBw7k0qVLiZorytnZmX79+jF16lQ+++wzmjdvHucbgo2NDVOnTmXFihWsWbOGuXPnYmdnR/78+WnevDlVq1aNs/+ePXvi6+tLz549yZAhA/3794+zEqtfv35s3ryZL7/8EicnJ6ZOnWq1GsizTCYTxYsXZ8uWLbRr187YPmrUKGM+APi/EuWdO3eSJ08eALy9vZk0aRJRUVGULl2aJUuW4OrqauwTGRnJokWLjHnHPDw8+Pnnn439IfrNasaMGdy4cYN06dJRo0YNJk2aZDURZFhYGDt27DCW4RURERERSUmqV6+Ou7s7x48f58CBA1SsWDG5Q0rxfH19adOmDa6urmTIkIG///6bO3fuYGdnFysJ9jz79+/n7NmzuLu7GxVxKYFN1OueDVlE5P+7desWNWrU4Mcff6RSpUrJHc5rt3v3biZNmsTGjRvjrO5KbsuXL2fHjh3G6ocJYVnK+McfTnP27M3XGJ2IiIiIvC6FCzszd3635A7jtbF8Zi1dunSC5t96m9y+fZvPPvuMs2fPEhQURPr06XFzc6NHjx6UK1cuucN7ZarEEpHXZv/+/YSEhFCkSBHu3r3L5MmTyZ0791vx4pkQNWvW5Nq1a9y+fZtcuXIldzix2NvbM2rUqOQOQ0REREREkoizs3OiblK/aZTEEpHX5unTp0yfPp0bN27g6OiIu7s7U6ZMibUa4dvMMnY/JYq5YoyIiIiIiEhKpySWiLw21apVS1Hjp0VEREREROTNlfImaREREREREREREXmGklgiIiIiIiIiIpLiaTihiIgkWp682YiIiEzuMERERETkJeTLnz25QxB5KUpiiYhIog0e0ug/t1yxiIiIyNvEbI7Ezk6Ds+TNoitWREQSzWw2J3cI8oYzm82cPXtW15K8Ml1LkpR0PUlSeROuJSWw5E2kq1ZERESSRWhoaHKHIG8JXUuSlHQ9SVLRtSSS9JTEEhERERERERGRFE9JLBERERERERERSfGUxBIREZFkkTZt2uQOQd4SupYkKel6kqSia0kk6Wl1QhERSTStTCivys7OjuLFiyd3GPIW0LUkSUnXkySVN+1a0kqF8qZQEktERBJt+uh1XLt4O7nDEBEREZFXlPfdHAyb2Dq5wxBJECWxREQk0fyu3+PSuZvJHYaIiIiIiPyHqF5QRERERERERERSPCWxREREREREREQkxVMSS0RERERERERSvHbt2mEymThw4EByh/KvOXjwICaTCZPJhK+vb7LEsGbNGkwmE4MGDUqW48ekJJaIiIiIiIiIGPr3728kTgYMGPDC9j/88ANeXl5UrVqVkiVLUqtWLYYNG8aNGzes2vn6+jJ8+HBq1apFqVKlqF+/PgsWLCAyMvKFx9i7dy/Hjx+nWLFiVKxY0dg+Z84c3n//fUqWLGnEHBYWFmv/Xbt20aFDBypUqIC7uzudO3fm2LFjL/U8Xofhw4djMpnw8vKy2p4+fXrc3Nxwc3PDwcHhtccRlyZNmuDk5MTmzZu5dOlSssRgoSSWiDBz5kyaNWsWa1vlypUxmUzs2LEjSftOSSx3Nh49epTkfYeHh1O3bt1Yb44pRZs2bdi2bVtyhyEiIiIiKciaNWvYunVrovZZunQphw8fJkOGDDg7O+Pv74+3tzft27fn8ePHANy/f5/WrVuzbt06AgMDKViwIDdu3GDKlClMmDDhhcdYvnw5AE2bNrXavm3bNq5du0bWrFnj3Xft2rX07t2bo0ePkj59erJkycLBgwfp3LkzJ0+eTNTzSIzw8PBE7/OsEiVKsHLlSlauXEmOHDleub+X4eDgQP369YmMjOSXX35JlhgslMQSeUPcvXuX8ePHU7duXUqVKkXlypVp164dy5cvJzQ0NEmPdfnyZWbNmsXYsWPZt28f1atXT9B+r5rwSmqWOzHx/cycOfO1Hv+XX34hT548lClTxtj2v//9j3bt2uHm5ka5cuXi3G///v20a9cOd3d3qlSpwuTJk3n69Knx+MyZM+N8PqVLlzbarFy5kg4dOlC+fHnKly9Ply5dOHXqlNVxevfuzdSpUxN050tERERE3n4+Pj6MHz8ed3d3cubMmeD9Wrduza5du9iyZQs7d+7kgw8+AKK/w+zfvx+ALVu2cP/+fSD6s+qvv/7KmDFjAFi2bBk3b8a/8nVQUBB//PEHALVq1bJ6bN68eRw+fJjWrVvHu78lAebq6srOnTvZuXMnZcuWJSIigm+//TZRzyMuMYf8bdmyxagM27hxI7du3eKjjz6iRo0auLq64urqynvvvcePP/5IVFQUAJ6enqxbtw6AQ4cOGX0dPHgwzuGEMau2li1bhqenJ+7u7vTs2ZO7d+8acYWHh/PFF19QpkwZKlWqxKxZsxg2bBgmkwlPT0+j3Z49e2jbti3lypXDzc2NunXr8umnn/Lw4UOjTc2aNQHYvHlzvOfh36Aklsgb4MaNG7Ro0YI///yTAQMG4O3tzYoVK/jwww/ZvXs3f/31V5Iez8fHB4DatWvj5OSUbGWr8YmKirJK6sRn3759xs+IESNInz691bZu3bq91hiXLVvG+++/b7U9IiKCBg0a0L59+zj3O3/+PB999BFVq1bF29ub6dOns2vXLqZOnWq06datm9Xz2LdvH4UKFaJBgwZGm4MHD9K4cWMWL17ML7/8Qq5cuejWrRu3b9822lSvXp3g4GD27t2bxM9eRERERN40T58+ZfDgwdja2jJ58mTs7OwSvG/v3r155513jN9j3qy1fJewJGwAbG2jUxE2NjYAmM1mDh48GG//J06c4OnTp2TMmJECBQpYPZYzZ06jn/hYbtpa2tnY2Bj/PnToEBEREQl+Hi8yZMgQbt26Re7cubGxseHBgwfG520XFxfSp0/PxYsXmTBhgpFcK1asGFmyZAHA0dHRGD6YPn365x7r+PHjfPPNN9jb2xMSEsLu3buZOHGi8fi0adNYsWIFwcHBODo68tNPP7F9+3arPu7fv0/fvn05ceIEGTJkIH/+/AQGBrJlyxaCgoKMdqVKlQIgICCAK1euJOhcvA5KYom8AcaMGYOdnR1r1qyhUaNGuLi4kDdvXurUqcP8+fOtsuj+/v707t0bd3d3ypQpQ//+/bl3755Vf/Pnz6dy5cq4u7szYsQIqzHjM2fOpFevXgAULVoUk8kEwKlTp+jatSseHh6ULVuWTp068ffffxv7WWLo27dvrMw+gLe3N56enpQtW5YBAwZYleNGRkYyb948PD09cXV1pWnTplYlzJa7D3v27KFly5aUKlWKo0ePvvC8OTk5GT8ZMmTAxsbGapujo6PR9u+//6Zly5a4ubnRrl27WC/MO3bsoEWLFpQqVYratWsza9as5ybSzpw5g4+PDzVq1LDa/sknn9ClSxeKFCkS536bN2/GZDLx8ccfkz9/fipUqMCQIUNYtmyZcc4cHR2tnkdAQACXLl2ySphNnTqVjh07UqxYMVxcXBg/fjyRkZFWd5Ds7OyoXr06mzZteuG5FBEREZG326xZszh58iSjR48mb968L92P2WxmxYoVAOTNm5dKlSoBUKNGDdKlSwdEVzw1a9bMqMQCrG62Puv69esA5MqV64UJq7g0bNgQgJMnT1K7dm1q167NkSNHgOibzA8ePEjw83iR+vXrs3fvXrZt20bTpk3JkycPO3fuZM+ePaxbt459+/ZRvnx5AONz+OzZs41Kp5jDB0uUKPHcY5nNZlauXMm2bduoW7cugDHpfUhICMuWLQOgQYMG7Nixg23btmFvb2/Vh7+/PxERETg6OrJlyxbWr1/PoUOHWLVqldUQzcyZMxvfnyxFD8lBSSyRFO7Bgwf8+eefdOzY0XjRf5blhTwyMpI+ffrw8OFDlixZwqJFi7hx44bVZIybN29m5syZDBgwgDVr1uDk5GTcAYDoKh/LmHRLlQ9AcHAwzZs3Z/ny5axcuZL8+fPTo0cPI7GyevVqACZMmMC+ffuM3yH6RW7nzp3MnTvXKPddsGCB8fi8efPw9vbmyy+/ZNOmTXTp0oUhQ4Zw6NAhq+c5depUBg0aZCR6ktL06dMZPnw4a9aswc7OjhEjRhiPHTlyhGHDhtG5c2c2b97M2LFjWbt2LXPnzo23v6NHj1KgQIEX3j15Vnh4OKlTp7baliZNGsLCwqyShjGtWrWKAgUKxDs8ESA0NJSnT5+SKVMmq+2urq4JSgiKiIiIyNvr9OnTzJ8/nyZNmtC4cWPMZrNRORUVFYXZbE7QT1BQEH379mXfvn1kz56d2bNnY2dnh9ls5p133mHhwoV4eHhga2vLnTt3aN68ufFdxtbWNt5+LcPaHB0d420Tc4oMs9ls9fw+/PBDhg0bxrvvvktAQACpU6e2uumeKlUqq/YhISHG83BycmLu3LkJrsTy8vIyKs3s7Oyws7Nj4cKF1KpVixIlSlCsWDEOHz4MwJ07dxLzZ4qlSJEiFC1aFIiu8gKMAgYfHx9jTi7LiI2sWbPi4eFh1UfhwoXJmzcvwcHBVKpUiRYtWjB8+HDu3r0b6/un5btNzAqtf1uqFzcRkeTk4+NDVFQU7777rtV2Dw8P40WpQ4cODBkyhP3793PhwgV27txJrly5AJg0aRKNGzfm1KlTuLq6snjxYt5//31jzPiAAQPYv3+/UY3l6OhIxowZgehKJotn7zyMGzeOcuXKcfjwYWrVqmVk6TNmzGi1H0S/8U2YMMF40WvatCn79+9nwIABhIeHM2/ePBYtWoS7uzsQfafj6NGjrFixggoVKhj9fPLJJ1SpUuUVzmb8BgwYYByrR48e9OjRg7CwMFKnTs2sWbPo0aMHLVq0MOLr378/kydP5uOPP46zPz8/v5eaeLFq1ar89NNPbNy4kYYNG3Lv3j1mz54NYDW+3SIsLIwNGzbw0UcfPbffKVOmkCNHDipXrmy1PUeOHNy8eZPIyEjjzVZERERE/lsuXryI2Wxm69atxnAzy3eN7du34+7uzuzZs+O9qQ4QGBjI5MmTuXr1Krly5WLo0KE8fvyYEydOWLXr37+/8e8LFy4YN7+joqJitbWwJLECAgLibXPr1i3j32fOnLFKOtnY2NCtWzer6US++OILILrCyDKUD6I/c/fs2ZO///6bAgUKsHDhwkRVpmXLls3q96+//ppVq1YBUKBAATJlyoSPjw8PHjx45blpLd/bIHYiLqFSp07N2rVr+fXXXzl58iSXL1/m119/xdvbmxkzZhhVbIBRwJDYG/VJSUkskTfU6tWriYyMZPDgwcYbzOXLl8mZM6eRwAIoVKgQGTNm5MqVK7i6unL58mXatWtn1Vfp0qWfOwYdojP6M2bM4NChQwQEBBAZGUloaCj+/v4vjDV37txWL3Q5cuQgICAAiC4NDg0NjTU/VUREBMWKFbPaZhmH/TrErOyyJOECAgJ45513OH/+PMeOHbOqvDKbzYSFhREaGkratGlj9WdJgCVW1apVGTp0KKNHj2bo0KE4ODjQp08fjhw5EmeS6bfffiM4ONhIsMVl/vz5bN68mcWLF8dZ5RUZGUl4eDhp0qRJdLwiIiIi8vawzA0Vk6XSqWTJkmTMmJGuXbty584dateuzcCBA4HoJNjgwYPx9/enbNmyzJw5k8yZM8fq6+jRo5QuXRo7OzsePnzI5MmTAciSJQsdOnSI83M1RFf+/PTTTzx48MBqMaOYLCNIAEqWLMmFCxeM3wMCAnjw4AGFChUC4PDhw8ZE6o0aNTKqwS5evEjPnj3x8/OjXLlyzJ49O87n8TzPDne0rH5YtWpVvv/+e8LCwmjTpk2sIYyWz+IhISGJOl588ufPT+rUqQkLC2PHjh00bNiQ+/fvx/re9/jxYy5fvkynTp3w8vICoHv37uzbt48jR44YSazAwECCg4ONvpOLklgiKVy+fPmwsbHh6tWrVtstdwP+rcTDsGHDCAwMZOTIkbzzzjs4ODjQtm3bON/onhXXXQFLebLlRXrevHk4OztbtXm2ZDe+N7WkEDPGmMMzLTH269ePevXqxdovvkRVlixZrN44E6Nr16506dKFO3fukClTJvz8/Jg6dSp58uSJ1XbVqlXUrFmT7Nmzx9nX999/z/z581m0aJFRahzTw4cPSZcunRJYIiIiIv9hLVu2pGXLllbbPD098fPzo1GjRkyfPt3Y7uvri5+fHwEBAcbk7/379zduboeEhNC7d2+jfevWrY1RIGPHjuX27dvkzJmTGzduEBoaip2dHV9++eVzq3vKli1LqlSpePToEX5+fuTLl894bNCgQZw6dcpqJb0WLVoQHh7OiBEjaNCgAf7+/rz//vvkzp0be3t7rl+/TlRUFPny5bOqDPv444/x8/MDoqdT6dGjR5zPIzGKFCnChQsX2LdvH/Xr1+fhw4dWk9xbFCxYEIiuImvSpAlp06Zl8eLFiT6eRdq0aenQoQOLFi1i48aNnDp1isDAwFjf3wICAmjXrh2ZMmXC2dmZiIgI47tnzBv9p0+fBqIrzSyxJgeNHRFJ4bJkyUKVKlVYunTpC7PyLi4u3Lp1y2p52kuXLvHo0SNjjLSLi4txN8Di2d/jcuzYMby8vKhRowaFCxfGwcEh1t0De3v7WOPPX8TFxQUHBwf8/f3Jnz+/1U/MirLkVLx4ca5evRorvvz588c7BK9YsWJcuXIlzjeohLCxscHZ2Zk0adKwceNGcuXKFWtixxs3bnDw4MFYKyBaLFiwgDlz5rBw4cJ4q9guXLgQq+JNRERERCQxYiZGzp07x8mTJ42fmMP8qlSpQvr06bl69Sp2dnbGVBr169d/bv8ZMmSgWrVqAOzatcvqsTt37uDj42OVxLpx4wa3b982hr9ly5aNChUqEBwcjK+vLzlz5qRTp06sWLHCqtIqoc8jMT777DNq165NunTpCA4Opnv37tSqVStWu1atWlG/fn0yZMjAhQsXOHnyZKK/Wz1r4MCBtG3bFkdHR4KCgujQoQPVq1cH/u9mfObMmWnZsiXZsmXD19eXW7duUbBgQQYOHGiVtNu9ezcQXbmWnFSJJfIGGD16NO3bt6dVq1b069cPk8mEjY0Np0+f5sqVK0Zyo3LlyhQpUoTBgwczYsQIzGYzY8aMoUKFCkYSo3PnzgwfPpySJUtSpkwZNmzYwMWLF184zrtAgQKsX7+eUqVK8fjxYyZNmhSreid37tzs37+fMmXK4ODgEGsS8bikT5/emEw+KiqKsmXLEhQUxLFjx0ifPv1zh8n9W/r27UuvXr145513qF+/Pra2tpw/f54LFy5YTZofk4eHByEhIVy8eNFqJUJ/f38ePnyIv78/ZrOZc+fOAdEVd5bVPhYuXEi1atWwtbVl+/btLFiwgBkzZsRa5tgyMb/ljSim+fPn89133zF16lRy585tzKeVLl06q1UZjx49+trmGRMRERGRN9ezyaLnbY+v7bM+++wzPvvss5eKp0OHDvz++++sX7+eLl26GNuXLFkSq63ZbObEiRPG0MN33nknznbPSujzeJaHhwf//PNPnI9lz56dOXPmxNo+ceJEq98dHR357rvvEtT3xIkTY+3fr18/+vXrZ7Xt0aNHDB06lLFjxwLRQwIbN24MYNzIzpQpk7GwV3zCw8PZunUrtra2saam+bcpiSXyBsiXLx/r1q1j3rx5TJ06ldu3b2Nvb0+hQoXo1q0bHTp0AKKrd+bMmcO4cePo1KkTNjY2VKtWjc8//9zoq1GjRvj4+DB58mTCwsKoX78+7du3txpDHpevvvqKzz//nBYtWpArVy4GDBjApEmTrNoMGzaMiRMnsmrVKpydnRP8JvDpp5+SNWtW5s2bh6+vLxkyZKB48eL06tXrufv5+vpSu3ZtFi9eHGuVjaRUrVo15s6dy+zZs1mwYAGpUqWiYMGCzy0nzpIlC3Xq1GHDhg0MGjTI2P7dd98Z4+8BmjdvDmD1HPbu3cvcuXMJDw+naNGizJ49mxo1alj1HxkZybp162jZsmWs5BbAL7/8QkREBJ988onV9o8//th4c7t9+zbHjx835iIQEREREUmpqlevjru7O8ePH+fAgQNUrFgxuUNK8U6cOMGQIUMoVaoUadOm5cSJEwQGBpIuXTqroZIvsn79eu7du8d7771nzCuWXGyiXnasi4hIMjtw4AD9+vVjx44dCar6+redP3+ebt268dtvv1lVP6UUkydP5tGjR4wbNy7B+1juai2dcZhzJ31fY3QiIiIi8m8oVCwXs1b0Te4wklTMSqy4bvj+V5w/f55x48Zx8eJFgoODyZw5M+XKlaNPnz5W8129SVSJJSJvrD179tCzZ88UmcACKFq0KIMHD8bX1zdFvklky5aNrl27JncYIiIiIiLyGhQtWpRly5YldxhJSkksEXljDRs2LLlDeKFnV3lJSbp165bcIYiIiIiIiCSYVicUEREREREREZEUT0ksERERERERERFJ8ZTEEhERERERERGRFE9zYomISKLlzp+diHBzcochIiIiIq8o77s5kjsEkQRTEktERBJtwJct/tPLFYuIiIi8TczmSOzsNFBLUj5dpSIikmhms6qw5NWYzWbOnj2ra0lema4lSUq6niSpvGnXkhJY8qbQlSoiIiLJIjQ0NLlDkLeEriVJSrqeJKnoWhJJekpiiYiIiIiIiIhIiqckloiIiIiIiIiIpHhKYomIiEiySJs2bXKHIG8JXUuSlHQ9SVLRtSSS9LQ6oYiIJJpWJpRXZWdnR/HixZM7DHkL6FqSpKTrSZLKf/1aijRHYqvJ4uU1UBJLREQSbcagZVw965/cYYiIiIhICpOvcE6Gzu6S3GHIW0pJLBERSTTfy7e5fPpGcochIiIiIiL/IarvExERERERERGRFE9JLBERERERERERSfGUxBIRERERERGR/5x27dphMpk4cOBAcofyr1m7di0mkwmTyZRsMXz33XeYTCamTZuW6H2VxBIRERERERGR16Z///5G4mTAgAFJtu9nn31GvXr1cHd3p3Tp0tSpU4fx48cTGBj4wn737t3L8ePHKVasGBUrVgTgyZMnfPzxx3h6euLq6kqZMmVo2LAh06dPJywszNj3zp07fPrpp3h6esYbm6+vr/FYXD8zZ85M1HlILC8vL0wmE8OHD7fanjVrVtzc3HBzc3utx3+eTp064eDgwJIlS7h//36i9lUSS5KEyWRix44dyR0G8H8vFufOnXvtx0pJzzslxRIXLy8vvvrqq+QOI5a1a9dSrly519L3gwcPqFSpEr6+vq+l/1fVpk0btm3bltxhiIiIiMhbbM2aNWzduvW17Ltr1y7MZjPvvvsuWbJk4caNGyxZsoShQ4e+sO/ly5cD0LRpU2NbeHg4u3fvJlWqVBQqVIh06dJx5coV5s6da/VdJiAggC1btmBjY0Pq1Knj7N/BwcFIFll+3n33XeNxJyenF8YYU1RUFBEREYnaJy41a9Zk5cqVrFy58pX7ellZs2alSpUqhISEsH79+kTtqySWvND9+/cZPXo0NWvWpGTJklSpUoXu3btz9OjR5A7tjROzdLNo0aJUrVqVTz/9FH9//+QOLckcPHgQk8nEo0ePrLbPnDmT/v37/2txvOjOh8lkYu3ata81hrlz51K7dm3y5MljbBs/fjwtW7akZMmSNGvWLM79Nm/eTLNmzXBzc6NWrVosXLgwVptly5bRsGFDXF1dqV+/Pt7e3vHGsWnTJkwmE3369LHa3rt3b6ZOnUpkZOTLPUERERERkefw8fFh/PjxuLu7kzNnziTfd+/evezcuZO1a9fy+++/U7ZsWQCOHTv23L6DgoL4448/AKhVq5axPUOGDBw7dozt27ezdu1adu/ebXyWP378uNHu3Xff5cCBA+zcuZPs2bPHeYwcOXIYySLLT+XKlQHIlCkTTZo0iTe+mN8b9+7dS+PGjSlRogTHjh3j3LlzfPDBB1StWpWSJUtSunRpWrVqxa+//mrsbzKZOHToEADr1q0z+vL19Y1zOKGlamvo0KF89913VK1alfLlyzN48GAeP35stHv48CGffvopbm5u1KxZk+XLlxv7enl5Ge28vb1p1qwZ7u7uuLu707BhQ4YMGWL1HGvWrAnAxo0b4z0PcUmVqNbyn9SvXz8iIiKYOHEiefPmJSAggP379yeoRFNiS58+PVu3biUqKgpfX1++/PJL+vfvz6pVq5I7tNcqc+bM/+rxcuXKxb59+4zff/jhB/744w8WLVpkbMuQIQObN29+LccPDQ1l9erVfP/997Eea9WqFSdPnuSff/6J9diePXsYMmQIo0aNomrVqly+fJlRo0aRJk0aOnXqBETfNZo6dSrjx4+nVKlSnDp1ilGjRpExY0Y8PT2t+vP19eWbb76Js9qsevXqjBo1ir179xpvIiIiIiIiSeHp06cMHjwYW1tbJk+ezAcffJDk+6ZOnZoZM2bw559/EhAQgJ+fHwBlypR5bv8nTpzg6dOnZMyYkQIFChjbbWxscHBwYOTIkfzzzz/cunWLu3fvxuozTZo0pEmTJsHPB6JHaVhuordv3x5HR8cE7denTx9y5MhhJPL8/Pw4dOgQuXLlonDhwvj5+XHmzBmGDh1KpkyZqFmzJm5ubly6dIng4GCyZMlCvnz5gOjqsOfZvHkzDg4OZMmShbt377JhwwZy585tDJUcNWoU27dvN87B5MmTY/Vx/vx5hg8fTlRUFPnz5yd16tT4+vpy5coVq/aurq4AnDt3jpCQENKlS5eg86FKLHmuR48eceTIEQYPHkzFihXJnTs3rq6u9OzZk9q1a1u1ffDgAX379sXNzY169eqxc+dO4zGz2cyIESOMscX169fnp59+Mh6/cOECRYsWNcbDBgYGUrRoUatxxXPmzKF9+/ZAdAZ40KBBVKxYEVdXV+rVq8eaNWus4rlx4wZeXl64ubnRtGlTq8z5gwcPGDhwINWqVcPNzY0mTZrEygB7eXkxfvx4Jk2aRIUKFahSpcoLxy1bstbnz5+Pt42NjQ1OTk7kyJGDMmXK8P7773Pq1CmrDPeOHTto0aIFpUqVonbt2syaNYunT58aj1+7do2OHTtSqlQpGjVqxJ9//hnrODdv3qR///6UK1eOChUq0Lt3b6thbcOHD6dPnz7MnTuXypUrU65cOeM433zzDRUqVKB69epW59VS3bRp0ybatWtHqVKleO+994wsv6+vL507dwagfPnyVmOwnx1O+PDhQ4YOHUr58uVxc3Pjww8/5Nq1a8bjlmF+f/zxBw0bNsTd3Z3u3btz586d5/4NLOzs7HBycjJ+0qVLF2tbzDeeFx1n1apVNGzYkFKlStGgQQOWLVv23OPv2bMHBwcHSpcubbV91KhRdOzYkbx588a53/r166lduzbt27cnb9681KxZk549e7JgwQKioqKMNm3btqVRo0bkzZuXxo0b07ZtWxYsWGDVl9lsZvDgwfTr1y/O49nZ2VG9enU2bdr03OciIiIiIpJYs2bN4uTJk4wePTrez75Jse/169c5deqUkcCqXLky06dPf+E+EH3j28bGJtbjFy9e5PTp00YCq0mTJowaNSpRz+FZy5cvJzQ0FAcHB+PmdEJ06dKFXbt2sWvXLsqVK4ebmxt//PEHu3btYt26dfzxxx/kz58fwPhcv3LlSkqUKAFYDx/MkSPHc4/l4ODAli1b+O2334z99+/fD0RXxlkSWN26dWPr1q2sXr2a8PBwqz6uX79OVFQUBQoUYOvWrWzYsIEjR46wdOlSq3bvvPMOEJ2wtPztEkJJLHmudOnSkS5dOnbs2BHr4nzWrFmzaNiwIevXr6d69eoMHjzYqNaKjIwkZ86cfPvtt2zatIm+ffsyffp0owqmcOHCZM6c2UiGHDlyhMyZM3P48GGj/8OHD1OhQgUAvv32Wy5fvsyCBQvYvHkzY8aMIUuWLFbxTJ8+ne7du+Pt7U2BAgUYNGiQkQgKDw+nRIkSzJ8/n40bN9KmTRuGDh3KqVOnrPpYt24d6dKlY+XKlQwZMoTZs2fHmTCKiopi3LhxeHt7s2zZMooWLZqg8xsQEMBvv/2GnZ0dtra2xnMfNmwYnTt3ZvPmzYwdO5a1a9cyd+5c41z269cPe3t7Vq1axZdffsmUKVOs+o2IiKB79+44OjqybNkyfv75Z9KlS8eHH35o9Xc8cOAAd+7cYenSpQwfPpyZM2fSs2dPMmXKxMqVK2nXrh2jR4/m1q1bVv1PmjSJrl274u3tTenSpenVqxcPHjwgV65cRqJv69at7Nu3j5EjR8b53IcPH86ZM2f43//+x4oVK4iKiqJHjx5W47yfPHnCDz/8wKRJk1i6dCk3b97km2++SdC5TYwXHWf9+vV8++23DBgwgM2bNzNw4EC+++471q1bF2+fR44cMV74EyM8PDzWuPo0adJw69Yt48U9rjapU6fm9OnTVudv9uzZZMuWjdatW8d7PFdXVw0NFhEREZEkdfr0aebPn0+TJk1o3LgxZrPZuCEbFRWF2WyO9+fkyZOJ2nfKlCmcPHmSNWvWULhwYf766y/Gjh373PiCgoIA4q2GWrlyJadPn2bZsmXkyJGDDRs2MGfOnJc+H+Hh4VZzcCVmPqyYVWh2dnbY2NgwceJEqlatSvHixXF1dTWScgm94R+fihUr4uzsjK2tLQULFgTg3r17QHRiz6Jhw4YAuLi4xFrlsEyZMmTKlIlr167h4eFB69at+fLLL2MdK3369Ma/LX+PhFASS54rVapUTJw4EW9vb8qVK0e7du2YNm1anJVGLVq04L333iN//vwMHDiQkJAQIylkb2/PJ598QqlSpcibNy9NmzalZcuWxiR9NjY2lC9f3khiHTp0iJYtWxIeHs7ly5eJiIjg+PHjRhLL39+fYsWKUapUKfLkyUPlypVjDaPq1q0bNWvW5N133+WTTz7Bz8/P+M/t7OxM9+7dKVasGHnz5sXLy4tq1aqxZcsWqz5MJhMff/wxBQoUoHnz5pQsWdLIRFtYSl3379/Pzz//bGTB4xMUFGSsnlG5cmUOHjxIhw4djPLJWbNm0aNHD1q0aEHevHmpUqUK/fv355dffgHgr7/+4sqVK3zzzTcULVqU8uXLx1oJY/PmzURGRvLVV19hMplwcXFhwoQJ3Lx50zjHED3Eb9SoURQsWJD333+fd999lydPntCrVy8KFChAz549sbe3j5Xk6NixI/Xr18fFxYUxY8aQIUMGVq9ejZ2dHZkyZQIgW7ZsODk5kSFDhljn4Nq1a+zatYvx48dTrlw5ihYtypQpU7h9+7bV5PQRERF8+eWXlCpVihIlStCxY8fXsvzti44zc+ZMhg8fTr169cibNy/16tXjgw8+YMWKFfH26e/v/8I7HXGpWrUqv/32G/v37ycyMpKrV6/yww8/ABh3gqpWrcrq1as5c+YMUVFRnD59mtWrVxMREcGDBw+A6CTa6tWrGTdu3HOPlyNHDm7evKl5sUREREQkyVy8eBGz2czWrVuNeZFu3rwJwPbt23F3d+evv/7ixIkTsX527tyZ6H3//vtvwsLCqFSpEgAbNmww9omLJYESEhISbxsHBwfKlStHo0aNAJg3bx6hoaEvdT68vb25d+8eNjY2dOvWLVH7Pjvn1pAhQ9iwYQP37t2jYMGCuLm5Gcm4V/1MnzFjRuPfqVK93OxTTk5ObNy4kcGDB1OlShWCg4NZsWIFnTt35uTJk0a7mCORYia0XkRzYskL1a9fn5o1a3LkyBFOnDjBH3/8wcKFC40Jqi1iZmDTpUtH+vTprZbLXLZsGWvWrMHf35+wsDAiIiKsKpbKly9vrJBw+PBhBgwYwLVr1zh06BAPHz7k6dOnxjjk9u3b88knn3D27FmqVKlCnTp1Yo17jhmPJdN9//59XFxcMJvNzJ07l61bt3L79m0iIiIIDw+PNa752ayyk5MTAQEBVtsmTJiAg4MDK1asIGvWrC88n46Ojqxbt46nT5+yd+9eNmzYYJWEOn/+PMeOHTMqryB6WFhYWBihoaFcvnyZnDlz4uzsbDzu7u5udYzz58/j4+MT65yEhYXh4+Nj/F6oUCGjAgyiXyALFy5s/G5nZ0fmzJljPeeYx0uVKhUlS5bkypUrL3zuFpcvXyZVqlRWy7pmyZKFd999l8uXLxvb0qZNa4zfhuiEy7OxJIXnHSckJAQfHx9GjhzJ559/brR5+vRpnAk6i7CwsHhXKnmeNm3a4OPjQ8+ePXn69Cnp06enc+fOzJw50/hb9enTh7t379K2bVuioqLIli0bzZs3Z+HChdja2vL48WOGDh3KuHHjXnhNpkmThsjIyDivfxERERGRVxHXanqWCqqSJUuSMWNGunbtyp07d6hduzYDBw7k6tWrCdr3+vXrhIaGGoUO4eHhVtNrhIWFxRuXpfDg2UTX/v37yZgxozGiIjg42BgdZPlOljZt2sScAqKiooyb0jVr1sTFxSVR+z873PHEiRNA9PeGsWPHEhgYyHvvvUdwcLBVO8tn++cl6hKjSJEixr937NiBq6srly9fjjXP7+3bt3nw4AEfffSRsa1hw4ZcuXKFo0ePGt8BLYubpUqVymohrBdREksSJHXq1FSpUoUqVarQt29fRo4cycyZM62SWPb29lb72NjYGJngTZs28c033zBs2DDc3d1xdHTk+++/t8rEVqhQga+//ppr165x6dIlypYty5UrVzh06BCPHj2iZMmSxgtGjRo1+P3339mzZw9//vknXbp0oWPHjgwbNizOeCz/8S3xfP/99yxevJgRI0ZgMplImzYtX3/9dawXymezzzY2NkYpq0XlypXZtGkT+/bts1qeNT62trbGi6aLiws+Pj6MGTPGmOQuJCSEfv36Ua9evVj7JjQpEhISQokSJWINMwSskhpxPb+4tiVXlU5Czv/rPo7lRX/cuHFWSTfAKgH4rMyZM8daoTEhbGxsGDJkCAMHDuTevXtkyZLFqP6zzAeQJk0aJkyYwNixYwkICMDJyYkVK1bg6OhI1qxZ+eeff/Dz86N3795Gv5a/YfHixdm6dauRtHv48CHp0qVTAktEREREkkzLli2tvisCeHp64ufnR6NGjazmrPL19cXPz4+AgADs7Ox4//33ef/991+47++//85nn31GpkyZyJUrF7du3TKmsylatKjVTepnubu7kypVKh4+fIiPj4/R9siRI8yaNYusWbOSI0cObty4YSSHatWqZSxWdfv2bWNeq9u3bwOwe/du6tatC8Bvv/1mHGvXrl1GYq579+4JP4nxMJlMHD9+nFWrVnH06FHu3LkT57xeBQsWZO/evfz222+0aNGCrFmzxrnoVEJZRqRs376defPm8dtvv3Hr1i3s7e2t5m++fPkyXbt2Nc7h48ePjbmZYybCLKO2ihUrluBJ3UHDCeUlFSpUKFEZ3WPHjuHu7k7Hjh0pXrw4+fPnt6oIguj/jJkyZeJ///sfxYoVw9HREQ8PDw4fPsyhQ4eMDLtF1qxZadGiBVOmTGHEiBHPHdoVVzy1a9emWbNmFC1alLx581pNKp4YtWvXZurUqYwaNeqlJsju0aMHW7Zs4e+//waikwxXr14lf/78sX5sbW1xcXHh1q1bVuOdLdl4ixIlSnD9+nWyZcsWq4/nVQ8lVMzjPX36lL///tsYM21JHprN5nj3d3Fx4enTp1ZJzAcPHnD16lUKFSr0yvElpezZsxtvYM+ey+dNMlm8eHEuXbr00se1s7PD2dkZBwcHNm3ahLu7e6yqKnt7e3LmzImdnR2bN2+mVq1axvj1DRs24O3tbfx4enri4eGBt7e31RLFFy5coFixYi8dp4iIiIhIcihcuDDVqlXDwcGBy5cvExoaiouLC926dWPRokXPveGcIUMGqlWrBkQnmSzc3NyoUKECNjY2XLp0iaioKIoWLconn3zCt99+a7SLiIjAx8cHHx8fI4FjGcHx7PdcSxWWq6sr5cuXf+XnPXHiRDw8PEidOjWhoaFGYcazunXrRuXKlUmTJg1nz57lzJkzr3zs8ePH06BBA9KkSUNwcDCDBg0yKsssBReWhafSp0/PtWvXuH//PkWLFmXcuHFUrVrV6Gv37t0AvPfee4mKQZVY8lwPHjygf//+tGrVCpPJhKOjI2fOnGHhwoWxVid8nvz58+Pt7c0ff/xBnjx5+PXXXzl9+rRV2aCNjQ3lypVjw4YNxjhhk8lEeHg4+/fvp0uXLkbbb7/9lhIlSlC4cGHCw8PZvXt3osoy8+fPz7Zt2zh27BiZMmVi0aJF3Lt3L9GlnRZ169Zl0qRJDB06FDs7Oxo0aJDgfXPlykWdOnX47rvvmDdvHn379qVXr16888471K9fH1tbW86fP8+FCxcYMGAAlStXpkCBAgwfPpyhQ4fy+PHjWKtvNGnShO+//57evXvTv39/nJ2d8ff357fffuPDDz+0SmK8jOXLl1OgQAEKFizITz/9xMOHD2nVqhUAuXPnxsbGht27d1OjRg1Sp04da8LEAgUKULt2bT7//HO+/PJL0qdPz5QpU3B2dk7UdfVv+eSTTxg/frzxZhceHs6ZM2d49OgRXbt2jXOfqlWrMm3aNB4+fGjMEwbRq3WEhIRw9+5dnjx5wrlz54DoxJ6DgwP3799n27ZtVKhQgfDwcNasWcPWrVutVvO4evUqp06dws3NjUePHrFo0SIuXrzIxIkTgeg3kJh3OeD/xrc/u/3o0aNUqVLl1U+SiIiIiMhzxEwWJWT7i9qUKlWKhQsXxtn+eTfULTp06MDvv//O+vXrje+a1atXp3r16i/cN0+ePLGG0cXnRauaxyWuSjaLAgUKsHjxYqttLVq0iNXO2dmZRYsWJajvJUuWxGo3ceJE4/uFRUhICJMmTTISVj4+PkyaNAnAuDGeN29epk2bFt9TA6Kn+fnzzz9Jly4dzZo1e27bZymJJc/l6OiIm5sbP/30k5FlzpkzJ61bt6ZXr14J7qddu3acO3eOAQMGYGNjQ+PGjenQoQN79+61ale+fHl27NhhVF3Z2tpSrlw59uzZYzW/k729PdOmTcPPz480adJQtmzZF/5Hial3797cuHGD7t27kzZtWtq0aUOdOnUStSrCsxo0aEBkZCRDhw7F1tY2zuGA8enSpQtt27bl1KlTVKtWjblz5zJ79mwWLFhAqlSpKFiwoLHCnK2tLbNmzWLkyJG8//775M6dm1GjRvHhhx8a/aVNm5alS5cyZcoUPv74Y4KDg3F2dqZSpUqJmjQvPoMGDWL+/PmcO3eO/Pnz87///c+oEnJ2dqZfv35MnTqVzz77jObNm8d68YPoucS++uorevXqRUREBOXKlWP+/PmxhqU+z8GDB+ncuTM7d+5M1DjqxGrdujVp0qTh+++/Z9KkSaRLl44iRYpYrRTyLJPJRPHixdmyZQvt2rUzto8aNcpqcv3mzZsDWD0Hb29vJk2aRFRUFKVLl2bJkiW4uroa+0RGRrJo0SKuXr1KqlSp8PDw4Oeff070Obh9+zbHjx83hrKKiIiIiPxXVK9eHXd3d44fP86BAweoWLFicoeU4m3bto3//e9/lCxZEoge4RQWFkb27NmN4ZUJsWTJEsLDw+nWrRtZsmRJVAw2Ua9jghkReSv5+vpSu3ZtvL29U8QQtDVr1jBv3jw2bdqUqOTXv2X37t1MmjSJjRs3PrecOblMnjyZR48evXAFw5jMZjMnTpxg6ZhdnD9y7fUFJyIiIiJvJJdSeZm1fXiyxmD5zFq6dGns7OySNZa3yf79+5k2bRpXrlzhyZMnZM+encqVK/Pxxx+TO3fufyUGVWKJyBtrz549DBgwIEUmsCB69ZFr165x+/ZtcuXKldzhxJItW7Z4h0OKiIiIiIjEVKlSJVatWpWsMSiJJSJvrO+++y65Q3ihmHO5pTSWuedERERERETeBEpiiUiCJWYCQxEREREREZGklPImaREREREREREREXmGklgiIiIiIiIiIpLiaTihiIgkWh4XZyLCzMkdhoiIiIikMPkK50zuEOQtpiSWiIgk2qdTO2q5YhERERGJU6Q5Els7DfySpKerSkREEs1sVhWWvBqz2czZs2d1Lckr07UkSUnXkySV//q1pASWvC66skRERCRZhIaGJncI8pbQtSRJSdeTJBVdSyJJT0ksERERERERERFJ8ZTEEhERERERERGRFE9JLBERERERERERSfGUxBIRERERERERkRRPSSwREREREREREUnxlMQSEREREREREZEUT0ksERERERERERFJ8ZTEEhERERERERGRFE9JLBERERERERERSfGUxBIRERERERERkRRPSSwREREREREREUnxlMQSEREREREREZEUT0ksERERERERERFJ8ZTEEhERERERERGRFE9JLBERERERERERSfGUxBIRERERERERkRRPSSwREREREREREUnxlMQSEREREREREZEUT0ksERERERERERFJ8VIldwAiIvLmiIqKAsBsNmM2m5M5GnmTWa4fXUfyqnQtSVLS9SRJRddS8rKcd8tnV3l72ETpryoiIgkUHh7O6dOnkzsMEREREZEXKlWqFA4ODskdhiQhJbFERCTBIiMjefr0Kba2ttjY2CR3OCIiIiIisURFRREZGUmqVKmwtdUsSm8TJbFERERERERERCTFU0pSRERERERERERSPCWxREREREREREQkxVMSS0REREREREREUjwlsUREREREREREJMVTEktERERERERERFI8JbFERERERERERCTFUxJLRERERERERERSPCWxREQkQZYtW4anpyelSpWidevWnDp1KrlDkjfQ4cOH6dWrF1WrVsVkMrFjx47kDkneUPPmzaNVq1a4u7tTqVIl+vTpw5UrV5I7LHkDLV++nCZNmlCmTBnKlClD27Zt2bNnT3KHJW+B+fPnYzKZ+Oqrr5I7FJG3hpJYIiLyQps3b2bChAn07duXdevWUbRoUbp3705AQEByhyZvmJCQEEwmE6NHj07uUOQNd+jQITp27MjKlStZtGgRT58+pXv37oSEhCR3aPKGyZkzJ4MHD2bt2rWsWbOGihUr0rdvXy5evJjcockb7NSpU/zyyy+YTKbkDkXkrWITFRUVldxBiIhIyta6dWtKlSrFF198AUBkZCQ1atTAy8uLHj16JHN08qYymUzMnj2bOnXqJHco8ha4f/8+lSpVYunSpZQvXz65w5E3XIUKFRgyZAitW7dO7lDkDRQcHEzLli0ZPXo0//vf/yhatCgjR45M7rBE3gqqxBIRkecKDw/n77//pnLlysY2W1tbKleuzPHjx5MxMhGR/xMUFARApkyZkjkSeZOZzWY2bdpESEgI7u7uyR2OvKHGjh1LjRo1rD47iUjSSJXcAYiISMr24MEDzGYz2bJls9qeLVs2zT8jIilCZGQkX3/9NWXKlKFIkSLJHY68gf755x/atWtHWFgY6dKlY/bs2RQqVCi5w5I30KZNmzh79iyrV69O7lBE3kpKYomIiIjIG+3LL7/k4sWLLF++PLlDkTfUu+++i7e3N0FBQWzbto1hw4axdOlSJbIkUW7evMlXX33FDz/8QOrUqZM7HJG3kpJYIiLyXFmyZMHOzi7WJO4BAQFkz549maISEYk2duxYdu/ezdKlS8mZM2dyhyNvKAcHB/Lnzw9AyZIlOf3/2rv/mKqrP47jL4IQRIQy0vIHaRs3B7IkE4XQhuUPJgzNVRhYuCwUJyYzYJGbRl0rjaaZw3JR1Aq9BE2iGlRm/JgaucQfuGkkIKlAZu4Ckwv3+wfzs271VTDdBXs+NjY+53M+57w/9z9enHNuTY0++OADrVu3zsmVYSA5fPiwWltbNX/+fKOtq6tL+/fv10cffaSamhq5uro6sUJg4CPEAgBclru7uwIDA1VVVWUcwN3d3a2qqirFx8c7uToA/1V2u10vvfSSSktLlZeXp9GjRzu7JNxAuru7dfHiRWeXgQFmypQp2rVrl0NbRkaGxo0bpyVLlhBgAdcAIRYA4IoSExOVlpamoKAgBQcH6/3331d7e7vDfxqB3rBaraqvrzeuGxsbdfToUfn4+OjOO+90YmUYaNauXavi4mK9/fbb8vLyUnNzsyTJ29tbHh4eTq4OA8nGjRs1bdo03XHHHbJarSouLta+ffu0fft2Z5eGAWbIkCF/O5dv8ODB8vX15bw+4BohxAIAXFFUVJR+++03bdq0Sc3NzRo/frzeffddthOizw4dOqRFixYZ12azWZI0b948rV+/3lllYQD6+OOPJUkJCQkO7WazmYAdfdLa2qq0tDSdPXtW3t7eMplM2r59u8LDw51dGgDgL1zsdrvd2UUAAAAAAAAAl3OTswsAAAAAAAAAroQQCwAAAAAAAP0eIRYAAAAAAAD6PUIsAAAAAAAA9HuEWAAAAAAAAOj3CLEAAAAAAADQ7xFiAQAAAAAAoN8jxAIAAAAAAEC/R4gFAAAA/Melp6dr2bJlzi4DAIDLcrHb7XZnFwEAAAD01YEDB7Rw4UJFRERo27Ztzi7nujOZTMbvXl5eGjt2rJYuXaqHHnqo12M0NjZqxowZKioq0vjx4432CxcuyG63a+jQode0ZgAAriVWYgEAAGBAslgsio+P1/79+3XmzJnrOpfdbpfNZruuc/SG2WxWeXm5CgoKFBISopSUFB07duxfj+vt7U2ABQDo9wixAAAAMOBYrVaVlJQoLi5ODz74oAoLC417qampWrlypUP/zs5OhYaGqqioSJLU3d2tnJwcRUZGKjg4WDExMfryyy+N/nv37pXJZNJ3332n+fPna8KECaqurlZ9fb2WLl2qsLAwTZw4UY888ogqKysd5jp79qyeeeYZBQcHKzIyUrt27VJkZKRyc3ONPn/88YdeeOEFTZkyRSEhIVq0aJFqa2uv+N5Dhw6Vn5+fxo4dq5SUFNlsNu3du9e4v2fPHsXFxWnSpEkKDQ3Vs88+q/r6euP+jBkzJEmxsbEymUxKSEiQ9PfthAkJCcrKytJrr72myZMnKzw8XJs3b3ao5cSJE4qLi9OECRMUFRWlyspKmUwmlZWVXfE9AAC4GoRYAAAAGHC++OILjRs3TuPGjVNMTIwKCgp06ZSM6Ohoffvtt7JarUb/8vJydXR0GFvvcnJyVFRUpLVr1+rzzz/XU089pdWrV2vfvn0O82zcuFGpqakqKSmRyWRSW1ubpk+frtzcXBUWFioiIkJJSUlqamoynklLS9PZs2eVl5enzZs3a8eOHWptbXUYNyUlRa2trXrnnXf06aefKjAwUE8++aR+//33Xr2/zWaTxWKRJN18881Ge3t7uxITE1VQUKDc3Fy5uLgoOTlZ3d3dkqSdO3dKknJzc1VeXv63YOrPCgsLNXjwYO3YsUOrV6/Wli1bVFFRIUnq6upScnKyPD09tXPnTq1bt07Z2dm9qh0AgKvl5uwCAAAAgL6yWCyKiYmRJEVEROjChQvat2+fQkND9cADD8jT01OlpaWKjY2VJBUXFysyMlJDhgzRxYsXlZOTo/fee08TJ06UJI0ePVrV1dXKz8/X5MmTjXlWrFih8PBw49rX11f33HOPcb1y5UqVlZXpm2++UXx8vE6cOKHKykpZLBZNmDBBkpSVlaWZM2caz/zwww86ePCgqqqq5O7uLqkn+CorK9NXX32lxx577P++96pVq+Tq6qqOjg51d3dr5MiRmjNnjnF/1qxZDv1feeUVTZ06VcePH1dAQIBuvfVW4z38/Pwu+xmbTCYtX75cknTXXXfpww8/VFVVlcLDw1VRUaGGhgbl5eUZ4zz33HNKTEy87JgAAPwbhFgAAAAYUH7++WfV1NRoy5YtkiQ3NzdFRUXJYrEoNDRUbm5umjNnjnbt2qXY2Fi1tbXp66+/1htvvCFJOnnypNrb27V48WKHcTs7Ox0OO5dkBFGXWK1WvfXWW9q9e7eam5vV1dWljo4OYyVWXV2d3NzcFBgYaDzj7+8vHx8f4/rYsWNqa2tTaGiow9gdHR0OW//+SUZGhsLCwtTQ0CCz2azMzEz5+voa93/55Rdt2rRJP/30k86dO2esTvv1118VEBBw2bH/6s8HyUuSn5+fsaKsrq5OI0aMcAjCgoOD+zQ+AAB9RYgFAACAAcVischmsykiIsJos9vtcnd315o1a+Tt7a3o6GglJCSotbVVFRUVGjRokNG/ra1NUs+WwuHDhzuMfWll1CWenp4O16+++qoqKyuVlpamMWPGyMPDQytWrFBnZ2ev67darfLz81NeXt7f7nl7e1/2WT8/P/n7+8vf319ms1lLlixRSUmJhg0bJklKSkrSyJEjlZWVpdtvv13d3d2aO3dun+q7xM3N8U8FFxcX8cXmAABnIsQCAADAgGGz2fTZZ58pPT3dYZufJCUnJ6u4uFhxcXEKCQnRiBEjVFJSoj179mj27NnG2VF333233N3d1dTU5LB1sDcOHDigefPm6eGHH5bUE0idOnXKuD927FjZbDYdOXJEQUFBknpWfp0/f97oExgYqJaWFrm6umrUqFFX9TlIPSufgoKCtHXrVmVmZurcuXOqq6tTVlaWJk2aJKln6+KfXfoMurq6rnpeqec9T58+rZaWFt12222SpJqamn81JgAAV8LB7gAAABgwdu/erfPnz2vBggUKCAhw+Jk5c6Zx2LkkzZ07V5988okqKysVHR1ttA8ZMkSLFy+W2WxWYWGh6uvrdfjwYeXl5Tl8y+E/8ff3V2lpqY4ePara2lqlpqYah6ZLPQFZWFiY1qxZo4MHD+rIkSN68cUX5eHhIRcXF0lSWFiY7r33XiUnJ6u8vFyNjY368ccflZ2d3ecgaNGiRcrPz9eZM2fk4+MjX19f5efn6+TJk6qqqtL69esd+g8bNkweHh76/vvv1dLSogsXLvRpvkvCw8M1evRopaWlqba2VtXV1XrzzTevaiwAAHqLEAsAAAADhsViUVhY2D9uu5s1a5YOHTqk2tpaSVJMTIyOHz+u4cOH67777nPou3LlSi1btkw5OTmKiorS008/rd27d19xZVR6erqGDh2qxx9/XElJSYqIiHA4/0rq2XI4bNgwPfHEE1q+fLkeffRReXl5adCgQZJ6tuVt27ZN999/vzIyMjR79mytWrVKp06dMlY19da0adM0atQobd26VTfddJOys7N1+PBhzZ07V2azWc8//7xDfzc3N2VmZio/P18RERFatmxZn+a7xNXVVVu2bFFbW5sWLFigzMxMJSUlSZLxngAAXGsudja2AwAAANfN6dOnNX36dOXm5mrq1KnOLue6qa6u1sKFC1VaWqoxY8Y4uxwAwA2IM7EAAACAa6iqqkptbW0KCAhQc3OzXn/9dY0cOdI4p+pGUVpaqsGDB8vf31/19fV6+eWXFRISQoAFALhuCLEAAACAa8hmsyk7O1sNDQ3y8vLSxIkTtWHDBuNQ9RuF1WrVhg0b1NTUpFtuuUVhYWFKS0tzdlkAgBsY2wkBAAAAAADQ73GwOwAAAAAAAPo9QiwAAAAAAAD0e4RYAAAAAAAA6PcIsQAAAAAAANDvEWIBAAAAAACg3yPEAgAAAAAAQL9HiAUAAAAAAIB+jxALAAAAAAAA/R4hFgAAAAAAAPq9/wFyvV9MDteUqQAAAABJRU5ErkJggg==\n"
          },
          "metadata": {}
        }
      ]
    },
    {
      "cell_type": "markdown",
      "source": [
        "Next, we'll plot a graph of the 15 most popular movies by number of ratings."
      ],
      "metadata": {
        "id": "SMUHx2OoHUQG"
      }
    },
    {
      "cell_type": "code",
      "source": [
        "# Group by movie title and count the number of ratings\n",
        "movie_ratings_count = ratings_with_titles.groupby('title')['rating'].count().reset_index()\n",
        "movie_ratings_count.columns = ['title', 'number_of_ratings']\n",
        "\n",
        "# Sort by number of ratings and get top 15\n",
        "top_rated_movies = movie_ratings_count.sort_values('number_of_ratings', ascending=True).tail(15)\n",
        "\n",
        "# Create the plot\n",
        "plt.figure(figsize=(12, 6))\n",
        "bars = plt.barh(y=range(len(top_rated_movies)), width=top_rated_movies['number_of_ratings'],\n",
        "                color=sns.color_palette(\"viridis\", len(top_rated_movies)))\n",
        "\n",
        "# Customize the plot\n",
        "plt.yticks(range(len(top_rated_movies)), top_rated_movies['title'], fontsize=10)\n",
        "plt.xlabel('Number of Ratings', fontsize=12)\n",
        "plt.title('Top 10 Most Frequently Rated Movies', fontsize=14, pad=10)\n",
        "\n",
        "# Add number of ratings to the end of each bar\n",
        "for i, bar in enumerate(bars):\n",
        "    width = bar.get_width()\n",
        "    plt.text(width, bar.get_y() + bar.get_height()/2,\n",
        "             f'{width:,.0f}',  # Format number with commas\n",
        "             va='center', ha='left', fontsize=10, fontweight='bold')\n",
        "\n",
        "plt.tight_layout()\n",
        "plt.show()\n",
        "\n",
        "# Print the data\n",
        "print(\"\\nTop 15 Most Rated Movies:\")\n",
        "print(top_rated_movies.to_string(index=False))"
      ],
      "metadata": {
        "colab": {
          "base_uri": "https://localhost:8080/",
          "height": 1000
        },
        "id": "MD0acszTGQLu",
        "outputId": "7db62e2b-7ba2-4737-beea-6085f2353032"
      },
      "execution_count": 15,
      "outputs": [
        {
          "output_type": "stream",
          "name": "stdout",
          "text": [
            "\n",
            "Top 15 Movies Data:\n",
            "                                                title  avg_rating  num_ratings\n",
            "                     Shawshank Redemption, The (1994)    4.429022          317\n",
            "                                Godfather, The (1972)    4.289062          192\n",
            "                                    Fight Club (1999)    4.272936          218\n",
            "                       Godfather: Part II, The (1974)    4.259690          129\n",
            "                                 Departed, The (2006)    4.252336          107\n",
            "                                    Goodfellas (1990)    4.250000          126\n",
            "                                    Casablanca (1942)    4.240000          100\n",
            "                              Dark Knight, The (2008)    4.238255          149\n",
            "                           Usual Suspects, The (1995)    4.237745          204\n",
            "                           Princess Bride, The (1987)    4.232394          142\n",
            "            Star Wars: Episode IV - A New Hope (1977)    4.231076          251\n",
            "                              Schindler's List (1993)    4.225000          220\n",
            "                                Apocalypse Now (1979)    4.219626          107\n",
            "                            American History X (1998)    4.217054          129\n",
            "Star Wars: Episode V - The Empire Strikes Back (1980)    4.215640          211\n"
          ]
        },
        {
          "output_type": "display_data",
          "data": {
            "text/plain": [
              "<Figure size 1200x600 with 1 Axes>"
            ],
            "image/png": "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\n"
          },
          "metadata": {}
        },
        {
          "output_type": "stream",
          "name": "stdout",
          "text": [
            "\n",
            "Top 15 Most Rated Movies:\n",
            "                                                title  number_of_ratings\n",
            "                               American Beauty (1999)                204\n",
            "                           Usual Suspects, The (1995)                204\n",
            "Star Wars: Episode V - The Empire Strikes Back (1980)                211\n",
            "                                     Toy Story (1995)                215\n",
            "                                    Fight Club (1999)                218\n",
            "                              Schindler's List (1993)                220\n",
            "                    Terminator 2: Judgment Day (1991)                224\n",
            "                                    Braveheart (1995)                237\n",
            "                                 Jurassic Park (1993)                238\n",
            "            Star Wars: Episode IV - A New Hope (1977)                251\n",
            "                                   Matrix, The (1999)                278\n",
            "                     Silence of the Lambs, The (1991)                279\n",
            "                                  Pulp Fiction (1994)                307\n",
            "                     Shawshank Redemption, The (1994)                317\n",
            "                                  Forrest Gump (1994)                329\n"
          ]
        }
      ]
    },
    {
      "cell_type": "code",
      "source": [
        "counts, _ = np.histogram(ratings['rating'], bins=bins)\n",
        "for i, count in enumerate(counts):\n",
        "    print(f\"Bin {bins[i]}-{bins[i+1]}: {count}\")"
      ],
      "metadata": {
        "colab": {
          "base_uri": "https://localhost:8080/"
        },
        "id": "sNf-WGG6t_cM",
        "outputId": "764fccd2-fc76-4170-b879-1b83ebbfee2b"
      },
      "execution_count": 16,
      "outputs": [
        {
          "output_type": "stream",
          "name": "stdout",
          "text": [
            "Bin 0.5-1.0: 1370\n",
            "Bin 1.0-2.0: 4602\n",
            "Bin 2.0-3.0: 13101\n",
            "Bin 3.0-4.0: 33183\n",
            "Bin 4.0-5.0: 48580\n"
          ]
        }
      ]
    },
    {
      "cell_type": "markdown",
      "metadata": {
        "id": "1q3_t04Vp4OE"
      },
      "source": [
        "I'm starting with the `ratings_with_titles` df for my basic recommendation model because it contains key user-item interactions, which are essential for collaborative filtering. This dataframe shows which users rated which movies and their ratings, allowing me to identify patterns in preferences.\n",
        "\n",
        "I'll use collaborative filtering, focusing on either:\n",
        "\n",
        "- User-Based: Recommending movies based on the preferences of similar users.\n",
        "- Item-Based: Suggesting movies based on similarities between items that users have liked.\n",
        "\n",
        "Using `ratings_with_titles` gives me a solid foundation for identifying these relationships, and I can later integrate `movies` and `tags` dataframes for more nuanced recommendations."
      ]
    },
    {
      "cell_type": "markdown",
      "metadata": {
        "id": "0IaCwcO_p4OE"
      },
      "source": [
        "Now, I'll create a scikit surprise dataset from the `ratings` dataframe."
      ]
    },
    {
      "cell_type": "code",
      "execution_count": 17,
      "metadata": {
        "id": "Z11ZRQSOp4OF"
      },
      "outputs": [],
      "source": [
        "# reading the values as scikit surprise dataset\n",
        "reader = Reader(rating_scale=(0.5, 5.0))\n",
        "data = Dataset.load_from_df(ratings[['userId', 'movieId', 'rating']], reader)\n",
        "trainset = data.build_full_trainset()"
      ]
    },
    {
      "cell_type": "code",
      "execution_count": 18,
      "metadata": {
        "id": "lTLE2rctp4OF"
      },
      "outputs": [],
      "source": [
        "# parameter grid for SVD\n",
        "param_grid = {\n",
        "    'n_factors': [50, 100],\n",
        "    'n_epochs': [20, 30],\n",
        "    'lr_all': [0.002, 0.005],\n",
        "    'reg_all': [0.4, 0.6]\n",
        "}"
      ]
    },
    {
      "cell_type": "code",
      "execution_count": 19,
      "metadata": {
        "colab": {
          "base_uri": "https://localhost:8080/"
        },
        "id": "_b5JItz1p4OG",
        "outputId": "40dc672d-0973-46b6-8bd8-5a5c6bf36ccc"
      },
      "outputs": [
        {
          "output_type": "stream",
          "name": "stderr",
          "text": [
            "[Parallel(n_jobs=-1)]: Using backend LokyBackend with 2 concurrent workers.\n",
            "[Parallel(n_jobs=-1)]: Done  14 tasks      | elapsed:   29.3s\n",
            "[Parallel(n_jobs=-1)]: Done  48 out of  48 | elapsed:  1.3min finished\n"
          ]
        }
      ],
      "source": [
        "# create the grid search object\n",
        "gs = GridSearchCV(SVD, param_grid, measures=['rmse', 'mae'], cv=3, joblib_verbose=5, n_jobs=-1)\n",
        "gs.fit(data)"
      ]
    },
    {
      "cell_type": "code",
      "execution_count": 20,
      "metadata": {
        "colab": {
          "base_uri": "https://localhost:8080/"
        },
        "id": "_qtgxVbwp4OG",
        "outputId": "7b05240d-a60b-49d4-fca4-2e4c003c19c9"
      },
      "outputs": [
        {
          "output_type": "stream",
          "name": "stdout",
          "text": [
            "{'rmse': 0.8832258851686924, 'mae': 0.6826873193837709}\n",
            "{'rmse': {'n_factors': 50, 'n_epochs': 30, 'lr_all': 0.005, 'reg_all': 0.4}, 'mae': {'n_factors': 50, 'n_epochs': 30, 'lr_all': 0.005, 'reg_all': 0.4}}\n"
          ]
        }
      ],
      "source": [
        "# Get the best parameters\n",
        "print(gs.best_score)\n",
        "print(gs.best_params)"
      ]
    },
    {
      "cell_type": "code",
      "execution_count": 21,
      "metadata": {
        "id": "SaeILlkJp4OH"
      },
      "outputs": [],
      "source": [
        "# Cross validation with KNNBasic\n",
        "# Parameter grid for KNNBasic\n",
        "# param_grid = {\n",
        "#     'k': [20, 40, 60],\n",
        "#     'min_k': [1, 2, 3],\n",
        "#     'sim_options': {\n",
        "#         'name': ['cosine', 'msd', 'pearson'],\n",
        "#         'user_based': [True, False]\n",
        "#     }\n",
        "# }\n",
        "\n",
        "# # Create the grid search object\n",
        "# gs = GridSearchCV(KNNBasic, param_grid, measures=['rmse', 'mae'], cv=3, n_jobs=-1)\n",
        "\n",
        "# # Fit the data\n",
        "# gs.fit(data)\n",
        "\n",
        "# # Get the best parameters and scores\n",
        "# print(\"Best RMSE:\", gs.best_score['rmse'])\n",
        "# print(\"Best MAE:\", gs.best_score['mae'])\n",
        "# print(\"Best Parameters:\", gs.best_params['rmse'])"
      ]
    },
    {
      "cell_type": "code",
      "source": [
        "# These 2 code cells run faster than the cell above\n",
        "\n",
        "# Cross validation with KNNBasic\n",
        "# knn_basic = KNNBasic(sim_options={'name':'msd', 'user_based':True})\n",
        "# cv_knn_basic = cross_validate(knn_basic, data, n_jobs=-1)\n",
        "\n",
        "# and this\n",
        "# Average RMSE\n",
        "# for i in cv_knn_basic.items():\n",
        "#     print(i)\n",
        "# print('-----------------------')\n",
        "# print(np.mean(cv_knn_basic['test_rmse']))"
      ],
      "metadata": {
        "id": "hhW_lM2szXzP"
      },
      "execution_count": 22,
      "outputs": []
    },
    {
      "cell_type": "code",
      "source": [
        "knn_baseline = KNNBaseline(sim_options={'name':'msd', 'user_based':True})\n",
        "cv_knn_baseline = cross_validate(knn_baseline,data)"
      ],
      "metadata": {
        "colab": {
          "base_uri": "https://localhost:8080/"
        },
        "id": "cx3rNldT0kak",
        "outputId": "901cb2a3-97f5-41ce-b51f-aee962536bdf"
      },
      "execution_count": 23,
      "outputs": [
        {
          "output_type": "stream",
          "name": "stdout",
          "text": [
            "Estimating biases using als...\n",
            "Computing the msd similarity matrix...\n",
            "Done computing similarity matrix.\n",
            "Estimating biases using als...\n",
            "Computing the msd similarity matrix...\n",
            "Done computing similarity matrix.\n",
            "Estimating biases using als...\n",
            "Computing the msd similarity matrix...\n",
            "Done computing similarity matrix.\n",
            "Estimating biases using als...\n",
            "Computing the msd similarity matrix...\n",
            "Done computing similarity matrix.\n",
            "Estimating biases using als...\n",
            "Computing the msd similarity matrix...\n",
            "Done computing similarity matrix.\n"
          ]
        }
      ]
    },
    {
      "cell_type": "code",
      "source": [
        "# print out the average score for the test set\n",
        "for i in cv_knn_baseline.items():\n",
        "    print(i)\n",
        "\n",
        "np.mean(cv_knn_baseline['test_rmse'])"
      ],
      "metadata": {
        "colab": {
          "base_uri": "https://localhost:8080/"
        },
        "id": "CDF4VQmO0xdr",
        "outputId": "b14223a7-d72f-4eb1-ef6a-a62e911ead7b"
      },
      "execution_count": 24,
      "outputs": [
        {
          "output_type": "stream",
          "name": "stdout",
          "text": [
            "('test_rmse', array([0.87957468, 0.87660242, 0.86330894, 0.87759675, 0.87847942]))\n",
            "('test_mae', array([0.67063187, 0.66959725, 0.66239228, 0.66901898, 0.67076211]))\n",
            "('fit_time', (0.4651181697845459, 0.5597164630889893, 0.5149800777435303, 0.5033414363861084, 0.49144530296325684))\n",
            "('test_time', (2.053278923034668, 2.307569742202759, 1.9388351440429688, 1.6145961284637451, 1.623033046722412))\n"
          ]
        },
        {
          "output_type": "execute_result",
          "data": {
            "text/plain": [
              "0.8751124420837566"
            ]
          },
          "metadata": {},
          "execution_count": 24
        }
      ]
    },
    {
      "cell_type": "markdown",
      "source": [
        "Based off these outputs, it seems like the best performing model is the SVD model with n_factors = 100 and a regularization rate of 0.4."
      ],
      "metadata": {
        "id": "zGS_Lj752YmU"
      }
    },
    {
      "cell_type": "markdown",
      "source": [
        "Next, I'll create a `get_movie_recommendations` function that is designed to enhance the user experience by allowing users to provide ratings for a selection of movies they've seen. It prompts users to rate five randomly chosen movies on a scale of 0.5 to 5. If a user hasn't watched a particular movie, they can simply enter 'n' to skip it.\n",
        "\n",
        "After collecting the ratings, the function uses a trained recommendation model to predict ratings for all movies in the dataset. It then adjusts the predicted ratings based on the user's inputs and recommends the top movies tailored to their preferences. This approach ensures that users receive personalized suggestions that align with their tastes."
      ],
      "metadata": {
        "id": "-z0DAkIIk1fY"
      }
    },
    {
      "cell_type": "code",
      "source": [
        "def get_movie_recommendations(user_id, ratings_with_titles, model, n_recommendations=5):\n",
        "    # Prepare a sample of movies to prompt the user\n",
        "    sample_movies = ratings_with_titles.sample(n=5)\n",
        "    print(\"Please rate the following movies on a scale of 0.5 to 5 (or enter 'n' to skip):\")\n",
        "\n",
        "    user_ratings = {}\n",
        "\n",
        "    for index, row in sample_movies.iterrows():\n",
        "        title = row['title']\n",
        "        # Prompt user for rating\n",
        "        rating_input = input(f\"Rate '{title}': \")\n",
        "\n",
        "        if rating_input.lower() == 'n':\n",
        "            continue  # Skip this movie if the user hasn't seen it\n",
        "\n",
        "        try:\n",
        "            rating = float(rating_input)\n",
        "            user_ratings[row['movieId']] = rating\n",
        "        except ValueError:\n",
        "            print(\"Invalid input. Please enter a number between 0.5 and 5 or 'n' to skip.\")\n",
        "\n",
        "    # Get predictions for all movies\n",
        "    all_movie_ids = ratings_with_titles['movieId'].unique()\n",
        "    predictions = []\n",
        "\n",
        "    for movie_id in all_movie_ids:\n",
        "        # Use the model to predict the rating\n",
        "        pred_rating = model.predict(user_id, movie_id).est\n",
        "\n",
        "        # If the user rated this movie, adjust the prediction based on their rating\n",
        "        if movie_id in user_ratings:\n",
        "            adjusted_rating = (pred_rating + user_ratings[movie_id]) / 2\n",
        "        else:\n",
        "            adjusted_rating = pred_rating\n",
        "\n",
        "        predictions.append((movie_id, adjusted_rating))\n",
        "\n",
        "    # Sort predictions by adjusted rating\n",
        "    predictions.sort(key=lambda x: x[1], reverse=True)\n",
        "\n",
        "    # Recommend top N movies\n",
        "    recommended_movies = predictions[:n_recommendations]\n",
        "\n",
        "    # Convert movie IDs to titles\n",
        "    recommended_titles = ratings_with_titles[ratings_with_titles['movieId'].isin([m[0] for m in recommended_movies])]\n",
        "\n",
        "    return recommended_titles[['title', 'movieId']]\n",
        "\n",
        "# Usage\n",
        "user_id = 55  # user ID\n",
        "best_model = gs.best_estimator['rmse']  # or 'mae'\n",
        "best_model.fit(trainset)\n",
        "recommended_movies = get_movie_recommendations(user_id, ratings_with_titles, best_model)\n",
        "print(\"Recommended Movies:\")\n",
        "print(recommended_movies)"
      ],
      "metadata": {
        "colab": {
          "base_uri": "https://localhost:8080/"
        },
        "id": "jdsNKFNABVD4",
        "outputId": "5d9f4b89-5529-4a02-a17c-b2020b8e0caa"
      },
      "execution_count": 25,
      "outputs": [
        {
          "output_type": "stream",
          "name": "stdout",
          "text": [
            "Please rate the following movies on a scale of 0.5 to 5 (or enter 'n' to skip):\n",
            "Rate 'Sleepless in Seattle (1993)': 3.8\n",
            "Rate 'Honey, I Shrunk the Kids (1989)': 3.9\n",
            "Rate '10 (1979)': 3.7\n",
            "Rate 'Wasp Woman, The (1959)': 4.5\n",
            "Rate 'Dark Knight, The (2008)': 4.6\n",
            "Recommended Movies:\n",
            "                                      title  movieId\n",
            "240                 Dark Knight, The (2008)    58559\n",
            "1190                Dark Knight, The (2008)    58559\n",
            "1519                Dark Knight, The (2008)    58559\n",
            "1661                Dark Knight, The (2008)    58559\n",
            "1761                Dark Knight, The (2008)    58559\n",
            "...                                     ...      ...\n",
            "94660               Dark Knight, The (2008)    58559\n",
            "95859               Dark Knight, The (2008)    58559\n",
            "96342      Streetcar Named Desire, A (1951)     1104\n",
            "97895   Guess Who's Coming to Dinner (1967)     3451\n",
            "100310              Dark Knight, The (2008)    58559\n",
            "\n",
            "[200 rows x 2 columns]\n"
          ]
        }
      ]
    },
    {
      "cell_type": "markdown",
      "source": [
        "### Cold-Start Problem"
      ],
      "metadata": {
        "id": "UPRnUH68lHzn"
      }
    },
    {
      "cell_type": "code",
      "source": [
        "# Split the genres and explode the DataFrame\n",
        "movies_ratings['genres'] = movies_ratings['genres'].str.split('|')\n",
        "expanded_movies = movies_ratings.explode('genres')\n",
        "\n",
        "# Reset the index\n",
        "expanded_movies.reset_index(drop=True, inplace=True)"
      ],
      "metadata": {
        "id": "20CjiLXnlbBV"
      },
      "execution_count": 26,
      "outputs": []
    },
    {
      "cell_type": "code",
      "source": [
        "# Display the result\n",
        "expanded_movies.head()"
      ],
      "metadata": {
        "id": "Z0hUxeJFlj1J",
        "colab": {
          "base_uri": "https://localhost:8080/",
          "height": 206
        },
        "outputId": "548dbab5-8eb3-4559-ae85-b3d2fec2e963"
      },
      "execution_count": 27,
      "outputs": [
        {
          "output_type": "execute_result",
          "data": {
            "text/plain": [
              "   movieId             title     genres  userId  rating\n",
              "0        1  Toy Story (1995)  Adventure     1.0     4.0\n",
              "1        1  Toy Story (1995)  Animation     1.0     4.0\n",
              "2        1  Toy Story (1995)   Children     1.0     4.0\n",
              "3        1  Toy Story (1995)     Comedy     1.0     4.0\n",
              "4        1  Toy Story (1995)    Fantasy     1.0     4.0"
            ],
            "text/html": [
              "\n",
              "  <div id=\"df-e48b163c-f71b-48a4-9b5c-03330015f3bc\" class=\"colab-df-container\">\n",
              "    <div>\n",
              "<style scoped>\n",
              "    .dataframe tbody tr th:only-of-type {\n",
              "        vertical-align: middle;\n",
              "    }\n",
              "\n",
              "    .dataframe tbody tr th {\n",
              "        vertical-align: top;\n",
              "    }\n",
              "\n",
              "    .dataframe thead th {\n",
              "        text-align: right;\n",
              "    }\n",
              "</style>\n",
              "<table border=\"1\" class=\"dataframe\">\n",
              "  <thead>\n",
              "    <tr style=\"text-align: right;\">\n",
              "      <th></th>\n",
              "      <th>movieId</th>\n",
              "      <th>title</th>\n",
              "      <th>genres</th>\n",
              "      <th>userId</th>\n",
              "      <th>rating</th>\n",
              "    </tr>\n",
              "  </thead>\n",
              "  <tbody>\n",
              "    <tr>\n",
              "      <th>0</th>\n",
              "      <td>1</td>\n",
              "      <td>Toy Story (1995)</td>\n",
              "      <td>Adventure</td>\n",
              "      <td>1.0</td>\n",
              "      <td>4.0</td>\n",
              "    </tr>\n",
              "    <tr>\n",
              "      <th>1</th>\n",
              "      <td>1</td>\n",
              "      <td>Toy Story (1995)</td>\n",
              "      <td>Animation</td>\n",
              "      <td>1.0</td>\n",
              "      <td>4.0</td>\n",
              "    </tr>\n",
              "    <tr>\n",
              "      <th>2</th>\n",
              "      <td>1</td>\n",
              "      <td>Toy Story (1995)</td>\n",
              "      <td>Children</td>\n",
              "      <td>1.0</td>\n",
              "      <td>4.0</td>\n",
              "    </tr>\n",
              "    <tr>\n",
              "      <th>3</th>\n",
              "      <td>1</td>\n",
              "      <td>Toy Story (1995)</td>\n",
              "      <td>Comedy</td>\n",
              "      <td>1.0</td>\n",
              "      <td>4.0</td>\n",
              "    </tr>\n",
              "    <tr>\n",
              "      <th>4</th>\n",
              "      <td>1</td>\n",
              "      <td>Toy Story (1995)</td>\n",
              "      <td>Fantasy</td>\n",
              "      <td>1.0</td>\n",
              "      <td>4.0</td>\n",
              "    </tr>\n",
              "  </tbody>\n",
              "</table>\n",
              "</div>\n",
              "    <div class=\"colab-df-buttons\">\n",
              "\n",
              "  <div class=\"colab-df-container\">\n",
              "    <button class=\"colab-df-convert\" onclick=\"convertToInteractive('df-e48b163c-f71b-48a4-9b5c-03330015f3bc')\"\n",
              "            title=\"Convert this dataframe to an interactive table.\"\n",
              "            style=\"display:none;\">\n",
              "\n",
              "  <svg xmlns=\"http://www.w3.org/2000/svg\" height=\"24px\" viewBox=\"0 -960 960 960\">\n",
              "    <path d=\"M120-120v-720h720v720H120Zm60-500h600v-160H180v160Zm220 220h160v-160H400v160Zm0 220h160v-160H400v160ZM180-400h160v-160H180v160Zm440 0h160v-160H620v160ZM180-180h160v-160H180v160Zm440 0h160v-160H620v160Z\"/>\n",
              "  </svg>\n",
              "    </button>\n",
              "\n",
              "  <style>\n",
              "    .colab-df-container {\n",
              "      display:flex;\n",
              "      gap: 12px;\n",
              "    }\n",
              "\n",
              "    .colab-df-convert {\n",
              "      background-color: #E8F0FE;\n",
              "      border: none;\n",
              "      border-radius: 50%;\n",
              "      cursor: pointer;\n",
              "      display: none;\n",
              "      fill: #1967D2;\n",
              "      height: 32px;\n",
              "      padding: 0 0 0 0;\n",
              "      width: 32px;\n",
              "    }\n",
              "\n",
              "    .colab-df-convert:hover {\n",
              "      background-color: #E2EBFA;\n",
              "      box-shadow: 0px 1px 2px rgba(60, 64, 67, 0.3), 0px 1px 3px 1px rgba(60, 64, 67, 0.15);\n",
              "      fill: #174EA6;\n",
              "    }\n",
              "\n",
              "    .colab-df-buttons div {\n",
              "      margin-bottom: 4px;\n",
              "    }\n",
              "\n",
              "    [theme=dark] .colab-df-convert {\n",
              "      background-color: #3B4455;\n",
              "      fill: #D2E3FC;\n",
              "    }\n",
              "\n",
              "    [theme=dark] .colab-df-convert:hover {\n",
              "      background-color: #434B5C;\n",
              "      box-shadow: 0px 1px 3px 1px rgba(0, 0, 0, 0.15);\n",
              "      filter: drop-shadow(0px 1px 2px rgba(0, 0, 0, 0.3));\n",
              "      fill: #FFFFFF;\n",
              "    }\n",
              "  </style>\n",
              "\n",
              "    <script>\n",
              "      const buttonEl =\n",
              "        document.querySelector('#df-e48b163c-f71b-48a4-9b5c-03330015f3bc button.colab-df-convert');\n",
              "      buttonEl.style.display =\n",
              "        google.colab.kernel.accessAllowed ? 'block' : 'none';\n",
              "\n",
              "      async function convertToInteractive(key) {\n",
              "        const element = document.querySelector('#df-e48b163c-f71b-48a4-9b5c-03330015f3bc');\n",
              "        const dataTable =\n",
              "          await google.colab.kernel.invokeFunction('convertToInteractive',\n",
              "                                                    [key], {});\n",
              "        if (!dataTable) return;\n",
              "\n",
              "        const docLinkHtml = 'Like what you see? Visit the ' +\n",
              "          '<a target=\"_blank\" href=https://colab.research.google.com/notebooks/data_table.ipynb>data table notebook</a>'\n",
              "          + ' to learn more about interactive tables.';\n",
              "        element.innerHTML = '';\n",
              "        dataTable['output_type'] = 'display_data';\n",
              "        await google.colab.output.renderOutput(dataTable, element);\n",
              "        const docLink = document.createElement('div');\n",
              "        docLink.innerHTML = docLinkHtml;\n",
              "        element.appendChild(docLink);\n",
              "      }\n",
              "    </script>\n",
              "  </div>\n",
              "\n",
              "\n",
              "<div id=\"df-abb18633-a4a3-475b-8ca2-ed7785f79f3d\">\n",
              "  <button class=\"colab-df-quickchart\" onclick=\"quickchart('df-abb18633-a4a3-475b-8ca2-ed7785f79f3d')\"\n",
              "            title=\"Suggest charts\"\n",
              "            style=\"display:none;\">\n",
              "\n",
              "<svg xmlns=\"http://www.w3.org/2000/svg\" height=\"24px\"viewBox=\"0 0 24 24\"\n",
              "     width=\"24px\">\n",
              "    <g>\n",
              "        <path d=\"M19 3H5c-1.1 0-2 .9-2 2v14c0 1.1.9 2 2 2h14c1.1 0 2-.9 2-2V5c0-1.1-.9-2-2-2zM9 17H7v-7h2v7zm4 0h-2V7h2v10zm4 0h-2v-4h2v4z\"/>\n",
              "    </g>\n",
              "</svg>\n",
              "  </button>\n",
              "\n",
              "<style>\n",
              "  .colab-df-quickchart {\n",
              "      --bg-color: #E8F0FE;\n",
              "      --fill-color: #1967D2;\n",
              "      --hover-bg-color: #E2EBFA;\n",
              "      --hover-fill-color: #174EA6;\n",
              "      --disabled-fill-color: #AAA;\n",
              "      --disabled-bg-color: #DDD;\n",
              "  }\n",
              "\n",
              "  [theme=dark] .colab-df-quickchart {\n",
              "      --bg-color: #3B4455;\n",
              "      --fill-color: #D2E3FC;\n",
              "      --hover-bg-color: #434B5C;\n",
              "      --hover-fill-color: #FFFFFF;\n",
              "      --disabled-bg-color: #3B4455;\n",
              "      --disabled-fill-color: #666;\n",
              "  }\n",
              "\n",
              "  .colab-df-quickchart {\n",
              "    background-color: var(--bg-color);\n",
              "    border: none;\n",
              "    border-radius: 50%;\n",
              "    cursor: pointer;\n",
              "    display: none;\n",
              "    fill: var(--fill-color);\n",
              "    height: 32px;\n",
              "    padding: 0;\n",
              "    width: 32px;\n",
              "  }\n",
              "\n",
              "  .colab-df-quickchart:hover {\n",
              "    background-color: var(--hover-bg-color);\n",
              "    box-shadow: 0 1px 2px rgba(60, 64, 67, 0.3), 0 1px 3px 1px rgba(60, 64, 67, 0.15);\n",
              "    fill: var(--button-hover-fill-color);\n",
              "  }\n",
              "\n",
              "  .colab-df-quickchart-complete:disabled,\n",
              "  .colab-df-quickchart-complete:disabled:hover {\n",
              "    background-color: var(--disabled-bg-color);\n",
              "    fill: var(--disabled-fill-color);\n",
              "    box-shadow: none;\n",
              "  }\n",
              "\n",
              "  .colab-df-spinner {\n",
              "    border: 2px solid var(--fill-color);\n",
              "    border-color: transparent;\n",
              "    border-bottom-color: var(--fill-color);\n",
              "    animation:\n",
              "      spin 1s steps(1) infinite;\n",
              "  }\n",
              "\n",
              "  @keyframes spin {\n",
              "    0% {\n",
              "      border-color: transparent;\n",
              "      border-bottom-color: var(--fill-color);\n",
              "      border-left-color: var(--fill-color);\n",
              "    }\n",
              "    20% {\n",
              "      border-color: transparent;\n",
              "      border-left-color: var(--fill-color);\n",
              "      border-top-color: var(--fill-color);\n",
              "    }\n",
              "    30% {\n",
              "      border-color: transparent;\n",
              "      border-left-color: var(--fill-color);\n",
              "      border-top-color: var(--fill-color);\n",
              "      border-right-color: var(--fill-color);\n",
              "    }\n",
              "    40% {\n",
              "      border-color: transparent;\n",
              "      border-right-color: var(--fill-color);\n",
              "      border-top-color: var(--fill-color);\n",
              "    }\n",
              "    60% {\n",
              "      border-color: transparent;\n",
              "      border-right-color: var(--fill-color);\n",
              "    }\n",
              "    80% {\n",
              "      border-color: transparent;\n",
              "      border-right-color: var(--fill-color);\n",
              "      border-bottom-color: var(--fill-color);\n",
              "    }\n",
              "    90% {\n",
              "      border-color: transparent;\n",
              "      border-bottom-color: var(--fill-color);\n",
              "    }\n",
              "  }\n",
              "</style>\n",
              "\n",
              "  <script>\n",
              "    async function quickchart(key) {\n",
              "      const quickchartButtonEl =\n",
              "        document.querySelector('#' + key + ' button');\n",
              "      quickchartButtonEl.disabled = true;  // To prevent multiple clicks.\n",
              "      quickchartButtonEl.classList.add('colab-df-spinner');\n",
              "      try {\n",
              "        const charts = await google.colab.kernel.invokeFunction(\n",
              "            'suggestCharts', [key], {});\n",
              "      } catch (error) {\n",
              "        console.error('Error during call to suggestCharts:', error);\n",
              "      }\n",
              "      quickchartButtonEl.classList.remove('colab-df-spinner');\n",
              "      quickchartButtonEl.classList.add('colab-df-quickchart-complete');\n",
              "    }\n",
              "    (() => {\n",
              "      let quickchartButtonEl =\n",
              "        document.querySelector('#df-abb18633-a4a3-475b-8ca2-ed7785f79f3d button');\n",
              "      quickchartButtonEl.style.display =\n",
              "        google.colab.kernel.accessAllowed ? 'block' : 'none';\n",
              "    })();\n",
              "  </script>\n",
              "</div>\n",
              "\n",
              "    </div>\n",
              "  </div>\n"
            ],
            "application/vnd.google.colaboratory.intrinsic+json": {
              "type": "dataframe",
              "variable_name": "expanded_movies"
            }
          },
          "metadata": {},
          "execution_count": 27
        }
      ]
    },
    {
      "cell_type": "code",
      "source": [
        "# Get unique genres from the 'genres' column\n",
        "available_genres = expanded_movies['genres'].unique()\n",
        "\n",
        "def recommend_movies_cold(user_genres, movies_df, n=5):\n",
        "    # Filter movies based on user-selected genres\n",
        "    recommended_movies_cold = movies_df[movies_df['genres'].isin(user_genres)]\n",
        "\n",
        "    # Calculate the average rating for each movie\n",
        "    average_ratings = recommended_movies_cold.groupby('title')['rating'].mean().reset_index()\n",
        "\n",
        "    # Filter for movies with an average rating of at least 4.0\n",
        "    recommended_movies_cold = recommended_movies_cold.merge(average_ratings, on='title', suffixes=('', '_avg'))\n",
        "    recommended_movies_cold = recommended_movies_cold[recommended_movies_cold['rating_avg'] >= 4.0]\n",
        "\n",
        "    # Drop duplicates to ensure each movie is suggested only once\n",
        "    recommended_movies_cold = recommended_movies_cold.drop_duplicates(subset='title')\n",
        "\n",
        "    # Sort by average rating and return top N movies\n",
        "    return recommended_movies_cold.sort_values(by='rating_avg', ascending=False).head(n)\n",
        "\n",
        "# Prompt user to select genres\n",
        "print(\"Please select up to 5 genres from the following list:\")\n",
        "for idx, genre in enumerate(available_genres, start=1):\n",
        "    print(f\"{idx}. {genre}\")\n",
        "\n",
        "# Get user input for genre selection\n",
        "user_input = input(\"Enter the numbers of your selected genres separated by commas (e.g., 1, 2, 3): \")\n",
        "selected_indices = [int(x.strip()) for x in user_input.split(',') if x.strip().isdigit()]\n",
        "\n",
        "# Ensure user selects up to 5 genres\n",
        "if len(selected_indices) > 5:\n",
        "    print(\"You can only select up to 5 genres.\")\n",
        "    selected_indices = selected_indices[:5]\n",
        "\n",
        "# Get the selected genres\n",
        "user_selected_genres = [available_genres[i - 1] for i in selected_indices]\n",
        "\n",
        "# Get recommendations based on user-selected genres\n",
        "recommended = recommend_movies_cold(user_selected_genres, expanded_movies)\n",
        "print(recommended[['title', 'genres', 'rating']])"
      ],
      "metadata": {
        "id": "r0PdtUmYluy4",
        "colab": {
          "base_uri": "https://localhost:8080/"
        },
        "outputId": "8ba706d1-707c-4c34-a242-6528c21fde69"
      },
      "execution_count": 28,
      "outputs": [
        {
          "output_type": "stream",
          "name": "stdout",
          "text": [
            "Please select up to 5 genres from the following list:\n",
            "1. Adventure\n",
            "2. Animation\n",
            "3. Children\n",
            "4. Comedy\n",
            "5. Fantasy\n",
            "6. Romance\n",
            "7. Drama\n",
            "8. Action\n",
            "9. Crime\n",
            "10. Thriller\n",
            "11. Horror\n",
            "12. Mystery\n",
            "13. Sci-Fi\n",
            "14. War\n",
            "15. Musical\n",
            "16. Documentary\n",
            "17. IMAX\n",
            "18. Western\n",
            "19. Film-Noir\n",
            "20. (no genres listed)\n",
            "Enter the numbers of your selected genres separated by commas (e.g., 1, 2, 3): 18, 7, 8, 14, 4\n",
            "                                                    title  genres  rating\n",
            "108877       Scooby-Doo! Curse of the Lake Monster (2010)  Comedy     5.0\n",
            "109865              Paper Birds (Pájaros de papel) (2010)  Comedy     5.0\n",
            "110414  Asterix and the Vikings (Astérix et les Viking...  Comedy     5.0\n",
            "110415                              Happy Feet Two (2011)  Comedy     5.0\n",
            "110955                        Dylan Moran: Monster (2004)  Comedy     5.0\n"
          ]
        }
      ]
    },
    {
      "cell_type": "markdown",
      "source": [
        "## Neural Networks"
      ],
      "metadata": {
        "id": "8xnUMSG8U4W5"
      }
    },
    {
      "cell_type": "markdown",
      "source": [
        "I got performance issues for my neural network model, so I'll be dropping any rows where any column has a null value."
      ],
      "metadata": {
        "id": "JAAHoA685fai"
      }
    },
    {
      "cell_type": "code",
      "source": [
        "# Drop any rows with null values in any column\n",
        "movies_ratings_tags = movies_ratings_tags.dropna()"
      ],
      "metadata": {
        "id": "Dp4l_X-T1D1h"
      },
      "execution_count": 29,
      "outputs": []
    },
    {
      "cell_type": "markdown",
      "source": [
        "### Step 1: Data Preparation"
      ],
      "metadata": {
        "id": "FVYEYxBre-z3"
      }
    },
    {
      "cell_type": "markdown",
      "source": [
        "First, we'll preprocess the data to create user-item pairs suitable for training our model."
      ],
      "metadata": {
        "id": "fYL0lALoaZas"
      }
    },
    {
      "cell_type": "code",
      "source": [
        "# Create user-item interaction matrix\n",
        "ratings = movies_ratings_tags[['userId', 'movieId', 'rating']]"
      ],
      "metadata": {
        "id": "rnmd3jcXZpNe"
      },
      "execution_count": 30,
      "outputs": []
    },
    {
      "cell_type": "code",
      "source": [
        "# Create user and movie mappings\n",
        "user_ids = ratings['userId'].unique()\n",
        "movie_ids = ratings['movieId'].unique()"
      ],
      "metadata": {
        "id": "HA-mzR8XaCFS"
      },
      "execution_count": 31,
      "outputs": []
    },
    {
      "cell_type": "code",
      "source": [
        "user_to_index = {user_id: idx for idx, user_id in enumerate(user_ids)}\n",
        "movie_to_index = {movie_id: idx for idx, movie_id in enumerate(movie_ids)}"
      ],
      "metadata": {
        "id": "I0YsBxZYaHlZ"
      },
      "execution_count": 32,
      "outputs": []
    },
    {
      "cell_type": "code",
      "source": [
        "# Convert userId and movieId to indices\n",
        "ratings['userIndex'] = ratings['userId'].map(user_to_index)\n",
        "ratings['movieIndex'] = ratings['movieId'].map(movie_to_index)"
      ],
      "metadata": {
        "id": "FAQjw2B5aL1V"
      },
      "execution_count": 33,
      "outputs": []
    },
    {
      "cell_type": "code",
      "source": [
        "# Split the data into training and test sets\n",
        "train, test = train_test_split(ratings, test_size=0.2, random_state=42)\n",
        "\n",
        "X_train = train[['userIndex', 'movieIndex']]\n",
        "y_train = train['rating']\n",
        "X_test = test[['userIndex', 'movieIndex']]\n",
        "y_test = test['rating']"
      ],
      "metadata": {
        "id": "uSfZQrcqaRch"
      },
      "execution_count": 34,
      "outputs": []
    },
    {
      "cell_type": "markdown",
      "source": [
        "### Step 2: Build the Neural Network"
      ],
      "metadata": {
        "id": "2ZZvYaove2Ms"
      }
    },
    {
      "cell_type": "markdown",
      "source": [
        "Now we can create a simple neural network that learns from user-item interactions."
      ],
      "metadata": {
        "id": "eUoIw9Iza5P4"
      }
    },
    {
      "cell_type": "code",
      "source": [
        "# Define model parameters\n",
        "num_users = len(user_ids)\n",
        "num_movies = len(movie_ids)\n",
        "embedding_size = 50  # Size of the embedding vectors"
      ],
      "metadata": {
        "id": "kMSXDqr6a7qd"
      },
      "execution_count": 35,
      "outputs": []
    },
    {
      "cell_type": "code",
      "source": [
        "from keras.regularizers import l2\n",
        "from keras.layers import Dropout\n",
        "\n",
        "# Define the model architecture\n",
        "user_input = Input(shape=(1,), name='user_input')\n",
        "movie_input = Input(shape=(1,), name='movie_input')"
      ],
      "metadata": {
        "id": "koBaGro_bDG-"
      },
      "execution_count": 36,
      "outputs": []
    },
    {
      "cell_type": "code",
      "source": [
        "user_embedding = Embedding(num_users, embedding_size)(user_input)\n",
        "movie_embedding = Embedding(num_movies, embedding_size)(movie_input)"
      ],
      "metadata": {
        "id": "gzppbvbj01MA"
      },
      "execution_count": 38,
      "outputs": []
    },
    {
      "cell_type": "code",
      "source": [
        "# Flatten the embeddings\n",
        "user_vecs = Flatten()(user_embedding)\n",
        "user_vecs = Dropout(0.5)(user_vecs)  # Add Dropout\n",
        "movie_vecs = Flatten()(movie_embedding)\n",
        "movie_vecs = Dropout(0.5)(movie_vecs)  # Add Dropout"
      ],
      "metadata": {
        "id": "_c6NdkImbJJM"
      },
      "execution_count": 39,
      "outputs": []
    },
    {
      "cell_type": "code",
      "source": [
        "# Compute the dot product of user and movie vectors\n",
        "dot_product = Dot(axes=1)([user_vecs, movie_vecs])"
      ],
      "metadata": {
        "id": "VxEvPvJRbNnk"
      },
      "execution_count": 41,
      "outputs": []
    },
    {
      "cell_type": "code",
      "source": [
        "# Add a Dense layer with L2 regularization\n",
        "output = Dense(1, activation='linear', kernel_regularizer=l2(0.01))(dot_product)"
      ],
      "metadata": {
        "id": "Hi6PItwdbR2V"
      },
      "execution_count": 42,
      "outputs": []
    },
    {
      "cell_type": "code",
      "source": [
        "# Compile the model\n",
        "from keras.callbacks import EarlyStopping\n",
        "model = Model(inputs=[user_input, movie_input], outputs=output)\n",
        "model.compile(optimizer=Adam(learning_rate=0.001), loss='mean_squared_error')\n",
        "\n",
        "# Train the model with early stopping\n",
        "early_stopping = EarlyStopping(monitor='val_loss', patience=3, restore_best_weights=True)\n",
        "model.fit([X_train['userIndex'], X_train['movieIndex']], y_train, epochs=10, batch_size=64,\n",
        "          validation_data=([X_test['userIndex'], X_test['movieIndex']], y_test),\n",
        "          callbacks=[early_stopping])"
      ],
      "metadata": {
        "colab": {
          "base_uri": "https://localhost:8080/"
        },
        "id": "d82JpnHgbV71",
        "outputId": "403d6e55-4771-420d-dbe9-52c926cfa696"
      },
      "execution_count": 44,
      "outputs": [
        {
          "output_type": "stream",
          "name": "stdout",
          "text": [
            "Epoch 1/10\n",
            "\u001b[1m2916/2916\u001b[0m \u001b[32m━━━━━━━━━━━━━━━━━━━━\u001b[0m\u001b[37m\u001b[0m \u001b[1m9s\u001b[0m 2ms/step - loss: 8.4987 - val_loss: 0.8162\n",
            "Epoch 2/10\n",
            "\u001b[1m2916/2916\u001b[0m \u001b[32m━━━━━━━━━━━━━━━━━━━━\u001b[0m\u001b[37m\u001b[0m \u001b[1m12s\u001b[0m 3ms/step - loss: 1.1294 - val_loss: 0.5869\n",
            "Epoch 3/10\n",
            "\u001b[1m2916/2916\u001b[0m \u001b[32m━━━━━━━━━━━━━━━━━━━━\u001b[0m\u001b[37m\u001b[0m \u001b[1m9s\u001b[0m 3ms/step - loss: 0.7325 - val_loss: 0.5012\n",
            "Epoch 4/10\n",
            "\u001b[1m2916/2916\u001b[0m \u001b[32m━━━━━━━━━━━━━━━━━━━━\u001b[0m\u001b[37m\u001b[0m \u001b[1m8s\u001b[0m 3ms/step - loss: 0.5771 - val_loss: 0.4529\n",
            "Epoch 5/10\n",
            "\u001b[1m2916/2916\u001b[0m \u001b[32m━━━━━━━━━━━━━━━━━━━━\u001b[0m\u001b[37m\u001b[0m \u001b[1m11s\u001b[0m 3ms/step - loss: 0.5189 - val_loss: 0.4189\n",
            "Epoch 6/10\n",
            "\u001b[1m2916/2916\u001b[0m \u001b[32m━━━━━━━━━━━━━━━━━━━━\u001b[0m\u001b[37m\u001b[0m \u001b[1m10s\u001b[0m 3ms/step - loss: 0.4901 - val_loss: 0.3954\n",
            "Epoch 7/10\n",
            "\u001b[1m2916/2916\u001b[0m \u001b[32m━━━━━━━━━━━━━━━━━━━━\u001b[0m\u001b[37m\u001b[0m \u001b[1m7s\u001b[0m 3ms/step - loss: 0.4751 - val_loss: 0.3761\n",
            "Epoch 8/10\n",
            "\u001b[1m2916/2916\u001b[0m \u001b[32m━━━━━━━━━━━━━━━━━━━━\u001b[0m\u001b[37m\u001b[0m \u001b[1m9s\u001b[0m 3ms/step - loss: 0.4556 - val_loss: 0.3640\n",
            "Epoch 9/10\n",
            "\u001b[1m2916/2916\u001b[0m \u001b[32m━━━━━━━━━━━━━━━━━━━━\u001b[0m\u001b[37m\u001b[0m \u001b[1m10s\u001b[0m 3ms/step - loss: 0.4479 - val_loss: 0.3489\n",
            "Epoch 10/10\n",
            "\u001b[1m2916/2916\u001b[0m \u001b[32m━━━━━━━━━━━━━━━━━━━━\u001b[0m\u001b[37m\u001b[0m \u001b[1m9s\u001b[0m 3ms/step - loss: 0.4392 - val_loss: 0.3458\n"
          ]
        },
        {
          "output_type": "execute_result",
          "data": {
            "text/plain": [
              "<keras.src.callbacks.history.History at 0x785d1549d8d0>"
            ]
          },
          "metadata": {},
          "execution_count": 44
        }
      ]
    },
    {
      "cell_type": "markdown",
      "source": [
        "### Step 3: Train the Model"
      ],
      "metadata": {
        "id": "JyQzxYvPenm4"
      }
    },
    {
      "cell_type": "markdown",
      "source": [
        "Now, we'll train the model on the training data."
      ],
      "metadata": {
        "id": "GPOUNj_UcFG8"
      }
    },
    {
      "cell_type": "code",
      "source": [
        "# Train the model\n",
        "# model.fit([X_train['userIndex'], X_train['movieIndex']], y_train, epochs=10, batch_size=64, validation_data=([X_test['userIndex'], X_test['movieIndex']], y_test))"
      ],
      "metadata": {
        "id": "XyL5HPehcJXV"
      },
      "execution_count": null,
      "outputs": []
    },
    {
      "cell_type": "code",
      "source": [
        "print(\"Training Data NaNs:\", X_train.isnull().sum().sum(), y_train.isnull().sum())"
      ],
      "metadata": {
        "id": "-tPZUTgS0sXK",
        "outputId": "1102a11e-aa2f-4a89-e506-257728d6c458",
        "colab": {
          "base_uri": "https://localhost:8080/"
        }
      },
      "execution_count": 45,
      "outputs": [
        {
          "output_type": "stream",
          "name": "stdout",
          "text": [
            "Training Data NaNs: 0 0\n"
          ]
        }
      ]
    },
    {
      "cell_type": "code",
      "source": [
        "from sklearn.metrics import mean_squared_error\n",
        "\n",
        "# predictions on the training set\n",
        "y_train_pred = model.predict([X_train['userIndex'].values, X_train['movieIndex'].values])\n",
        "\n",
        "# RMSE for training set\n",
        "train_rmse = np.sqrt(mean_squared_error(y_train, y_train_pred))\n",
        "\n",
        "# predictions on the test set\n",
        "y_pred = model.predict([X_test['userIndex'].values, X_test['movieIndex'].values])\n",
        "\n",
        "# RMSE for test set\n",
        "test_rmse = np.sqrt(mean_squared_error(y_test, y_pred))\n",
        "\n",
        "# Print the RMSE values\n",
        "print(f'Training RMSE: {train_rmse}')\n",
        "print(f'Test RMSE: {test_rmse}')"
      ],
      "metadata": {
        "colab": {
          "base_uri": "https://localhost:8080/"
        },
        "id": "dfZ9Cp3Ttk61",
        "outputId": "de7b8457-65c2-443f-f4f1-562f1baa7267"
      },
      "execution_count": 46,
      "outputs": [
        {
          "output_type": "stream",
          "name": "stdout",
          "text": [
            "\u001b[1m5831/5831\u001b[0m \u001b[32m━━━━━━━━━━━━━━━━━━━━\u001b[0m\u001b[37m\u001b[0m \u001b[1m11s\u001b[0m 2ms/step\n",
            "\u001b[1m1458/1458\u001b[0m \u001b[32m━━━━━━━━━━━━━━━━━━━━\u001b[0m\u001b[37m\u001b[0m \u001b[1m2s\u001b[0m 1ms/step\n",
            "Training RMSE: 0.5529029823294493\n",
            "Test RMSE: 0.5846045896412613\n"
          ]
        }
      ]
    },
    {
      "cell_type": "markdown",
      "source": [
        "### Step 4: Making Recommendations"
      ],
      "metadata": {
        "id": "vST4E1fNfJ_6"
      }
    },
    {
      "cell_type": "markdown",
      "source": [
        "After training, we'll create a function to generate movie recommendations for a specific user based on their ratings."
      ],
      "metadata": {
        "id": "sZHyUJohfPjJ"
      }
    },
    {
      "cell_type": "code",
      "source": [
        "def get_movie_recommendations(user_id, ratings_with_titles, model, n_recommendations=5):\n",
        "    # Get the user's index\n",
        "    user_index = user_to_index[user_id]\n",
        "\n",
        "    # Get all movie indices\n",
        "    all_movie_indices = np.arange(len(movie_ids))\n",
        "\n",
        "    # Predict ratings for all movies\n",
        "    predictions = model.predict([np.full_like(all_movie_indices, user_index), all_movie_indices])\n",
        "    predictions = np.clip(predictions, 0, 5)\n",
        "    print(\"Predictions:\", predictions)  # Check the predictions for NaN values\n",
        "\n",
        "    # Create a DataFrame for the predictions\n",
        "    pred_df = pd.DataFrame({\n",
        "        'movieIndex': all_movie_indices,\n",
        "        'predicted_rating': predictions.flatten()\n",
        "    })\n",
        "\n",
        "    # Create a mapping of movieIndex to movieId\n",
        "    movie_index_to_id = {idx: movie_id for movie_id, idx in movie_to_index.items()}\n",
        "    pred_df['movieId'] = pred_df['movieIndex'].map(movie_index_to_id)\n",
        "\n",
        "    # Merge with the original ratings to get movie titles\n",
        "    recommended_movies = pred_df.merge(movies_ratings_tags[['movieId', 'title']].drop_duplicates(), on='movieId', how='left')\n",
        "\n",
        "    # Sort by predicted rating and get the top N recommendations\n",
        "    top_recommendations = recommended_movies.sort_values(by='predicted_rating', ascending=False).head(n_recommendations)\n",
        "\n",
        "    return top_recommendations[['title', 'predicted_rating']]\n",
        "\n",
        "# Usage\n",
        "user_id = 55  # user ID\n",
        "recommended_movies = get_movie_recommendations(user_id, movies_ratings_tags, model)\n",
        "print(\"Recommended Movies:\")\n",
        "print(recommended_movies)"
      ],
      "metadata": {
        "colab": {
          "base_uri": "https://localhost:8080/"
        },
        "id": "LMw5BwSOfa0Y",
        "outputId": "4e05f094-10d7-4467-f63c-ab553bb7685f"
      },
      "execution_count": 47,
      "outputs": [
        {
          "output_type": "stream",
          "name": "stdout",
          "text": [
            "\u001b[1m49/49\u001b[0m \u001b[32m━━━━━━━━━━━━━━━━━━━━\u001b[0m\u001b[37m\u001b[0m \u001b[1m0s\u001b[0m 1ms/step\n",
            "Predictions: [[4.202398 ]\n",
            " [3.9912138]\n",
            " [3.8484793]\n",
            " ...\n",
            " [4.566294 ]\n",
            " [4.26     ]\n",
            " [3.6155093]]\n",
            "Recommended Movies:\n",
            "                                     title  predicted_rating\n",
            "824                            More (1998)               5.0\n",
            "709    Guess Who's Coming to Dinner (1967)               5.0\n",
            "134                    Blade Runner (1982)               5.0\n",
            "1542  Black Mirror: White Christmas (2014)               5.0\n",
            "206           2001: A Space Odyssey (1968)               5.0\n"
          ]
        }
      ]
    }
  ],
  "metadata": {
    "kernelspec": {
      "display_name": "learn-env",
      "language": "python",
      "name": "python3"
    },
    "language_info": {
      "codemirror_mode": {
        "name": "ipython",
        "version": 3
      },
      "file_extension": ".py",
      "mimetype": "text/x-python",
      "name": "python",
      "nbconvert_exporter": "python",
      "pygments_lexer": "ipython3",
      "version": "3.10.14"
    },
    "colab": {
      "provenance": [],
      "include_colab_link": true
    }
  },
  "nbformat": 4,
  "nbformat_minor": 0
}
>>>>>>> c0dc565d43c2f9db6227d8363679d0453c1f0578
