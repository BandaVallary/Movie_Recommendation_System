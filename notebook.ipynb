{
  "cells": [
    {
      "cell_type": "markdown",
      "metadata": {
        "id": "view-in-github",
        "colab_type": "text"
      },
      "source": [
        "<a href=\"https://colab.research.google.com/github/BandaVallary/Movie_Recommendation_System/blob/kelvin/notebook.ipynb\" target=\"_parent\"><img src=\"https://colab.research.google.com/assets/colab-badge.svg\" alt=\"Open In Colab\"/></a>"
      ]
    },
    {
      "cell_type": "markdown",
      "metadata": {
        "id": "wFoeZuR6p4N1"
      },
      "source": [
        "# Movie Recommendation System"
      ]
    },
    {
      "cell_type": "markdown",
      "metadata": {
        "id": "4LStIpYEp4N3"
      },
      "source": [
        "![\"Image of Donald Draper in a Movie Theater\"](https://github.com/BandaVallary/Movie_Recommendation_System/blob/kelvin/images/dondraperinmovietheater.jpg?raw=1)"
      ]
    },
    {
      "cell_type": "markdown",
      "metadata": {
        "id": "lj7PA39cp4N4"
      },
      "source": [
        "## Overview"
      ]
    },
    {
      "cell_type": "markdown",
      "metadata": {
        "id": "AjW0pm7_p4N5"
      },
      "source": [
        "This project aims to develop a recommendation system that provides personalized movie recommendations based on user ratings. Utilizing the [MovieLens dataset](https://web.archive.org/web/20240828133414/https://grouplens.org/datasets/movielens/latest/) from the GroupLens research lab at the University of Minnesota, the model will be trained on a subset of the dataset containing 100,000 user ratings. The primary objective is to build a machine learning model that can accurately recommend the top 5 movies to a user, based on their ratings of other movies. This system can be valuable for streaming platforms and movie enthusiasts, offering tailored movie suggestions to enhance user experience and engagement.\n",
        "\n",
        "The project will involve several steps, including data cleaning, exploratory data analysis, feature engineering, model selection, and evaluation.\n",
        "\n",
        "Throughout this project, we will also explore the relationships between different variables and their impact on movie recommendations. This will help us gain insights into user preferences and identify potential areas for improvement. Overall, this project has the potential to provide valuable insights and practical applications for the entertainment industry. By developing a recommendation system that can accurately suggest movies, streaming platforms can better engage their users, improve customer satisfaction, and increase viewership."
      ]
    },
    {
      "cell_type": "markdown",
      "metadata": {
        "id": "JDeHSVfGp4N6"
      },
      "source": [
        "## Business Understanding"
      ]
    },
    {
      "cell_type": "markdown",
      "metadata": {
        "id": "NWxuwoaBp4N7"
      },
      "source": [
        "The entertainment industry, particularly streaming platforms, is highly competitive, with companies constantly striving to enhance user engagement and satisfaction. One of the major challenges faced by these platforms is providing personalized content recommendations that keep users engaged and reduce churn rates.\n",
        "\n",
        "According to recent studies, personalized recommendations can significantly increase user engagement and satisfaction, leading to higher retention rates and increased viewership. This highlights the need for a robust recommendation system that can accurately suggest movies based on user preferences. By building a recommendation system that can provide top 5 movie recommendations to users based on their ratings of other movies, streaming platforms can offer a more tailored viewing experience.\n",
        "\n",
        "The business value of this project lies in its ability to help streaming platforms improve their content recommendation strategies, increase user satisfaction, and reduce churn rates. By developing a recommendation system that can accurately suggest movies, platforms can better engage their users, leading to increased viewership and subscription renewals. This can provide a competitive edge in the highly competitive entertainment industry, ultimately driving revenue growth and customer loyalty."
      ]
    },
    {
      "cell_type": "code",
      "source": [
        "!pip install scikit-surprise"
      ],
      "metadata": {
        "colab": {
          "base_uri": "https://localhost:8080/"
        },
        "id": "9QKSmyNiqABo",
        "outputId": "c78f5f52-2ff6-4509-c821-f2c2624e4074"
      },
      "execution_count": 1,
      "outputs": [
        {
          "output_type": "stream",
          "name": "stdout",
          "text": [
            "Collecting scikit-surprise\n",
            "  Downloading scikit_surprise-1.1.4.tar.gz (154 kB)\n",
            "\u001b[?25l     \u001b[90m━━━━━━━━━━━━━━━━━━━━━━━━━━━━━━━━━━━━━━━━\u001b[0m \u001b[32m0.0/154.4 kB\u001b[0m \u001b[31m?\u001b[0m eta \u001b[36m-:--:--\u001b[0m\r\u001b[2K     \u001b[90m━━━━━━━━━━━━━━━━━━━━━━━━━━━━━━━━━━━━━━━━\u001b[0m \u001b[32m154.4/154.4 kB\u001b[0m \u001b[31m5.0 MB/s\u001b[0m eta \u001b[36m0:00:00\u001b[0m\n",
            "\u001b[?25h  Installing build dependencies ... \u001b[?25l\u001b[?25hdone\n",
            "  Getting requirements to build wheel ... \u001b[?25l\u001b[?25hdone\n",
            "  Preparing metadata (pyproject.toml) ... \u001b[?25l\u001b[?25hdone\n",
            "Requirement already satisfied: joblib>=1.2.0 in /usr/local/lib/python3.10/dist-packages (from scikit-surprise) (1.4.2)\n",
            "Requirement already satisfied: numpy>=1.19.5 in /usr/local/lib/python3.10/dist-packages (from scikit-surprise) (1.26.4)\n",
            "Requirement already satisfied: scipy>=1.6.0 in /usr/local/lib/python3.10/dist-packages (from scikit-surprise) (1.13.1)\n",
            "Building wheels for collected packages: scikit-surprise\n",
            "  Building wheel for scikit-surprise (pyproject.toml) ... \u001b[?25l\u001b[?25hdone\n",
            "  Created wheel for scikit-surprise: filename=scikit_surprise-1.1.4-cp310-cp310-linux_x86_64.whl size=2357285 sha256=108ee347388497528d225e6e2b7284299874c7397e7d8ac329a1a5415bea1ae6\n",
            "  Stored in directory: /root/.cache/pip/wheels/4b/3f/df/6acbf0a40397d9bf3ff97f582cc22fb9ce66adde75bc71fd54\n",
            "Successfully built scikit-surprise\n",
            "Installing collected packages: scikit-surprise\n",
            "Successfully installed scikit-surprise-1.1.4\n"
          ]
        }
      ]
    },
    {
      "cell_type": "code",
      "execution_count": 2,
      "metadata": {
        "id": "gntIigRVp4N8"
      },
      "outputs": [],
      "source": [
        "# Importing libraries\n",
        "import pandas as pd\n",
        "import numpy as np\n",
        "import matplotlib.pyplot as plt\n",
        "import seaborn as sns\n",
        "import warnings\n",
        "warnings.filterwarnings('ignore')\n",
        "%matplotlib inline\n",
        "sns.set_style('whitegrid')\n",
        "\n",
        "from surprise.model_selection import cross_validate\n",
        "from surprise.prediction_algorithms import SVD\n",
        "from surprise.prediction_algorithms import KNNWithMeans, KNNBasic, KNNBaseline\n",
        "from surprise.model_selection import GridSearchCV\n",
        "from surprise import Reader, Dataset"
      ]
    },
    {
      "cell_type": "markdown",
      "metadata": {
        "id": "yFoMCqqbp4N9"
      },
      "source": [
        "## Reading the Data"
      ]
    },
    {
      "cell_type": "code",
      "execution_count": 3,
      "metadata": {
        "id": "1hUpnwrUp4N-"
      },
      "outputs": [],
      "source": [
        "# Loading the data\n",
        "movies = pd.read_csv('/content/movies.csv')\n",
        "ratings = pd.read_csv('/content/ratings.csv')\n",
        "tags = pd.read_csv('/content/tags.csv')"
      ]
    },
    {
      "cell_type": "markdown",
      "metadata": {
        "id": "D25vNyX0p4N-"
      },
      "source": [
        "## Tidying the data (ratings df)\n",
        "\n",
        "1. Check data types and figure out which figures are numerical and which are categorical.\n",
        "2. Check for null values.\n",
        "3. Check for duplicate values"
      ]
    },
    {
      "cell_type": "markdown",
      "metadata": {
        "id": "Ou09pjcnp4N_"
      },
      "source": [
        "I check for null values in the dataset. There are none."
      ]
    },
    {
      "cell_type": "code",
      "execution_count": 4,
      "metadata": {
        "colab": {
          "base_uri": "https://localhost:8080/",
          "height": 209
        },
        "id": "0XWl_SXrp4N_",
        "outputId": "5e6ed3bf-3c54-46ab-ada1-3b20d64be2c9"
      },
      "outputs": [
        {
          "output_type": "execute_result",
          "data": {
            "text/plain": [
              "userId       0\n",
              "movieId      0\n",
              "rating       0\n",
              "timestamp    0\n",
              "dtype: int64"
            ],
            "text/html": [
              "<div>\n",
              "<style scoped>\n",
              "    .dataframe tbody tr th:only-of-type {\n",
              "        vertical-align: middle;\n",
              "    }\n",
              "\n",
              "    .dataframe tbody tr th {\n",
              "        vertical-align: top;\n",
              "    }\n",
              "\n",
              "    .dataframe thead th {\n",
              "        text-align: right;\n",
              "    }\n",
              "</style>\n",
              "<table border=\"1\" class=\"dataframe\">\n",
              "  <thead>\n",
              "    <tr style=\"text-align: right;\">\n",
              "      <th></th>\n",
              "      <th>0</th>\n",
              "    </tr>\n",
              "  </thead>\n",
              "  <tbody>\n",
              "    <tr>\n",
              "      <th>userId</th>\n",
              "      <td>0</td>\n",
              "    </tr>\n",
              "    <tr>\n",
              "      <th>movieId</th>\n",
              "      <td>0</td>\n",
              "    </tr>\n",
              "    <tr>\n",
              "      <th>rating</th>\n",
              "      <td>0</td>\n",
              "    </tr>\n",
              "    <tr>\n",
              "      <th>timestamp</th>\n",
              "      <td>0</td>\n",
              "    </tr>\n",
              "  </tbody>\n",
              "</table>\n",
              "</div><br><label><b>dtype:</b> int64</label>"
            ]
          },
          "metadata": {},
          "execution_count": 4
        }
      ],
      "source": [
        "# checking for null values\n",
        "ratings.isnull().sum()"
      ]
    },
    {
      "cell_type": "markdown",
      "metadata": {
        "id": "QOsoqj-Xp4OA"
      },
      "source": [
        "I then check for duplicates. There are none."
      ]
    },
    {
      "cell_type": "code",
      "execution_count": 5,
      "metadata": {
        "colab": {
          "base_uri": "https://localhost:8080/"
        },
        "id": "tn9SPwF8p4OB",
        "outputId": "e4c49861-ee5a-4066-e5a3-7901c7bca674"
      },
      "outputs": [
        {
          "output_type": "execute_result",
          "data": {
            "text/plain": [
              "0"
            ]
          },
          "metadata": {},
          "execution_count": 5
        }
      ],
      "source": [
        "# check for duplicates\n",
        "ratings.duplicated().sum()"
      ]
    },
    {
      "cell_type": "code",
      "execution_count": 6,
      "metadata": {
        "colab": {
          "base_uri": "https://localhost:8080/",
          "height": 209
        },
        "id": "DgeLcZDFp4OC",
        "outputId": "4eca5c5b-8304-4f50-910b-7df4e82b6fa8"
      },
      "outputs": [
        {
          "output_type": "execute_result",
          "data": {
            "text/plain": [
              "userId         int64\n",
              "movieId        int64\n",
              "rating       float64\n",
              "timestamp      int64\n",
              "dtype: object"
            ],
            "text/html": [
              "<div>\n",
              "<style scoped>\n",
              "    .dataframe tbody tr th:only-of-type {\n",
              "        vertical-align: middle;\n",
              "    }\n",
              "\n",
              "    .dataframe tbody tr th {\n",
              "        vertical-align: top;\n",
              "    }\n",
              "\n",
              "    .dataframe thead th {\n",
              "        text-align: right;\n",
              "    }\n",
              "</style>\n",
              "<table border=\"1\" class=\"dataframe\">\n",
              "  <thead>\n",
              "    <tr style=\"text-align: right;\">\n",
              "      <th></th>\n",
              "      <th>0</th>\n",
              "    </tr>\n",
              "  </thead>\n",
              "  <tbody>\n",
              "    <tr>\n",
              "      <th>userId</th>\n",
              "      <td>int64</td>\n",
              "    </tr>\n",
              "    <tr>\n",
              "      <th>movieId</th>\n",
              "      <td>int64</td>\n",
              "    </tr>\n",
              "    <tr>\n",
              "      <th>rating</th>\n",
              "      <td>float64</td>\n",
              "    </tr>\n",
              "    <tr>\n",
              "      <th>timestamp</th>\n",
              "      <td>int64</td>\n",
              "    </tr>\n",
              "  </tbody>\n",
              "</table>\n",
              "</div><br><label><b>dtype:</b> object</label>"
            ]
          },
          "metadata": {},
          "execution_count": 6
        }
      ],
      "source": [
        "# check data types\n",
        "ratings.dtypes"
      ]
    },
    {
      "cell_type": "code",
      "execution_count": 7,
      "metadata": {
        "id": "3eHYMnvpp4OD"
      },
      "outputs": [],
      "source": [
        "# Drop the timestamp column\n",
        "ratings.drop('timestamp', axis=1, inplace=True)"
      ]
    },
    {
      "cell_type": "markdown",
      "metadata": {
        "id": "9Wp1rLInp4OD"
      },
      "source": [
        "Now, I'll add the `title` column from the `movies` dataframe to the `ratings` dataframe based on the common `movieId` column."
      ]
    },
    {
      "cell_type": "code",
      "execution_count": 8,
      "metadata": {
        "id": "WuRJm5qUp4OE"
      },
      "outputs": [],
      "source": [
        "# extracting the title from the `movies` df based on the `movieId`\n",
        "ratings_with_titles = ratings.merge(movies[['movieId', 'title']], on='movieId', how='left')"
      ]
    },
    {
      "cell_type": "markdown",
      "metadata": {
        "id": "1q3_t04Vp4OE"
      },
      "source": [
        "I'm starting with the `ratings_with_titles` df for my basic recommendation model because it contains key user-item interactions, which are essential for collaborative filtering. This dataframe shows which users rated which movies and their ratings, allowing me to identify patterns in preferences.\n",
        "\n",
        "I'll use collaborative filtering, focusing on either:\n",
        "\n",
        "- User-Based: Recommending movies based on the preferences of similar users.\n",
        "- Item-Based: Suggesting movies based on similarities between items that users have liked.\n",
        "\n",
        "Using `ratings_with_titles` gives me a solid foundation for identifying these relationships, and I can later integrate `movies` and `tags` dataframes for more nuanced recommendations."
      ]
    },
    {
      "cell_type": "markdown",
      "metadata": {
        "id": "0IaCwcO_p4OE"
      },
      "source": [
        "Now, I'll create a scikit surprise dataset from the `ratings` dataframe."
      ]
    },
    {
      "cell_type": "code",
      "execution_count": 9,
      "metadata": {
        "id": "Z11ZRQSOp4OF"
      },
      "outputs": [],
      "source": [
        "# reading the values as scikit surprise dataset\n",
        "reader = Reader(rating_scale=(0.5, 5.0))\n",
        "data = Dataset.load_from_df(ratings[['userId', 'movieId', 'rating']], reader)\n",
        "trainset = data.build_full_trainset()"
      ]
    },
    {
      "cell_type": "code",
      "execution_count": 10,
      "metadata": {
        "id": "lTLE2rctp4OF"
      },
      "outputs": [],
      "source": [
        "# parameter grid for SVD\n",
        "param_grid = {\n",
        "    'n_factors': [50, 100],\n",
        "    'n_epochs': [20, 30],\n",
        "    'lr_all': [0.002, 0.005],\n",
        "    'reg_all': [0.4, 0.6]\n",
        "}"
      ]
    },
    {
      "cell_type": "code",
      "execution_count": 11,
      "metadata": {
        "colab": {
          "base_uri": "https://localhost:8080/"
        },
        "id": "_b5JItz1p4OG",
        "outputId": "a4110539-59f5-4b51-c2df-1c1fd6616c06"
      },
      "outputs": [
        {
          "output_type": "stream",
          "name": "stderr",
          "text": [
            "[Parallel(n_jobs=-1)]: Using backend LokyBackend with 2 concurrent workers.\n",
            "[Parallel(n_jobs=-1)]: Done  14 tasks      | elapsed:   16.1s\n",
            "[Parallel(n_jobs=-1)]: Done  48 out of  48 | elapsed:  1.2min finished\n"
          ]
        }
      ],
      "source": [
        "# create the grid search object\n",
        "gs = GridSearchCV(SVD, param_grid, measures=['rmse', 'mae'], cv=3, joblib_verbose=5, n_jobs=-1)\n",
        "gs.fit(data)"
      ]
    },
    {
      "cell_type": "code",
      "execution_count": 12,
      "metadata": {
        "colab": {
          "base_uri": "https://localhost:8080/"
        },
        "id": "_qtgxVbwp4OG",
        "outputId": "59a61af3-d721-4ac8-cc76-c4b18708004a"
      },
      "outputs": [
        {
          "output_type": "stream",
          "name": "stdout",
          "text": [
            "{'rmse': 0.8832232231822413, 'mae': 0.6819510821231104}\n",
            "{'rmse': {'n_factors': 100, 'n_epochs': 30, 'lr_all': 0.005, 'reg_all': 0.4}, 'mae': {'n_factors': 50, 'n_epochs': 30, 'lr_all': 0.005, 'reg_all': 0.4}}\n"
          ]
        }
      ],
      "source": [
        "# Get the best parameters\n",
        "print(gs.best_score)\n",
        "print(gs.best_params)"
      ]
    },
    {
      "cell_type": "code",
      "execution_count": 13,
      "metadata": {
        "colab": {
          "base_uri": "https://localhost:8080/"
        },
        "id": "SaeILlkJp4OH",
        "outputId": "5e25f6af-fa40-4406-d5c2-560fff72ebbe"
      },
      "outputs": [
        {
          "output_type": "stream",
          "name": "stdout",
          "text": [
            "Best RMSE: 0.911896603762361\n",
            "Best MAE: 0.7015670915719848\n",
            "Best Parameters: {'k': 60, 'min_k': 3, 'sim_options': {'name': 'msd', 'user_based': False}}\n"
          ]
        }
      ],
      "source": [
        "# Cross validation with KNNBasic\n",
        "# Parameter grid for KNNBasic\n",
        "param_grid = {\n",
        "    'k': [20, 40, 60],\n",
        "    'min_k': [1, 2, 3],\n",
        "    'sim_options': {\n",
        "        'name': ['cosine', 'msd', 'pearson'],\n",
        "        'user_based': [True, False]\n",
        "    }\n",
        "}\n",
        "\n",
        "# Create the grid search object\n",
        "gs = GridSearchCV(KNNBasic, param_grid, measures=['rmse', 'mae'], cv=3, n_jobs=-1)\n",
        "\n",
        "# Fit the data\n",
        "gs.fit(data)\n",
        "\n",
        "# Get the best parameters and scores\n",
        "print(\"Best RMSE:\", gs.best_score['rmse'])\n",
        "print(\"Best MAE:\", gs.best_score['mae'])\n",
        "print(\"Best Parameters:\", gs.best_params['rmse'])"
      ]
    },
    {
      "cell_type": "code",
      "source": [
        "# These 2 code cells run faster than the cell above\n",
        "\n",
        "# Cross validation with KNNBasic\n",
        "# knn_basic = KNNBasic(sim_options={'name':'msd', 'user_based':True})\n",
        "# cv_knn_basic = cross_validate(knn_basic, data, n_jobs=-1)\n",
        "\n",
        "# and this\n",
        "# Average RMSE\n",
        "# for i in cv_knn_basic.items():\n",
        "#     print(i)\n",
        "# print('-----------------------')\n",
        "# print(np.mean(cv_knn_basic['test_rmse']))"
      ],
      "metadata": {
        "id": "hhW_lM2szXzP"
      },
      "execution_count": null,
      "outputs": []
    },
    {
      "cell_type": "code",
      "source": [
        "knn_baseline = KNNBaseline(sim_options={'name':'msd', 'user_based':True})\n",
        "cv_knn_baseline = cross_validate(knn_baseline,data)"
      ],
      "metadata": {
        "colab": {
          "base_uri": "https://localhost:8080/"
        },
        "id": "cx3rNldT0kak",
        "outputId": "0e877674-7153-430d-8d4e-0f458ebc7b3f"
      },
      "execution_count": 14,
      "outputs": [
        {
          "output_type": "stream",
          "name": "stdout",
          "text": [
            "Estimating biases using als...\n",
            "Computing the msd similarity matrix...\n",
            "Done computing similarity matrix.\n",
            "Estimating biases using als...\n",
            "Computing the msd similarity matrix...\n",
            "Done computing similarity matrix.\n",
            "Estimating biases using als...\n",
            "Computing the msd similarity matrix...\n",
            "Done computing similarity matrix.\n",
            "Estimating biases using als...\n",
            "Computing the msd similarity matrix...\n",
            "Done computing similarity matrix.\n",
            "Estimating biases using als...\n",
            "Computing the msd similarity matrix...\n",
            "Done computing similarity matrix.\n"
          ]
        }
      ]
    },
    {
      "cell_type": "code",
      "source": [
        "# print out the average score for the test set\n",
        "for i in cv_knn_baseline.items():\n",
        "    print(i)\n",
        "\n",
        "np.mean(cv_knn_baseline['test_rmse'])"
      ],
      "metadata": {
        "colab": {
          "base_uri": "https://localhost:8080/"
        },
        "id": "CDF4VQmO0xdr",
        "outputId": "35a780b0-8f5c-45f5-9b5f-85aaa2945111"
      },
      "execution_count": 15,
      "outputs": [
        {
          "output_type": "stream",
          "name": "stdout",
          "text": [
            "('test_rmse', array([0.86838897, 0.8743995 , 0.87395655, 0.87986647, 0.87772064]))\n",
            "('test_mae', array([0.66583368, 0.66692234, 0.6666763 , 0.67208715, 0.67123229]))\n",
            "('fit_time', (0.4953958988189697, 0.506843090057373, 0.6363141536712646, 0.5877864360809326, 0.7318387031555176))\n",
            "('test_time', (1.6529743671417236, 1.9040241241455078, 1.8497533798217773, 2.914185047149658, 1.791175127029419))\n"
          ]
        },
        {
          "output_type": "execute_result",
          "data": {
            "text/plain": [
              "0.8748664254069236"
            ]
          },
          "metadata": {},
          "execution_count": 15
        }
      ]
    },
    {
      "cell_type": "markdown",
      "source": [
        "Based off these outputs, it seems like the best performing model is the SVD model with n_factors = 100 and a regularization rate of 0.4."
      ],
      "metadata": {
        "id": "zGS_Lj752YmU"
      }
    },
    {
      "cell_type": "markdown",
      "source": [
        "Next, I'll create a `get_movie_recommendations` function that is designed to enhance the user experience by allowing users to provide ratings for a selection of movies they've seen. It prompts users to rate five randomly chosen movies on a scale of 0.5 to 5. If a user hasn't watched a particular movie, they can simply enter 'n' to skip it.\n",
        "\n",
        "After collecting the ratings, the function uses a trained recommendation model to predict ratings for all movies in the dataset. It then adjusts the predicted ratings based on the user's inputs and recommends the top movies tailored to their preferences. This approach ensures that users receive personalized suggestions that align with their tastes."
      ],
      "metadata": {
        "id": "-z0DAkIIk1fY"
      }
    },
    {
      "cell_type": "code",
      "source": [
        "def get_movie_recommendations(user_id, ratings_with_titles, model, n_recommendations=5):\n",
        "    # Prepare a sample of movies to prompt the user\n",
        "    sample_movies = ratings_with_titles.sample(n=5)\n",
        "    print(\"Please rate the following movies on a scale of 0.5 to 5 (or enter 'n' to skip):\")\n",
        "\n",
        "    user_ratings = {}\n",
        "\n",
        "    for index, row in sample_movies.iterrows():\n",
        "        title = row['title']\n",
        "        # Prompt user for rating\n",
        "        rating_input = input(f\"Rate '{title}': \")\n",
        "\n",
        "        if rating_input.lower() == 'n':\n",
        "            continue  # Skip this movie if the user hasn't seen it\n",
        "\n",
        "        try:\n",
        "            rating = float(rating_input)\n",
        "            user_ratings[row['movieId']] = rating\n",
        "        except ValueError:\n",
        "            print(\"Invalid input. Please enter a number between 0.5 and 5 or 'n' to skip.\")\n",
        "\n",
        "    # Get predictions for all movies\n",
        "    all_movie_ids = ratings_with_titles['movieId'].unique()\n",
        "    predictions = []\n",
        "\n",
        "    for movie_id in all_movie_ids:\n",
        "        # Use the model to predict the rating\n",
        "        pred_rating = model.predict(user_id, movie_id).est\n",
        "\n",
        "        # If the user rated this movie, adjust the prediction based on their rating\n",
        "        if movie_id in user_ratings:\n",
        "            adjusted_rating = (pred_rating + user_ratings[movie_id]) / 2\n",
        "        else:\n",
        "            adjusted_rating = pred_rating\n",
        "\n",
        "        predictions.append((movie_id, adjusted_rating))\n",
        "\n",
        "    # Sort predictions by adjusted rating\n",
        "    predictions.sort(key=lambda x: x[1], reverse=True)\n",
        "\n",
        "    # Recommend top N movies\n",
        "    recommended_movies = predictions[:n_recommendations]\n",
        "\n",
        "    # Convert movie IDs to titles\n",
        "    recommended_titles = ratings_with_titles[ratings_with_titles['movieId'].isin([m[0] for m in recommended_movies])]\n",
        "\n",
        "    return recommended_titles[['title', 'movieId']]\n",
        "\n",
        "# Usage\n",
        "user_id = 55  # user ID\n",
        "best_model = gs.best_estimator['rmse']  # or 'mae'\n",
        "best_model.fit(trainset)\n",
        "recommended_movies = get_movie_recommendations(user_id, ratings_with_titles, best_model)\n",
        "print(\"Recommended Movies:\")\n",
        "print(recommended_movies)"
      ],
      "metadata": {
        "colab": {
          "base_uri": "https://localhost:8080/",
          "height": 479
        },
        "id": "jdsNKFNABVD4",
        "outputId": "f0b0d073-0a93-4491-e65f-0147f34f14f3"
      },
      "execution_count": 16,
      "outputs": [
        {
          "name": "stdout",
          "output_type": "stream",
          "text": [
            "Please rate the following movies on a scale of 0.5 to 5 (or enter 'n' to skip):\n",
            "Rate 'Django Unchained (2012)': 4.2\n",
            "Rate 'Just Like Heaven (2005)': 4.0\n",
            "Rate 'Snatch (2000)': 3.9\n",
            "Rate 'Star Trek: First Contact (1996)': 4.2\n",
            "Rate 'Spider-Man (2002)': 3.8\n"
          ]
        },
        {
          "output_type": "error",
          "ename": "AttributeError",
          "evalue": "'KNNBasic' object has no attribute 'trainset'",
          "traceback": [
            "\u001b[0;31m---------------------------------------------------------------------------\u001b[0m",
            "\u001b[0;31mAttributeError\u001b[0m                            Traceback (most recent call last)",
            "\u001b[0;32m<ipython-input-16-caad0bf21849>\u001b[0m in \u001b[0;36m<cell line: 52>\u001b[0;34m()\u001b[0m\n\u001b[1;32m     50\u001b[0m \u001b[0muser_id\u001b[0m \u001b[0;34m=\u001b[0m \u001b[0;36m55\u001b[0m  \u001b[0;31m# user ID\u001b[0m\u001b[0;34m\u001b[0m\u001b[0;34m\u001b[0m\u001b[0m\n\u001b[1;32m     51\u001b[0m \u001b[0mbest_model\u001b[0m \u001b[0;34m=\u001b[0m \u001b[0mgs\u001b[0m\u001b[0;34m.\u001b[0m\u001b[0mbest_estimator\u001b[0m\u001b[0;34m[\u001b[0m\u001b[0;34m'rmse'\u001b[0m\u001b[0;34m]\u001b[0m  \u001b[0;31m# or 'mae'\u001b[0m\u001b[0;34m\u001b[0m\u001b[0;34m\u001b[0m\u001b[0m\n\u001b[0;32m---> 52\u001b[0;31m \u001b[0mrecommended_movies\u001b[0m \u001b[0;34m=\u001b[0m \u001b[0mget_movie_recommendations\u001b[0m\u001b[0;34m(\u001b[0m\u001b[0muser_id\u001b[0m\u001b[0;34m,\u001b[0m \u001b[0mratings_with_titles\u001b[0m\u001b[0;34m,\u001b[0m \u001b[0mbest_model\u001b[0m\u001b[0;34m)\u001b[0m\u001b[0;34m\u001b[0m\u001b[0;34m\u001b[0m\u001b[0m\n\u001b[0m\u001b[1;32m     53\u001b[0m \u001b[0mprint\u001b[0m\u001b[0;34m(\u001b[0m\u001b[0;34m\"Recommended Movies:\"\u001b[0m\u001b[0;34m)\u001b[0m\u001b[0;34m\u001b[0m\u001b[0;34m\u001b[0m\u001b[0m\n\u001b[1;32m     54\u001b[0m \u001b[0mprint\u001b[0m\u001b[0;34m(\u001b[0m\u001b[0mrecommended_movies\u001b[0m\u001b[0;34m)\u001b[0m\u001b[0;34m\u001b[0m\u001b[0;34m\u001b[0m\u001b[0m\n",
            "\u001b[0;32m<ipython-input-16-caad0bf21849>\u001b[0m in \u001b[0;36mget_movie_recommendations\u001b[0;34m(user_id, ratings_with_titles, model, n_recommendations)\u001b[0m\n\u001b[1;32m     26\u001b[0m     \u001b[0;32mfor\u001b[0m \u001b[0mmovie_id\u001b[0m \u001b[0;32min\u001b[0m \u001b[0mall_movie_ids\u001b[0m\u001b[0;34m:\u001b[0m\u001b[0;34m\u001b[0m\u001b[0;34m\u001b[0m\u001b[0m\n\u001b[1;32m     27\u001b[0m         \u001b[0;31m# Use the model to predict the rating\u001b[0m\u001b[0;34m\u001b[0m\u001b[0;34m\u001b[0m\u001b[0m\n\u001b[0;32m---> 28\u001b[0;31m         \u001b[0mpred_rating\u001b[0m \u001b[0;34m=\u001b[0m \u001b[0mmodel\u001b[0m\u001b[0;34m.\u001b[0m\u001b[0mpredict\u001b[0m\u001b[0;34m(\u001b[0m\u001b[0muser_id\u001b[0m\u001b[0;34m,\u001b[0m \u001b[0mmovie_id\u001b[0m\u001b[0;34m)\u001b[0m\u001b[0;34m.\u001b[0m\u001b[0mest\u001b[0m\u001b[0;34m\u001b[0m\u001b[0;34m\u001b[0m\u001b[0m\n\u001b[0m\u001b[1;32m     29\u001b[0m \u001b[0;34m\u001b[0m\u001b[0m\n\u001b[1;32m     30\u001b[0m         \u001b[0;31m# If the user rated this movie, adjust the prediction based on their rating\u001b[0m\u001b[0;34m\u001b[0m\u001b[0;34m\u001b[0m\u001b[0m\n",
            "\u001b[0;32m/usr/local/lib/python3.10/dist-packages/surprise/prediction_algorithms/algo_base.py\u001b[0m in \u001b[0;36mpredict\u001b[0;34m(self, uid, iid, r_ui, clip, verbose)\u001b[0m\n\u001b[1;32m     90\u001b[0m         \u001b[0;31m# Convert raw ids to inner ids\u001b[0m\u001b[0;34m\u001b[0m\u001b[0;34m\u001b[0m\u001b[0m\n\u001b[1;32m     91\u001b[0m         \u001b[0;32mtry\u001b[0m\u001b[0;34m:\u001b[0m\u001b[0;34m\u001b[0m\u001b[0;34m\u001b[0m\u001b[0m\n\u001b[0;32m---> 92\u001b[0;31m             \u001b[0miuid\u001b[0m \u001b[0;34m=\u001b[0m \u001b[0mself\u001b[0m\u001b[0;34m.\u001b[0m\u001b[0mtrainset\u001b[0m\u001b[0;34m.\u001b[0m\u001b[0mto_inner_uid\u001b[0m\u001b[0;34m(\u001b[0m\u001b[0muid\u001b[0m\u001b[0;34m)\u001b[0m\u001b[0;34m\u001b[0m\u001b[0;34m\u001b[0m\u001b[0m\n\u001b[0m\u001b[1;32m     93\u001b[0m         \u001b[0;32mexcept\u001b[0m \u001b[0mValueError\u001b[0m\u001b[0;34m:\u001b[0m\u001b[0;34m\u001b[0m\u001b[0;34m\u001b[0m\u001b[0m\n\u001b[1;32m     94\u001b[0m             \u001b[0miuid\u001b[0m \u001b[0;34m=\u001b[0m \u001b[0;34m\"UKN__\"\u001b[0m \u001b[0;34m+\u001b[0m \u001b[0mstr\u001b[0m\u001b[0;34m(\u001b[0m\u001b[0muid\u001b[0m\u001b[0;34m)\u001b[0m\u001b[0;34m\u001b[0m\u001b[0;34m\u001b[0m\u001b[0m\n",
            "\u001b[0;31mAttributeError\u001b[0m: 'KNNBasic' object has no attribute 'trainset'"
          ]
        }
      ]
    }
  ],
  "metadata": {
    "kernelspec": {
      "display_name": "learn-env",
      "language": "python",
      "name": "python3"
    },
    "language_info": {
      "codemirror_mode": {
        "name": "ipython",
        "version": 3
      },
      "file_extension": ".py",
      "mimetype": "text/x-python",
      "name": "python",
      "nbconvert_exporter": "python",
      "pygments_lexer": "ipython3",
      "version": "3.10.14"
    },
    "colab": {
      "provenance": [],
      "include_colab_link": true
    }
  },
  "nbformat": 4,
  "nbformat_minor": 0
}